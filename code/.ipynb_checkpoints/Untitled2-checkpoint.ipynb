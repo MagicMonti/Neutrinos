{
 "cells": [
  {
   "cell_type": "code",
   "execution_count": 1,
   "id": "9d0bfa7c",
   "metadata": {},
   "outputs": [
    {
     "data": {
      "text/markdown": [
       "${}\\text{Property Indices(position=free) attached to}\\left[\\alpha, \\beta, \\delta, \\rho, \\sigma, \\tau, \\mu, \\nu, \\lambda\\right].$"
      ]
     },
     "metadata": {},
     "output_type": "display_data"
    }
   ],
   "source": [
    "{\\alpha, \\beta, \\delta, \\rho, \\sigma, \\tau, \\mu, \\nu , \\lambda}::Indices(values={t,x,y,z});"
   ]
  },
  {
   "cell_type": "code",
   "execution_count": 2,
   "id": "3ba96ba0",
   "metadata": {},
   "outputs": [
    {
     "data": {
      "text/markdown": [
       "${}\\text{Property Metric attached to}\\eta_{a b}.$"
      ]
     },
     "metadata": {},
     "output_type": "display_data"
    },
    {
     "data": {
      "text/markdown": [
       "${}\\text{Property TableauSymmetry attached to}\\eta^{a b}.$"
      ]
     },
     "metadata": {},
     "output_type": "display_data"
    },
    {
     "data": {
      "text/markdown": [
       "${}\\text{Property KroneckerDelta attached to}\\eta_{a}\\,^{b}.$"
      ]
     },
     "metadata": {},
     "output_type": "display_data"
    }
   ],
   "source": [
    "\\eta_{a b}::Metric;\n",
    "\\eta^{a b}::InverseMetric;\n",
    "\\eta_{a}^{b}::KroneckerDelta;"
   ]
  },
  {
   "cell_type": "code",
   "execution_count": 4,
   "id": "953b05ad",
   "metadata": {},
   "outputs": [
    {
     "data": {
      "text/markdown": [
       "${}\\Gamma^{\\mu}\\,_{\\nu \\alpha} \\rightarrow \\frac{1}{2}i \\eta^{\\mu \\beta} \\left(-h_{\\nu \\alpha} k_{\\beta}+h_{\\nu \\beta} k_{\\alpha}+h_{\\beta \\alpha} k_{\\nu}\\right) \\exp\\left(i k_{\\lambda} x^{\\lambda}\\right)$"
      ]
     },
     "metadata": {},
     "output_type": "display_data"
    }
   ],
   "source": [
    "Gamma := \\Gamma^{\\mu}_{\\nu \\alpha} -> i/2 \\eta^{\\mu \\beta}  (-h_{\\nu \\alpha} k_{\\beta}+h_{\\nu \\beta} k_{\\alpha}+h_{\\beta \\alpha} k_{\\nu})  \\exp(i k_{\\lambda} x^{\\lambda});"
   ]
  },
  {
   "cell_type": "code",
   "execution_count": null,
   "id": "da767f19",
   "metadata": {},
   "outputs": [],
   "source": [
    "Riemann := R^{\\rho}_{\\sigma \\mu \\nu} -> \\eta^{\\rho \\beta}(k_\\mu (k_\\beta h_{\\nu \\sigma} - h_{\\nu \\beta}  k_\\sigma) - k_\\nu( k_\\beta h_{\\mu \\sigma} - h_{\\mu \\beta}  k_\\sigma)) e^(i k_{\\lambda} x^{\\lambda});"
   ]
  }
 ],
 "metadata": {
  "kernelspec": {
   "display_name": "Cadabra2",
   "language": "python",
   "name": "cadabra2"
  },
  "language_info": {
   "codemirror_mode": "cadabra",
   "file_extension": ".ipynb",
   "mimetype": "text/cadabra",
   "name": "cadabra2",
   "pygments_lexer": "cadabra"
  }
 },
 "nbformat": 4,
 "nbformat_minor": 5
}
