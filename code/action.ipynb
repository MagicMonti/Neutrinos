{
 "cells": [
  {
   "cell_type": "code",
   "execution_count": 9,
   "metadata": {},
   "outputs": [],
   "source": [
    "from sympy import *\n",
    "from sympy.physics.hep.gamma_matrices import GammaMatrix as G, LorentzIndex, gamma_trace\n",
    "from sympy.tensor.tensor import tensor_indices\n",
    "from sympy.physics.hep.gamma_matrices import kahane_simplify\n",
    "from sympy.physics.matrices import mgamma\n",
    "from einsteinpy.symbolic import Schwarzschild, ChristoffelSymbols, RiemannCurvatureTensor, Tensor, BaseRelativityTensor, GenericVector, MetricTensor\n",
    "from einsteinpy.symbolic.tensor import tensor_product\n",
    "import numpy as np\n",
    "\n",
    "init_printing(use_unicode=True)\n",
    "t,x,y,z,a = symbols(\"t x y z a\")\n",
    "u_t, u_x, u_y, u_z = symbols(\"u_t u_x u_y u_z\")\n"
   ]
  },
  {
   "cell_type": "code",
   "execution_count": 4,
   "metadata": {},
   "outputs": [
    {
     "data": {
      "text/latex": [
       "$\\displaystyle \\left[\\begin{matrix}1 & 0 & 0 & 0\\\\0 & - 2 a y - 1 & 0 & 0\\\\0 & 0 & -1 & 0\\\\0 & 0 & 0 & -1\\end{matrix}\\right]$"
      ],
      "text/plain": [
       "⎡1      0       0   0 ⎤\n",
       "⎢                     ⎥\n",
       "⎢0  -2⋅a⋅y - 1  0   0 ⎥\n",
       "⎢                     ⎥\n",
       "⎢0      0       -1  0 ⎥\n",
       "⎢                     ⎥\n",
       "⎣0      0       0   -1⎦"
      ]
     },
     "execution_count": 4,
     "metadata": {},
     "output_type": "execute_result"
    }
   ],
   "source": [
    "g = Matrix([[1,0,0,0],[0,-(1+2*a*y),0,0],[0,0,-1,0],[0,0,0,-1]])\n",
    "g"
   ]
  },
  {
   "cell_type": "code",
   "execution_count": 7,
   "metadata": {},
   "outputs": [
    {
     "data": {
      "text/latex": [
       "$\\displaystyle \\left[\\begin{matrix}\\left[\\begin{matrix}0 & 0 & 0 & 0\\\\0 & 0 & 0 & 0\\\\0 & 0 & 0 & 0\\\\0 & 0 & 0 & 0\\end{matrix}\\right] & \\left[\\begin{matrix}0 & 0 & 0 & 0\\\\0 & 0 & \\frac{a}{2 a y + 1} & 0\\\\0 & \\frac{a}{2 a y + 1} & 0 & 0\\\\0 & 0 & 0 & 0\\end{matrix}\\right] & \\left[\\begin{matrix}0 & 0 & 0 & 0\\\\0 & - a & 0 & 0\\\\0 & 0 & 0 & 0\\\\0 & 0 & 0 & 0\\end{matrix}\\right] & \\left[\\begin{matrix}0 & 0 & 0 & 0\\\\0 & 0 & 0 & 0\\\\0 & 0 & 0 & 0\\\\0 & 0 & 0 & 0\\end{matrix}\\right]\\end{matrix}\\right]$"
      ],
      "text/plain": [
       "⎡              ⎡0      0          0      0⎤                             ⎤\n",
       "⎢              ⎢                          ⎥                             ⎥\n",
       "⎢⎡0  0  0  0⎤  ⎢                  a       ⎥  ⎡0  0   0  0⎤  ⎡0  0  0  0⎤⎥\n",
       "⎢⎢          ⎥  ⎢0      0      ─────────  0⎥  ⎢           ⎥  ⎢          ⎥⎥\n",
       "⎢⎢0  0  0  0⎥  ⎢              2⋅a⋅y + 1   ⎥  ⎢0  -a  0  0⎥  ⎢0  0  0  0⎥⎥\n",
       "⎢⎢          ⎥  ⎢                          ⎥  ⎢           ⎥  ⎢          ⎥⎥\n",
       "⎢⎢0  0  0  0⎥  ⎢       a                  ⎥  ⎢0  0   0  0⎥  ⎢0  0  0  0⎥⎥\n",
       "⎢⎢          ⎥  ⎢0  ─────────      0      0⎥  ⎢           ⎥  ⎢          ⎥⎥\n",
       "⎢⎣0  0  0  0⎦  ⎢   2⋅a⋅y + 1              ⎥  ⎣0  0   0  0⎦  ⎣0  0  0  0⎦⎥\n",
       "⎢              ⎢                          ⎥                             ⎥\n",
       "⎣              ⎣0      0          0      0⎦                             ⎦"
      ]
     },
     "execution_count": 7,
     "metadata": {},
     "output_type": "execute_result"
    }
   ],
   "source": [
    "\n",
    "\n",
    "g_ = MetricTensor(g.tolist(),syms=[t,x,y,z], config='ll', name=\"hyperbolic-metric\") \n",
    "ch = ChristoffelSymbols.from_metric(g_)\n",
    "ch = ch.change_config(\"ull\")\n",
    "simplify(ch.tensor())"
   ]
  },
  {
   "cell_type": "code",
   "execution_count": 10,
   "metadata": {},
   "outputs": [
    {
     "data": {
      "text/latex": [
       "$\\displaystyle \\left[\\begin{matrix}u_{t} & u_{x} & u_{y} & u_{z}\\end{matrix}\\right]$"
      ],
      "text/plain": [
       "[uₜ  uₓ  u_y  u_z]"
      ]
     },
     "execution_count": 10,
     "metadata": {},
     "output_type": "execute_result"
    }
   ],
   "source": [
    "u = GenericVector([u_t, u_x, u_y, u_z],syms=[t,x,y,z], config='u', name=\"velocity\", parent_metric=g_)\n",
    "u.tensor()"
   ]
  },
  {
   "cell_type": "code",
   "execution_count": 11,
   "metadata": {},
   "outputs": [
    {
     "name": "stdout",
     "output_type": "stream",
     "text": [
      "[0, -2*a*u_x*u_y/(2*a*y + 1), a*u_x**2, 0]\n"
     ]
    }
   ],
   "source": [
    "du_dtau =  tensor_product(tensor_product(ch.change_config('ull'),u.change_config('u'), 1,0), u.change_config('u'),1,0)\n",
    "print(simplify(du_dtau.tensor()*(-1)))"
   ]
  }
 ],
 "metadata": {
  "kernelspec": {
   "display_name": "Python 3",
   "language": "python",
   "name": "python3"
  },
  "language_info": {
   "codemirror_mode": {
    "name": "ipython",
    "version": 3
   },
   "file_extension": ".py",
   "mimetype": "text/x-python",
   "name": "python",
   "nbconvert_exporter": "python",
   "pygments_lexer": "ipython3",
   "version": "3.10.13 (main, Nov 10 2011, 15:00:00) [GCC 12.2.0]"
  },
  "vscode": {
   "interpreter": {
    "hash": "d2152fd7f0bbc62aa1baff8c990435d1e2c7175d001561303988032604c11a48"
   }
  }
 },
 "nbformat": 4,
 "nbformat_minor": 2
}
