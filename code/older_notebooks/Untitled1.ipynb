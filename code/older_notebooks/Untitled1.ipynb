{
 "cells": [
  {
   "cell_type": "code",
   "execution_count": 12,
   "id": "beeca71f",
   "metadata": {},
   "outputs": [
    {
     "data": {
      "text/markdown": [
       "${}\\text{Property Indices(position=free) attached to}\\left[a, b, c, d, e, f, h, i, j, k, l, m, n, o, p, q, r, s, t, u\\right].$"
      ]
     },
     "metadata": {},
     "output_type": "display_data"
    },
    {
     "data": {
      "text/markdown": [
       "${}\\left[h_{t t} = 0, h_{x x} = C_{11}, h_{y y} = -C_{11}, h_{x y} = C_{12}, h_{t x} = 0, h_{t y} = 0, h_{z t} = 0, h_{z x} = 0, h_{z y} = 0, h_{z z} = 0\\right]$"
      ]
     },
     "metadata": {},
     "output_type": "display_data"
    }
   ],
   "source": [
    "{a,b,c,d,e,f,h,i,j,k,l,m,n,o,p,q,r,s,t,u}::Indices(values={t,x,y,z});\n",
    "h := {h_{t t}= 0, h_{x x}=C_{11}, h_{y y}=-C_{11}, h_{x y}=C_{12}, h_{t x}=0, h_{t y}=0, h_{z t}=0, h_{z x}=0, h_{z y}=0 , h_{z z}=0};"
   ]
  },
  {
   "cell_type": "code",
   "execution_count": 13,
   "id": "231487ac",
   "metadata": {},
   "outputs": [
    {
     "data": {
      "text/markdown": [
       "${}\\text{Property Metric attached to}\\eta_{a b}.$"
      ]
     },
     "metadata": {},
     "output_type": "display_data"
    },
    {
     "data": {
      "text/markdown": [
       "${}\\text{Property TableauSymmetry attached to}\\eta^{a b}.$"
      ]
     },
     "metadata": {},
     "output_type": "display_data"
    }
   ],
   "source": [
    "\\eta_{a b}::Metric(signature=1);\n",
    "\\eta^{a b}::InverseMetric;"
   ]
  },
  {
   "cell_type": "code",
   "execution_count": 14,
   "id": "a2ecf091",
   "metadata": {},
   "outputs": [
    {
     "data": {
      "text/markdown": [
       "${}\\text{Property Symmetric attached to}h_{a b}.$"
      ]
     },
     "metadata": {},
     "output_type": "display_data"
    }
   ],
   "source": [
    "h_{a b}::Symmetric;"
   ]
  },
  {
   "cell_type": "code",
   "execution_count": 15,
   "id": "c3eddf68",
   "metadata": {},
   "outputs": [
    {
     "data": {
      "text/markdown": [
       "${}h_{a b} \\eta^{a c} \\eta^{b d} h_{c d}$"
      ]
     },
     "metadata": {},
     "output_type": "display_data"
    }
   ],
   "source": [
    "expr := h_{a b} \\eta^{a c} \\eta^{b d} h_{c d};"
   ]
  },
  {
   "cell_type": "code",
   "execution_count": 16,
   "id": "b36a4ad8",
   "metadata": {},
   "outputs": [
    {
     "name": "stderr",
     "output_type": "stream",
     "text": [
      "Traceback (most recent call last):\n",
      "  File \"/usr/local/lib/python3.10/site-packages/cadabra2_jupyter/kernel.py\", line 54, in do_execute\n",
      "    self._execute_python(pycode)\n",
      "  File \"/usr/local/lib/python3.10/site-packages/cadabra2_jupyter/kernel.py\", line 108, in _execute_python\n",
      "    self._sandbox_context(pycode)\n",
      "  File \"/usr/local/lib/python3.10/site-packages/cadabra2_jupyter/context.py\", line 51, in __call__\n",
      "    exec(code, self._sandbox)\n",
      "  File \"<string>\", line 1, in <module>\n",
      "RuntimeError: Double index pair t inside a single factor found.\n"
     ]
    }
   ],
   "source": [
    "evaluate(expr, h)"
   ]
  }
 ],
 "metadata": {
  "kernelspec": {
   "display_name": "Cadabra2",
   "language": "python",
   "name": "cadabra2"
  },
  "language_info": {
   "codemirror_mode": "cadabra",
   "file_extension": ".ipynb",
   "mimetype": "text/cadabra",
   "name": "cadabra2",
   "pygments_lexer": "cadabra"
  }
 },
 "nbformat": 4,
 "nbformat_minor": 5
}
