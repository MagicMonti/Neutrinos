{
 "cells": [
  {
   "cell_type": "code",
   "execution_count": 539,
   "metadata": {},
   "outputs": [
    {
     "data": {
      "image/png": "[encoded data removed]",
      "text/latex": [
       "$\\displaystyle \\left( f, \\  r, \\  \\theta, \\  \\phi, \\  \\hbar\\right)$"
      ],
      "text/plain": [
       "(f, r, θ, φ, h̅)"
      ]
     },
     "execution_count": 539,
     "metadata": {},
     "output_type": "execute_result"
    }
   ],
   "source": [
    "from sympy import *\n",
    "from sympy.physics.hep.gamma_matrices import GammaMatrix as G, LorentzIndex, gamma_trace\n",
    "from sympy.tensor.tensor import tensor_indices\n",
    "from sympy.physics.hep.gamma_matrices import kahane_simplify\n",
    "from sympy.physics.matrices import mgamma\n",
    "from einsteinpy.symbolic.predefined import Schwarzschild \n",
    "from einsteinpy.symbolic import ChristoffelSymbols, RiemannCurvatureTensor, Tensor, BaseRelativityTensor, GenericVector, MetricTensor\n",
    "from sympy.tensor.toperators import PartialDerivative\n",
    "from sympy.tensor.tensor import TensorIndexType, TensorIndex, TensorHead, tensor_indices\n",
    "import numpy as np\n",
    "from fractions import Fraction\n",
    "\n",
    "#i,j = tensor_indices('i,j', LorentzIndex)\n",
    "init_printing(use_unicode=True)\n",
    "f, theta, phi, u_0, t, c, hbar, m_ = symbols(\"f theta phi u_0 t c hbar m\", real=True)\n",
    "\n",
    "\n",
    "r = symbols(\"r\", positive=True)\n",
    "r_s,M ,R= symbols(\"r_s M R\")\n",
    "u_t , u_r , u_theta, u_phi = symbols(\"u_t u_r u_\\\\theta u_\\phi\", cls=Function)\n",
    "\n",
    "Lorentz = TensorIndexType('Lorentz', dummy_name='Lorentz')\n",
    "Global = TensorIndexType('Global', dummy_name='Global')\n",
    "Fermi = TensorIndexType('Fermi', dummy_name='Fermi')\n",
    "Dirac = TensorIndexType('Dirac', dummy_name=\"Dirac\")\n",
    "\n",
    "#a, b, c, d = tensor_indices('a b c d', Lorentz)\n",
    "alpha, beta, mu, nu, rho= tensor_indices('alpha beta mu nu rho', Global)\n",
    "i,j,k,l,m = tensor_indices(\"i j k l m\", Fermi)\n",
    "A,B,C,D,E = tensor_indices(\"A B C D E\", Dirac)\n",
    "\n",
    "f,r,theta, phi, hbar"
   ]
  },
  {
   "cell_type": "code",
   "execution_count": 544,
   "metadata": {},
   "outputs": [
    {
     "data": {
      "text/latex": [
       "$\\displaystyle \\left[\\begin{matrix}\\left[\\begin{matrix}0 & - \\frac{r_{s}}{2 r^{2} \\left(-1 + \\frac{r_{s}}{r}\\right)} & 0 & 0\\\\- \\frac{r_{s}}{2 r^{2} \\left(-1 + \\frac{r_{s}}{r}\\right)} & 0 & 0 & 0\\\\0 & 0 & 0 & 0\\\\0 & 0 & 0 & 0\\end{matrix}\\right] & \\left[\\begin{matrix}\\frac{r_{s} \\left(\\frac{1}{2} - \\frac{r_{s}}{2 r}\\right)}{r^{2}} & 0 & 0 & 0\\\\0 & - \\frac{r_{s} \\left(\\frac{1}{2} - \\frac{r_{s}}{2 r}\\right)}{r^{2} \\left(1 - \\frac{r_{s}}{r}\\right)^{2}} & 0 & 0\\\\0 & 0 & - 2 r \\left(\\frac{1}{2} - \\frac{r_{s}}{2 r}\\right) & 0\\\\0 & 0 & 0 & - 2 r \\left(\\frac{1}{2} - \\frac{r_{s}}{2 r}\\right) \\sin^{2}{\\left(\\theta \\right)}\\end{matrix}\\right] & \\left[\\begin{matrix}0 & 0 & 0 & 0\\\\0 & 0 & \\frac{1}{r} & 0\\\\0 & \\frac{1}{r} & 0 & 0\\\\0 & 0 & 0 & - \\sin{\\left(\\theta \\right)} \\cos{\\left(\\theta \\right)}\\end{matrix}\\right] & \\left[\\begin{matrix}0 & 0 & 0 & 0\\\\0 & 0 & 0 & \\frac{1}{r}\\\\0 & 0 & 0 & \\frac{\\cos{\\left(\\theta \\right)}}{\\sin{\\left(\\theta \\right)}}\\\\0 & \\frac{1}{r} & \\frac{\\cos{\\left(\\theta \\right)}}{\\sin{\\left(\\theta \\right)}} & 0\\end{matrix}\\right]\\end{matrix}\\right]$"
      ],
      "text/plain": [
       "⎡                                        ⎡   ⎛1    rₛ⎞                        \n",
       "⎢                                        ⎢rₛ⋅⎜─ - ───⎟                        \n",
       "⎢                                        ⎢   ⎝2   2⋅r⎠                        \n",
       "⎢                                        ⎢────────────        0               \n",
       "⎢⎡                     -rₛ            ⎤  ⎢      2                             \n",
       "⎢⎢      0         ──────────────  0  0⎥  ⎢     r                              \n",
       "⎢⎢                   2 ⎛     rₛ⎞      ⎥  ⎢                                    \n",
       "⎢⎢                2⋅r ⋅⎜-1 + ──⎟      ⎥  ⎢                  ⎛1    rₛ⎞         \n",
       "⎢⎢                     ⎝     r ⎠      ⎥  ⎢              -rₛ⋅⎜─ - ───⎟         \n",
       "⎢⎢                                    ⎥  ⎢                  ⎝2   2⋅r⎠         \n",
       "⎢⎢     -rₛ                            ⎥  ⎢     0        ──────────────        \n",
       "⎢⎢──────────────        0         0  0⎥  ⎢                          2         \n",
       "⎢⎢   2 ⎛     rₛ⎞                      ⎥  ⎢                2 ⎛    rₛ⎞          \n",
       "⎢⎢2⋅r ⋅⎜-1 + ──⎟                      ⎥  ⎢               r ⋅⎜1 - ──⎟          \n",
       "⎢⎢     ⎝     r ⎠                      ⎥  ⎢                  ⎝    r ⎠          \n",
       "⎢⎢                                    ⎥  ⎢                                    \n",
       "⎢⎢      0               0         0  0⎥  ⎢                                   ⎛\n",
       "⎢⎢                                    ⎥  ⎢     0              0         -2⋅r⋅⎜\n",
       "⎢⎣      0               0         0  0⎦  ⎢                                   ⎝\n",
       "⎢                                        ⎢                                    \n",
       "⎢                                        ⎢                                    \n",
       "⎢                                        ⎢     0              0               \n",
       "⎣                                        ⎣                                    \n",
       "\n",
       "                                ⎤                                             \n",
       "                                ⎥                                             \n",
       "                                ⎥                                             \n",
       "0                   0           ⎥                                             \n",
       "                                ⎥                                             \n",
       "                                ⎥                             ⎡0  0    0      \n",
       "                                ⎥  ⎡0  0  0        0       ⎤  ⎢               \n",
       "                                ⎥  ⎢                       ⎥  ⎢               \n",
       "                                ⎥  ⎢      1                ⎥  ⎢0  0    0      \n",
       "                                ⎥  ⎢0  0  ─        0       ⎥  ⎢               \n",
       "0                   0           ⎥  ⎢      r                ⎥  ⎢               \n",
       "                                ⎥  ⎢                       ⎥  ⎢              c\n",
       "                                ⎥  ⎢   1                   ⎥  ⎢0  0    0     ─\n",
       "                                ⎥  ⎢0  ─  0        0       ⎥  ⎢              s\n",
       "                                ⎥  ⎢   r                   ⎥  ⎢               \n",
       "                                ⎥  ⎢                       ⎥  ⎢   1  cos(θ)   \n",
       "1    rₛ⎞                        ⎥  ⎣0  0  0  -sin(θ)⋅cos(θ)⎦  ⎢0  ─  ──────   \n",
       "─ - ───⎟            0           ⎥                             ⎣   r  sin(θ)   \n",
       "2   2⋅r⎠                        ⎥                                             \n",
       "                                ⎥                                             \n",
       "               ⎛1    rₛ⎞    2   ⎥                                             \n",
       "0         -2⋅r⋅⎜─ - ───⎟⋅sin (θ)⎥                                             \n",
       "               ⎝2   2⋅r⎠        ⎦                                             \n",
       "\n",
       "      ⎤\n",
       "      ⎥\n",
       "      ⎥\n",
       "      ⎥\n",
       "      ⎥\n",
       " 0   ⎤⎥\n",
       "     ⎥⎥\n",
       " 1   ⎥⎥\n",
       " ─   ⎥⎥\n",
       " r   ⎥⎥\n",
       "     ⎥⎥\n",
       "os(θ)⎥⎥\n",
       "─────⎥⎥\n",
       "in(θ)⎥⎥\n",
       "     ⎥⎥\n",
       "     ⎥⎥\n",
       " 0   ⎥⎥\n",
       "     ⎦⎥\n",
       "      ⎥\n",
       "      ⎥\n",
       "      ⎥\n",
       "      ⎥\n",
       "      ⎦"
      ]
     },
     "execution_count": 544,
     "metadata": {},
     "output_type": "execute_result"
    }
   ],
   "source": [
    "f = (1-r_s/r)\n",
    "g_t = -f\n",
    "g_r = 1/f\n",
    "g_theta = r**2\n",
    "g_phi = r**2 * sin(theta)**2\n",
    "\n",
    "g = Matrix([[g_t, 0,0,0],[0,g_r,0,0],[0,0,g_theta,0],[0,0,0,g_phi]])\n",
    "g_ = MetricTensor(g.tolist(),syms=[t,r,theta,phi], config='ll', name=\"ss-metric\") \n",
    "ch = ChristoffelSymbols.from_metric(g_)\n",
    "ch = ch.change_config(\"ull\")\n",
    "ch.tensor()"
   ]
  },
  {
   "cell_type": "code",
   "execution_count": null,
   "metadata": {},
   "outputs": [
    {
     "data": {
      "text/latex": [
       "$\\displaystyle \\left[\\begin{matrix}0 & 0 & 0 & 0\\\\0 & 0 & 0 & 0\\\\0 & 0 & 0 & r^{3} \\sin{\\left(\\theta \\right)}\\\\0 & 0 & - r^{3} \\sin{\\left(\\theta \\right)} & 0\\end{matrix}\\right]$"
      ],
      "text/plain": [
       "⎡0  0      0           0    ⎤\n",
       "⎢                           ⎥\n",
       "⎢0  0      0           0    ⎥\n",
       "⎢                           ⎥\n",
       "⎢                   3       ⎥\n",
       "⎢0  0      0       r ⋅sin(θ)⎥\n",
       "⎢                           ⎥\n",
       "⎢        3                  ⎥\n",
       "⎣0  0  -r ⋅sin(θ)      0    ⎦"
      ]
     },
     "execution_count": 386,
     "metadata": {},
     "output_type": "execute_result"
    }
   ],
   "source": [
    "#defining Killing-Yano tensor \"Matrix\"\n",
    "\n",
    "f_ = Matrix(\n",
    "    [\n",
    "        [0,0,0,0],\n",
    "        [0,0,0,0],\n",
    "        [0,0,0,r**3 *sin(theta) ],\n",
    "        [0,0,-r**3 * sin(theta),0]])\n",
    "f_"
   ]
  },
  {
   "cell_type": "code",
   "execution_count": null,
   "metadata": {},
   "outputs": [],
   "source": [
    "#from matrix to tensors\n",
    "\n",
    "eta = Matrix([[-1,0,0,0],[0,1,0,0],[0,0,1,0],[0,0,0,1]])\n",
    "\n",
    "repl = {}\n",
    "repl[Lorentz] = eta.tolist()\n",
    "repl[Global] = g_.tensor().tolist()\n",
    "repl[Fermi] = eta.tolist() #this only correct along the geodesic\n",
    "\n",
    "Gamma = TensorHead('Gamma', [Global, Global, Global]) #the christoffel symbol\n",
    "minkowski_m = TensorHead('eta', [Lorentz, Lorentz])\n",
    "schwarzschild_m = TensorHead('g', [Global, Global])\n",
    "KY = TensorHead(\"f\", [Global, Global]) #Killin-Yano tensor\n",
    "x = TensorHead('x', [Global])\n",
    "\n",
    "repl[x(mu)] = [t, r, theta, phi]\n",
    "repl[minkowski_m(-a, -b)] = eta.tolist()\n",
    "repl[schwarzschild_m(-mu, -nu)] = g_.tensor().tolist()\n",
    "repl[Gamma(alpha, -mu, -nu)] = ch.tensor().tolist()\n",
    "repl[KY(-alpha, -beta)] = f_.tolist()\n"
   ]
  },
  {
   "attachments": {},
   "cell_type": "markdown",
   "metadata": {},
   "source": [
    "# verifying Killing-eq\n",
    "\n",
    "$$\\nabla_{\\rho} f_{\\mu \\nu} + \\nabla_{\\nu} f_{\\mu \\rho} = 0$$\n",
    "$$\\partial_{\\rho} f_{\\mu \\nu} + \\partial_{\\nu} f_{\\mu \\rho} - \\Gamma^\\alpha_{\\rho \\mu}f_{\\alpha \\nu} - \\Gamma^\\alpha_{\\nu \\mu}f_{\\alpha \\rho} - 2*\\Gamma^\\alpha_{\\rho \\nu}f_{\\mu \\alpha} = 0$$"
   ]
  },
  {
   "cell_type": "code",
   "execution_count": null,
   "metadata": {},
   "outputs": [
    {
     "data": {
      "text/latex": [
       "$\\displaystyle \\left[\\begin{matrix}\\left[\\begin{matrix}0 & 0 & 0 & 0\\\\0 & 0 & 0 & 0\\\\0 & 0 & 0 & 0\\\\0 & 0 & 0 & 0\\end{matrix}\\right] & \\left[\\begin{matrix}0 & 0 & 0 & 0\\\\0 & 0 & 0 & 0\\\\0 & 0 & 0 & 0\\\\0 & 0 & 0 & 0\\end{matrix}\\right] & \\left[\\begin{matrix}0 & 0 & 0 & 0\\\\0 & 0 & 0 & 0\\\\0 & 0 & 0 & 0\\\\0 & 0 & 0 & 0\\end{matrix}\\right] & \\left[\\begin{matrix}0 & 0 & 0 & 0\\\\0 & 0 & 0 & 0\\\\0 & 0 & 0 & 0\\\\0 & 0 & 0 & 0\\end{matrix}\\right]\\end{matrix}\\right]$"
      ],
      "text/plain": [
       "⎡⎡0  0  0  0⎤  ⎡0  0  0  0⎤  ⎡0  0  0  0⎤  ⎡0  0  0  0⎤⎤\n",
       "⎢⎢          ⎥  ⎢          ⎥  ⎢          ⎥  ⎢          ⎥⎥\n",
       "⎢⎢0  0  0  0⎥  ⎢0  0  0  0⎥  ⎢0  0  0  0⎥  ⎢0  0  0  0⎥⎥\n",
       "⎢⎢          ⎥  ⎢          ⎥  ⎢          ⎥  ⎢          ⎥⎥\n",
       "⎢⎢0  0  0  0⎥  ⎢0  0  0  0⎥  ⎢0  0  0  0⎥  ⎢0  0  0  0⎥⎥\n",
       "⎢⎢          ⎥  ⎢          ⎥  ⎢          ⎥  ⎢          ⎥⎥\n",
       "⎣⎣0  0  0  0⎦  ⎣0  0  0  0⎦  ⎣0  0  0  0⎦  ⎣0  0  0  0⎦⎦"
      ]
     },
     "execution_count": 389,
     "metadata": {},
     "output_type": "execute_result"
    }
   ],
   "source": [
    "Keq = PartialDerivative(KY(-mu, -nu), x(rho)) + PartialDerivative(KY(-mu, -rho), x(nu)) - Gamma(alpha,-rho,-mu)*KY(-alpha,-nu) - Gamma(alpha, -nu, -mu)*KY(-alpha, -rho) + 2*Gamma(alpha,-rho,-nu)*KY(-alpha,-mu) \n",
    "simplify(Keq.replace_with_arrays(repl, Keq.get_free_indices()))"
   ]
  },
  {
   "attachments": {},
   "cell_type": "markdown",
   "metadata": {},
   "source": [
    "# finding first tetraed\n",
    "\n",
    "$L^\\mu = f^\\mu_{\\ \\ \\ \\nu} u^\\nu$"
   ]
  },
  {
   "cell_type": "code",
   "execution_count": null,
   "metadata": {},
   "outputs": [
    {
     "name": "stderr",
     "output_type": "stream",
     "text": [
      "/tmp/ipykernel_1552/1227335532.py:8: SymPyDeprecationWarning: \n",
      "\n",
      "Calling a tensor like Tensor(*indices) is deprecated. Use\n",
      "Tensor.substitute_indices() instead.\n",
      "\n",
      "See https://docs.sympy.org/latest/explanation/active-deprecations.html#deprecated-tensor-fun-eval\n",
      "for details.\n",
      "\n",
      "This has been deprecated since SymPy version 1.5. It\n",
      "will be removed in a future version of SymPy.\n",
      "\n",
      "  Norm_L = L(alpha)*L(-alpha)\n"
     ]
    },
    {
     "data": {
      "text/latex": [
       "$\\displaystyle \\left[\\begin{matrix}0 & 0 & \\frac{u_{\\phi}{\\left(r \\right)}}{r \\sqrt{u_{\\phi}^{2}{\\left(r \\right)}}} & 0\\end{matrix}\\right]$"
      ],
      "text/plain": [
       "⎡          u_\\phi(r)       ⎤\n",
       "⎢0  0  ─────────────────  0⎥\n",
       "⎢           ____________   ⎥\n",
       "⎢          ╱       2       ⎥\n",
       "⎣      r⋅╲╱  u_\\phi (r)    ⎦"
      ]
     },
     "execution_count": 390,
     "metadata": {},
     "output_type": "execute_result"
    }
   ],
   "source": [
    "u = TensorHead('u', [Global])\n",
    "#u_t, u_r, u_theta, u_phi = symbols(\"u_t u_r u_theta u_phi\", real = True, positive=True)\n",
    "u_t = u_t(r)\n",
    "u_r = u_r(r)\n",
    "u_phi = u_phi(r)\n",
    "repl[u(mu)] = [u_t, u_r, 0 ,u_phi]\n",
    "L = KY(mu,-nu)*u(nu)\n",
    "Norm_L = L(alpha)*L(-alpha)\n",
    "Norm_value = Norm_L.replace_with_arrays(repl, [])\n",
    "#therefore\n",
    "e_2 = L/sqrt(Norm_value)\n",
    "simplify(e_2.replace_with_arrays(repl, [mu])).subs(theta, pi/2)"
   ]
  },
  {
   "cell_type": "code",
   "execution_count": null,
   "metadata": {},
   "outputs": [],
   "source": [
    "e_1 = TensorHead('e_1', [Global])\n",
    "L = Symbol(\"L\", positive=True) #anuglar momentum\n",
    "e_3 = TensorHead('e_3', [Global])\n",
    "const = (r**2 + L**2)/(r**2 * L)\n",
    "\n",
    "N_1 = sqrt(1+ L**2/r**2)\n",
    "N_3 = sqrt(1 + r**2/L**2)\n",
    "\n",
    "\n",
    "repl[e_1(mu)] = [u_r/(f*N_1), u_t*f/N_1, 0,0]\n",
    "repl[e_3(mu)] = [u_t/N_3, u_r/N_3, 0,const/N_3]"
   ]
  },
  {
   "cell_type": "code",
   "execution_count": null,
   "metadata": {},
   "outputs": [
    {
     "data": {
      "text/latex": [
       "$\\displaystyle \\left[\\begin{matrix}0 & 0 & 0 & \\frac{1}{r}\\end{matrix}\\right]$"
      ],
      "text/plain": [
       "⎡         1⎤\n",
       "⎢0  0  0  ─⎥\n",
       "⎣         r⎦"
      ]
     },
     "execution_count": 431,
     "metadata": {},
     "output_type": "execute_result"
    }
   ],
   "source": [
    "simplify((e_3(mu)).replace_with_arrays(repl, [mu]).subs(theta,pi/2).subs(u_r, sqrt(2*Energy +  2*M/r - L**2/r**2 + 2*M*L**2/r**3)).subs(u_t, r*sqrt(2*Energy + 1)*sqrt(1/(4*M**2 - 4*M*r + r**2))).subs(r_s, 2*M)).subs(L,0)"
   ]
  },
  {
   "attachments": {},
   "cell_type": "markdown",
   "metadata": {},
   "source": [
    "$$u^\\mu \\partial_\\mu \\Psi = u^\\mu\\left(-e_3^\\nu \\partial_\\mu e_{1\\nu} + e_3^\\nu \\Gamma^\\alpha_{\\mu\\nu}e_{1\\alpha}\\right)$$"
   ]
  },
  {
   "cell_type": "code",
   "execution_count": null,
   "metadata": {},
   "outputs": [],
   "source": [
    "#expr = u(mu)*(-e_3(nu)*PartialDerivative(e_1(-nu), x(mu)) + e_3(nu)*Gamma(alpha, -nu, -mu)*e_1(-alpha))\n",
    "expr = u(mu)*(-e_1(nu)*PartialDerivative(e_3(-nu), x(mu)) + e_1(nu)*Gamma(alpha, -nu, -mu)*e_3(-alpha))\n",
    "F = simplify(expr.replace_with_arrays(repl, []).subs(r_s, 2*M).subs(theta, pi/2).subs(u_phi, L/r**2)/u_r)"
   ]
  },
  {
   "cell_type": "code",
   "execution_count": null,
   "metadata": {},
   "outputs": [],
   "source": [
    "Energy = Symbol(\"E\", positive=True)\n",
    "\n",
    "F = simplify(F.subs(theta,pi/2).subs(u_phi, L/r**2).subs(u_r, sqrt(2*Energy +  2*M/r - L**2/r**2 + 2*M*L**2/r**3)).subs(u_t, r*sqrt(2*Energy + 1)*sqrt(1/(4*M**2 - 4*M*r + r**2))).subs(r_s, 2*M))"
   ]
  },
  {
   "cell_type": "code",
   "execution_count": null,
   "metadata": {},
   "outputs": [
    {
     "data": {
      "image/png": "[encoded data removed]",
      "text/latex": [
       "$\\displaystyle 0$"
      ],
      "text/plain": [
       "0"
      ]
     },
     "execution_count": 434,
     "metadata": {},
     "output_type": "execute_result"
    }
   ],
   "source": [
    "simplify(F.subs(L,0))"
   ]
  },
  {
   "cell_type": "code",
   "execution_count": null,
   "metadata": {},
   "outputs": [],
   "source": [
    "u_val = u(mu).replace_with_arrays(repl, [mu])\n",
    "e_1_val = e_1(mu).replace_with_arrays(repl, [mu])\n",
    "e_2_val = [0,0,1/r,0]\n",
    "e_3_val = e_3(mu).replace_with_arrays(repl,[mu])\n"
   ]
  },
  {
   "cell_type": "code",
   "execution_count": null,
   "metadata": {},
   "outputs": [],
   "source": [
    "#u_val = simplify(u_val.subs(theta,pi/2).subs(u_phi, L/r**2).subs(u_r, sqrt(2*Energy +  2*M/r - L**2/r**2 + 2*M*L**2/r**3)).subs(u_t, r*sqrt(2*Energy + 1)*sqrt(1/(4*M**2 - 4*M*r + r**2))).subs(r_s, 2*M))\n",
    "#e_1_val = simplify(e_1_val.subs(theta,pi/2).subs(u_phi, L/r**2).subs(u_r, sqrt(2*Energy +  2*M/r - L**2/r**2 + 2*M*L**2/r**3)).subs(u_t, r*sqrt(2*Energy + 1)*sqrt(1/(4*M**2 - 4*M*r + r**2))).subs(r_s, 2*M))\n",
    "#e_3_val = simplify(e_3_val.subs(theta,pi/2).subs(u_phi, L/r**2).subs(u_r, sqrt(2*Energy +  2*M/r - L**2/r**2 + 2*M*L**2/r**3)).subs(u_t, r*sqrt(2*Energy + 1)*sqrt(1/(4*M**2 - 4*M*r + r**2))).subs(r_s, 2*M))"
   ]
  },
  {
   "cell_type": "code",
   "execution_count": 560,
   "metadata": {},
   "outputs": [],
   "source": [
    "#defining the vierbein\n",
    "tetraed = TensorHead(\"e\", [Fermi, Global])\n",
    "\n",
    "psi = symbols(\"Psi\", cls=Function)\n",
    "psi = psi(r)\n",
    "\n",
    "repl[tetraed(-i, mu)] = [\n",
    "    u_val.tolist(),\n",
    "    (e_1_val*cos(psi) - e_3_val*sin(psi)).tolist(),\n",
    "    e_2_val,\n",
    "    (e_3_val*sin(psi) + e_3_val*cos(psi)).tolist()\n",
    "]"
   ]
  },
  {
   "cell_type": "code",
   "execution_count": null,
   "metadata": {},
   "outputs": [],
   "source": [
    "Riemann = TensorHead(\"R\", [Global, Global, Global, Global])\n",
    "rieman = RiemannCurvatureTensor.from_metric(g_)\n",
    "rieman.tensor()\n",
    "\n",
    "repl[Riemann(-mu, -nu, -alpha, -beta)] = rieman.change_config('llll').tensor().tolist()\n"
   ]
  },
  {
   "cell_type": "code",
   "execution_count": null,
   "metadata": {},
   "outputs": [
    {
     "ename": "KeyboardInterrupt",
     "evalue": "",
     "output_type": "error",
     "traceback": [
      "\u001b[0;31m---------------------------------------------------------------------------\u001b[0m",
      "\u001b[0;31mKeyboardInterrupt\u001b[0m                         Traceback (most recent call last)",
      "Cell \u001b[0;32mIn[438], line 2\u001b[0m\n\u001b[1;32m      1\u001b[0m R_in_fermi \u001b[39m=\u001b[39m Riemann(\u001b[39m-\u001b[39mmu,\u001b[39m-\u001b[39mnu,\u001b[39m-\u001b[39malpha, \u001b[39m-\u001b[39mbeta)\u001b[39m*\u001b[39mtetraed(\u001b[39m-\u001b[39mi,mu)\u001b[39m*\u001b[39mtetraed(\u001b[39m-\u001b[39mj,nu)\u001b[39m*\u001b[39mtetraed(\u001b[39m-\u001b[39mk,alpha)\u001b[39m*\u001b[39mtetraed(\u001b[39m-\u001b[39ml,beta)\n\u001b[0;32m----> 2\u001b[0m R_in_fermi \u001b[39m=\u001b[39m R_in_fermi\u001b[39m.\u001b[39;49mreplace_with_arrays(repl, [\u001b[39m-\u001b[39;49mi,\u001b[39m-\u001b[39;49mj,\u001b[39m-\u001b[39;49mk,\u001b[39m-\u001b[39;49ml])\n",
      "File \u001b[0;32m~/.var/app/com.visualstudio.code-oss/data/python/lib/python3.10/site-packages/sympy/tensor/tensor.py:2360\u001b[0m, in \u001b[0;36mTensExpr.replace_with_arrays\u001b[0;34m(self, replacement_dict, indices)\u001b[0m\n\u001b[1;32m   2353\u001b[0m     \u001b[39mif\u001b[39;00m \u001b[39mlen\u001b[39m(expected_shape) \u001b[39m!=\u001b[39m array\u001b[39m.\u001b[39mrank() \u001b[39mor\u001b[39;00m (\u001b[39mnot\u001b[39;00m \u001b[39mall\u001b[39m(dim1 \u001b[39m==\u001b[39m dim2 \u001b[39mif\u001b[39;00m\n\u001b[1;32m   2354\u001b[0m         dim1\u001b[39m.\u001b[39mis_number \u001b[39melse\u001b[39;00m \u001b[39mTrue\u001b[39;00m \u001b[39mfor\u001b[39;00m dim1, dim2 \u001b[39min\u001b[39;00m \u001b[39mzip\u001b[39m(expected_shape,\n\u001b[1;32m   2355\u001b[0m         array\u001b[39m.\u001b[39mshape))):\n\u001b[1;32m   2356\u001b[0m         \u001b[39mraise\u001b[39;00m \u001b[39mValueError\u001b[39;00m(\u001b[39m\"\u001b[39m\u001b[39mshapes for tensor \u001b[39m\u001b[39m%s\u001b[39;00m\u001b[39m expected to be \u001b[39m\u001b[39m%s\u001b[39;00m\u001b[39m, \u001b[39m\u001b[39m\"\u001b[39m\\\n\u001b[1;32m   2357\u001b[0m             \u001b[39m\"\u001b[39m\u001b[39mreplacement array shape is \u001b[39m\u001b[39m%s\u001b[39;00m\u001b[39m\"\u001b[39m \u001b[39m%\u001b[39m (tensor, expected_shape,\n\u001b[1;32m   2358\u001b[0m             array\u001b[39m.\u001b[39mshape))\n\u001b[0;32m-> 2360\u001b[0m ret_indices, array \u001b[39m=\u001b[39m \u001b[39mself\u001b[39;49m\u001b[39m.\u001b[39;49m_extract_data(replacement_dict)\n\u001b[1;32m   2362\u001b[0m last_indices, array \u001b[39m=\u001b[39m \u001b[39mself\u001b[39m\u001b[39m.\u001b[39m_match_indices_with_other_tensor(array, indices, ret_indices, replacement_dict)\n\u001b[1;32m   2363\u001b[0m \u001b[39mreturn\u001b[39;00m array\n",
      "File \u001b[0;32m~/.var/app/com.visualstudio.code-oss/data/python/lib/python3.10/site-packages/sympy/tensor/tensor.py:3980\u001b[0m, in \u001b[0;36mTensMul._extract_data\u001b[0;34m(self, replacement_dict)\u001b[0m\n\u001b[1;32m   3978\u001b[0m free\u001b[39m.\u001b[39msort(key\u001b[39m=\u001b[39m\u001b[39mlambda\u001b[39;00m x: x[\u001b[39m1\u001b[39m])\n\u001b[1;32m   3979\u001b[0m free_indices \u001b[39m=\u001b[39m [i[\u001b[39m0\u001b[39m] \u001b[39mfor\u001b[39;00m i \u001b[39min\u001b[39;00m free]\n\u001b[0;32m-> 3980\u001b[0m \u001b[39mreturn\u001b[39;00m free_indices, coeff\u001b[39m*\u001b[39m_TensorDataLazyEvaluator\u001b[39m.\u001b[39;49mdata_contract_dum(arrays, dum, ext_rank)\n",
      "File \u001b[0;32m~/.var/app/com.visualstudio.code-oss/data/python/lib/python3.10/site-packages/sympy/tensor/tensor.py:536\u001b[0m, in \u001b[0;36m_TensorDataLazyEvaluator.data_contract_dum\u001b[0;34m(ndarray_list, dum, ext_rank)\u001b[0m\n\u001b[1;32m    534\u001b[0m \u001b[39mfrom\u001b[39;00m \u001b[39m.\u001b[39;00m\u001b[39marray\u001b[39;00m \u001b[39mimport\u001b[39;00m tensorproduct, tensorcontraction, MutableDenseNDimArray\n\u001b[1;32m    535\u001b[0m arrays \u001b[39m=\u001b[39m \u001b[39mlist\u001b[39m(\u001b[39mmap\u001b[39m(MutableDenseNDimArray, ndarray_list))\n\u001b[0;32m--> 536\u001b[0m prodarr \u001b[39m=\u001b[39m tensorproduct(\u001b[39m*\u001b[39;49marrays)\n\u001b[1;32m    537\u001b[0m \u001b[39mreturn\u001b[39;00m tensorcontraction(prodarr, \u001b[39m*\u001b[39mdum)\n",
      "File \u001b[0;32m~/.var/app/com.visualstudio.code-oss/data/python/lib/python3.10/site-packages/sympy/tensor/array/arrayop.py:73\u001b[0m, in \u001b[0;36mtensorproduct\u001b[0;34m(*args)\u001b[0m\n\u001b[1;32m     71\u001b[0m     \u001b[39mreturn\u001b[39;00m ArrayTensorProduct(\u001b[39m*\u001b[39margs)\n\u001b[1;32m     72\u001b[0m \u001b[39mif\u001b[39;00m \u001b[39mlen\u001b[39m(args) \u001b[39m>\u001b[39m \u001b[39m2\u001b[39m:\n\u001b[0;32m---> 73\u001b[0m     \u001b[39mreturn\u001b[39;00m tensorproduct(tensorproduct(args[\u001b[39m0\u001b[39;49m], args[\u001b[39m1\u001b[39;49m]), \u001b[39m*\u001b[39;49margs[\u001b[39m2\u001b[39;49m:])\n\u001b[1;32m     75\u001b[0m \u001b[39m# length of args is 2:\u001b[39;00m\n\u001b[1;32m     76\u001b[0m a, b \u001b[39m=\u001b[39m \u001b[39mmap\u001b[39m(_arrayfy, args)\n",
      "File \u001b[0;32m~/.var/app/com.visualstudio.code-oss/data/python/lib/python3.10/site-packages/sympy/tensor/array/arrayop.py:73\u001b[0m, in \u001b[0;36mtensorproduct\u001b[0;34m(*args)\u001b[0m\n\u001b[1;32m     71\u001b[0m     \u001b[39mreturn\u001b[39;00m ArrayTensorProduct(\u001b[39m*\u001b[39margs)\n\u001b[1;32m     72\u001b[0m \u001b[39mif\u001b[39;00m \u001b[39mlen\u001b[39m(args) \u001b[39m>\u001b[39m \u001b[39m2\u001b[39m:\n\u001b[0;32m---> 73\u001b[0m     \u001b[39mreturn\u001b[39;00m tensorproduct(tensorproduct(args[\u001b[39m0\u001b[39;49m], args[\u001b[39m1\u001b[39;49m]), \u001b[39m*\u001b[39;49margs[\u001b[39m2\u001b[39;49m:])\n\u001b[1;32m     75\u001b[0m \u001b[39m# length of args is 2:\u001b[39;00m\n\u001b[1;32m     76\u001b[0m a, b \u001b[39m=\u001b[39m \u001b[39mmap\u001b[39m(_arrayfy, args)\n",
      "File \u001b[0;32m~/.var/app/com.visualstudio.code-oss/data/python/lib/python3.10/site-packages/sympy/tensor/array/arrayop.py:73\u001b[0m, in \u001b[0;36mtensorproduct\u001b[0;34m(*args)\u001b[0m\n\u001b[1;32m     71\u001b[0m     \u001b[39mreturn\u001b[39;00m ArrayTensorProduct(\u001b[39m*\u001b[39margs)\n\u001b[1;32m     72\u001b[0m \u001b[39mif\u001b[39;00m \u001b[39mlen\u001b[39m(args) \u001b[39m>\u001b[39m \u001b[39m2\u001b[39m:\n\u001b[0;32m---> 73\u001b[0m     \u001b[39mreturn\u001b[39;00m tensorproduct(tensorproduct(args[\u001b[39m0\u001b[39;49m], args[\u001b[39m1\u001b[39;49m]), \u001b[39m*\u001b[39;49margs[\u001b[39m2\u001b[39;49m:])\n\u001b[1;32m     75\u001b[0m \u001b[39m# length of args is 2:\u001b[39;00m\n\u001b[1;32m     76\u001b[0m a, b \u001b[39m=\u001b[39m \u001b[39mmap\u001b[39m(_arrayfy, args)\n",
      "File \u001b[0;32m~/.var/app/com.visualstudio.code-oss/data/python/lib/python3.10/site-packages/sympy/tensor/array/arrayop.py:86\u001b[0m, in \u001b[0;36mtensorproduct\u001b[0;34m(*args)\u001b[0m\n\u001b[1;32m     83\u001b[0m     new_array \u001b[39m=\u001b[39m {k1\u001b[39m*\u001b[39mlp \u001b[39m+\u001b[39m k2: v1\u001b[39m*\u001b[39mv2 \u001b[39mfor\u001b[39;00m k1, v1 \u001b[39min\u001b[39;00m a\u001b[39m.\u001b[39m_sparse_array\u001b[39m.\u001b[39mitems() \u001b[39mfor\u001b[39;00m k2, v2 \u001b[39min\u001b[39;00m b\u001b[39m.\u001b[39m_sparse_array\u001b[39m.\u001b[39mitems()}\n\u001b[1;32m     84\u001b[0m     \u001b[39mreturn\u001b[39;00m ImmutableSparseNDimArray(new_array, a\u001b[39m.\u001b[39mshape \u001b[39m+\u001b[39m b\u001b[39m.\u001b[39mshape)\n\u001b[0;32m---> 86\u001b[0m product_list \u001b[39m=\u001b[39m [i\u001b[39m*\u001b[39mj \u001b[39mfor\u001b[39;00m i \u001b[39min\u001b[39;00m Flatten(a) \u001b[39mfor\u001b[39;00m j \u001b[39min\u001b[39;00m Flatten(b)]\n\u001b[1;32m     87\u001b[0m \u001b[39mreturn\u001b[39;00m ImmutableDenseNDimArray(product_list, a\u001b[39m.\u001b[39mshape \u001b[39m+\u001b[39m b\u001b[39m.\u001b[39mshape)\n",
      "File \u001b[0;32m~/.var/app/com.visualstudio.code-oss/data/python/lib/python3.10/site-packages/sympy/tensor/array/arrayop.py:86\u001b[0m, in \u001b[0;36m<listcomp>\u001b[0;34m(.0)\u001b[0m\n\u001b[1;32m     83\u001b[0m     new_array \u001b[39m=\u001b[39m {k1\u001b[39m*\u001b[39mlp \u001b[39m+\u001b[39m k2: v1\u001b[39m*\u001b[39mv2 \u001b[39mfor\u001b[39;00m k1, v1 \u001b[39min\u001b[39;00m a\u001b[39m.\u001b[39m_sparse_array\u001b[39m.\u001b[39mitems() \u001b[39mfor\u001b[39;00m k2, v2 \u001b[39min\u001b[39;00m b\u001b[39m.\u001b[39m_sparse_array\u001b[39m.\u001b[39mitems()}\n\u001b[1;32m     84\u001b[0m     \u001b[39mreturn\u001b[39;00m ImmutableSparseNDimArray(new_array, a\u001b[39m.\u001b[39mshape \u001b[39m+\u001b[39m b\u001b[39m.\u001b[39mshape)\n\u001b[0;32m---> 86\u001b[0m product_list \u001b[39m=\u001b[39m [i\u001b[39m*\u001b[39;49mj \u001b[39mfor\u001b[39;00m i \u001b[39min\u001b[39;00m Flatten(a) \u001b[39mfor\u001b[39;00m j \u001b[39min\u001b[39;00m Flatten(b)]\n\u001b[1;32m     87\u001b[0m \u001b[39mreturn\u001b[39;00m ImmutableDenseNDimArray(product_list, a\u001b[39m.\u001b[39mshape \u001b[39m+\u001b[39m b\u001b[39m.\u001b[39mshape)\n",
      "File \u001b[0;32m~/.var/app/com.visualstudio.code-oss/data/python/lib/python3.10/site-packages/sympy/core/numbers.py:2213\u001b[0m, in \u001b[0;36mInteger.__mul__\u001b[0;34m(self, other)\u001b[0m\n\u001b[1;32m   2211\u001b[0m     \u001b[39melif\u001b[39;00m \u001b[39misinstance\u001b[39m(other, Rational):\n\u001b[1;32m   2212\u001b[0m         \u001b[39mreturn\u001b[39;00m Rational(\u001b[39mself\u001b[39m\u001b[39m.\u001b[39mp\u001b[39m*\u001b[39mother\u001b[39m.\u001b[39mp, other\u001b[39m.\u001b[39mq, igcd(\u001b[39mself\u001b[39m\u001b[39m.\u001b[39mp, other\u001b[39m.\u001b[39mq))\n\u001b[0;32m-> 2213\u001b[0m     \u001b[39mreturn\u001b[39;00m Rational\u001b[39m.\u001b[39;49m\u001b[39m__mul__\u001b[39;49m(\u001b[39mself\u001b[39;49m, other)\n\u001b[1;32m   2214\u001b[0m \u001b[39mreturn\u001b[39;00m Rational\u001b[39m.\u001b[39m\u001b[39m__mul__\u001b[39m(\u001b[39mself\u001b[39m, other)\n",
      "File \u001b[0;32m~/.var/app/com.visualstudio.code-oss/data/python/lib/python3.10/site-packages/sympy/core/decorators.py:65\u001b[0m, in \u001b[0;36m__sympifyit.<locals>.__sympifyit_wrapper\u001b[0;34m(a, b)\u001b[0m\n\u001b[1;32m     63\u001b[0m     \u001b[39mif\u001b[39;00m \u001b[39mnot\u001b[39;00m \u001b[39mhasattr\u001b[39m(b, \u001b[39m'\u001b[39m\u001b[39m_op_priority\u001b[39m\u001b[39m'\u001b[39m):\n\u001b[1;32m     64\u001b[0m         b \u001b[39m=\u001b[39m sympify(b, strict\u001b[39m=\u001b[39m\u001b[39mTrue\u001b[39;00m)\n\u001b[0;32m---> 65\u001b[0m     \u001b[39mreturn\u001b[39;00m func(a, b)\n\u001b[1;32m     66\u001b[0m \u001b[39mexcept\u001b[39;00m SympifyError:\n\u001b[1;32m     67\u001b[0m     \u001b[39mreturn\u001b[39;00m retval\n",
      "File \u001b[0;32m~/.var/app/com.visualstudio.code-oss/data/python/lib/python3.10/site-packages/sympy/core/numbers.py:1749\u001b[0m, in \u001b[0;36mRational.__mul__\u001b[0;34m(self, other)\u001b[0m\n\u001b[1;32m   1747\u001b[0m         \u001b[39mreturn\u001b[39;00m other\u001b[39m*\u001b[39m\u001b[39mself\u001b[39m\n\u001b[1;32m   1748\u001b[0m     \u001b[39melse\u001b[39;00m:\n\u001b[0;32m-> 1749\u001b[0m         \u001b[39mreturn\u001b[39;00m Number\u001b[39m.\u001b[39;49m\u001b[39m__mul__\u001b[39;49m(\u001b[39mself\u001b[39;49m, other)\n\u001b[1;32m   1750\u001b[0m \u001b[39mreturn\u001b[39;00m Number\u001b[39m.\u001b[39m\u001b[39m__mul__\u001b[39m(\u001b[39mself\u001b[39m, other)\n",
      "File \u001b[0;32m~/.var/app/com.visualstudio.code-oss/data/python/lib/python3.10/site-packages/sympy/core/decorators.py:65\u001b[0m, in \u001b[0;36m__sympifyit.<locals>.__sympifyit_wrapper\u001b[0;34m(a, b)\u001b[0m\n\u001b[1;32m     63\u001b[0m     \u001b[39mif\u001b[39;00m \u001b[39mnot\u001b[39;00m \u001b[39mhasattr\u001b[39m(b, \u001b[39m'\u001b[39m\u001b[39m_op_priority\u001b[39m\u001b[39m'\u001b[39m):\n\u001b[1;32m     64\u001b[0m         b \u001b[39m=\u001b[39m sympify(b, strict\u001b[39m=\u001b[39m\u001b[39mTrue\u001b[39;00m)\n\u001b[0;32m---> 65\u001b[0m     \u001b[39mreturn\u001b[39;00m func(a, b)\n\u001b[1;32m     66\u001b[0m \u001b[39mexcept\u001b[39;00m SympifyError:\n\u001b[1;32m     67\u001b[0m     \u001b[39mreturn\u001b[39;00m retval\n",
      "File \u001b[0;32m~/.var/app/com.visualstudio.code-oss/data/python/lib/python3.10/site-packages/sympy/core/numbers.py:759\u001b[0m, in \u001b[0;36mNumber.__mul__\u001b[0;34m(self, other)\u001b[0m\n\u001b[1;32m    757\u001b[0m \u001b[39melif\u001b[39;00m \u001b[39misinstance\u001b[39m(other, Tuple):\n\u001b[1;32m    758\u001b[0m     \u001b[39mreturn\u001b[39;00m \u001b[39mNotImplemented\u001b[39m\n\u001b[0;32m--> 759\u001b[0m \u001b[39mreturn\u001b[39;00m AtomicExpr\u001b[39m.\u001b[39;49m\u001b[39m__mul__\u001b[39;49m(\u001b[39mself\u001b[39;49m, other)\n",
      "File \u001b[0;32m~/.var/app/com.visualstudio.code-oss/data/python/lib/python3.10/site-packages/sympy/core/decorators.py:236\u001b[0m, in \u001b[0;36m_SympifyWrapper.make_wrapped.<locals>._func\u001b[0;34m(self, other)\u001b[0m\n\u001b[1;32m    234\u001b[0m \u001b[39mif\u001b[39;00m \u001b[39mnot\u001b[39;00m \u001b[39misinstance\u001b[39m(other, expectedcls):\n\u001b[1;32m    235\u001b[0m     \u001b[39mreturn\u001b[39;00m retval\n\u001b[0;32m--> 236\u001b[0m \u001b[39mreturn\u001b[39;00m func(\u001b[39mself\u001b[39;49m, other)\n",
      "File \u001b[0;32m~/.var/app/com.visualstudio.code-oss/data/python/lib/python3.10/site-packages/sympy/core/decorators.py:106\u001b[0m, in \u001b[0;36mcall_highest_priority.<locals>.priority_decorator.<locals>.binary_op_wrapper\u001b[0;34m(self, other)\u001b[0m\n\u001b[1;32m    104\u001b[0m         \u001b[39mif\u001b[39;00m f \u001b[39mis\u001b[39;00m \u001b[39mnot\u001b[39;00m \u001b[39mNone\u001b[39;00m:\n\u001b[1;32m    105\u001b[0m             \u001b[39mreturn\u001b[39;00m f(\u001b[39mself\u001b[39m)\n\u001b[0;32m--> 106\u001b[0m \u001b[39mreturn\u001b[39;00m func(\u001b[39mself\u001b[39;49m, other)\n",
      "File \u001b[0;32m~/.var/app/com.visualstudio.code-oss/data/python/lib/python3.10/site-packages/sympy/core/expr.py:218\u001b[0m, in \u001b[0;36mExpr.__mul__\u001b[0;34m(self, other)\u001b[0m\n\u001b[1;32m    215\u001b[0m \u001b[39m@sympify_return\u001b[39m([(\u001b[39m'\u001b[39m\u001b[39mother\u001b[39m\u001b[39m'\u001b[39m, \u001b[39m'\u001b[39m\u001b[39mExpr\u001b[39m\u001b[39m'\u001b[39m)], \u001b[39mNotImplemented\u001b[39m)\n\u001b[1;32m    216\u001b[0m \u001b[39m@call_highest_priority\u001b[39m(\u001b[39m'\u001b[39m\u001b[39m__rmul__\u001b[39m\u001b[39m'\u001b[39m)\n\u001b[1;32m    217\u001b[0m \u001b[39mdef\u001b[39;00m \u001b[39m__mul__\u001b[39m(\u001b[39mself\u001b[39m, other):\n\u001b[0;32m--> 218\u001b[0m     \u001b[39mreturn\u001b[39;00m Mul(\u001b[39mself\u001b[39;49m, other)\n",
      "File \u001b[0;32m~/.var/app/com.visualstudio.code-oss/data/python/lib/python3.10/site-packages/sympy/core/cache.py:72\u001b[0m, in \u001b[0;36m__cacheit.<locals>.func_wrapper.<locals>.wrapper\u001b[0;34m(*args, **kwargs)\u001b[0m\n\u001b[1;32m     69\u001b[0m \u001b[39m@wraps\u001b[39m(func)\n\u001b[1;32m     70\u001b[0m \u001b[39mdef\u001b[39;00m \u001b[39mwrapper\u001b[39m(\u001b[39m*\u001b[39margs, \u001b[39m*\u001b[39m\u001b[39m*\u001b[39mkwargs):\n\u001b[1;32m     71\u001b[0m     \u001b[39mtry\u001b[39;00m:\n\u001b[0;32m---> 72\u001b[0m         retval \u001b[39m=\u001b[39m cfunc(\u001b[39m*\u001b[39;49margs, \u001b[39m*\u001b[39;49m\u001b[39m*\u001b[39;49mkwargs)\n\u001b[1;32m     73\u001b[0m     \u001b[39mexcept\u001b[39;00m \u001b[39mTypeError\u001b[39;00m \u001b[39mas\u001b[39;00m e:\n\u001b[1;32m     74\u001b[0m         \u001b[39mif\u001b[39;00m \u001b[39mnot\u001b[39;00m e\u001b[39m.\u001b[39margs \u001b[39mor\u001b[39;00m \u001b[39mnot\u001b[39;00m e\u001b[39m.\u001b[39margs[\u001b[39m0\u001b[39m]\u001b[39m.\u001b[39mstartswith(\u001b[39m'\u001b[39m\u001b[39munhashable type:\u001b[39m\u001b[39m'\u001b[39m):\n",
      "File \u001b[0;32m~/.var/app/com.visualstudio.code-oss/data/python/lib/python3.10/site-packages/sympy/core/function.py:914\u001b[0m, in \u001b[0;36mUndefinedFunction.__hash__\u001b[0;34m(self)\u001b[0m\n\u001b[1;32m    913\u001b[0m \u001b[39mdef\u001b[39;00m \u001b[39m__hash__\u001b[39m(\u001b[39mself\u001b[39m):\n\u001b[0;32m--> 914\u001b[0m     \u001b[39mreturn\u001b[39;00m \u001b[39mhash\u001b[39m((\u001b[39mself\u001b[39m\u001b[39m.\u001b[39mclass_key(), \u001b[39mfrozenset\u001b[39m(\u001b[39mself\u001b[39;49m\u001b[39m.\u001b[39;49m_kwargs\u001b[39m.\u001b[39;49mitems())))\n",
      "\u001b[0;31mKeyboardInterrupt\u001b[0m: "
     ]
    }
   ],
   "source": [
    "R_in_fermi = Riemann(-mu,-nu,-alpha, -beta)*tetraed(-i,mu)*tetraed(-j,nu)*tetraed(-k,alpha)*tetraed(-l,beta)\n",
    "R_in_fermi = R_in_fermi.replace_with_arrays(repl, [-i,-j,-k,-l])"
   ]
  },
  {
   "cell_type": "code",
   "execution_count": null,
   "metadata": {},
   "outputs": [],
   "source": [
    "Fermi_spacial = TensorIndexType('Fermi_spacial', dummy_name='Fermi_S')\n",
    "iS,jS,kS,lS,mS = tensor_indices(\"i j k l m\", Fermi_spacial)\n",
    "\n",
    "x_,y_,z_ = symbols(\"x y z\")\n",
    "\n",
    "x = TensorHead('x', [Fermi_spacial])\n",
    "gamma = TensorHead(\"gamma\", [Fermi_spacial, Dirac, Dirac])\n",
    "\n",
    "R_1 = TensorHead(\"Rie\", [Fermi_spacial, Fermi_spacial])\n",
    "R_2 = TensorHead(\"Rie\", [Fermi_spacial, Fermi_spacial, Fermi_spacial])\n",
    "R_3 = TensorHead(\"Rie\", [Fermi_spacial, Fermi_spacial, Fermi_spacial])\n",
    "R_4 = TensorHead(\"Rie\", [Fermi_spacial, Fermi_spacial, Fermi_spacial, Fermi_spacial])\n",
    "\n",
    "gamma_0 = TensorHead(\"gamma0\", [Dirac, Dirac])\n",
    "\n",
    "\n",
    "spinor = TensorHead(\"Psi\", [Dirac])\n",
    "spinor_bar = TensorHead(\"Psi_bar\", [Dirac])\n",
    "\n",
    "repl_spacial = {}\n",
    "repl_spacial[Fermi_spacial] = eye(3).tolist()\n",
    "repl_spacial[x(iS)] = [x_,y_,z_]\n",
    "\n",
    "repl_spacial[gamma(iS,A,-B)] = [mgamma(1).tolist(), mgamma(2).tolist(), mgamma(3).tolist()]\n",
    "repl_spacial[gamma_0(A,-B)] = mgamma(0).tolist()\n",
    "repl_spacial[spinor(A)] = [1,0,0,0]\n",
    "repl_spacial[spinor_bar(-A)] = (Matrix([1,0,0,0]).T@mgamma(0)).tolist()[0]\n",
    "\n",
    "repl_spacial[R_1(-jS,-mS)] = R_in_fermi[1:4,0,0,1:4].tolist()\n",
    "repl_spacial[R_2(-kS, -jS, -mS)] = R_in_fermi[1:4,1:4,0,1:4].tolist()\n",
    "repl_spacial[R_3(-jS, -iS, -mS)] = R_in_fermi[0,1:4, 1:4, 1:4].tolist()\n",
    "repl_spacial[R_4(-kS, -jS, -iS, -mS)] = R_in_fermi[1:4, 1:4, 1:4, 1:4].tolist()"
   ]
  },
  {
   "cell_type": "code",
   "execution_count": null,
   "metadata": {},
   "outputs": [
    {
     "ename": "TypeError",
     "evalue": "gamma takes exactly 1 argument (3 given)",
     "output_type": "error",
     "traceback": [
      "\u001b[0;31m---------------------------------------------------------------------------\u001b[0m",
      "\u001b[0;31mTypeError\u001b[0m                                 Traceback (most recent call last)",
      "Cell \u001b[0;32mIn[473], line 1\u001b[0m\n\u001b[0;32m----> 1\u001b[0m v_0 \u001b[39m=\u001b[39m spinor_bar(\u001b[39m-\u001b[39mA)\u001b[39m*\u001b[39m(\u001b[39m1\u001b[39m\u001b[39m/\u001b[39m\u001b[39m2\u001b[39m \u001b[39m*\u001b[39m gamma_0(A,\u001b[39m-\u001b[39mB)\u001b[39m*\u001b[39mgamma(\u001b[39m-\u001b[39;49mjS, B,\u001b[39m-\u001b[39;49mC)\u001b[39m*\u001b[39mR_1(jS,\u001b[39m-\u001b[39mmS)\u001b[39m*\u001b[39mx(mS) \u001b[39m+\u001b[39m \u001b[39m1\u001b[39m\u001b[39m/\u001b[39m\u001b[39m4\u001b[39m \u001b[39m*\u001b[39m gamma(\u001b[39m-\u001b[39mkS,A,\u001b[39m-\u001b[39mB)\u001b[39m*\u001b[39mgamma(\u001b[39m-\u001b[39mjS,B,\u001b[39m-\u001b[39mC)\u001b[39m*\u001b[39mR_2(kS,jS,\u001b[39m-\u001b[39mmS)\u001b[39m*\u001b[39mx(mS) )\u001b[39m*\u001b[39mspinor(C)\n\u001b[1;32m      2\u001b[0m v_0 \u001b[39m=\u001b[39m simplify((v_0\u001b[39m.\u001b[39mreplace_with_arrays(repl_spacial,v_0\u001b[39m.\u001b[39mget_free_indices()))\u001b[39m.\u001b[39msubs(theta,pi\u001b[39m/\u001b[39m\u001b[39m2\u001b[39m)\u001b[39m.\u001b[39msubs(u_phi(r), L\u001b[39m/\u001b[39mr\u001b[39m*\u001b[39m\u001b[39m*\u001b[39m\u001b[39m2\u001b[39m)\u001b[39m.\u001b[39msubs(u_r(r), sqrt(\u001b[39m2\u001b[39m\u001b[39m*\u001b[39mEnergy \u001b[39m+\u001b[39m  \u001b[39m2\u001b[39m\u001b[39m*\u001b[39mM\u001b[39m/\u001b[39mr \u001b[39m-\u001b[39m L\u001b[39m*\u001b[39m\u001b[39m*\u001b[39m\u001b[39m2\u001b[39m\u001b[39m/\u001b[39mr\u001b[39m*\u001b[39m\u001b[39m*\u001b[39m\u001b[39m2\u001b[39m \u001b[39m+\u001b[39m \u001b[39m2\u001b[39m\u001b[39m*\u001b[39mM\u001b[39m*\u001b[39mL\u001b[39m*\u001b[39m\u001b[39m*\u001b[39m\u001b[39m2\u001b[39m\u001b[39m/\u001b[39mr\u001b[39m*\u001b[39m\u001b[39m*\u001b[39m\u001b[39m3\u001b[39m))\u001b[39m.\u001b[39msubs(u_t(r), r\u001b[39m*\u001b[39msqrt(\u001b[39m2\u001b[39m\u001b[39m*\u001b[39mEnergy \u001b[39m+\u001b[39m \u001b[39m1\u001b[39m)\u001b[39m*\u001b[39msqrt(\u001b[39m1\u001b[39m\u001b[39m/\u001b[39m(\u001b[39m4\u001b[39m\u001b[39m*\u001b[39mM\u001b[39m*\u001b[39m\u001b[39m*\u001b[39m\u001b[39m2\u001b[39m \u001b[39m-\u001b[39m \u001b[39m4\u001b[39m\u001b[39m*\u001b[39mM\u001b[39m*\u001b[39mr \u001b[39m+\u001b[39m r\u001b[39m*\u001b[39m\u001b[39m*\u001b[39m\u001b[39m2\u001b[39m)))\u001b[39m.\u001b[39msubs(r_s, \u001b[39m2\u001b[39m\u001b[39m*\u001b[39mM))\n",
      "File \u001b[0;32m~/.var/app/com.visualstudio.code-oss/data/python/lib/python3.10/site-packages/sympy/core/cache.py:72\u001b[0m, in \u001b[0;36m__cacheit.<locals>.func_wrapper.<locals>.wrapper\u001b[0;34m(*args, **kwargs)\u001b[0m\n\u001b[1;32m     69\u001b[0m \u001b[39m@wraps\u001b[39m(func)\n\u001b[1;32m     70\u001b[0m \u001b[39mdef\u001b[39;00m \u001b[39mwrapper\u001b[39m(\u001b[39m*\u001b[39margs, \u001b[39m*\u001b[39m\u001b[39m*\u001b[39mkwargs):\n\u001b[1;32m     71\u001b[0m     \u001b[39mtry\u001b[39;00m:\n\u001b[0;32m---> 72\u001b[0m         retval \u001b[39m=\u001b[39m cfunc(\u001b[39m*\u001b[39;49margs, \u001b[39m*\u001b[39;49m\u001b[39m*\u001b[39;49mkwargs)\n\u001b[1;32m     73\u001b[0m     \u001b[39mexcept\u001b[39;00m \u001b[39mTypeError\u001b[39;00m \u001b[39mas\u001b[39;00m e:\n\u001b[1;32m     74\u001b[0m         \u001b[39mif\u001b[39;00m \u001b[39mnot\u001b[39;00m e\u001b[39m.\u001b[39margs \u001b[39mor\u001b[39;00m \u001b[39mnot\u001b[39;00m e\u001b[39m.\u001b[39margs[\u001b[39m0\u001b[39m]\u001b[39m.\u001b[39mstartswith(\u001b[39m'\u001b[39m\u001b[39munhashable type:\u001b[39m\u001b[39m'\u001b[39m):\n",
      "File \u001b[0;32m~/.var/app/com.visualstudio.code-oss/data/python/lib/python3.10/site-packages/sympy/core/function.py:458\u001b[0m, in \u001b[0;36mFunction.__new__\u001b[0;34m(cls, *args, **options)\u001b[0m\n\u001b[1;32m    450\u001b[0m \u001b[39mif\u001b[39;00m \u001b[39mnot\u001b[39;00m \u001b[39mcls\u001b[39m\u001b[39m.\u001b[39m_valid_nargs(n):\n\u001b[1;32m    451\u001b[0m     \u001b[39m# XXX: exception message must be in exactly this format to\u001b[39;00m\n\u001b[1;32m    452\u001b[0m     \u001b[39m# make it work with NumPy's functions like vectorize(). See,\u001b[39;00m\n\u001b[1;32m    453\u001b[0m     \u001b[39m# for example, https://github.com/numpy/numpy/issues/1697.\u001b[39;00m\n\u001b[1;32m    454\u001b[0m     \u001b[39m# The ideal solution would be just to attach metadata to\u001b[39;00m\n\u001b[1;32m    455\u001b[0m     \u001b[39m# the exception and change NumPy to take advantage of this.\u001b[39;00m\n\u001b[1;32m    456\u001b[0m     temp \u001b[39m=\u001b[39m (\u001b[39m'\u001b[39m\u001b[39m%(name)s\u001b[39;00m\u001b[39m takes \u001b[39m\u001b[39m%(qual)s\u001b[39;00m\u001b[39m \u001b[39m\u001b[39m%(args)s\u001b[39;00m\u001b[39m \u001b[39m\u001b[39m'\u001b[39m\n\u001b[1;32m    457\u001b[0m            \u001b[39m'\u001b[39m\u001b[39margument\u001b[39m\u001b[39m%(plural)s\u001b[39;00m\u001b[39m (\u001b[39m\u001b[39m%(given)s\u001b[39;00m\u001b[39m given)\u001b[39m\u001b[39m'\u001b[39m)\n\u001b[0;32m--> 458\u001b[0m     \u001b[39mraise\u001b[39;00m \u001b[39mTypeError\u001b[39;00m(temp \u001b[39m%\u001b[39m {\n\u001b[1;32m    459\u001b[0m         \u001b[39m'\u001b[39m\u001b[39mname\u001b[39m\u001b[39m'\u001b[39m: \u001b[39mcls\u001b[39m,\n\u001b[1;32m    460\u001b[0m         \u001b[39m'\u001b[39m\u001b[39mqual\u001b[39m\u001b[39m'\u001b[39m: \u001b[39m'\u001b[39m\u001b[39mexactly\u001b[39m\u001b[39m'\u001b[39m \u001b[39mif\u001b[39;00m \u001b[39mlen\u001b[39m(\u001b[39mcls\u001b[39m\u001b[39m.\u001b[39mnargs) \u001b[39m==\u001b[39m \u001b[39m1\u001b[39m \u001b[39melse\u001b[39;00m \u001b[39m'\u001b[39m\u001b[39mat least\u001b[39m\u001b[39m'\u001b[39m,\n\u001b[1;32m    461\u001b[0m         \u001b[39m'\u001b[39m\u001b[39margs\u001b[39m\u001b[39m'\u001b[39m: \u001b[39mmin\u001b[39m(\u001b[39mcls\u001b[39m\u001b[39m.\u001b[39mnargs),\n\u001b[1;32m    462\u001b[0m         \u001b[39m'\u001b[39m\u001b[39mplural\u001b[39m\u001b[39m'\u001b[39m: \u001b[39m'\u001b[39m\u001b[39ms\u001b[39m\u001b[39m'\u001b[39m\u001b[39m*\u001b[39m(\u001b[39mmin\u001b[39m(\u001b[39mcls\u001b[39m\u001b[39m.\u001b[39mnargs) \u001b[39m!=\u001b[39m \u001b[39m1\u001b[39m),\n\u001b[1;32m    463\u001b[0m         \u001b[39m'\u001b[39m\u001b[39mgiven\u001b[39m\u001b[39m'\u001b[39m: n})\n\u001b[1;32m    465\u001b[0m evaluate \u001b[39m=\u001b[39m options\u001b[39m.\u001b[39mget(\u001b[39m'\u001b[39m\u001b[39mevaluate\u001b[39m\u001b[39m'\u001b[39m, global_parameters\u001b[39m.\u001b[39mevaluate)\n\u001b[1;32m    466\u001b[0m result \u001b[39m=\u001b[39m \u001b[39msuper\u001b[39m()\u001b[39m.\u001b[39m\u001b[39m__new__\u001b[39m(\u001b[39mcls\u001b[39m, \u001b[39m*\u001b[39margs, \u001b[39m*\u001b[39m\u001b[39m*\u001b[39moptions)\n",
      "\u001b[0;31mTypeError\u001b[0m: gamma takes exactly 1 argument (3 given)"
     ]
    }
   ],
   "source": [
    "v_0 = spinor_bar(-A)*(1/2 * gamma_0(A,-B)*gamma(-jS, B,-C)*R_1(jS,-mS)*x(mS) + 1/4 * gamma(-kS,A,-B)*gamma(-jS,B,-C)*R_2(kS,jS,-mS)*x(mS) )*spinor(C)\n",
    "v_0 = simplify((v_0.replace_with_arrays(repl_spacial,v_0.get_free_indices())).subs(theta,pi/2).subs(u_phi(r), L/r**2).subs(u_r(r), sqrt(2*Energy +  2*M/r - L**2/r**2 + 2*M*L**2/r**3)).subs(u_t(r), r*sqrt(2*Energy + 1)*sqrt(1/(4*M**2 - 4*M*r + r**2))).subs(r_s, 2*M))"
   ]
  },
  {
   "cell_type": "code",
   "execution_count": null,
   "metadata": {},
   "outputs": [
    {
     "data": {
      "image/png": "[encoded data removed]",
      "text/latex": [
       "$\\displaystyle 0$"
      ],
      "text/plain": [
       "0"
      ]
     },
     "execution_count": 306,
     "metadata": {},
     "output_type": "execute_result"
    }
   ],
   "source": [
    "v_0.subs(y,0)"
   ]
  },
  {
   "cell_type": "code",
   "execution_count": null,
   "metadata": {},
   "outputs": [],
   "source": [
    "def rationalize_coeffs(expr):\n",
    "    for i in expr.atoms(Float):\n",
    "        r = Rational(str(i)).limit_denominator(1000)\n",
    "        expr = expr.subs(i, r)\n",
    "    return expr "
   ]
  },
  {
   "cell_type": "code",
   "execution_count": null,
   "metadata": {},
   "outputs": [
    {
     "data": {
      "text/latex": [
       "$\\displaystyle \\left[\\begin{matrix}- \\frac{0.25 i M y \\left(- L^{2} r^{2} \\left(L r^{2} \\sqrt{2 E + 1} \\sin{\\left(\\Psi{\\left(r \\right)} \\right)} - r^{\\frac{3}{2}} \\sqrt{2 E r^{3} + 2 L^{2} M - L^{2} r + 2 M r^{2}} \\cos{\\left(\\Psi{\\left(r \\right)} \\right)}\\right)^{2} + L^{2} \\left(L r^{\\frac{3}{2}} \\sqrt{2 E r^{3} + 2 L^{2} M - L^{2} r + 2 M r^{2}} \\sin{\\left(\\Psi{\\left(r \\right)} \\right)} - r^{4} \\sqrt{2 E + 1} \\cos{\\left(\\Psi{\\left(r \\right)} \\right)}\\right)^{2} + 2 r^{3} \\left(L^{2} + r^{2}\\right)^{3} \\cdot \\left(2 M - r\\right) \\sin^{2}{\\left(\\Psi{\\left(r \\right)} \\right)}\\right)}{L^{2} r^{8} \\left(L^{2} + r^{2}\\right) \\left(2 M - r\\right)} & \\frac{0.25 i M \\left(r^{10} x \\left(L^{2} + r^{2}\\right)^{2} \\left(- L^{2} r^{2} \\left(- L r^{2} \\sqrt{2 E + 1} \\sin{\\left(\\Psi{\\left(r \\right)} \\right)} + r^{\\frac{3}{2}} \\sqrt{2 E r^{3} + 2 L^{2} M - L^{2} r + 2 M r^{2}} \\cos{\\left(\\Psi{\\left(r \\right)} \\right)}\\right)^{2} + L^{2} \\left(- L r^{\\frac{3}{2}} \\sqrt{2 E r^{3} + 2 L^{2} M - L^{2} r + 2 M r^{2}} \\sin{\\left(\\Psi{\\left(r \\right)} \\right)} + r^{4} \\sqrt{2 E + 1} \\cos{\\left(\\Psi{\\left(r \\right)} \\right)}\\right)^{2} + 2 r^{3} \\left(L^{2} + r^{2}\\right)^{3} \\cdot \\left(2 M - r\\right) \\sin^{2}{\\left(\\Psi{\\left(r \\right)} \\right)}\\right) - \\sqrt{2} z \\left(- L^{3} r^{\\frac{23}{2}} \\left(L^{2} + r^{2}\\right)^{\\frac{3}{2}} \\left(- L r^{\\frac{3}{2}} \\sqrt{2 E L^{2} r^{3} + 2 E r^{5} + 2 L^{4} M - L^{4} r + 4 L^{2} M r^{2} - L^{2} r^{3} + 2 M r^{4}} \\sin{\\left(\\Psi{\\left(r \\right)} \\right)} + r^{4} \\sqrt{2 E + 1} \\sqrt{L^{2} + r^{2}} \\cos{\\left(\\Psi{\\left(r \\right)} \\right)}\\right) \\sqrt{2 E r^{3} + 2 L^{2} M - L^{2} r + 2 M r^{2}} + L^{3} r^{14} \\sqrt{2 E + 1} \\left(L^{2} + r^{2}\\right)^{\\frac{3}{2}} \\left(- L r^{2} \\sqrt{2 E + 1} \\sqrt{L^{2} + r^{2}} \\sin{\\left(\\Psi{\\left(r \\right)} \\right)} + r^{\\frac{3}{2}} \\sqrt{2 E L^{2} r^{3} + 2 E r^{5} + 2 L^{4} M - L^{4} r + 4 L^{2} M r^{2} - L^{2} r^{3} + 2 M r^{4}} \\cos{\\left(\\Psi{\\left(r \\right)} \\right)}\\right) + 2 r^{13} \\left(L^{2} + r^{2}\\right)^{5} \\cdot \\left(2 M - r\\right) \\sin{\\left(\\Psi{\\left(r \\right)} \\right)}\\right) \\sin{\\left(\\Psi{\\left(r \\right)} + \\frac{\\pi}{4} \\right)}\\right)}{L^{2} r^{18} \\left(L^{2} + r^{2}\\right)^{3} \\cdot \\left(2 M - r\\right)} & \\frac{0.25 \\sqrt{2} i M y \\left(- L^{3} r^{\\frac{23}{2}} \\left(L^{2} + r^{2}\\right)^{\\frac{3}{2}} \\left(- L r^{\\frac{3}{2}} \\sqrt{2 E L^{2} r^{3} + 2 E r^{5} + 2 L^{4} M - L^{4} r + 4 L^{2} M r^{2} - L^{2} r^{3} + 2 M r^{4}} \\sin{\\left(\\Psi{\\left(r \\right)} \\right)} + r^{4} \\sqrt{2 E + 1} \\sqrt{L^{2} + r^{2}} \\cos{\\left(\\Psi{\\left(r \\right)} \\right)}\\right) \\sqrt{2 E r^{3} + 2 L^{2} M - L^{2} r + 2 M r^{2}} + L^{3} r^{14} \\sqrt{2 E + 1} \\left(L^{2} + r^{2}\\right)^{\\frac{3}{2}} \\left(- L r^{2} \\sqrt{2 E + 1} \\sqrt{L^{2} + r^{2}} \\sin{\\left(\\Psi{\\left(r \\right)} \\right)} + r^{\\frac{3}{2}} \\sqrt{2 E L^{2} r^{3} + 2 E r^{5} + 2 L^{4} M - L^{4} r + 4 L^{2} M r^{2} - L^{2} r^{3} + 2 M r^{4}} \\cos{\\left(\\Psi{\\left(r \\right)} \\right)}\\right) + 2 r^{13} \\left(L^{2} + r^{2}\\right)^{5} \\cdot \\left(2 M - r\\right) \\sin{\\left(\\Psi{\\left(r \\right)} \\right)}\\right) \\sin{\\left(\\Psi{\\left(r \\right)} + \\frac{\\pi}{4} \\right)}}{L^{2} r^{18} \\left(L^{2} + r^{2}\\right)^{3} \\cdot \\left(2 M - r\\right)}\\end{matrix}\\right]$"
      ],
      "text/plain": [
       "⎡                                                                             \n",
       "⎢            ⎛                                                                \n",
       "⎢            ⎜        ⎛                                     __________________\n",
       "⎢            ⎜   2  2 ⎜   2   _________              3/2   ╱      3      2    \n",
       "⎢-0.25⋅ⅈ⋅M⋅y⋅⎝- L ⋅r ⋅⎝L⋅r ⋅╲╱ 2⋅E + 1 ⋅sin(Ψ(r)) - r   ⋅╲╱  2⋅E⋅r  + 2⋅L ⋅M -\n",
       "⎢─────────────────────────────────────────────────────────────────────────────\n",
       "⎢                                                                             \n",
       "⎢                                                                             \n",
       "⎣                                                                             \n",
       "\n",
       "                                                                              \n",
       "                          2                                                   \n",
       "_______________          ⎞       ⎛          _________________________________ \n",
       "  2          2           ⎟     2 ⎜   3/2   ╱      3      2      2          2  \n",
       " L ⋅r + 2⋅M⋅r  ⋅cos(Ψ(r))⎠  + L ⋅⎝L⋅r   ⋅╲╱  2⋅E⋅r  + 2⋅L ⋅M - L ⋅r + 2⋅M⋅r  ⋅\n",
       "──────────────────────────────────────────────────────────────────────────────\n",
       "                            2  8 ⎛ 2    2⎞                                    \n",
       "                           L ⋅r ⋅⎝L  + r ⎠⋅(2⋅M - r)                          \n",
       "                                                                              \n",
       "\n",
       "                                                                              \n",
       "                                     2                                       ⎞\n",
       "                                    ⎞                  3                     ⎟\n",
       "             4   _________          ⎟       3 ⎛ 2    2⎞               2      ⎟\n",
       "sin(Ψ(r)) - r ⋅╲╱ 2⋅E + 1 ⋅cos(Ψ(r))⎠  + 2⋅r ⋅⎝L  + r ⎠ ⋅(2⋅M - r)⋅sin (Ψ(r))⎠\n",
       "──────────────────────────────────────────────────────────────────────────────\n",
       "                                                                              \n",
       "                                                                              \n",
       "                                                                              \n",
       "\n",
       "            ⎛                 ⎛                                               \n",
       "            ⎜               2 ⎜        ⎛                                      \n",
       "            ⎜ 10   ⎛ 2    2⎞  ⎜   2  2 ⎜     2   _________              3/2   \n",
       "   0.25⋅ⅈ⋅M⋅⎜r  ⋅x⋅⎝L  + r ⎠ ⋅⎝- L ⋅r ⋅⎝- L⋅r ⋅╲╱ 2⋅E + 1 ⋅sin(Ψ(r)) + r   ⋅╲╱\n",
       "            ⎝                                                                 \n",
       "─  ───────────────────────────────────────────────────────────────────────────\n",
       "                                                                              \n",
       "                                                                              \n",
       "                                                                              \n",
       "\n",
       "                                             2                                \n",
       " _________________________________          ⎞       ⎛            _____________\n",
       "╱      3      2      2          2           ⎟     2 ⎜     3/2   ╱      3      \n",
       "  2⋅E⋅r  + 2⋅L ⋅M - L ⋅r + 2⋅M⋅r  ⋅cos(Ψ(r))⎠  + L ⋅⎝- L⋅r   ⋅╲╱  2⋅E⋅r  + 2⋅L\n",
       "                                                                              \n",
       "──────────────────────────────────────────────────────────────────────────────\n",
       "                                                                              \n",
       "                                                                              \n",
       "                                                                              \n",
       "\n",
       "                                                          2                   \n",
       "____________________                                     ⎞                  3 \n",
       "2      2          2               4   _________          ⎟       3 ⎛ 2    2⎞  \n",
       " ⋅M - L ⋅r + 2⋅M⋅r  ⋅sin(Ψ(r)) + r ⋅╲╱ 2⋅E + 1 ⋅cos(Ψ(r))⎠  + 2⋅r ⋅⎝L  + r ⎠ ⋅\n",
       "                                                                              \n",
       "──────────────────────────────────────────────────────────────────────────────\n",
       "                                                                              \n",
       "                                                                              \n",
       "                                                                              \n",
       "\n",
       "                    ⎞                                                         \n",
       "                    ⎟        ⎛                    3/2 ⎛            ___________\n",
       "             2      ⎟        ⎜   3  23/2 ⎛ 2    2⎞    ⎜     3/2   ╱      2  3 \n",
       "(2⋅M - r)⋅sin (Ψ(r))⎠ - √2⋅z⋅⎝- L ⋅r    ⋅⎝L  + r ⎠   ⋅⎝- L⋅r   ⋅╲╱  2⋅E⋅L ⋅r  \n",
       "                                                                              \n",
       "──────────────────────────────────────────────────────────────────────────────\n",
       "                                                                              \n",
       "                                                                              \n",
       "                                                                              \n",
       "\n",
       "                                                                              \n",
       "______________________________________________________                        \n",
       "       5      4      4        2    2    2  3        4               4   ______\n",
       "+ 2⋅E⋅r  + 2⋅L ⋅M - L ⋅r + 4⋅L ⋅M⋅r  - L ⋅r  + 2⋅M⋅r  ⋅sin(Ψ(r)) + r ⋅╲╱ 2⋅E +\n",
       "                                                                              \n",
       "──────────────────────────────────────────────────────────────────────────────\n",
       "                            3                                                 \n",
       "             2  18 ⎛ 2    2⎞                                                  \n",
       "            L ⋅r  ⋅⎝L  + r ⎠ ⋅(2⋅M - r)                                       \n",
       "\n",
       "                                                                              \n",
       "       _________          ⎞    _________________________________              \n",
       "___   ╱  2    2           ⎟   ╱      3      2      2          2     3  14   __\n",
       " 1 ⋅╲╱  L  + r  ⋅cos(Ψ(r))⎠⋅╲╱  2⋅E⋅r  + 2⋅L ⋅M - L ⋅r + 2⋅M⋅r   + L ⋅r  ⋅╲╱ 2\n",
       "                                                                              \n",
       "──────────────────────────────────────────────────────────────────────────────\n",
       "                                                                              \n",
       "                                                                              \n",
       "                                                                              \n",
       "\n",
       "                                                                              \n",
       "                 3/2 ⎛                      _________                     ____\n",
       "_______ ⎛ 2    2⎞    ⎜     2   _________   ╱  2    2               3/2   ╱    \n",
       "⋅E + 1 ⋅⎝L  + r ⎠   ⋅⎝- L⋅r ⋅╲╱ 2⋅E + 1 ⋅╲╱  L  + r  ⋅sin(Ψ(r)) + r   ⋅╲╱  2⋅E\n",
       "                                                                              \n",
       "──────────────────────────────────────────────────────────────────────────────\n",
       "                                                                              \n",
       "                                                                              \n",
       "                                                                              \n",
       "\n",
       "                                                                              \n",
       "_____________________________________________________________          ⎞      \n",
       "  2  3        5      4      4        2    2    2  3        4           ⎟      \n",
       "⋅L ⋅r  + 2⋅E⋅r  + 2⋅L ⋅M - L ⋅r + 4⋅L ⋅M⋅r  - L ⋅r  + 2⋅M⋅r  ⋅cos(Ψ(r))⎠ + 2⋅r\n",
       "                                                                              \n",
       "──────────────────────────────────────────────────────────────────────────────\n",
       "                                                                              \n",
       "                                                                              \n",
       "                                                                              \n",
       "\n",
       "                                                ⎞                             \n",
       "            5                    ⎞              ⎟                ⎛            \n",
       "13 ⎛ 2    2⎞                     ⎟    ⎛       π⎞⎟                ⎜   3  23/2 ⎛\n",
       "  ⋅⎝L  + r ⎠ ⋅(2⋅M - r)⋅sin(Ψ(r))⎠⋅sin⎜Ψ(r) + ─⎟⎟  0.25⋅√2⋅ⅈ⋅M⋅y⋅⎝- L ⋅r    ⋅⎝\n",
       "                                      ⎝       4⎠⎠                             \n",
       "─────────────────────────────────────────────────  ───────────────────────────\n",
       "                                                                              \n",
       "                                                                              \n",
       "                                                                              \n",
       "\n",
       "                                                                              \n",
       "        3/2 ⎛            _____________________________________________________\n",
       " 2    2⎞    ⎜     3/2   ╱      2  3        5      4      4        2    2    2 \n",
       "L  + r ⎠   ⋅⎝- L⋅r   ⋅╲╱  2⋅E⋅L ⋅r  + 2⋅E⋅r  + 2⋅L ⋅M - L ⋅r + 4⋅L ⋅M⋅r  - L ⋅\n",
       "                                                                              \n",
       "──────────────────────────────────────────────────────────────────────────────\n",
       "                                                                              \n",
       "                                                                              \n",
       "                                                                              \n",
       "\n",
       "                                                                              \n",
       "____________                               _________          ⎞    ___________\n",
       " 3        4               4   _________   ╱  2    2           ⎟   ╱      3    \n",
       "r  + 2⋅M⋅r  ⋅sin(Ψ(r)) + r ⋅╲╱ 2⋅E + 1 ⋅╲╱  L  + r  ⋅cos(Ψ(r))⎠⋅╲╱  2⋅E⋅r  + 2\n",
       "                                                                              \n",
       "──────────────────────────────────────────────────────────────────────────────\n",
       "                                                                              \n",
       "                                                                              \n",
       "                                                                              \n",
       "\n",
       "                                                                              \n",
       "______________________                               3/2 ⎛                    \n",
       "  2      2          2     3  14   _________ ⎛ 2    2⎞    ⎜     2   _________  \n",
       "⋅L ⋅M - L ⋅r + 2⋅M⋅r   + L ⋅r  ⋅╲╱ 2⋅E + 1 ⋅⎝L  + r ⎠   ⋅⎝- L⋅r ⋅╲╱ 2⋅E + 1 ⋅╲\n",
       "                                                                              \n",
       "──────────────────────────────────────────────────────────────────────────────\n",
       "                               3                                              \n",
       "                2  18 ⎛ 2    2⎞                                               \n",
       "               L ⋅r  ⋅⎝L  + r ⎠ ⋅(2⋅M - r)                                    \n",
       "\n",
       "                                                                              \n",
       "  _________                     ______________________________________________\n",
       " ╱  2    2               3/2   ╱      2  3        5      4      4        2    \n",
       "╱  L  + r  ⋅sin(Ψ(r)) + r   ⋅╲╱  2⋅E⋅L ⋅r  + 2⋅E⋅r  + 2⋅L ⋅M - L ⋅r + 4⋅L ⋅M⋅r\n",
       "                                                                              \n",
       "──────────────────────────────────────────────────────────────────────────────\n",
       "                                                                              \n",
       "                                                                              \n",
       "                                                                              \n",
       "\n",
       "                                                                              \n",
       "___________________          ⎞                  5                    ⎞        \n",
       "2    2  3        4           ⎟      13 ⎛ 2    2⎞                     ⎟    ⎛   \n",
       "  - L ⋅r  + 2⋅M⋅r  ⋅cos(Ψ(r))⎠ + 2⋅r  ⋅⎝L  + r ⎠ ⋅(2⋅M - r)⋅sin(Ψ(r))⎠⋅sin⎜Ψ(r\n",
       "                                                                          ⎝   \n",
       "──────────────────────────────────────────────────────────────────────────────\n",
       "                                                                              \n",
       "                                                                              \n",
       "                                                                              \n",
       "\n",
       "      ⎤\n",
       "      ⎥\n",
       "    π⎞⎥\n",
       ") + ─⎟⎥\n",
       "    4⎠⎥\n",
       "──────⎥\n",
       "      ⎥\n",
       "      ⎥\n",
       "      ⎦"
      ]
     },
     "execution_count": 288,
     "metadata": {},
     "output_type": "execute_result"
    }
   ],
   "source": [
    "v_i = spinor_bar(-A)*(frac(1/4) * gamma_0(A,-B)*gamma(-jS, B,-C)*R_3(jS,-iS,-mS)*x(mS) + frac(1/8) * gamma(-kS,A,-B)*gamma(-jS,B,-C)*R_4(kS,jS,-iS,-mS)*x(mS) )*spinor(C)\n",
    "v_i = simplify((v_i.replace_with_arrays(repl_spacial,v_i.get_free_indices())).subs(theta,pi/2).subs(u_phi(r), L/r**2).subs(u_r(r), sqrt(2*Energy +  2*M/r - L**2/r**2 + 2*M*L**2/r**3)).subs(u_t(r), r*sqrt(2*Energy + 1)*sqrt(1/(4*M**2 - 4*M*r + r**2))).subs(r_s, 2*M))\n",
    "v_i"
   ]
  },
  {
   "cell_type": "code",
   "execution_count": null,
   "metadata": {},
   "outputs": [
    {
     "data": {
      "text/latex": [
       "$\\displaystyle \\left[\\begin{matrix}0 & 0 & 0\\end{matrix}\\right]$"
      ],
      "text/plain": [
       "[0  0  0]"
      ]
     },
     "execution_count": 309,
     "metadata": {},
     "output_type": "execute_result"
    }
   ],
   "source": [
    "v_i.subs(y_,0).subs(x_,0).subs(z_,0)"
   ]
  },
  {
   "attachments": {},
   "cell_type": "markdown",
   "metadata": {},
   "source": [
    "# calculate $\\delta v_\\mu$ in SS coordinates"
   ]
  },
  {
   "attachments": {},
   "cell_type": "markdown",
   "metadata": {},
   "source": [
    "$\\newcommand{\\overbar}[1]{\\mkern 1.5mu\\overline{\\mkern-1.5mu#1\\mkern-1.5mu}\\mkern 1.5mu}\\textbf{}$\n",
    "\n",
    "$\\delta v_\\alpha = \\frac{\\hbar}{m i } \\overbar{\\Psi}_0^{(\\sigma)} \\Gamma_\\alpha \\Psi_0^{(\\sigma)}$ \\\n",
    "$\\delta v_\\alpha = \\frac{\\hbar}{m i } \\frac{-1}{2}\\overbar{\\Psi}_0^{(\\sigma)} \\omega_{\\alpha a b}\\Gamma_{(1/2)}(M^{a b }) \\Psi_0^{(\\sigma)}$ \\\n",
    "$\\delta v_\\alpha = -\\frac{\\hbar}{2m i } \\omega_{\\alpha a b}\\overbar{\\Psi}_0^{(\\sigma)} \\Gamma_{(1/2)}(M^{a b }) \\Psi_0^{(\\sigma)}$\n",
    "$:= -\\frac{\\hbar}{2m i } \\omega_{\\alpha a b}\\Sigma^{ab}$\n",
    "\n",
    "$\\Sigma^{ab} = \\overbar{\\Psi}_0^{(\\sigma)} \\Gamma_{(1/2)}(M^{a b }) \\Psi_0^{(\\sigma)} =  \\frac{1}{4}\\overbar{\\Psi}_0^{(\\sigma)} \\left[ \\gamma^a, \\gamma^b\\right]\\Psi_0^{(\\sigma)}$"
   ]
  },
  {
   "cell_type": "code",
   "execution_count": 502,
   "metadata": {},
   "outputs": [
    {
     "data": {
      "text/latex": [
       "$\\displaystyle \\left[\\begin{matrix}0 & 0 & 0 & 0\\\\0 & 0 & - \\frac{i \\cos{\\left(\\xi \\right)}}{2} & \\frac{i \\sin{\\left(\\chi \\right)} \\sin{\\left(\\xi \\right)}}{2}\\\\0 & \\frac{i \\cos{\\left(\\xi \\right)}}{2} & 0 & - \\frac{i \\sin{\\left(\\xi \\right)} \\cos{\\left(\\chi \\right)}}{2}\\\\0 & - \\frac{i \\sin{\\left(\\chi \\right)} \\sin{\\left(\\xi \\right)}}{2} & \\frac{i \\sin{\\left(\\xi \\right)} \\cos{\\left(\\chi \\right)}}{2} & 0\\end{matrix}\\right]$"
      ],
      "text/plain": [
       "⎡0            0                      0                      0           ⎤\n",
       "⎢                                                                       ⎥\n",
       "⎢                               -ⅈ⋅cos(\\xi)        ⅈ⋅sin(\\chi)⋅sin(\\xi) ⎥\n",
       "⎢0            0                 ────────────       ──────────────────── ⎥\n",
       "⎢                                    2                      2           ⎥\n",
       "⎢                                                                       ⎥\n",
       "⎢         ⅈ⋅cos(\\xi)                              -ⅈ⋅sin(\\xi)⋅cos(\\chi) ⎥\n",
       "⎢0        ──────────                 0            ──────────────────────⎥\n",
       "⎢             2                                             2           ⎥\n",
       "⎢                                                                       ⎥\n",
       "⎢   -ⅈ⋅sin(\\chi)⋅sin(\\xi)   ⅈ⋅sin(\\xi)⋅cos(\\chi)                        ⎥\n",
       "⎢0  ──────────────────────  ────────────────────            0           ⎥\n",
       "⎣             2                      2                                  ⎦"
      ]
     },
     "execution_count": 502,
     "metadata": {},
     "output_type": "execute_result"
    }
   ],
   "source": [
    "xi = symbols(\"\\\\xi\", real=True)\n",
    "chi = symbols(\"\\\\chi\", real=True)\n",
    "\n",
    "def commutator(a,b):\n",
    "    return mgamma(a)@mgamma(b) - mgamma(b)@mgamma(a)\n",
    "\n",
    "def Sigma(a,b):\n",
    "    psi = Matrix([[cos(xi/2),exp(I*chi)*sin(xi/2),0,0]]).T\n",
    "    #psi = Matrix([[1,0,0,0]]).T #z-direction\n",
    "    #psi = Matrix([[0,1,0,0]]).T\n",
    "    #psi = Matrix([[1/sqrt(2), I*1/sqrt(2),0,0]]).T #y-direction\n",
    "    #psi = Matrix([[1/sqrt(2), -1/sqrt(2),0,0]]).T\n",
    "\n",
    "    return conjugate(psi).T@mgamma(0)@commutator(a,b)@psi/4\n",
    "\n",
    "def Sigma_as_Matrix():\n",
    "    s = zeros(4)\n",
    "    for i in range(4):\n",
    "        for j in range(4):\n",
    "            s[i,j] = Sigma(i,j)\n",
    "    return s\n",
    "\n",
    "\n",
    "Sigma_ab = Sigma_as_Matrix()\n",
    "Sigma_ab = simplify(Sigma_ab)\n",
    "\n",
    "Sigma_ab"
   ]
  },
  {
   "attachments": {},
   "cell_type": "markdown",
   "metadata": {},
   "source": [
    "\n",
    "\n",
    "\n",
    "$\\omega_{\\mu}^{ab} = \\Gamma^\\nu_{\\ \\ \\ \\alpha \\mu}e_\\nu^{\\ \\ \\  a}e^{\\alpha b}    - e^{\\nu b}(\\partial_\\mu  e_\\nu^{\\ \\  \\ a}) $ \n",
    "\n",
    "\n"
   ]
  },
  {
   "cell_type": "code",
   "execution_count": 541,
   "metadata": {},
   "outputs": [],
   "source": [
    "sig = TensorHead(\"sigma\", [Fermi, Fermi])\n",
    "\n",
    "repl[sig(i,j)] = Sigma_ab.tolist()"
   ]
  },
  {
   "cell_type": "code",
   "execution_count": 582,
   "metadata": {},
   "outputs": [],
   "source": [
    "deltav = (Gamma(nu,-alpha, -mu)*tetraed(i,-nu)*tetraed(j,alpha) - tetraed(j,nu)*PartialDerivative(tetraed(i,-nu), x(mu)))*sig(-j, -i)"
   ]
  },
  {
   "cell_type": "code",
   "execution_count": 586,
   "metadata": {},
   "outputs": [],
   "source": [
    "result = deltav.replace_with_arrays(repl, [-mu]).subs(psi,0).subs(u_r(r), sqrt(2*Energy +  2*M/r - L**2/r**2 + 2*M*L**2/r**3)).subs(u_t(r), r*sqrt(2*Energy + 1)*sqrt(1/(4*M**2 - 4*M*r + r**2))).subs(u_phi(r), L/r**2).subs(r_s, 2*M)\n"
   ]
  },
  {
   "cell_type": "code",
   "execution_count": 594,
   "metadata": {},
   "outputs": [],
   "source": [
    "result = simplify(result)"
   ]
  },
  {
   "cell_type": "code",
   "execution_count": 562,
   "metadata": {},
   "outputs": [],
   "source": [
    "tetrad_ = simplify(tetraed(-i, mu).replace_with_arrays(repl, [-i,mu]).subs(u_r(r), sqrt(2*Energy +  2*M/r - L**2/r**2 + 2*M*L**2/r**3)).subs(u_t(r), r*sqrt(2*Energy + 1)*sqrt(1/(4*M**2 - 4*M*r + r**2))).subs(u_phi(r), L/r**2).subs(r_s, 2*M))"
   ]
  },
  {
   "cell_type": "code",
   "execution_count": 581,
   "metadata": {},
   "outputs": [
    {
     "data": {
      "text/latex": [
       "$\\displaystyle \\left[\\begin{matrix}-1 & 0 & 0 & 0\\\\0 & 1 & 0 & 0\\\\0 & 0 & 1 & 0\\\\0 & 0 & 0 & 1\\end{matrix}\\right]$"
      ],
      "text/plain": [
       "⎡-1  0  0  0⎤\n",
       "⎢           ⎥\n",
       "⎢0   1  0  0⎥\n",
       "⎢           ⎥\n",
       "⎢0   0  1  0⎥\n",
       "⎢           ⎥\n",
       "⎣0   0  0  1⎦"
      ]
     },
     "execution_count": 581,
     "metadata": {},
     "output_type": "execute_result"
    }
   ],
   "source": [
    "E = Matrix(simplify(tetrad_.subs(L,0).subs(psi,0)))\n",
    "simplify(E @ g.subs(r_s, 2*M) @ E.T).subs(theta,pi/2)"
   ]
  },
  {
   "cell_type": "code",
   "execution_count": null,
   "metadata": {},
   "outputs": [
    {
     "data": {
      "image/png": "[encoded data removed]",
      "text/latex": [
       "$\\displaystyle 0.784757820998493$"
      ],
      "text/plain": [
       "0.7847578209984931"
      ]
     },
     "execution_count": 34,
     "metadata": {},
     "output_type": "execute_result"
    }
   ],
   "source": [
    "R = 6371\n",
    "l = 100\n",
    "L\n",
    "x = np.sqrt(R**2 + l**2) - R\n",
    "x"
   ]
  },
  {
   "cell_type": "code",
   "execution_count": null,
   "metadata": {},
   "outputs": [
    {
     "data": {
      "image/png": "[encoded data removed]",
      "text/latex": [
       "$\\displaystyle 1.0$"
      ],
      "text/plain": [
       "1.0"
      ]
     },
     "execution_count": 25,
     "metadata": {},
     "output_type": "execute_result"
    }
   ],
   "source": [
    "E = 2.4*1E6\n",
    "m = 1.5E-6\n",
    "\n",
    "alpha = E**2/m**2\n",
    "\n",
    "\n",
    "\n",
    "beta = np.sqrt((alpha-1)/(alpha+2))\n",
    "beta"
   ]
  },
  {
   "cell_type": "code",
   "execution_count": null,
   "metadata": {},
   "outputs": [
    {
     "data": {
      "image/png": "[encoded data removed]",
      "text/latex": [
       "$\\displaystyle \\sqrt{2 E + \\frac{2 L^{2} M}{r^{3}} - \\frac{L^{2}}{r^{2}} + \\frac{2 M}{r}}$"
      ],
      "text/plain": [
       "      _________________________\n",
       "     ╱          2      2       \n",
       "    ╱        2⋅L ⋅M   L    2⋅M \n",
       "   ╱   2⋅E + ────── - ── + ─── \n",
       "  ╱             3      2    r  \n",
       "╲╱             r      r        "
      ]
     },
     "execution_count": 358,
     "metadata": {},
     "output_type": "execute_result"
    }
   ],
   "source": [
    "u_r = sqrt(2*Energy +  2*M/r - L**2/r**2 + 2*M*L**2/r**3)\n",
    "u_r"
   ]
  },
  {
   "cell_type": "code",
   "execution_count": null,
   "metadata": {},
   "outputs": [
    {
     "data": {
      "image/png": "[encoded data removed]",
      "text/latex": [
       "$\\displaystyle \\frac{2 \\left(E r + M\\right)}{- 2 M + r}$"
      ],
      "text/plain": [
       "2⋅(E⋅r + M)\n",
       "───────────\n",
       "  -2⋅M + r "
      ]
     },
     "execution_count": 369,
     "metadata": {},
     "output_type": "execute_result"
    }
   ],
   "source": [
    "simplify((u_r**2 / f + (L/r**2)**2 * r**2).subs(r_s, 2*M))"
   ]
  },
  {
   "cell_type": "code",
   "execution_count": null,
   "metadata": {},
   "outputs": [
    {
     "data": {
      "image/png": "[encoded data removed]",
      "text/latex": [
       "$\\displaystyle r \\sqrt{2 E + 1} \\sqrt{\\frac{1}{4 M^{2} - 4 M r + r^{2}}}$"
      ],
      "text/plain": [
       "                   ___________________\n",
       "    _________     ╱         1         \n",
       "r⋅╲╱ 2⋅E + 1 ⋅   ╱  ───────────────── \n",
       "                ╱      2            2 \n",
       "              ╲╱    4⋅M  - 4⋅M⋅r + r  "
      ]
     },
     "execution_count": 383,
     "metadata": {},
     "output_type": "execute_result"
    }
   ],
   "source": [
    "u_t = sqrt(1/f + (u_r**2)/f**2 + ((L/r**2)**2 * r**2) / f).subs(r_s, 2*M)\n",
    "cancel(simplify(u_t))"
   ]
  },
  {
   "cell_type": "code",
   "execution_count": null,
   "metadata": {},
   "outputs": [
    {
     "data": {
      "image/png": "[encoded data removed]",
      "text/latex": [
       "$\\displaystyle -1$"
      ],
      "text/plain": [
       "-1"
      ]
     },
     "execution_count": 380,
     "metadata": {},
     "output_type": "execute_result"
    }
   ],
   "source": [
    "simplify((-u_t**2 * f + u_r**2 / f + (L/r**2)**2 * r**2 ).subs(r_s,2*M))"
   ]
  }
 ],
 "metadata": {
  "kernelspec": {
   "display_name": "Python 3",
   "language": "python",
   "name": "python3"
  },
  "language_info": {
   "codemirror_mode": {
    "name": "ipython",
    "version": 3
   },
   "file_extension": ".py",
   "mimetype": "text/x-python",
   "name": "python",
   "nbconvert_exporter": "python",
   "pygments_lexer": "ipython3",
   "version": "3.10.13"
  },
  "vscode": {
   "interpreter": {
    "hash": "d2152fd7f0bbc62aa1baff8c990435d1e2c7175d001561303988032604c11a48"
   }
  }
 },
 "nbformat": 4,
 "nbformat_minor": 2
}
