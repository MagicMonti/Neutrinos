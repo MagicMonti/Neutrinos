{
 "cells": [
  {
   "cell_type": "code",
   "execution_count": 254,
   "metadata": {},
   "outputs": [
    {
     "data": {
      "image/png": "[encoded data removed]",
      "text/latex": [
       "$\\displaystyle \\left( f, \\  r, \\  \\theta, \\  \\phi, \\  \\hbar\\right)$"
      ],
      "text/plain": [
       "(f, r, θ, φ, h̅)"
      ]
     },
     "execution_count": 254,
     "metadata": {},
     "output_type": "execute_result"
    }
   ],
   "source": [
    "from sympy import *\n",
    "from sympy.physics.hep.gamma_matrices import GammaMatrix as G, LorentzIndex, gamma_trace\n",
    "from sympy.tensor.tensor import tensor_indices\n",
    "from sympy.physics.hep.gamma_matrices import kahane_simplify\n",
    "from sympy.physics.matrices import mgamma\n",
    "from einsteinpy.symbolic.predefined import Schwarzschild \n",
    "from einsteinpy.symbolic import ChristoffelSymbols, RiemannCurvatureTensor, Tensor, BaseRelativityTensor, GenericVector, MetricTensor\n",
    "from sympy.tensor.toperators import PartialDerivative\n",
    "from sympy.tensor.tensor import TensorIndexType, TensorIndex, TensorHead, tensor_indices\n",
    "import numpy as np\n",
    "from fractions import Fraction\n",
    "\n",
    "#i,j = tensor_indices('i,j', LorentzIndex)\n",
    "init_printing(use_unicode=True)\n",
    "f, theta, phi, u_0, t, c, hbar, m_ = symbols(\"f theta phi u_0 t c hbar m\", real=True)\n",
    "\n",
    "\n",
    "r = symbols(\"r\", positive=True)\n",
    "r_s,M ,R= symbols(\"r_s M R\")\n",
    "u_t , u_r , u_theta, u_phi = symbols(\"u_t u_r u_\\\\theta u_\\phi\", cls=Function)\n",
    "\n",
    "Lorentz = TensorIndexType('Lorentz', dummy_name='Lorentz')\n",
    "Global = TensorIndexType('Global', dummy_name='Global')\n",
    "Fermi = TensorIndexType('Fermi', dummy_name='Fermi')\n",
    "Dirac = TensorIndexType('Dirac', dummy_name=\"Dirac\")\n",
    "\n",
    "a, b, c, d = tensor_indices('a b c d', Lorentz)\n",
    "alpha, beta, mu, nu, rho= tensor_indices('alpha beta mu nu rho', Global)\n",
    "i,j,k,l,m = tensor_indices(\"i j k l m\", Fermi)\n",
    "A,B,C,D,E = tensor_indices(\"A B C D E\", Dirac)\n",
    "\n",
    "f,r,theta, phi, hbar"
   ]
  },
  {
   "cell_type": "code",
   "execution_count": 268,
   "metadata": {},
   "outputs": [
    {
     "data": {
      "text/latex": [
       "$\\displaystyle \\left[\\begin{matrix}\\left[\\begin{matrix}0 & - \\frac{r_{s}}{2 r^{2} \\left(-1 + \\frac{r_{s}}{r}\\right)} & 0 & 0\\\\- \\frac{r_{s}}{2 r^{2} \\left(-1 + \\frac{r_{s}}{r}\\right)} & 0 & 0 & 0\\\\0 & 0 & 0 & 0\\\\0 & 0 & 0 & 0\\end{matrix}\\right] & \\left[\\begin{matrix}\\frac{r_{s} \\left(\\frac{1}{2} - \\frac{r_{s}}{2 r}\\right)}{r^{2}} & 0 & 0 & 0\\\\0 & - \\frac{r_{s} \\left(\\frac{1}{2} - \\frac{r_{s}}{2 r}\\right)}{r^{2} \\left(1 - \\frac{r_{s}}{r}\\right)^{2}} & 0 & 0\\\\0 & 0 & - 2 r \\left(\\frac{1}{2} - \\frac{r_{s}}{2 r}\\right) & 0\\\\0 & 0 & 0 & - 2 r \\left(\\frac{1}{2} - \\frac{r_{s}}{2 r}\\right) \\sin^{2}{\\left(\\theta \\right)}\\end{matrix}\\right] & \\left[\\begin{matrix}0 & 0 & 0 & 0\\\\0 & 0 & \\frac{1}{r} & 0\\\\0 & \\frac{1}{r} & 0 & 0\\\\0 & 0 & 0 & - \\sin{\\left(\\theta \\right)} \\cos{\\left(\\theta \\right)}\\end{matrix}\\right] & \\left[\\begin{matrix}0 & 0 & 0 & 0\\\\0 & 0 & 0 & \\frac{1}{r}\\\\0 & 0 & 0 & \\frac{\\cos{\\left(\\theta \\right)}}{\\sin{\\left(\\theta \\right)}}\\\\0 & \\frac{1}{r} & \\frac{\\cos{\\left(\\theta \\right)}}{\\sin{\\left(\\theta \\right)}} & 0\\end{matrix}\\right]\\end{matrix}\\right]$"
      ],
      "text/plain": [
       "⎡                                        ⎡   ⎛1    rₛ⎞                        \n",
       "⎢                                        ⎢rₛ⋅⎜─ - ───⎟                        \n",
       "⎢                                        ⎢   ⎝2   2⋅r⎠                        \n",
       "⎢                                        ⎢────────────        0               \n",
       "⎢⎡                     -rₛ            ⎤  ⎢      2                             \n",
       "⎢⎢      0         ──────────────  0  0⎥  ⎢     r                              \n",
       "⎢⎢                   2 ⎛     rₛ⎞      ⎥  ⎢                                    \n",
       "⎢⎢                2⋅r ⋅⎜-1 + ──⎟      ⎥  ⎢                  ⎛1    rₛ⎞         \n",
       "⎢⎢                     ⎝     r ⎠      ⎥  ⎢              -rₛ⋅⎜─ - ───⎟         \n",
       "⎢⎢                                    ⎥  ⎢                  ⎝2   2⋅r⎠         \n",
       "⎢⎢     -rₛ                            ⎥  ⎢     0        ──────────────        \n",
       "⎢⎢──────────────        0         0  0⎥  ⎢                          2         \n",
       "⎢⎢   2 ⎛     rₛ⎞                      ⎥  ⎢                2 ⎛    rₛ⎞          \n",
       "⎢⎢2⋅r ⋅⎜-1 + ──⎟                      ⎥  ⎢               r ⋅⎜1 - ──⎟          \n",
       "⎢⎢     ⎝     r ⎠                      ⎥  ⎢                  ⎝    r ⎠          \n",
       "⎢⎢                                    ⎥  ⎢                                    \n",
       "⎢⎢      0               0         0  0⎥  ⎢                                   ⎛\n",
       "⎢⎢                                    ⎥  ⎢     0              0         -2⋅r⋅⎜\n",
       "⎢⎣      0               0         0  0⎦  ⎢                                   ⎝\n",
       "⎢                                        ⎢                                    \n",
       "⎢                                        ⎢                                    \n",
       "⎢                                        ⎢     0              0               \n",
       "⎣                                        ⎣                                    \n",
       "\n",
       "                                ⎤                                             \n",
       "                                ⎥                                             \n",
       "                                ⎥                                             \n",
       "0                   0           ⎥                                             \n",
       "                                ⎥                                             \n",
       "                                ⎥                             ⎡0  0    0      \n",
       "                                ⎥  ⎡0  0  0        0       ⎤  ⎢               \n",
       "                                ⎥  ⎢                       ⎥  ⎢               \n",
       "                                ⎥  ⎢      1                ⎥  ⎢0  0    0      \n",
       "                                ⎥  ⎢0  0  ─        0       ⎥  ⎢               \n",
       "0                   0           ⎥  ⎢      r                ⎥  ⎢               \n",
       "                                ⎥  ⎢                       ⎥  ⎢              c\n",
       "                                ⎥  ⎢   1                   ⎥  ⎢0  0    0     ─\n",
       "                                ⎥  ⎢0  ─  0        0       ⎥  ⎢              s\n",
       "                                ⎥  ⎢   r                   ⎥  ⎢               \n",
       "                                ⎥  ⎢                       ⎥  ⎢   1  cos(θ)   \n",
       "1    rₛ⎞                        ⎥  ⎣0  0  0  -sin(θ)⋅cos(θ)⎦  ⎢0  ─  ──────   \n",
       "─ - ───⎟            0           ⎥                             ⎣   r  sin(θ)   \n",
       "2   2⋅r⎠                        ⎥                                             \n",
       "                                ⎥                                             \n",
       "               ⎛1    rₛ⎞    2   ⎥                                             \n",
       "0         -2⋅r⋅⎜─ - ───⎟⋅sin (θ)⎥                                             \n",
       "               ⎝2   2⋅r⎠        ⎦                                             \n",
       "\n",
       "      ⎤\n",
       "      ⎥\n",
       "      ⎥\n",
       "      ⎥\n",
       "      ⎥\n",
       " 0   ⎤⎥\n",
       "     ⎥⎥\n",
       " 1   ⎥⎥\n",
       " ─   ⎥⎥\n",
       " r   ⎥⎥\n",
       "     ⎥⎥\n",
       "os(θ)⎥⎥\n",
       "─────⎥⎥\n",
       "in(θ)⎥⎥\n",
       "     ⎥⎥\n",
       "     ⎥⎥\n",
       " 0   ⎥⎥\n",
       "     ⎦⎥\n",
       "      ⎥\n",
       "      ⎥\n",
       "      ⎥\n",
       "      ⎥\n",
       "      ⎦"
      ]
     },
     "execution_count": 268,
     "metadata": {},
     "output_type": "execute_result"
    }
   ],
   "source": [
    "f = (1-r_s/r)\n",
    "g_t = -f\n",
    "g_r = 1/f\n",
    "g_theta = r**2\n",
    "g_phi = r**2 * sin(theta)**2\n",
    "\n",
    "g = Matrix([[g_t, 0,0,0],[0,g_r,0,0],[0,0,g_theta,0],[0,0,0,g_phi]])\n",
    "g_ = MetricTensor(g.tolist(),syms=[t,r,theta,phi], config='ll', name=\"ss-metric\") \n",
    "ch = ChristoffelSymbols.from_metric(g_)\n",
    "ch = ch.change_config(\"ull\")\n",
    "ch.tensor()"
   ]
  },
  {
   "cell_type": "code",
   "execution_count": 79,
   "metadata": {},
   "outputs": [
    {
     "data": {
      "text/latex": [
       "$\\displaystyle \\left[\\begin{matrix}0 & 0 & 0 & 0\\\\0 & 0 & 0 & 0\\\\0 & 0 & 0 & r^{3} \\sin{\\left(\\theta \\right)}\\\\0 & 0 & - r^{3} \\sin{\\left(\\theta \\right)} & 0\\end{matrix}\\right]$"
      ],
      "text/plain": [
       "⎡0  0      0           0    ⎤\n",
       "⎢                           ⎥\n",
       "⎢0  0      0           0    ⎥\n",
       "⎢                           ⎥\n",
       "⎢                   3       ⎥\n",
       "⎢0  0      0       r ⋅sin(θ)⎥\n",
       "⎢                           ⎥\n",
       "⎢        3                  ⎥\n",
       "⎣0  0  -r ⋅sin(θ)      0    ⎦"
      ]
     },
     "execution_count": 79,
     "metadata": {},
     "output_type": "execute_result"
    }
   ],
   "source": [
    "#defining Killing-Yano tensor \"Matrix\"\n",
    "\n",
    "f_ = Matrix(\n",
    "    [\n",
    "        [0,0,0,0],\n",
    "        [0,0,0,0],\n",
    "        [0,0,0,r**3 *sin(theta) ],\n",
    "        [0,0,-r**3 * sin(theta),0]])\n",
    "f_"
   ]
  },
  {
   "cell_type": "code",
   "execution_count": 80,
   "metadata": {},
   "outputs": [],
   "source": [
    "#from matrix to tensors\n",
    "\n",
    "eta = Matrix([[-1,0,0,0],[0,1,0,0],[0,0,1,0],[0,0,0,1]])\n",
    "\n",
    "repl = {}\n",
    "repl[Lorentz] = eta.tolist()\n",
    "repl[Global] = g_.tensor().tolist()\n",
    "repl[Fermi] = eta.tolist() #this only correct along the geodesic\n",
    "\n",
    "Gamma = TensorHead('Gamma', [Global, Global, Global]) #the christoffel symbol\n",
    "minkowski_m = TensorHead('eta', [Lorentz, Lorentz])\n",
    "schwarzschild_m = TensorHead('g', [Global, Global])\n",
    "KY = TensorHead(\"f\", [Global, Global]) #Killin-Yano tensor\n",
    "x = TensorHead('x', [Global])\n",
    "\n",
    "repl[x(mu)] = [t, r, theta, phi]\n",
    "repl[minkowski_m(-a, -b)] = eta.tolist()\n",
    "repl[schwarzschild_m(-mu, -nu)] = g_.tensor().tolist()\n",
    "repl[Gamma(alpha, -mu, -nu)] = ch.tensor().tolist()\n",
    "repl[KY(-alpha, -beta)] = f_.tolist()\n"
   ]
  },
  {
   "attachments": {},
   "cell_type": "markdown",
   "metadata": {},
   "source": [
    "# verifying Killing-eq\n",
    "\n",
    "$$\\nabla_{\\rho} f_{\\mu \\nu} + \\nabla_{\\nu} f_{\\mu \\rho} = 0$$\n",
    "$$\\partial_{\\rho} f_{\\mu \\nu} + \\partial_{\\nu} f_{\\mu \\rho} - \\Gamma^\\alpha_{\\rho \\mu}f_{\\alpha \\nu} - \\Gamma^\\alpha_{\\nu \\mu}f_{\\alpha \\rho} - 2*\\Gamma^\\alpha_{\\rho \\nu}f_{\\mu \\alpha} = 0$$"
   ]
  },
  {
   "cell_type": "code",
   "execution_count": 81,
   "metadata": {},
   "outputs": [
    {
     "data": {
      "text/latex": [
       "$\\displaystyle \\left[\\begin{matrix}\\left[\\begin{matrix}0 & 0 & 0 & 0\\\\0 & 0 & 0 & 0\\\\0 & 0 & 0 & 0\\\\0 & 0 & 0 & 0\\end{matrix}\\right] & \\left[\\begin{matrix}0 & 0 & 0 & 0\\\\0 & 0 & 0 & 0\\\\0 & 0 & 0 & 0\\\\0 & 0 & 0 & 0\\end{matrix}\\right] & \\left[\\begin{matrix}0 & 0 & 0 & 0\\\\0 & 0 & 0 & 0\\\\0 & 0 & 0 & 0\\\\0 & 0 & 0 & 0\\end{matrix}\\right] & \\left[\\begin{matrix}0 & 0 & 0 & 0\\\\0 & 0 & 0 & 0\\\\0 & 0 & 0 & 0\\\\0 & 0 & 0 & 0\\end{matrix}\\right]\\end{matrix}\\right]$"
      ],
      "text/plain": [
       "⎡⎡0  0  0  0⎤  ⎡0  0  0  0⎤  ⎡0  0  0  0⎤  ⎡0  0  0  0⎤⎤\n",
       "⎢⎢          ⎥  ⎢          ⎥  ⎢          ⎥  ⎢          ⎥⎥\n",
       "⎢⎢0  0  0  0⎥  ⎢0  0  0  0⎥  ⎢0  0  0  0⎥  ⎢0  0  0  0⎥⎥\n",
       "⎢⎢          ⎥  ⎢          ⎥  ⎢          ⎥  ⎢          ⎥⎥\n",
       "⎢⎢0  0  0  0⎥  ⎢0  0  0  0⎥  ⎢0  0  0  0⎥  ⎢0  0  0  0⎥⎥\n",
       "⎢⎢          ⎥  ⎢          ⎥  ⎢          ⎥  ⎢          ⎥⎥\n",
       "⎣⎣0  0  0  0⎦  ⎣0  0  0  0⎦  ⎣0  0  0  0⎦  ⎣0  0  0  0⎦⎦"
      ]
     },
     "execution_count": 81,
     "metadata": {},
     "output_type": "execute_result"
    }
   ],
   "source": [
    "Keq = PartialDerivative(KY(-mu, -nu), x(rho)) + PartialDerivative(KY(-mu, -rho), x(nu)) - Gamma(alpha,-rho,-mu)*KY(-alpha,-nu) - Gamma(alpha, -nu, -mu)*KY(-alpha, -rho) + 2*Gamma(alpha,-rho,-nu)*KY(-alpha,-mu) \n",
    "simplify(Keq.replace_with_arrays(repl, Keq.get_free_indices()))"
   ]
  },
  {
   "attachments": {},
   "cell_type": "markdown",
   "metadata": {},
   "source": [
    "# finding first tetraed\n",
    "\n",
    "$L^\\mu = f^\\mu_{\\ \\ \\ \\nu} u^\\nu$"
   ]
  },
  {
   "cell_type": "code",
   "execution_count": 82,
   "metadata": {},
   "outputs": [
    {
     "name": "stderr",
     "output_type": "stream",
     "text": [
      "/tmp/ipykernel_1552/1227335532.py:8: SymPyDeprecationWarning: \n",
      "\n",
      "Calling a tensor like Tensor(*indices) is deprecated. Use\n",
      "Tensor.substitute_indices() instead.\n",
      "\n",
      "See https://docs.sympy.org/latest/explanation/active-deprecations.html#deprecated-tensor-fun-eval\n",
      "for details.\n",
      "\n",
      "This has been deprecated since SymPy version 1.5. It\n",
      "will be removed in a future version of SymPy.\n",
      "\n",
      "  Norm_L = L(alpha)*L(-alpha)\n"
     ]
    },
    {
     "data": {
      "text/latex": [
       "$\\displaystyle \\left[\\begin{matrix}0 & 0 & \\frac{u_{\\phi}{\\left(r \\right)}}{r \\sqrt{u_{\\phi}^{2}{\\left(r \\right)}}} & 0\\end{matrix}\\right]$"
      ],
      "text/plain": [
       "⎡          u_\\phi(r)       ⎤\n",
       "⎢0  0  ─────────────────  0⎥\n",
       "⎢           ____________   ⎥\n",
       "⎢          ╱       2       ⎥\n",
       "⎣      r⋅╲╱  u_\\phi (r)    ⎦"
      ]
     },
     "execution_count": 82,
     "metadata": {},
     "output_type": "execute_result"
    }
   ],
   "source": [
    "u = TensorHead('u', [Global])\n",
    "#u_t, u_r, u_theta, u_phi = symbols(\"u_t u_r u_theta u_phi\", real = True, positive=True)\n",
    "u_t = u_t(r)\n",
    "u_r = u_r(r)\n",
    "u_phi = u_phi(r)\n",
    "repl[u(mu)] = [u_t, u_r, 0 ,u_phi]\n",
    "L = KY(mu,-nu)*u(nu)\n",
    "Norm_L = L(alpha)*L(-alpha)\n",
    "Norm_value = Norm_L.replace_with_arrays(repl, [])\n",
    "#therefore\n",
    "e_2 = L/sqrt(Norm_value)\n",
    "simplify(e_2.replace_with_arrays(repl, [mu])).subs(theta, pi/2)"
   ]
  },
  {
   "cell_type": "code",
   "execution_count": 84,
   "metadata": {},
   "outputs": [],
   "source": [
    "e_1 = TensorHead('e_1', [Global])\n",
    "L = Symbol(\"L\", positive=True) #anuglar momentum\n",
    "e_3 = TensorHead('e_3', [Global])\n",
    "const = (r**2 + L**2)/(r**2 * L)\n",
    "\n",
    "N_1 = sqrt(1+ L**2/r**2)\n",
    "N_3 = sqrt(1 + r**2/L**2)\n",
    "\n",
    "repl[e_1(mu)] = [u_r/(f*N_1), u_t*f/N_1, 0,0]\n",
    "repl[e_3(mu)] = [u_t/N_3, u_r/N_3, 0,const]"
   ]
  },
  {
   "attachments": {},
   "cell_type": "markdown",
   "metadata": {},
   "source": [
    "$$u^\\mu \\partial_\\mu \\Psi = u^\\mu\\left(-e_3^\\nu \\partial_\\mu e_{1\\nu} + e_3^\\nu \\Gamma^\\alpha_{\\mu\\nu}e_{1\\alpha}\\right)$$"
   ]
  },
  {
   "cell_type": "code",
   "execution_count": 87,
   "metadata": {},
   "outputs": [],
   "source": [
    "expr = u(mu)*(-e_3(nu)*PartialDerivative(e_1(-nu), x(mu)) + e_3(nu)*Gamma(alpha, -nu, -mu)*e_1(-alpha))\n",
    "F = simplify(expr.replace_with_arrays(repl, []).subs(theta, pi/2).subs(u_phi, L/r**2)/u_r)"
   ]
  },
  {
   "cell_type": "code",
   "execution_count": 88,
   "metadata": {},
   "outputs": [
    {
     "data": {
      "image/png": "[encoded data removed]",
      "text/latex": [
       "$\\displaystyle \\frac{- L r^{3} \\left(L^{2} + r^{2}\\right)^{\\frac{13}{2}} \\left(r_{s} \\left(L^{2} + r^{2}\\right) \\left(r - r_{s}\\right)^{3} u_{r}{\\left(r \\right)} u_{t}{\\left(r \\right)} + \\left(r - r_{s}\\right)^{4} \\left(L^{2} u_{t}{\\left(r \\right)} + r \\left(L^{2} + r^{2}\\right) \\frac{d}{d r} u_{t}{\\left(r \\right)}\\right) u_{r}{\\left(r \\right)} + \\left(- L^{2} \\left(- r + r_{s}\\right)^{4} u_{r}{\\left(r \\right)} - r_{s} \\left(L^{2} + r^{2}\\right) \\left(- r + r_{s}\\right)^{3} u_{r}{\\left(r \\right)} + \\left(L^{2} + r^{2}\\right) \\left(r - r_{s}\\right)^{3} \\left(r \\left(- r + r_{s}\\right) \\frac{d}{d r} u_{r}{\\left(r \\right)} - r_{s} u_{r}{\\left(r \\right)}\\right)\\right) u_{t}{\\left(r \\right)}\\right) u_{r}{\\left(r \\right)} + \\frac{L r r_{s} \\left(L^{2} + r^{2}\\right)^{\\frac{15}{2}} \\left(r - r_{s}\\right)^{3} \\left(- r^{2} u_{r}^{2}{\\left(r \\right)} + \\left(r - r_{s}\\right)^{2} u_{t}^{2}{\\left(r \\right)}\\right) u_{t}{\\left(r \\right)}}{2} - \\left(L^{2} + r^{2}\\right)^{9} \\left(r - r_{s}\\right)^{5} u_{t}{\\left(r \\right)}}{r^{3} \\left(L^{2} + r^{2}\\right)^{\\frac{17}{2}} \\left(r - r_{s}\\right)^{4} u_{r}{\\left(r \\right)}}$"
      ],
      "text/plain": [
       "                                                                              \n",
       "                13/2                                                          \n",
       "     3 ⎛ 2    2⎞     ⎛   ⎛ 2    2⎞         3                       4 ⎛ 2      \n",
       "- L⋅r ⋅⎝L  + r ⎠    ⋅⎜rₛ⋅⎝L  + r ⎠⋅(r - rₛ) ⋅uᵣ(r)⋅uₜ(r) + (r - rₛ) ⋅⎜L ⋅uₜ(r)\n",
       "                     ⎝                                               ⎝        \n",
       "──────────────────────────────────────────────────────────────────────────────\n",
       "                                                                              \n",
       "                                                                              \n",
       "                                                                              \n",
       "\n",
       "                                                                              \n",
       "                                                                              \n",
       "     ⎛ 2    2⎞ d        ⎞         ⎛   2          4            ⎛ 2    2⎞       \n",
       " + r⋅⎝L  + r ⎠⋅──(uₜ(r))⎟⋅uᵣ(r) + ⎜- L ⋅(-r + rₛ) ⋅uᵣ(r) - rₛ⋅⎝L  + r ⎠⋅(-r + \n",
       "               dr       ⎠         ⎝                                           \n",
       "──────────────────────────────────────────────────────────────────────────────\n",
       "                                                                              \n",
       "                                                                            3 \n",
       "                                                                           r ⋅\n",
       "\n",
       "                                                                              \n",
       "                                                                              \n",
       "   3         ⎛ 2    2⎞         3 ⎛            d                   ⎞⎞      ⎞   \n",
       "rₛ) ⋅uᵣ(r) + ⎝L  + r ⎠⋅(r - rₛ) ⋅⎜r⋅(-r + rₛ)⋅──(uᵣ(r)) - rₛ⋅uᵣ(r)⎟⎟⋅uₜ(r)⎟⋅uᵣ\n",
       "                                 ⎝            dr                  ⎠⎠      ⎠   \n",
       "──────────────────────────────────────────────────────────────────────────────\n",
       "         17/2                                                                 \n",
       "⎛ 2    2⎞             4                                                       \n",
       "⎝L  + r ⎠    ⋅(r - rₛ) ⋅uᵣ(r)                                                 \n",
       "\n",
       "                      15/2                                                    \n",
       "             ⎛ 2    2⎞             3 ⎛   2   2              2   2   ⎞         \n",
       "      L⋅r⋅rₛ⋅⎝L  + r ⎠    ⋅(r - rₛ) ⋅⎝- r ⋅uᵣ (r) + (r - rₛ) ⋅uₜ (r)⎠⋅uₜ(r)   \n",
       "(r) + ───────────────────────────────────────────────────────────────────── - \n",
       "                                        2                                     \n",
       "──────────────────────────────────────────────────────────────────────────────\n",
       "                                                                              \n",
       "                                                                              \n",
       "                                                                              \n",
       "\n",
       "                          \n",
       "         9                \n",
       "⎛ 2    2⎞          5      \n",
       "⎝L  + r ⎠ ⋅(r - rₛ) ⋅uₜ(r)\n",
       "                          \n",
       "──────────────────────────\n",
       "                          \n",
       "                          \n",
       "                          "
      ]
     },
     "execution_count": 88,
     "metadata": {},
     "output_type": "execute_result"
    }
   ],
   "source": [
    "F"
   ]
  },
  {
   "cell_type": "code",
   "execution_count": 89,
   "metadata": {},
   "outputs": [
    {
     "ename": "KeyboardInterrupt",
     "evalue": "",
     "output_type": "error",
     "traceback": [
      "\u001b[0;31m---------------------------------------------------------------------------\u001b[0m",
      "\u001b[0;31mKeyboardInterrupt\u001b[0m                         Traceback (most recent call last)",
      "Cell \u001b[0;32mIn[89], line 3\u001b[0m\n\u001b[1;32m      1\u001b[0m Energy \u001b[39m=\u001b[39m Symbol(\u001b[39m\"\u001b[39m\u001b[39mE\u001b[39m\u001b[39m\"\u001b[39m, positive\u001b[39m=\u001b[39m\u001b[39mTrue\u001b[39;00m)\n\u001b[0;32m----> 3\u001b[0m simplify(F\u001b[39m.\u001b[39;49msubs(u_r, sqrt(\u001b[39m2\u001b[39;49m\u001b[39m*\u001b[39;49mEnergy \u001b[39m+\u001b[39;49m  \u001b[39m2\u001b[39;49m\u001b[39m*\u001b[39;49mM\u001b[39m/\u001b[39;49mr \u001b[39m-\u001b[39;49m L\u001b[39m*\u001b[39;49m\u001b[39m*\u001b[39;49m\u001b[39m2\u001b[39;49m\u001b[39m/\u001b[39;49mr\u001b[39m*\u001b[39;49m\u001b[39m*\u001b[39;49m\u001b[39m2\u001b[39;49m \u001b[39m+\u001b[39;49m \u001b[39m2\u001b[39;49m\u001b[39m*\u001b[39;49mM\u001b[39m*\u001b[39;49mL\u001b[39m*\u001b[39;49m\u001b[39m*\u001b[39;49m\u001b[39m2\u001b[39;49m\u001b[39m/\u001b[39;49mr\u001b[39m*\u001b[39;49m\u001b[39m*\u001b[39;49m\u001b[39m3\u001b[39;49m)))\n",
      "File \u001b[0;32m~/.var/app/com.visualstudio.code-oss/data/python/lib/python3.10/site-packages/sympy/simplify/simplify.py:645\u001b[0m, in \u001b[0;36msimplify\u001b[0;34m(expr, ratio, measure, rational, inverse, doit, **kwargs)\u001b[0m\n\u001b[1;32m    643\u001b[0m expr \u001b[39m=\u001b[39m Mul(\u001b[39m*\u001b[39mpowsimp(expr)\u001b[39m.\u001b[39mas_content_primitive())\n\u001b[1;32m    644\u001b[0m _e \u001b[39m=\u001b[39m cancel(expr)\n\u001b[0;32m--> 645\u001b[0m expr1 \u001b[39m=\u001b[39m shorter(_e, _mexpand(_e)\u001b[39m.\u001b[39;49mcancel())  \u001b[39m# issue 6829\u001b[39;00m\n\u001b[1;32m    646\u001b[0m expr2 \u001b[39m=\u001b[39m shorter(together(expr, deep\u001b[39m=\u001b[39m\u001b[39mTrue\u001b[39;00m), together(expr1, deep\u001b[39m=\u001b[39m\u001b[39mTrue\u001b[39;00m))\n\u001b[1;32m    648\u001b[0m \u001b[39mif\u001b[39;00m ratio \u001b[39mis\u001b[39;00m S\u001b[39m.\u001b[39mInfinity:\n",
      "File \u001b[0;32m~/.var/app/com.visualstudio.code-oss/data/python/lib/python3.10/site-packages/sympy/core/expr.py:3791\u001b[0m, in \u001b[0;36mExpr.cancel\u001b[0;34m(self, *gens, **args)\u001b[0m\n\u001b[1;32m   3789\u001b[0m \u001b[39m\u001b[39m\u001b[39m\"\"\"See the cancel function in sympy.polys\"\"\"\u001b[39;00m\n\u001b[1;32m   3790\u001b[0m \u001b[39mfrom\u001b[39;00m \u001b[39msympy\u001b[39;00m\u001b[39m.\u001b[39;00m\u001b[39mpolys\u001b[39;00m\u001b[39m.\u001b[39;00m\u001b[39mpolytools\u001b[39;00m \u001b[39mimport\u001b[39;00m cancel\n\u001b[0;32m-> 3791\u001b[0m \u001b[39mreturn\u001b[39;00m cancel(\u001b[39mself\u001b[39;49m, \u001b[39m*\u001b[39;49mgens, \u001b[39m*\u001b[39;49m\u001b[39m*\u001b[39;49margs)\n",
      "File \u001b[0;32m~/.var/app/com.visualstudio.code-oss/data/python/lib/python3.10/site-packages/sympy/polys/polytools.py:6890\u001b[0m, in \u001b[0;36mcancel\u001b[0;34m(f, _signsimp, *gens, **args)\u001b[0m\n\u001b[1;32m   6887\u001b[0m                 \u001b[39mpass\u001b[39;00m\n\u001b[1;32m   6888\u001b[0m         \u001b[39mreturn\u001b[39;00m f\u001b[39m.\u001b[39mxreplace(\u001b[39mdict\u001b[39m(reps))\n\u001b[0;32m-> 6890\u001b[0m c, (P, Q) \u001b[39m=\u001b[39m \u001b[39m1\u001b[39m, F\u001b[39m.\u001b[39;49mcancel(G)\n\u001b[1;32m   6891\u001b[0m \u001b[39mif\u001b[39;00m opt\u001b[39m.\u001b[39mget(\u001b[39m'\u001b[39m\u001b[39mpolys\u001b[39m\u001b[39m'\u001b[39m, \u001b[39mFalse\u001b[39;00m) \u001b[39mand\u001b[39;00m \u001b[39m'\u001b[39m\u001b[39mgens\u001b[39m\u001b[39m'\u001b[39m \u001b[39mnot\u001b[39;00m \u001b[39min\u001b[39;00m opt:\n\u001b[1;32m   6892\u001b[0m     opt[\u001b[39m'\u001b[39m\u001b[39mgens\u001b[39m\u001b[39m'\u001b[39m] \u001b[39m=\u001b[39m R\u001b[39m.\u001b[39msymbols\n",
      "File \u001b[0;32m~/.var/app/com.visualstudio.code-oss/data/python/lib/python3.10/site-packages/sympy/polys/rings.py:2242\u001b[0m, in \u001b[0;36mPolyElement.cancel\u001b[0;34m(self, g)\u001b[0m\n\u001b[1;32m   2239\u001b[0m domain \u001b[39m=\u001b[39m ring\u001b[39m.\u001b[39mdomain\n\u001b[1;32m   2241\u001b[0m \u001b[39mif\u001b[39;00m \u001b[39mnot\u001b[39;00m (domain\u001b[39m.\u001b[39mis_Field \u001b[39mand\u001b[39;00m domain\u001b[39m.\u001b[39mhas_assoc_Ring):\n\u001b[0;32m-> 2242\u001b[0m     _, p, q \u001b[39m=\u001b[39m f\u001b[39m.\u001b[39;49mcofactors(g)\n\u001b[1;32m   2243\u001b[0m \u001b[39melse\u001b[39;00m:\n\u001b[1;32m   2244\u001b[0m     new_ring \u001b[39m=\u001b[39m ring\u001b[39m.\u001b[39mclone(domain\u001b[39m=\u001b[39mdomain\u001b[39m.\u001b[39mget_ring())\n",
      "File \u001b[0;32m~/.var/app/com.visualstudio.code-oss/data/python/lib/python3.10/site-packages/sympy/polys/rings.py:2158\u001b[0m, in \u001b[0;36mPolyElement.cofactors\u001b[0;34m(f, g)\u001b[0m\n\u001b[1;32m   2155\u001b[0m     \u001b[39mreturn\u001b[39;00m h, cff, cfg\n\u001b[1;32m   2157\u001b[0m J, (f, g) \u001b[39m=\u001b[39m f\u001b[39m.\u001b[39mdeflate(g)\n\u001b[0;32m-> 2158\u001b[0m h, cff, cfg \u001b[39m=\u001b[39m f\u001b[39m.\u001b[39;49m_gcd(g)\n\u001b[1;32m   2160\u001b[0m \u001b[39mreturn\u001b[39;00m (h\u001b[39m.\u001b[39minflate(J), cff\u001b[39m.\u001b[39minflate(J), cfg\u001b[39m.\u001b[39minflate(J))\n",
      "File \u001b[0;32m~/.var/app/com.visualstudio.code-oss/data/python/lib/python3.10/site-packages/sympy/polys/rings.py:2191\u001b[0m, in \u001b[0;36mPolyElement._gcd\u001b[0;34m(f, g)\u001b[0m\n\u001b[1;32m   2189\u001b[0m     \u001b[39mreturn\u001b[39;00m f\u001b[39m.\u001b[39m_gcd_QQ(g)\n\u001b[1;32m   2190\u001b[0m \u001b[39melif\u001b[39;00m ring\u001b[39m.\u001b[39mdomain\u001b[39m.\u001b[39mis_ZZ:\n\u001b[0;32m-> 2191\u001b[0m     \u001b[39mreturn\u001b[39;00m f\u001b[39m.\u001b[39;49m_gcd_ZZ(g)\n\u001b[1;32m   2192\u001b[0m \u001b[39melse\u001b[39;00m: \u001b[39m# TODO: don't use dense representation (port PRS algorithms)\u001b[39;00m\n\u001b[1;32m   2193\u001b[0m     \u001b[39mreturn\u001b[39;00m ring\u001b[39m.\u001b[39mdmp_inner_gcd(f, g)\n",
      "File \u001b[0;32m~/.var/app/com.visualstudio.code-oss/data/python/lib/python3.10/site-packages/sympy/polys/rings.py:2196\u001b[0m, in \u001b[0;36mPolyElement._gcd_ZZ\u001b[0;34m(f, g)\u001b[0m\n\u001b[1;32m   2195\u001b[0m \u001b[39mdef\u001b[39;00m \u001b[39m_gcd_ZZ\u001b[39m(f, g):\n\u001b[0;32m-> 2196\u001b[0m     \u001b[39mreturn\u001b[39;00m heugcd(f, g)\n",
      "File \u001b[0;32m~/.var/app/com.visualstudio.code-oss/data/python/lib/python3.10/site-packages/sympy/polys/heuristicgcd.py:80\u001b[0m, in \u001b[0;36mheugcd\u001b[0;34m(f, g)\u001b[0m\n\u001b[1;32m     78\u001b[0m     h, cff, cfg \u001b[39m=\u001b[39m domain\u001b[39m.\u001b[39mcofactors(ff, gg)\n\u001b[1;32m     79\u001b[0m \u001b[39melse\u001b[39;00m:\n\u001b[0;32m---> 80\u001b[0m     h, cff, cfg \u001b[39m=\u001b[39m heugcd(ff, gg)\n\u001b[1;32m     82\u001b[0m h \u001b[39m=\u001b[39m _gcd_interpolate(h, x, ring)\n\u001b[1;32m     83\u001b[0m h \u001b[39m=\u001b[39m h\u001b[39m.\u001b[39mprimitive()[\u001b[39m1\u001b[39m]\n",
      "File \u001b[0;32m~/.var/app/com.visualstudio.code-oss/data/python/lib/python3.10/site-packages/sympy/polys/heuristicgcd.py:80\u001b[0m, in \u001b[0;36mheugcd\u001b[0;34m(f, g)\u001b[0m\n\u001b[1;32m     78\u001b[0m     h, cff, cfg \u001b[39m=\u001b[39m domain\u001b[39m.\u001b[39mcofactors(ff, gg)\n\u001b[1;32m     79\u001b[0m \u001b[39melse\u001b[39;00m:\n\u001b[0;32m---> 80\u001b[0m     h, cff, cfg \u001b[39m=\u001b[39m heugcd(ff, gg)\n\u001b[1;32m     82\u001b[0m h \u001b[39m=\u001b[39m _gcd_interpolate(h, x, ring)\n\u001b[1;32m     83\u001b[0m h \u001b[39m=\u001b[39m h\u001b[39m.\u001b[39mprimitive()[\u001b[39m1\u001b[39m]\n",
      "    \u001b[0;31m[... skipping similar frames: heugcd at line 80 (6 times)]\u001b[0m\n",
      "File \u001b[0;32m~/.var/app/com.visualstudio.code-oss/data/python/lib/python3.10/site-packages/sympy/polys/heuristicgcd.py:80\u001b[0m, in \u001b[0;36mheugcd\u001b[0;34m(f, g)\u001b[0m\n\u001b[1;32m     78\u001b[0m     h, cff, cfg \u001b[39m=\u001b[39m domain\u001b[39m.\u001b[39mcofactors(ff, gg)\n\u001b[1;32m     79\u001b[0m \u001b[39melse\u001b[39;00m:\n\u001b[0;32m---> 80\u001b[0m     h, cff, cfg \u001b[39m=\u001b[39m heugcd(ff, gg)\n\u001b[1;32m     82\u001b[0m h \u001b[39m=\u001b[39m _gcd_interpolate(h, x, ring)\n\u001b[1;32m     83\u001b[0m h \u001b[39m=\u001b[39m h\u001b[39m.\u001b[39mprimitive()[\u001b[39m1\u001b[39m]\n",
      "File \u001b[0;32m~/.var/app/com.visualstudio.code-oss/data/python/lib/python3.10/site-packages/sympy/polys/heuristicgcd.py:73\u001b[0m, in \u001b[0;36mheugcd\u001b[0;34m(f, g)\u001b[0m\n\u001b[1;32m     68\u001b[0m x \u001b[39m=\u001b[39m \u001b[39mmax\u001b[39m(\u001b[39mmin\u001b[39m(B, \u001b[39m99\u001b[39m\u001b[39m*\u001b[39mdomain\u001b[39m.\u001b[39msqrt(B)),\n\u001b[1;32m     69\u001b[0m         \u001b[39m2\u001b[39m\u001b[39m*\u001b[39m\u001b[39mmin\u001b[39m(f_norm \u001b[39m/\u001b[39m\u001b[39m/\u001b[39m \u001b[39mabs\u001b[39m(f\u001b[39m.\u001b[39mLC),\n\u001b[1;32m     70\u001b[0m               g_norm \u001b[39m/\u001b[39m\u001b[39m/\u001b[39m \u001b[39mabs\u001b[39m(g\u001b[39m.\u001b[39mLC)) \u001b[39m+\u001b[39m \u001b[39m4\u001b[39m)\n\u001b[1;32m     72\u001b[0m \u001b[39mfor\u001b[39;00m i \u001b[39min\u001b[39;00m \u001b[39mrange\u001b[39m(\u001b[39m0\u001b[39m, HEU_GCD_MAX):\n\u001b[0;32m---> 73\u001b[0m     ff \u001b[39m=\u001b[39m f\u001b[39m.\u001b[39;49mevaluate(x0, x)\n\u001b[1;32m     74\u001b[0m     gg \u001b[39m=\u001b[39m g\u001b[39m.\u001b[39mevaluate(x0, x)\n\u001b[1;32m     76\u001b[0m     \u001b[39mif\u001b[39;00m ff \u001b[39mand\u001b[39;00m gg:\n",
      "File \u001b[0;32m~/.var/app/com.visualstudio.code-oss/data/python/lib/python3.10/site-packages/sympy/polys/rings.py:2339\u001b[0m, in \u001b[0;36mPolyElement.evaluate\u001b[0;34m(self, x, a)\u001b[0m\n\u001b[1;32m   2337\u001b[0m \u001b[39mfor\u001b[39;00m monom, coeff \u001b[39min\u001b[39;00m f\u001b[39m.\u001b[39miterterms():\n\u001b[1;32m   2338\u001b[0m     n, monom \u001b[39m=\u001b[39m monom[i], monom[:i] \u001b[39m+\u001b[39m monom[i\u001b[39m+\u001b[39m\u001b[39m1\u001b[39m:]\n\u001b[0;32m-> 2339\u001b[0m     coeff \u001b[39m=\u001b[39m coeff\u001b[39m*\u001b[39ma\u001b[39m*\u001b[39;49m\u001b[39m*\u001b[39;49mn\n\u001b[1;32m   2341\u001b[0m     \u001b[39mif\u001b[39;00m monom \u001b[39min\u001b[39;00m poly:\n\u001b[1;32m   2342\u001b[0m         coeff \u001b[39m=\u001b[39m coeff \u001b[39m+\u001b[39m poly[monom]\n",
      "\u001b[0;31mKeyboardInterrupt\u001b[0m: "
     ]
    }
   ],
   "source": [
    "Energy = Symbol(\"E\", positive=True)\n",
    "\n",
    "F = simplify(F.subs(u_r, sqrt(2*Energy +  2*M/r - L**2/r**2 + 2*M*L**2/r**3)))"
   ]
  },
  {
   "cell_type": "code",
   "execution_count": 90,
   "metadata": {},
   "outputs": [],
   "source": [
    "u_val = u(mu).replace_with_arrays(repl, [mu]).tolist()\n",
    "e_1_val = e_1(mu).replace_with_arrays(repl, [mu])\n",
    "e_2_val = [0,0,1/r,0]\n",
    "e_3_val = e_3(mu).replace_with_arrays(repl,[mu])\n"
   ]
  },
  {
   "cell_type": "code",
   "execution_count": 92,
   "metadata": {},
   "outputs": [],
   "source": [
    "#defining the vierbein\n",
    "tetraed = TensorHead(\"e\", [Fermi, Global])\n",
    "\n",
    "psi = symbols(\"Psi\", cls=Function)\n",
    "psi = psi(r)\n",
    "\n",
    "repl[tetraed(-a, mu)] = [\n",
    "    u_val,\n",
    "    (e_1_val*cos(psi) - e_3_val*sin(psi)).tolist(),\n",
    "    e_2_val,\n",
    "    (e_3_val*sin(psi) + e_3_val*cos(psi)).tolist()\n",
    "]"
   ]
  },
  {
   "cell_type": "code",
   "execution_count": 93,
   "metadata": {},
   "outputs": [],
   "source": [
    "Riemann = TensorHead(\"R\", [Global, Global, Global, Global])\n",
    "rieman = RiemannCurvatureTensor.from_metric(g_)\n",
    "rieman.tensor()\n",
    "\n",
    "repl[Riemann(-mu, -nu, -alpha, -beta)] = rieman.change_config('llll').tensor().tolist()\n"
   ]
  },
  {
   "cell_type": "code",
   "execution_count": 177,
   "metadata": {},
   "outputs": [],
   "source": [
    "R_in_fermi = Riemann(-mu,-nu,-alpha, -beta)*tetraed(-i,mu)*tetraed(-j,nu)*tetraed(-k,alpha)*tetraed(-l,beta)\n",
    "R_in_fermi = R_in_fermi.replace_with_arrays(repl, [-i,-j,-k,-l])"
   ]
  },
  {
   "cell_type": "code",
   "execution_count": 302,
   "metadata": {},
   "outputs": [],
   "source": [
    "Fermi_spacial = TensorIndexType('Fermi_spacial', dummy_name='Fermi_S')\n",
    "iS,jS,kS,lS,mS = tensor_indices(\"i j k l m\", Fermi_spacial)\n",
    "\n",
    "x_,y_,z_ = symbols(\"x y z\")\n",
    "\n",
    "x = TensorHead('x', [Fermi_spacial])\n",
    "gamma = TensorHead(\"gamma\", [Fermi_spacial, Dirac, Dirac])\n",
    "\n",
    "R_1 = TensorHead(\"Rie\", [Fermi_spacial, Fermi_spacial])\n",
    "R_2 = TensorHead(\"Rie\", [Fermi_spacial, Fermi_spacial, Fermi_spacial])\n",
    "R_3 = TensorHead(\"Rie\", [Fermi_spacial, Fermi_spacial, Fermi_spacial])\n",
    "R_4 = TensorHead(\"Rie\", [Fermi_spacial, Fermi_spacial, Fermi_spacial, Fermi_spacial])\n",
    "\n",
    "gamma_0 = TensorHead(\"gamma0\", [Dirac, Dirac])\n",
    "\n",
    "\n",
    "spinor = TensorHead(\"Psi\", [Dirac])\n",
    "spinor_bar = TensorHead(\"Psi_bar\", [Dirac])\n",
    "\n",
    "repl_spacial = {}\n",
    "repl_spacial[Fermi_spacial] = eye(3).tolist()\n",
    "repl_spacial[x(iS)] = [x_,y_,z_]\n",
    "\n",
    "repl_spacial[gamma(iS,A,-B)] = [mgamma(1).tolist(), mgamma(2).tolist(), mgamma(3).tolist()]\n",
    "repl_spacial[gamma_0(A,-B)] = mgamma(0).tolist()\n",
    "repl_spacial[spinor(A)] = [1/sqrt(2), -1/sqrt(2),0,0]\n",
    "repl_spacial[spinor_bar(-A)] = (Matrix([1/sqrt(2), -1/sqrt(2),0,0]).T@mgamma(0)).tolist()[0]\n",
    "\n",
    "repl_spacial[R_1(-jS,-mS)] = R_in_fermi[1:4,0,0,1:4].tolist()\n",
    "repl_spacial[R_2(-kS, -jS, -mS)] = R_in_fermi[1:4,1:4,0,1:4].tolist()\n",
    "repl_spacial[R_3(-jS, -iS, -mS)] = R_in_fermi[0,1:4, 1:4, 1:4].tolist()\n",
    "repl_spacial[R_4(-kS, -jS, -iS, -mS)] = R_in_fermi[1:4, 1:4, 1:4, 1:4].tolist()"
   ]
  },
  {
   "cell_type": "code",
   "execution_count": 303,
   "metadata": {},
   "outputs": [],
   "source": [
    "v_0 = spinor_bar(-A)*(1/2 * gamma_0(A,-B)*gamma(-jS, B,-C)*R_1(jS,-mS)*x(mS) + 1/4 * gamma(-kS,A,-B)*gamma(-jS,B,-C)*R_2(kS,jS,-mS)*x(mS) )*spinor(C)\n",
    "v_0 = simplify((v_0.replace_with_arrays(repl_spacial,v_0.get_free_indices())).subs(theta,pi/2).subs(u_phi(r), L/r**2).subs(u_r(r), sqrt(2*Energy +  2*M/r - L**2/r**2 + 2*M*L**2/r**3)).subs(u_t(r), sqrt(2*Energy + 1)/f).subs(r_s, 2*M))"
   ]
  },
  {
   "cell_type": "code",
   "execution_count": 280,
   "metadata": {},
   "outputs": [],
   "source": [
    "def rationalize_coeffs(expr):\n",
    "    for i in expr.atoms(Float):\n",
    "        r = Rational(str(i)).limit_denominator(1000)\n",
    "        expr = expr.subs(i, r)\n",
    "    return expr "
   ]
  },
  {
   "cell_type": "code",
   "execution_count": 287,
   "metadata": {},
   "outputs": [
    {
     "ename": "KeyboardInterrupt",
     "evalue": "",
     "output_type": "error",
     "traceback": [
      "\u001b[0;31m---------------------------------------------------------------------------\u001b[0m",
      "\u001b[0;31mKeyboardInterrupt\u001b[0m                         Traceback (most recent call last)",
      "Cell \u001b[0;32mIn[287], line 1\u001b[0m\n\u001b[0;32m----> 1\u001b[0m cancel(rationalize_coeffs(v_0))\n",
      "File \u001b[0;32m~/.var/app/com.visualstudio.code-oss/data/python/lib/python3.10/site-packages/sympy/polys/polytools.py:6890\u001b[0m, in \u001b[0;36mcancel\u001b[0;34m(f, _signsimp, *gens, **args)\u001b[0m\n\u001b[1;32m   6887\u001b[0m                 \u001b[39mpass\u001b[39;00m\n\u001b[1;32m   6888\u001b[0m         \u001b[39mreturn\u001b[39;00m f\u001b[39m.\u001b[39mxreplace(\u001b[39mdict\u001b[39m(reps))\n\u001b[0;32m-> 6890\u001b[0m c, (P, Q) \u001b[39m=\u001b[39m \u001b[39m1\u001b[39m, F\u001b[39m.\u001b[39;49mcancel(G)\n\u001b[1;32m   6891\u001b[0m \u001b[39mif\u001b[39;00m opt\u001b[39m.\u001b[39mget(\u001b[39m'\u001b[39m\u001b[39mpolys\u001b[39m\u001b[39m'\u001b[39m, \u001b[39mFalse\u001b[39;00m) \u001b[39mand\u001b[39;00m \u001b[39m'\u001b[39m\u001b[39mgens\u001b[39m\u001b[39m'\u001b[39m \u001b[39mnot\u001b[39;00m \u001b[39min\u001b[39;00m opt:\n\u001b[1;32m   6892\u001b[0m     opt[\u001b[39m'\u001b[39m\u001b[39mgens\u001b[39m\u001b[39m'\u001b[39m] \u001b[39m=\u001b[39m R\u001b[39m.\u001b[39msymbols\n",
      "File \u001b[0;32m~/.var/app/com.visualstudio.code-oss/data/python/lib/python3.10/site-packages/sympy/polys/rings.py:2242\u001b[0m, in \u001b[0;36mPolyElement.cancel\u001b[0;34m(self, g)\u001b[0m\n\u001b[1;32m   2239\u001b[0m domain \u001b[39m=\u001b[39m ring\u001b[39m.\u001b[39mdomain\n\u001b[1;32m   2241\u001b[0m \u001b[39mif\u001b[39;00m \u001b[39mnot\u001b[39;00m (domain\u001b[39m.\u001b[39mis_Field \u001b[39mand\u001b[39;00m domain\u001b[39m.\u001b[39mhas_assoc_Ring):\n\u001b[0;32m-> 2242\u001b[0m     _, p, q \u001b[39m=\u001b[39m f\u001b[39m.\u001b[39;49mcofactors(g)\n\u001b[1;32m   2243\u001b[0m \u001b[39melse\u001b[39;00m:\n\u001b[1;32m   2244\u001b[0m     new_ring \u001b[39m=\u001b[39m ring\u001b[39m.\u001b[39mclone(domain\u001b[39m=\u001b[39mdomain\u001b[39m.\u001b[39mget_ring())\n",
      "File \u001b[0;32m~/.var/app/com.visualstudio.code-oss/data/python/lib/python3.10/site-packages/sympy/polys/rings.py:2158\u001b[0m, in \u001b[0;36mPolyElement.cofactors\u001b[0;34m(f, g)\u001b[0m\n\u001b[1;32m   2155\u001b[0m     \u001b[39mreturn\u001b[39;00m h, cff, cfg\n\u001b[1;32m   2157\u001b[0m J, (f, g) \u001b[39m=\u001b[39m f\u001b[39m.\u001b[39mdeflate(g)\n\u001b[0;32m-> 2158\u001b[0m h, cff, cfg \u001b[39m=\u001b[39m f\u001b[39m.\u001b[39;49m_gcd(g)\n\u001b[1;32m   2160\u001b[0m \u001b[39mreturn\u001b[39;00m (h\u001b[39m.\u001b[39minflate(J), cff\u001b[39m.\u001b[39minflate(J), cfg\u001b[39m.\u001b[39minflate(J))\n",
      "File \u001b[0;32m~/.var/app/com.visualstudio.code-oss/data/python/lib/python3.10/site-packages/sympy/polys/rings.py:2193\u001b[0m, in \u001b[0;36mPolyElement._gcd\u001b[0;34m(f, g)\u001b[0m\n\u001b[1;32m   2191\u001b[0m     \u001b[39mreturn\u001b[39;00m f\u001b[39m.\u001b[39m_gcd_ZZ(g)\n\u001b[1;32m   2192\u001b[0m \u001b[39melse\u001b[39;00m: \u001b[39m# TODO: don't use dense representation (port PRS algorithms)\u001b[39;00m\n\u001b[0;32m-> 2193\u001b[0m     \u001b[39mreturn\u001b[39;00m ring\u001b[39m.\u001b[39;49mdmp_inner_gcd(f, g)\n",
      "File \u001b[0;32m~/.var/app/com.visualstudio.code-oss/data/python/lib/python3.10/site-packages/sympy/polys/compatibility.py:663\u001b[0m, in \u001b[0;36mIPolys.dmp_inner_gcd\u001b[0;34m(self, f, g)\u001b[0m\n\u001b[1;32m    662\u001b[0m \u001b[39mdef\u001b[39;00m \u001b[39mdmp_inner_gcd\u001b[39m(\u001b[39mself\u001b[39m, f, g):\n\u001b[0;32m--> 663\u001b[0m     H, F, G \u001b[39m=\u001b[39m dmp_inner_gcd(\u001b[39mself\u001b[39;49m\u001b[39m.\u001b[39;49mto_dense(f), \u001b[39mself\u001b[39;49m\u001b[39m.\u001b[39;49mto_dense(g), \u001b[39mself\u001b[39;49m\u001b[39m.\u001b[39;49mngens\u001b[39m-\u001b[39;49m\u001b[39m1\u001b[39;49m, \u001b[39mself\u001b[39;49m\u001b[39m.\u001b[39;49mdomain)\n\u001b[1;32m    664\u001b[0m     \u001b[39mreturn\u001b[39;00m (\u001b[39mself\u001b[39m\u001b[39m.\u001b[39mfrom_dense(H), \u001b[39mself\u001b[39m\u001b[39m.\u001b[39mfrom_dense(F), \u001b[39mself\u001b[39m\u001b[39m.\u001b[39mfrom_dense(G))\n",
      "File \u001b[0;32m~/.var/app/com.visualstudio.code-oss/data/python/lib/python3.10/site-packages/sympy/polys/euclidtools.py:1584\u001b[0m, in \u001b[0;36mdmp_inner_gcd\u001b[0;34m(f, g, u, K)\u001b[0m\n\u001b[1;32m   1581\u001b[0m     \u001b[39mreturn\u001b[39;00m dup_inner_gcd(f, g, K)\n\u001b[1;32m   1583\u001b[0m J, (f, g) \u001b[39m=\u001b[39m dmp_multi_deflate((f, g), u, K)\n\u001b[0;32m-> 1584\u001b[0m h, cff, cfg \u001b[39m=\u001b[39m _dmp_inner_gcd(f, g, u, K)\n\u001b[1;32m   1586\u001b[0m \u001b[39mreturn\u001b[39;00m (dmp_inflate(h, J, u, K),\n\u001b[1;32m   1587\u001b[0m         dmp_inflate(cff, J, u, K),\n\u001b[1;32m   1588\u001b[0m         dmp_inflate(cfg, J, u, K))\n",
      "File \u001b[0;32m~/.var/app/com.visualstudio.code-oss/data/python/lib/python3.10/site-packages/sympy/polys/euclidtools.py:1557\u001b[0m, in \u001b[0;36m_dmp_inner_gcd\u001b[0;34m(f, g, u, K)\u001b[0m\n\u001b[1;32m   1554\u001b[0m     \u001b[39mexcept\u001b[39;00m HeuristicGCDFailed:\n\u001b[1;32m   1555\u001b[0m         \u001b[39mpass\u001b[39;00m\n\u001b[0;32m-> 1557\u001b[0m \u001b[39mreturn\u001b[39;00m dmp_rr_prs_gcd(f, g, u, K)\n",
      "File \u001b[0;32m~/.var/app/com.visualstudio.code-oss/data/python/lib/python3.10/site-packages/sympy/polys/euclidtools.py:1060\u001b[0m, in \u001b[0;36mdmp_rr_prs_gcd\u001b[0;34m(f, g, u, K)\u001b[0m\n\u001b[1;32m   1057\u001b[0m \u001b[39mif\u001b[39;00m \u001b[39mnot\u001b[39;00m u:\n\u001b[1;32m   1058\u001b[0m     \u001b[39mreturn\u001b[39;00m dup_rr_prs_gcd(f, g, K)\n\u001b[0;32m-> 1060\u001b[0m result \u001b[39m=\u001b[39m _dmp_rr_trivial_gcd(f, g, u, K)\n\u001b[1;32m   1062\u001b[0m \u001b[39mif\u001b[39;00m result \u001b[39mis\u001b[39;00m \u001b[39mnot\u001b[39;00m \u001b[39mNone\u001b[39;00m:\n\u001b[1;32m   1063\u001b[0m     \u001b[39mreturn\u001b[39;00m result\n",
      "File \u001b[0;32m~/.var/app/com.visualstudio.code-oss/data/python/lib/python3.10/site-packages/sympy/polys/euclidtools.py:912\u001b[0m, in \u001b[0;36m_dmp_rr_trivial_gcd\u001b[0;34m(f, g, u, K)\u001b[0m\n\u001b[1;32m    910\u001b[0m     \u001b[39mreturn\u001b[39;00m dmp_one(u, K), f, g\n\u001b[1;32m    911\u001b[0m \u001b[39melif\u001b[39;00m query(\u001b[39m'\u001b[39m\u001b[39mUSE_SIMPLIFY_GCD\u001b[39m\u001b[39m'\u001b[39m):\n\u001b[0;32m--> 912\u001b[0m     \u001b[39mreturn\u001b[39;00m _dmp_simplify_gcd(f, g, u, K)\n\u001b[1;32m    913\u001b[0m \u001b[39melse\u001b[39;00m:\n\u001b[1;32m    914\u001b[0m     \u001b[39mreturn\u001b[39;00m \u001b[39mNone\u001b[39;00m\n",
      "File \u001b[0;32m~/.var/app/com.visualstudio.code-oss/data/python/lib/python3.10/site-packages/sympy/polys/euclidtools.py:958\u001b[0m, in \u001b[0;36m_dmp_simplify_gcd\u001b[0;34m(f, g, u, K)\u001b[0m\n\u001b[1;32m    955\u001b[0m         G \u001b[39m=\u001b[39m dmp_LC(g, K)\n\u001b[1;32m    957\u001b[0m v \u001b[39m=\u001b[39m u \u001b[39m-\u001b[39m \u001b[39m1\u001b[39m\n\u001b[0;32m--> 958\u001b[0m h \u001b[39m=\u001b[39m dmp_gcd(F, G, v, K)\n\u001b[1;32m    960\u001b[0m cff \u001b[39m=\u001b[39m [ dmp_quo(cf, h, v, K) \u001b[39mfor\u001b[39;00m cf \u001b[39min\u001b[39;00m f ]\n\u001b[1;32m    961\u001b[0m cfg \u001b[39m=\u001b[39m [ dmp_quo(cg, h, v, K) \u001b[39mfor\u001b[39;00m cg \u001b[39min\u001b[39;00m g ]\n",
      "File \u001b[0;32m~/.var/app/com.visualstudio.code-oss/data/python/lib/python3.10/site-packages/sympy/polys/euclidtools.py:1625\u001b[0m, in \u001b[0;36mdmp_gcd\u001b[0;34m(f, g, u, K)\u001b[0m\n\u001b[1;32m   1608\u001b[0m \u001b[39mdef\u001b[39;00m \u001b[39mdmp_gcd\u001b[39m(f, g, u, K):\n\u001b[1;32m   1609\u001b[0m \u001b[39m    \u001b[39m\u001b[39m\"\"\"\u001b[39;00m\n\u001b[1;32m   1610\u001b[0m \u001b[39m    Computes polynomial GCD of `f` and `g` in `K[X]`.\u001b[39;00m\n\u001b[1;32m   1611\u001b[0m \n\u001b[0;32m   (...)\u001b[0m\n\u001b[1;32m   1623\u001b[0m \n\u001b[1;32m   1624\u001b[0m \u001b[39m    \"\"\"\u001b[39;00m\n\u001b[0;32m-> 1625\u001b[0m     \u001b[39mreturn\u001b[39;00m dmp_inner_gcd(f, g, u, K)[\u001b[39m0\u001b[39m]\n",
      "File \u001b[0;32m~/.var/app/com.visualstudio.code-oss/data/python/lib/python3.10/site-packages/sympy/polys/euclidtools.py:1584\u001b[0m, in \u001b[0;36mdmp_inner_gcd\u001b[0;34m(f, g, u, K)\u001b[0m\n\u001b[1;32m   1581\u001b[0m     \u001b[39mreturn\u001b[39;00m dup_inner_gcd(f, g, K)\n\u001b[1;32m   1583\u001b[0m J, (f, g) \u001b[39m=\u001b[39m dmp_multi_deflate((f, g), u, K)\n\u001b[0;32m-> 1584\u001b[0m h, cff, cfg \u001b[39m=\u001b[39m _dmp_inner_gcd(f, g, u, K)\n\u001b[1;32m   1586\u001b[0m \u001b[39mreturn\u001b[39;00m (dmp_inflate(h, J, u, K),\n\u001b[1;32m   1587\u001b[0m         dmp_inflate(cff, J, u, K),\n\u001b[1;32m   1588\u001b[0m         dmp_inflate(cfg, J, u, K))\n",
      "File \u001b[0;32m~/.var/app/com.visualstudio.code-oss/data/python/lib/python3.10/site-packages/sympy/polys/euclidtools.py:1557\u001b[0m, in \u001b[0;36m_dmp_inner_gcd\u001b[0;34m(f, g, u, K)\u001b[0m\n\u001b[1;32m   1554\u001b[0m     \u001b[39mexcept\u001b[39;00m HeuristicGCDFailed:\n\u001b[1;32m   1555\u001b[0m         \u001b[39mpass\u001b[39;00m\n\u001b[0;32m-> 1557\u001b[0m \u001b[39mreturn\u001b[39;00m dmp_rr_prs_gcd(f, g, u, K)\n",
      "File \u001b[0;32m~/.var/app/com.visualstudio.code-oss/data/python/lib/python3.10/site-packages/sympy/polys/euclidtools.py:1068\u001b[0m, in \u001b[0;36mdmp_rr_prs_gcd\u001b[0;34m(f, g, u, K)\u001b[0m\n\u001b[1;32m   1065\u001b[0m fc, F \u001b[39m=\u001b[39m dmp_primitive(f, u, K)\n\u001b[1;32m   1066\u001b[0m gc, G \u001b[39m=\u001b[39m dmp_primitive(g, u, K)\n\u001b[0;32m-> 1068\u001b[0m h \u001b[39m=\u001b[39m dmp_subresultants(F, G, u, K)[\u001b[39m-\u001b[39m\u001b[39m1\u001b[39m]\n\u001b[1;32m   1069\u001b[0m c, _, _ \u001b[39m=\u001b[39m dmp_rr_prs_gcd(fc, gc, u \u001b[39m-\u001b[39m \u001b[39m1\u001b[39m, K)\n\u001b[1;32m   1071\u001b[0m \u001b[39mif\u001b[39;00m K\u001b[39m.\u001b[39mis_negative(dmp_ground_LC(h, u, K)):\n",
      "File \u001b[0;32m~/.var/app/com.visualstudio.code-oss/data/python/lib/python3.10/site-packages/sympy/polys/euclidtools.py:549\u001b[0m, in \u001b[0;36mdmp_subresultants\u001b[0;34m(f, g, u, K)\u001b[0m\n\u001b[1;32m    529\u001b[0m \u001b[39mdef\u001b[39;00m \u001b[39mdmp_subresultants\u001b[39m(f, g, u, K):\n\u001b[1;32m    530\u001b[0m \u001b[39m    \u001b[39m\u001b[39m\"\"\"\u001b[39;00m\n\u001b[1;32m    531\u001b[0m \u001b[39m    Computes subresultant PRS of two polynomials in `K[X]`.\u001b[39;00m\n\u001b[1;32m    532\u001b[0m \n\u001b[0;32m   (...)\u001b[0m\n\u001b[1;32m    547\u001b[0m \n\u001b[1;32m    548\u001b[0m \u001b[39m    \"\"\"\u001b[39;00m\n\u001b[0;32m--> 549\u001b[0m     \u001b[39mreturn\u001b[39;00m dmp_inner_subresultants(f, g, u, K)[\u001b[39m0\u001b[39m]\n",
      "File \u001b[0;32m~/.var/app/com.visualstudio.code-oss/data/python/lib/python3.10/site-packages/sympy/polys/euclidtools.py:512\u001b[0m, in \u001b[0;36mdmp_inner_subresultants\u001b[0;34m(f, g, u, K)\u001b[0m\n\u001b[1;32m    507\u001b[0m f, g, m, d \u001b[39m=\u001b[39m g, h, k, m \u001b[39m-\u001b[39m k\n\u001b[1;32m    509\u001b[0m b \u001b[39m=\u001b[39m dmp_mul(dmp_neg(lc, v, K),\n\u001b[1;32m    510\u001b[0m             dmp_pow(c, d, v, K), v, K)\n\u001b[0;32m--> 512\u001b[0m h \u001b[39m=\u001b[39m dmp_prem(f, g, u, K)\n\u001b[1;32m    513\u001b[0m h \u001b[39m=\u001b[39m [ dmp_quo(ch, b, v, K) \u001b[39mfor\u001b[39;00m ch \u001b[39min\u001b[39;00m h ]\n\u001b[1;32m    515\u001b[0m lc \u001b[39m=\u001b[39m dmp_LC(g, K)\n",
      "File \u001b[0;32m~/.var/app/com.visualstudio.code-oss/data/python/lib/python3.10/site-packages/sympy/polys/densearith.py:1237\u001b[0m, in \u001b[0;36mdmp_prem\u001b[0;34m(f, g, u, K)\u001b[0m\n\u001b[1;32m   1234\u001b[0m lc_r \u001b[39m=\u001b[39m dmp_LC(r, K)\n\u001b[1;32m   1235\u001b[0m j, N \u001b[39m=\u001b[39m dr \u001b[39m-\u001b[39m dg, N \u001b[39m-\u001b[39m \u001b[39m1\u001b[39m\n\u001b[0;32m-> 1237\u001b[0m R \u001b[39m=\u001b[39m dmp_mul_term(r, lc_g, \u001b[39m0\u001b[39;49m, u, K)\n\u001b[1;32m   1238\u001b[0m G \u001b[39m=\u001b[39m dmp_mul_term(g, lc_r, j, u, K)\n\u001b[1;32m   1239\u001b[0m r \u001b[39m=\u001b[39m dmp_sub(R, G, u, K)\n",
      "File \u001b[0;32m~/.var/app/com.visualstudio.code-oss/data/python/lib/python3.10/site-packages/sympy/polys/densearith.py:184\u001b[0m, in \u001b[0;36mdmp_mul_term\u001b[0;34m(f, c, i, u, K)\u001b[0m\n\u001b[1;32m    182\u001b[0m     \u001b[39mreturn\u001b[39;00m dmp_zero(u)\n\u001b[1;32m    183\u001b[0m \u001b[39melse\u001b[39;00m:\n\u001b[0;32m--> 184\u001b[0m     \u001b[39mreturn\u001b[39;00m [ dmp_mul(cf, c, v, K) \u001b[39mfor\u001b[39;00m cf \u001b[39min\u001b[39;00m f ] \u001b[39m+\u001b[39m dmp_zeros(i, v, K)\n",
      "File \u001b[0;32m~/.var/app/com.visualstudio.code-oss/data/python/lib/python3.10/site-packages/sympy/polys/densearith.py:184\u001b[0m, in \u001b[0;36m<listcomp>\u001b[0;34m(.0)\u001b[0m\n\u001b[1;32m    182\u001b[0m     \u001b[39mreturn\u001b[39;00m dmp_zero(u)\n\u001b[1;32m    183\u001b[0m \u001b[39melse\u001b[39;00m:\n\u001b[0;32m--> 184\u001b[0m     \u001b[39mreturn\u001b[39;00m [ dmp_mul(cf, c, v, K) \u001b[39mfor\u001b[39;00m cf \u001b[39min\u001b[39;00m f ] \u001b[39m+\u001b[39m dmp_zeros(i, v, K)\n",
      "File \u001b[0;32m~/.var/app/com.visualstudio.code-oss/data/python/lib/python3.10/site-packages/sympy/polys/densearith.py:828\u001b[0m, in \u001b[0;36mdmp_mul\u001b[0;34m(f, g, u, K)\u001b[0m\n\u001b[1;32m    825\u001b[0m     coeff \u001b[39m=\u001b[39m dmp_zero(v)\n\u001b[1;32m    827\u001b[0m     \u001b[39mfor\u001b[39;00m j \u001b[39min\u001b[39;00m \u001b[39mrange\u001b[39m(\u001b[39mmax\u001b[39m(\u001b[39m0\u001b[39m, i \u001b[39m-\u001b[39m dg), \u001b[39mmin\u001b[39m(df, i) \u001b[39m+\u001b[39m \u001b[39m1\u001b[39m):\n\u001b[0;32m--> 828\u001b[0m         coeff \u001b[39m=\u001b[39m dmp_add(coeff, dmp_mul(f[j], g[i \u001b[39m-\u001b[39;49m j], v, K), v, K)\n\u001b[1;32m    830\u001b[0m     h\u001b[39m.\u001b[39mappend(coeff)\n\u001b[1;32m    832\u001b[0m \u001b[39mreturn\u001b[39;00m dmp_strip(h, u)\n",
      "File \u001b[0;32m~/.var/app/com.visualstudio.code-oss/data/python/lib/python3.10/site-packages/sympy/polys/densearith.py:828\u001b[0m, in \u001b[0;36mdmp_mul\u001b[0;34m(f, g, u, K)\u001b[0m\n\u001b[1;32m    825\u001b[0m     coeff \u001b[39m=\u001b[39m dmp_zero(v)\n\u001b[1;32m    827\u001b[0m     \u001b[39mfor\u001b[39;00m j \u001b[39min\u001b[39;00m \u001b[39mrange\u001b[39m(\u001b[39mmax\u001b[39m(\u001b[39m0\u001b[39m, i \u001b[39m-\u001b[39m dg), \u001b[39mmin\u001b[39m(df, i) \u001b[39m+\u001b[39m \u001b[39m1\u001b[39m):\n\u001b[0;32m--> 828\u001b[0m         coeff \u001b[39m=\u001b[39m dmp_add(coeff, dmp_mul(f[j], g[i \u001b[39m-\u001b[39;49m j], v, K), v, K)\n\u001b[1;32m    830\u001b[0m     h\u001b[39m.\u001b[39mappend(coeff)\n\u001b[1;32m    832\u001b[0m \u001b[39mreturn\u001b[39;00m dmp_strip(h, u)\n",
      "    \u001b[0;31m[... skipping similar frames: dmp_mul at line 828 (2 times)]\u001b[0m\n",
      "File \u001b[0;32m~/.var/app/com.visualstudio.code-oss/data/python/lib/python3.10/site-packages/sympy/polys/densearith.py:828\u001b[0m, in \u001b[0;36mdmp_mul\u001b[0;34m(f, g, u, K)\u001b[0m\n\u001b[1;32m    825\u001b[0m     coeff \u001b[39m=\u001b[39m dmp_zero(v)\n\u001b[1;32m    827\u001b[0m     \u001b[39mfor\u001b[39;00m j \u001b[39min\u001b[39;00m \u001b[39mrange\u001b[39m(\u001b[39mmax\u001b[39m(\u001b[39m0\u001b[39m, i \u001b[39m-\u001b[39m dg), \u001b[39mmin\u001b[39m(df, i) \u001b[39m+\u001b[39m \u001b[39m1\u001b[39m):\n\u001b[0;32m--> 828\u001b[0m         coeff \u001b[39m=\u001b[39m dmp_add(coeff, dmp_mul(f[j], g[i \u001b[39m-\u001b[39;49m j], v, K), v, K)\n\u001b[1;32m    830\u001b[0m     h\u001b[39m.\u001b[39mappend(coeff)\n\u001b[1;32m    832\u001b[0m \u001b[39mreturn\u001b[39;00m dmp_strip(h, u)\n",
      "File \u001b[0;32m~/.var/app/com.visualstudio.code-oss/data/python/lib/python3.10/site-packages/sympy/polys/densearith.py:810\u001b[0m, in \u001b[0;36mdmp_mul\u001b[0;34m(f, g, u, K)\u001b[0m\n\u001b[1;32m    807\u001b[0m     \u001b[39mreturn\u001b[39;00m dup_mul(f, g, K)\n\u001b[1;32m    809\u001b[0m \u001b[39mif\u001b[39;00m f \u001b[39m==\u001b[39m g:\n\u001b[0;32m--> 810\u001b[0m     \u001b[39mreturn\u001b[39;00m dmp_sqr(f, u, K)\n\u001b[1;32m    812\u001b[0m df \u001b[39m=\u001b[39m dmp_degree(f, u)\n\u001b[1;32m    814\u001b[0m \u001b[39mif\u001b[39;00m df \u001b[39m<\u001b[39m \u001b[39m0\u001b[39m:\n",
      "File \u001b[0;32m~/.var/app/com.visualstudio.code-oss/data/python/lib/python3.10/site-packages/sympy/polys/densearith.py:894\u001b[0m, in \u001b[0;36mdmp_sqr\u001b[0;34m(f, u, K)\u001b[0m\n\u001b[1;32m    890\u001b[0m     \u001b[39mreturn\u001b[39;00m dup_sqr(f, K)\n\u001b[1;32m    892\u001b[0m df \u001b[39m=\u001b[39m dmp_degree(f, u)\n\u001b[0;32m--> 894\u001b[0m \u001b[39mif\u001b[39;00m df \u001b[39m<\u001b[39;49m \u001b[39m0\u001b[39;49m:\n\u001b[1;32m    895\u001b[0m     \u001b[39mreturn\u001b[39;00m f\n\u001b[1;32m    897\u001b[0m h, v \u001b[39m=\u001b[39m [], u \u001b[39m-\u001b[39m \u001b[39m1\u001b[39m\n",
      "File \u001b[0;32m~/.var/app/com.visualstudio.code-oss/data/python/lib/python3.10/site-packages/sympy/core/decorators.py:236\u001b[0m, in \u001b[0;36m_SympifyWrapper.make_wrapped.<locals>._func\u001b[0;34m(self, other)\u001b[0m\n\u001b[1;32m    234\u001b[0m \u001b[39mif\u001b[39;00m \u001b[39mnot\u001b[39;00m \u001b[39misinstance\u001b[39m(other, expectedcls):\n\u001b[1;32m    235\u001b[0m     \u001b[39mreturn\u001b[39;00m retval\n\u001b[0;32m--> 236\u001b[0m \u001b[39mreturn\u001b[39;00m func(\u001b[39mself\u001b[39;49m, other)\n",
      "File \u001b[0;32m~/.var/app/com.visualstudio.code-oss/data/python/lib/python3.10/site-packages/sympy/core/expr.py:376\u001b[0m, in \u001b[0;36mExpr.__lt__\u001b[0;34m(self, other)\u001b[0m\n\u001b[1;32m    373\u001b[0m \u001b[39m@sympify_return\u001b[39m([(\u001b[39m'\u001b[39m\u001b[39mother\u001b[39m\u001b[39m'\u001b[39m, \u001b[39m'\u001b[39m\u001b[39mExpr\u001b[39m\u001b[39m'\u001b[39m)], \u001b[39mNotImplemented\u001b[39m)\n\u001b[1;32m    374\u001b[0m \u001b[39mdef\u001b[39;00m \u001b[39m__lt__\u001b[39m(\u001b[39mself\u001b[39m, other):\n\u001b[1;32m    375\u001b[0m     \u001b[39mfrom\u001b[39;00m \u001b[39m.\u001b[39;00m\u001b[39mrelational\u001b[39;00m \u001b[39mimport\u001b[39;00m StrictLessThan\n\u001b[0;32m--> 376\u001b[0m     \u001b[39mreturn\u001b[39;00m StrictLessThan(\u001b[39mself\u001b[39;49m, other)\n",
      "File \u001b[0;32m~/.var/app/com.visualstudio.code-oss/data/python/lib/python3.10/site-packages/sympy/core/relational.py:833\u001b[0m, in \u001b[0;36m_Inequality.__new__\u001b[0;34m(cls, lhs, rhs, **options)\u001b[0m\n\u001b[1;32m    824\u001b[0m             \u001b[39mraise\u001b[39;00m \u001b[39mTypeError\u001b[39;00m(\u001b[39m\"\u001b[39m\u001b[39mInvalid NaN comparison\u001b[39m\u001b[39m\"\u001b[39m)\n\u001b[1;32m    825\u001b[0m     \u001b[39m# First we invoke the appropriate inequality method of `lhs`\u001b[39;00m\n\u001b[1;32m    826\u001b[0m     \u001b[39m# (e.g., `lhs.__lt__`).  That method will try to reduce to\u001b[39;00m\n\u001b[1;32m    827\u001b[0m     \u001b[39m# boolean or raise an exception.  It may keep calling\u001b[39;00m\n\u001b[0;32m   (...)\u001b[0m\n\u001b[1;32m    831\u001b[0m     \u001b[39m# exception).  In that case, it must call us with\u001b[39;00m\n\u001b[1;32m    832\u001b[0m     \u001b[39m# `evaluate=False` to prevent infinite recursion.\u001b[39;00m\n\u001b[0;32m--> 833\u001b[0m     \u001b[39mreturn\u001b[39;00m \u001b[39mcls\u001b[39;49m\u001b[39m.\u001b[39;49m_eval_relation(lhs, rhs, \u001b[39m*\u001b[39;49m\u001b[39m*\u001b[39;49moptions)\n\u001b[1;32m    835\u001b[0m \u001b[39m# make a \"non-evaluated\" Expr for the inequality\u001b[39;00m\n\u001b[1;32m    836\u001b[0m \u001b[39mreturn\u001b[39;00m Relational\u001b[39m.\u001b[39m\u001b[39m__new__\u001b[39m(\u001b[39mcls\u001b[39m, lhs, rhs, \u001b[39m*\u001b[39m\u001b[39m*\u001b[39moptions)\n",
      "File \u001b[0;32m~/.var/app/com.visualstudio.code-oss/data/python/lib/python3.10/site-packages/sympy/core/relational.py:840\u001b[0m, in \u001b[0;36m_Inequality._eval_relation\u001b[0;34m(cls, lhs, rhs, **options)\u001b[0m\n\u001b[1;32m    838\u001b[0m \u001b[39m@classmethod\u001b[39m\n\u001b[1;32m    839\u001b[0m \u001b[39mdef\u001b[39;00m \u001b[39m_eval_relation\u001b[39m(\u001b[39mcls\u001b[39m, lhs, rhs, \u001b[39m*\u001b[39m\u001b[39m*\u001b[39moptions):\n\u001b[0;32m--> 840\u001b[0m     val \u001b[39m=\u001b[39m \u001b[39mcls\u001b[39;49m\u001b[39m.\u001b[39;49m_eval_fuzzy_relation(lhs, rhs)\n\u001b[1;32m    841\u001b[0m     \u001b[39mif\u001b[39;00m val \u001b[39mis\u001b[39;00m \u001b[39mNone\u001b[39;00m:\n\u001b[1;32m    842\u001b[0m         \u001b[39mreturn\u001b[39;00m \u001b[39mcls\u001b[39m(lhs, rhs, evaluate\u001b[39m=\u001b[39m\u001b[39mFalse\u001b[39;00m)\n",
      "File \u001b[0;32m~/.var/app/com.visualstudio.code-oss/data/python/lib/python3.10/site-packages/sympy/core/relational.py:1167\u001b[0m, in \u001b[0;36mStrictLessThan._eval_fuzzy_relation\u001b[0;34m(cls, lhs, rhs)\u001b[0m\n\u001b[1;32m   1165\u001b[0m \u001b[39m@classmethod\u001b[39m\n\u001b[1;32m   1166\u001b[0m \u001b[39mdef\u001b[39;00m \u001b[39m_eval_fuzzy_relation\u001b[39m(\u001b[39mcls\u001b[39m, lhs, rhs):\n\u001b[0;32m-> 1167\u001b[0m     \u001b[39mreturn\u001b[39;00m is_lt(lhs, rhs)\n",
      "File \u001b[0;32m~/.var/app/com.visualstudio.code-oss/data/python/lib/python3.10/site-packages/sympy/core/relational.py:1246\u001b[0m, in \u001b[0;36mis_lt\u001b[0;34m(lhs, rhs, assumptions)\u001b[0m\n\u001b[1;32m   1241\u001b[0m \u001b[39mdef\u001b[39;00m \u001b[39mis_lt\u001b[39m(lhs, rhs, assumptions\u001b[39m=\u001b[39m\u001b[39mNone\u001b[39;00m):\n\u001b[1;32m   1242\u001b[0m \u001b[39m    \u001b[39m\u001b[39m\"\"\"Fuzzy bool for lhs is strictly less than rhs.\u001b[39;00m\n\u001b[1;32m   1243\u001b[0m \n\u001b[1;32m   1244\u001b[0m \u001b[39m    See the docstring for :func:`~.is_ge` for more.\u001b[39;00m\n\u001b[1;32m   1245\u001b[0m \u001b[39m    \"\"\"\u001b[39;00m\n\u001b[0;32m-> 1246\u001b[0m     \u001b[39mreturn\u001b[39;00m fuzzy_not(is_ge(lhs, rhs, assumptions))\n",
      "\u001b[0;31mKeyboardInterrupt\u001b[0m: "
     ]
    }
   ],
   "source": [
    "cancel(rationalize_coeffs(v_0))"
   ]
  },
  {
   "cell_type": "code",
   "execution_count": 288,
   "metadata": {},
   "outputs": [
    {
     "data": {
      "text/latex": [
       "$\\displaystyle \\left[\\begin{matrix}- \\frac{0.25 i M y \\left(- L^{2} r^{2} \\left(L r^{2} \\sqrt{2 E + 1} \\sin{\\left(\\Psi{\\left(r \\right)} \\right)} - r^{\\frac{3}{2}} \\sqrt{2 E r^{3} + 2 L^{2} M - L^{2} r + 2 M r^{2}} \\cos{\\left(\\Psi{\\left(r \\right)} \\right)}\\right)^{2} + L^{2} \\left(L r^{\\frac{3}{2}} \\sqrt{2 E r^{3} + 2 L^{2} M - L^{2} r + 2 M r^{2}} \\sin{\\left(\\Psi{\\left(r \\right)} \\right)} - r^{4} \\sqrt{2 E + 1} \\cos{\\left(\\Psi{\\left(r \\right)} \\right)}\\right)^{2} + 2 r^{3} \\left(L^{2} + r^{2}\\right)^{3} \\cdot \\left(2 M - r\\right) \\sin^{2}{\\left(\\Psi{\\left(r \\right)} \\right)}\\right)}{L^{2} r^{8} \\left(L^{2} + r^{2}\\right) \\left(2 M - r\\right)} & \\frac{0.25 i M \\left(r^{10} x \\left(L^{2} + r^{2}\\right)^{2} \\left(- L^{2} r^{2} \\left(- L r^{2} \\sqrt{2 E + 1} \\sin{\\left(\\Psi{\\left(r \\right)} \\right)} + r^{\\frac{3}{2}} \\sqrt{2 E r^{3} + 2 L^{2} M - L^{2} r + 2 M r^{2}} \\cos{\\left(\\Psi{\\left(r \\right)} \\right)}\\right)^{2} + L^{2} \\left(- L r^{\\frac{3}{2}} \\sqrt{2 E r^{3} + 2 L^{2} M - L^{2} r + 2 M r^{2}} \\sin{\\left(\\Psi{\\left(r \\right)} \\right)} + r^{4} \\sqrt{2 E + 1} \\cos{\\left(\\Psi{\\left(r \\right)} \\right)}\\right)^{2} + 2 r^{3} \\left(L^{2} + r^{2}\\right)^{3} \\cdot \\left(2 M - r\\right) \\sin^{2}{\\left(\\Psi{\\left(r \\right)} \\right)}\\right) - \\sqrt{2} z \\left(- L^{3} r^{\\frac{23}{2}} \\left(L^{2} + r^{2}\\right)^{\\frac{3}{2}} \\left(- L r^{\\frac{3}{2}} \\sqrt{2 E L^{2} r^{3} + 2 E r^{5} + 2 L^{4} M - L^{4} r + 4 L^{2} M r^{2} - L^{2} r^{3} + 2 M r^{4}} \\sin{\\left(\\Psi{\\left(r \\right)} \\right)} + r^{4} \\sqrt{2 E + 1} \\sqrt{L^{2} + r^{2}} \\cos{\\left(\\Psi{\\left(r \\right)} \\right)}\\right) \\sqrt{2 E r^{3} + 2 L^{2} M - L^{2} r + 2 M r^{2}} + L^{3} r^{14} \\sqrt{2 E + 1} \\left(L^{2} + r^{2}\\right)^{\\frac{3}{2}} \\left(- L r^{2} \\sqrt{2 E + 1} \\sqrt{L^{2} + r^{2}} \\sin{\\left(\\Psi{\\left(r \\right)} \\right)} + r^{\\frac{3}{2}} \\sqrt{2 E L^{2} r^{3} + 2 E r^{5} + 2 L^{4} M - L^{4} r + 4 L^{2} M r^{2} - L^{2} r^{3} + 2 M r^{4}} \\cos{\\left(\\Psi{\\left(r \\right)} \\right)}\\right) + 2 r^{13} \\left(L^{2} + r^{2}\\right)^{5} \\cdot \\left(2 M - r\\right) \\sin{\\left(\\Psi{\\left(r \\right)} \\right)}\\right) \\sin{\\left(\\Psi{\\left(r \\right)} + \\frac{\\pi}{4} \\right)}\\right)}{L^{2} r^{18} \\left(L^{2} + r^{2}\\right)^{3} \\cdot \\left(2 M - r\\right)} & \\frac{0.25 \\sqrt{2} i M y \\left(- L^{3} r^{\\frac{23}{2}} \\left(L^{2} + r^{2}\\right)^{\\frac{3}{2}} \\left(- L r^{\\frac{3}{2}} \\sqrt{2 E L^{2} r^{3} + 2 E r^{5} + 2 L^{4} M - L^{4} r + 4 L^{2} M r^{2} - L^{2} r^{3} + 2 M r^{4}} \\sin{\\left(\\Psi{\\left(r \\right)} \\right)} + r^{4} \\sqrt{2 E + 1} \\sqrt{L^{2} + r^{2}} \\cos{\\left(\\Psi{\\left(r \\right)} \\right)}\\right) \\sqrt{2 E r^{3} + 2 L^{2} M - L^{2} r + 2 M r^{2}} + L^{3} r^{14} \\sqrt{2 E + 1} \\left(L^{2} + r^{2}\\right)^{\\frac{3}{2}} \\left(- L r^{2} \\sqrt{2 E + 1} \\sqrt{L^{2} + r^{2}} \\sin{\\left(\\Psi{\\left(r \\right)} \\right)} + r^{\\frac{3}{2}} \\sqrt{2 E L^{2} r^{3} + 2 E r^{5} + 2 L^{4} M - L^{4} r + 4 L^{2} M r^{2} - L^{2} r^{3} + 2 M r^{4}} \\cos{\\left(\\Psi{\\left(r \\right)} \\right)}\\right) + 2 r^{13} \\left(L^{2} + r^{2}\\right)^{5} \\cdot \\left(2 M - r\\right) \\sin{\\left(\\Psi{\\left(r \\right)} \\right)}\\right) \\sin{\\left(\\Psi{\\left(r \\right)} + \\frac{\\pi}{4} \\right)}}{L^{2} r^{18} \\left(L^{2} + r^{2}\\right)^{3} \\cdot \\left(2 M - r\\right)}\\end{matrix}\\right]$"
      ],
      "text/plain": [
       "⎡                                                                             \n",
       "⎢            ⎛                                                                \n",
       "⎢            ⎜        ⎛                                     __________________\n",
       "⎢            ⎜   2  2 ⎜   2   _________              3/2   ╱      3      2    \n",
       "⎢-0.25⋅ⅈ⋅M⋅y⋅⎝- L ⋅r ⋅⎝L⋅r ⋅╲╱ 2⋅E + 1 ⋅sin(Ψ(r)) - r   ⋅╲╱  2⋅E⋅r  + 2⋅L ⋅M -\n",
       "⎢─────────────────────────────────────────────────────────────────────────────\n",
       "⎢                                                                             \n",
       "⎢                                                                             \n",
       "⎣                                                                             \n",
       "\n",
       "                                                                              \n",
       "                          2                                                   \n",
       "_______________          ⎞       ⎛          _________________________________ \n",
       "  2          2           ⎟     2 ⎜   3/2   ╱      3      2      2          2  \n",
       " L ⋅r + 2⋅M⋅r  ⋅cos(Ψ(r))⎠  + L ⋅⎝L⋅r   ⋅╲╱  2⋅E⋅r  + 2⋅L ⋅M - L ⋅r + 2⋅M⋅r  ⋅\n",
       "──────────────────────────────────────────────────────────────────────────────\n",
       "                            2  8 ⎛ 2    2⎞                                    \n",
       "                           L ⋅r ⋅⎝L  + r ⎠⋅(2⋅M - r)                          \n",
       "                                                                              \n",
       "\n",
       "                                                                              \n",
       "                                     2                                       ⎞\n",
       "                                    ⎞                  3                     ⎟\n",
       "             4   _________          ⎟       3 ⎛ 2    2⎞               2      ⎟\n",
       "sin(Ψ(r)) - r ⋅╲╱ 2⋅E + 1 ⋅cos(Ψ(r))⎠  + 2⋅r ⋅⎝L  + r ⎠ ⋅(2⋅M - r)⋅sin (Ψ(r))⎠\n",
       "──────────────────────────────────────────────────────────────────────────────\n",
       "                                                                              \n",
       "                                                                              \n",
       "                                                                              \n",
       "\n",
       "            ⎛                 ⎛                                               \n",
       "            ⎜               2 ⎜        ⎛                                      \n",
       "            ⎜ 10   ⎛ 2    2⎞  ⎜   2  2 ⎜     2   _________              3/2   \n",
       "   0.25⋅ⅈ⋅M⋅⎜r  ⋅x⋅⎝L  + r ⎠ ⋅⎝- L ⋅r ⋅⎝- L⋅r ⋅╲╱ 2⋅E + 1 ⋅sin(Ψ(r)) + r   ⋅╲╱\n",
       "            ⎝                                                                 \n",
       "─  ───────────────────────────────────────────────────────────────────────────\n",
       "                                                                              \n",
       "                                                                              \n",
       "                                                                              \n",
       "\n",
       "                                             2                                \n",
       " _________________________________          ⎞       ⎛            _____________\n",
       "╱      3      2      2          2           ⎟     2 ⎜     3/2   ╱      3      \n",
       "  2⋅E⋅r  + 2⋅L ⋅M - L ⋅r + 2⋅M⋅r  ⋅cos(Ψ(r))⎠  + L ⋅⎝- L⋅r   ⋅╲╱  2⋅E⋅r  + 2⋅L\n",
       "                                                                              \n",
       "──────────────────────────────────────────────────────────────────────────────\n",
       "                                                                              \n",
       "                                                                              \n",
       "                                                                              \n",
       "\n",
       "                                                          2                   \n",
       "____________________                                     ⎞                  3 \n",
       "2      2          2               4   _________          ⎟       3 ⎛ 2    2⎞  \n",
       " ⋅M - L ⋅r + 2⋅M⋅r  ⋅sin(Ψ(r)) + r ⋅╲╱ 2⋅E + 1 ⋅cos(Ψ(r))⎠  + 2⋅r ⋅⎝L  + r ⎠ ⋅\n",
       "                                                                              \n",
       "──────────────────────────────────────────────────────────────────────────────\n",
       "                                                                              \n",
       "                                                                              \n",
       "                                                                              \n",
       "\n",
       "                    ⎞                                                         \n",
       "                    ⎟        ⎛                    3/2 ⎛            ___________\n",
       "             2      ⎟        ⎜   3  23/2 ⎛ 2    2⎞    ⎜     3/2   ╱      2  3 \n",
       "(2⋅M - r)⋅sin (Ψ(r))⎠ - √2⋅z⋅⎝- L ⋅r    ⋅⎝L  + r ⎠   ⋅⎝- L⋅r   ⋅╲╱  2⋅E⋅L ⋅r  \n",
       "                                                                              \n",
       "──────────────────────────────────────────────────────────────────────────────\n",
       "                                                                              \n",
       "                                                                              \n",
       "                                                                              \n",
       "\n",
       "                                                                              \n",
       "______________________________________________________                        \n",
       "       5      4      4        2    2    2  3        4               4   ______\n",
       "+ 2⋅E⋅r  + 2⋅L ⋅M - L ⋅r + 4⋅L ⋅M⋅r  - L ⋅r  + 2⋅M⋅r  ⋅sin(Ψ(r)) + r ⋅╲╱ 2⋅E +\n",
       "                                                                              \n",
       "──────────────────────────────────────────────────────────────────────────────\n",
       "                            3                                                 \n",
       "             2  18 ⎛ 2    2⎞                                                  \n",
       "            L ⋅r  ⋅⎝L  + r ⎠ ⋅(2⋅M - r)                                       \n",
       "\n",
       "                                                                              \n",
       "       _________          ⎞    _________________________________              \n",
       "___   ╱  2    2           ⎟   ╱      3      2      2          2     3  14   __\n",
       " 1 ⋅╲╱  L  + r  ⋅cos(Ψ(r))⎠⋅╲╱  2⋅E⋅r  + 2⋅L ⋅M - L ⋅r + 2⋅M⋅r   + L ⋅r  ⋅╲╱ 2\n",
       "                                                                              \n",
       "──────────────────────────────────────────────────────────────────────────────\n",
       "                                                                              \n",
       "                                                                              \n",
       "                                                                              \n",
       "\n",
       "                                                                              \n",
       "                 3/2 ⎛                      _________                     ____\n",
       "_______ ⎛ 2    2⎞    ⎜     2   _________   ╱  2    2               3/2   ╱    \n",
       "⋅E + 1 ⋅⎝L  + r ⎠   ⋅⎝- L⋅r ⋅╲╱ 2⋅E + 1 ⋅╲╱  L  + r  ⋅sin(Ψ(r)) + r   ⋅╲╱  2⋅E\n",
       "                                                                              \n",
       "──────────────────────────────────────────────────────────────────────────────\n",
       "                                                                              \n",
       "                                                                              \n",
       "                                                                              \n",
       "\n",
       "                                                                              \n",
       "_____________________________________________________________          ⎞      \n",
       "  2  3        5      4      4        2    2    2  3        4           ⎟      \n",
       "⋅L ⋅r  + 2⋅E⋅r  + 2⋅L ⋅M - L ⋅r + 4⋅L ⋅M⋅r  - L ⋅r  + 2⋅M⋅r  ⋅cos(Ψ(r))⎠ + 2⋅r\n",
       "                                                                              \n",
       "──────────────────────────────────────────────────────────────────────────────\n",
       "                                                                              \n",
       "                                                                              \n",
       "                                                                              \n",
       "\n",
       "                                                ⎞                             \n",
       "            5                    ⎞              ⎟                ⎛            \n",
       "13 ⎛ 2    2⎞                     ⎟    ⎛       π⎞⎟                ⎜   3  23/2 ⎛\n",
       "  ⋅⎝L  + r ⎠ ⋅(2⋅M - r)⋅sin(Ψ(r))⎠⋅sin⎜Ψ(r) + ─⎟⎟  0.25⋅√2⋅ⅈ⋅M⋅y⋅⎝- L ⋅r    ⋅⎝\n",
       "                                      ⎝       4⎠⎠                             \n",
       "─────────────────────────────────────────────────  ───────────────────────────\n",
       "                                                                              \n",
       "                                                                              \n",
       "                                                                              \n",
       "\n",
       "                                                                              \n",
       "        3/2 ⎛            _____________________________________________________\n",
       " 2    2⎞    ⎜     3/2   ╱      2  3        5      4      4        2    2    2 \n",
       "L  + r ⎠   ⋅⎝- L⋅r   ⋅╲╱  2⋅E⋅L ⋅r  + 2⋅E⋅r  + 2⋅L ⋅M - L ⋅r + 4⋅L ⋅M⋅r  - L ⋅\n",
       "                                                                              \n",
       "──────────────────────────────────────────────────────────────────────────────\n",
       "                                                                              \n",
       "                                                                              \n",
       "                                                                              \n",
       "\n",
       "                                                                              \n",
       "____________                               _________          ⎞    ___________\n",
       " 3        4               4   _________   ╱  2    2           ⎟   ╱      3    \n",
       "r  + 2⋅M⋅r  ⋅sin(Ψ(r)) + r ⋅╲╱ 2⋅E + 1 ⋅╲╱  L  + r  ⋅cos(Ψ(r))⎠⋅╲╱  2⋅E⋅r  + 2\n",
       "                                                                              \n",
       "──────────────────────────────────────────────────────────────────────────────\n",
       "                                                                              \n",
       "                                                                              \n",
       "                                                                              \n",
       "\n",
       "                                                                              \n",
       "______________________                               3/2 ⎛                    \n",
       "  2      2          2     3  14   _________ ⎛ 2    2⎞    ⎜     2   _________  \n",
       "⋅L ⋅M - L ⋅r + 2⋅M⋅r   + L ⋅r  ⋅╲╱ 2⋅E + 1 ⋅⎝L  + r ⎠   ⋅⎝- L⋅r ⋅╲╱ 2⋅E + 1 ⋅╲\n",
       "                                                                              \n",
       "──────────────────────────────────────────────────────────────────────────────\n",
       "                               3                                              \n",
       "                2  18 ⎛ 2    2⎞                                               \n",
       "               L ⋅r  ⋅⎝L  + r ⎠ ⋅(2⋅M - r)                                    \n",
       "\n",
       "                                                                              \n",
       "  _________                     ______________________________________________\n",
       " ╱  2    2               3/2   ╱      2  3        5      4      4        2    \n",
       "╱  L  + r  ⋅sin(Ψ(r)) + r   ⋅╲╱  2⋅E⋅L ⋅r  + 2⋅E⋅r  + 2⋅L ⋅M - L ⋅r + 4⋅L ⋅M⋅r\n",
       "                                                                              \n",
       "──────────────────────────────────────────────────────────────────────────────\n",
       "                                                                              \n",
       "                                                                              \n",
       "                                                                              \n",
       "\n",
       "                                                                              \n",
       "___________________          ⎞                  5                    ⎞        \n",
       "2    2  3        4           ⎟      13 ⎛ 2    2⎞                     ⎟    ⎛   \n",
       "  - L ⋅r  + 2⋅M⋅r  ⋅cos(Ψ(r))⎠ + 2⋅r  ⋅⎝L  + r ⎠ ⋅(2⋅M - r)⋅sin(Ψ(r))⎠⋅sin⎜Ψ(r\n",
       "                                                                          ⎝   \n",
       "──────────────────────────────────────────────────────────────────────────────\n",
       "                                                                              \n",
       "                                                                              \n",
       "                                                                              \n",
       "\n",
       "      ⎤\n",
       "      ⎥\n",
       "    π⎞⎥\n",
       ") + ─⎟⎥\n",
       "    4⎠⎥\n",
       "──────⎥\n",
       "      ⎥\n",
       "      ⎥\n",
       "      ⎦"
      ]
     },
     "execution_count": 288,
     "metadata": {},
     "output_type": "execute_result"
    }
   ],
   "source": [
    "v_i = spinor_bar(-A)*(frac(1/4) * gamma_0(A,-B)*gamma(-jS, B,-C)*R_3(jS,-iS,-mS)*x(mS) + frac(1/8) * gamma(-kS,A,-B)*gamma(-jS,B,-C)*R_4(kS,jS,-iS,-mS)*x(mS) )*spinor(C)\n",
    "v_i = simplify((v_i.replace_with_arrays(repl_spacial,v_i.get_free_indices())).subs(theta,pi/2).subs(u_phi(r), L/r**2).subs(u_r(r), sqrt(2*Energy +  2*M/r - L**2/r**2 + 2*M*L**2/r**3)).subs(u_t(r), sqrt(2*Energy + 1)/f).subs(r_s, 2*M))\n",
    "v_i"
   ]
  },
  {
   "cell_type": "code",
   "execution_count": 301,
   "metadata": {},
   "outputs": [
    {
     "ename": "KeyboardInterrupt",
     "evalue": "",
     "output_type": "error",
     "traceback": [
      "\u001b[0;31m---------------------------------------------------------------------------\u001b[0m",
      "\u001b[0;31mKeyboardInterrupt\u001b[0m                         Traceback (most recent call last)",
      "Cell \u001b[0;32mIn[301], line 1\u001b[0m\n\u001b[0;32m----> 1\u001b[0m simplify(diff(v_i,r))\n",
      "File \u001b[0;32m~/.var/app/com.visualstudio.code-oss/data/python/lib/python3.10/site-packages/sympy/simplify/simplify.py:601\u001b[0m, in \u001b[0;36msimplify\u001b[0;34m(expr, ratio, measure, rational, inverse, doit, **kwargs)\u001b[0m\n\u001b[1;32m    599\u001b[0m _eval_simplify \u001b[39m=\u001b[39m \u001b[39mgetattr\u001b[39m(expr, \u001b[39m'\u001b[39m\u001b[39m_eval_simplify\u001b[39m\u001b[39m'\u001b[39m, \u001b[39mNone\u001b[39;00m)\n\u001b[1;32m    600\u001b[0m \u001b[39mif\u001b[39;00m _eval_simplify \u001b[39mis\u001b[39;00m \u001b[39mnot\u001b[39;00m \u001b[39mNone\u001b[39;00m:\n\u001b[0;32m--> 601\u001b[0m     \u001b[39mreturn\u001b[39;00m _eval_simplify(\u001b[39m*\u001b[39;49m\u001b[39m*\u001b[39;49mkwargs)\n\u001b[1;32m    603\u001b[0m original_expr \u001b[39m=\u001b[39m expr \u001b[39m=\u001b[39m collect_abs(signsimp(expr))\n\u001b[1;32m    605\u001b[0m \u001b[39mif\u001b[39;00m \u001b[39mnot\u001b[39;00m \u001b[39misinstance\u001b[39m(expr, Basic) \u001b[39mor\u001b[39;00m \u001b[39mnot\u001b[39;00m expr\u001b[39m.\u001b[39margs:  \u001b[39m# XXX: temporary hack\u001b[39;00m\n",
      "File \u001b[0;32m~/.var/app/com.visualstudio.code-oss/data/python/lib/python3.10/site-packages/sympy/tensor/array/dense_ndim_array.py:158\u001b[0m, in \u001b[0;36mImmutableDenseNDimArray._eval_simplify\u001b[0;34m(self, **kwargs)\u001b[0m\n\u001b[1;32m    156\u001b[0m \u001b[39mdef\u001b[39;00m \u001b[39m_eval_simplify\u001b[39m(\u001b[39mself\u001b[39m, \u001b[39m*\u001b[39m\u001b[39m*\u001b[39mkwargs):\n\u001b[1;32m    157\u001b[0m     \u001b[39mfrom\u001b[39;00m \u001b[39msympy\u001b[39;00m\u001b[39m.\u001b[39;00m\u001b[39msimplify\u001b[39;00m\u001b[39m.\u001b[39;00m\u001b[39msimplify\u001b[39;00m \u001b[39mimport\u001b[39;00m simplify\n\u001b[0;32m--> 158\u001b[0m     \u001b[39mreturn\u001b[39;00m \u001b[39mself\u001b[39;49m\u001b[39m.\u001b[39;49mapplyfunc(simplify)\n",
      "File \u001b[0;32m~/.var/app/com.visualstudio.code-oss/data/python/lib/python3.10/site-packages/sympy/tensor/array/ndim_array.py:353\u001b[0m, in \u001b[0;36mNDimArray.applyfunc\u001b[0;34m(self, f)\u001b[0m\n\u001b[1;32m    350\u001b[0m \u001b[39mif\u001b[39;00m \u001b[39misinstance\u001b[39m(\u001b[39mself\u001b[39m, SparseNDimArray) \u001b[39mand\u001b[39;00m f(S\u001b[39m.\u001b[39mZero) \u001b[39m==\u001b[39m \u001b[39m0\u001b[39m:\n\u001b[1;32m    351\u001b[0m     \u001b[39mreturn\u001b[39;00m \u001b[39mtype\u001b[39m(\u001b[39mself\u001b[39m)({k: f(v) \u001b[39mfor\u001b[39;00m k, v \u001b[39min\u001b[39;00m \u001b[39mself\u001b[39m\u001b[39m.\u001b[39m_sparse_array\u001b[39m.\u001b[39mitems() \u001b[39mif\u001b[39;00m f(v) \u001b[39m!=\u001b[39m \u001b[39m0\u001b[39m}, \u001b[39mself\u001b[39m\u001b[39m.\u001b[39mshape)\n\u001b[0;32m--> 353\u001b[0m \u001b[39mreturn\u001b[39;00m \u001b[39mtype\u001b[39;49m(\u001b[39mself\u001b[39;49m)(\u001b[39mmap\u001b[39;49m(f, Flatten(\u001b[39mself\u001b[39;49m)), \u001b[39mself\u001b[39;49m\u001b[39m.\u001b[39;49mshape)\n",
      "File \u001b[0;32m~/.var/app/com.visualstudio.code-oss/data/python/lib/python3.10/site-packages/sympy/tensor/array/dense_ndim_array.py:134\u001b[0m, in \u001b[0;36mImmutableDenseNDimArray.__new__\u001b[0;34m(cls, iterable, shape, **kwargs)\u001b[0m\n\u001b[1;32m    133\u001b[0m \u001b[39mdef\u001b[39;00m \u001b[39m__new__\u001b[39m(\u001b[39mcls\u001b[39m, iterable, shape\u001b[39m=\u001b[39m\u001b[39mNone\u001b[39;00m, \u001b[39m*\u001b[39m\u001b[39m*\u001b[39mkwargs):\n\u001b[0;32m--> 134\u001b[0m     \u001b[39mreturn\u001b[39;00m \u001b[39mcls\u001b[39;49m\u001b[39m.\u001b[39;49m_new(iterable, shape, \u001b[39m*\u001b[39;49m\u001b[39m*\u001b[39;49mkwargs)\n",
      "File \u001b[0;32m~/.var/app/com.visualstudio.code-oss/data/python/lib/python3.10/site-packages/sympy/tensor/array/dense_ndim_array.py:141\u001b[0m, in \u001b[0;36mImmutableDenseNDimArray._new\u001b[0;34m(cls, iterable, shape, **kwargs)\u001b[0m\n\u001b[1;32m    139\u001b[0m shape \u001b[39m=\u001b[39m Tuple(\u001b[39m*\u001b[39m\u001b[39mmap\u001b[39m(_sympify, shape))\n\u001b[1;32m    140\u001b[0m \u001b[39mcls\u001b[39m\u001b[39m.\u001b[39m_check_special_bounds(flat_list, shape)\n\u001b[0;32m--> 141\u001b[0m flat_list \u001b[39m=\u001b[39m flatten(flat_list)\n\u001b[1;32m    142\u001b[0m flat_list \u001b[39m=\u001b[39m Tuple(\u001b[39m*\u001b[39mflat_list)\n\u001b[1;32m    143\u001b[0m \u001b[39mself\u001b[39m \u001b[39m=\u001b[39m Basic\u001b[39m.\u001b[39m\u001b[39m__new__\u001b[39m(\u001b[39mcls\u001b[39m, flat_list, shape, \u001b[39m*\u001b[39m\u001b[39m*\u001b[39mkwargs)\n",
      "File \u001b[0;32m~/.var/app/com.visualstudio.code-oss/data/python/lib/python3.10/site-packages/sympy/utilities/iterables.py:112\u001b[0m, in \u001b[0;36mflatten\u001b[0;34m(iterable, levels, cls)\u001b[0m\n\u001b[1;32m    108\u001b[0m         \u001b[39mreturn\u001b[39;00m \u001b[39misinstance\u001b[39m(x, \u001b[39mcls\u001b[39m)\n\u001b[1;32m    110\u001b[0m result \u001b[39m=\u001b[39m []\n\u001b[0;32m--> 112\u001b[0m \u001b[39mfor\u001b[39;00m el \u001b[39min\u001b[39;00m iterable:\n\u001b[1;32m    113\u001b[0m     \u001b[39mif\u001b[39;00m reducible(el):\n\u001b[1;32m    114\u001b[0m         \u001b[39mif\u001b[39;00m \u001b[39mhasattr\u001b[39m(el, \u001b[39m'\u001b[39m\u001b[39margs\u001b[39m\u001b[39m'\u001b[39m) \u001b[39mand\u001b[39;00m \u001b[39mnot\u001b[39;00m \u001b[39misinstance\u001b[39m(el, NDimArray):\n",
      "File \u001b[0;32m~/.var/app/com.visualstudio.code-oss/data/python/lib/python3.10/site-packages/sympy/simplify/simplify.py:645\u001b[0m, in \u001b[0;36msimplify\u001b[0;34m(expr, ratio, measure, rational, inverse, doit, **kwargs)\u001b[0m\n\u001b[1;32m    643\u001b[0m expr \u001b[39m=\u001b[39m Mul(\u001b[39m*\u001b[39mpowsimp(expr)\u001b[39m.\u001b[39mas_content_primitive())\n\u001b[1;32m    644\u001b[0m _e \u001b[39m=\u001b[39m cancel(expr)\n\u001b[0;32m--> 645\u001b[0m expr1 \u001b[39m=\u001b[39m shorter(_e, _mexpand(_e)\u001b[39m.\u001b[39;49mcancel())  \u001b[39m# issue 6829\u001b[39;00m\n\u001b[1;32m    646\u001b[0m expr2 \u001b[39m=\u001b[39m shorter(together(expr, deep\u001b[39m=\u001b[39m\u001b[39mTrue\u001b[39;00m), together(expr1, deep\u001b[39m=\u001b[39m\u001b[39mTrue\u001b[39;00m))\n\u001b[1;32m    648\u001b[0m \u001b[39mif\u001b[39;00m ratio \u001b[39mis\u001b[39;00m S\u001b[39m.\u001b[39mInfinity:\n",
      "File \u001b[0;32m~/.var/app/com.visualstudio.code-oss/data/python/lib/python3.10/site-packages/sympy/core/expr.py:3791\u001b[0m, in \u001b[0;36mExpr.cancel\u001b[0;34m(self, *gens, **args)\u001b[0m\n\u001b[1;32m   3789\u001b[0m \u001b[39m\u001b[39m\u001b[39m\"\"\"See the cancel function in sympy.polys\"\"\"\u001b[39;00m\n\u001b[1;32m   3790\u001b[0m \u001b[39mfrom\u001b[39;00m \u001b[39msympy\u001b[39;00m\u001b[39m.\u001b[39;00m\u001b[39mpolys\u001b[39;00m\u001b[39m.\u001b[39;00m\u001b[39mpolytools\u001b[39;00m \u001b[39mimport\u001b[39;00m cancel\n\u001b[0;32m-> 3791\u001b[0m \u001b[39mreturn\u001b[39;00m cancel(\u001b[39mself\u001b[39;49m, \u001b[39m*\u001b[39;49mgens, \u001b[39m*\u001b[39;49m\u001b[39m*\u001b[39;49margs)\n",
      "File \u001b[0;32m~/.var/app/com.visualstudio.code-oss/data/python/lib/python3.10/site-packages/sympy/polys/polytools.py:6832\u001b[0m, in \u001b[0;36mcancel\u001b[0;34m(f, _signsimp, *gens, **args)\u001b[0m\n\u001b[1;32m   6830\u001b[0m f \u001b[39m=\u001b[39m sympify(f)\n\u001b[1;32m   6831\u001b[0m \u001b[39mif\u001b[39;00m _signsimp:\n\u001b[0;32m-> 6832\u001b[0m     f \u001b[39m=\u001b[39m signsimp(f)\n\u001b[1;32m   6833\u001b[0m opt \u001b[39m=\u001b[39m {}\n\u001b[1;32m   6834\u001b[0m \u001b[39mif\u001b[39;00m \u001b[39m'\u001b[39m\u001b[39mpolys\u001b[39m\u001b[39m'\u001b[39m \u001b[39min\u001b[39;00m args:\n",
      "File \u001b[0;32m~/.var/app/com.visualstudio.code-oss/data/python/lib/python3.10/site-packages/sympy/simplify/simplify.py:406\u001b[0m, in \u001b[0;36msignsimp\u001b[0;34m(expr, evaluate)\u001b[0m\n\u001b[1;32m    404\u001b[0m \u001b[39m# get rid of an pre-existing unevaluation regarding sign\u001b[39;00m\n\u001b[1;32m    405\u001b[0m e \u001b[39m=\u001b[39m expr\u001b[39m.\u001b[39mreplace(\u001b[39mlambda\u001b[39;00m x: x\u001b[39m.\u001b[39mis_Mul \u001b[39mand\u001b[39;00m \u001b[39m-\u001b[39m(\u001b[39m-\u001b[39mx) \u001b[39m!=\u001b[39m x, \u001b[39mlambda\u001b[39;00m x: \u001b[39m-\u001b[39m(\u001b[39m-\u001b[39mx))\n\u001b[0;32m--> 406\u001b[0m e \u001b[39m=\u001b[39m sub_post(sub_pre(e))\n\u001b[1;32m    407\u001b[0m \u001b[39mif\u001b[39;00m \u001b[39mnot\u001b[39;00m \u001b[39misinstance\u001b[39m(e, (Expr, Relational)) \u001b[39mor\u001b[39;00m e\u001b[39m.\u001b[39mis_Atom:\n\u001b[1;32m    408\u001b[0m     \u001b[39mreturn\u001b[39;00m e\n",
      "File \u001b[0;32m~/.var/app/com.visualstudio.code-oss/data/python/lib/python3.10/site-packages/sympy/simplify/cse_opts.py:14\u001b[0m, in \u001b[0;36msub_pre\u001b[0;34m(e)\u001b[0m\n\u001b[1;32m     11\u001b[0m \u001b[39m\u001b[39m\u001b[39m\"\"\" Replace y - x with -(x - y) if -1 can be extracted from y - x.\u001b[39;00m\n\u001b[1;32m     12\u001b[0m \u001b[39m\"\"\"\u001b[39;00m\n\u001b[1;32m     13\u001b[0m \u001b[39m# replacing Add, A, from which -1 can be extracted with -1*-A\u001b[39;00m\n\u001b[0;32m---> 14\u001b[0m adds \u001b[39m=\u001b[39m [a \u001b[39mfor\u001b[39;00m a \u001b[39min\u001b[39;00m e\u001b[39m.\u001b[39;49matoms(Add) \u001b[39mif\u001b[39;00m a\u001b[39m.\u001b[39mcould_extract_minus_sign()]\n\u001b[1;32m     15\u001b[0m reps \u001b[39m=\u001b[39m {}\n\u001b[1;32m     16\u001b[0m ignore \u001b[39m=\u001b[39m \u001b[39mset\u001b[39m()\n",
      "File \u001b[0;32m~/.var/app/com.visualstudio.code-oss/data/python/lib/python3.10/site-packages/sympy/core/basic.py:559\u001b[0m, in \u001b[0;36mBasic.atoms\u001b[0;34m(self, *types)\u001b[0m\n\u001b[1;32m    557\u001b[0m nodes \u001b[39m=\u001b[39m _preorder_traversal(\u001b[39mself\u001b[39m)\n\u001b[1;32m    558\u001b[0m \u001b[39mif\u001b[39;00m types:\n\u001b[0;32m--> 559\u001b[0m     result \u001b[39m=\u001b[39m {node \u001b[39mfor\u001b[39;00m node \u001b[39min\u001b[39;00m nodes \u001b[39mif\u001b[39;00m \u001b[39misinstance\u001b[39m(node, types)}\n\u001b[1;32m    560\u001b[0m \u001b[39melse\u001b[39;00m:\n\u001b[1;32m    561\u001b[0m     result \u001b[39m=\u001b[39m {node \u001b[39mfor\u001b[39;00m node \u001b[39min\u001b[39;00m nodes \u001b[39mif\u001b[39;00m \u001b[39mnot\u001b[39;00m node\u001b[39m.\u001b[39margs}\n",
      "File \u001b[0;32m~/.var/app/com.visualstudio.code-oss/data/python/lib/python3.10/site-packages/sympy/core/basic.py:559\u001b[0m, in \u001b[0;36m<setcomp>\u001b[0;34m(.0)\u001b[0m\n\u001b[1;32m    557\u001b[0m nodes \u001b[39m=\u001b[39m _preorder_traversal(\u001b[39mself\u001b[39m)\n\u001b[1;32m    558\u001b[0m \u001b[39mif\u001b[39;00m types:\n\u001b[0;32m--> 559\u001b[0m     result \u001b[39m=\u001b[39m {node \u001b[39mfor\u001b[39;00m node \u001b[39min\u001b[39;00m nodes \u001b[39mif\u001b[39;00m \u001b[39misinstance\u001b[39m(node, types)}\n\u001b[1;32m    560\u001b[0m \u001b[39melse\u001b[39;00m:\n\u001b[1;32m    561\u001b[0m     result \u001b[39m=\u001b[39m {node \u001b[39mfor\u001b[39;00m node \u001b[39min\u001b[39;00m nodes \u001b[39mif\u001b[39;00m \u001b[39mnot\u001b[39;00m node\u001b[39m.\u001b[39margs}\n",
      "File \u001b[0;32m~/.var/app/com.visualstudio.code-oss/data/python/lib/python3.10/site-packages/sympy/core/traversal.py:163\u001b[0m, in \u001b[0;36mpreorder_traversal.__next__\u001b[0;34m(self)\u001b[0m\n\u001b[1;32m    162\u001b[0m \u001b[39mdef\u001b[39;00m \u001b[39m__next__\u001b[39m(\u001b[39mself\u001b[39m):\n\u001b[0;32m--> 163\u001b[0m     \u001b[39mreturn\u001b[39;00m \u001b[39mnext\u001b[39;49m(\u001b[39mself\u001b[39;49m\u001b[39m.\u001b[39;49m_pt)\n",
      "File \u001b[0;32m~/.var/app/com.visualstudio.code-oss/data/python/lib/python3.10/site-packages/sympy/core/traversal.py:137\u001b[0m, in \u001b[0;36mpreorder_traversal._preorder_traversal\u001b[0;34m(self, node, keys)\u001b[0m\n\u001b[1;32m    135\u001b[0m             args \u001b[39m=\u001b[39m ordered(args)\n\u001b[1;32m    136\u001b[0m     \u001b[39mfor\u001b[39;00m arg \u001b[39min\u001b[39;00m args:\n\u001b[0;32m--> 137\u001b[0m         \u001b[39myield from\u001b[39;00m \u001b[39mself\u001b[39m\u001b[39m.\u001b[39m_preorder_traversal(arg, keys)\n\u001b[1;32m    138\u001b[0m \u001b[39melif\u001b[39;00m iterable(node):\n\u001b[1;32m    139\u001b[0m     \u001b[39mfor\u001b[39;00m item \u001b[39min\u001b[39;00m node:\n",
      "File \u001b[0;32m~/.var/app/com.visualstudio.code-oss/data/python/lib/python3.10/site-packages/sympy/core/traversal.py:137\u001b[0m, in \u001b[0;36mpreorder_traversal._preorder_traversal\u001b[0;34m(self, node, keys)\u001b[0m\n\u001b[1;32m    135\u001b[0m             args \u001b[39m=\u001b[39m ordered(args)\n\u001b[1;32m    136\u001b[0m     \u001b[39mfor\u001b[39;00m arg \u001b[39min\u001b[39;00m args:\n\u001b[0;32m--> 137\u001b[0m         \u001b[39myield from\u001b[39;00m \u001b[39mself\u001b[39m\u001b[39m.\u001b[39m_preorder_traversal(arg, keys)\n\u001b[1;32m    138\u001b[0m \u001b[39melif\u001b[39;00m iterable(node):\n\u001b[1;32m    139\u001b[0m     \u001b[39mfor\u001b[39;00m item \u001b[39min\u001b[39;00m node:\n",
      "    \u001b[0;31m[... skipping similar frames: preorder_traversal._preorder_traversal at line 137 (5 times)]\u001b[0m\n",
      "File \u001b[0;32m~/.var/app/com.visualstudio.code-oss/data/python/lib/python3.10/site-packages/sympy/core/traversal.py:137\u001b[0m, in \u001b[0;36mpreorder_traversal._preorder_traversal\u001b[0;34m(self, node, keys)\u001b[0m\n\u001b[1;32m    135\u001b[0m             args \u001b[39m=\u001b[39m ordered(args)\n\u001b[1;32m    136\u001b[0m     \u001b[39mfor\u001b[39;00m arg \u001b[39min\u001b[39;00m args:\n\u001b[0;32m--> 137\u001b[0m         \u001b[39myield from\u001b[39;00m \u001b[39mself\u001b[39m\u001b[39m.\u001b[39m_preorder_traversal(arg, keys)\n\u001b[1;32m    138\u001b[0m \u001b[39melif\u001b[39;00m iterable(node):\n\u001b[1;32m    139\u001b[0m     \u001b[39mfor\u001b[39;00m item \u001b[39min\u001b[39;00m node:\n",
      "File \u001b[0;32m~/.var/app/com.visualstudio.code-oss/data/python/lib/python3.10/site-packages/sympy/core/traversal.py:120\u001b[0m, in \u001b[0;36mpreorder_traversal._preorder_traversal\u001b[0;34m(self, node, keys)\u001b[0m\n\u001b[1;32m    119\u001b[0m \u001b[39mdef\u001b[39;00m \u001b[39m_preorder_traversal\u001b[39m(\u001b[39mself\u001b[39m, node, keys):\n\u001b[0;32m--> 120\u001b[0m     \u001b[39myield\u001b[39;00m node\n\u001b[1;32m    121\u001b[0m     \u001b[39mif\u001b[39;00m \u001b[39mself\u001b[39m\u001b[39m.\u001b[39m_skip_flag:\n\u001b[1;32m    122\u001b[0m         \u001b[39mself\u001b[39m\u001b[39m.\u001b[39m_skip_flag \u001b[39m=\u001b[39m \u001b[39mFalse\u001b[39;00m\n",
      "\u001b[0;31mKeyboardInterrupt\u001b[0m: "
     ]
    }
   ],
   "source": [
    "simplify(diff(v_i,r))"
   ]
  },
  {
   "attachments": {},
   "cell_type": "markdown",
   "metadata": {},
   "source": [
    "$\\newcommand{\\overbar}[1]{\\mkern 1.5mu\\overline{\\mkern-1.5mu#1\\mkern-1.5mu}\\mkern 1.5mu}\\textbf{}$\n",
    "\n",
    "$\\delta v_\\alpha = \\frac{\\hbar}{m i } \\overbar{\\Psi}_0^{(\\sigma)} \\Gamma_\\alpha \\Psi_0^{(\\sigma)}$ \\\n",
    "$\\delta v_\\alpha = \\frac{\\hbar}{m i } \\frac{-1}{2}\\overbar{\\Psi}_0^{(\\sigma)} \\omega_{\\alpha a b}\\Gamma_{(1/2)}(M^{a b }) \\Psi_0^{(\\sigma)}$ \\\n",
    "$\\delta v_\\alpha = -\\frac{\\hbar}{2m i } \\omega_{\\alpha a b}\\overbar{\\Psi}_0^{(\\sigma)} \\Gamma_{(1/2)}(M^{a b }) \\Psi_0^{(\\sigma)}$\n",
    "$:= -\\frac{\\hbar}{2m i } \\omega_{\\alpha a b}\\Sigma^{ab}$\n",
    "\n",
    "$\\Sigma^{ab} = \\overbar{\\Psi}_0^{(\\sigma)} \\Gamma_{(1/2)}(M^{a b }) \\Psi_0^{(\\sigma)} =  \\frac{1}{4}\\overbar{\\Psi}_0^{(\\sigma)} \\left[ \\gamma^a, \\gamma^b\\right]\\Psi_0^{(\\sigma)}$"
   ]
  },
  {
   "cell_type": "code",
   "execution_count": 45,
   "metadata": {},
   "outputs": [
    {
     "data": {
      "text/latex": [
       "$\\displaystyle \\left[\\begin{matrix}0 & 0 & 0 & 0\\\\0 & 0 & - \\frac{i}{2} & 0\\\\0 & \\frac{i}{2} & 0 & 0\\\\0 & 0 & 0 & 0\\end{matrix}\\right]$"
      ],
      "text/plain": [
       "⎡0  0   0   0⎤\n",
       "⎢            ⎥\n",
       "⎢      -ⅈ    ⎥\n",
       "⎢0  0  ───  0⎥\n",
       "⎢       2    ⎥\n",
       "⎢            ⎥\n",
       "⎢   ⅈ        ⎥\n",
       "⎢0  ─   0   0⎥\n",
       "⎢   2        ⎥\n",
       "⎢            ⎥\n",
       "⎣0  0   0   0⎦"
      ]
     },
     "execution_count": 45,
     "metadata": {},
     "output_type": "execute_result"
    }
   ],
   "source": [
    "xi = symbols(\"\\\\xi\", real=True)\n",
    "chi = symbols(\"\\\\chi\", real=True)\n",
    "\n",
    "def commutator(a,b):\n",
    "    return mgamma(a)@mgamma(b) - mgamma(b)@mgamma(a)\n",
    "\n",
    "def Sigma(a,b):\n",
    "    #psi = Matrix([[cos(xi/2),exp(I*chi)*sin(xi/2),0,0]]).T\n",
    "    psi = Matrix([[1,0,0,0]]).T #z-direction\n",
    "    #psi = Matrix([[0,1,0,0]]).T\n",
    "    #psi = Matrix([[1/sqrt(2), I*1/sqrt(2),0,0]]) #y-direction\n",
    "    #psi = Matrix([[1/sqrt(2), -1/sqrt(2),0,0]]).T\n",
    "\n",
    "    return conjugate(psi).T@mgamma(0)@commutator(a,b)@psi/4\n",
    "\n",
    "def Sigma_as_Matrix():\n",
    "    s = zeros(4)\n",
    "    for i in range(4):\n",
    "        for j in range(4):\n",
    "            s[i,j] = Sigma(i,j)\n",
    "    return s\n",
    "\n",
    "\n",
    "Sigma_ab = Sigma_as_Matrix()\n",
    "simplify(Sigma_ab)\n"
   ]
  },
  {
   "cell_type": "code",
   "execution_count": 94,
   "metadata": {},
   "outputs": [],
   "source": [
    "E = schwarzschild_m(-nu, -alpha)*e(-a, alpha)*minkowski_m(a, b)\n"
   ]
  },
  {
   "attachments": {},
   "cell_type": "markdown",
   "metadata": {},
   "source": [
    "$\\omega_{\\mu a b} = \\Gamma^\\alpha_{\\ \\ \\ \\nu \\mu}e_a^{\\ \\ \\  \\nu}E_\\alpha^{\\ \\  \\ c}\\eta_{b c}      - \\partial_\\mu (E_\\alpha^{\\ \\ \\ \\ c})e_a^{\\  \\ \\ \\alpha}\\eta_{b c}  $ \n",
    "\n",
    "\n",
    "$\\omega_{\\mu}^{ab} = \\Gamma^\\nu_{\\ \\ \\ \\alpha \\mu}E_\\nu^{\\ \\ \\  a}E^{\\alpha b}    - E^{\\nu b}(\\partial_\\mu  E_\\nu^{\\ \\  \\ a}) $ \n",
    "\n",
    "\n"
   ]
  },
  {
   "cell_type": "code",
   "execution_count": null,
   "metadata": {},
   "outputs": [
    {
     "data": {
      "image/png": "[encoded data removed]",
      "text/latex": [
       "$\\displaystyle 0.784757820998493$"
      ],
      "text/plain": [
       "0.7847578209984931"
      ]
     },
     "execution_count": 34,
     "metadata": {},
     "output_type": "execute_result"
    }
   ],
   "source": [
    "R = 6371\n",
    "l = 100\n",
    "\n",
    "x = np.sqrt(R**2 + l**2) - R\n",
    "x"
   ]
  },
  {
   "cell_type": "code",
   "execution_count": null,
   "metadata": {},
   "outputs": [
    {
     "data": {
      "image/png": "[encoded data removed]",
      "text/latex": [
       "$\\displaystyle 1.0$"
      ],
      "text/plain": [
       "1.0"
      ]
     },
     "execution_count": 25,
     "metadata": {},
     "output_type": "execute_result"
    }
   ],
   "source": [
    "E = 2.4*1E6\n",
    "m = 1.5E-6\n",
    "\n",
    "alpha = E**2/m**2\n",
    "\n",
    "\n",
    "\n",
    "beta = np.sqrt((alpha-1)/(alpha+2))\n",
    "beta"
   ]
  }
 ],
 "metadata": {
  "kernelspec": {
   "display_name": "Python 3",
   "language": "python",
   "name": "python3"
  },
  "language_info": {
   "codemirror_mode": {
    "name": "ipython",
    "version": 3
   },
   "file_extension": ".py",
   "mimetype": "text/x-python",
   "name": "python",
   "nbconvert_exporter": "python",
   "pygments_lexer": "ipython3",
   "version": "3.10.13"
  },
  "vscode": {
   "interpreter": {
    "hash": "d2152fd7f0bbc62aa1baff8c990435d1e2c7175d001561303988032604c11a48"
   }
  }
 },
 "nbformat": 4,
 "nbformat_minor": 2
}
