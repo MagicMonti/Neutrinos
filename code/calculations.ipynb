{
 "cells": [
  {
   "cell_type": "code",
   "execution_count": 201,
   "metadata": {},
   "outputs": [
    {
     "data": {
      "image/png": "[encoded data removed]",
      "text/latex": [
       "$\\displaystyle \\left( f, \\  r, \\  \\theta, \\  \\phi, \\  \\hbar\\right)$"
      ],
      "text/plain": [
       "(f, r, θ, φ, h̅)"
      ]
     },
     "execution_count": 201,
     "metadata": {},
     "output_type": "execute_result"
    }
   ],
   "source": [
    "from sympy import *\n",
    "from sympy.physics.hep.gamma_matrices import GammaMatrix as G, LorentzIndex, gamma_trace\n",
    "from sympy.tensor.tensor import tensor_indices\n",
    "from sympy.physics.hep.gamma_matrices import kahane_simplify\n",
    "from sympy.physics.matrices import mgamma\n",
    "from einsteinpy.symbolic.predefined import Schwarzschild \n",
    "from einsteinpy.symbolic import ChristoffelSymbols, RiemannCurvatureTensor, Tensor, BaseRelativityTensor, GenericVector, MetricTensor\n",
    "#from einsteinpy.symbolic.tensor import tensor_product\n",
    "from sympy.tensor.tensor import TensorIndexType, TensorIndex, TensorHead, tensor_indices\n",
    "import numpy as np\n",
    "\n",
    "i,j = tensor_indices('i,j', LorentzIndex)\n",
    "init_printing(use_unicode=True)\n",
    "f, theta, phi, u_0, t, c, hbar, m_ = symbols(\"f theta phi u_0 t c hbar m\", real=True)\n",
    "r = symbols(\"r\", positive=True)\n",
    "r_s,M ,R= symbols(\"r_s M R\")\n",
    "u_t , u_r , u_theta, u_phi = symbols(\"u_t u_r u_\\\\theta u_\\phi\", cls=Function)\n",
    "f,r,theta, phi, hbar"
   ]
  },
  {
   "attachments": {},
   "cell_type": "markdown",
   "metadata": {},
   "source": [
    "define $\\eta^{ab}:= $ eta  (mostly plus)\\\n",
    "and $E_{\\alpha}^{\\ \\  \\ a}:= E^\\top$,\n",
    "$e_a^{\\ \\ \\ \\alpha}:= e^\\top$   such that $e_0^{\\ \\ \\ \\alpha}= u^\\alpha $"
   ]
  },
  {
   "cell_type": "code",
   "execution_count": 202,
   "metadata": {},
   "outputs": [],
   "source": [
    "eta = Matrix([[-1,0,0,0],[0,1,0,0],[0,0,1,0],[0,0,0,1]])\n",
    "\n",
    "#r_s = 0\n",
    "\n",
    "g_t = -(1-r_s/r)\n",
    "g_r = 1/(1-r_s/r)\n",
    "\n",
    "#g_r = (1 + r_s/r)\n",
    "\n",
    "\n",
    "\n",
    "g_theta = r**2\n",
    "g_phi = r**2 * sin(theta)**2\n",
    "\n",
    "u_t = u_t(t,r,phi)\n",
    "u_r = u_r(t,r,phi)\n",
    "#u_r = 0\n",
    "\n",
    "u_phi = u_phi(t,r,phi)\n",
    "u_theta = u_theta(t,r,phi)\n",
    "#u_phi = 0\n",
    "\n",
    "\n",
    "N_1 = sqrt(g_r + u_r**2 * g_r**2)\n",
    "#N_1 = g_r + u_r**2 * g_r**2\n",
    "\n",
    "\n",
    "a = g_phi * u_phi - (g_phi * u_phi*u_r**2 * g_r**2)/N_1\n",
    "b = (g_phi * u_r * g_r * u_phi)/N_1\n",
    "N_2 = sqrt(g_phi*(1+ 2*a*u_phi) - g_r*b*(b + 2*a*u_r)- a**2)\n",
    "\n",
    "\n",
    "#u_theta = 0\n",
    "# u^2 = -1 => u_t = something\n",
    "\n",
    "#and set theta = pi/2\n",
    "\n",
    "u_t = sqrt(r*(r**3*u_phi**2 - r**2*r_s*u_phi**2 + r*u_r**2 + r - r_s))/(r - r_s)\n",
    "\n",
    "\n",
    "c = symbols(\"c\", cls=Function)\n",
    "c = c(t,r,phi,theta)\n",
    "\n",
    "\n",
    "e_ = Matrix([[u_t, (u_r*u_t*g_r)/N_1,0,a*u_t/N_2],[u_r,( 1+ u_r**2 * g_r)/N_1,0,(a*u_r - b)/N_2],[0,0,1/sqrt(g_theta),0],[u_phi, (u_phi*u_r*g_r)/N_1,0,(1+a*u_phi)/N_2]])\n",
    "\n",
    "\n",
    "#e_ = simplify(e_.T)\n",
    "e = e_.T"
   ]
  },
  {
   "cell_type": "code",
   "execution_count": 154,
   "metadata": {},
   "outputs": [
    {
     "data": {
      "text/latex": [
       "$\\displaystyle \\left[\\begin{matrix}\\frac{\\sqrt{r} \\sqrt{r u_{r}^{2}{\\left(t,r,\\phi \\right)} + r - r_{s}}}{r - r_{s}} & u_{r}{\\left(t,r,\\phi \\right)} & 0 & 0\\\\\\frac{r \\sqrt{r u_{r}^{2}{\\left(t,r,\\phi \\right)} + r - r_{s}} u_{r}{\\left(t,r,\\phi \\right)}}{\\sqrt{\\frac{r u_{r}^{2}{\\left(t,r,\\phi \\right)} + r - r_{s}}{\\left(r - r_{s}\\right)^{2}}} \\left(r - r_{s}\\right)^{2}} & \\frac{r u_{r}^{2}{\\left(t,r,\\phi \\right)} + r - r_{s}}{\\sqrt{r} \\sqrt{\\frac{r u_{r}^{2}{\\left(t,r,\\phi \\right)} + r - r_{s}}{\\left(r - r_{s}\\right)^{2}}} \\left(r - r_{s}\\right)} & 0 & 0\\\\0 & 0 & \\frac{1}{r} & 0\\\\0 & 0 & 0 & \\frac{1}{r \\left|{\\sin{\\left(\\theta \\right)}}\\right|}\\end{matrix}\\right]$"
      ],
      "text/plain": [
       "⎡           _________________________                                         \n",
       "⎢          ╱     2                                                            \n",
       "⎢     √r⋅╲╱  r⋅uᵣ (t, r, φ) + r - rₛ                                          \n",
       "⎢     ───────────────────────────────                        uᵣ(t, r, φ)      \n",
       "⎢                  r - rₛ                                                     \n",
       "⎢                                                                             \n",
       "⎢     _________________________                                               \n",
       "⎢    ╱     2                                               2                  \n",
       "⎢r⋅╲╱  r⋅uᵣ (t, r, φ) + r - rₛ ⋅uᵣ(t, r, φ)            r⋅uᵣ (t, r, φ) + r - rₛ\n",
       "⎢──────────────────────────────────────────  ─────────────────────────────────\n",
       "⎢      _________________________                      ________________________\n",
       "⎢     ╱     2                                        ╱     2                  \n",
       "⎢    ╱  r⋅uᵣ (t, r, φ) + r - rₛ          2          ╱  r⋅uᵣ (t, r, φ) + r - rₛ\n",
       "⎢   ╱   ─────────────────────── ⋅(r - rₛ)    √r⋅   ╱   ───────────────────────\n",
       "⎢  ╱                   2                          ╱                   2       \n",
       "⎢╲╱            (r - rₛ)                         ╲╱            (r - rₛ)        \n",
       "⎢                                                                             \n",
       "⎢                                                                             \n",
       "⎢                    0                                            0           \n",
       "⎢                                                                             \n",
       "⎢                                                                             \n",
       "⎢                                                                             \n",
       "⎢                    0                                            0           \n",
       "⎣                                                                             \n",
       "\n",
       "                         ⎤\n",
       "                         ⎥\n",
       "                         ⎥\n",
       "            0      0     ⎥\n",
       "                         ⎥\n",
       "                         ⎥\n",
       "                         ⎥\n",
       "                         ⎥\n",
       "                         ⎥\n",
       "──────────  0      0     ⎥\n",
       "_                        ⎥\n",
       "                         ⎥\n",
       "                         ⎥\n",
       " ⋅(r - rₛ)               ⎥\n",
       "                         ⎥\n",
       "                         ⎥\n",
       "                         ⎥\n",
       "            1            ⎥\n",
       "            ─      0     ⎥\n",
       "            r            ⎥\n",
       "                         ⎥\n",
       "                   1     ⎥\n",
       "            0  ──────────⎥\n",
       "               r⋅│sin(θ)│⎦"
      ]
     },
     "execution_count": 154,
     "metadata": {},
     "output_type": "execute_result"
    }
   ],
   "source": [
    "#e_"
   ]
  },
  {
   "cell_type": "code",
   "execution_count": 203,
   "metadata": {},
   "outputs": [
    {
     "data": {
      "text/latex": [
       "$\\displaystyle \\left[\\begin{matrix}-1 + \\frac{r_{s}}{r} & 0 & 0 & 0\\\\0 & \\frac{1}{1 - \\frac{r_{s}}{r}} & 0 & 0\\\\0 & 0 & r^{2} & 0\\\\0 & 0 & 0 & r^{2} \\sin^{2}{\\left(\\theta \\right)}\\end{matrix}\\right]$"
      ],
      "text/plain": [
       "⎡     rₛ                        ⎤\n",
       "⎢-1 + ──    0     0       0     ⎥\n",
       "⎢     r                         ⎥\n",
       "⎢                               ⎥\n",
       "⎢           1                   ⎥\n",
       "⎢   0     ──────  0       0     ⎥\n",
       "⎢             rₛ                ⎥\n",
       "⎢         1 - ──                ⎥\n",
       "⎢             r                 ⎥\n",
       "⎢                               ⎥\n",
       "⎢                  2            ⎥\n",
       "⎢   0       0     r       0     ⎥\n",
       "⎢                               ⎥\n",
       "⎢                      2    2   ⎥\n",
       "⎣   0       0     0   r ⋅sin (θ)⎦"
      ]
     },
     "execution_count": 203,
     "metadata": {},
     "output_type": "execute_result"
    }
   ],
   "source": [
    "g = Matrix([[g_t, 0,0,0],[0,g_r,0,0],[0,0,g_theta,0],[0,0,0,g_phi]])\n",
    "g"
   ]
  },
  {
   "cell_type": "code",
   "execution_count": 204,
   "metadata": {},
   "outputs": [],
   "source": [
    "#simplify(e_@g@e_.T).subs(theta,pi/2)"
   ]
  },
  {
   "attachments": {},
   "cell_type": "markdown",
   "metadata": {},
   "source": [
    "$\\newcommand{\\overbar}[1]{\\mkern 1.5mu\\overline{\\mkern-1.5mu#1\\mkern-1.5mu}\\mkern 1.5mu}\\textbf{}$\n",
    "\n",
    "$\\delta v_\\alpha = \\frac{\\hbar}{m i } \\overbar{\\Psi}_0^{(\\sigma)} \\Gamma_\\alpha \\Psi_0^{(\\sigma)}$ \\\n",
    "$\\delta v_\\alpha = \\frac{\\hbar}{m i } \\frac{-1}{2}\\overbar{\\Psi}_0^{(\\sigma)} \\omega_{\\alpha a b}\\Gamma_{(1/2)}(M^{a b }) \\Psi_0^{(\\sigma)}$ \\\n",
    "$\\delta v_\\alpha = -\\frac{\\hbar}{2m i } \\omega_{\\alpha a b}\\overbar{\\Psi}_0^{(\\sigma)} \\Gamma_{(1/2)}(M^{a b }) \\Psi_0^{(\\sigma)}$\n",
    "$:= -\\frac{\\hbar}{2m i } \\omega_{\\alpha a b}\\Sigma^{ab}$\n",
    "\n",
    "$\\Sigma^{ab} = \\overbar{\\Psi}_0^{(\\sigma)} \\Gamma_{(1/2)}(M^{a b }) \\Psi_0^{(\\sigma)} =  \\frac{1}{4}\\overbar{\\Psi}_0^{(\\sigma)} \\left[ \\gamma^a, \\gamma^b\\right]\\Psi_0^{(\\sigma)}$"
   ]
  },
  {
   "cell_type": "code",
   "execution_count": 205,
   "metadata": {},
   "outputs": [
    {
     "data": {
      "text/latex": [
       "$\\displaystyle \\left[\\begin{matrix}0 & 0 & 0 & 0\\\\0 & 0 & - \\frac{i}{2} & 0\\\\0 & \\frac{i}{2} & 0 & 0\\\\0 & 0 & 0 & 0\\end{matrix}\\right]$"
      ],
      "text/plain": [
       "⎡0  0   0   0⎤\n",
       "⎢            ⎥\n",
       "⎢      -ⅈ    ⎥\n",
       "⎢0  0  ───  0⎥\n",
       "⎢       2    ⎥\n",
       "⎢            ⎥\n",
       "⎢   ⅈ        ⎥\n",
       "⎢0  ─   0   0⎥\n",
       "⎢   2        ⎥\n",
       "⎢            ⎥\n",
       "⎣0  0   0   0⎦"
      ]
     },
     "execution_count": 205,
     "metadata": {},
     "output_type": "execute_result"
    }
   ],
   "source": [
    "xi = symbols(\"\\\\xi\", real=True)\n",
    "chi = symbols(\"\\\\chi\", real=True)\n",
    "\n",
    "def commutator(a,b):\n",
    "    return mgamma(a)@mgamma(b) - mgamma(b)@mgamma(a)\n",
    "\n",
    "def Sigma(a,b):\n",
    "    #psi = Matrix([[cos(xi/2),exp(I*chi)*sin(xi/2),0,0]]).T\n",
    "    psi = Matrix([[1,0,0,0]]).T #z-direction\n",
    "    #psi = Matrix([[0,1,0,0]]).T\n",
    "    #psi = Matrix([[1/sqrt(2), I*1/sqrt(2),0,0]]) #y-direction\n",
    "    #psi = Matrix([[1/sqrt(2), -1/sqrt(2),0,0]]).T\n",
    "\n",
    "    return conjugate(psi).T@mgamma(0)@commutator(a,b)@psi/4\n",
    "\n",
    "def Sigma_as_Matrix():\n",
    "    s = zeros(4)\n",
    "    for i in range(4):\n",
    "        for j in range(4):\n",
    "            s[i,j] = Sigma(i,j)\n",
    "    return s\n",
    "\n",
    "\n",
    "Sigma_ab = Sigma_as_Matrix()\n",
    "simplify(Sigma_ab)\n"
   ]
  },
  {
   "cell_type": "code",
   "execution_count": 206,
   "metadata": {},
   "outputs": [],
   "source": [
    "g_ = MetricTensor(g.tolist(),syms=[t,r,theta,phi], config='ll', name=\"ss-metric\") \n",
    "ch = ChristoffelSymbols.from_metric(g_)\n",
    "ch = ch.change_config(\"ull\")"
   ]
  },
  {
   "cell_type": "code",
   "execution_count": 184,
   "metadata": {},
   "outputs": [
    {
     "data": {
      "text/plain": [
       "(sympy.core.mul.Mul, u_r, u_\\phi, u_\\theta)"
      ]
     },
     "execution_count": 184,
     "metadata": {},
     "output_type": "execute_result"
    }
   ],
   "source": [
    "type(u_t), type(u_r),type(u_phi) , type(u_theta)"
   ]
  },
  {
   "cell_type": "code",
   "execution_count": 47,
   "metadata": {},
   "outputs": [],
   "source": [
    "#du_dtau =  tensor_product(tensor_product(ch.change_config('ull'),u.change_config('u'), 1,0), u.change_config('u'),1,0)\n",
    "#print(simplify(du_dtau.tensor()*(-1)))"
   ]
  },
  {
   "cell_type": "code",
   "execution_count": 207,
   "metadata": {},
   "outputs": [],
   "source": [
    "Lorentz = TensorIndexType('Lorentz', dummy_name='L')\n",
    "Global = TensorIndexType('Global', dummy_name='G')\n",
    "a, b, c, d = tensor_indices('a b c d', Lorentz)\n",
    "alpha, beta, mu, nu= tensor_indices('alpha beta mu nu', Global)\n",
    "\n",
    "#E = TensorHead('E', [Global, Lorentz])\n",
    "e = TensorHead('e', [Lorentz, Global])\n",
    "Gamma = TensorHead('Gamma', [Global, Global, Global])\n",
    "sigma = TensorHead('sigma', [Lorentz, Lorentz])\n",
    "\n",
    "minkowski_m = TensorHead('eta', [Lorentz, Lorentz])\n",
    "schwarzschild_m = TensorHead('g', [Global, Global])\n",
    "\n",
    "x = TensorHead('x', [Global])\n",
    "\n",
    "u = TensorHead('u', [Global])\n",
    "\n",
    "repl = {}\n",
    "repl[Lorentz] = eta.tolist()\n",
    "repl[Global] = g_.tensor().tolist()\n",
    "\n",
    "repl[x(mu)] = [t, r, theta, phi]\n",
    "\n",
    "repl[u(mu)] = [u_t, u_r, 0,u_phi]\n",
    "\n",
    "\n",
    "\n",
    "repl[e(-a, alpha)] = (e_).tolist()\n",
    "repl[Gamma(alpha, -mu, -nu)] = ch.tensor().tolist()\n",
    "repl[sigma(a, b)] = Sigma_ab.tolist()\n",
    "repl[minkowski_m(-a, -b)] = eta.tolist()\n",
    "repl[schwarzschild_m(-mu, -nu)] = g_.tensor().tolist()\n",
    "\n",
    "\n",
    "\n",
    "\n",
    "\n"
   ]
  },
  {
   "cell_type": "code",
   "execution_count": 208,
   "metadata": {},
   "outputs": [],
   "source": [
    "from sympy.tensor.toperators import PartialDerivative\n",
    "E = schwarzschild_m(-nu, -alpha)*e(-a, alpha)*minkowski_m(a, b)\n"
   ]
  },
  {
   "attachments": {},
   "cell_type": "markdown",
   "metadata": {},
   "source": [
    "$\\omega_{\\mu a b} = \\Gamma^\\alpha_{\\ \\ \\ \\nu \\mu}e_a^{\\ \\ \\  \\nu}E_\\alpha^{\\ \\  \\ c}\\eta_{b c}      - \\partial_\\mu (E_\\alpha^{\\ \\ \\ \\ c})e_a^{\\  \\ \\ \\alpha}\\eta_{b c}  $ "
   ]
  },
  {
   "cell_type": "code",
   "execution_count": 209,
   "metadata": {},
   "outputs": [
    {
     "name": "stderr",
     "output_type": "stream",
     "text": [
      "/tmp/ipykernel_92320/3433138348.py:2: SymPyDeprecationWarning: \n",
      "\n",
      "Calling a tensor like Tensor(*indices) is deprecated. Use\n",
      "Tensor.substitute_indices() instead.\n",
      "\n",
      "See https://docs.sympy.org/latest/explanation/active-deprecations.html#deprecated-tensor-fun-eval\n",
      "for details.\n",
      "\n",
      "This has been deprecated since SymPy version 1.5. It\n",
      "will be removed in a future version of SymPy.\n",
      "\n",
      "  omega = Gamma(alpha, -nu, -mu)*e(-a, nu)*E(-alpha, c)*minkowski_m(-b, -c) - PartialDerivative(E(-alpha, c), x(mu))*e(-a, alpha)*minkowski_m(-b, -c)\n"
     ]
    }
   ],
   "source": [
    "#omega_1 = PartialDerivative(E(-alpha, c), x(mu))*e(-a, alpha)*minkowski_m(-b, -c)\n",
    "omega = Gamma(alpha, -nu, -mu)*e(-a, nu)*E(-alpha, c)*minkowski_m(-b, -c) - PartialDerivative(E(-alpha, c), x(mu))*e(-a, alpha)*minkowski_m(-b, -c)"
   ]
  },
  {
   "cell_type": "code",
   "execution_count": 210,
   "metadata": {},
   "outputs": [
    {
     "name": "stderr",
     "output_type": "stream",
     "text": [
      "/tmp/ipykernel_92320/2013430191.py:1: SymPyDeprecationWarning: \n",
      "\n",
      "Calling a tensor like Tensor(*indices) is deprecated. Use\n",
      "Tensor.substitute_indices() instead.\n",
      "\n",
      "See https://docs.sympy.org/latest/explanation/active-deprecations.html#deprecated-tensor-fun-eval\n",
      "for details.\n",
      "\n",
      "This has been deprecated since SymPy version 1.5. It\n",
      "will be removed in a future version of SymPy.\n",
      "\n",
      "  omega_sigma = omega(-mu, -a, -b)*sigma(a, b)\n"
     ]
    },
    {
     "data": {
      "image/png": "[encoded data removed]",
      "text/latex": [
       "$\\displaystyle \\left(\\Gamma{}^{G_{0}}{}_{G_{1}\\mu}e{}_{L_{2}}{}^{G_{1}}g{}_{G_{0}G_{2}}e{}_{L_{0}}{}^{G_{2}}\\eta{}^{L_{0}L_{1}}\\eta{}_{L_{3}L_{1}} + \\left(-1\\right)\\frac{\\partial}{\\partial {x{}^{\\mu}}}{\\left(g{}_{G_{1}G_{0}}e{}_{L_{0}}{}^{G_{0}}\\eta{}^{L_{0}L_{1}}\\right)}e{}_{L_{2}}{}^{G_{1}}\\eta{}_{L_{3}L_{1}}\\right)\\sigma{}^{L_{2}L_{3}}$"
      ],
      "text/plain": [
       "⎛      ∂ ⎛         G₀    L₀L₁⎞    G₁                G₀       G₁          G₂   \n",
       "⎜(-1)⋅───⎜g    ⋅e    ⋅eta    ⎟⋅e    ⋅eta     + Gamma     ⋅e    ⋅g    ⋅e    ⋅et\n",
       "⎜       μ⎝ G₁G₀  L₀          ⎠  L₂      L₃L₁          G₁μ  L₂    G₀G₂  L₀     \n",
       "⎜     ∂x                                                                      \n",
       "⎝                                                                             \n",
       "\n",
       " L₀L₁        ⎞      L₂L₃\n",
       "a    ⋅eta    ⎟⋅sigma    \n",
       "         L₃L₁⎟          \n",
       "             ⎟          \n",
       "             ⎠          "
      ]
     },
     "execution_count": 210,
     "metadata": {},
     "output_type": "execute_result"
    }
   ],
   "source": [
    "omega_sigma = omega(-mu, -a, -b)*sigma(a, b)\n",
    "omega_sigma"
   ]
  },
  {
   "cell_type": "code",
   "execution_count": 225,
   "metadata": {},
   "outputs": [],
   "source": [
    "\n",
    "dv = Matrix(omega_sigma.replace_with_arrays(repl, [mu]).tolist())/(-2*m_*I)\n",
    "dv = simplify(dv.subs(theta,pi/2))\n"
   ]
  },
  {
   "cell_type": "code",
   "execution_count": 214,
   "metadata": {},
   "outputs": [
    {
     "data": {
      "text/latex": [
       "$\\displaystyle \\left[\\begin{matrix}0\\\\0\\\\\\frac{2 r \\left(u_{r}^{2}{\\left(t,r,\\phi \\right)} + 1\\right) - r_{s}}{4 m r^{3} \\sqrt{u_{r}^{2}{\\left(t,r,\\phi \\right)} + 1}}\\\\0\\end{matrix}\\right]$"
      ],
      "text/plain": [
       "⎡             0              ⎤\n",
       "⎢                            ⎥\n",
       "⎢             0              ⎥\n",
       "⎢                            ⎥\n",
       "⎢    ⎛  2             ⎞      ⎥\n",
       "⎢2⋅r⋅⎝uᵣ (t, r, φ) + 1⎠ - rₛ ⎥\n",
       "⎢────────────────────────────⎥\n",
       "⎢          __________________⎥\n",
       "⎢     3   ╱   2              ⎥\n",
       "⎢4⋅m⋅r ⋅╲╱  uᵣ (t, r, φ) + 1 ⎥\n",
       "⎢                            ⎥\n",
       "⎣             0              ⎦"
      ]
     },
     "execution_count": 214,
     "metadata": {},
     "output_type": "execute_result"
    }
   ],
   "source": [
    "#taylor expansion in r_s\n",
    "simplify((dv.subs(r_s, 0) + dv.diff(r_s).subs(r_s, 0)*r_s).subs(sqrt(r**2), r).subs(theta,pi/2))"
   ]
  },
  {
   "cell_type": "code",
   "execution_count": 222,
   "metadata": {},
   "outputs": [
    {
     "data": {
      "image/png": "[encoded data removed]",
      "text/latex": [
       "$\\displaystyle \\left[ 0, \\  0, \\  \\frac{\\sqrt{u_{r}^{2}{\\left(t,r,\\phi \\right)} + 1}}{2 m r^{2}}, \\  0\\right]$"
      ],
      "text/plain": [
       "⎡         __________________   ⎤\n",
       "⎢        ╱   2                 ⎥\n",
       "⎢      ╲╱  uᵣ (t, r, φ) + 1    ⎥\n",
       "⎢0, 0, ─────────────────────, 0⎥\n",
       "⎢                   2          ⎥\n",
       "⎣              2⋅m⋅r           ⎦"
      ]
     },
     "execution_count": 222,
     "metadata": {},
     "output_type": "execute_result"
    }
   ],
   "source": []
  },
  {
   "cell_type": "code",
   "execution_count": 224,
   "metadata": {},
   "outputs": [
    {
     "ename": "AttributeError",
     "evalue": "'TensorHead' object has no attribute 'T'",
     "output_type": "error",
     "traceback": [
      "\u001b[0;31m---------------------------------------------------------------------------\u001b[0m",
      "\u001b[0;31mAttributeError\u001b[0m                            Traceback (most recent call last)",
      "Cell \u001b[0;32mIn[224], line 3\u001b[0m\n\u001b[1;32m      1\u001b[0m dv_ \u001b[38;5;241m=\u001b[39m simplify(dv\u001b[38;5;241m.\u001b[39msubs(r_s, \u001b[38;5;241m0\u001b[39m)\u001b[38;5;241m.\u001b[39msubs(sqrt(r\u001b[38;5;241m*\u001b[39m\u001b[38;5;241m*\u001b[39m\u001b[38;5;241m2\u001b[39m), r))\u001b[38;5;241m.\u001b[39msubs(theta, pi\u001b[38;5;241m/\u001b[39m\u001b[38;5;241m2\u001b[39m)\n\u001b[1;32m      2\u001b[0m dv \u001b[38;5;241m=\u001b[39m TensorHead(\u001b[38;5;124m'\u001b[39m\u001b[38;5;124meta\u001b[39m\u001b[38;5;124m'\u001b[39m, [Global])\n\u001b[0;32m----> 3\u001b[0m repl[dv(mu)] \u001b[38;5;241m=\u001b[39m (dv_\u001b[38;5;241m.\u001b[39mT)\u001b[38;5;241m.\u001b[39mtolist()[\u001b[38;5;241m0\u001b[39m]\n\u001b[1;32m      5\u001b[0m Gamma(mu, \u001b[38;5;241m-\u001b[39malpha, \u001b[38;5;241m-\u001b[39mbeta)\u001b[38;5;241m*\u001b[39mu(beta)\u001b[38;5;241m*\u001b[39mdv(alpha)\n",
      "\u001b[0;31mAttributeError\u001b[0m: 'TensorHead' object has no attribute 'T'"
     ]
    }
   ],
   "source": [
    "dv_ = simplify(dv.subs(r_s, 0).subs(sqrt(r**2), r)).subs(theta, pi/2)\n",
    "dv = TensorHead('eta', [Global])\n",
    "repl[dv(mu)] = (dv_.T).tolist()[0]\n",
    "\n",
    "Gamma(mu, -alpha, -beta)*u(beta)*dv(alpha)"
   ]
  },
  {
   "cell_type": "code",
   "execution_count": 192,
   "metadata": {},
   "outputs": [
    {
     "data": {
      "text/latex": [
       "$\\displaystyle \\left[\\begin{matrix}0 & - r u_{\\phi}^{2}{\\left(t,r,\\phi \\right)} & 0 & \\frac{2 u_{\\phi}{\\left(t,r,\\phi \\right)} u_{r}{\\left(t,r,\\phi \\right)}}{r}\\end{matrix}\\right]$"
      ],
      "text/plain": [
       "⎡            2              2⋅u_\\phi(t, r, φ)⋅uᵣ(t, r, φ)⎤\n",
       "⎢0  -r⋅u_\\phi (t, r, φ)  0  ─────────────────────────────⎥\n",
       "⎣                                         r              ⎦"
      ]
     },
     "execution_count": 192,
     "metadata": {},
     "output_type": "execute_result"
    }
   ],
   "source": [
    "du_dtau = Gamma(alpha, -nu, -mu)*u(nu)*u(mu)\n",
    "du_dtau.replace_with_arrays(repl,[alpha]).subs(r_s, 0).subs(theta, pi/2)"
   ]
  },
  {
   "cell_type": "code",
   "execution_count": null,
   "metadata": {},
   "outputs": [
    {
     "data": {
      "text/latex": [
       "$\\displaystyle \\left[\\begin{matrix}u_{t} & u_{r} & u_{\\theta} + \\frac{\\sqrt{1 - \\frac{r_{s}}{r}}}{4 m r^{2}} & u_{\\phi}\\end{matrix}\\right]$"
      ],
      "text/plain": [
       "⎡                       ________        ⎤\n",
       "⎢                      ╱     rₛ         ⎥\n",
       "⎢                     ╱  1 - ──         ⎥\n",
       "⎢                   ╲╱       r          ⎥\n",
       "⎢uₜ  uᵣ  u_\\theta + ────────────  u_\\phi⎥\n",
       "⎢                           2           ⎥\n",
       "⎣                      4⋅m⋅r            ⎦"
      ]
     },
     "execution_count": 150,
     "metadata": {},
     "output_type": "execute_result"
    }
   ],
   "source": [
    "v_local = dv_(mu)*E(-mu, a)\n",
    "j = Matrix(u.replace_with_arrays(repl, [a])) + Matrix(v_local.replace_with_arrays(repl, [a]))\n",
    "j_ = TensorHead(\"j\", [Lorentz])\n",
    "repl[j_(a)] = j.T.tolist()[0]\n",
    "result = j_(a)*E_inv(-a, mu)\n",
    "simplify(result.replace_with_arrays(repl, [mu]))"
   ]
  },
  {
   "cell_type": "code",
   "execution_count": null,
   "metadata": {},
   "outputs": [
    {
     "data": {
      "text/latex": [
       "$\\displaystyle \\left[\\begin{matrix}\\left[\\begin{matrix}0 & 0 & 0 & 0\\\\0 & 0 & 0 & 0\\\\0 & 0 & 0 & 0\\\\0 & 0 & 0 & 0\\end{matrix}\\right] & \\left[\\begin{matrix}0 & 0 & 0 & 0\\\\0 & 0 & 0 & 0\\\\0 & 0 & 0 & 0\\\\0 & 0 & 0 & 0\\end{matrix}\\right] & \\left[\\begin{matrix}0 & 0 & 0 & 0\\\\0 & 0 & 0 & 0\\\\0 & 0 & 0 & 0\\\\0 & 0 & 0 & 0\\end{matrix}\\right] & \\left[\\begin{matrix}0 & 0 & 0 & 0\\\\0 & 0 & 0 & 0\\\\0 & 0 & 0 & 0\\\\0 & 0 & 0 & 0\\end{matrix}\\right]\\\\\\left[\\begin{matrix}0 & 0 & 0 & 0\\\\0 & 0 & 0 & 0\\\\0 & 0 & 0 & 0\\\\0 & 0 & 0 & 0\\end{matrix}\\right] & \\left[\\begin{matrix}0 & 0 & 0 & 0\\\\0 & 0 & 0 & 0\\\\0 & 0 & 0 & 0\\\\0 & 0 & 0 & 0\\end{matrix}\\right] & \\left[\\begin{matrix}0 & 0 & 0 & 0\\\\0 & 0 & 0 & 0\\\\0 & 0 & 0 & 0\\\\0 & 0 & 0 & 0\\end{matrix}\\right] & \\left[\\begin{matrix}0 & 0 & 0 & 0\\\\0 & 0 & 0 & 0\\\\0 & 0 & 0 & 0\\\\0 & 0 & 0 & 0\\end{matrix}\\right]\\\\\\left[\\begin{matrix}0 & 0 & 0 & 0\\\\0 & 0 & 0 & 0\\\\0 & 0 & 0 & 0\\\\0 & 0 & 0 & 0\\end{matrix}\\right] & \\left[\\begin{matrix}0 & 0 & 0 & 0\\\\0 & 0 & 0 & 0\\\\0 & 0 & 0 & 0\\\\0 & 0 & 0 & 0\\end{matrix}\\right] & \\left[\\begin{matrix}0 & 0 & 0 & 0\\\\0 & 0 & 0 & 0\\\\0 & 0 & 0 & 0\\\\0 & 0 & 0 & 0\\end{matrix}\\right] & \\left[\\begin{matrix}0 & 0 & 0 & 0\\\\0 & 0 & 0 & 0\\\\0 & 0 & 0 & 0\\\\0 & 0 & 0 & 0\\end{matrix}\\right]\\\\\\left[\\begin{matrix}0 & 0 & 0 & 0\\\\0 & 0 & 0 & 0\\\\0 & 0 & 0 & 0\\\\0 & 0 & 0 & 0\\end{matrix}\\right] & \\left[\\begin{matrix}0 & 0 & 0 & 0\\\\0 & 0 & 0 & 0\\\\0 & 0 & 0 & 0\\\\0 & 0 & 0 & 0\\end{matrix}\\right] & \\left[\\begin{matrix}0 & 0 & 0 & 0\\\\0 & 0 & 0 & 0\\\\0 & 0 & 0 & 0\\\\0 & 0 & 0 & 0\\end{matrix}\\right] & \\left[\\begin{matrix}0 & 0 & 0 & 0\\\\0 & 0 & 0 & 0\\\\0 & 0 & 0 & 0\\\\0 & 0 & 0 & 0\\end{matrix}\\right]\\end{matrix}\\right]$"
      ],
      "text/plain": [
       "⎡⎡0  0  0  0⎤  ⎡0  0  0  0⎤  ⎡0  0  0  0⎤  ⎡0  0  0  0⎤⎤\n",
       "⎢⎢          ⎥  ⎢          ⎥  ⎢          ⎥  ⎢          ⎥⎥\n",
       "⎢⎢0  0  0  0⎥  ⎢0  0  0  0⎥  ⎢0  0  0  0⎥  ⎢0  0  0  0⎥⎥\n",
       "⎢⎢          ⎥  ⎢          ⎥  ⎢          ⎥  ⎢          ⎥⎥\n",
       "⎢⎢0  0  0  0⎥  ⎢0  0  0  0⎥  ⎢0  0  0  0⎥  ⎢0  0  0  0⎥⎥\n",
       "⎢⎢          ⎥  ⎢          ⎥  ⎢          ⎥  ⎢          ⎥⎥\n",
       "⎢⎣0  0  0  0⎦  ⎣0  0  0  0⎦  ⎣0  0  0  0⎦  ⎣0  0  0  0⎦⎥\n",
       "⎢                                                      ⎥\n",
       "⎢⎡0  0  0  0⎤  ⎡0  0  0  0⎤  ⎡0  0  0  0⎤  ⎡0  0  0  0⎤⎥\n",
       "⎢⎢          ⎥  ⎢          ⎥  ⎢          ⎥  ⎢          ⎥⎥\n",
       "⎢⎢0  0  0  0⎥  ⎢0  0  0  0⎥  ⎢0  0  0  0⎥  ⎢0  0  0  0⎥⎥\n",
       "⎢⎢          ⎥  ⎢          ⎥  ⎢          ⎥  ⎢          ⎥⎥\n",
       "⎢⎢0  0  0  0⎥  ⎢0  0  0  0⎥  ⎢0  0  0  0⎥  ⎢0  0  0  0⎥⎥\n",
       "⎢⎢          ⎥  ⎢          ⎥  ⎢          ⎥  ⎢          ⎥⎥\n",
       "⎢⎣0  0  0  0⎦  ⎣0  0  0  0⎦  ⎣0  0  0  0⎦  ⎣0  0  0  0⎦⎥\n",
       "⎢                                                      ⎥\n",
       "⎢⎡0  0  0  0⎤  ⎡0  0  0  0⎤  ⎡0  0  0  0⎤  ⎡0  0  0  0⎤⎥\n",
       "⎢⎢          ⎥  ⎢          ⎥  ⎢          ⎥  ⎢          ⎥⎥\n",
       "⎢⎢0  0  0  0⎥  ⎢0  0  0  0⎥  ⎢0  0  0  0⎥  ⎢0  0  0  0⎥⎥\n",
       "⎢⎢          ⎥  ⎢          ⎥  ⎢          ⎥  ⎢          ⎥⎥\n",
       "⎢⎢0  0  0  0⎥  ⎢0  0  0  0⎥  ⎢0  0  0  0⎥  ⎢0  0  0  0⎥⎥\n",
       "⎢⎢          ⎥  ⎢          ⎥  ⎢          ⎥  ⎢          ⎥⎥\n",
       "⎢⎣0  0  0  0⎦  ⎣0  0  0  0⎦  ⎣0  0  0  0⎦  ⎣0  0  0  0⎦⎥\n",
       "⎢                                                      ⎥\n",
       "⎢⎡0  0  0  0⎤  ⎡0  0  0  0⎤  ⎡0  0  0  0⎤  ⎡0  0  0  0⎤⎥\n",
       "⎢⎢          ⎥  ⎢          ⎥  ⎢          ⎥  ⎢          ⎥⎥\n",
       "⎢⎢0  0  0  0⎥  ⎢0  0  0  0⎥  ⎢0  0  0  0⎥  ⎢0  0  0  0⎥⎥\n",
       "⎢⎢          ⎥  ⎢          ⎥  ⎢          ⎥  ⎢          ⎥⎥\n",
       "⎢⎢0  0  0  0⎥  ⎢0  0  0  0⎥  ⎢0  0  0  0⎥  ⎢0  0  0  0⎥⎥\n",
       "⎢⎢          ⎥  ⎢          ⎥  ⎢          ⎥  ⎢          ⎥⎥\n",
       "⎣⎣0  0  0  0⎦  ⎣0  0  0  0⎦  ⎣0  0  0  0⎦  ⎣0  0  0  0⎦⎦"
      ]
     },
     "execution_count": 97,
     "metadata": {},
     "output_type": "execute_result"
    }
   ],
   "source": [
    "rieman = RiemannCurvatureTensor.from_metric(g_)\n",
    "rieman.tensor()"
   ]
  },
  {
   "cell_type": "code",
   "execution_count": null,
   "metadata": {},
   "outputs": [
    {
     "name": "stdout",
     "output_type": "stream",
     "text": [
      "(r**3*(r - r_s)*(u_\\theta**2 + u_phi**2*sin(theta)**2) + r**2*u_r**2 - u_t**2*(r - r_s)**2)/(r*(r - r_s))\n"
     ]
    }
   ],
   "source": [
    "u_2 = tensor_product(u,u.change_config('l'), 0,0)\n",
    "\n",
    "print(u_2.tensor())\n"
   ]
  },
  {
   "cell_type": "code",
   "execution_count": null,
   "metadata": {},
   "outputs": [
    {
     "name": "stdout",
     "output_type": "stream",
     "text": [
      "[-sqrt(r*(r**3*u_\\theta**2 + r**3*u_phi**2*sin(theta)**2 - r**2*r_s*u_\\theta**2 - r**2*r_s*u_phi**2*sin(theta)**2 + r*u_r**2 + r - r_s))/(r - r_s), sqrt(r*(r**3*u_\\theta**2 + r**3*u_phi**2*sin(theta)**2 - r**2*r_s*u_\\theta**2 - r**2*r_s*u_phi**2*sin(theta)**2 + r*u_r**2 + r - r_s))/(r - r_s)]\n"
     ]
    }
   ],
   "source": [
    "u_2_expr = (r**3*(r - r_s)*(u_theta**2 + u_phi**2*sin(theta)**2) + r**2*u_r**2 - u_t**2*(r - r_s)**2)/(r*(r - r_s))\n",
    "print(solve(u_2_expr + 1, u_t))"
   ]
  },
  {
   "cell_type": "code",
   "execution_count": null,
   "metadata": {},
   "outputs": [
    {
     "ename": "NameError",
     "evalue": "name 'sigma' is not defined",
     "output_type": "error",
     "traceback": [
      "\u001b[0;31m---------------------------------------------------------------------------\u001b[0m",
      "\u001b[0;31mNameError\u001b[0m                                 Traceback (most recent call last)",
      "Cell \u001b[0;32mIn[35], line 2\u001b[0m\n\u001b[1;32m      1\u001b[0m rieman \u001b[39m=\u001b[39m RiemannCurvatureTensor\u001b[39m.\u001b[39mfrom_metric(g_)\n\u001b[0;32m----> 2\u001b[0m sig \u001b[39m=\u001b[39m BaseRelativityTensor(sigma,syms\u001b[39m=\u001b[39m[t,r,theta,phi], config\u001b[39m=\u001b[39m\u001b[39m\"\u001b[39m\u001b[39muu\u001b[39m\u001b[39m\"\u001b[39m, name\u001b[39m=\u001b[39m\u001b[39m\"\u001b[39m\u001b[39msigma\u001b[39m\u001b[39m\"\u001b[39m, parent_metric\u001b[39m=\u001b[39mm)\n\u001b[1;32m      3\u001b[0m sig\u001b[39m.\u001b[39mtensor()\n",
      "\u001b[0;31mNameError\u001b[0m: name 'sigma' is not defined"
     ]
    }
   ],
   "source": [
    "rieman = RiemannCurvatureTensor.from_metric(g_)\n",
    "sig = BaseRelativityTensor(sigma,syms=[t,r,theta,phi], config=\"uu\", name=\"sigma\", parent_metric=m)\n",
    "sig.tensor()"
   ]
  },
  {
   "cell_type": "code",
   "execution_count": null,
   "metadata": {},
   "outputs": [],
   "source": [
    "\n",
    "contraction = tensorcontraction(tensor_product(tensor_product(rieman.change_config(\"llll\"),u, 1,0),sig,1,0,).tensor(),(1,2))\n",
    "#contraction.tensor()"
   ]
  },
  {
   "cell_type": "code",
   "execution_count": null,
   "metadata": {},
   "outputs": [],
   "source": [
    "a = GenericVector(contraction.subs(f,1-r_s),syms=[t,r,theta,phi], config='l', name=\"acceleration\", parent_metric=m)"
   ]
  },
  {
   "cell_type": "code",
   "execution_count": null,
   "metadata": {},
   "outputs": [
    {
     "name": "stdout",
     "output_type": "stream",
     "text": [
      "[0, -r_s*u_\\theta*sqrt(1 - r_s)/r**2, r_s*u_r*sqrt(1 - r_s)/(r**3*(r - r_s)), 0]\n"
     ]
    }
   ],
   "source": [
    "a = a.change_config('u')\n",
    "print(a.tensor())"
   ]
  },
  {
   "cell_type": "code",
   "execution_count": null,
   "metadata": {},
   "outputs": [
    {
     "data": {
      "image/png": "[encoded data removed]",
      "text/latex": [
       "$\\displaystyle 0.784757820998493$"
      ],
      "text/plain": [
       "0.7847578209984931"
      ]
     },
     "execution_count": 34,
     "metadata": {},
     "output_type": "execute_result"
    }
   ],
   "source": [
    "R = 6371\n",
    "l = 100\n",
    "\n",
    "x = np.sqrt(R**2 + l**2) - R\n",
    "x"
   ]
  },
  {
   "cell_type": "code",
   "execution_count": null,
   "metadata": {},
   "outputs": [
    {
     "data": {
      "image/png": "[encoded data removed]",
      "text/latex": [
       "$\\displaystyle 10131712.2593718$"
      ],
      "text/plain": [
       "10131712.259371834"
      ]
     },
     "execution_count": 51,
     "metadata": {},
     "output_type": "execute_result"
    }
   ],
   "source": [
    "2/3 * 1E-8 / 6.58E-16"
   ]
  },
  {
   "cell_type": "code",
   "execution_count": null,
   "metadata": {},
   "outputs": [
    {
     "data": {
      "image/png": "[encoded data removed]",
      "text/latex": [
       "$\\displaystyle 1.0$"
      ],
      "text/plain": [
       "1.0"
      ]
     },
     "execution_count": 25,
     "metadata": {},
     "output_type": "execute_result"
    }
   ],
   "source": [
    "E = 2.4*1E6\n",
    "m = 1.5E-6\n",
    "\n",
    "alpha = E**2/m**2\n",
    "\n",
    "\n",
    "\n",
    "beta = np.sqrt((alpha-1)/(alpha+2))\n",
    "beta"
   ]
  }
 ],
 "metadata": {
  "kernelspec": {
   "display_name": "Python 3",
   "language": "python",
   "name": "python3"
  },
  "language_info": {
   "codemirror_mode": {
    "name": "ipython",
    "version": 3
   },
   "file_extension": ".py",
   "mimetype": "text/x-python",
   "name": "python",
   "nbconvert_exporter": "python",
   "pygments_lexer": "ipython3",
   "version": "3.11.5"
  },
  "vscode": {
   "interpreter": {
    "hash": "d2152fd7f0bbc62aa1baff8c990435d1e2c7175d001561303988032604c11a48"
   }
  }
 },
 "nbformat": 4,
 "nbformat_minor": 2
}
