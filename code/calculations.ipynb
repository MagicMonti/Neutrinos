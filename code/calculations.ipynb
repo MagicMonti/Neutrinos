{
 "cells": [
  {
   "cell_type": "code",
   "execution_count": 86,
   "metadata": {},
   "outputs": [
    {
     "data": {
      "image/png": "[encoded data removed]",
      "text/latex": [
       "$\\displaystyle \\left( f, \\  r, \\  \\theta, \\  \\phi, \\  \\hbar\\right)$"
      ],
      "text/plain": [
       "(f, r, θ, φ, h̅)"
      ]
     },
     "execution_count": 86,
     "metadata": {},
     "output_type": "execute_result"
    }
   ],
   "source": [
    "from sympy import *\n",
    "from sympy.physics.hep.gamma_matrices import GammaMatrix as G, LorentzIndex, gamma_trace\n",
    "from sympy.tensor.tensor import tensor_indices\n",
    "from sympy.physics.hep.gamma_matrices import kahane_simplify\n",
    "from sympy.physics.matrices import mgamma\n",
    "from einsteinpy.symbolic.predefined import Schwarzschild \n",
    "from einsteinpy.symbolic import ChristoffelSymbols, RiemannCurvatureTensor, Tensor, BaseRelativityTensor, GenericVector, MetricTensor\n",
    "#from einsteinpy.symbolic.tensor import tensor_product\n",
    "from sympy.tensor.tensor import TensorIndexType, TensorIndex, TensorHead, tensor_indices\n",
    "import numpy as np\n",
    "\n",
    "i,j = tensor_indices('i,j', LorentzIndex)\n",
    "init_printing(use_unicode=True)\n",
    "f, theta, phi, u_0, t, c, hbar, m_ = symbols(\"f theta phi u_0 t c hbar m\", real=True)\n",
    "r = symbols(\"r\", positive=True)\n",
    "r_s,M ,R= symbols(\"r_s M R\")\n",
    "u_t , u_r , u_theta, u_phi = symbols(\"u_t u_r u_\\\\theta u_\\phi\", cls=Function)\n",
    "f,r,theta, phi, hbar"
   ]
  },
  {
   "attachments": {},
   "cell_type": "markdown",
   "metadata": {},
   "source": [
    "define $\\eta^{ab}:= $ eta  (mostly plus)\\\n",
    "and $E_{\\alpha}^{\\ \\  \\ a}:= E^\\top$,\n",
    "$e_a^{\\ \\ \\ \\alpha}:= e^\\top$   such that $e_0^{\\ \\ \\ \\alpha}= u^\\alpha $"
   ]
  },
  {
   "cell_type": "code",
   "execution_count": 87,
   "metadata": {},
   "outputs": [],
   "source": [
    "eta = Matrix([[-1,0,0,0],[0,1,0,0],[0,0,1,0],[0,0,0,1]])\n",
    "\n",
    "#r_s = 0\n",
    "\n",
    "g_t = -(1-r_s/r)\n",
    "g_r = 1/(1-r_s/r)\n",
    "\n",
    "#g_r = (1 + r_s/r)\n",
    "\n",
    "\n",
    "\n",
    "g_theta = r**2\n",
    "g_phi = r**2 * sin(theta)**2\n",
    "\n",
    "u_t = u_t(t,r,phi)\n",
    "u_r = u_r(t,r,phi)\n",
    "#u_r = 0\n",
    "\n",
    "u_phi = u_phi(t,r,phi)\n",
    "u_theta = u_theta(t,r,phi)\n",
    "u_phi = 0\n",
    "\n",
    "\n",
    "N_1 = sqrt(g_r + u_r**2 * g_r**2)\n",
    "#N_1 = g_r + u_r**2 * g_r**2\n",
    "\n",
    "\n",
    "a = g_phi * u_phi - (g_phi * u_phi*u_r**2 * g_r**2)/N_1\n",
    "b = (g_phi * u_r * g_r * u_phi)/N_1\n",
    "N_2 = sqrt(g_phi*(1+ 2*a*u_phi) - g_r*b*(b + 2*a*u_r)- a**2)\n",
    "\n",
    "\n",
    "#u_theta = 0\n",
    "# u^2 = -1 => u_t = something\n",
    "\n",
    "#and set theta = pi/2\n",
    "\n",
    "u_t = sqrt(r*(r**3*u_phi**2 - r**2*r_s*u_phi**2 + r*u_r**2 + r - r_s))/(r - r_s)\n",
    "\n",
    "\n",
    "\n",
    "e_ = Matrix([[u_t, (u_r*u_t*g_r)/N_1,0,a*u_t/N_2],[u_r,( 1+ u_r**2 * g_r)/N_1,0,(a*u_r - b)/N_2],[0,0,1/sqrt(g_theta),0],[u_phi, (u_phi*u_r*g_r)/N_1,0,(1+a*u_phi)/N_2]])\n",
    "\n",
    "\n",
    "e_ = e_.T"
   ]
  },
  {
   "cell_type": "code",
   "execution_count": 88,
   "metadata": {},
   "outputs": [
    {
     "data": {
      "text/latex": [
       "$\\displaystyle \\left[\\begin{matrix}\\frac{\\sqrt{r} \\sqrt{r u_{r}^{2}{\\left(t,r,\\phi \\right)} + r - r_{s}}}{r - r_{s}} & u_{r}{\\left(t,r,\\phi \\right)} & 0 & 0\\\\\\frac{\\sqrt{r} \\sqrt{r u_{r}^{2}{\\left(t,r,\\phi \\right)} + r - r_{s}} u_{r}{\\left(t,r,\\phi \\right)}}{\\left(1 - \\frac{r_{s}}{r}\\right) \\left(r - r_{s}\\right) \\sqrt{\\frac{1}{1 - \\frac{r_{s}}{r}} + \\frac{u_{r}^{2}{\\left(t,r,\\phi \\right)}}{\\left(1 - \\frac{r_{s}}{r}\\right)^{2}}}} & \\frac{1 + \\frac{u_{r}^{2}{\\left(t,r,\\phi \\right)}}{1 - \\frac{r_{s}}{r}}}{\\sqrt{\\frac{1}{1 - \\frac{r_{s}}{r}} + \\frac{u_{r}^{2}{\\left(t,r,\\phi \\right)}}{\\left(1 - \\frac{r_{s}}{r}\\right)^{2}}}} & 0 & 0\\\\0 & 0 & \\frac{1}{r} & 0\\\\0 & 0 & 0 & \\frac{1}{r \\left|{\\sin{\\left(\\theta \\right)}}\\right|}\\end{matrix}\\right]$"
      ],
      "text/plain": [
       "⎡               _________________________                                     \n",
       "⎢              ╱     2                                                        \n",
       "⎢         √r⋅╲╱  r⋅uᵣ (t, r, φ) + r - rₛ                                      \n",
       "⎢         ───────────────────────────────                     uᵣ(t, r, φ)     \n",
       "⎢                      r - rₛ                                                 \n",
       "⎢                                                                             \n",
       "⎢                                                                 2           \n",
       "⎢                                                               uᵣ (t, r, φ)  \n",
       "⎢                                                           1 + ────────────  \n",
       "⎢         _________________________                                    rₛ     \n",
       "⎢        ╱     2                                                   1 - ──     \n",
       "⎢   √r⋅╲╱  r⋅uᵣ (t, r, φ) + r - rₛ ⋅uᵣ(t, r, φ)                        r      \n",
       "⎢─────────────────────────────────────────────────  ──────────────────────────\n",
       "⎢                          _______________________          __________________\n",
       "⎢                         ╱            2                   ╱            2     \n",
       "⎢⎛    rₛ⎞                ╱    1      uᵣ (t, r, φ)         ╱    1      uᵣ (t, r\n",
       "⎢⎜1 - ──⎟⋅(r - rₛ)⋅     ╱   ────── + ────────────        ╱   ────── + ────────\n",
       "⎢⎝    r ⎠              ╱        rₛ            2         ╱        rₛ           \n",
       "⎢                     ╱     1 - ──    ⎛    rₛ⎞         ╱     1 - ──    ⎛    rₛ\n",
       "⎢                    ╱          r     ⎜1 - ──⎟        ╱          r     ⎜1 - ──\n",
       "⎢                  ╲╱                 ⎝    r ⎠      ╲╱                 ⎝    r \n",
       "⎢                                                                             \n",
       "⎢                                                                             \n",
       "⎢                        0                                         0          \n",
       "⎢                                                                             \n",
       "⎢                                                                             \n",
       "⎢                                                                             \n",
       "⎢                        0                                         0          \n",
       "⎣                                                                             \n",
       "\n",
       "                    ⎤\n",
       "                    ⎥\n",
       "                    ⎥\n",
       "       0      0     ⎥\n",
       "                    ⎥\n",
       "                    ⎥\n",
       "                    ⎥\n",
       "                    ⎥\n",
       "                    ⎥\n",
       "                    ⎥\n",
       "                    ⎥\n",
       "                    ⎥\n",
       "─────  0      0     ⎥\n",
       "_____               ⎥\n",
       "                    ⎥\n",
       ", φ)                ⎥\n",
       "────                ⎥\n",
       " 2                  ⎥\n",
       "⎞                   ⎥\n",
       "⎟                   ⎥\n",
       "⎠                   ⎥\n",
       "                    ⎥\n",
       "       1            ⎥\n",
       "       ─      0     ⎥\n",
       "       r            ⎥\n",
       "                    ⎥\n",
       "              1     ⎥\n",
       "       0  ──────────⎥\n",
       "          r⋅│sin(θ)│⎦"
      ]
     },
     "execution_count": 88,
     "metadata": {},
     "output_type": "execute_result"
    }
   ],
   "source": [
    "e_"
   ]
  },
  {
   "cell_type": "code",
   "execution_count": 89,
   "metadata": {},
   "outputs": [
    {
     "data": {
      "text/latex": [
       "$\\displaystyle \\left[\\begin{matrix}-1 + \\frac{r_{s}}{r} & 0 & 0 & 0\\\\0 & \\frac{1}{1 - \\frac{r_{s}}{r}} & 0 & 0\\\\0 & 0 & r^{2} & 0\\\\0 & 0 & 0 & r^{2} \\sin^{2}{\\left(\\theta \\right)}\\end{matrix}\\right]$"
      ],
      "text/plain": [
       "⎡     rₛ                        ⎤\n",
       "⎢-1 + ──    0     0       0     ⎥\n",
       "⎢     r                         ⎥\n",
       "⎢                               ⎥\n",
       "⎢           1                   ⎥\n",
       "⎢   0     ──────  0       0     ⎥\n",
       "⎢             rₛ                ⎥\n",
       "⎢         1 - ──                ⎥\n",
       "⎢             r                 ⎥\n",
       "⎢                               ⎥\n",
       "⎢                  2            ⎥\n",
       "⎢   0       0     r       0     ⎥\n",
       "⎢                               ⎥\n",
       "⎢                      2    2   ⎥\n",
       "⎣   0       0     0   r ⋅sin (θ)⎦"
      ]
     },
     "execution_count": 89,
     "metadata": {},
     "output_type": "execute_result"
    }
   ],
   "source": [
    "g = Matrix([[g_t, 0,0,0],[0,g_r,0,0],[0,0,g_theta,0],[0,0,0,g_phi]])\n",
    "g"
   ]
  },
  {
   "cell_type": "code",
   "execution_count": 91,
   "metadata": {},
   "outputs": [
    {
     "data": {
      "text/latex": [
       "$\\displaystyle \\left[\\begin{matrix}-1 & 0 & 0 & 0\\\\0 & 1 & 0 & 0\\\\0 & 0 & 1 & 0\\\\0 & 0 & 0 & 1\\end{matrix}\\right]$"
      ],
      "text/plain": [
       "⎡-1  0  0  0⎤\n",
       "⎢           ⎥\n",
       "⎢0   1  0  0⎥\n",
       "⎢           ⎥\n",
       "⎢0   0  1  0⎥\n",
       "⎢           ⎥\n",
       "⎣0   0  0  1⎦"
      ]
     },
     "execution_count": 91,
     "metadata": {},
     "output_type": "execute_result"
    }
   ],
   "source": [
    "simplify(e_@g@e_.T).subs(theta,pi/2)"
   ]
  },
  {
   "attachments": {},
   "cell_type": "markdown",
   "metadata": {},
   "source": [
    "$\\newcommand{\\overbar}[1]{\\mkern 1.5mu\\overline{\\mkern-1.5mu#1\\mkern-1.5mu}\\mkern 1.5mu}\\textbf{}$\n",
    "\n",
    "$\\delta v_\\alpha = \\frac{\\hbar}{m i } \\overbar{\\Psi}_0^{(\\sigma)} \\Gamma_\\alpha \\Psi_0^{(\\sigma)}$ \\\n",
    "$\\delta v_\\alpha = \\frac{\\hbar}{m i } \\frac{-1}{2}\\overbar{\\Psi}_0^{(\\sigma)} \\omega_{\\alpha a b}\\Gamma_{(1/2)}(M^{a b }) \\Psi_0^{(\\sigma)}$ \\\n",
    "$\\delta v_\\alpha = -\\frac{\\hbar}{2m i } \\omega_{\\alpha a b}\\overbar{\\Psi}_0^{(\\sigma)} \\Gamma_{(1/2)}(M^{a b }) \\Psi_0^{(\\sigma)}$\n",
    "$:= -\\frac{\\hbar}{2m i } \\omega_{\\alpha a b}\\Sigma^{ab}$\n",
    "\n",
    "$\\Sigma^{ab} = \\overbar{\\Psi}_0^{(\\sigma)} \\Gamma_{(1/2)}(M^{a b }) \\Psi_0^{(\\sigma)} =  \\frac{1}{4}\\overbar{\\Psi}_0^{(\\sigma)} \\left[ \\gamma^a, \\gamma^b\\right]\\Psi_0^{(\\sigma)}$"
   ]
  },
  {
   "cell_type": "code",
   "execution_count": 45,
   "metadata": {},
   "outputs": [
    {
     "data": {
      "text/latex": [
       "$\\displaystyle \\left[\\begin{matrix}0 & 0 & 0 & 0\\\\0 & 0 & - \\frac{i}{2} & 0\\\\0 & \\frac{i}{2} & 0 & 0\\\\0 & 0 & 0 & 0\\end{matrix}\\right]$"
      ],
      "text/plain": [
       "⎡0  0   0   0⎤\n",
       "⎢            ⎥\n",
       "⎢      -ⅈ    ⎥\n",
       "⎢0  0  ───  0⎥\n",
       "⎢       2    ⎥\n",
       "⎢            ⎥\n",
       "⎢   ⅈ        ⎥\n",
       "⎢0  ─   0   0⎥\n",
       "⎢   2        ⎥\n",
       "⎢            ⎥\n",
       "⎣0  0   0   0⎦"
      ]
     },
     "execution_count": 45,
     "metadata": {},
     "output_type": "execute_result"
    }
   ],
   "source": [
    "xi = symbols(\"\\\\xi\", real=True)\n",
    "chi = symbols(\"\\\\chi\", real=True)\n",
    "\n",
    "def commutator(a,b):\n",
    "    return mgamma(a)@mgamma(b) - mgamma(b)@mgamma(a)\n",
    "\n",
    "def Sigma(a,b):\n",
    "    #psi = Matrix([[cos(xi/2),exp(I*chi)*sin(xi/2),0,0]]).T\n",
    "    psi = Matrix([[1,0,0,0]]).T #z-direction\n",
    "    #psi = Matrix([[0,1,0,0]]).T\n",
    "    #psi = Matrix([[1/sqrt(2), I*1/sqrt(2),0,0]]) #y-direction\n",
    "    #psi = Matrix([[1/sqrt(2), -1/sqrt(2),0,0]]).T\n",
    "\n",
    "    return conjugate(psi).T@mgamma(0)@commutator(a,b)@psi/4\n",
    "\n",
    "def Sigma_as_Matrix():\n",
    "    s = zeros(4)\n",
    "    for i in range(4):\n",
    "        for j in range(4):\n",
    "            s[i,j] = Sigma(i,j)\n",
    "    return s\n",
    "\n",
    "\n",
    "Sigma_ab = Sigma_as_Matrix()\n",
    "simplify(Sigma_ab)\n"
   ]
  },
  {
   "cell_type": "code",
   "execution_count": 46,
   "metadata": {},
   "outputs": [
    {
     "ename": "KeyboardInterrupt",
     "evalue": "",
     "output_type": "error",
     "traceback": [
      "\u001b[0;31m---------------------------------------------------------------------------\u001b[0m",
      "\u001b[0;31mKeyboardInterrupt\u001b[0m                         Traceback (most recent call last)",
      "Cell \u001b[0;32mIn[46], line 3\u001b[0m\n\u001b[1;32m      1\u001b[0m g_ \u001b[39m=\u001b[39m MetricTensor(g\u001b[39m.\u001b[39mtolist(),syms\u001b[39m=\u001b[39m[t,r,theta,phi], config\u001b[39m=\u001b[39m\u001b[39m'\u001b[39m\u001b[39mll\u001b[39m\u001b[39m'\u001b[39m, name\u001b[39m=\u001b[39m\u001b[39m\"\u001b[39m\u001b[39mss-metric\u001b[39m\u001b[39m\"\u001b[39m) \n\u001b[1;32m      2\u001b[0m ch \u001b[39m=\u001b[39m ChristoffelSymbols\u001b[39m.\u001b[39mfrom_metric(g_)\n\u001b[0;32m----> 3\u001b[0m ch \u001b[39m=\u001b[39m ch\u001b[39m.\u001b[39;49mchange_config(\u001b[39m\"\u001b[39;49m\u001b[39mull\u001b[39;49m\u001b[39m\"\u001b[39;49m)\n",
      "File \u001b[0;32m~/.var/app/com.visualstudio.code-oss/data/python/lib/python3.10/site-packages/einsteinpy/symbolic/christoffel.py:109\u001b[0m, in \u001b[0;36mChristoffelSymbols.change_config\u001b[0;34m(self, newconfig, metric)\u001b[0m\n\u001b[1;32m    107\u001b[0m \u001b[39mif\u001b[39;00m metric \u001b[39mis\u001b[39;00m \u001b[39mNone\u001b[39;00m:\n\u001b[1;32m    108\u001b[0m     \u001b[39mraise\u001b[39;00m \u001b[39mException\u001b[39;00m(\u001b[39m\"\u001b[39m\u001b[39mParent Metric not found, can\u001b[39m\u001b[39m'\u001b[39m\u001b[39mt do configuration change\u001b[39m\u001b[39m\"\u001b[39m)\n\u001b[0;32m--> 109\u001b[0m new_tensor \u001b[39m=\u001b[39m _change_config(\u001b[39mself\u001b[39;49m, metric, newconfig)\n\u001b[1;32m    110\u001b[0m new_obj \u001b[39m=\u001b[39m ChristoffelSymbols(\n\u001b[1;32m    111\u001b[0m     new_tensor,\n\u001b[1;32m    112\u001b[0m     \u001b[39mself\u001b[39m\u001b[39m.\u001b[39msyms,\n\u001b[0;32m   (...)\u001b[0m\n\u001b[1;32m    115\u001b[0m     name\u001b[39m=\u001b[39m_change_name(\u001b[39mself\u001b[39m\u001b[39m.\u001b[39mname, context\u001b[39m=\u001b[39m\u001b[39m\"\u001b[39m\u001b[39m__\u001b[39m\u001b[39m\"\u001b[39m \u001b[39m+\u001b[39m newconfig),\n\u001b[1;32m    116\u001b[0m )\n\u001b[1;32m    117\u001b[0m \u001b[39mreturn\u001b[39;00m new_obj\n",
      "File \u001b[0;32m~/.var/app/com.visualstudio.code-oss/data/python/lib/python3.10/site-packages/einsteinpy/symbolic/tensor.py:45\u001b[0m, in \u001b[0;36m_change_config\u001b[0;34m(tensor, metric, newconfig)\u001b[0m\n\u001b[1;32m     40\u001b[0m     \u001b[39mraise\u001b[39;00m \u001b[39mValueError\u001b[39;00m\n\u001b[1;32m     42\u001b[0m \u001b[39m# seperate the contravariant & covariant metric tensors\u001b[39;00m\n\u001b[1;32m     43\u001b[0m met_dict \u001b[39m=\u001b[39m {\n\u001b[1;32m     44\u001b[0m     \u001b[39m-\u001b[39m\u001b[39m1\u001b[39m: metric\u001b[39m.\u001b[39mlower_config()\u001b[39m.\u001b[39mtensor(),\n\u001b[0;32m---> 45\u001b[0m     \u001b[39m1\u001b[39m: metric\u001b[39m.\u001b[39;49mlower_config()\u001b[39m.\u001b[39;49minv()\u001b[39m.\u001b[39mtensor(),\n\u001b[1;32m     46\u001b[0m }\n\u001b[1;32m     48\u001b[0m \u001b[39m# main code\u001b[39;00m\n\u001b[1;32m     49\u001b[0m \u001b[39mdef\u001b[39;00m \u001b[39mchain_config_change\u001b[39m():\n",
      "File \u001b[0;32m~/.var/app/com.visualstudio.code-oss/data/python/lib/python3.10/site-packages/einsteinpy/symbolic/metric.py:95\u001b[0m, in \u001b[0;36mMetricTensor.inv\u001b[0;34m(self)\u001b[0m\n\u001b[1;32m     93\u001b[0m \u001b[39mif\u001b[39;00m \u001b[39mself\u001b[39m\u001b[39m.\u001b[39m_invmetric \u001b[39mis\u001b[39;00m \u001b[39mNone\u001b[39;00m:\n\u001b[1;32m     94\u001b[0m     \u001b[39mif\u001b[39;00m \u001b[39mself\u001b[39m\u001b[39m.\u001b[39mconfig \u001b[39m==\u001b[39m \u001b[39m\"\u001b[39m\u001b[39mll\u001b[39m\u001b[39m\"\u001b[39m:\n\u001b[0;32m---> 95\u001b[0m         \u001b[39mself\u001b[39m\u001b[39m.\u001b[39m_invmetric \u001b[39m=\u001b[39m \u001b[39mself\u001b[39;49m\u001b[39m.\u001b[39;49mchange_config(\u001b[39m\"\u001b[39;49m\u001b[39muu\u001b[39;49m\u001b[39m\"\u001b[39;49m)\n\u001b[1;32m     96\u001b[0m     \u001b[39melse\u001b[39;00m:\n\u001b[1;32m     97\u001b[0m         \u001b[39mself\u001b[39m\u001b[39m.\u001b[39m_invmetric \u001b[39m=\u001b[39m \u001b[39mself\u001b[39m\u001b[39m.\u001b[39mchange_config(\u001b[39m\"\u001b[39m\u001b[39mll\u001b[39m\u001b[39m\"\u001b[39m)\n",
      "File \u001b[0;32m~/.var/app/com.visualstudio.code-oss/data/python/lib/python3.10/site-packages/einsteinpy/symbolic/metric.py:70\u001b[0m, in \u001b[0;36mMetricTensor.change_config\u001b[0;34m(self, newconfig)\u001b[0m\n\u001b[1;32m     67\u001b[0m     \u001b[39mreturn\u001b[39;00m \u001b[39mself\u001b[39m\n\u001b[1;32m     68\u001b[0m \u001b[39mif\u001b[39;00m newconfig \u001b[39m==\u001b[39m \u001b[39m\"\u001b[39m\u001b[39muu\u001b[39m\u001b[39m\"\u001b[39m \u001b[39mor\u001b[39;00m newconfig \u001b[39m==\u001b[39m \u001b[39m\"\u001b[39m\u001b[39mll\u001b[39m\u001b[39m\"\u001b[39m:\n\u001b[1;32m     69\u001b[0m     inv_met \u001b[39m=\u001b[39m MetricTensor(\n\u001b[0;32m---> 70\u001b[0m         sympy\u001b[39m.\u001b[39msimplify(sympy\u001b[39m.\u001b[39;49mMatrix(\u001b[39mself\u001b[39;49m\u001b[39m.\u001b[39;49marr\u001b[39m.\u001b[39;49mtolist())\u001b[39m.\u001b[39;49minv())\u001b[39m.\u001b[39mtolist(),\n\u001b[1;32m     71\u001b[0m         \u001b[39mself\u001b[39m\u001b[39m.\u001b[39msyms,\n\u001b[1;32m     72\u001b[0m         config\u001b[39m=\u001b[39mnewconfig,\n\u001b[1;32m     73\u001b[0m         name\u001b[39m=\u001b[39m_change_name(\u001b[39mself\u001b[39m\u001b[39m.\u001b[39mname, context\u001b[39m=\u001b[39m\u001b[39m\"\u001b[39m\u001b[39m__\u001b[39m\u001b[39m\"\u001b[39m \u001b[39m+\u001b[39m newconfig),\n\u001b[1;32m     74\u001b[0m     )\n\u001b[1;32m     75\u001b[0m     inv_met\u001b[39m.\u001b[39m_invmetric \u001b[39m=\u001b[39m \u001b[39mself\u001b[39m\n\u001b[1;32m     76\u001b[0m     \u001b[39mreturn\u001b[39;00m inv_met\n",
      "File \u001b[0;32m~/.var/app/com.visualstudio.code-oss/data/python/lib/python3.10/site-packages/sympy/matrices/matrices.py:2177\u001b[0m, in \u001b[0;36mMatrixBase.inv\u001b[0;34m(self, method, iszerofunc, try_block_diag)\u001b[0m\n\u001b[1;32m   2176\u001b[0m \u001b[39mdef\u001b[39;00m \u001b[39minv\u001b[39m(\u001b[39mself\u001b[39m, method\u001b[39m=\u001b[39m\u001b[39mNone\u001b[39;00m, iszerofunc\u001b[39m=\u001b[39m_iszero, try_block_diag\u001b[39m=\u001b[39m\u001b[39mFalse\u001b[39;00m):\n\u001b[0;32m-> 2177\u001b[0m     \u001b[39mreturn\u001b[39;00m _inv(\u001b[39mself\u001b[39;49m, method\u001b[39m=\u001b[39;49mmethod, iszerofunc\u001b[39m=\u001b[39;49miszerofunc,\n\u001b[1;32m   2178\u001b[0m             try_block_diag\u001b[39m=\u001b[39;49mtry_block_diag)\n",
      "File \u001b[0;32m~/.var/app/com.visualstudio.code-oss/data/python/lib/python3.10/site-packages/sympy/matrices/inverse.py:459\u001b[0m, in \u001b[0;36m_inv\u001b[0;34m(M, method, iszerofunc, try_block_diag)\u001b[0m\n\u001b[1;32m    456\u001b[0m     \u001b[39mreturn\u001b[39;00m diag(\u001b[39m*\u001b[39mr)\n\u001b[1;32m    458\u001b[0m \u001b[39mif\u001b[39;00m method \u001b[39m==\u001b[39m \u001b[39m\"\u001b[39m\u001b[39mGE\u001b[39m\u001b[39m\"\u001b[39m:\n\u001b[0;32m--> 459\u001b[0m     rv \u001b[39m=\u001b[39m M\u001b[39m.\u001b[39;49minverse_GE(iszerofunc\u001b[39m=\u001b[39;49miszerofunc)\n\u001b[1;32m    460\u001b[0m \u001b[39melif\u001b[39;00m method \u001b[39m==\u001b[39m \u001b[39m\"\u001b[39m\u001b[39mLU\u001b[39m\u001b[39m\"\u001b[39m:\n\u001b[1;32m    461\u001b[0m     rv \u001b[39m=\u001b[39m M\u001b[39m.\u001b[39minverse_LU(iszerofunc\u001b[39m=\u001b[39miszerofunc)\n",
      "File \u001b[0;32m~/.var/app/com.visualstudio.code-oss/data/python/lib/python3.10/site-packages/sympy/matrices/matrices.py:2162\u001b[0m, in \u001b[0;36mMatrixBase.inverse_GE\u001b[0;34m(self, iszerofunc)\u001b[0m\n\u001b[1;32m   2161\u001b[0m \u001b[39mdef\u001b[39;00m \u001b[39minverse_GE\u001b[39m(\u001b[39mself\u001b[39m, iszerofunc\u001b[39m=\u001b[39m_iszero):\n\u001b[0;32m-> 2162\u001b[0m     \u001b[39mreturn\u001b[39;00m _inv_GE(\u001b[39mself\u001b[39;49m, iszerofunc\u001b[39m=\u001b[39;49miszerofunc)\n",
      "File \u001b[0;32m~/.var/app/com.visualstudio.code-oss/data/python/lib/python3.10/site-packages/sympy/matrices/inverse.py:242\u001b[0m, in \u001b[0;36m_inv_GE\u001b[0;34m(M, iszerofunc)\u001b[0m\n\u001b[1;32m    239\u001b[0m     \u001b[39mraise\u001b[39;00m NonSquareMatrixError(\u001b[39m\"\u001b[39m\u001b[39mA Matrix must be square to invert.\u001b[39m\u001b[39m\"\u001b[39m)\n\u001b[1;32m    241\u001b[0m big \u001b[39m=\u001b[39m Matrix\u001b[39m.\u001b[39mhstack(M\u001b[39m.\u001b[39mas_mutable(), Matrix\u001b[39m.\u001b[39meye(M\u001b[39m.\u001b[39mrows))\n\u001b[0;32m--> 242\u001b[0m red \u001b[39m=\u001b[39m big\u001b[39m.\u001b[39;49mrref(iszerofunc\u001b[39m=\u001b[39;49miszerofunc, simplify\u001b[39m=\u001b[39;49m\u001b[39mTrue\u001b[39;49;00m)[\u001b[39m0\u001b[39m]\n\u001b[1;32m    244\u001b[0m \u001b[39mif\u001b[39;00m \u001b[39many\u001b[39m(iszerofunc(red[j, j]) \u001b[39mfor\u001b[39;00m j \u001b[39min\u001b[39;00m \u001b[39mrange\u001b[39m(red\u001b[39m.\u001b[39mrows)):\n\u001b[1;32m    245\u001b[0m     \u001b[39mraise\u001b[39;00m NonInvertibleMatrixError(\u001b[39m\"\u001b[39m\u001b[39mMatrix det == 0; not invertible.\u001b[39m\u001b[39m\"\u001b[39m)\n",
      "File \u001b[0;32m~/.var/app/com.visualstudio.code-oss/data/python/lib/python3.10/site-packages/sympy/matrices/matrices.py:172\u001b[0m, in \u001b[0;36mMatrixReductions.rref\u001b[0;34m(self, iszerofunc, simplify, pivots, normalize_last)\u001b[0m\n\u001b[1;32m    170\u001b[0m \u001b[39mdef\u001b[39;00m \u001b[39mrref\u001b[39m(\u001b[39mself\u001b[39m, iszerofunc\u001b[39m=\u001b[39m_iszero, simplify\u001b[39m=\u001b[39m\u001b[39mFalse\u001b[39;00m, pivots\u001b[39m=\u001b[39m\u001b[39mTrue\u001b[39;00m,\n\u001b[1;32m    171\u001b[0m         normalize_last\u001b[39m=\u001b[39m\u001b[39mTrue\u001b[39;00m):\n\u001b[0;32m--> 172\u001b[0m     \u001b[39mreturn\u001b[39;00m _rref(\u001b[39mself\u001b[39;49m, iszerofunc\u001b[39m=\u001b[39;49miszerofunc, simplify\u001b[39m=\u001b[39;49msimplify,\n\u001b[1;32m    173\u001b[0m         pivots\u001b[39m=\u001b[39;49mpivots, normalize_last\u001b[39m=\u001b[39;49mnormalize_last)\n",
      "File \u001b[0;32m~/.var/app/com.visualstudio.code-oss/data/python/lib/python3.10/site-packages/sympy/matrices/reductions.py:320\u001b[0m, in \u001b[0;36m_rref\u001b[0;34m(M, iszerofunc, simplify, pivots, normalize_last)\u001b[0m\n\u001b[1;32m    247\u001b[0m \u001b[39m\u001b[39m\u001b[39m\"\"\"Return reduced row-echelon form of matrix and indices of pivot vars.\u001b[39;00m\n\u001b[1;32m    248\u001b[0m \n\u001b[1;32m    249\u001b[0m \u001b[39mParameters\u001b[39;00m\n\u001b[0;32m   (...)\u001b[0m\n\u001b[1;32m    315\u001b[0m \u001b[39mof the matrix, set ``noramlize_last=False``\u001b[39;00m\n\u001b[1;32m    316\u001b[0m \u001b[39m\"\"\"\u001b[39;00m\n\u001b[1;32m    318\u001b[0m simpfunc \u001b[39m=\u001b[39m simplify \u001b[39mif\u001b[39;00m \u001b[39misinstance\u001b[39m(simplify, FunctionType) \u001b[39melse\u001b[39;00m _simplify\n\u001b[0;32m--> 320\u001b[0m mat, pivot_cols, _ \u001b[39m=\u001b[39m _row_reduce(M, iszerofunc, simpfunc,\n\u001b[1;32m    321\u001b[0m         normalize_last, normalize\u001b[39m=\u001b[39;49m\u001b[39mTrue\u001b[39;49;00m, zero_above\u001b[39m=\u001b[39;49m\u001b[39mTrue\u001b[39;49;00m)\n\u001b[1;32m    323\u001b[0m \u001b[39mif\u001b[39;00m pivots:\n\u001b[1;32m    324\u001b[0m     mat \u001b[39m=\u001b[39m (mat, pivot_cols)\n",
      "File \u001b[0;32m~/.var/app/com.visualstudio.code-oss/data/python/lib/python3.10/site-packages/sympy/matrices/reductions.py:124\u001b[0m, in \u001b[0;36m_row_reduce\u001b[0;34m(M, iszerofunc, simpfunc, normalize_last, normalize, zero_above)\u001b[0m\n\u001b[1;32m    121\u001b[0m \u001b[39mdef\u001b[39;00m \u001b[39m_row_reduce\u001b[39m(M, iszerofunc, simpfunc, normalize_last\u001b[39m=\u001b[39m\u001b[39mTrue\u001b[39;00m,\n\u001b[1;32m    122\u001b[0m                 normalize\u001b[39m=\u001b[39m\u001b[39mTrue\u001b[39;00m, zero_above\u001b[39m=\u001b[39m\u001b[39mTrue\u001b[39;00m):\n\u001b[0;32m--> 124\u001b[0m     mat, pivot_cols, swaps \u001b[39m=\u001b[39m _row_reduce_list(\u001b[39mlist\u001b[39;49m(M), M\u001b[39m.\u001b[39;49mrows, M\u001b[39m.\u001b[39;49mcols, M\u001b[39m.\u001b[39;49mone,\n\u001b[1;32m    125\u001b[0m             iszerofunc, simpfunc, normalize_last\u001b[39m=\u001b[39;49mnormalize_last,\n\u001b[1;32m    126\u001b[0m             normalize\u001b[39m=\u001b[39;49mnormalize, zero_above\u001b[39m=\u001b[39;49mzero_above)\n\u001b[1;32m    128\u001b[0m     \u001b[39mreturn\u001b[39;00m M\u001b[39m.\u001b[39m_new(M\u001b[39m.\u001b[39mrows, M\u001b[39m.\u001b[39mcols, mat), pivot_cols, swaps\n",
      "File \u001b[0;32m~/.var/app/com.visualstudio.code-oss/data/python/lib/python3.10/site-packages/sympy/matrices/reductions.py:65\u001b[0m, in \u001b[0;36m_row_reduce_list\u001b[0;34m(mat, rows, cols, one, iszerofunc, simpfunc, normalize_last, normalize, zero_above)\u001b[0m\n\u001b[1;32m     62\u001b[0m \u001b[39m# use a fraction free method to zero above and below each pivot\u001b[39;00m\n\u001b[1;32m     63\u001b[0m \u001b[39mwhile\u001b[39;00m piv_col \u001b[39m<\u001b[39m cols \u001b[39mand\u001b[39;00m piv_row \u001b[39m<\u001b[39m rows:\n\u001b[1;32m     64\u001b[0m     pivot_offset, pivot_val, \\\n\u001b[0;32m---> 65\u001b[0m     assumed_nonzero, newly_determined \u001b[39m=\u001b[39m _find_reasonable_pivot(\n\u001b[1;32m     66\u001b[0m             get_col(piv_col)[piv_row:], iszerofunc, simpfunc)\n\u001b[1;32m     68\u001b[0m     \u001b[39m# _find_reasonable_pivot may have simplified some things\u001b[39;00m\n\u001b[1;32m     69\u001b[0m     \u001b[39m# in the process.  Let's not let them go to waste\u001b[39;00m\n\u001b[1;32m     70\u001b[0m     \u001b[39mfor\u001b[39;00m (offset, val) \u001b[39min\u001b[39;00m newly_determined:\n",
      "File \u001b[0;32m~/.var/app/com.visualstudio.code-oss/data/python/lib/python3.10/site-packages/sympy/matrices/determinant.py:102\u001b[0m, in \u001b[0;36m_find_reasonable_pivot\u001b[0;34m(col, iszerofunc, simpfunc)\u001b[0m\n\u001b[1;32m    100\u001b[0m \u001b[39mif\u001b[39;00m possible_zeros[i] \u001b[39mis\u001b[39;00m \u001b[39mnot\u001b[39;00m \u001b[39mNone\u001b[39;00m:\n\u001b[1;32m    101\u001b[0m     \u001b[39mcontinue\u001b[39;00m\n\u001b[0;32m--> 102\u001b[0m \u001b[39mif\u001b[39;00m x\u001b[39m.\u001b[39;49mequals(S\u001b[39m.\u001b[39;49mZero):\n\u001b[1;32m    103\u001b[0m     \u001b[39m# ``.iszero`` may return False with\u001b[39;00m\n\u001b[1;32m    104\u001b[0m     \u001b[39m# an implicit assumption (e.g., ``x.equals(0)``\u001b[39;00m\n\u001b[1;32m    105\u001b[0m     \u001b[39m# when ``x`` is a symbol), so only treat it\u001b[39;00m\n\u001b[1;32m    106\u001b[0m     \u001b[39m# as proved when ``.equals(0)`` returns True\u001b[39;00m\n\u001b[1;32m    107\u001b[0m     possible_zeros[i] \u001b[39m=\u001b[39m \u001b[39mTrue\u001b[39;00m\n\u001b[1;32m    108\u001b[0m     newly_determined\u001b[39m.\u001b[39mappend((i, S\u001b[39m.\u001b[39mZero))\n",
      "File \u001b[0;32m~/.var/app/com.visualstudio.code-oss/data/python/lib/python3.10/site-packages/sympy/core/expr.py:753\u001b[0m, in \u001b[0;36mExpr.equals\u001b[0;34m(self, other, failing_expression)\u001b[0m\n\u001b[1;32m    751\u001b[0m factors \u001b[39m=\u001b[39m diff\u001b[39m.\u001b[39mas_coeff_mul()[\u001b[39m1\u001b[39m]\n\u001b[1;32m    752\u001b[0m \u001b[39mif\u001b[39;00m \u001b[39mlen\u001b[39m(factors) \u001b[39m>\u001b[39m \u001b[39m1\u001b[39m:  \u001b[39m# avoid infinity recursion\u001b[39;00m\n\u001b[0;32m--> 753\u001b[0m     fac_zero \u001b[39m=\u001b[39m [fac\u001b[39m.\u001b[39mequals(\u001b[39m0\u001b[39m) \u001b[39mfor\u001b[39;00m fac \u001b[39min\u001b[39;00m factors]\n\u001b[1;32m    754\u001b[0m     \u001b[39mif\u001b[39;00m \u001b[39mNone\u001b[39;00m \u001b[39mnot\u001b[39;00m \u001b[39min\u001b[39;00m fac_zero:  \u001b[39m# every part can be decided\u001b[39;00m\n\u001b[1;32m    755\u001b[0m         \u001b[39mreturn\u001b[39;00m \u001b[39many\u001b[39m(fac_zero)\n",
      "File \u001b[0;32m~/.var/app/com.visualstudio.code-oss/data/python/lib/python3.10/site-packages/sympy/core/expr.py:753\u001b[0m, in \u001b[0;36m<listcomp>\u001b[0;34m(.0)\u001b[0m\n\u001b[1;32m    751\u001b[0m factors \u001b[39m=\u001b[39m diff\u001b[39m.\u001b[39mas_coeff_mul()[\u001b[39m1\u001b[39m]\n\u001b[1;32m    752\u001b[0m \u001b[39mif\u001b[39;00m \u001b[39mlen\u001b[39m(factors) \u001b[39m>\u001b[39m \u001b[39m1\u001b[39m:  \u001b[39m# avoid infinity recursion\u001b[39;00m\n\u001b[0;32m--> 753\u001b[0m     fac_zero \u001b[39m=\u001b[39m [fac\u001b[39m.\u001b[39;49mequals(\u001b[39m0\u001b[39;49m) \u001b[39mfor\u001b[39;00m fac \u001b[39min\u001b[39;00m factors]\n\u001b[1;32m    754\u001b[0m     \u001b[39mif\u001b[39;00m \u001b[39mNone\u001b[39;00m \u001b[39mnot\u001b[39;00m \u001b[39min\u001b[39;00m fac_zero:  \u001b[39m# every part can be decided\u001b[39;00m\n\u001b[1;32m    755\u001b[0m         \u001b[39mreturn\u001b[39;00m \u001b[39many\u001b[39m(fac_zero)\n",
      "File \u001b[0;32m~/.var/app/com.visualstudio.code-oss/data/python/lib/python3.10/site-packages/sympy/core/expr.py:757\u001b[0m, in \u001b[0;36mExpr.equals\u001b[0;34m(self, other, failing_expression)\u001b[0m\n\u001b[1;32m    754\u001b[0m     \u001b[39mif\u001b[39;00m \u001b[39mNone\u001b[39;00m \u001b[39mnot\u001b[39;00m \u001b[39min\u001b[39;00m fac_zero:  \u001b[39m# every part can be decided\u001b[39;00m\n\u001b[1;32m    755\u001b[0m         \u001b[39mreturn\u001b[39;00m \u001b[39many\u001b[39m(fac_zero)\n\u001b[0;32m--> 757\u001b[0m constant \u001b[39m=\u001b[39m diff\u001b[39m.\u001b[39;49mis_constant(simplify\u001b[39m=\u001b[39;49m\u001b[39mFalse\u001b[39;49;00m, failing_number\u001b[39m=\u001b[39;49m\u001b[39mTrue\u001b[39;49;00m)\n\u001b[1;32m    759\u001b[0m \u001b[39mif\u001b[39;00m constant \u001b[39mis\u001b[39;00m \u001b[39mFalse\u001b[39;00m:\n\u001b[1;32m    760\u001b[0m     \u001b[39mreturn\u001b[39;00m \u001b[39mFalse\u001b[39;00m\n",
      "File \u001b[0;32m~/.var/app/com.visualstudio.code-oss/data/python/lib/python3.10/site-packages/sympy/core/expr.py:680\u001b[0m, in \u001b[0;36mExpr.is_constant\u001b[0;34m(self, *wrt, **flags)\u001b[0m\n\u001b[1;32m    678\u001b[0m     \u001b[39mreturn\u001b[39;00m \u001b[39mFalse\u001b[39;00m\n\u001b[1;32m    679\u001b[0m \u001b[39m# try random real\u001b[39;00m\n\u001b[0;32m--> 680\u001b[0m b \u001b[39m=\u001b[39m expr\u001b[39m.\u001b[39;49m_random(\u001b[39mNone\u001b[39;49;00m, \u001b[39m-\u001b[39;49m\u001b[39m1\u001b[39;49m, \u001b[39m0\u001b[39;49m, \u001b[39m1\u001b[39;49m, \u001b[39m0\u001b[39;49m)\n\u001b[1;32m    681\u001b[0m \u001b[39mif\u001b[39;00m b \u001b[39mis\u001b[39;00m \u001b[39mnot\u001b[39;00m \u001b[39mNone\u001b[39;00m \u001b[39mand\u001b[39;00m b \u001b[39mis\u001b[39;00m \u001b[39mnot\u001b[39;00m S\u001b[39m.\u001b[39mNaN \u001b[39mand\u001b[39;00m b\u001b[39m.\u001b[39mequals(a) \u001b[39mis\u001b[39;00m \u001b[39mFalse\u001b[39;00m:\n\u001b[1;32m    682\u001b[0m     \u001b[39mreturn\u001b[39;00m \u001b[39mFalse\u001b[39;00m\n",
      "File \u001b[0;32m~/.var/app/com.visualstudio.code-oss/data/python/lib/python3.10/site-packages/sympy/core/expr.py:501\u001b[0m, in \u001b[0;36mExpr._random\u001b[0;34m(self, n, re_min, im_min, re_max, im_max)\u001b[0m\n\u001b[1;32m    499\u001b[0m \u001b[39mfrom\u001b[39;00m \u001b[39msympy\u001b[39;00m\u001b[39m.\u001b[39;00m\u001b[39mcore\u001b[39;00m\u001b[39m.\u001b[39;00m\u001b[39mrandom\u001b[39;00m \u001b[39mimport\u001b[39;00m random_complex_number\n\u001b[1;32m    500\u001b[0m a, c, b, d \u001b[39m=\u001b[39m re_min, re_max, im_min, im_max\n\u001b[0;32m--> 501\u001b[0m reps \u001b[39m=\u001b[39m \u001b[39mdict\u001b[39m(\u001b[39mlist\u001b[39m(\u001b[39mzip\u001b[39m(free, [random_complex_number(a, b, c, d, rational\u001b[39m=\u001b[39m\u001b[39mTrue\u001b[39;00m)\n\u001b[1;32m    502\u001b[0m                \u001b[39mfor\u001b[39;00m zi \u001b[39min\u001b[39;00m free])))\n\u001b[1;32m    503\u001b[0m \u001b[39mtry\u001b[39;00m:\n\u001b[1;32m    504\u001b[0m     nmag \u001b[39m=\u001b[39m \u001b[39mabs\u001b[39m(\u001b[39mself\u001b[39m\u001b[39m.\u001b[39mevalf(\u001b[39m2\u001b[39m, subs\u001b[39m=\u001b[39mreps))\n",
      "File \u001b[0;32m~/.var/app/com.visualstudio.code-oss/data/python/lib/python3.10/site-packages/sympy/core/expr.py:501\u001b[0m, in \u001b[0;36m<listcomp>\u001b[0;34m(.0)\u001b[0m\n\u001b[1;32m    499\u001b[0m \u001b[39mfrom\u001b[39;00m \u001b[39msympy\u001b[39;00m\u001b[39m.\u001b[39;00m\u001b[39mcore\u001b[39;00m\u001b[39m.\u001b[39;00m\u001b[39mrandom\u001b[39;00m \u001b[39mimport\u001b[39;00m random_complex_number\n\u001b[1;32m    500\u001b[0m a, c, b, d \u001b[39m=\u001b[39m re_min, re_max, im_min, im_max\n\u001b[0;32m--> 501\u001b[0m reps \u001b[39m=\u001b[39m \u001b[39mdict\u001b[39m(\u001b[39mlist\u001b[39m(\u001b[39mzip\u001b[39m(free, [random_complex_number(a, b, c, d, rational\u001b[39m=\u001b[39;49m\u001b[39mTrue\u001b[39;49;00m)\n\u001b[1;32m    502\u001b[0m                \u001b[39mfor\u001b[39;00m zi \u001b[39min\u001b[39;00m free])))\n\u001b[1;32m    503\u001b[0m \u001b[39mtry\u001b[39;00m:\n\u001b[1;32m    504\u001b[0m     nmag \u001b[39m=\u001b[39m \u001b[39mabs\u001b[39m(\u001b[39mself\u001b[39m\u001b[39m.\u001b[39mevalf(\u001b[39m2\u001b[39m, subs\u001b[39m=\u001b[39mreps))\n",
      "File \u001b[0;32m~/.var/app/com.visualstudio.code-oss/data/python/lib/python3.10/site-packages/sympy/core/random.py:64\u001b[0m, in \u001b[0;36mrandom_complex_number\u001b[0;34m(a, b, c, d, rational, tolerance)\u001b[0m\n\u001b[1;32m     62\u001b[0m \u001b[39mif\u001b[39;00m \u001b[39mnot\u001b[39;00m rational:\n\u001b[1;32m     63\u001b[0m     \u001b[39mreturn\u001b[39;00m A \u001b[39m+\u001b[39m I\u001b[39m*\u001b[39mB\n\u001b[0;32m---> 64\u001b[0m \u001b[39mreturn\u001b[39;00m (nsimplify(A, rational\u001b[39m=\u001b[39;49m\u001b[39mTrue\u001b[39;49;00m, tolerance\u001b[39m=\u001b[39;49mtolerance) \u001b[39m+\u001b[39m\n\u001b[1;32m     65\u001b[0m     I\u001b[39m*\u001b[39mnsimplify(B, rational\u001b[39m=\u001b[39m\u001b[39mTrue\u001b[39;00m, tolerance\u001b[39m=\u001b[39mtolerance))\n",
      "File \u001b[0;32m~/.var/app/com.visualstudio.code-oss/data/python/lib/python3.10/site-packages/sympy/simplify/simplify.py:1446\u001b[0m, in \u001b[0;36mnsimplify\u001b[0;34m(expr, constants, tolerance, full, rational, rational_conversion)\u001b[0m\n\u001b[1;32m   1444\u001b[0m     \u001b[39mreturn\u001b[39;00m expr\n\u001b[1;32m   1445\u001b[0m \u001b[39mif\u001b[39;00m rational \u001b[39mor\u001b[39;00m expr\u001b[39m.\u001b[39mfree_symbols:\n\u001b[0;32m-> 1446\u001b[0m     \u001b[39mreturn\u001b[39;00m _real_to_rational(expr, tolerance, rational_conversion)\n\u001b[1;32m   1448\u001b[0m \u001b[39m# SymPy's default tolerance for Rationals is 15; other numbers may have\u001b[39;00m\n\u001b[1;32m   1449\u001b[0m \u001b[39m# lower tolerances set, so use them to pick the largest tolerance if None\u001b[39;00m\n\u001b[1;32m   1450\u001b[0m \u001b[39m# was given\u001b[39;00m\n\u001b[1;32m   1451\u001b[0m \u001b[39mif\u001b[39;00m tolerance \u001b[39mis\u001b[39;00m \u001b[39mNone\u001b[39;00m:\n",
      "File \u001b[0;32m~/.var/app/com.visualstudio.code-oss/data/python/lib/python3.10/site-packages/sympy/simplify/simplify.py:1565\u001b[0m, in \u001b[0;36m_real_to_rational\u001b[0;34m(expr, tolerance, rational_conversion)\u001b[0m\n\u001b[1;32m   1562\u001b[0m \u001b[39melif\u001b[39;00m rational_conversion \u001b[39m!=\u001b[39m \u001b[39m'\u001b[39m\u001b[39mbase10\u001b[39m\u001b[39m'\u001b[39m:\n\u001b[1;32m   1563\u001b[0m     \u001b[39mraise\u001b[39;00m \u001b[39mValueError\u001b[39;00m(\u001b[39m\"\u001b[39m\u001b[39mrational_conversion must be \u001b[39m\u001b[39m'\u001b[39m\u001b[39mbase10\u001b[39m\u001b[39m'\u001b[39m\u001b[39m or \u001b[39m\u001b[39m'\u001b[39m\u001b[39mexact\u001b[39m\u001b[39m'\u001b[39m\u001b[39m\"\u001b[39m)\n\u001b[0;32m-> 1565\u001b[0m r \u001b[39m=\u001b[39m nsimplify(fl, rational\u001b[39m=\u001b[39;49m\u001b[39mFalse\u001b[39;49;00m)\n\u001b[1;32m   1566\u001b[0m \u001b[39m# e.g. log(3).n() -> log(3) instead of a Rational\u001b[39;00m\n\u001b[1;32m   1567\u001b[0m \u001b[39mif\u001b[39;00m fl \u001b[39mand\u001b[39;00m \u001b[39mnot\u001b[39;00m r:\n",
      "File \u001b[0;32m~/.var/app/com.visualstudio.code-oss/data/python/lib/python3.10/site-packages/sympy/simplify/simplify.py:1504\u001b[0m, in \u001b[0;36mnsimplify\u001b[0;34m(expr, constants, tolerance, full, rational, rational_conversion)\u001b[0m\n\u001b[1;32m   1502\u001b[0m \u001b[39mtry\u001b[39;00m:\n\u001b[1;32m   1503\u001b[0m     \u001b[39mif\u001b[39;00m re:\n\u001b[0;32m-> 1504\u001b[0m         re \u001b[39m=\u001b[39m nsimplify_real(re)\n\u001b[1;32m   1505\u001b[0m     \u001b[39mif\u001b[39;00m im:\n\u001b[1;32m   1506\u001b[0m         im \u001b[39m=\u001b[39m nsimplify_real(im)\n",
      "File \u001b[0;32m~/.var/app/com.visualstudio.code-oss/data/python/lib/python3.10/site-packages/sympy/simplify/simplify.py:1486\u001b[0m, in \u001b[0;36mnsimplify.<locals>.nsimplify_real\u001b[0;34m(x)\u001b[0m\n\u001b[1;32m   1484\u001b[0m         \u001b[39mreturn\u001b[39;00m Rational(\u001b[39m-\u001b[39m\u001b[39mint\u001b[39m(rat[\u001b[39m1\u001b[39m]), \u001b[39mint\u001b[39m(rat[\u001b[39m0\u001b[39m]))\n\u001b[1;32m   1485\u001b[0m mpmath\u001b[39m.\u001b[39mmp\u001b[39m.\u001b[39mdps \u001b[39m=\u001b[39m prec\n\u001b[0;32m-> 1486\u001b[0m newexpr \u001b[39m=\u001b[39m mpmath\u001b[39m.\u001b[39;49midentify(xv, constants\u001b[39m=\u001b[39;49mconstants_dict,\n\u001b[1;32m   1487\u001b[0m     tol\u001b[39m=\u001b[39;49mtolerance, full\u001b[39m=\u001b[39;49mfull)\n\u001b[1;32m   1488\u001b[0m \u001b[39mif\u001b[39;00m \u001b[39mnot\u001b[39;00m newexpr:\n\u001b[1;32m   1489\u001b[0m     \u001b[39mraise\u001b[39;00m \u001b[39mValueError\u001b[39;00m\n",
      "File \u001b[0;32m~/.var/app/com.visualstudio.code-oss/data/python/lib/python3.10/site-packages/mpmath/identification.py:758\u001b[0m, in \u001b[0;36midentify\u001b[0;34m(ctx, x, constants, tol, maxcoeff, full, verbose)\u001b[0m\n\u001b[1;32m    756\u001b[0m     \u001b[39melse\u001b[39;00m:    \u001b[39mreturn\u001b[39;00m \u001b[39m'\u001b[39m\u001b[39m0\u001b[39m\u001b[39m'\u001b[39m\n\u001b[1;32m    757\u001b[0m \u001b[39mif\u001b[39;00m x \u001b[39m<\u001b[39m \u001b[39m0\u001b[39m:\n\u001b[0;32m--> 758\u001b[0m     sol \u001b[39m=\u001b[39m ctx\u001b[39m.\u001b[39;49midentify(\u001b[39m-\u001b[39;49mx, constants, tol, maxcoeff, full, verbose)\n\u001b[1;32m    759\u001b[0m     \u001b[39mif\u001b[39;00m sol \u001b[39mis\u001b[39;00m \u001b[39mNone\u001b[39;00m:\n\u001b[1;32m    760\u001b[0m         \u001b[39mreturn\u001b[39;00m sol\n",
      "File \u001b[0;32m~/.var/app/com.visualstudio.code-oss/data/python/lib/python3.10/site-packages/mpmath/identification.py:827\u001b[0m, in \u001b[0;36midentify\u001b[0;34m(ctx, x, constants, tol, maxcoeff, full, verbose)\u001b[0m\n\u001b[1;32m    825\u001b[0m         logs\u001b[39m.\u001b[39mappend((ctx\u001b[39m.\u001b[39mln(a), s))\n\u001b[1;32m    826\u001b[0m logs \u001b[39m=\u001b[39m [(ctx\u001b[39m.\u001b[39mln(i),\u001b[39mstr\u001b[39m(i)) \u001b[39mfor\u001b[39;00m i \u001b[39min\u001b[39;00m ilogs] \u001b[39m+\u001b[39m logs\n\u001b[0;32m--> 827\u001b[0m r \u001b[39m=\u001b[39m ctx\u001b[39m.\u001b[39;49mpslq([ctx\u001b[39m.\u001b[39;49mln(x)] \u001b[39m+\u001b[39;49m [a[\u001b[39m0\u001b[39;49m] \u001b[39mfor\u001b[39;49;00m a \u001b[39min\u001b[39;49;00m logs], tol, M)\n\u001b[1;32m    828\u001b[0m \u001b[39mif\u001b[39;00m r \u001b[39mis\u001b[39;00m \u001b[39mnot\u001b[39;00m \u001b[39mNone\u001b[39;00m \u001b[39mand\u001b[39;00m \u001b[39mmax\u001b[39m(\u001b[39mabs\u001b[39m(uw) \u001b[39mfor\u001b[39;00m uw \u001b[39min\u001b[39;00m r) \u001b[39m<\u001b[39m\u001b[39m=\u001b[39m M \u001b[39mand\u001b[39;00m r[\u001b[39m0\u001b[39m]:\n\u001b[1;32m    829\u001b[0m     addsolution(prodstring(r, logs))\n",
      "File \u001b[0;32m~/.var/app/com.visualstudio.code-oss/data/python/lib/python3.10/site-packages/mpmath/identification.py:271\u001b[0m, in \u001b[0;36mpslq\u001b[0;34m(ctx, x, tol, maxcoeff, maxsteps, verbose)\u001b[0m\n\u001b[1;32m    269\u001b[0m         \u001b[39mfor\u001b[39;00m k \u001b[39min\u001b[39;00m xrange(\u001b[39m1\u001b[39m, n\u001b[39m+\u001b[39m\u001b[39m1\u001b[39m):\n\u001b[1;32m    270\u001b[0m             A[i,k] \u001b[39m=\u001b[39m A[i,k] \u001b[39m-\u001b[39m (t\u001b[39m*\u001b[39mA[j,k] \u001b[39m>>\u001b[39m prec)\n\u001b[0;32m--> 271\u001b[0m             B[k,j] \u001b[39m=\u001b[39m B[k,j] \u001b[39m+\u001b[39m (t\u001b[39m*\u001b[39mB[k,i] \u001b[39m>>\u001b[39m prec)\n\u001b[1;32m    272\u001b[0m \u001b[39m# Until a relation is found, the error typically decreases\u001b[39;00m\n\u001b[1;32m    273\u001b[0m \u001b[39m# slowly (e.g. a factor 1-10) with each step TODO: we could\u001b[39;00m\n\u001b[1;32m    274\u001b[0m \u001b[39m# compare err from two successive iterations. If there is a\u001b[39;00m\n\u001b[1;32m    275\u001b[0m \u001b[39m# large drop (several orders of magnitude), that indicates a\u001b[39;00m\n\u001b[1;32m    276\u001b[0m \u001b[39m# \"high quality\" relation was detected. Reporting this to\u001b[39;00m\n\u001b[1;32m    277\u001b[0m \u001b[39m# the user somehow might be useful.\u001b[39;00m\n\u001b[1;32m    278\u001b[0m best_err \u001b[39m=\u001b[39m maxcoeff\u001b[39m<<\u001b[39mprec\n",
      "\u001b[0;31mKeyboardInterrupt\u001b[0m: "
     ]
    }
   ],
   "source": [
    "g_ = MetricTensor(g.tolist(),syms=[t,r,theta,phi], config='ll', name=\"ss-metric\") \n",
    "ch = ChristoffelSymbols.from_metric(g_)\n",
    "ch = ch.change_config(\"ull\")"
   ]
  },
  {
   "cell_type": "code",
   "execution_count": null,
   "metadata": {},
   "outputs": [
    {
     "data": {
      "text/latex": [
       "$\\displaystyle \\left[\\begin{matrix}\\left[\\begin{matrix}0 & - \\frac{r_{s}}{2 r^{2} \\left(-1 + \\frac{r_{s}}{r}\\right)} & 0 & 0\\\\- \\frac{r_{s}}{2 r^{2} \\left(-1 + \\frac{r_{s}}{r}\\right)} & 0 & 0 & 0\\\\0 & 0 & 0 & 0\\\\0 & 0 & 0 & 0\\end{matrix}\\right] & \\left[\\begin{matrix}\\frac{r_{s} \\left(\\frac{1}{2} - \\frac{r_{s}}{2 r}\\right)}{r^{2}} & 0 & 0 & 0\\\\0 & - \\frac{r_{s} \\left(\\frac{1}{2} - \\frac{r_{s}}{2 r}\\right)}{r^{2} \\left(1 - \\frac{r_{s}}{r}\\right)^{2}} & 0 & 0\\\\0 & 0 & - 2 r \\left(\\frac{1}{2} - \\frac{r_{s}}{2 r}\\right) & 0\\\\0 & 0 & 0 & - 2 r \\left(\\frac{1}{2} - \\frac{r_{s}}{2 r}\\right) \\sin^{2}{\\left(\\theta \\right)}\\end{matrix}\\right] & \\left[\\begin{matrix}0 & 0 & 0 & 0\\\\0 & 0 & \\frac{1}{r} & 0\\\\0 & \\frac{1}{r} & 0 & 0\\\\0 & 0 & 0 & - \\sin{\\left(\\theta \\right)} \\cos{\\left(\\theta \\right)}\\end{matrix}\\right] & \\left[\\begin{matrix}0 & 0 & 0 & 0\\\\0 & 0 & 0 & \\frac{1}{r}\\\\0 & 0 & 0 & \\frac{\\cos{\\left(\\theta \\right)}}{\\sin{\\left(\\theta \\right)}}\\\\0 & \\frac{1}{r} & \\frac{\\cos{\\left(\\theta \\right)}}{\\sin{\\left(\\theta \\right)}} & 0\\end{matrix}\\right]\\end{matrix}\\right]$"
      ],
      "text/plain": [
       "⎡                                        ⎡   ⎛1    rₛ⎞                        \n",
       "⎢                                        ⎢rₛ⋅⎜─ - ───⎟                        \n",
       "⎢                                        ⎢   ⎝2   2⋅r⎠                        \n",
       "⎢                                        ⎢────────────        0               \n",
       "⎢⎡                     -rₛ            ⎤  ⎢      2                             \n",
       "⎢⎢      0         ──────────────  0  0⎥  ⎢     r                              \n",
       "⎢⎢                   2 ⎛     rₛ⎞      ⎥  ⎢                                    \n",
       "⎢⎢                2⋅r ⋅⎜-1 + ──⎟      ⎥  ⎢                  ⎛1    rₛ⎞         \n",
       "⎢⎢                     ⎝     r ⎠      ⎥  ⎢              -rₛ⋅⎜─ - ───⎟         \n",
       "⎢⎢                                    ⎥  ⎢                  ⎝2   2⋅r⎠         \n",
       "⎢⎢     -rₛ                            ⎥  ⎢     0        ──────────────        \n",
       "⎢⎢──────────────        0         0  0⎥  ⎢                          2         \n",
       "⎢⎢   2 ⎛     rₛ⎞                      ⎥  ⎢                2 ⎛    rₛ⎞          \n",
       "⎢⎢2⋅r ⋅⎜-1 + ──⎟                      ⎥  ⎢               r ⋅⎜1 - ──⎟          \n",
       "⎢⎢     ⎝     r ⎠                      ⎥  ⎢                  ⎝    r ⎠          \n",
       "⎢⎢                                    ⎥  ⎢                                    \n",
       "⎢⎢      0               0         0  0⎥  ⎢                                   ⎛\n",
       "⎢⎢                                    ⎥  ⎢     0              0         -2⋅r⋅⎜\n",
       "⎢⎣      0               0         0  0⎦  ⎢                                   ⎝\n",
       "⎢                                        ⎢                                    \n",
       "⎢                                        ⎢                                    \n",
       "⎢                                        ⎢     0              0               \n",
       "⎣                                        ⎣                                    \n",
       "\n",
       "                                ⎤                                             \n",
       "                                ⎥                                             \n",
       "                                ⎥                                             \n",
       "0                   0           ⎥                                             \n",
       "                                ⎥                                             \n",
       "                                ⎥                             ⎡0  0    0      \n",
       "                                ⎥  ⎡0  0  0        0       ⎤  ⎢               \n",
       "                                ⎥  ⎢                       ⎥  ⎢               \n",
       "                                ⎥  ⎢      1                ⎥  ⎢0  0    0      \n",
       "                                ⎥  ⎢0  0  ─        0       ⎥  ⎢               \n",
       "0                   0           ⎥  ⎢      r                ⎥  ⎢               \n",
       "                                ⎥  ⎢                       ⎥  ⎢              c\n",
       "                                ⎥  ⎢   1                   ⎥  ⎢0  0    0     ─\n",
       "                                ⎥  ⎢0  ─  0        0       ⎥  ⎢              s\n",
       "                                ⎥  ⎢   r                   ⎥  ⎢               \n",
       "                                ⎥  ⎢                       ⎥  ⎢   1  cos(θ)   \n",
       "1    rₛ⎞                        ⎥  ⎣0  0  0  -sin(θ)⋅cos(θ)⎦  ⎢0  ─  ──────   \n",
       "─ - ───⎟            0           ⎥                             ⎣   r  sin(θ)   \n",
       "2   2⋅r⎠                        ⎥                                             \n",
       "                                ⎥                                             \n",
       "               ⎛1    rₛ⎞    2   ⎥                                             \n",
       "0         -2⋅r⋅⎜─ - ───⎟⋅sin (θ)⎥                                             \n",
       "               ⎝2   2⋅r⎠        ⎦                                             \n",
       "\n",
       "      ⎤\n",
       "      ⎥\n",
       "      ⎥\n",
       "      ⎥\n",
       "      ⎥\n",
       " 0   ⎤⎥\n",
       "     ⎥⎥\n",
       " 1   ⎥⎥\n",
       " ─   ⎥⎥\n",
       " r   ⎥⎥\n",
       "     ⎥⎥\n",
       "os(θ)⎥⎥\n",
       "─────⎥⎥\n",
       "in(θ)⎥⎥\n",
       "     ⎥⎥\n",
       "     ⎥⎥\n",
       " 0   ⎥⎥\n",
       "     ⎦⎥\n",
       "      ⎥\n",
       "      ⎥\n",
       "      ⎥\n",
       "      ⎥\n",
       "      ⎦"
      ]
     },
     "execution_count": 34,
     "metadata": {},
     "output_type": "execute_result"
    }
   ],
   "source": [
    "ch.tensor()"
   ]
  },
  {
   "cell_type": "code",
   "execution_count": null,
   "metadata": {},
   "outputs": [
    {
     "data": {
      "text/plain": [
       "(sympy.core.mul.Mul, u_r, u_\\phi, u_\\theta)"
      ]
     },
     "execution_count": 184,
     "metadata": {},
     "output_type": "execute_result"
    }
   ],
   "source": [
    "type(u_t), type(u_r),type(u_phi) , type(u_theta)"
   ]
  },
  {
   "cell_type": "code",
   "execution_count": null,
   "metadata": {},
   "outputs": [],
   "source": [
    "#du_dtau =  tensor_product(tensor_product(ch.change_config('ull'),u.change_config('u'), 1,0), u.change_config('u'),1,0)\n",
    "#print(simplify(du_dtau.tensor()*(-1)))"
   ]
  },
  {
   "cell_type": "code",
   "execution_count": 92,
   "metadata": {},
   "outputs": [],
   "source": [
    "Lorentz = TensorIndexType('Lorentz', dummy_name='L')\n",
    "Global = TensorIndexType('Global', dummy_name='G')\n",
    "a, b, c, d = tensor_indices('a b c d', Lorentz)\n",
    "alpha, beta, mu, nu= tensor_indices('alpha beta mu nu', Global)\n",
    "\n",
    "#E = TensorHead('E', [Global, Lorentz])\n",
    "e = TensorHead('e', [Lorentz, Global])\n",
    "Gamma = TensorHead('Gamma', [Global, Global, Global])\n",
    "sigma = TensorHead('sigma', [Lorentz, Lorentz])\n",
    "\n",
    "minkowski_m = TensorHead('eta', [Lorentz, Lorentz])\n",
    "schwarzschild_m = TensorHead('g', [Global, Global])\n",
    "\n",
    "x = TensorHead('x', [Global])\n",
    "\n",
    "u = TensorHead('u', [Global])\n",
    "\n",
    "repl = {}\n",
    "repl[Lorentz] = eta.tolist()\n",
    "repl[Global] = g_.tensor().tolist()\n",
    "\n",
    "repl[x(mu)] = [t, r, theta, phi]\n",
    "\n",
    "repl[u(mu)] = [u_t, u_r, 0,u_phi]\n",
    "\n",
    "\n",
    "\n",
    "repl[e(-a, alpha)] = (e_).tolist()\n",
    "repl[Gamma(alpha, -mu, -nu)] = ch.tensor().tolist()\n",
    "repl[sigma(a, b)] = Sigma_ab.tolist()\n",
    "repl[minkowski_m(-a, -b)] = eta.tolist()\n",
    "repl[schwarzschild_m(-mu, -nu)] = g_.tensor().tolist()\n",
    "\n",
    "\n",
    "\n",
    "\n",
    "\n"
   ]
  },
  {
   "cell_type": "code",
   "execution_count": 94,
   "metadata": {},
   "outputs": [],
   "source": [
    "from sympy.tensor.toperators import PartialDerivative\n",
    "E = schwarzschild_m(-nu, -alpha)*e(-a, alpha)*minkowski_m(a, b)\n"
   ]
  },
  {
   "attachments": {},
   "cell_type": "markdown",
   "metadata": {},
   "source": [
    "$\\omega_{\\mu a b} = \\Gamma^\\alpha_{\\ \\ \\ \\nu \\mu}e_a^{\\ \\ \\  \\nu}E_\\alpha^{\\ \\  \\ c}\\eta_{b c}      - \\partial_\\mu (E_\\alpha^{\\ \\ \\ \\ c})e_a^{\\  \\ \\ \\alpha}\\eta_{b c}  $ \n",
    "\n",
    "\n",
    "$\\omega_{\\mu}^{ab} = \\Gamma^\\nu_{\\ \\ \\ \\alpha \\mu}E_\\nu^{\\ \\ \\  a}E^{\\alpha b}    - E^{\\nu b}(\\partial_\\mu  E_\\nu^{\\ \\  \\ a}) $ \n",
    "\n",
    "\n"
   ]
  },
  {
   "cell_type": "code",
   "execution_count": 97,
   "metadata": {},
   "outputs": [
    {
     "name": "stderr",
     "output_type": "stream",
     "text": [
      "/tmp/ipykernel_230/2285594167.py:3: SymPyDeprecationWarning: \n",
      "\n",
      "Calling a tensor like Tensor(*indices) is deprecated. Use\n",
      "Tensor.substitute_indices() instead.\n",
      "\n",
      "See https://docs.sympy.org/latest/explanation/active-deprecations.html#deprecated-tensor-fun-eval\n",
      "for details.\n",
      "\n",
      "This has been deprecated since SymPy version 1.5. It\n",
      "will be removed in a future version of SymPy.\n",
      "\n",
      "  omega = Gamma(nu,-alpha,-mu)*E(-nu,a)*E(alpha,b) - E(nu,b)*PartialDerivative(E(-nu, a), x(mu))\n"
     ]
    },
    {
     "data": {
      "image/png": "[encoded data removed]",
      "text/latex": [
       "$\\displaystyle \\left[ {}^{b}, \\  {}^{a}, \\  {}_{\\mu}\\right]$"
      ],
      "text/plain": [
       "[b, a, -μ]"
      ]
     },
     "execution_count": 97,
     "metadata": {},
     "output_type": "execute_result"
    }
   ],
   "source": [
    "#omega_1 = PartialDerivative(E(-alpha, c), x(mu))*e(-a, alpha)*minkowski_m(-b, -c)\n",
    "#omega = Gamma(alpha, -nu, -mu)*e(-a, nu)*E(-alpha, c)*minkowski_m(-b, -c) - PartialDerivative(E(-alpha, c), x(mu))*e(-a, alpha)*minkowski_m(-b, -c)\n",
    "omega = Gamma(nu,-alpha,-mu)*E(-nu,a)*E(alpha,b) - E(nu,b)*PartialDerivative(E(-nu, a), x(mu))\n",
    "\n",
    "#omega = Gamma(nu,-alpha,-mu)*e(a,-nu)*e(b,alpha) - e(b,nu)*PartialDerivative(e(a,-nu), x(mu))\n",
    "omega.get_free_indices()"
   ]
  },
  {
   "cell_type": "code",
   "execution_count": 93,
   "metadata": {},
   "outputs": [
    {
     "data": {
      "text/latex": [
       "$\\displaystyle \\left[\\begin{matrix}-1 & 0 & 0 & 0\\\\0 & 1 & 0 & 0\\\\0 & 0 & 1 & 0\\\\0 & 0 & 0 & 1\\end{matrix}\\right]$"
      ],
      "text/plain": [
       "⎡-1  0  0  0⎤\n",
       "⎢           ⎥\n",
       "⎢0   1  0  0⎥\n",
       "⎢           ⎥\n",
       "⎢0   0  1  0⎥\n",
       "⎢           ⎥\n",
       "⎣0   0  0  1⎦"
      ]
     },
     "execution_count": 93,
     "metadata": {},
     "output_type": "execute_result"
    }
   ],
   "source": [
    "simplify((e(-a,mu)*e(-b,nu)*schwarzschild_m(-mu,-nu)).replace_with_arrays(repl, [-a,-b]))"
   ]
  },
  {
   "cell_type": "code",
   "execution_count": 100,
   "metadata": {},
   "outputs": [
    {
     "name": "stderr",
     "output_type": "stream",
     "text": [
      "/tmp/ipykernel_230/2822462560.py:1: SymPyDeprecationWarning: \n",
      "\n",
      "Calling a tensor like Tensor(*indices) is deprecated. Use\n",
      "Tensor.substitute_indices() instead.\n",
      "\n",
      "See https://docs.sympy.org/latest/explanation/active-deprecations.html#deprecated-tensor-fun-eval\n",
      "for details.\n",
      "\n",
      "This has been deprecated since SymPy version 1.5. It\n",
      "will be removed in a future version of SymPy.\n",
      "\n",
      "  (omega(-mu,a,b)*u(mu)).replace_with_arrays(repl,[a,b])\n"
     ]
    }
   ],
   "source": [
    "(omega(-mu,a,b)*u(mu)).replace_with_arrays(repl,[a,b])"
   ]
  },
  {
   "cell_type": "code",
   "execution_count": 96,
   "metadata": {},
   "outputs": [
    {
     "name": "stderr",
     "output_type": "stream",
     "text": [
      "/tmp/ipykernel_230/3457352859.py:1: SymPyDeprecationWarning: \n",
      "\n",
      "Calling a tensor like Tensor(*indices) is deprecated. Use\n",
      "Tensor.substitute_indices() instead.\n",
      "\n",
      "See https://docs.sympy.org/latest/explanation/active-deprecations.html#deprecated-tensor-fun-eval\n",
      "for details.\n",
      "\n",
      "This has been deprecated since SymPy version 1.5. It\n",
      "will be removed in a future version of SymPy.\n",
      "\n",
      "  simplify((E(-mu, a)*e(-b,mu)).replace_with_arrays(repl, [a,-b]))\n"
     ]
    },
    {
     "data": {
      "text/latex": [
       "$\\displaystyle \\left[\\begin{matrix}1 & 0 & 0 & 0\\\\0 & 1 & 0 & 0\\\\0 & 0 & 1 & 0\\\\0 & 0 & 0 & 1\\end{matrix}\\right]$"
      ],
      "text/plain": [
       "⎡1  0  0  0⎤\n",
       "⎢          ⎥\n",
       "⎢0  1  0  0⎥\n",
       "⎢          ⎥\n",
       "⎢0  0  1  0⎥\n",
       "⎢          ⎥\n",
       "⎣0  0  0  1⎦"
      ]
     },
     "execution_count": 96,
     "metadata": {},
     "output_type": "execute_result"
    }
   ],
   "source": [
    "simplify((E(-mu, a)*e(-b,mu)).replace_with_arrays(repl, [a,-b]))"
   ]
  },
  {
   "cell_type": "code",
   "execution_count": 98,
   "metadata": {},
   "outputs": [
    {
     "name": "stderr",
     "output_type": "stream",
     "text": [
      "/tmp/ipykernel_230/716785405.py:1: SymPyDeprecationWarning: \n",
      "\n",
      "Calling a tensor like Tensor(*indices) is deprecated. Use\n",
      "Tensor.substitute_indices() instead.\n",
      "\n",
      "See https://docs.sympy.org/latest/explanation/active-deprecations.html#deprecated-tensor-fun-eval\n",
      "for details.\n",
      "\n",
      "This has been deprecated since SymPy version 1.5. It\n",
      "will be removed in a future version of SymPy.\n",
      "\n",
      "  omega_sigma = omega(-mu, a, b)*sigma(-a, -b)\n"
     ]
    },
    {
     "data": {
      "image/png": "[encoded data removed]",
      "text/latex": [
       "$\\displaystyle \\left(\\Gamma{}^{G_{0}}{}_{G_{3}\\mu}g{}_{G_{0}G_{2}}e{}_{L_{2}}{}^{G_{2}}\\eta{}^{L_{2}L_{3}}g{}^{G_{3}}{}_{G_{4}}e{}_{L_{4}}{}^{G_{4}}\\eta{}^{L_{4}L_{1}} + \\left(-1\\right)g{}^{G_{0}}{}_{G_{2}}e{}_{L_{2}}{}^{G_{2}}\\eta{}^{L_{2}L_{1}}\\frac{\\partial}{\\partial {x{}^{\\mu}}}{\\left(g{}_{G_{0}G_{1}}e{}_{L_{0}}{}^{G_{1}}\\eta{}^{L_{0}L_{3}}\\right)}\\right)\\sigma{}_{L_{3}L_{1}}$"
      ],
      "text/plain": [
       "⎛      G₀      G₂    L₂L₁  ∂ ⎛         G₁    L₀L₃⎞        G₀             G₂   \n",
       "⎜(-1)⋅g    ⋅e    ⋅eta    ⋅───⎜g    ⋅e    ⋅eta    ⎟ + Gamma     ⋅g    ⋅e    ⋅et\n",
       "⎜        G₂  L₂             μ⎝ G₀G₁  L₀          ⎠          G₃μ  G₀G₂  L₂     \n",
       "⎜                         ∂x                                                  \n",
       "⎝                                                                             \n",
       "\n",
       " L₂L₃  G₃      G₄    L₄L₁⎞          \n",
       "a    ⋅g    ⋅e    ⋅eta    ⎟⋅sigma    \n",
       "         G₄  L₄          ⎟      L₃L₁\n",
       "                         ⎟          \n",
       "                         ⎠          "
      ]
     },
     "execution_count": 98,
     "metadata": {},
     "output_type": "execute_result"
    }
   ],
   "source": [
    "omega_sigma = omega(-mu, a, b)*sigma(-a, -b)\n",
    "omega_sigma"
   ]
  },
  {
   "cell_type": "code",
   "execution_count": 99,
   "metadata": {},
   "outputs": [
    {
     "ename": "KeyboardInterrupt",
     "evalue": "",
     "output_type": "error",
     "traceback": [
      "\u001b[0;31m---------------------------------------------------------------------------\u001b[0m",
      "\u001b[0;31mKeyboardInterrupt\u001b[0m                         Traceback (most recent call last)",
      "Cell \u001b[0;32mIn[99], line 1\u001b[0m\n\u001b[0;32m----> 1\u001b[0m dv \u001b[39m=\u001b[39m Matrix(omega_sigma\u001b[39m.\u001b[39;49mreplace_with_arrays(repl, [mu])\u001b[39m.\u001b[39mtolist())\u001b[39m/\u001b[39m(\u001b[39m-\u001b[39m\u001b[39m2\u001b[39m\u001b[39m*\u001b[39mm_\u001b[39m*\u001b[39mI)\n\u001b[1;32m      2\u001b[0m dv \u001b[39m=\u001b[39m simplify(dv\u001b[39m.\u001b[39msubs(theta,pi\u001b[39m/\u001b[39m\u001b[39m2\u001b[39m))\n",
      "File \u001b[0;32m~/.var/app/com.visualstudio.code-oss/data/python/lib/python3.10/site-packages/sympy/tensor/tensor.py:2360\u001b[0m, in \u001b[0;36mTensExpr.replace_with_arrays\u001b[0;34m(self, replacement_dict, indices)\u001b[0m\n\u001b[1;32m   2353\u001b[0m     \u001b[39mif\u001b[39;00m \u001b[39mlen\u001b[39m(expected_shape) \u001b[39m!=\u001b[39m array\u001b[39m.\u001b[39mrank() \u001b[39mor\u001b[39;00m (\u001b[39mnot\u001b[39;00m \u001b[39mall\u001b[39m(dim1 \u001b[39m==\u001b[39m dim2 \u001b[39mif\u001b[39;00m\n\u001b[1;32m   2354\u001b[0m         dim1\u001b[39m.\u001b[39mis_number \u001b[39melse\u001b[39;00m \u001b[39mTrue\u001b[39;00m \u001b[39mfor\u001b[39;00m dim1, dim2 \u001b[39min\u001b[39;00m \u001b[39mzip\u001b[39m(expected_shape,\n\u001b[1;32m   2355\u001b[0m         array\u001b[39m.\u001b[39mshape))):\n\u001b[1;32m   2356\u001b[0m         \u001b[39mraise\u001b[39;00m \u001b[39mValueError\u001b[39;00m(\u001b[39m\"\u001b[39m\u001b[39mshapes for tensor \u001b[39m\u001b[39m%s\u001b[39;00m\u001b[39m expected to be \u001b[39m\u001b[39m%s\u001b[39;00m\u001b[39m, \u001b[39m\u001b[39m\"\u001b[39m\\\n\u001b[1;32m   2357\u001b[0m             \u001b[39m\"\u001b[39m\u001b[39mreplacement array shape is \u001b[39m\u001b[39m%s\u001b[39;00m\u001b[39m\"\u001b[39m \u001b[39m%\u001b[39m (tensor, expected_shape,\n\u001b[1;32m   2358\u001b[0m             array\u001b[39m.\u001b[39mshape))\n\u001b[0;32m-> 2360\u001b[0m ret_indices, array \u001b[39m=\u001b[39m \u001b[39mself\u001b[39;49m\u001b[39m.\u001b[39;49m_extract_data(replacement_dict)\n\u001b[1;32m   2362\u001b[0m last_indices, array \u001b[39m=\u001b[39m \u001b[39mself\u001b[39m\u001b[39m.\u001b[39m_match_indices_with_other_tensor(array, indices, ret_indices, replacement_dict)\n\u001b[1;32m   2363\u001b[0m \u001b[39mreturn\u001b[39;00m array\n",
      "File \u001b[0;32m~/.var/app/com.visualstudio.code-oss/data/python/lib/python3.10/site-packages/sympy/tensor/tensor.py:3973\u001b[0m, in \u001b[0;36mTensMul._extract_data\u001b[0;34m(self, replacement_dict)\u001b[0m\n\u001b[1;32m   3972\u001b[0m \u001b[39mdef\u001b[39;00m \u001b[39m_extract_data\u001b[39m(\u001b[39mself\u001b[39m, replacement_dict):\n\u001b[0;32m-> 3973\u001b[0m     args_indices, arrays \u001b[39m=\u001b[39m \u001b[39mzip\u001b[39m(\u001b[39m*\u001b[39m[arg\u001b[39m.\u001b[39m_extract_data(replacement_dict) \u001b[39mfor\u001b[39;00m arg \u001b[39min\u001b[39;00m \u001b[39mself\u001b[39m\u001b[39m.\u001b[39margs \u001b[39mif\u001b[39;00m \u001b[39misinstance\u001b[39m(arg, TensExpr)])\n\u001b[1;32m   3974\u001b[0m     coeff \u001b[39m=\u001b[39m reduce(operator\u001b[39m.\u001b[39mmul, [a \u001b[39mfor\u001b[39;00m a \u001b[39min\u001b[39;00m \u001b[39mself\u001b[39m\u001b[39m.\u001b[39margs \u001b[39mif\u001b[39;00m \u001b[39mnot\u001b[39;00m \u001b[39misinstance\u001b[39m(a, TensExpr)], S\u001b[39m.\u001b[39mOne)\n\u001b[1;32m   3975\u001b[0m     indices, free, free_names, dummy_data \u001b[39m=\u001b[39m TensMul\u001b[39m.\u001b[39m_indices_to_free_dum(args_indices)\n",
      "File \u001b[0;32m~/.var/app/com.visualstudio.code-oss/data/python/lib/python3.10/site-packages/sympy/tensor/tensor.py:3973\u001b[0m, in \u001b[0;36m<listcomp>\u001b[0;34m(.0)\u001b[0m\n\u001b[1;32m   3972\u001b[0m \u001b[39mdef\u001b[39;00m \u001b[39m_extract_data\u001b[39m(\u001b[39mself\u001b[39m, replacement_dict):\n\u001b[0;32m-> 3973\u001b[0m     args_indices, arrays \u001b[39m=\u001b[39m \u001b[39mzip\u001b[39m(\u001b[39m*\u001b[39m[arg\u001b[39m.\u001b[39;49m_extract_data(replacement_dict) \u001b[39mfor\u001b[39;00m arg \u001b[39min\u001b[39;00m \u001b[39mself\u001b[39m\u001b[39m.\u001b[39margs \u001b[39mif\u001b[39;00m \u001b[39misinstance\u001b[39m(arg, TensExpr)])\n\u001b[1;32m   3974\u001b[0m     coeff \u001b[39m=\u001b[39m reduce(operator\u001b[39m.\u001b[39mmul, [a \u001b[39mfor\u001b[39;00m a \u001b[39min\u001b[39;00m \u001b[39mself\u001b[39m\u001b[39m.\u001b[39margs \u001b[39mif\u001b[39;00m \u001b[39mnot\u001b[39;00m \u001b[39misinstance\u001b[39m(a, TensExpr)], S\u001b[39m.\u001b[39mOne)\n\u001b[1;32m   3975\u001b[0m     indices, free, free_names, dummy_data \u001b[39m=\u001b[39m TensMul\u001b[39m.\u001b[39m_indices_to_free_dum(args_indices)\n",
      "File \u001b[0;32m~/.var/app/com.visualstudio.code-oss/data/python/lib/python3.10/site-packages/sympy/tensor/tensor.py:2671\u001b[0m, in \u001b[0;36mTensAdd._extract_data\u001b[0;34m(self, replacement_dict)\u001b[0m\n\u001b[1;32m   2669\u001b[0m \u001b[39mdef\u001b[39;00m \u001b[39m_extract_data\u001b[39m(\u001b[39mself\u001b[39m, replacement_dict):\n\u001b[1;32m   2670\u001b[0m     \u001b[39mfrom\u001b[39;00m \u001b[39msympy\u001b[39;00m\u001b[39m.\u001b[39;00m\u001b[39mtensor\u001b[39;00m\u001b[39m.\u001b[39;00m\u001b[39marray\u001b[39;00m \u001b[39mimport\u001b[39;00m Array, permutedims\n\u001b[0;32m-> 2671\u001b[0m     args_indices, arrays \u001b[39m=\u001b[39m \u001b[39mzip\u001b[39m(\u001b[39m*\u001b[39m[\n\u001b[1;32m   2672\u001b[0m         arg\u001b[39m.\u001b[39m_extract_data(replacement_dict) \u001b[39mif\u001b[39;00m\n\u001b[1;32m   2673\u001b[0m         \u001b[39misinstance\u001b[39m(arg, TensExpr) \u001b[39melse\u001b[39;00m ([], arg) \u001b[39mfor\u001b[39;00m arg \u001b[39min\u001b[39;00m \u001b[39mself\u001b[39m\u001b[39m.\u001b[39margs\n\u001b[1;32m   2674\u001b[0m     ])\n\u001b[1;32m   2675\u001b[0m     arrays \u001b[39m=\u001b[39m [Array(i) \u001b[39mfor\u001b[39;00m i \u001b[39min\u001b[39;00m arrays]\n\u001b[1;32m   2676\u001b[0m     ref_indices \u001b[39m=\u001b[39m args_indices[\u001b[39m0\u001b[39m]\n",
      "File \u001b[0;32m~/.var/app/com.visualstudio.code-oss/data/python/lib/python3.10/site-packages/sympy/tensor/tensor.py:2672\u001b[0m, in \u001b[0;36m<listcomp>\u001b[0;34m(.0)\u001b[0m\n\u001b[1;32m   2669\u001b[0m \u001b[39mdef\u001b[39;00m \u001b[39m_extract_data\u001b[39m(\u001b[39mself\u001b[39m, replacement_dict):\n\u001b[1;32m   2670\u001b[0m     \u001b[39mfrom\u001b[39;00m \u001b[39msympy\u001b[39;00m\u001b[39m.\u001b[39;00m\u001b[39mtensor\u001b[39;00m\u001b[39m.\u001b[39;00m\u001b[39marray\u001b[39;00m \u001b[39mimport\u001b[39;00m Array, permutedims\n\u001b[1;32m   2671\u001b[0m     args_indices, arrays \u001b[39m=\u001b[39m \u001b[39mzip\u001b[39m(\u001b[39m*\u001b[39m[\n\u001b[0;32m-> 2672\u001b[0m         arg\u001b[39m.\u001b[39;49m_extract_data(replacement_dict) \u001b[39mif\u001b[39;00m\n\u001b[1;32m   2673\u001b[0m         \u001b[39misinstance\u001b[39m(arg, TensExpr) \u001b[39melse\u001b[39;00m ([], arg) \u001b[39mfor\u001b[39;00m arg \u001b[39min\u001b[39;00m \u001b[39mself\u001b[39m\u001b[39m.\u001b[39margs\n\u001b[1;32m   2674\u001b[0m     ])\n\u001b[1;32m   2675\u001b[0m     arrays \u001b[39m=\u001b[39m [Array(i) \u001b[39mfor\u001b[39;00m i \u001b[39min\u001b[39;00m arrays]\n\u001b[1;32m   2676\u001b[0m     ref_indices \u001b[39m=\u001b[39m args_indices[\u001b[39m0\u001b[39m]\n",
      "File \u001b[0;32m~/.var/app/com.visualstudio.code-oss/data/python/lib/python3.10/site-packages/sympy/tensor/tensor.py:3980\u001b[0m, in \u001b[0;36mTensMul._extract_data\u001b[0;34m(self, replacement_dict)\u001b[0m\n\u001b[1;32m   3978\u001b[0m free\u001b[39m.\u001b[39msort(key\u001b[39m=\u001b[39m\u001b[39mlambda\u001b[39;00m x: x[\u001b[39m1\u001b[39m])\n\u001b[1;32m   3979\u001b[0m free_indices \u001b[39m=\u001b[39m [i[\u001b[39m0\u001b[39m] \u001b[39mfor\u001b[39;00m i \u001b[39min\u001b[39;00m free]\n\u001b[0;32m-> 3980\u001b[0m \u001b[39mreturn\u001b[39;00m free_indices, coeff\u001b[39m*\u001b[39m_TensorDataLazyEvaluator\u001b[39m.\u001b[39;49mdata_contract_dum(arrays, dum, ext_rank)\n",
      "File \u001b[0;32m~/.var/app/com.visualstudio.code-oss/data/python/lib/python3.10/site-packages/sympy/tensor/tensor.py:536\u001b[0m, in \u001b[0;36m_TensorDataLazyEvaluator.data_contract_dum\u001b[0;34m(ndarray_list, dum, ext_rank)\u001b[0m\n\u001b[1;32m    534\u001b[0m \u001b[39mfrom\u001b[39;00m \u001b[39m.\u001b[39;00m\u001b[39marray\u001b[39;00m \u001b[39mimport\u001b[39;00m tensorproduct, tensorcontraction, MutableDenseNDimArray\n\u001b[1;32m    535\u001b[0m arrays \u001b[39m=\u001b[39m \u001b[39mlist\u001b[39m(\u001b[39mmap\u001b[39m(MutableDenseNDimArray, ndarray_list))\n\u001b[0;32m--> 536\u001b[0m prodarr \u001b[39m=\u001b[39m tensorproduct(\u001b[39m*\u001b[39;49marrays)\n\u001b[1;32m    537\u001b[0m \u001b[39mreturn\u001b[39;00m tensorcontraction(prodarr, \u001b[39m*\u001b[39mdum)\n",
      "File \u001b[0;32m~/.var/app/com.visualstudio.code-oss/data/python/lib/python3.10/site-packages/sympy/tensor/array/arrayop.py:73\u001b[0m, in \u001b[0;36mtensorproduct\u001b[0;34m(*args)\u001b[0m\n\u001b[1;32m     71\u001b[0m     \u001b[39mreturn\u001b[39;00m ArrayTensorProduct(\u001b[39m*\u001b[39margs)\n\u001b[1;32m     72\u001b[0m \u001b[39mif\u001b[39;00m \u001b[39mlen\u001b[39m(args) \u001b[39m>\u001b[39m \u001b[39m2\u001b[39m:\n\u001b[0;32m---> 73\u001b[0m     \u001b[39mreturn\u001b[39;00m tensorproduct(tensorproduct(args[\u001b[39m0\u001b[39;49m], args[\u001b[39m1\u001b[39;49m]), \u001b[39m*\u001b[39;49margs[\u001b[39m2\u001b[39;49m:])\n\u001b[1;32m     75\u001b[0m \u001b[39m# length of args is 2:\u001b[39;00m\n\u001b[1;32m     76\u001b[0m a, b \u001b[39m=\u001b[39m \u001b[39mmap\u001b[39m(_arrayfy, args)\n",
      "File \u001b[0;32m~/.var/app/com.visualstudio.code-oss/data/python/lib/python3.10/site-packages/sympy/tensor/array/arrayop.py:73\u001b[0m, in \u001b[0;36mtensorproduct\u001b[0;34m(*args)\u001b[0m\n\u001b[1;32m     71\u001b[0m     \u001b[39mreturn\u001b[39;00m ArrayTensorProduct(\u001b[39m*\u001b[39margs)\n\u001b[1;32m     72\u001b[0m \u001b[39mif\u001b[39;00m \u001b[39mlen\u001b[39m(args) \u001b[39m>\u001b[39m \u001b[39m2\u001b[39m:\n\u001b[0;32m---> 73\u001b[0m     \u001b[39mreturn\u001b[39;00m tensorproduct(tensorproduct(args[\u001b[39m0\u001b[39;49m], args[\u001b[39m1\u001b[39;49m]), \u001b[39m*\u001b[39;49margs[\u001b[39m2\u001b[39;49m:])\n\u001b[1;32m     75\u001b[0m \u001b[39m# length of args is 2:\u001b[39;00m\n\u001b[1;32m     76\u001b[0m a, b \u001b[39m=\u001b[39m \u001b[39mmap\u001b[39m(_arrayfy, args)\n",
      "    \u001b[0;31m[... skipping similar frames: tensorproduct at line 73 (2 times)]\u001b[0m\n",
      "File \u001b[0;32m~/.var/app/com.visualstudio.code-oss/data/python/lib/python3.10/site-packages/sympy/tensor/array/arrayop.py:73\u001b[0m, in \u001b[0;36mtensorproduct\u001b[0;34m(*args)\u001b[0m\n\u001b[1;32m     71\u001b[0m     \u001b[39mreturn\u001b[39;00m ArrayTensorProduct(\u001b[39m*\u001b[39margs)\n\u001b[1;32m     72\u001b[0m \u001b[39mif\u001b[39;00m \u001b[39mlen\u001b[39m(args) \u001b[39m>\u001b[39m \u001b[39m2\u001b[39m:\n\u001b[0;32m---> 73\u001b[0m     \u001b[39mreturn\u001b[39;00m tensorproduct(tensorproduct(args[\u001b[39m0\u001b[39;49m], args[\u001b[39m1\u001b[39;49m]), \u001b[39m*\u001b[39margs[\u001b[39m2\u001b[39m:])\n\u001b[1;32m     75\u001b[0m \u001b[39m# length of args is 2:\u001b[39;00m\n\u001b[1;32m     76\u001b[0m a, b \u001b[39m=\u001b[39m \u001b[39mmap\u001b[39m(_arrayfy, args)\n",
      "File \u001b[0;32m~/.var/app/com.visualstudio.code-oss/data/python/lib/python3.10/site-packages/sympy/tensor/array/arrayop.py:86\u001b[0m, in \u001b[0;36mtensorproduct\u001b[0;34m(*args)\u001b[0m\n\u001b[1;32m     83\u001b[0m     new_array \u001b[39m=\u001b[39m {k1\u001b[39m*\u001b[39mlp \u001b[39m+\u001b[39m k2: v1\u001b[39m*\u001b[39mv2 \u001b[39mfor\u001b[39;00m k1, v1 \u001b[39min\u001b[39;00m a\u001b[39m.\u001b[39m_sparse_array\u001b[39m.\u001b[39mitems() \u001b[39mfor\u001b[39;00m k2, v2 \u001b[39min\u001b[39;00m b\u001b[39m.\u001b[39m_sparse_array\u001b[39m.\u001b[39mitems()}\n\u001b[1;32m     84\u001b[0m     \u001b[39mreturn\u001b[39;00m ImmutableSparseNDimArray(new_array, a\u001b[39m.\u001b[39mshape \u001b[39m+\u001b[39m b\u001b[39m.\u001b[39mshape)\n\u001b[0;32m---> 86\u001b[0m product_list \u001b[39m=\u001b[39m [i\u001b[39m*\u001b[39mj \u001b[39mfor\u001b[39;00m i \u001b[39min\u001b[39;00m Flatten(a) \u001b[39mfor\u001b[39;00m j \u001b[39min\u001b[39;00m Flatten(b)]\n\u001b[1;32m     87\u001b[0m \u001b[39mreturn\u001b[39;00m ImmutableDenseNDimArray(product_list, a\u001b[39m.\u001b[39mshape \u001b[39m+\u001b[39m b\u001b[39m.\u001b[39mshape)\n",
      "File \u001b[0;32m~/.var/app/com.visualstudio.code-oss/data/python/lib/python3.10/site-packages/sympy/tensor/array/arrayop.py:86\u001b[0m, in \u001b[0;36m<listcomp>\u001b[0;34m(.0)\u001b[0m\n\u001b[1;32m     83\u001b[0m     new_array \u001b[39m=\u001b[39m {k1\u001b[39m*\u001b[39mlp \u001b[39m+\u001b[39m k2: v1\u001b[39m*\u001b[39mv2 \u001b[39mfor\u001b[39;00m k1, v1 \u001b[39min\u001b[39;00m a\u001b[39m.\u001b[39m_sparse_array\u001b[39m.\u001b[39mitems() \u001b[39mfor\u001b[39;00m k2, v2 \u001b[39min\u001b[39;00m b\u001b[39m.\u001b[39m_sparse_array\u001b[39m.\u001b[39mitems()}\n\u001b[1;32m     84\u001b[0m     \u001b[39mreturn\u001b[39;00m ImmutableSparseNDimArray(new_array, a\u001b[39m.\u001b[39mshape \u001b[39m+\u001b[39m b\u001b[39m.\u001b[39mshape)\n\u001b[0;32m---> 86\u001b[0m product_list \u001b[39m=\u001b[39m [i\u001b[39m*\u001b[39;49mj \u001b[39mfor\u001b[39;00m i \u001b[39min\u001b[39;00m Flatten(a) \u001b[39mfor\u001b[39;00m j \u001b[39min\u001b[39;00m Flatten(b)]\n\u001b[1;32m     87\u001b[0m \u001b[39mreturn\u001b[39;00m ImmutableDenseNDimArray(product_list, a\u001b[39m.\u001b[39mshape \u001b[39m+\u001b[39m b\u001b[39m.\u001b[39mshape)\n",
      "File \u001b[0;32m~/.var/app/com.visualstudio.code-oss/data/python/lib/python3.10/site-packages/sympy/core/numbers.py:2210\u001b[0m, in \u001b[0;36mInteger.__mul__\u001b[0;34m(self, other)\u001b[0m\n\u001b[1;32m   2208\u001b[0m     \u001b[39mreturn\u001b[39;00m Integer(\u001b[39mself\u001b[39m\u001b[39m.\u001b[39mp\u001b[39m*\u001b[39mother)\n\u001b[1;32m   2209\u001b[0m \u001b[39melif\u001b[39;00m \u001b[39misinstance\u001b[39m(other, Integer):\n\u001b[0;32m-> 2210\u001b[0m     \u001b[39mreturn\u001b[39;00m Integer(\u001b[39mself\u001b[39;49m\u001b[39m.\u001b[39;49mp\u001b[39m*\u001b[39;49mother\u001b[39m.\u001b[39;49mp)\n\u001b[1;32m   2211\u001b[0m \u001b[39melif\u001b[39;00m \u001b[39misinstance\u001b[39m(other, Rational):\n\u001b[1;32m   2212\u001b[0m     \u001b[39mreturn\u001b[39;00m Rational(\u001b[39mself\u001b[39m\u001b[39m.\u001b[39mp\u001b[39m*\u001b[39mother\u001b[39m.\u001b[39mp, other\u001b[39m.\u001b[39mq, igcd(\u001b[39mself\u001b[39m\u001b[39m.\u001b[39mp, other\u001b[39m.\u001b[39mq))\n",
      "File \u001b[0;32m~/.var/app/com.visualstudio.code-oss/data/python/lib/python3.10/site-packages/sympy/core/cache.py:72\u001b[0m, in \u001b[0;36m__cacheit.<locals>.func_wrapper.<locals>.wrapper\u001b[0;34m(*args, **kwargs)\u001b[0m\n\u001b[1;32m     69\u001b[0m \u001b[39m@wraps\u001b[39m(func)\n\u001b[1;32m     70\u001b[0m \u001b[39mdef\u001b[39;00m \u001b[39mwrapper\u001b[39m(\u001b[39m*\u001b[39margs, \u001b[39m*\u001b[39m\u001b[39m*\u001b[39mkwargs):\n\u001b[1;32m     71\u001b[0m     \u001b[39mtry\u001b[39;00m:\n\u001b[0;32m---> 72\u001b[0m         retval \u001b[39m=\u001b[39m cfunc(\u001b[39m*\u001b[39;49margs, \u001b[39m*\u001b[39;49m\u001b[39m*\u001b[39;49mkwargs)\n\u001b[1;32m     73\u001b[0m     \u001b[39mexcept\u001b[39;00m \u001b[39mTypeError\u001b[39;00m \u001b[39mas\u001b[39;00m e:\n\u001b[1;32m     74\u001b[0m         \u001b[39mif\u001b[39;00m \u001b[39mnot\u001b[39;00m e\u001b[39m.\u001b[39margs \u001b[39mor\u001b[39;00m \u001b[39mnot\u001b[39;00m e\u001b[39m.\u001b[39margs[\u001b[39m0\u001b[39m]\u001b[39m.\u001b[39mstartswith(\u001b[39m'\u001b[39m\u001b[39munhashable type:\u001b[39m\u001b[39m'\u001b[39m):\n",
      "\u001b[0;31mKeyboardInterrupt\u001b[0m: "
     ]
    }
   ],
   "source": [
    "\n",
    "dv = Matrix(omega_sigma.replace_with_arrays(repl, [mu]).tolist())/(-2*m_*I)\n",
    "dv = simplify(dv.subs(theta,pi/2))\n"
   ]
  },
  {
   "cell_type": "code",
   "execution_count": 52,
   "metadata": {},
   "outputs": [
    {
     "data": {
      "text/latex": [
       "$\\displaystyle \\left[\\begin{matrix}0\\\\0\\\\\\frac{- 2 r \\left(u_{r}^{2}{\\left(t,r,\\phi \\right)} + 1\\right) + r_{s}}{4 m r^{3} \\sqrt{u_{r}^{2}{\\left(t,r,\\phi \\right)} + 1}}\\\\0\\end{matrix}\\right]$"
      ],
      "text/plain": [
       "⎡              0              ⎤\n",
       "⎢                             ⎥\n",
       "⎢              0              ⎥\n",
       "⎢                             ⎥\n",
       "⎢      ⎛  2             ⎞     ⎥\n",
       "⎢- 2⋅r⋅⎝uᵣ (t, r, φ) + 1⎠ + rₛ⎥\n",
       "⎢─────────────────────────────⎥\n",
       "⎢           __________________⎥\n",
       "⎢      3   ╱   2              ⎥\n",
       "⎢ 4⋅m⋅r ⋅╲╱  uᵣ (t, r, φ) + 1 ⎥\n",
       "⎢                             ⎥\n",
       "⎣              0              ⎦"
      ]
     },
     "execution_count": 52,
     "metadata": {},
     "output_type": "execute_result"
    }
   ],
   "source": [
    "#taylor expansion in r_s\n",
    "simplify((dv.subs(r_s, 0) + dv.diff(r_s).subs(r_s, 0)*r_s).subs(sqrt(r**2), r).subs(theta,pi/2))"
   ]
  },
  {
   "cell_type": "code",
   "execution_count": 58,
   "metadata": {},
   "outputs": [
    {
     "data": {
      "text/latex": [
       "$\\displaystyle \\left[\\begin{matrix}0\\\\0\\\\- \\frac{\\sqrt{u_{r}^{2}{\\left(t,r,\\phi \\right)} + 1}}{2 m r^{2}}\\\\0\\end{matrix}\\right]$"
      ],
      "text/plain": [
       "⎡           0           ⎤\n",
       "⎢                       ⎥\n",
       "⎢           0           ⎥\n",
       "⎢                       ⎥\n",
       "⎢    __________________ ⎥\n",
       "⎢   ╱   2               ⎥\n",
       "⎢-╲╱  uᵣ (t, r, φ) + 1  ⎥\n",
       "⎢───────────────────────⎥\n",
       "⎢              2        ⎥\n",
       "⎢         2⋅m⋅r         ⎥\n",
       "⎢                       ⎥\n",
       "⎣           0           ⎦"
      ]
     },
     "execution_count": 58,
     "metadata": {},
     "output_type": "execute_result"
    }
   ],
   "source": [
    "simplify(dv.subs(r_s,0))"
   ]
  },
  {
   "cell_type": "code",
   "execution_count": 53,
   "metadata": {},
   "outputs": [
    {
     "data": {
      "image/png": "[encoded data removed]",
      "text/latex": [
       "$\\displaystyle \\Gamma{}^{\\mu}{}_{G_{1}G_{0}}u{}^{G_{0}}\\eta{}^{G_{1}}$"
      ],
      "text/plain": [
       "     μ      G₀    G₁\n",
       "Gamma     ⋅u  ⋅eta  \n",
       "      G₁G₀          "
      ]
     },
     "execution_count": 53,
     "metadata": {},
     "output_type": "execute_result"
    }
   ],
   "source": [
    "dv_ = simplify(dv.subs(r_s, 0).subs(sqrt(r**2), r)).subs(theta, pi/2)\n",
    "dv = TensorHead('eta', [Global])\n",
    "repl[dv(mu)] = (dv_.T).tolist()[0]\n",
    "\n",
    "Gamma(mu, -alpha, -beta)*u(beta)*dv(alpha)"
   ]
  },
  {
   "cell_type": "code",
   "execution_count": 54,
   "metadata": {},
   "outputs": [
    {
     "data": {
      "text/latex": [
       "$\\displaystyle \\left[\\begin{matrix}0 & 0 & 0 & 0\\end{matrix}\\right]$"
      ],
      "text/plain": [
       "[0  0  0  0]"
      ]
     },
     "execution_count": 54,
     "metadata": {},
     "output_type": "execute_result"
    }
   ],
   "source": [
    "du_dtau = Gamma(alpha, -nu, -mu)*u(nu)*u(mu)\n",
    "du_dtau.replace_with_arrays(repl,[alpha]).subs(r_s, 0).subs(theta, pi/2)"
   ]
  },
  {
   "cell_type": "code",
   "execution_count": null,
   "metadata": {},
   "outputs": [
    {
     "data": {
      "text/latex": [
       "$\\displaystyle \\left[\\begin{matrix}u_{t} & u_{r} & u_{\\theta} + \\frac{\\sqrt{1 - \\frac{r_{s}}{r}}}{4 m r^{2}} & u_{\\phi}\\end{matrix}\\right]$"
      ],
      "text/plain": [
       "⎡                       ________        ⎤\n",
       "⎢                      ╱     rₛ         ⎥\n",
       "⎢                     ╱  1 - ──         ⎥\n",
       "⎢                   ╲╱       r          ⎥\n",
       "⎢uₜ  uᵣ  u_\\theta + ────────────  u_\\phi⎥\n",
       "⎢                           2           ⎥\n",
       "⎣                      4⋅m⋅r            ⎦"
      ]
     },
     "execution_count": 150,
     "metadata": {},
     "output_type": "execute_result"
    }
   ],
   "source": [
    "v_local = dv_(mu)*E(-mu, a)\n",
    "j = Matrix(u.replace_with_arrays(repl, [a])) + Matrix(v_local.replace_with_arrays(repl, [a]))\n",
    "j_ = TensorHead(\"j\", [Lorentz])\n",
    "repl[j_(a)] = j.T.tolist()[0]\n",
    "result = j_(a)*E_inv(-a, mu)\n",
    "simplify(result.replace_with_arrays(repl, [mu]))"
   ]
  },
  {
   "cell_type": "code",
   "execution_count": null,
   "metadata": {},
   "outputs": [
    {
     "data": {
      "text/latex": [
       "$\\displaystyle \\left[\\begin{matrix}\\left[\\begin{matrix}0 & 0 & 0 & 0\\\\0 & 0 & 0 & 0\\\\0 & 0 & 0 & 0\\\\0 & 0 & 0 & 0\\end{matrix}\\right] & \\left[\\begin{matrix}0 & 0 & 0 & 0\\\\0 & 0 & 0 & 0\\\\0 & 0 & 0 & 0\\\\0 & 0 & 0 & 0\\end{matrix}\\right] & \\left[\\begin{matrix}0 & 0 & 0 & 0\\\\0 & 0 & 0 & 0\\\\0 & 0 & 0 & 0\\\\0 & 0 & 0 & 0\\end{matrix}\\right] & \\left[\\begin{matrix}0 & 0 & 0 & 0\\\\0 & 0 & 0 & 0\\\\0 & 0 & 0 & 0\\\\0 & 0 & 0 & 0\\end{matrix}\\right]\\\\\\left[\\begin{matrix}0 & 0 & 0 & 0\\\\0 & 0 & 0 & 0\\\\0 & 0 & 0 & 0\\\\0 & 0 & 0 & 0\\end{matrix}\\right] & \\left[\\begin{matrix}0 & 0 & 0 & 0\\\\0 & 0 & 0 & 0\\\\0 & 0 & 0 & 0\\\\0 & 0 & 0 & 0\\end{matrix}\\right] & \\left[\\begin{matrix}0 & 0 & 0 & 0\\\\0 & 0 & 0 & 0\\\\0 & 0 & 0 & 0\\\\0 & 0 & 0 & 0\\end{matrix}\\right] & \\left[\\begin{matrix}0 & 0 & 0 & 0\\\\0 & 0 & 0 & 0\\\\0 & 0 & 0 & 0\\\\0 & 0 & 0 & 0\\end{matrix}\\right]\\\\\\left[\\begin{matrix}0 & 0 & 0 & 0\\\\0 & 0 & 0 & 0\\\\0 & 0 & 0 & 0\\\\0 & 0 & 0 & 0\\end{matrix}\\right] & \\left[\\begin{matrix}0 & 0 & 0 & 0\\\\0 & 0 & 0 & 0\\\\0 & 0 & 0 & 0\\\\0 & 0 & 0 & 0\\end{matrix}\\right] & \\left[\\begin{matrix}0 & 0 & 0 & 0\\\\0 & 0 & 0 & 0\\\\0 & 0 & 0 & 0\\\\0 & 0 & 0 & 0\\end{matrix}\\right] & \\left[\\begin{matrix}0 & 0 & 0 & 0\\\\0 & 0 & 0 & 0\\\\0 & 0 & 0 & 0\\\\0 & 0 & 0 & 0\\end{matrix}\\right]\\\\\\left[\\begin{matrix}0 & 0 & 0 & 0\\\\0 & 0 & 0 & 0\\\\0 & 0 & 0 & 0\\\\0 & 0 & 0 & 0\\end{matrix}\\right] & \\left[\\begin{matrix}0 & 0 & 0 & 0\\\\0 & 0 & 0 & 0\\\\0 & 0 & 0 & 0\\\\0 & 0 & 0 & 0\\end{matrix}\\right] & \\left[\\begin{matrix}0 & 0 & 0 & 0\\\\0 & 0 & 0 & 0\\\\0 & 0 & 0 & 0\\\\0 & 0 & 0 & 0\\end{matrix}\\right] & \\left[\\begin{matrix}0 & 0 & 0 & 0\\\\0 & 0 & 0 & 0\\\\0 & 0 & 0 & 0\\\\0 & 0 & 0 & 0\\end{matrix}\\right]\\end{matrix}\\right]$"
      ],
      "text/plain": [
       "⎡⎡0  0  0  0⎤  ⎡0  0  0  0⎤  ⎡0  0  0  0⎤  ⎡0  0  0  0⎤⎤\n",
       "⎢⎢          ⎥  ⎢          ⎥  ⎢          ⎥  ⎢          ⎥⎥\n",
       "⎢⎢0  0  0  0⎥  ⎢0  0  0  0⎥  ⎢0  0  0  0⎥  ⎢0  0  0  0⎥⎥\n",
       "⎢⎢          ⎥  ⎢          ⎥  ⎢          ⎥  ⎢          ⎥⎥\n",
       "⎢⎢0  0  0  0⎥  ⎢0  0  0  0⎥  ⎢0  0  0  0⎥  ⎢0  0  0  0⎥⎥\n",
       "⎢⎢          ⎥  ⎢          ⎥  ⎢          ⎥  ⎢          ⎥⎥\n",
       "⎢⎣0  0  0  0⎦  ⎣0  0  0  0⎦  ⎣0  0  0  0⎦  ⎣0  0  0  0⎦⎥\n",
       "⎢                                                      ⎥\n",
       "⎢⎡0  0  0  0⎤  ⎡0  0  0  0⎤  ⎡0  0  0  0⎤  ⎡0  0  0  0⎤⎥\n",
       "⎢⎢          ⎥  ⎢          ⎥  ⎢          ⎥  ⎢          ⎥⎥\n",
       "⎢⎢0  0  0  0⎥  ⎢0  0  0  0⎥  ⎢0  0  0  0⎥  ⎢0  0  0  0⎥⎥\n",
       "⎢⎢          ⎥  ⎢          ⎥  ⎢          ⎥  ⎢          ⎥⎥\n",
       "⎢⎢0  0  0  0⎥  ⎢0  0  0  0⎥  ⎢0  0  0  0⎥  ⎢0  0  0  0⎥⎥\n",
       "⎢⎢          ⎥  ⎢          ⎥  ⎢          ⎥  ⎢          ⎥⎥\n",
       "⎢⎣0  0  0  0⎦  ⎣0  0  0  0⎦  ⎣0  0  0  0⎦  ⎣0  0  0  0⎦⎥\n",
       "⎢                                                      ⎥\n",
       "⎢⎡0  0  0  0⎤  ⎡0  0  0  0⎤  ⎡0  0  0  0⎤  ⎡0  0  0  0⎤⎥\n",
       "⎢⎢          ⎥  ⎢          ⎥  ⎢          ⎥  ⎢          ⎥⎥\n",
       "⎢⎢0  0  0  0⎥  ⎢0  0  0  0⎥  ⎢0  0  0  0⎥  ⎢0  0  0  0⎥⎥\n",
       "⎢⎢          ⎥  ⎢          ⎥  ⎢          ⎥  ⎢          ⎥⎥\n",
       "⎢⎢0  0  0  0⎥  ⎢0  0  0  0⎥  ⎢0  0  0  0⎥  ⎢0  0  0  0⎥⎥\n",
       "⎢⎢          ⎥  ⎢          ⎥  ⎢          ⎥  ⎢          ⎥⎥\n",
       "⎢⎣0  0  0  0⎦  ⎣0  0  0  0⎦  ⎣0  0  0  0⎦  ⎣0  0  0  0⎦⎥\n",
       "⎢                                                      ⎥\n",
       "⎢⎡0  0  0  0⎤  ⎡0  0  0  0⎤  ⎡0  0  0  0⎤  ⎡0  0  0  0⎤⎥\n",
       "⎢⎢          ⎥  ⎢          ⎥  ⎢          ⎥  ⎢          ⎥⎥\n",
       "⎢⎢0  0  0  0⎥  ⎢0  0  0  0⎥  ⎢0  0  0  0⎥  ⎢0  0  0  0⎥⎥\n",
       "⎢⎢          ⎥  ⎢          ⎥  ⎢          ⎥  ⎢          ⎥⎥\n",
       "⎢⎢0  0  0  0⎥  ⎢0  0  0  0⎥  ⎢0  0  0  0⎥  ⎢0  0  0  0⎥⎥\n",
       "⎢⎢          ⎥  ⎢          ⎥  ⎢          ⎥  ⎢          ⎥⎥\n",
       "⎣⎣0  0  0  0⎦  ⎣0  0  0  0⎦  ⎣0  0  0  0⎦  ⎣0  0  0  0⎦⎦"
      ]
     },
     "execution_count": 97,
     "metadata": {},
     "output_type": "execute_result"
    }
   ],
   "source": [
    "rieman = RiemannCurvatureTensor.from_metric(g_)\n",
    "rieman.tensor()"
   ]
  },
  {
   "cell_type": "code",
   "execution_count": null,
   "metadata": {},
   "outputs": [
    {
     "name": "stdout",
     "output_type": "stream",
     "text": [
      "(r**3*(r - r_s)*(u_\\theta**2 + u_phi**2*sin(theta)**2) + r**2*u_r**2 - u_t**2*(r - r_s)**2)/(r*(r - r_s))\n"
     ]
    }
   ],
   "source": [
    "u_2 = tensor_product(u,u.change_config('l'), 0,0)\n",
    "\n",
    "print(u_2.tensor())\n"
   ]
  },
  {
   "cell_type": "code",
   "execution_count": null,
   "metadata": {},
   "outputs": [
    {
     "name": "stdout",
     "output_type": "stream",
     "text": [
      "[-sqrt(r*(r**3*u_\\theta**2 + r**3*u_phi**2*sin(theta)**2 - r**2*r_s*u_\\theta**2 - r**2*r_s*u_phi**2*sin(theta)**2 + r*u_r**2 + r - r_s))/(r - r_s), sqrt(r*(r**3*u_\\theta**2 + r**3*u_phi**2*sin(theta)**2 - r**2*r_s*u_\\theta**2 - r**2*r_s*u_phi**2*sin(theta)**2 + r*u_r**2 + r - r_s))/(r - r_s)]\n"
     ]
    }
   ],
   "source": [
    "u_2_expr = (r**3*(r - r_s)*(u_theta**2 + u_phi**2*sin(theta)**2) + r**2*u_r**2 - u_t**2*(r - r_s)**2)/(r*(r - r_s))\n",
    "print(solve(u_2_expr + 1, u_t))"
   ]
  },
  {
   "cell_type": "code",
   "execution_count": null,
   "metadata": {},
   "outputs": [
    {
     "ename": "NameError",
     "evalue": "name 'sigma' is not defined",
     "output_type": "error",
     "traceback": [
      "\u001b[0;31m---------------------------------------------------------------------------\u001b[0m",
      "\u001b[0;31mNameError\u001b[0m                                 Traceback (most recent call last)",
      "Cell \u001b[0;32mIn[35], line 2\u001b[0m\n\u001b[1;32m      1\u001b[0m rieman \u001b[39m=\u001b[39m RiemannCurvatureTensor\u001b[39m.\u001b[39mfrom_metric(g_)\n\u001b[0;32m----> 2\u001b[0m sig \u001b[39m=\u001b[39m BaseRelativityTensor(sigma,syms\u001b[39m=\u001b[39m[t,r,theta,phi], config\u001b[39m=\u001b[39m\u001b[39m\"\u001b[39m\u001b[39muu\u001b[39m\u001b[39m\"\u001b[39m, name\u001b[39m=\u001b[39m\u001b[39m\"\u001b[39m\u001b[39msigma\u001b[39m\u001b[39m\"\u001b[39m, parent_metric\u001b[39m=\u001b[39mm)\n\u001b[1;32m      3\u001b[0m sig\u001b[39m.\u001b[39mtensor()\n",
      "\u001b[0;31mNameError\u001b[0m: name 'sigma' is not defined"
     ]
    }
   ],
   "source": [
    "rieman = RiemannCurvatureTensor.from_metric(g_)\n",
    "sig = BaseRelativityTensor(sigma,syms=[t,r,theta,phi], config=\"uu\", name=\"sigma\", parent_metric=m)\n",
    "sig.tensor()"
   ]
  },
  {
   "cell_type": "code",
   "execution_count": null,
   "metadata": {},
   "outputs": [],
   "source": [
    "\n",
    "contraction = tensorcontraction(tensor_product(tensor_product(rieman.change_config(\"llll\"),u, 1,0),sig,1,0,).tensor(),(1,2))\n",
    "#contraction.tensor()"
   ]
  },
  {
   "cell_type": "code",
   "execution_count": null,
   "metadata": {},
   "outputs": [],
   "source": [
    "a = GenericVector(contraction.subs(f,1-r_s),syms=[t,r,theta,phi], config='l', name=\"acceleration\", parent_metric=m)"
   ]
  },
  {
   "cell_type": "code",
   "execution_count": null,
   "metadata": {},
   "outputs": [
    {
     "name": "stdout",
     "output_type": "stream",
     "text": [
      "[0, -r_s*u_\\theta*sqrt(1 - r_s)/r**2, r_s*u_r*sqrt(1 - r_s)/(r**3*(r - r_s)), 0]\n"
     ]
    }
   ],
   "source": [
    "a = a.change_config('u')\n",
    "print(a.tensor())"
   ]
  },
  {
   "cell_type": "code",
   "execution_count": null,
   "metadata": {},
   "outputs": [
    {
     "data": {
      "image/png": "[encoded data removed]",
      "text/latex": [
       "$\\displaystyle 0.784757820998493$"
      ],
      "text/plain": [
       "0.7847578209984931"
      ]
     },
     "execution_count": 34,
     "metadata": {},
     "output_type": "execute_result"
    }
   ],
   "source": [
    "R = 6371\n",
    "l = 100\n",
    "\n",
    "x = np.sqrt(R**2 + l**2) - R\n",
    "x"
   ]
  },
  {
   "cell_type": "code",
   "execution_count": null,
   "metadata": {},
   "outputs": [
    {
     "data": {
      "image/png": "[encoded data removed]",
      "text/latex": [
       "$\\displaystyle 10131712.2593718$"
      ],
      "text/plain": [
       "10131712.259371834"
      ]
     },
     "execution_count": 51,
     "metadata": {},
     "output_type": "execute_result"
    }
   ],
   "source": [
    "2/3 * 1E-8 / 6.58E-16"
   ]
  },
  {
   "cell_type": "code",
   "execution_count": null,
   "metadata": {},
   "outputs": [
    {
     "data": {
      "image/png": "[encoded data removed]",
      "text/latex": [
       "$\\displaystyle 1.0$"
      ],
      "text/plain": [
       "1.0"
      ]
     },
     "execution_count": 25,
     "metadata": {},
     "output_type": "execute_result"
    }
   ],
   "source": [
    "E = 2.4*1E6\n",
    "m = 1.5E-6\n",
    "\n",
    "alpha = E**2/m**2\n",
    "\n",
    "\n",
    "\n",
    "beta = np.sqrt((alpha-1)/(alpha+2))\n",
    "beta"
   ]
  }
 ],
 "metadata": {
  "kernelspec": {
   "display_name": "Python 3",
   "language": "python",
   "name": "python3"
  },
  "language_info": {
   "codemirror_mode": {
    "name": "ipython",
    "version": 3
   },
   "file_extension": ".py",
   "mimetype": "text/x-python",
   "name": "python",
   "nbconvert_exporter": "python",
   "pygments_lexer": "ipython3",
   "version": "3.10.13"
  },
  "vscode": {
   "interpreter": {
    "hash": "d2152fd7f0bbc62aa1baff8c990435d1e2c7175d001561303988032604c11a48"
   }
  }
 },
 "nbformat": 4,
 "nbformat_minor": 2
}
