{
 "cells": [
  {
   "cell_type": "code",
   "execution_count": 408,
   "metadata": {},
   "outputs": [
    {
     "data": {
      "image/png": "[encoded data removed]",
      "text/latex": [
       "$\\displaystyle \\left( f, \\  r, \\  \\theta, \\  \\phi, \\  \\hbar\\right)$"
      ],
      "text/plain": [
       "(f, r, θ, φ, h̅)"
      ]
     },
     "execution_count": 408,
     "metadata": {},
     "output_type": "execute_result"
    }
   ],
   "source": [
    "from sympy import *\n",
    "from sympy.physics.hep.gamma_matrices import GammaMatrix as G, LorentzIndex, gamma_trace\n",
    "from sympy.tensor.tensor import tensor_indices\n",
    "from sympy.physics.hep.gamma_matrices import kahane_simplify\n",
    "from sympy.physics.matrices import mgamma\n",
    "from einsteinpy.symbolic.predefined import Schwarzschild \n",
    "from einsteinpy.symbolic import ChristoffelSymbols, RiemannCurvatureTensor, Tensor, BaseRelativityTensor, GenericVector, MetricTensor\n",
    "from sympy.tensor.toperators import PartialDerivative\n",
    "from sympy.tensor.tensor import TensorIndexType, TensorIndex, TensorHead, tensor_indices\n",
    "import numpy as np\n",
    "from fractions import Fraction\n",
    "\n",
    "#i,j = tensor_indices('i,j', LorentzIndex)\n",
    "init_printing(use_unicode=True)\n",
    "f, theta, phi, u_0, t, c, hbar, m_ = symbols(\"f theta phi u_0 t c hbar m\", real=True)\n",
    "\n",
    "\n",
    "r = symbols(\"r\", positive=True)\n",
    "r_s,M ,R= symbols(\"r_s M R\")\n",
    "u_t , u_r , u_theta, u_phi = symbols(\"u_t u_r u_\\\\theta u_\\phi\", cls=Function)\n",
    "\n",
    "u_t , u_x , u_y, u_z = symbols(\"u_t u_x u_y u_z\")\n",
    "\n",
    "Lorentz = TensorIndexType('Lorentz', dummy_name='Lorentz')\n",
    "Global = TensorIndexType('Global', dummy_name='Global')\n",
    "Fermi = TensorIndexType('Fermi', dummy_name='Fermi')\n",
    "Dirac = TensorIndexType('Dirac', dummy_name=\"Dirac\")\n",
    "\n",
    "a, b, c, d = tensor_indices('a b c d', Lorentz)\n",
    "beta, mu, nu, rho, delta= tensor_indices(' beta mu nu rho delta', Global)\n",
    "i,j,k,l,m = tensor_indices(\"i j k l m\", Fermi)\n",
    "A,B,C,D,E = tensor_indices(\"A B C D E\", Dirac)\n",
    "\n",
    "\n",
    "Energy = Symbol(\"E\", positive=True)\n",
    "L = Symbol(\"L\", positive=True) #anuglar momentum\n",
    "x_,y_,z_ = symbols(\"x y z\")\n",
    "\n",
    "f,r,theta, phi, hbar"
   ]
  },
  {
   "cell_type": "code",
   "execution_count": 385,
   "metadata": {},
   "outputs": [],
   "source": [
    "kappa = Symbol(\"kappa\")"
   ]
  },
  {
   "cell_type": "code",
   "execution_count": 389,
   "metadata": {},
   "outputs": [
    {
     "data": {
      "text/latex": [
       "$\\displaystyle \\left[\\begin{matrix}\\left[\\begin{matrix}0 & 0 & 0 & 0\\\\0 & 0 & 0 & 0\\\\0 & 0 & 0 & 0\\\\0 & 0 & 0 & 0\\end{matrix}\\right] & \\left[\\begin{matrix}0 & 0 & 0 & 0\\\\0 & 0 & \\frac{\\kappa}{2 \\kappa y + 1} & 0\\\\0 & \\frac{\\kappa}{2 \\kappa y + 1} & 0 & 0\\\\0 & 0 & 0 & 0\\end{matrix}\\right] & \\left[\\begin{matrix}0 & 0 & 0 & 0\\\\0 & - \\kappa & 0 & 0\\\\0 & 0 & 0 & 0\\\\0 & 0 & 0 & 0\\end{matrix}\\right] & \\left[\\begin{matrix}0 & 0 & 0 & 0\\\\0 & 0 & 0 & 0\\\\0 & 0 & 0 & 0\\\\0 & 0 & 0 & 0\\end{matrix}\\right]\\end{matrix}\\right]$"
      ],
      "text/plain": [
       "⎡              ⎡0      0          0      0⎤                             ⎤\n",
       "⎢              ⎢                          ⎥                             ⎥\n",
       "⎢⎡0  0  0  0⎤  ⎢                  κ       ⎥  ⎡0  0   0  0⎤  ⎡0  0  0  0⎤⎥\n",
       "⎢⎢          ⎥  ⎢0      0      ─────────  0⎥  ⎢           ⎥  ⎢          ⎥⎥\n",
       "⎢⎢0  0  0  0⎥  ⎢              2⋅κ⋅y + 1   ⎥  ⎢0  -κ  0  0⎥  ⎢0  0  0  0⎥⎥\n",
       "⎢⎢          ⎥  ⎢                          ⎥  ⎢           ⎥  ⎢          ⎥⎥\n",
       "⎢⎢0  0  0  0⎥  ⎢       κ                  ⎥  ⎢0  0   0  0⎥  ⎢0  0  0  0⎥⎥\n",
       "⎢⎢          ⎥  ⎢0  ─────────      0      0⎥  ⎢           ⎥  ⎢          ⎥⎥\n",
       "⎢⎣0  0  0  0⎦  ⎢   2⋅κ⋅y + 1              ⎥  ⎣0  0   0  0⎦  ⎣0  0  0  0⎦⎥\n",
       "⎢              ⎢                          ⎥                             ⎥\n",
       "⎣              ⎣0      0          0      0⎦                             ⎦"
      ]
     },
     "execution_count": 389,
     "metadata": {},
     "output_type": "execute_result"
    }
   ],
   "source": [
    "#f = (1-(2*M)/r)\n",
    "#g_t = -f\n",
    "#g_r = 1/f\n",
    "#g_theta = r**2\n",
    "#g_phi = r**2 * sin(theta)**2\n",
    "\n",
    "#g = Matrix([[g_t, 0,0,0],[0,g_r,0,0],[0,0,g_theta,0],[0,0,0,g_phi]])\n",
    "\n",
    "g = Matrix([[-1,0,0,0],[0, 1+ 2*kappa*y_,0,0],[0,0,1,0],[0,0,0,1]])\n",
    "\n",
    "g_ = MetricTensor(g.tolist(),syms=[t,x_,y_,z_], config='ll', name=\"parabolic-metric\") \n",
    "ch = ChristoffelSymbols.from_metric(g_)\n",
    "ch = ch.change_config(\"ull\")\n",
    "ch.tensor()"
   ]
  },
  {
   "cell_type": "code",
   "execution_count": 341,
   "metadata": {},
   "outputs": [
    {
     "data": {
      "image/png": "[encoded data removed]",
      "text/latex": [
       "$\\displaystyle \\frac{r \\sqrt{2 E + 1}}{- 2 M + r}$"
      ],
      "text/plain": [
       "    _________\n",
       "r⋅╲╱ 2⋅E + 1 \n",
       "─────────────\n",
       "   -2⋅M + r  "
      ]
     },
     "execution_count": 341,
     "metadata": {},
     "output_type": "execute_result"
    }
   ],
   "source": [
    "u_r = - sqrt(2*Energy +  2*M/r - L**2/r**2 + 2*M*L**2/r**3)\n",
    "u_phi = L/r**2\n",
    "u_t = Symbol(\"u_t\")\n",
    "\n",
    "expr = - u_t**2 *f  + u_r**2 / f + u_phi**2  * r**2\n",
    "\n",
    "expr = expr.subs(r_s, 2*M)\n",
    "\n",
    "u_t = solve(expr+1, u_t)[0] \n",
    "u_t"
   ]
  },
  {
   "cell_type": "code",
   "execution_count": 593,
   "metadata": {},
   "outputs": [
    {
     "data": {
      "text/latex": [
       "$\\displaystyle \\left[\\begin{matrix}0 & 0 & 0 & 0\\\\0 & 0 & - \\sqrt{2 \\kappa y + 1} & 0\\\\0 & \\sqrt{2 \\kappa y + 1} & 0 & 0\\\\0 & 0 & 0 & 0\\end{matrix}\\right]$"
      ],
      "text/plain": [
       "⎡0        0              0         0⎤\n",
       "⎢                                   ⎥\n",
       "⎢                     ___________   ⎥\n",
       "⎢0        0        -╲╱ 2⋅κ⋅y + 1   0⎥\n",
       "⎢                                   ⎥\n",
       "⎢     ___________                   ⎥\n",
       "⎢0  ╲╱ 2⋅κ⋅y + 1         0         0⎥\n",
       "⎢                                   ⎥\n",
       "⎣0        0              0         0⎦"
      ]
     },
     "execution_count": 593,
     "metadata": {},
     "output_type": "execute_result"
    }
   ],
   "source": [
    "#defining Killing-Yano tensor \"Matrix\"\n",
    "\n",
    "f,g = symbols(\"f, g\", cls=Function)\n",
    "c = symbols(\"c\")\n",
    "#g = sinh(x_ * sqrt(c))*exp(-c*kappa/3 * y_)\n",
    "\n",
    "#f = f(y_)\n",
    "\n",
    "#s = f(x_)*g(y_)\n",
    "\n",
    "#f = - diff(s,x_)/kappa\n",
    "\n",
    "f = f(y_)\n",
    "f = sqrt(2*kappa*y_ + 1)\n",
    "\n",
    "f_ = Matrix(\n",
    "    [\n",
    "        [0,0,0,0],\n",
    "        [0,0,-f,0],\n",
    "        [0,+f,0,0],\n",
    "        [0,0,0,0]])\n",
    "f_"
   ]
  },
  {
   "cell_type": "code",
   "execution_count": 594,
   "metadata": {},
   "outputs": [],
   "source": [
    "#from matrix to tensors\n",
    "\n",
    "eta = Matrix([[-1,0,0,0],[0,1,0,0],[0,0,1,0],[0,0,0,1]])\n",
    "\n",
    "repl = {}\n",
    "repl[Lorentz] = eta.tolist()\n",
    "repl[Global] = g_.tensor().tolist()\n",
    "repl[Fermi] = eta.tolist() #this only correct along the geodesic\n",
    "\n",
    "Gamma = TensorHead('Gamma', [Global, Global, Global]) #the christoffel symbol\n",
    "minkowski_m = TensorHead('eta', [Lorentz, Lorentz])\n",
    "schwarzschild_m = TensorHead('g', [Global, Global])\n",
    "KY = TensorHead(\"f\", [Global, Global]) #Killin-Yano tensor\n",
    "x = TensorHead('x', [Global])\n",
    "\n",
    "#repl[x(mu)] = [t, r, theta, phi]\n",
    "repl[x(mu)] = [t, x_, y_, z_]\n",
    "repl[minkowski_m(-a, -b)] = eta.tolist()\n",
    "repl[schwarzschild_m(-mu, -nu)] = g_.tensor().tolist()\n",
    "repl[Gamma(rho, -mu, -nu)] = ch.tensor().tolist()\n",
    "repl[KY(-mu, -nu)] = f_.tolist()\n",
    "\n",
    "u = TensorHead('u', [Global])\n",
    "#repl[u(mu)] = [u_t, u_r, 0 ,u_phi]\n",
    "repl[u(mu)] = [u_t, u_x, u_y ,u_z]\n"
   ]
  },
  {
   "cell_type": "code",
   "execution_count": 595,
   "metadata": {},
   "outputs": [
    {
     "data": {
      "text/latex": [
       "$\\displaystyle \\left[\\begin{matrix}0 & \\frac{2 \\kappa u_{x} u_{y}}{2 \\kappa y + 1} & - \\kappa u_{x}^{2} & 0\\end{matrix}\\right]$"
      ],
      "text/plain": [
       "⎡   2⋅κ⋅uₓ⋅u_y       2   ⎤\n",
       "⎢0  ──────────  -κ⋅uₓ   0⎥\n",
       "⎣   2⋅κ⋅y + 1            ⎦"
      ]
     },
     "execution_count": 595,
     "metadata": {},
     "output_type": "execute_result"
    }
   ],
   "source": [
    "du = Gamma(rho,-mu, -nu)*u(mu)*u(nu)\n",
    "simplify(du.replace_with_arrays(repl, du.get_free_indices()))"
   ]
  },
  {
   "attachments": {},
   "cell_type": "markdown",
   "metadata": {},
   "source": [
    "# verifying Killing-eq\n",
    "\n",
    "$$\\nabla_{\\rho} f_{\\mu \\nu} + \\nabla_{\\nu} f_{\\mu \\rho} = 0$$\n",
    "$$\\partial_{\\rho} f_{\\mu \\nu} + \\partial_{\\nu} f_{\\mu \\rho} - \\Gamma^\\alpha_{\\rho \\mu}f_{\\alpha \\nu} - \\Gamma^\\alpha_{\\nu \\mu}f_{\\alpha \\rho} - 2*\\Gamma^\\alpha_{\\rho \\nu}f_{\\mu \\alpha} = 0$$"
   ]
  },
  {
   "cell_type": "code",
   "execution_count": 596,
   "metadata": {},
   "outputs": [
    {
     "data": {
      "text/latex": [
       "$\\displaystyle \\left[\\begin{matrix}\\left[\\begin{matrix}0 & 0 & 0 & 0\\\\0 & 0 & 0 & 0\\\\0 & 0 & 0 & 0\\\\0 & 0 & 0 & 0\\end{matrix}\\right] & \\left[\\begin{matrix}0 & 0 & 0 & 0\\\\0 & 0 & 0 & 0\\\\0 & 0 & 0 & 0\\\\0 & 0 & 0 & 0\\end{matrix}\\right] & \\left[\\begin{matrix}0 & 0 & 0 & 0\\\\0 & 0 & 0 & 0\\\\0 & 0 & 0 & 0\\\\0 & 0 & 0 & 0\\end{matrix}\\right] & \\left[\\begin{matrix}0 & 0 & 0 & 0\\\\0 & 0 & 0 & 0\\\\0 & 0 & 0 & 0\\\\0 & 0 & 0 & 0\\end{matrix}\\right]\\end{matrix}\\right]$"
      ],
      "text/plain": [
       "⎡⎡0  0  0  0⎤  ⎡0  0  0  0⎤  ⎡0  0  0  0⎤  ⎡0  0  0  0⎤⎤\n",
       "⎢⎢          ⎥  ⎢          ⎥  ⎢          ⎥  ⎢          ⎥⎥\n",
       "⎢⎢0  0  0  0⎥  ⎢0  0  0  0⎥  ⎢0  0  0  0⎥  ⎢0  0  0  0⎥⎥\n",
       "⎢⎢          ⎥  ⎢          ⎥  ⎢          ⎥  ⎢          ⎥⎥\n",
       "⎢⎢0  0  0  0⎥  ⎢0  0  0  0⎥  ⎢0  0  0  0⎥  ⎢0  0  0  0⎥⎥\n",
       "⎢⎢          ⎥  ⎢          ⎥  ⎢          ⎥  ⎢          ⎥⎥\n",
       "⎣⎣0  0  0  0⎦  ⎣0  0  0  0⎦  ⎣0  0  0  0⎦  ⎣0  0  0  0⎦⎦"
      ]
     },
     "execution_count": 596,
     "metadata": {},
     "output_type": "execute_result"
    }
   ],
   "source": [
    "Keq = PartialDerivative(KY(-mu, -nu), x(rho)) + PartialDerivative(KY(-mu, -rho), x(nu)) - Gamma(delta,-rho,-mu)*KY(-delta,-nu) - Gamma(delta, -nu, -mu)*KY(-delta, -rho) + 2*Gamma(delta,-rho,-nu)*KY(-delta,-mu) \n",
    "simplify(Keq.replace_with_arrays(repl, Keq.get_free_indices()))"
   ]
  },
  {
   "attachments": {},
   "cell_type": "markdown",
   "metadata": {},
   "source": [
    "# finding first tetraed\n",
    "\n",
    "$L^\\mu = f^\\mu_{\\ \\ \\ \\nu} u^\\nu$"
   ]
  },
  {
   "cell_type": "code",
   "execution_count": 345,
   "metadata": {},
   "outputs": [
    {
     "name": "stderr",
     "output_type": "stream",
     "text": [
      "/tmp/ipykernel_104796/1606551967.py:4: SymPyDeprecationWarning: \n",
      "\n",
      "Calling a tensor like Tensor(*indices) is deprecated. Use\n",
      "Tensor.substitute_indices() instead.\n",
      "\n",
      "See https://docs.sympy.org/latest/explanation/active-deprecations.html#deprecated-tensor-fun-eval\n",
      "for details.\n",
      "\n",
      "This has been deprecated since SymPy version 1.5. It\n",
      "will be removed in a future version of SymPy.\n",
      "\n",
      "  Norm_L = L(alpha)*L(-alpha)\n"
     ]
    },
    {
     "data": {
      "text/latex": [
       "$\\displaystyle \\left[\\begin{matrix}0 & 0 & \\frac{1}{r} & 0\\end{matrix}\\right]$"
      ],
      "text/plain": [
       "⎡      1   ⎤\n",
       "⎢0  0  ─  0⎥\n",
       "⎣      r   ⎦"
      ]
     },
     "execution_count": 345,
     "metadata": {},
     "output_type": "execute_result"
    }
   ],
   "source": [
    "\n",
    "L = KY(mu,-nu)*u(nu)\n",
    "Norm_L = L(alpha)*L(-alpha)\n",
    "Norm_value = Norm_L.replace_with_arrays(repl, [])\n",
    "#therefore\n",
    "e_2 = L/sqrt(Norm_value)\n",
    "simplify(e_2.replace_with_arrays(repl, [mu])).subs(theta, pi/2)"
   ]
  },
  {
   "cell_type": "code",
   "execution_count": 346,
   "metadata": {},
   "outputs": [],
   "source": [
    "e_1 = TensorHead('e_1', [Global])\n",
    "e_3 = TensorHead('e_3', [Global])\n",
    "L = Symbol(\"L\", positive=True) #anuglar momentum\n",
    "const = (r**2 + L**2)/(r**2 * L)\n",
    "\n",
    "N_1 = sqrt(1+ L**2/r**2)\n",
    "N_3 = sqrt(1 + r**2/L**2)\n",
    "\n",
    "\n",
    "repl[e_1(mu)] = [u_r/(f*N_1), u_t*f/N_1, 0,0]\n",
    "repl[e_3(mu)] = [u_t/N_3, u_r/N_3, 0,const/N_3]\n"
   ]
  },
  {
   "attachments": {},
   "cell_type": "markdown",
   "metadata": {},
   "source": [
    "$$u^\\mu \\partial_\\mu \\Psi = u^\\mu\\left(-e_3^\\nu \\partial_\\mu e_{1\\nu} + e_3^\\nu \\Gamma^\\alpha_{\\mu\\nu}e_{1\\alpha}\\right)$$"
   ]
  },
  {
   "cell_type": "code",
   "execution_count": 347,
   "metadata": {},
   "outputs": [],
   "source": [
    "expr = u(mu)*(-e_1(nu)*PartialDerivative(e_3(-nu), x(mu)) + e_1(nu)*Gamma(alpha, -nu, -mu)*e_3(-alpha))\n",
    "F = simplify(expr.replace_with_arrays(repl, []).subs(r_s, 2*M).subs(theta, pi/2).subs(u_phi, L/r**2)/u_r)"
   ]
  },
  {
   "cell_type": "code",
   "execution_count": 348,
   "metadata": {},
   "outputs": [],
   "source": [
    "F = simplify(F.subs(theta,pi/2))"
   ]
  },
  {
   "cell_type": "code",
   "execution_count": 349,
   "metadata": {},
   "outputs": [
    {
     "data": {
      "image/png": "[encoded data removed]",
      "text/latex": [
       "$\\displaystyle 0$"
      ],
      "text/plain": [
       "0"
      ]
     },
     "execution_count": 349,
     "metadata": {},
     "output_type": "execute_result"
    }
   ],
   "source": [
    "simplify(F.subs(L,0))"
   ]
  },
  {
   "cell_type": "code",
   "execution_count": 350,
   "metadata": {},
   "outputs": [],
   "source": [
    "u_val = u(mu).replace_with_arrays(repl, [mu])\n",
    "e_1_val = e_1(mu).replace_with_arrays(repl, [mu])\n",
    "e_2_val = [0,0,1/r,0]\n",
    "e_3_val = e_3(mu).replace_with_arrays(repl,[mu])\n"
   ]
  },
  {
   "cell_type": "code",
   "execution_count": 351,
   "metadata": {},
   "outputs": [],
   "source": [
    "#defining the vierbein\n",
    "tetraed = TensorHead(\"e\", [Fermi, Global])\n",
    "\n",
    "psi = symbols(\"Psi\", cls=Function)\n",
    "psi = psi(r)\n",
    "\n",
    "repl[tetraed(-i, mu)] = [\n",
    "    u_val.tolist(),\n",
    "    (e_1_val*cos(psi) - e_3_val*sin(psi)).tolist(),\n",
    "    e_2_val,\n",
    "    (e_3_val*sin(psi) + e_3_val*cos(psi)).tolist()\n",
    "]"
   ]
  },
  {
   "cell_type": "code",
   "execution_count": 352,
   "metadata": {},
   "outputs": [],
   "source": [
    "Riemann = TensorHead(\"R\", [Global, Global, Global, Global])\n",
    "rieman = RiemannCurvatureTensor.from_metric(g_)\n",
    "rieman.tensor()\n",
    "\n",
    "repl[Riemann(-mu, -nu, -rho, -delta)] = rieman.change_config('llll').tensor().tolist()\n"
   ]
  },
  {
   "cell_type": "code",
   "execution_count": 231,
   "metadata": {},
   "outputs": [],
   "source": [
    "R_in_fermi = Riemann(-mu,-nu,-rho, -delta)*tetraed(-i,mu)*tetraed(-j,nu)*tetraed(-k,rho)*tetraed(-l,delta)\n",
    "R_in_fermi = R_in_fermi.replace_with_arrays(repl, [-i,-j,-k,-l])"
   ]
  },
  {
   "cell_type": "code",
   "execution_count": 253,
   "metadata": {},
   "outputs": [],
   "source": [
    "Fermi_spacial = TensorIndexType('Fermi_spacial', dummy_name='Fermi_S')\n",
    "iS,jS,kS,lS,mS = tensor_indices(\"i j k l m\", Fermi_spacial)\n",
    "\n",
    "\n",
    "\n",
    "x = TensorHead('x', [Fermi_spacial])\n",
    "gamma = TensorHead(\"gamma\", [Fermi_spacial, Dirac, Dirac])\n",
    "\n",
    "R_1 = TensorHead(\"Rie\", [Fermi_spacial, Fermi_spacial])\n",
    "R_2 = TensorHead(\"Rie\", [Fermi_spacial, Fermi_spacial, Fermi_spacial])\n",
    "R_3 = TensorHead(\"Rie\", [Fermi_spacial, Fermi_spacial, Fermi_spacial])\n",
    "R_4 = TensorHead(\"Rie\", [Fermi_spacial, Fermi_spacial, Fermi_spacial, Fermi_spacial])\n",
    "\n",
    "gamma_0 = TensorHead(\"gamma0\", [Dirac, Dirac])\n",
    "\n",
    "\n",
    "spinor = TensorHead(\"Psi\", [Dirac])\n",
    "spinor_bar = TensorHead(\"Psi_bar\", [Dirac])\n",
    "\n",
    "repl_spacial = {}\n",
    "repl_spacial[Fermi_spacial] = eye(3).tolist()\n",
    "repl_spacial[x(iS)] = [x_,y_,z_]\n",
    "\n",
    "repl_spacial[gamma(iS,A,-B)] = [mgamma(1).tolist(), mgamma(2).tolist(), mgamma(3).tolist()]\n",
    "repl_spacial[gamma_0(A,-B)] = mgamma(0).tolist()\n",
    "repl_spacial[spinor(A)] = [cos(xi/2),exp(I*chi)*sin(xi/2),0,0]\n",
    "repl_spacial[spinor_bar(-A)] = (Matrix([cos(xi/2),exp(I*chi)*sin(xi/2),0,0]).T@mgamma(0)).tolist()[0]\n",
    "\n",
    "repl_spacial[R_1(-jS,-mS)] = R_in_fermi[1:4,0,0,1:4].tolist()\n",
    "repl_spacial[R_2(-kS, -jS, -mS)] = R_in_fermi[1:4,1:4,0,1:4].tolist()\n",
    "repl_spacial[R_3(-jS, -iS, -mS)] = R_in_fermi[0,1:4, 1:4, 1:4].tolist()\n",
    "repl_spacial[R_4(-kS, -jS, -iS, -mS)] = R_in_fermi[1:4, 1:4, 1:4, 1:4].tolist()"
   ]
  },
  {
   "cell_type": "code",
   "execution_count": 254,
   "metadata": {},
   "outputs": [],
   "source": [
    "v_0 = spinor_bar(-A)*(1/2 * gamma_0(A,-B)*gamma(-jS, B,-C)*R_1(jS,-mS)*x(mS) + 1/4 * gamma(-kS,A,-B)*gamma(-jS,B,-C)*R_2(kS,jS,-mS)*x(mS) )*spinor(C)\n",
    "v_0 = v_0.replace_with_arrays(repl_spacial,v_0.get_free_indices()).subs(theta,pi/2).subs(psi,0)\n"
   ]
  },
  {
   "cell_type": "code",
   "execution_count": 256,
   "metadata": {},
   "outputs": [
    {
     "data": {
      "image/png": "[encoded data removed]",
      "text/latex": [
       "$\\displaystyle 0$"
      ],
      "text/plain": [
       "0"
      ]
     },
     "execution_count": 256,
     "metadata": {},
     "output_type": "execute_result"
    }
   ],
   "source": [
    "simplify(v_0).subs(L,0)"
   ]
  },
  {
   "cell_type": "code",
   "execution_count": 249,
   "metadata": {},
   "outputs": [],
   "source": [
    "def rationalize_coeffs(expr):\n",
    "    for i in expr.atoms(Float):\n",
    "        r = Rational(str(i)).limit_denominator(1000)\n",
    "        expr = expr.subs(i, r)\n",
    "    return expr "
   ]
  },
  {
   "cell_type": "code",
   "execution_count": 257,
   "metadata": {},
   "outputs": [],
   "source": [
    "v_i = spinor_bar(-A)*(frac(1/4) * gamma_0(A,-B)*gamma(-jS, B,-C)*R_3(jS,-iS,-mS)*x(mS) + frac(1/8) * gamma(-kS,A,-B)*gamma(-jS,B,-C)*R_4(kS,jS,-iS,-mS)*x(mS) )*spinor(C)\n",
    "v_i = v_i.replace_with_arrays(repl_spacial,v_i.get_free_indices()).subs(theta,pi/2).subs(psi,0)"
   ]
  },
  {
   "cell_type": "code",
   "execution_count": 297,
   "metadata": {},
   "outputs": [
    {
     "ename": "KeyboardInterrupt",
     "evalue": "",
     "output_type": "error",
     "traceback": [
      "\u001b[0;31m---------------------------------------------------------------------------\u001b[0m",
      "\u001b[0;31mKeyboardInterrupt\u001b[0m                         Traceback (most recent call last)",
      "Cell \u001b[0;32mIn[297], line 1\u001b[0m\n\u001b[0;32m----> 1\u001b[0m simplify(rationalize_coeffs(simplify(simplify(v_i)\u001b[38;5;241m.\u001b[39msubs(L,\u001b[38;5;241m0\u001b[39m))))\n",
      "File \u001b[0;32m~/miniconda3/lib/python3.11/site-packages/sympy/simplify/simplify.py:601\u001b[0m, in \u001b[0;36msimplify\u001b[0;34m(expr, ratio, measure, rational, inverse, doit, **kwargs)\u001b[0m\n\u001b[1;32m    599\u001b[0m _eval_simplify \u001b[38;5;241m=\u001b[39m \u001b[38;5;28mgetattr\u001b[39m(expr, \u001b[38;5;124m'\u001b[39m\u001b[38;5;124m_eval_simplify\u001b[39m\u001b[38;5;124m'\u001b[39m, \u001b[38;5;28;01mNone\u001b[39;00m)\n\u001b[1;32m    600\u001b[0m \u001b[38;5;28;01mif\u001b[39;00m _eval_simplify \u001b[38;5;129;01mis\u001b[39;00m \u001b[38;5;129;01mnot\u001b[39;00m \u001b[38;5;28;01mNone\u001b[39;00m:\n\u001b[0;32m--> 601\u001b[0m     \u001b[38;5;28;01mreturn\u001b[39;00m _eval_simplify(\u001b[38;5;241m*\u001b[39m\u001b[38;5;241m*\u001b[39mkwargs)\n\u001b[1;32m    603\u001b[0m original_expr \u001b[38;5;241m=\u001b[39m expr \u001b[38;5;241m=\u001b[39m collect_abs(signsimp(expr))\n\u001b[1;32m    605\u001b[0m \u001b[38;5;28;01mif\u001b[39;00m \u001b[38;5;129;01mnot\u001b[39;00m \u001b[38;5;28misinstance\u001b[39m(expr, Basic) \u001b[38;5;129;01mor\u001b[39;00m \u001b[38;5;129;01mnot\u001b[39;00m expr\u001b[38;5;241m.\u001b[39margs:  \u001b[38;5;66;03m# XXX: temporary hack\u001b[39;00m\n",
      "File \u001b[0;32m~/miniconda3/lib/python3.11/site-packages/sympy/tensor/array/dense_ndim_array.py:158\u001b[0m, in \u001b[0;36mImmutableDenseNDimArray._eval_simplify\u001b[0;34m(self, **kwargs)\u001b[0m\n\u001b[1;32m    156\u001b[0m \u001b[38;5;28;01mdef\u001b[39;00m \u001b[38;5;21m_eval_simplify\u001b[39m(\u001b[38;5;28mself\u001b[39m, \u001b[38;5;241m*\u001b[39m\u001b[38;5;241m*\u001b[39mkwargs):\n\u001b[1;32m    157\u001b[0m     \u001b[38;5;28;01mfrom\u001b[39;00m \u001b[38;5;21;01msympy\u001b[39;00m\u001b[38;5;21;01m.\u001b[39;00m\u001b[38;5;21;01msimplify\u001b[39;00m\u001b[38;5;21;01m.\u001b[39;00m\u001b[38;5;21;01msimplify\u001b[39;00m \u001b[38;5;28;01mimport\u001b[39;00m simplify\n\u001b[0;32m--> 158\u001b[0m     \u001b[38;5;28;01mreturn\u001b[39;00m \u001b[38;5;28mself\u001b[39m\u001b[38;5;241m.\u001b[39mapplyfunc(simplify)\n",
      "File \u001b[0;32m~/miniconda3/lib/python3.11/site-packages/sympy/tensor/array/ndim_array.py:353\u001b[0m, in \u001b[0;36mNDimArray.applyfunc\u001b[0;34m(self, f)\u001b[0m\n\u001b[1;32m    350\u001b[0m \u001b[38;5;28;01mif\u001b[39;00m \u001b[38;5;28misinstance\u001b[39m(\u001b[38;5;28mself\u001b[39m, SparseNDimArray) \u001b[38;5;129;01mand\u001b[39;00m f(S\u001b[38;5;241m.\u001b[39mZero) \u001b[38;5;241m==\u001b[39m \u001b[38;5;241m0\u001b[39m:\n\u001b[1;32m    351\u001b[0m     \u001b[38;5;28;01mreturn\u001b[39;00m \u001b[38;5;28mtype\u001b[39m(\u001b[38;5;28mself\u001b[39m)({k: f(v) \u001b[38;5;28;01mfor\u001b[39;00m k, v \u001b[38;5;129;01min\u001b[39;00m \u001b[38;5;28mself\u001b[39m\u001b[38;5;241m.\u001b[39m_sparse_array\u001b[38;5;241m.\u001b[39mitems() \u001b[38;5;28;01mif\u001b[39;00m f(v) \u001b[38;5;241m!=\u001b[39m \u001b[38;5;241m0\u001b[39m}, \u001b[38;5;28mself\u001b[39m\u001b[38;5;241m.\u001b[39mshape)\n\u001b[0;32m--> 353\u001b[0m \u001b[38;5;28;01mreturn\u001b[39;00m \u001b[38;5;28mtype\u001b[39m(\u001b[38;5;28mself\u001b[39m)(\u001b[38;5;28mmap\u001b[39m(f, Flatten(\u001b[38;5;28mself\u001b[39m)), \u001b[38;5;28mself\u001b[39m\u001b[38;5;241m.\u001b[39mshape)\n",
      "File \u001b[0;32m~/miniconda3/lib/python3.11/site-packages/sympy/tensor/array/dense_ndim_array.py:134\u001b[0m, in \u001b[0;36mImmutableDenseNDimArray.__new__\u001b[0;34m(cls, iterable, shape, **kwargs)\u001b[0m\n\u001b[1;32m    133\u001b[0m \u001b[38;5;28;01mdef\u001b[39;00m \u001b[38;5;21m__new__\u001b[39m(\u001b[38;5;28mcls\u001b[39m, iterable, shape\u001b[38;5;241m=\u001b[39m\u001b[38;5;28;01mNone\u001b[39;00m, \u001b[38;5;241m*\u001b[39m\u001b[38;5;241m*\u001b[39mkwargs):\n\u001b[0;32m--> 134\u001b[0m     \u001b[38;5;28;01mreturn\u001b[39;00m \u001b[38;5;28mcls\u001b[39m\u001b[38;5;241m.\u001b[39m_new(iterable, shape, \u001b[38;5;241m*\u001b[39m\u001b[38;5;241m*\u001b[39mkwargs)\n",
      "File \u001b[0;32m~/miniconda3/lib/python3.11/site-packages/sympy/tensor/array/dense_ndim_array.py:141\u001b[0m, in \u001b[0;36mImmutableDenseNDimArray._new\u001b[0;34m(cls, iterable, shape, **kwargs)\u001b[0m\n\u001b[1;32m    139\u001b[0m shape \u001b[38;5;241m=\u001b[39m Tuple(\u001b[38;5;241m*\u001b[39m\u001b[38;5;28mmap\u001b[39m(_sympify, shape))\n\u001b[1;32m    140\u001b[0m \u001b[38;5;28mcls\u001b[39m\u001b[38;5;241m.\u001b[39m_check_special_bounds(flat_list, shape)\n\u001b[0;32m--> 141\u001b[0m flat_list \u001b[38;5;241m=\u001b[39m flatten(flat_list)\n\u001b[1;32m    142\u001b[0m flat_list \u001b[38;5;241m=\u001b[39m Tuple(\u001b[38;5;241m*\u001b[39mflat_list)\n\u001b[1;32m    143\u001b[0m \u001b[38;5;28mself\u001b[39m \u001b[38;5;241m=\u001b[39m Basic\u001b[38;5;241m.\u001b[39m\u001b[38;5;21m__new__\u001b[39m(\u001b[38;5;28mcls\u001b[39m, flat_list, shape, \u001b[38;5;241m*\u001b[39m\u001b[38;5;241m*\u001b[39mkwargs)\n",
      "File \u001b[0;32m~/miniconda3/lib/python3.11/site-packages/sympy/utilities/iterables.py:112\u001b[0m, in \u001b[0;36mflatten\u001b[0;34m(iterable, levels, cls)\u001b[0m\n\u001b[1;32m    108\u001b[0m         \u001b[38;5;28;01mreturn\u001b[39;00m \u001b[38;5;28misinstance\u001b[39m(x, \u001b[38;5;28mcls\u001b[39m)\n\u001b[1;32m    110\u001b[0m result \u001b[38;5;241m=\u001b[39m []\n\u001b[0;32m--> 112\u001b[0m \u001b[38;5;28;01mfor\u001b[39;00m el \u001b[38;5;129;01min\u001b[39;00m iterable:\n\u001b[1;32m    113\u001b[0m     \u001b[38;5;28;01mif\u001b[39;00m reducible(el):\n\u001b[1;32m    114\u001b[0m         \u001b[38;5;28;01mif\u001b[39;00m \u001b[38;5;28mhasattr\u001b[39m(el, \u001b[38;5;124m'\u001b[39m\u001b[38;5;124margs\u001b[39m\u001b[38;5;124m'\u001b[39m) \u001b[38;5;129;01mand\u001b[39;00m \u001b[38;5;129;01mnot\u001b[39;00m \u001b[38;5;28misinstance\u001b[39m(el, NDimArray):\n",
      "File \u001b[0;32m~/miniconda3/lib/python3.11/site-packages/sympy/simplify/simplify.py:699\u001b[0m, in \u001b[0;36msimplify\u001b[0;34m(expr, ratio, measure, rational, inverse, doit, **kwargs)\u001b[0m\n\u001b[1;32m    696\u001b[0m     expr \u001b[38;5;241m=\u001b[39m besselsimp(expr)\n\u001b[1;32m    698\u001b[0m \u001b[38;5;28;01mif\u001b[39;00m expr\u001b[38;5;241m.\u001b[39mhas(TrigonometricFunction, HyperbolicFunction):\n\u001b[0;32m--> 699\u001b[0m     expr \u001b[38;5;241m=\u001b[39m trigsimp(expr, deep\u001b[38;5;241m=\u001b[39m\u001b[38;5;28;01mTrue\u001b[39;00m)\n\u001b[1;32m    701\u001b[0m \u001b[38;5;28;01mif\u001b[39;00m expr\u001b[38;5;241m.\u001b[39mhas(log):\n\u001b[1;32m    702\u001b[0m     expr \u001b[38;5;241m=\u001b[39m shorter(expand_log(expr, deep\u001b[38;5;241m=\u001b[39m\u001b[38;5;28;01mTrue\u001b[39;00m), logcombine(expr))\n",
      "File \u001b[0;32m~/miniconda3/lib/python3.11/site-packages/sympy/simplify/trigsimp.py:564\u001b[0m, in \u001b[0;36mtrigsimp\u001b[0;34m(expr, inverse, **opts)\u001b[0m\n\u001b[1;32m    553\u001b[0m     \u001b[38;5;28;01mreturn\u001b[39;00m trigsimp_groebner(new, \u001b[38;5;241m*\u001b[39m\u001b[38;5;241m*\u001b[39mopts)\n\u001b[1;32m    555\u001b[0m trigsimpfunc \u001b[38;5;241m=\u001b[39m {\n\u001b[1;32m    556\u001b[0m     \u001b[38;5;124m'\u001b[39m\u001b[38;5;124mfu\u001b[39m\u001b[38;5;124m'\u001b[39m: (\u001b[38;5;28;01mlambda\u001b[39;00m x: fu(x, \u001b[38;5;241m*\u001b[39m\u001b[38;5;241m*\u001b[39mopts)),\n\u001b[1;32m    557\u001b[0m     \u001b[38;5;124m'\u001b[39m\u001b[38;5;124mmatching\u001b[39m\u001b[38;5;124m'\u001b[39m: (\u001b[38;5;28;01mlambda\u001b[39;00m x: futrig(x)),\n\u001b[0;32m   (...)\u001b[0m\n\u001b[1;32m    561\u001b[0m     \u001b[38;5;124m'\u001b[39m\u001b[38;5;124mold\u001b[39m\u001b[38;5;124m'\u001b[39m: \u001b[38;5;28;01mlambda\u001b[39;00m x: trigsimp_old(x, \u001b[38;5;241m*\u001b[39m\u001b[38;5;241m*\u001b[39mopts),\n\u001b[1;32m    562\u001b[0m                }[method]\n\u001b[0;32m--> 564\u001b[0m expr_simplified \u001b[38;5;241m=\u001b[39m trigsimpfunc(expr)\n\u001b[1;32m    565\u001b[0m \u001b[38;5;28;01mif\u001b[39;00m inverse:\n\u001b[1;32m    566\u001b[0m     expr_simplified \u001b[38;5;241m=\u001b[39m _trigsimp_inverse(expr_simplified)\n",
      "File \u001b[0;32m~/miniconda3/lib/python3.11/site-packages/sympy/simplify/trigsimp.py:557\u001b[0m, in \u001b[0;36mtrigsimp.<locals>.<lambda>\u001b[0;34m(x)\u001b[0m\n\u001b[1;32m    552\u001b[0m         \u001b[38;5;28;01mreturn\u001b[39;00m new\n\u001b[1;32m    553\u001b[0m     \u001b[38;5;28;01mreturn\u001b[39;00m trigsimp_groebner(new, \u001b[38;5;241m*\u001b[39m\u001b[38;5;241m*\u001b[39mopts)\n\u001b[1;32m    555\u001b[0m trigsimpfunc \u001b[38;5;241m=\u001b[39m {\n\u001b[1;32m    556\u001b[0m     \u001b[38;5;124m'\u001b[39m\u001b[38;5;124mfu\u001b[39m\u001b[38;5;124m'\u001b[39m: (\u001b[38;5;28;01mlambda\u001b[39;00m x: fu(x, \u001b[38;5;241m*\u001b[39m\u001b[38;5;241m*\u001b[39mopts)),\n\u001b[0;32m--> 557\u001b[0m     \u001b[38;5;124m'\u001b[39m\u001b[38;5;124mmatching\u001b[39m\u001b[38;5;124m'\u001b[39m: (\u001b[38;5;28;01mlambda\u001b[39;00m x: futrig(x)),\n\u001b[1;32m    558\u001b[0m     \u001b[38;5;124m'\u001b[39m\u001b[38;5;124mgroebner\u001b[39m\u001b[38;5;124m'\u001b[39m: (\u001b[38;5;28;01mlambda\u001b[39;00m x: groebnersimp(x, \u001b[38;5;241m*\u001b[39m\u001b[38;5;241m*\u001b[39mopts)),\n\u001b[1;32m    559\u001b[0m     \u001b[38;5;124m'\u001b[39m\u001b[38;5;124mcombined\u001b[39m\u001b[38;5;124m'\u001b[39m: (\u001b[38;5;28;01mlambda\u001b[39;00m x: futrig(groebnersimp(x,\n\u001b[1;32m    560\u001b[0m                            polynomial\u001b[38;5;241m=\u001b[39m\u001b[38;5;28;01mTrue\u001b[39;00m, hints\u001b[38;5;241m=\u001b[39m[\u001b[38;5;241m2\u001b[39m, tan]))),\n\u001b[1;32m    561\u001b[0m     \u001b[38;5;124m'\u001b[39m\u001b[38;5;124mold\u001b[39m\u001b[38;5;124m'\u001b[39m: \u001b[38;5;28;01mlambda\u001b[39;00m x: trigsimp_old(x, \u001b[38;5;241m*\u001b[39m\u001b[38;5;241m*\u001b[39mopts),\n\u001b[1;32m    562\u001b[0m                }[method]\n\u001b[1;32m    564\u001b[0m expr_simplified \u001b[38;5;241m=\u001b[39m trigsimpfunc(expr)\n\u001b[1;32m    565\u001b[0m \u001b[38;5;28;01mif\u001b[39;00m inverse:\n",
      "File \u001b[0;32m~/miniconda3/lib/python3.11/site-packages/sympy/simplify/trigsimp.py:1158\u001b[0m, in \u001b[0;36mfutrig\u001b[0;34m(e, hyper, **kwargs)\u001b[0m\n\u001b[1;32m   1155\u001b[0m     \u001b[38;5;28;01mreturn\u001b[39;00m e\n\u001b[1;32m   1157\u001b[0m old \u001b[38;5;241m=\u001b[39m e\n\u001b[0;32m-> 1158\u001b[0m e \u001b[38;5;241m=\u001b[39m bottom_up(e, _futrig)\n\u001b[1;32m   1160\u001b[0m \u001b[38;5;28;01mif\u001b[39;00m hyper \u001b[38;5;129;01mand\u001b[39;00m e\u001b[38;5;241m.\u001b[39mhas(HyperbolicFunction):\n\u001b[1;32m   1161\u001b[0m     e, f \u001b[38;5;241m=\u001b[39m hyper_as_trig(e)\n",
      "File \u001b[0;32m~/miniconda3/lib/python3.11/site-packages/sympy/core/traversal.py:239\u001b[0m, in \u001b[0;36mbottom_up\u001b[0;34m(rv, F, atoms, nonbasic)\u001b[0m\n\u001b[1;32m    237\u001b[0m     \u001b[38;5;28;01mif\u001b[39;00m args \u001b[38;5;241m!=\u001b[39m rv\u001b[38;5;241m.\u001b[39margs:\n\u001b[1;32m    238\u001b[0m         rv \u001b[38;5;241m=\u001b[39m rv\u001b[38;5;241m.\u001b[39mfunc(\u001b[38;5;241m*\u001b[39margs)\n\u001b[0;32m--> 239\u001b[0m     rv \u001b[38;5;241m=\u001b[39m F(rv)\n\u001b[1;32m    240\u001b[0m \u001b[38;5;28;01melif\u001b[39;00m atoms:\n\u001b[1;32m    241\u001b[0m     rv \u001b[38;5;241m=\u001b[39m F(rv)\n",
      "File \u001b[0;32m~/miniconda3/lib/python3.11/site-packages/sympy/simplify/trigsimp.py:1225\u001b[0m, in \u001b[0;36m_futrig\u001b[0;34m(e)\u001b[0m\n\u001b[1;32m   1186\u001b[0m trigs \u001b[38;5;241m=\u001b[39m \u001b[38;5;28;01mlambda\u001b[39;00m x: x\u001b[38;5;241m.\u001b[39mhas(TrigonometricFunction)\n\u001b[1;32m   1188\u001b[0m tree \u001b[38;5;241m=\u001b[39m [identity,\n\u001b[1;32m   1189\u001b[0m     (\n\u001b[1;32m   1190\u001b[0m     TR3,  \u001b[38;5;66;03m# canonical angles\u001b[39;00m\n\u001b[0;32m   (...)\u001b[0m\n\u001b[1;32m   1223\u001b[0m         factor_terms, TR12(x), trigs)],  \u001b[38;5;66;03m# expand tan of sum\u001b[39;00m\n\u001b[1;32m   1224\u001b[0m     )]\n\u001b[0;32m-> 1225\u001b[0m e \u001b[38;5;241m=\u001b[39m greedy(tree, objective\u001b[38;5;241m=\u001b[39mLops)(e)\n\u001b[1;32m   1227\u001b[0m \u001b[38;5;28;01mif\u001b[39;00m coeff \u001b[38;5;129;01mis\u001b[39;00m \u001b[38;5;129;01mnot\u001b[39;00m \u001b[38;5;28;01mNone\u001b[39;00m:\n\u001b[1;32m   1228\u001b[0m     e \u001b[38;5;241m=\u001b[39m coeff \u001b[38;5;241m*\u001b[39m e\n",
      "File \u001b[0;32m~/miniconda3/lib/python3.11/site-packages/sympy/strategies/core.py:150\u001b[0m, in \u001b[0;36mminimize.<locals>.minrule\u001b[0;34m(expr)\u001b[0m\n\u001b[1;32m    149\u001b[0m \u001b[38;5;28;01mdef\u001b[39;00m \u001b[38;5;21mminrule\u001b[39m(expr: _S) \u001b[38;5;241m-\u001b[39m\u001b[38;5;241m>\u001b[39m _T:\n\u001b[0;32m--> 150\u001b[0m     \u001b[38;5;28;01mreturn\u001b[39;00m \u001b[38;5;28mmin\u001b[39m([rule(expr) \u001b[38;5;28;01mfor\u001b[39;00m rule \u001b[38;5;129;01min\u001b[39;00m rules], key\u001b[38;5;241m=\u001b[39mobjective)\n",
      "File \u001b[0;32m~/miniconda3/lib/python3.11/site-packages/sympy/strategies/core.py:150\u001b[0m, in \u001b[0;36m<listcomp>\u001b[0;34m(.0)\u001b[0m\n\u001b[1;32m    149\u001b[0m \u001b[38;5;28;01mdef\u001b[39;00m \u001b[38;5;21mminrule\u001b[39m(expr: _S) \u001b[38;5;241m-\u001b[39m\u001b[38;5;241m>\u001b[39m _T:\n\u001b[0;32m--> 150\u001b[0m     \u001b[38;5;28;01mreturn\u001b[39;00m \u001b[38;5;28mmin\u001b[39m([rule(expr) \u001b[38;5;28;01mfor\u001b[39;00m rule \u001b[38;5;129;01min\u001b[39;00m rules], key\u001b[38;5;241m=\u001b[39mobjective)\n",
      "File \u001b[0;32m~/miniconda3/lib/python3.11/site-packages/sympy/strategies/core.py:64\u001b[0m, in \u001b[0;36mchain.<locals>.chain_rl\u001b[0;34m(expr)\u001b[0m\n\u001b[1;32m     62\u001b[0m \u001b[38;5;28;01mdef\u001b[39;00m \u001b[38;5;21mchain_rl\u001b[39m(expr: _T) \u001b[38;5;241m-\u001b[39m\u001b[38;5;241m>\u001b[39m _T:\n\u001b[1;32m     63\u001b[0m     \u001b[38;5;28;01mfor\u001b[39;00m rule \u001b[38;5;129;01min\u001b[39;00m rules:\n\u001b[0;32m---> 64\u001b[0m         expr \u001b[38;5;241m=\u001b[39m rule(expr)\n\u001b[1;32m     65\u001b[0m     \u001b[38;5;28;01mreturn\u001b[39;00m expr\n",
      "File \u001b[0;32m~/miniconda3/lib/python3.11/site-packages/sympy/simplify/trigsimp.py:1193\u001b[0m, in \u001b[0;36m_futrig.<locals>.<lambda>\u001b[0;34m(x)\u001b[0m\n\u001b[1;32m   1185\u001b[0m Lops \u001b[38;5;241m=\u001b[39m \u001b[38;5;28;01mlambda\u001b[39;00m x: (L(x), x\u001b[38;5;241m.\u001b[39mcount_ops(), _nodes(x), \u001b[38;5;28mlen\u001b[39m(x\u001b[38;5;241m.\u001b[39margs), x\u001b[38;5;241m.\u001b[39mis_Add)\n\u001b[1;32m   1186\u001b[0m trigs \u001b[38;5;241m=\u001b[39m \u001b[38;5;28;01mlambda\u001b[39;00m x: x\u001b[38;5;241m.\u001b[39mhas(TrigonometricFunction)\n\u001b[1;32m   1188\u001b[0m tree \u001b[38;5;241m=\u001b[39m [identity,\n\u001b[1;32m   1189\u001b[0m     (\n\u001b[1;32m   1190\u001b[0m     TR3,  \u001b[38;5;66;03m# canonical angles\u001b[39;00m\n\u001b[1;32m   1191\u001b[0m     TR1,  \u001b[38;5;66;03m# sec-csc -> cos-sin\u001b[39;00m\n\u001b[1;32m   1192\u001b[0m     TR12,  \u001b[38;5;66;03m# expand tan of sum\u001b[39;00m\n\u001b[0;32m-> 1193\u001b[0m     \u001b[38;5;28;01mlambda\u001b[39;00m x: _eapply(factor, x, trigs),\n\u001b[1;32m   1194\u001b[0m     TR2,  \u001b[38;5;66;03m# tan-cot -> sin-cos\u001b[39;00m\n\u001b[1;32m   1195\u001b[0m     [identity, \u001b[38;5;28;01mlambda\u001b[39;00m x: _eapply(_mexpand, x, trigs)],\n\u001b[1;32m   1196\u001b[0m     TR2i,  \u001b[38;5;66;03m# sin-cos ratio -> tan\u001b[39;00m\n\u001b[1;32m   1197\u001b[0m     \u001b[38;5;28;01mlambda\u001b[39;00m x: _eapply(\u001b[38;5;28;01mlambda\u001b[39;00m i: factor(i\u001b[38;5;241m.\u001b[39mnormal()), x, trigs),\n\u001b[1;32m   1198\u001b[0m     TR14,  \u001b[38;5;66;03m# factored identities\u001b[39;00m\n\u001b[1;32m   1199\u001b[0m     TR5,  \u001b[38;5;66;03m# sin-pow -> cos_pow\u001b[39;00m\n\u001b[1;32m   1200\u001b[0m     TR10,  \u001b[38;5;66;03m# sin-cos of sums -> sin-cos prod\u001b[39;00m\n\u001b[1;32m   1201\u001b[0m     TR11, _TR11, TR6, \u001b[38;5;66;03m# reduce double angles and rewrite cos pows\u001b[39;00m\n\u001b[1;32m   1202\u001b[0m     \u001b[38;5;28;01mlambda\u001b[39;00m x: _eapply(factor, x, trigs),\n\u001b[1;32m   1203\u001b[0m     TR14,  \u001b[38;5;66;03m# factored powers of identities\u001b[39;00m\n\u001b[1;32m   1204\u001b[0m     [identity, \u001b[38;5;28;01mlambda\u001b[39;00m x: _eapply(_mexpand, x, trigs)],\n\u001b[1;32m   1205\u001b[0m     TR10i,  \u001b[38;5;66;03m# sin-cos products > sin-cos of sums\u001b[39;00m\n\u001b[1;32m   1206\u001b[0m     TRmorrie,\n\u001b[1;32m   1207\u001b[0m     [identity, TR8],  \u001b[38;5;66;03m# sin-cos products -> sin-cos of sums\u001b[39;00m\n\u001b[1;32m   1208\u001b[0m     [identity, \u001b[38;5;28;01mlambda\u001b[39;00m x: TR2i(TR2(x))],  \u001b[38;5;66;03m# tan -> sin-cos -> tan\u001b[39;00m\n\u001b[1;32m   1209\u001b[0m     [\n\u001b[1;32m   1210\u001b[0m         \u001b[38;5;28;01mlambda\u001b[39;00m x: _eapply(expand_mul, TR5(x), trigs),\n\u001b[1;32m   1211\u001b[0m         \u001b[38;5;28;01mlambda\u001b[39;00m x: _eapply(\n\u001b[1;32m   1212\u001b[0m             expand_mul, TR15(x), trigs)], \u001b[38;5;66;03m# pos/neg powers of sin\u001b[39;00m\n\u001b[1;32m   1213\u001b[0m     [\n\u001b[1;32m   1214\u001b[0m         \u001b[38;5;28;01mlambda\u001b[39;00m x:  _eapply(expand_mul, TR6(x), trigs),\n\u001b[1;32m   1215\u001b[0m         \u001b[38;5;28;01mlambda\u001b[39;00m x:  _eapply(\n\u001b[1;32m   1216\u001b[0m             expand_mul, TR16(x), trigs)], \u001b[38;5;66;03m# pos/neg powers of cos\u001b[39;00m\n\u001b[1;32m   1217\u001b[0m     TR111,  \u001b[38;5;66;03m# tan, sin, cos to neg power -> cot, csc, sec\u001b[39;00m\n\u001b[1;32m   1218\u001b[0m     [identity, TR2i],  \u001b[38;5;66;03m# sin-cos ratio to tan\u001b[39;00m\n\u001b[1;32m   1219\u001b[0m     [identity, \u001b[38;5;28;01mlambda\u001b[39;00m x: _eapply(\n\u001b[1;32m   1220\u001b[0m         expand_mul, TR22(x), trigs)],  \u001b[38;5;66;03m# tan-cot to sec-csc\u001b[39;00m\n\u001b[1;32m   1221\u001b[0m     TR1, TR2, TR2i,\n\u001b[1;32m   1222\u001b[0m     [identity, \u001b[38;5;28;01mlambda\u001b[39;00m x: _eapply(\n\u001b[1;32m   1223\u001b[0m         factor_terms, TR12(x), trigs)],  \u001b[38;5;66;03m# expand tan of sum\u001b[39;00m\n\u001b[1;32m   1224\u001b[0m     )]\n\u001b[1;32m   1225\u001b[0m e \u001b[38;5;241m=\u001b[39m greedy(tree, objective\u001b[38;5;241m=\u001b[39mLops)(e)\n\u001b[1;32m   1227\u001b[0m \u001b[38;5;28;01mif\u001b[39;00m coeff \u001b[38;5;129;01mis\u001b[39;00m \u001b[38;5;129;01mnot\u001b[39;00m \u001b[38;5;28;01mNone\u001b[39;00m:\n",
      "File \u001b[0;32m~/miniconda3/lib/python3.11/site-packages/sympy/simplify/trigsimp.py:1249\u001b[0m, in \u001b[0;36m_eapply\u001b[0;34m(func, e, cond)\u001b[0m\n\u001b[1;32m   1247\u001b[0m     \u001b[38;5;28;01mreturn\u001b[39;00m e\n\u001b[1;32m   1248\u001b[0m \u001b[38;5;28;01mif\u001b[39;00m _is_Expr(e) \u001b[38;5;129;01mor\u001b[39;00m \u001b[38;5;129;01mnot\u001b[39;00m e\u001b[38;5;241m.\u001b[39margs:\n\u001b[0;32m-> 1249\u001b[0m     \u001b[38;5;28;01mreturn\u001b[39;00m func(e)\n\u001b[1;32m   1250\u001b[0m \u001b[38;5;28;01mreturn\u001b[39;00m e\u001b[38;5;241m.\u001b[39mfunc(\u001b[38;5;241m*\u001b[39m[\n\u001b[1;32m   1251\u001b[0m     _eapply(func, ei) \u001b[38;5;28;01mif\u001b[39;00m (cond \u001b[38;5;129;01mis\u001b[39;00m \u001b[38;5;28;01mNone\u001b[39;00m \u001b[38;5;129;01mor\u001b[39;00m cond(ei)) \u001b[38;5;28;01melse\u001b[39;00m ei\n\u001b[1;32m   1252\u001b[0m     \u001b[38;5;28;01mfor\u001b[39;00m ei \u001b[38;5;129;01min\u001b[39;00m e\u001b[38;5;241m.\u001b[39margs])\n",
      "File \u001b[0;32m~/miniconda3/lib/python3.11/site-packages/sympy/polys/polytools.py:6542\u001b[0m, in \u001b[0;36mfactor\u001b[0;34m(f, deep, *gens, **args)\u001b[0m\n\u001b[1;32m   6539\u001b[0m     \u001b[38;5;28;01mreturn\u001b[39;00m f\u001b[38;5;241m.\u001b[39mxreplace(partials)\n\u001b[1;32m   6541\u001b[0m \u001b[38;5;28;01mtry\u001b[39;00m:\n\u001b[0;32m-> 6542\u001b[0m     \u001b[38;5;28;01mreturn\u001b[39;00m _generic_factor(f, gens, args, method\u001b[38;5;241m=\u001b[39m\u001b[38;5;124m'\u001b[39m\u001b[38;5;124mfactor\u001b[39m\u001b[38;5;124m'\u001b[39m)\n\u001b[1;32m   6543\u001b[0m \u001b[38;5;28;01mexcept\u001b[39;00m PolynomialError \u001b[38;5;28;01mas\u001b[39;00m msg:\n\u001b[1;32m   6544\u001b[0m     \u001b[38;5;28;01mif\u001b[39;00m \u001b[38;5;129;01mnot\u001b[39;00m f\u001b[38;5;241m.\u001b[39mis_commutative:\n",
      "File \u001b[0;32m~/miniconda3/lib/python3.11/site-packages/sympy/polys/polytools.py:6223\u001b[0m, in \u001b[0;36m_generic_factor\u001b[0;34m(expr, gens, args, method)\u001b[0m\n\u001b[1;32m   6221\u001b[0m opt \u001b[38;5;241m=\u001b[39m options\u001b[38;5;241m.\u001b[39mbuild_options(gens, args)\n\u001b[1;32m   6222\u001b[0m opt[\u001b[38;5;124m'\u001b[39m\u001b[38;5;124mfraction\u001b[39m\u001b[38;5;124m'\u001b[39m] \u001b[38;5;241m=\u001b[39m fraction\n\u001b[0;32m-> 6223\u001b[0m \u001b[38;5;28;01mreturn\u001b[39;00m _symbolic_factor(sympify(expr), opt, method)\n",
      "File \u001b[0;32m~/miniconda3/lib/python3.11/site-packages/sympy/polys/polytools.py:6163\u001b[0m, in \u001b[0;36m_symbolic_factor\u001b[0;34m(expr, opt, method)\u001b[0m\n\u001b[1;32m   6161\u001b[0m     \u001b[38;5;28;01mif\u001b[39;00m \u001b[38;5;28mhasattr\u001b[39m(expr,\u001b[38;5;124m'\u001b[39m\u001b[38;5;124m_eval_factor\u001b[39m\u001b[38;5;124m'\u001b[39m):\n\u001b[1;32m   6162\u001b[0m         \u001b[38;5;28;01mreturn\u001b[39;00m expr\u001b[38;5;241m.\u001b[39m_eval_factor()\n\u001b[0;32m-> 6163\u001b[0m     coeff, factors \u001b[38;5;241m=\u001b[39m _symbolic_factor_list(together(expr, fraction\u001b[38;5;241m=\u001b[39mopt[\u001b[38;5;124m'\u001b[39m\u001b[38;5;124mfraction\u001b[39m\u001b[38;5;124m'\u001b[39m]), opt, method)\n\u001b[1;32m   6164\u001b[0m     \u001b[38;5;28;01mreturn\u001b[39;00m _keep_coeff(coeff, _factors_product(factors))\n\u001b[1;32m   6165\u001b[0m \u001b[38;5;28;01melif\u001b[39;00m \u001b[38;5;28mhasattr\u001b[39m(expr, \u001b[38;5;124m'\u001b[39m\u001b[38;5;124margs\u001b[39m\u001b[38;5;124m'\u001b[39m):\n",
      "File \u001b[0;32m~/miniconda3/lib/python3.11/site-packages/sympy/polys/polytools.py:6128\u001b[0m, in \u001b[0;36m_symbolic_factor_list\u001b[0;34m(expr, opt, method)\u001b[0m\n\u001b[1;32m   6125\u001b[0m \u001b[38;5;28;01melse\u001b[39;00m:\n\u001b[1;32m   6126\u001b[0m     func \u001b[38;5;241m=\u001b[39m \u001b[38;5;28mgetattr\u001b[39m(poly, method \u001b[38;5;241m+\u001b[39m \u001b[38;5;124m'\u001b[39m\u001b[38;5;124m_list\u001b[39m\u001b[38;5;124m'\u001b[39m)\n\u001b[0;32m-> 6128\u001b[0m     _coeff, _factors \u001b[38;5;241m=\u001b[39m func()\n\u001b[1;32m   6129\u001b[0m     \u001b[38;5;28;01mif\u001b[39;00m _coeff \u001b[38;5;129;01mis\u001b[39;00m \u001b[38;5;129;01mnot\u001b[39;00m S\u001b[38;5;241m.\u001b[39mOne:\n\u001b[1;32m   6130\u001b[0m         \u001b[38;5;28;01mif\u001b[39;00m exp\u001b[38;5;241m.\u001b[39mis_Integer:\n",
      "File \u001b[0;32m~/miniconda3/lib/python3.11/site-packages/sympy/polys/polytools.py:3350\u001b[0m, in \u001b[0;36mPoly.factor_list\u001b[0;34m(f)\u001b[0m\n\u001b[1;32m   3348\u001b[0m \u001b[38;5;28;01mif\u001b[39;00m \u001b[38;5;28mhasattr\u001b[39m(f\u001b[38;5;241m.\u001b[39mrep, \u001b[38;5;124m'\u001b[39m\u001b[38;5;124mfactor_list\u001b[39m\u001b[38;5;124m'\u001b[39m):\n\u001b[1;32m   3349\u001b[0m     \u001b[38;5;28;01mtry\u001b[39;00m:\n\u001b[0;32m-> 3350\u001b[0m         coeff, factors \u001b[38;5;241m=\u001b[39m f\u001b[38;5;241m.\u001b[39mrep\u001b[38;5;241m.\u001b[39mfactor_list()\n\u001b[1;32m   3351\u001b[0m     \u001b[38;5;28;01mexcept\u001b[39;00m DomainError:\n\u001b[1;32m   3352\u001b[0m         \u001b[38;5;28;01mreturn\u001b[39;00m S\u001b[38;5;241m.\u001b[39mOne, [(f, \u001b[38;5;241m1\u001b[39m)]\n",
      "File \u001b[0;32m~/miniconda3/lib/python3.11/site-packages/sympy/polys/polyclasses.py:823\u001b[0m, in \u001b[0;36mDMP.factor_list\u001b[0;34m(f)\u001b[0m\n\u001b[1;32m    821\u001b[0m \u001b[38;5;28;01mdef\u001b[39;00m \u001b[38;5;21mfactor_list\u001b[39m(f):\n\u001b[1;32m    822\u001b[0m \u001b[38;5;250m    \u001b[39m\u001b[38;5;124;03m\"\"\"Returns a list of irreducible factors of ``f``. \"\"\"\u001b[39;00m\n\u001b[0;32m--> 823\u001b[0m     coeff, factors \u001b[38;5;241m=\u001b[39m dmp_factor_list(f\u001b[38;5;241m.\u001b[39mrep, f\u001b[38;5;241m.\u001b[39mlev, f\u001b[38;5;241m.\u001b[39mdom)\n\u001b[1;32m    824\u001b[0m     \u001b[38;5;28;01mreturn\u001b[39;00m coeff, [ (f\u001b[38;5;241m.\u001b[39mper(g), k) \u001b[38;5;28;01mfor\u001b[39;00m g, k \u001b[38;5;129;01min\u001b[39;00m factors ]\n",
      "File \u001b[0;32m~/miniconda3/lib/python3.11/site-packages/sympy/polys/factortools.py:1403\u001b[0m, in \u001b[0;36mdmp_factor_list\u001b[0;34m(f, u, K0)\u001b[0m\n\u001b[1;32m   1401\u001b[0m     coeff, factors \u001b[38;5;241m=\u001b[39m dmp_ext_factor(f, u, K0)\n\u001b[1;32m   1402\u001b[0m \u001b[38;5;28;01melif\u001b[39;00m K0\u001b[38;5;241m.\u001b[39mis_GaussianRing:\n\u001b[0;32m-> 1403\u001b[0m     coeff, factors \u001b[38;5;241m=\u001b[39m dmp_zz_i_factor(f, u, K0)\n\u001b[1;32m   1404\u001b[0m \u001b[38;5;28;01melif\u001b[39;00m K0\u001b[38;5;241m.\u001b[39mis_GaussianField:\n\u001b[1;32m   1405\u001b[0m     coeff, factors \u001b[38;5;241m=\u001b[39m dmp_qq_i_factor(f, u, K0)\n",
      "File \u001b[0;32m~/miniconda3/lib/python3.11/site-packages/sympy/polys/factortools.py:1218\u001b[0m, in \u001b[0;36mdmp_zz_i_factor\u001b[0;34m(f, u, K0)\u001b[0m\n\u001b[1;32m   1216\u001b[0m K1 \u001b[38;5;241m=\u001b[39m K0\u001b[38;5;241m.\u001b[39mget_field()\n\u001b[1;32m   1217\u001b[0m f \u001b[38;5;241m=\u001b[39m dmp_convert(f, u, K0, K1)\n\u001b[0;32m-> 1218\u001b[0m coeff, factors \u001b[38;5;241m=\u001b[39m dmp_qq_i_factor(f, u, K1)\n\u001b[1;32m   1220\u001b[0m new_factors \u001b[38;5;241m=\u001b[39m []\n\u001b[1;32m   1221\u001b[0m \u001b[38;5;28;01mfor\u001b[39;00m fac, i \u001b[38;5;129;01min\u001b[39;00m factors:\n\u001b[1;32m   1222\u001b[0m     \u001b[38;5;66;03m# Extract content\u001b[39;00m\n",
      "File \u001b[0;32m~/miniconda3/lib/python3.11/site-packages/sympy/polys/factortools.py:1206\u001b[0m, in \u001b[0;36mdmp_qq_i_factor\u001b[0;34m(f, u, K0)\u001b[0m\n\u001b[1;32m   1204\u001b[0m \u001b[38;5;66;03m# Factor in QQ<I>\u001b[39;00m\n\u001b[1;32m   1205\u001b[0m K1 \u001b[38;5;241m=\u001b[39m K0\u001b[38;5;241m.\u001b[39mas_AlgebraicField()\n\u001b[0;32m-> 1206\u001b[0m f \u001b[38;5;241m=\u001b[39m dmp_convert(f, u, K0, K1)\n\u001b[1;32m   1207\u001b[0m coeff, factors \u001b[38;5;241m=\u001b[39m dmp_factor_list(f, u, K1)\n\u001b[1;32m   1208\u001b[0m factors \u001b[38;5;241m=\u001b[39m [(dmp_convert(fac, u, K1, K0), i) \u001b[38;5;28;01mfor\u001b[39;00m fac, i \u001b[38;5;129;01min\u001b[39;00m factors]\n",
      "File \u001b[0;32m~/miniconda3/lib/python3.11/site-packages/sympy/polys/densebasic.py:567\u001b[0m, in \u001b[0;36mdmp_convert\u001b[0;34m(f, u, K0, K1)\u001b[0m\n\u001b[1;32m    563\u001b[0m     \u001b[38;5;28;01mreturn\u001b[39;00m f\n\u001b[1;32m    565\u001b[0m v \u001b[38;5;241m=\u001b[39m u \u001b[38;5;241m-\u001b[39m \u001b[38;5;241m1\u001b[39m\n\u001b[0;32m--> 567\u001b[0m \u001b[38;5;28;01mreturn\u001b[39;00m dmp_strip([ dmp_convert(c, v, K0, K1) \u001b[38;5;28;01mfor\u001b[39;00m c \u001b[38;5;129;01min\u001b[39;00m f ], u)\n",
      "File \u001b[0;32m~/miniconda3/lib/python3.11/site-packages/sympy/polys/densebasic.py:567\u001b[0m, in \u001b[0;36m<listcomp>\u001b[0;34m(.0)\u001b[0m\n\u001b[1;32m    563\u001b[0m     \u001b[38;5;28;01mreturn\u001b[39;00m f\n\u001b[1;32m    565\u001b[0m v \u001b[38;5;241m=\u001b[39m u \u001b[38;5;241m-\u001b[39m \u001b[38;5;241m1\u001b[39m\n\u001b[0;32m--> 567\u001b[0m \u001b[38;5;28;01mreturn\u001b[39;00m dmp_strip([ dmp_convert(c, v, K0, K1) \u001b[38;5;28;01mfor\u001b[39;00m c \u001b[38;5;129;01min\u001b[39;00m f ], u)\n",
      "File \u001b[0;32m~/miniconda3/lib/python3.11/site-packages/sympy/polys/densebasic.py:567\u001b[0m, in \u001b[0;36mdmp_convert\u001b[0;34m(f, u, K0, K1)\u001b[0m\n\u001b[1;32m    563\u001b[0m     \u001b[38;5;28;01mreturn\u001b[39;00m f\n\u001b[1;32m    565\u001b[0m v \u001b[38;5;241m=\u001b[39m u \u001b[38;5;241m-\u001b[39m \u001b[38;5;241m1\u001b[39m\n\u001b[0;32m--> 567\u001b[0m \u001b[38;5;28;01mreturn\u001b[39;00m dmp_strip([ dmp_convert(c, v, K0, K1) \u001b[38;5;28;01mfor\u001b[39;00m c \u001b[38;5;129;01min\u001b[39;00m f ], u)\n",
      "File \u001b[0;32m~/miniconda3/lib/python3.11/site-packages/sympy/polys/densebasic.py:567\u001b[0m, in \u001b[0;36m<listcomp>\u001b[0;34m(.0)\u001b[0m\n\u001b[1;32m    563\u001b[0m     \u001b[38;5;28;01mreturn\u001b[39;00m f\n\u001b[1;32m    565\u001b[0m v \u001b[38;5;241m=\u001b[39m u \u001b[38;5;241m-\u001b[39m \u001b[38;5;241m1\u001b[39m\n\u001b[0;32m--> 567\u001b[0m \u001b[38;5;28;01mreturn\u001b[39;00m dmp_strip([ dmp_convert(c, v, K0, K1) \u001b[38;5;28;01mfor\u001b[39;00m c \u001b[38;5;129;01min\u001b[39;00m f ], u)\n",
      "    \u001b[0;31m[... skipping similar frames: <listcomp> at line 567 (4 times), dmp_convert at line 567 (4 times)]\u001b[0m\n",
      "File \u001b[0;32m~/miniconda3/lib/python3.11/site-packages/sympy/polys/densebasic.py:567\u001b[0m, in \u001b[0;36mdmp_convert\u001b[0;34m(f, u, K0, K1)\u001b[0m\n\u001b[1;32m    563\u001b[0m     \u001b[38;5;28;01mreturn\u001b[39;00m f\n\u001b[1;32m    565\u001b[0m v \u001b[38;5;241m=\u001b[39m u \u001b[38;5;241m-\u001b[39m \u001b[38;5;241m1\u001b[39m\n\u001b[0;32m--> 567\u001b[0m \u001b[38;5;28;01mreturn\u001b[39;00m dmp_strip([ dmp_convert(c, v, K0, K1) \u001b[38;5;28;01mfor\u001b[39;00m c \u001b[38;5;129;01min\u001b[39;00m f ], u)\n",
      "File \u001b[0;32m~/miniconda3/lib/python3.11/site-packages/sympy/polys/densebasic.py:567\u001b[0m, in \u001b[0;36m<listcomp>\u001b[0;34m(.0)\u001b[0m\n\u001b[1;32m    563\u001b[0m     \u001b[38;5;28;01mreturn\u001b[39;00m f\n\u001b[1;32m    565\u001b[0m v \u001b[38;5;241m=\u001b[39m u \u001b[38;5;241m-\u001b[39m \u001b[38;5;241m1\u001b[39m\n\u001b[0;32m--> 567\u001b[0m \u001b[38;5;28;01mreturn\u001b[39;00m dmp_strip([ dmp_convert(c, v, K0, K1) \u001b[38;5;28;01mfor\u001b[39;00m c \u001b[38;5;129;01min\u001b[39;00m f ], u)\n",
      "File \u001b[0;32m~/miniconda3/lib/python3.11/site-packages/sympy/polys/densebasic.py:561\u001b[0m, in \u001b[0;36mdmp_convert\u001b[0;34m(f, u, K0, K1)\u001b[0m\n\u001b[1;32m    542\u001b[0m \u001b[38;5;250m\u001b[39m\u001b[38;5;124;03m\"\"\"\u001b[39;00m\n\u001b[1;32m    543\u001b[0m \u001b[38;5;124;03mConvert the ground domain of ``f`` from ``K0`` to ``K1``.\u001b[39;00m\n\u001b[1;32m    544\u001b[0m \n\u001b[0;32m   (...)\u001b[0m\n\u001b[1;32m    558\u001b[0m \n\u001b[1;32m    559\u001b[0m \u001b[38;5;124;03m\"\"\"\u001b[39;00m\n\u001b[1;32m    560\u001b[0m \u001b[38;5;28;01mif\u001b[39;00m \u001b[38;5;129;01mnot\u001b[39;00m u:\n\u001b[0;32m--> 561\u001b[0m     \u001b[38;5;28;01mreturn\u001b[39;00m dup_convert(f, K0, K1)\n\u001b[1;32m    562\u001b[0m \u001b[38;5;28;01mif\u001b[39;00m K0 \u001b[38;5;129;01mis\u001b[39;00m \u001b[38;5;129;01mnot\u001b[39;00m \u001b[38;5;28;01mNone\u001b[39;00m \u001b[38;5;129;01mand\u001b[39;00m K0 \u001b[38;5;241m==\u001b[39m K1:\n\u001b[1;32m    563\u001b[0m     \u001b[38;5;28;01mreturn\u001b[39;00m f\n",
      "File \u001b[0;32m~/miniconda3/lib/python3.11/site-packages/sympy/polys/densebasic.py:538\u001b[0m, in \u001b[0;36mdup_convert\u001b[0;34m(f, K0, K1)\u001b[0m\n\u001b[1;32m    536\u001b[0m     \u001b[38;5;28;01mreturn\u001b[39;00m f\n\u001b[1;32m    537\u001b[0m \u001b[38;5;28;01melse\u001b[39;00m:\n\u001b[0;32m--> 538\u001b[0m     \u001b[38;5;28;01mreturn\u001b[39;00m dup_strip([ K1\u001b[38;5;241m.\u001b[39mconvert(c, K0) \u001b[38;5;28;01mfor\u001b[39;00m c \u001b[38;5;129;01min\u001b[39;00m f ])\n",
      "File \u001b[0;32m~/miniconda3/lib/python3.11/site-packages/sympy/polys/densebasic.py:538\u001b[0m, in \u001b[0;36m<listcomp>\u001b[0;34m(.0)\u001b[0m\n\u001b[1;32m    536\u001b[0m     \u001b[38;5;28;01mreturn\u001b[39;00m f\n\u001b[1;32m    537\u001b[0m \u001b[38;5;28;01melse\u001b[39;00m:\n\u001b[0;32m--> 538\u001b[0m     \u001b[38;5;28;01mreturn\u001b[39;00m dup_strip([ K1\u001b[38;5;241m.\u001b[39mconvert(c, K0) \u001b[38;5;28;01mfor\u001b[39;00m c \u001b[38;5;129;01min\u001b[39;00m f ])\n",
      "File \u001b[0;32m~/miniconda3/lib/python3.11/site-packages/sympy/polys/domains/domain.py:409\u001b[0m, in \u001b[0;36mDomain.convert\u001b[0;34m(self, element, base)\u001b[0m\n\u001b[1;32m    407\u001b[0m     \u001b[38;5;28;01mif\u001b[39;00m _not_a_coeff(element):\n\u001b[1;32m    408\u001b[0m         \u001b[38;5;28;01mraise\u001b[39;00m CoercionFailed(\u001b[38;5;124m'\u001b[39m\u001b[38;5;132;01m%s\u001b[39;00m\u001b[38;5;124m is not in any domain\u001b[39m\u001b[38;5;124m'\u001b[39m \u001b[38;5;241m%\u001b[39m element)\n\u001b[0;32m--> 409\u001b[0m     \u001b[38;5;28;01mreturn\u001b[39;00m \u001b[38;5;28mself\u001b[39m\u001b[38;5;241m.\u001b[39mconvert_from(element, base)\n\u001b[1;32m    411\u001b[0m \u001b[38;5;28;01mif\u001b[39;00m \u001b[38;5;28mself\u001b[39m\u001b[38;5;241m.\u001b[39mof_type(element):\n\u001b[1;32m    412\u001b[0m     \u001b[38;5;28;01mreturn\u001b[39;00m element\n",
      "File \u001b[0;32m~/miniconda3/lib/python3.11/site-packages/sympy/polys/domains/domain.py:396\u001b[0m, in \u001b[0;36mDomain.convert_from\u001b[0;34m(self, element, base)\u001b[0m\n\u001b[1;32m    393\u001b[0m _convert \u001b[38;5;241m=\u001b[39m \u001b[38;5;28mgetattr\u001b[39m(\u001b[38;5;28mself\u001b[39m, method)\n\u001b[1;32m    395\u001b[0m \u001b[38;5;28;01mif\u001b[39;00m _convert \u001b[38;5;129;01mis\u001b[39;00m \u001b[38;5;129;01mnot\u001b[39;00m \u001b[38;5;28;01mNone\u001b[39;00m:\n\u001b[0;32m--> 396\u001b[0m     result \u001b[38;5;241m=\u001b[39m _convert(element, base)\n\u001b[1;32m    398\u001b[0m     \u001b[38;5;28;01mif\u001b[39;00m result \u001b[38;5;129;01mis\u001b[39;00m \u001b[38;5;129;01mnot\u001b[39;00m \u001b[38;5;28;01mNone\u001b[39;00m:\n\u001b[1;32m    399\u001b[0m         \u001b[38;5;28;01mreturn\u001b[39;00m result\n",
      "File \u001b[0;32m~/miniconda3/lib/python3.11/site-packages/sympy/polys/domains/algebraicfield.py:437\u001b[0m, in \u001b[0;36mAlgebraicField.from_GaussianRationalField\u001b[0;34m(K1, a, K0)\u001b[0m\n\u001b[1;32m    435\u001b[0m \u001b[38;5;28;01mdef\u001b[39;00m \u001b[38;5;21mfrom_GaussianRationalField\u001b[39m(K1, a, K0):\n\u001b[1;32m    436\u001b[0m \u001b[38;5;250m    \u001b[39m\u001b[38;5;124;03m\"\"\"Convert a GaussianRational element 'a' to ``dtype``. \"\"\"\u001b[39;00m\n\u001b[0;32m--> 437\u001b[0m     \u001b[38;5;28;01mreturn\u001b[39;00m K1\u001b[38;5;241m.\u001b[39mfrom_sympy(K0\u001b[38;5;241m.\u001b[39mto_sympy(a))\n",
      "File \u001b[0;32m~/miniconda3/lib/python3.11/site-packages/sympy/polys/domains/algebraicfield.py:366\u001b[0m, in \u001b[0;36mAlgebraicField.from_sympy\u001b[0;34m(self, a)\u001b[0m\n\u001b[1;32m    363\u001b[0m \u001b[38;5;28;01mfrom\u001b[39;00m \u001b[38;5;21;01msympy\u001b[39;00m\u001b[38;5;21;01m.\u001b[39;00m\u001b[38;5;21;01mpolys\u001b[39;00m\u001b[38;5;21;01m.\u001b[39;00m\u001b[38;5;21;01mnumberfields\u001b[39;00m \u001b[38;5;28;01mimport\u001b[39;00m to_number_field\n\u001b[1;32m    365\u001b[0m \u001b[38;5;28;01mtry\u001b[39;00m:\n\u001b[0;32m--> 366\u001b[0m     \u001b[38;5;28;01mreturn\u001b[39;00m \u001b[38;5;28mself\u001b[39m(to_number_field(a, \u001b[38;5;28mself\u001b[39m\u001b[38;5;241m.\u001b[39mext)\u001b[38;5;241m.\u001b[39mnative_coeffs())\n\u001b[1;32m    367\u001b[0m \u001b[38;5;28;01mexcept\u001b[39;00m (NotAlgebraic, IsomorphismFailed):\n\u001b[1;32m    368\u001b[0m     \u001b[38;5;28;01mraise\u001b[39;00m CoercionFailed(\n\u001b[1;32m    369\u001b[0m         \u001b[38;5;124m\"\u001b[39m\u001b[38;5;132;01m%s\u001b[39;00m\u001b[38;5;124m is not a valid algebraic number in \u001b[39m\u001b[38;5;132;01m%s\u001b[39;00m\u001b[38;5;124m\"\u001b[39m \u001b[38;5;241m%\u001b[39m (a, \u001b[38;5;28mself\u001b[39m))\n",
      "File \u001b[0;32m~/miniconda3/lib/python3.11/site-packages/sympy/polys/numberfields/subfield.py:501\u001b[0m, in \u001b[0;36mto_number_field\u001b[0;34m(extension, theta, gen, alias)\u001b[0m\n\u001b[1;32m    498\u001b[0m \u001b[38;5;28;01mif\u001b[39;00m \u001b[38;5;129;01mnot\u001b[39;00m theta\u001b[38;5;241m.\u001b[39mis_AlgebraicNumber:\n\u001b[1;32m    499\u001b[0m     theta \u001b[38;5;241m=\u001b[39m AlgebraicNumber(theta, gen\u001b[38;5;241m=\u001b[39mgen, alias\u001b[38;5;241m=\u001b[39malias)\n\u001b[0;32m--> 501\u001b[0m coeffs \u001b[38;5;241m=\u001b[39m field_isomorphism(root, theta)\n\u001b[1;32m    503\u001b[0m \u001b[38;5;28;01mif\u001b[39;00m coeffs \u001b[38;5;129;01mis\u001b[39;00m \u001b[38;5;129;01mnot\u001b[39;00m \u001b[38;5;28;01mNone\u001b[39;00m:\n\u001b[1;32m    504\u001b[0m     \u001b[38;5;28;01mreturn\u001b[39;00m AlgebraicNumber(theta, coeffs, alias\u001b[38;5;241m=\u001b[39malias)\n",
      "File \u001b[0;32m~/miniconda3/lib/python3.11/site-packages/sympy/polys/numberfields/subfield.py:239\u001b[0m, in \u001b[0;36mfield_isomorphism\u001b[0;34m(a, b, fast)\u001b[0m\n\u001b[1;32m    236\u001b[0m     \u001b[38;5;28;01mexcept\u001b[39;00m \u001b[38;5;167;01mNotImplementedError\u001b[39;00m:\n\u001b[1;32m    237\u001b[0m         \u001b[38;5;28;01mpass\u001b[39;00m\n\u001b[0;32m--> 239\u001b[0m \u001b[38;5;28;01mreturn\u001b[39;00m field_isomorphism_factor(a, b)\n",
      "File \u001b[0;32m~/miniconda3/lib/python3.11/site-packages/sympy/polys/numberfields/subfield.py:140\u001b[0m, in \u001b[0;36mfield_isomorphism_factor\u001b[0;34m(a, b)\u001b[0m\n\u001b[1;32m    138\u001b[0m \u001b[38;5;28;01mdef\u001b[39;00m \u001b[38;5;21mfield_isomorphism_factor\u001b[39m(a, b):\n\u001b[1;32m    139\u001b[0m \u001b[38;5;250m    \u001b[39m\u001b[38;5;124;03m\"\"\"Construct field isomorphism via factorization. \"\"\"\u001b[39;00m\n\u001b[0;32m--> 140\u001b[0m     _, factors \u001b[38;5;241m=\u001b[39m factor_list(a\u001b[38;5;241m.\u001b[39mminpoly, extension\u001b[38;5;241m=\u001b[39mb)\n\u001b[1;32m    141\u001b[0m     \u001b[38;5;28;01mfor\u001b[39;00m f, _ \u001b[38;5;129;01min\u001b[39;00m factors:\n\u001b[1;32m    142\u001b[0m         \u001b[38;5;28;01mif\u001b[39;00m f\u001b[38;5;241m.\u001b[39mdegree() \u001b[38;5;241m==\u001b[39m \u001b[38;5;241m1\u001b[39m:\n\u001b[1;32m    143\u001b[0m             \u001b[38;5;66;03m# Any linear factor f(x) represents some conjugate of a in QQ(b).\u001b[39;00m\n\u001b[1;32m    144\u001b[0m             \u001b[38;5;66;03m# We want to know whether this linear factor represents a itself.\u001b[39;00m\n\u001b[1;32m    145\u001b[0m             \u001b[38;5;66;03m# Let f = x - c\u001b[39;00m\n",
      "File \u001b[0;32m~/miniconda3/lib/python3.11/site-packages/sympy/polys/polytools.py:6448\u001b[0m, in \u001b[0;36mfactor_list\u001b[0;34m(f, *gens, **args)\u001b[0m\n\u001b[1;32m   6433\u001b[0m \u001b[38;5;129m@public\u001b[39m\n\u001b[1;32m   6434\u001b[0m \u001b[38;5;28;01mdef\u001b[39;00m \u001b[38;5;21mfactor_list\u001b[39m(f, \u001b[38;5;241m*\u001b[39mgens, \u001b[38;5;241m*\u001b[39m\u001b[38;5;241m*\u001b[39margs):\n\u001b[1;32m   6435\u001b[0m \u001b[38;5;250m    \u001b[39m\u001b[38;5;124;03m\"\"\"\u001b[39;00m\n\u001b[1;32m   6436\u001b[0m \u001b[38;5;124;03m    Compute a list of irreducible factors of ``f``.\u001b[39;00m\n\u001b[1;32m   6437\u001b[0m \n\u001b[0;32m   (...)\u001b[0m\n\u001b[1;32m   6446\u001b[0m \n\u001b[1;32m   6447\u001b[0m \u001b[38;5;124;03m    \"\"\"\u001b[39;00m\n\u001b[0;32m-> 6448\u001b[0m     \u001b[38;5;28;01mreturn\u001b[39;00m _generic_factor_list(f, gens, args, method\u001b[38;5;241m=\u001b[39m\u001b[38;5;124m'\u001b[39m\u001b[38;5;124mfactor\u001b[39m\u001b[38;5;124m'\u001b[39m)\n",
      "File \u001b[0;32m~/miniconda3/lib/python3.11/site-packages/sympy/polys/polytools.py:6186\u001b[0m, in \u001b[0;36m_generic_factor_list\u001b[0;34m(expr, gens, args, method)\u001b[0m\n\u001b[1;32m   6183\u001b[0m \u001b[38;5;28;01melse\u001b[39;00m:\n\u001b[1;32m   6184\u001b[0m     numer, denom \u001b[38;5;241m=\u001b[39m together(expr)\u001b[38;5;241m.\u001b[39mas_numer_denom()\n\u001b[0;32m-> 6186\u001b[0m cp, fp \u001b[38;5;241m=\u001b[39m _symbolic_factor_list(numer, opt, method)\n\u001b[1;32m   6187\u001b[0m cq, fq \u001b[38;5;241m=\u001b[39m _symbolic_factor_list(denom, opt, method)\n\u001b[1;32m   6189\u001b[0m \u001b[38;5;28;01mif\u001b[39;00m fq \u001b[38;5;129;01mand\u001b[39;00m \u001b[38;5;129;01mnot\u001b[39;00m opt\u001b[38;5;241m.\u001b[39mfrac:\n",
      "File \u001b[0;32m~/miniconda3/lib/python3.11/site-packages/sympy/polys/polytools.py:6128\u001b[0m, in \u001b[0;36m_symbolic_factor_list\u001b[0;34m(expr, opt, method)\u001b[0m\n\u001b[1;32m   6125\u001b[0m \u001b[38;5;28;01melse\u001b[39;00m:\n\u001b[1;32m   6126\u001b[0m     func \u001b[38;5;241m=\u001b[39m \u001b[38;5;28mgetattr\u001b[39m(poly, method \u001b[38;5;241m+\u001b[39m \u001b[38;5;124m'\u001b[39m\u001b[38;5;124m_list\u001b[39m\u001b[38;5;124m'\u001b[39m)\n\u001b[0;32m-> 6128\u001b[0m     _coeff, _factors \u001b[38;5;241m=\u001b[39m func()\n\u001b[1;32m   6129\u001b[0m     \u001b[38;5;28;01mif\u001b[39;00m _coeff \u001b[38;5;129;01mis\u001b[39;00m \u001b[38;5;129;01mnot\u001b[39;00m S\u001b[38;5;241m.\u001b[39mOne:\n\u001b[1;32m   6130\u001b[0m         \u001b[38;5;28;01mif\u001b[39;00m exp\u001b[38;5;241m.\u001b[39mis_Integer:\n",
      "File \u001b[0;32m~/miniconda3/lib/python3.11/site-packages/sympy/polys/polytools.py:3350\u001b[0m, in \u001b[0;36mPoly.factor_list\u001b[0;34m(f)\u001b[0m\n\u001b[1;32m   3348\u001b[0m \u001b[38;5;28;01mif\u001b[39;00m \u001b[38;5;28mhasattr\u001b[39m(f\u001b[38;5;241m.\u001b[39mrep, \u001b[38;5;124m'\u001b[39m\u001b[38;5;124mfactor_list\u001b[39m\u001b[38;5;124m'\u001b[39m):\n\u001b[1;32m   3349\u001b[0m     \u001b[38;5;28;01mtry\u001b[39;00m:\n\u001b[0;32m-> 3350\u001b[0m         coeff, factors \u001b[38;5;241m=\u001b[39m f\u001b[38;5;241m.\u001b[39mrep\u001b[38;5;241m.\u001b[39mfactor_list()\n\u001b[1;32m   3351\u001b[0m     \u001b[38;5;28;01mexcept\u001b[39;00m DomainError:\n\u001b[1;32m   3352\u001b[0m         \u001b[38;5;28;01mreturn\u001b[39;00m S\u001b[38;5;241m.\u001b[39mOne, [(f, \u001b[38;5;241m1\u001b[39m)]\n",
      "File \u001b[0;32m~/miniconda3/lib/python3.11/site-packages/sympy/polys/polyclasses.py:823\u001b[0m, in \u001b[0;36mDMP.factor_list\u001b[0;34m(f)\u001b[0m\n\u001b[1;32m    821\u001b[0m \u001b[38;5;28;01mdef\u001b[39;00m \u001b[38;5;21mfactor_list\u001b[39m(f):\n\u001b[1;32m    822\u001b[0m \u001b[38;5;250m    \u001b[39m\u001b[38;5;124;03m\"\"\"Returns a list of irreducible factors of ``f``. \"\"\"\u001b[39;00m\n\u001b[0;32m--> 823\u001b[0m     coeff, factors \u001b[38;5;241m=\u001b[39m dmp_factor_list(f\u001b[38;5;241m.\u001b[39mrep, f\u001b[38;5;241m.\u001b[39mlev, f\u001b[38;5;241m.\u001b[39mdom)\n\u001b[1;32m    824\u001b[0m     \u001b[38;5;28;01mreturn\u001b[39;00m coeff, [ (f\u001b[38;5;241m.\u001b[39mper(g), k) \u001b[38;5;28;01mfor\u001b[39;00m g, k \u001b[38;5;129;01min\u001b[39;00m factors ]\n",
      "File \u001b[0;32m~/miniconda3/lib/python3.11/site-packages/sympy/polys/factortools.py:1393\u001b[0m, in \u001b[0;36mdmp_factor_list\u001b[0;34m(f, u, K0)\u001b[0m\n\u001b[1;32m   1391\u001b[0m \u001b[38;5;250m\u001b[39m\u001b[38;5;124;03m\"\"\"Factor multivariate polynomials into irreducibles in `K[X]`. \"\"\"\u001b[39;00m\n\u001b[1;32m   1392\u001b[0m \u001b[38;5;28;01mif\u001b[39;00m \u001b[38;5;129;01mnot\u001b[39;00m u:\n\u001b[0;32m-> 1393\u001b[0m     \u001b[38;5;28;01mreturn\u001b[39;00m dup_factor_list(f, K0)\n\u001b[1;32m   1395\u001b[0m J, f \u001b[38;5;241m=\u001b[39m dmp_terms_gcd(f, u, K0)\n\u001b[1;32m   1396\u001b[0m cont, f \u001b[38;5;241m=\u001b[39m dmp_ground_primitive(f, u, K0)\n",
      "File \u001b[0;32m~/miniconda3/lib/python3.11/site-packages/sympy/polys/factortools.py:1321\u001b[0m, in \u001b[0;36mdup_factor_list\u001b[0;34m(f, K0)\u001b[0m\n\u001b[1;32m   1319\u001b[0m     coeff, factors \u001b[38;5;241m=\u001b[39m dup_gf_factor(f, K0)\n\u001b[1;32m   1320\u001b[0m \u001b[38;5;28;01melif\u001b[39;00m K0\u001b[38;5;241m.\u001b[39mis_Algebraic:\n\u001b[0;32m-> 1321\u001b[0m     coeff, factors \u001b[38;5;241m=\u001b[39m dup_ext_factor(f, K0)\n\u001b[1;32m   1322\u001b[0m \u001b[38;5;28;01melif\u001b[39;00m K0\u001b[38;5;241m.\u001b[39mis_GaussianRing:\n\u001b[1;32m   1323\u001b[0m     coeff, factors \u001b[38;5;241m=\u001b[39m dup_zz_i_factor(f, K0)\n",
      "File \u001b[0;32m~/miniconda3/lib/python3.11/site-packages/sympy/polys/factortools.py:1247\u001b[0m, in \u001b[0;36mdup_ext_factor\u001b[0;34m(f, K)\u001b[0m\n\u001b[1;32m   1244\u001b[0m     \u001b[38;5;28;01mreturn\u001b[39;00m lc, [(f, \u001b[38;5;241m1\u001b[39m)]\n\u001b[1;32m   1246\u001b[0m f, F \u001b[38;5;241m=\u001b[39m dup_sqf_part(f, K), f\n\u001b[0;32m-> 1247\u001b[0m s, g, r \u001b[38;5;241m=\u001b[39m dup_sqf_norm(f, K)\n\u001b[1;32m   1249\u001b[0m factors \u001b[38;5;241m=\u001b[39m dup_factor_list_include(r, K\u001b[38;5;241m.\u001b[39mdom)\n\u001b[1;32m   1251\u001b[0m \u001b[38;5;28;01mif\u001b[39;00m \u001b[38;5;28mlen\u001b[39m(factors) \u001b[38;5;241m==\u001b[39m \u001b[38;5;241m1\u001b[39m:\n",
      "File \u001b[0;32m~/miniconda3/lib/python3.11/site-packages/sympy/polys/sqfreetools.py:113\u001b[0m, in \u001b[0;36mdup_sqf_norm\u001b[0;34m(f, K)\u001b[0m\n\u001b[1;32m    110\u001b[0m h, _ \u001b[38;5;241m=\u001b[39m dmp_inject(f, \u001b[38;5;241m0\u001b[39m, K, front\u001b[38;5;241m=\u001b[39m\u001b[38;5;28;01mTrue\u001b[39;00m)\n\u001b[1;32m    111\u001b[0m r \u001b[38;5;241m=\u001b[39m dmp_resultant(g, h, \u001b[38;5;241m1\u001b[39m, K\u001b[38;5;241m.\u001b[39mdom)\n\u001b[0;32m--> 113\u001b[0m \u001b[38;5;28;01mif\u001b[39;00m dup_sqf_p(r, K\u001b[38;5;241m.\u001b[39mdom):\n\u001b[1;32m    114\u001b[0m     \u001b[38;5;28;01mbreak\u001b[39;00m\n\u001b[1;32m    115\u001b[0m \u001b[38;5;28;01melse\u001b[39;00m:\n",
      "File \u001b[0;32m~/miniconda3/lib/python3.11/site-packages/sympy/polys/sqfreetools.py:52\u001b[0m, in \u001b[0;36mdup_sqf_p\u001b[0;34m(f, K)\u001b[0m\n\u001b[1;32m     50\u001b[0m     \u001b[38;5;28;01mreturn\u001b[39;00m \u001b[38;5;28;01mTrue\u001b[39;00m\n\u001b[1;32m     51\u001b[0m \u001b[38;5;28;01melse\u001b[39;00m:\n\u001b[0;32m---> 52\u001b[0m     \u001b[38;5;28;01mreturn\u001b[39;00m \u001b[38;5;129;01mnot\u001b[39;00m dup_degree(dup_gcd(f, dup_diff(f, \u001b[38;5;241m1\u001b[39m, K), K))\n",
      "File \u001b[0;32m~/miniconda3/lib/python3.11/site-packages/sympy/polys/euclidtools.py:1605\u001b[0m, in \u001b[0;36mdup_gcd\u001b[0;34m(f, g, K)\u001b[0m\n\u001b[1;32m   1591\u001b[0m \u001b[38;5;28;01mdef\u001b[39;00m \u001b[38;5;21mdup_gcd\u001b[39m(f, g, K):\n\u001b[1;32m   1592\u001b[0m \u001b[38;5;250m    \u001b[39m\u001b[38;5;124;03m\"\"\"\u001b[39;00m\n\u001b[1;32m   1593\u001b[0m \u001b[38;5;124;03m    Computes polynomial GCD of `f` and `g` in `K[x]`.\u001b[39;00m\n\u001b[1;32m   1594\u001b[0m \n\u001b[0;32m   (...)\u001b[0m\n\u001b[1;32m   1603\u001b[0m \n\u001b[1;32m   1604\u001b[0m \u001b[38;5;124;03m    \"\"\"\u001b[39;00m\n\u001b[0;32m-> 1605\u001b[0m     \u001b[38;5;28;01mreturn\u001b[39;00m dup_inner_gcd(f, g, K)[\u001b[38;5;241m0\u001b[39m]\n",
      "File \u001b[0;32m~/miniconda3/lib/python3.11/site-packages/sympy/polys/euclidtools.py:1509\u001b[0m, in \u001b[0;36mdup_inner_gcd\u001b[0;34m(f, g, K)\u001b[0m\n\u001b[1;32m   1507\u001b[0m \u001b[38;5;28;01mif\u001b[39;00m K\u001b[38;5;241m.\u001b[39mis_QQ \u001b[38;5;129;01mand\u001b[39;00m query(\u001b[38;5;124m'\u001b[39m\u001b[38;5;124mUSE_HEU_GCD\u001b[39m\u001b[38;5;124m'\u001b[39m):\n\u001b[1;32m   1508\u001b[0m     \u001b[38;5;28;01mtry\u001b[39;00m:\n\u001b[0;32m-> 1509\u001b[0m         \u001b[38;5;28;01mreturn\u001b[39;00m dup_qq_heu_gcd(f, g, K)\n\u001b[1;32m   1510\u001b[0m     \u001b[38;5;28;01mexcept\u001b[39;00m HeuristicGCDFailed:\n\u001b[1;32m   1511\u001b[0m         \u001b[38;5;28;01mpass\u001b[39;00m\n",
      "File \u001b[0;32m~/miniconda3/lib/python3.11/site-packages/sympy/polys/euclidtools.py:1408\u001b[0m, in \u001b[0;36mdup_qq_heu_gcd\u001b[0;34m(f, g, K0)\u001b[0m\n\u001b[1;32m   1405\u001b[0m f \u001b[38;5;241m=\u001b[39m dup_convert(f, K0, K1)\n\u001b[1;32m   1406\u001b[0m g \u001b[38;5;241m=\u001b[39m dup_convert(g, K0, K1)\n\u001b[0;32m-> 1408\u001b[0m h, cff, cfg \u001b[38;5;241m=\u001b[39m dup_zz_heu_gcd(f, g, K1)\n\u001b[1;32m   1410\u001b[0m h \u001b[38;5;241m=\u001b[39m dup_convert(h, K1, K0)\n\u001b[1;32m   1412\u001b[0m c \u001b[38;5;241m=\u001b[39m dup_LC(h, K0)\n",
      "File \u001b[0;32m~/miniconda3/lib/python3.11/site-packages/sympy/polys/euclidtools.py:1218\u001b[0m, in \u001b[0;36mdup_zz_heu_gcd\u001b[0;34m(f, g, K)\u001b[0m\n\u001b[1;32m   1215\u001b[0m cff_, r \u001b[38;5;241m=\u001b[39m dup_div(f, h, K)\n\u001b[1;32m   1217\u001b[0m \u001b[38;5;28;01mif\u001b[39;00m \u001b[38;5;129;01mnot\u001b[39;00m r:\n\u001b[0;32m-> 1218\u001b[0m     cfg_, r \u001b[38;5;241m=\u001b[39m dup_div(g, h, K)\n\u001b[1;32m   1220\u001b[0m     \u001b[38;5;28;01mif\u001b[39;00m \u001b[38;5;129;01mnot\u001b[39;00m r:\n\u001b[1;32m   1221\u001b[0m         h \u001b[38;5;241m=\u001b[39m dup_mul_ground(h, gcd, K)\n",
      "File \u001b[0;32m~/miniconda3/lib/python3.11/site-packages/sympy/polys/densearith.py:1536\u001b[0m, in \u001b[0;36mdup_div\u001b[0;34m(f, g, K)\u001b[0m\n\u001b[1;32m   1534\u001b[0m     \u001b[38;5;28;01mreturn\u001b[39;00m dup_ff_div(f, g, K)\n\u001b[1;32m   1535\u001b[0m \u001b[38;5;28;01melse\u001b[39;00m:\n\u001b[0;32m-> 1536\u001b[0m     \u001b[38;5;28;01mreturn\u001b[39;00m dup_rr_div(f, g, K)\n",
      "File \u001b[0;32m~/miniconda3/lib/python3.11/site-packages/sympy/polys/densearith.py:1349\u001b[0m, in \u001b[0;36mdup_rr_div\u001b[0;34m(f, g, K)\u001b[0m\n\u001b[1;32m   1345\u001b[0m r \u001b[38;5;241m=\u001b[39m dup_sub(r, h, K)\n\u001b[1;32m   1347\u001b[0m _dr, dr \u001b[38;5;241m=\u001b[39m dr, dup_degree(r)\n\u001b[0;32m-> 1349\u001b[0m \u001b[38;5;28;01mif\u001b[39;00m dr \u001b[38;5;241m<\u001b[39m dg:\n\u001b[1;32m   1350\u001b[0m     \u001b[38;5;28;01mbreak\u001b[39;00m\n\u001b[1;32m   1351\u001b[0m \u001b[38;5;28;01melif\u001b[39;00m \u001b[38;5;129;01mnot\u001b[39;00m (dr \u001b[38;5;241m<\u001b[39m _dr):\n",
      "File \u001b[0;32m~/miniconda3/lib/python3.11/site-packages/sympy/core/decorators.py:231\u001b[0m, in \u001b[0;36m_SympifyWrapper.make_wrapped.<locals>._func\u001b[0;34m(self, other)\u001b[0m\n\u001b[1;32m    229\u001b[0m \u001b[38;5;28;01mif\u001b[39;00m \u001b[38;5;129;01mnot\u001b[39;00m \u001b[38;5;28mhasattr\u001b[39m(other, \u001b[38;5;124m'\u001b[39m\u001b[38;5;124m_op_priority\u001b[39m\u001b[38;5;124m'\u001b[39m):\n\u001b[1;32m    230\u001b[0m     \u001b[38;5;28;01mtry\u001b[39;00m:\n\u001b[0;32m--> 231\u001b[0m         other \u001b[38;5;241m=\u001b[39m sympify(other, strict\u001b[38;5;241m=\u001b[39m\u001b[38;5;28;01mTrue\u001b[39;00m)\n\u001b[1;32m    232\u001b[0m     \u001b[38;5;28;01mexcept\u001b[39;00m SympifyError:\n\u001b[1;32m    233\u001b[0m         \u001b[38;5;28;01mreturn\u001b[39;00m retval\n",
      "File \u001b[0;32m~/miniconda3/lib/python3.11/site-packages/sympy/core/sympify.py:378\u001b[0m, in \u001b[0;36msympify\u001b[0;34m(a, locals, convert_xor, strict, rational, evaluate)\u001b[0m\n\u001b[1;32m    375\u001b[0m \u001b[38;5;66;03m#Check if there exists a converter for any of the types in the mro\u001b[39;00m\n\u001b[1;32m    376\u001b[0m \u001b[38;5;28;01mfor\u001b[39;00m superclass \u001b[38;5;129;01min\u001b[39;00m getmro(\u001b[38;5;28mcls\u001b[39m):\n\u001b[1;32m    377\u001b[0m     \u001b[38;5;66;03m#First check for user defined converters\u001b[39;00m\n\u001b[0;32m--> 378\u001b[0m     conv \u001b[38;5;241m=\u001b[39m _external_converter\u001b[38;5;241m.\u001b[39mget(superclass)\n\u001b[1;32m    379\u001b[0m     \u001b[38;5;28;01mif\u001b[39;00m conv \u001b[38;5;129;01mis\u001b[39;00m \u001b[38;5;28;01mNone\u001b[39;00m:\n\u001b[1;32m    380\u001b[0m         \u001b[38;5;66;03m#if none exists, check for SymPy defined converters\u001b[39;00m\n\u001b[1;32m    381\u001b[0m         conv \u001b[38;5;241m=\u001b[39m _sympy_converter\u001b[38;5;241m.\u001b[39mget(superclass)\n",
      "\u001b[0;31mKeyboardInterrupt\u001b[0m: "
     ]
    }
   ],
   "source": [
    "simplify(rationalize_coeffs(simplify(simplify(v_i).subs(L,0))))"
   ]
  },
  {
   "attachments": {},
   "cell_type": "markdown",
   "metadata": {},
   "source": [
    "# calculate $\\delta v_\\mu$ in SS coordinates"
   ]
  },
  {
   "attachments": {},
   "cell_type": "markdown",
   "metadata": {},
   "source": [
    "$\\newcommand{\\overbar}[1]{\\mkern 1.5mu\\overline{\\mkern-1.5mu#1\\mkern-1.5mu}\\mkern 1.5mu}\\textbf{}$\n",
    "\n",
    "$\\delta v_\\alpha = \\frac{\\hbar}{m i } \\overbar{\\Psi}_0^{(\\sigma)} \\Gamma_\\alpha \\Psi_0^{(\\sigma)}$ \\\n",
    "$\\delta v_\\alpha = \\frac{\\hbar}{m i } \\frac{-1}{2}\\overbar{\\Psi}_0^{(\\sigma)} \\omega_{\\alpha a b}\\Gamma_{(1/2)}(M^{a b }) \\Psi_0^{(\\sigma)}$ \\\n",
    "$\\delta v_\\alpha = -\\frac{\\hbar}{2m i } \\omega_{\\alpha a b}\\overbar{\\Psi}_0^{(\\sigma)} \\Gamma_{(1/2)}(M^{a b }) \\Psi_0^{(\\sigma)}$\n",
    "$:= -\\frac{\\hbar}{2m i } \\omega_{\\alpha a b}\\Sigma^{ab}$\n",
    "\n",
    "$\\Sigma^{ab} = \\overbar{\\Psi}_0^{(\\sigma)} \\Gamma_{(1/2)}(M^{a b }) \\Psi_0^{(\\sigma)} =  \\frac{1}{4}\\overbar{\\Psi}_0^{(\\sigma)} \\left[ \\gamma^a, \\gamma^b\\right]\\Psi_0^{(\\sigma)}$"
   ]
  },
  {
   "cell_type": "code",
   "execution_count": 184,
   "metadata": {},
   "outputs": [
    {
     "data": {
      "text/latex": [
       "$\\displaystyle \\left[\\begin{matrix}0 & 0 & 0 & 0\\\\0 & 0 & - \\frac{i \\cos{\\left(\\xi \\right)}}{2} & \\frac{i \\sin{\\left(\\chi \\right)} \\sin{\\left(\\xi \\right)}}{2}\\\\0 & \\frac{i \\cos{\\left(\\xi \\right)}}{2} & 0 & - \\frac{i \\sin{\\left(\\xi \\right)} \\cos{\\left(\\chi \\right)}}{2}\\\\0 & - \\frac{i \\sin{\\left(\\chi \\right)} \\sin{\\left(\\xi \\right)}}{2} & \\frac{i \\sin{\\left(\\xi \\right)} \\cos{\\left(\\chi \\right)}}{2} & 0\\end{matrix}\\right]$"
      ],
      "text/plain": [
       "⎡0            0                      0                      0           ⎤\n",
       "⎢                                                                       ⎥\n",
       "⎢                               -ⅈ⋅cos(\\xi)        ⅈ⋅sin(\\chi)⋅sin(\\xi) ⎥\n",
       "⎢0            0                 ────────────       ──────────────────── ⎥\n",
       "⎢                                    2                      2           ⎥\n",
       "⎢                                                                       ⎥\n",
       "⎢         ⅈ⋅cos(\\xi)                              -ⅈ⋅sin(\\xi)⋅cos(\\chi) ⎥\n",
       "⎢0        ──────────                 0            ──────────────────────⎥\n",
       "⎢             2                                             2           ⎥\n",
       "⎢                                                                       ⎥\n",
       "⎢   -ⅈ⋅sin(\\chi)⋅sin(\\xi)   ⅈ⋅sin(\\xi)⋅cos(\\chi)                        ⎥\n",
       "⎢0  ──────────────────────  ────────────────────            0           ⎥\n",
       "⎣             2                      2                                  ⎦"
      ]
     },
     "execution_count": 184,
     "metadata": {},
     "output_type": "execute_result"
    }
   ],
   "source": [
    "xi = symbols(\"\\\\xi\", real=True)\n",
    "chi = symbols(\"\\\\chi\", real=True)\n",
    "\n",
    "def commutator(a,b):\n",
    "    return mgamma(a)@mgamma(b) - mgamma(b)@mgamma(a)\n",
    "\n",
    "def Sigma(a,b):\n",
    "    psi = Matrix([[cos(xi/2),exp(I*chi)*sin(xi/2),0,0]]).T\n",
    "    #psi = Matrix([[1,0,0,0]]).T #z-direction\n",
    "    #psi = Matrix([[0,1,0,0]]).T\n",
    "    #psi = Matrix([[1/sqrt(2), I*1/sqrt(2),0,0]]).T #y-direction\n",
    "    #psi = Matrix([[1/sqrt(2), -1/sqrt(2),0,0]]).T\n",
    "\n",
    "    return conjugate(psi).T@mgamma(0)@commutator(a,b)@psi/4\n",
    "\n",
    "def Sigma_as_Matrix():\n",
    "    s = zeros(4)\n",
    "    for i in range(4):\n",
    "        for j in range(4):\n",
    "            s[i,j] = Sigma(i,j)\n",
    "    return s\n",
    "\n",
    "\n",
    "Sigma_ab = Sigma_as_Matrix()\n",
    "Sigma_ab = simplify(Sigma_ab)\n",
    "\n",
    "Sigma_ab"
   ]
  },
  {
   "attachments": {},
   "cell_type": "markdown",
   "metadata": {},
   "source": [
    "\n",
    "\n",
    "\n",
    "$\\omega_{\\mu}^{ab} = \\Gamma^\\nu_{\\ \\ \\ \\alpha \\mu}e_\\nu^{\\ \\ \\  a}e^{\\alpha b}    - e^{\\nu b}(\\partial_\\mu  e_\\nu^{\\ \\  \\ a}) $ \n",
    "\n",
    "\n"
   ]
  },
  {
   "cell_type": "code",
   "execution_count": 361,
   "metadata": {},
   "outputs": [],
   "source": [
    "sig = TensorHead(\"sigma\", [Fermi, Fermi])\n",
    "\n",
    "repl[sig(i,j)] = Sigma_ab.tolist()"
   ]
  },
  {
   "cell_type": "code",
   "execution_count": 278,
   "metadata": {},
   "outputs": [],
   "source": [
    "deltav = (Gamma(nu,-alpha, -mu)*tetraed(i,-nu)*tetraed(j,alpha) - tetraed(j,nu)*PartialDerivative(tetraed(i,-nu), x(mu)))*sig(-j, -i)"
   ]
  },
  {
   "cell_type": "code",
   "execution_count": 284,
   "metadata": {},
   "outputs": [],
   "source": [
    "result = deltav.replace_with_arrays(repl, [mu]).subs(psi,0)"
   ]
  },
  {
   "cell_type": "code",
   "execution_count": 285,
   "metadata": {},
   "outputs": [
    {
     "data": {
      "image/png": "[encoded data removed]",
      "text/latex": [
       "$\\displaystyle \\left[ 0, \\  0, \\  - \\frac{i \\sqrt{2 E + 1} \\cos{\\left(\\xi \\right)}}{r^{2}}, \\  \\frac{\\sqrt{- 2 E - 1} \\sin{\\left(\\chi \\right)} \\sin{\\left(\\xi \\right)}}{r^{2}}\\right]$"
      ],
      "text/plain": [
       "⎡           _________              __________                   ⎤\n",
       "⎢      -ⅈ⋅╲╱ 2⋅E + 1 ⋅cos(\\xi)   ╲╱ -2⋅E - 1 ⋅sin(\\chi)⋅sin(\\xi)⎥\n",
       "⎢0, 0, ────────────────────────, ───────────────────────────────⎥\n",
       "⎢                  2                             2              ⎥\n",
       "⎣                 r                             r               ⎦"
      ]
     },
     "execution_count": 285,
     "metadata": {},
     "output_type": "execute_result"
    }
   ],
   "source": [
    "result_ = [\n",
    "    simplify(limit(result[0], L ,0).subs(theta,pi/2).subs(r_s, 2*M)), \n",
    "    simplify(limit(result[1], L ,0).subs(theta,pi/2).subs(r_s, 2*M)), \n",
    "    simplify(limit(result[2], L ,0).subs(theta,pi/2).subs(r_s, 2*M)),\n",
    "    simplify(limit(result[3], L ,0).subs(theta,pi/2).subs(r_s, 2*M)) \n",
    "]\n",
    "result_"
   ]
  },
  {
   "cell_type": "code",
   "execution_count": 226,
   "metadata": {},
   "outputs": [],
   "source": [
    "tetrad_ = simplify(tetraed(-i, mu).replace_with_arrays(repl, [-i,mu]))"
   ]
  },
  {
   "cell_type": "code",
   "execution_count": 276,
   "metadata": {},
   "outputs": [
    {
     "data": {
      "text/latex": [
       "$\\displaystyle \\left[\\begin{matrix}\\frac{r}{- 2 M + r} & - \\frac{\\sqrt{2} \\sqrt{M}}{\\sqrt{r}} & 0 & 0\\\\\\frac{\\sqrt{2} \\sqrt{M} \\sqrt{r}}{2 M - r} & 1 & 0 & 0\\\\0 & 0 & \\frac{1}{r} & 0\\\\0 & 0 & 0 & \\frac{1}{r}\\end{matrix}\\right]$"
      ],
      "text/plain": [
       "⎡   r      -√2⋅√M       ⎤\n",
       "⎢────────  ───────  0  0⎥\n",
       "⎢-2⋅M + r     √r        ⎥\n",
       "⎢                       ⎥\n",
       "⎢√2⋅√M⋅√r               ⎥\n",
       "⎢────────     1     0  0⎥\n",
       "⎢2⋅M - r                ⎥\n",
       "⎢                       ⎥\n",
       "⎢                   1   ⎥\n",
       "⎢   0         0     ─  0⎥\n",
       "⎢                   r   ⎥\n",
       "⎢                       ⎥\n",
       "⎢                      1⎥\n",
       "⎢   0         0     0  ─⎥\n",
       "⎣                      r⎦"
      ]
     },
     "execution_count": 276,
     "metadata": {},
     "output_type": "execute_result"
    }
   ],
   "source": [
    "simplify(tetrad_.subs(L,0).subs(psi,0).subs(Energy,0))"
   ]
  },
  {
   "cell_type": "code",
   "execution_count": 376,
   "metadata": {},
   "outputs": [
    {
     "name": "stderr",
     "output_type": "stream",
     "text": [
      "/tmp/ipykernel_104796/1152767300.py:1: SymPyDeprecationWarning: \n",
      "\n",
      "Calling a tensor like Tensor(*indices) is deprecated. Use\n",
      "Tensor.substitute_indices() instead.\n",
      "\n",
      "See https://docs.sympy.org/latest/explanation/active-deprecations.html#deprecated-tensor-fun-eval\n",
      "for details.\n",
      "\n",
      "This has been deprecated since SymPy version 1.5. It\n",
      "will be removed in a future version of SymPy.\n",
      "\n",
      "  simplify(limit((deltav(-mu)*tetraed(i,mu)).replace_with_arrays(repl,[i]).subs(psi,0)[3],L,0)).subs(theta,pi/2)\n"
     ]
    },
    {
     "data": {
      "image/png": "[encoded data removed]",
      "text/latex": [
       "$\\displaystyle \\frac{i \\sqrt{2 E + 1} \\sin{\\left(\\chi \\right)} \\sin{\\left(\\xi \\right)}}{r}$"
      ],
      "text/plain": [
       "    _________                   \n",
       "ⅈ⋅╲╱ 2⋅E + 1 ⋅sin(\\chi)⋅sin(\\xi)\n",
       "────────────────────────────────\n",
       "               r                "
      ]
     },
     "execution_count": 376,
     "metadata": {},
     "output_type": "execute_result"
    }
   ],
   "source": [
    "simplify(limit((deltav(-mu)*tetraed(i,mu)).replace_with_arrays(repl,[i]).subs(psi,0)[3],L,0)).subs(theta,pi/2)"
   ]
  },
  {
   "cell_type": "code",
   "execution_count": 363,
   "metadata": {},
   "outputs": [],
   "source": [
    "a = Riemann(-mu,nu,-rho, -delta)*u(-nu)*sig(i, j)*tetraed(-i,rho)*tetraed(-j,delta)\n",
    "a = a.replace_with_arrays(repl, a.get_free_indices())"
   ]
  },
  {
   "cell_type": "code",
   "execution_count": 382,
   "metadata": {},
   "outputs": [
    {
     "data": {
      "text/latex": [
       "$\\displaystyle \\left[\\begin{matrix}\\frac{i L M \\left(- 2 M + r\\right) \\left(\\frac{\\left(L^{2} + r^{2}\\right) \\sin{\\left(\\Psi{\\left(r \\right)} \\right)}}{L r^{2} \\sqrt{1 + \\frac{r^{2}}{L^{2}}}} + \\frac{\\left(L^{2} + r^{2}\\right) \\cos{\\left(\\Psi{\\left(r \\right)} \\right)}}{L r^{2} \\sqrt{1 + \\frac{r^{2}}{L^{2}}}}\\right) \\left(- \\frac{r \\sqrt{2 E + 1} \\sin{\\left(\\Psi{\\left(r \\right)} \\right)}}{\\sqrt{1 + \\frac{r^{2}}{L^{2}}} \\left(- 2 M + r\\right)} - \\frac{\\sqrt{2 E + \\frac{2 L^{2} M}{r^{3}} - \\frac{L^{2}}{r^{2}} + \\frac{2 M}{r}} \\cos{\\left(\\Psi{\\left(r \\right)} \\right)}}{\\sqrt{\\frac{L^{2}}{r^{2}} + 1} \\left(- \\frac{2 M}{r} + 1\\right)}\\right) \\sin{\\left(\\chi \\right)} \\sin{\\left(\\xi \\right)}}{2 r^{4}} + \\frac{i M \\left(- \\frac{\\sqrt{2 E + \\frac{2 L^{2} M}{r^{3}} - \\frac{L^{2}}{r^{2}} + \\frac{2 M}{r}} \\sin{\\left(\\Psi{\\left(r \\right)} \\right)}}{\\sqrt{1 + \\frac{r^{2}}{L^{2}}}} - \\frac{\\sqrt{2 E + \\frac{2 L^{2} M}{r^{3}} - \\frac{L^{2}}{r^{2}} + \\frac{2 M}{r}} \\cos{\\left(\\Psi{\\left(r \\right)} \\right)}}{\\sqrt{1 + \\frac{r^{2}}{L^{2}}}}\\right) \\left(- \\frac{r \\sqrt{2 E + 1} \\sin{\\left(\\Psi{\\left(r \\right)} \\right)}}{\\sqrt{1 + \\frac{r^{2}}{L^{2}}} \\left(- 2 M + r\\right)} - \\frac{\\sqrt{2 E + \\frac{2 L^{2} M}{r^{3}} - \\frac{L^{2}}{r^{2}} + \\frac{2 M}{r}} \\cos{\\left(\\Psi{\\left(r \\right)} \\right)}}{\\sqrt{\\frac{L^{2}}{r^{2}} + 1} \\left(- \\frac{2 M}{r} + 1\\right)}\\right) \\sqrt{2 E + \\frac{2 L^{2} M}{r^{3}} - \\frac{L^{2}}{r^{2}} + \\frac{2 M}{r}} \\sin{\\left(\\chi \\right)} \\sin{\\left(\\xi \\right)}}{r^{3}} - \\frac{i M \\left(\\frac{r \\sqrt{2 E + 1} \\sin{\\left(\\Psi{\\left(r \\right)} \\right)}}{\\sqrt{1 + \\frac{r^{2}}{L^{2}}} \\left(- 2 M + r\\right)} + \\frac{r \\sqrt{2 E + 1} \\cos{\\left(\\Psi{\\left(r \\right)} \\right)}}{\\sqrt{1 + \\frac{r^{2}}{L^{2}}} \\left(- 2 M + r\\right)}\\right) \\left(\\frac{r \\sqrt{2 E + 1} \\left(- \\frac{2 M}{r} + 1\\right) \\cos{\\left(\\Psi{\\left(r \\right)} \\right)}}{\\left(- 2 M + r\\right) \\sqrt{\\frac{L^{2}}{r^{2}} + 1}} + \\frac{\\sqrt{2 E + \\frac{2 L^{2} M}{r^{3}} - \\frac{L^{2}}{r^{2}} + \\frac{2 M}{r}} \\sin{\\left(\\Psi{\\left(r \\right)} \\right)}}{\\sqrt{1 + \\frac{r^{2}}{L^{2}}}}\\right) \\sqrt{2 E + \\frac{2 L^{2} M}{r^{3}} - \\frac{L^{2}}{r^{2}} + \\frac{2 M}{r}} \\sin{\\left(\\chi \\right)} \\sin{\\left(\\xi \\right)}}{r^{3}} + \\frac{i M \\left(L^{2} + r^{2}\\right) \\left(- 2 M + r\\right) \\left(\\frac{r \\sqrt{2 E + 1} \\sin{\\left(\\Psi{\\left(r \\right)} \\right)}}{\\sqrt{1 + \\frac{r^{2}}{L^{2}}} \\left(- 2 M + r\\right)} + \\frac{r \\sqrt{2 E + 1} \\cos{\\left(\\Psi{\\left(r \\right)} \\right)}}{\\sqrt{1 + \\frac{r^{2}}{L^{2}}} \\left(- 2 M + r\\right)}\\right) \\sin{\\left(\\chi \\right)} \\sin{\\left(\\xi \\right)} \\sin{\\left(\\Psi{\\left(r \\right)} \\right)}}{2 r^{6} \\sqrt{1 + \\frac{r^{2}}{L^{2}}}}\\\\\\frac{i L M \\left(\\frac{\\left(L^{2} + r^{2}\\right) \\sin{\\left(\\Psi{\\left(r \\right)} \\right)}}{L r^{2} \\sqrt{1 + \\frac{r^{2}}{L^{2}}}} + \\frac{\\left(L^{2} + r^{2}\\right) \\cos{\\left(\\Psi{\\left(r \\right)} \\right)}}{L r^{2} \\sqrt{1 + \\frac{r^{2}}{L^{2}}}}\\right) \\left(\\frac{r \\sqrt{2 E + 1} \\left(- \\frac{2 M}{r} + 1\\right) \\cos{\\left(\\Psi{\\left(r \\right)} \\right)}}{\\left(- 2 M + r\\right) \\sqrt{\\frac{L^{2}}{r^{2}} + 1}} + \\frac{\\sqrt{2 E + \\frac{2 L^{2} M}{r^{3}} - \\frac{L^{2}}{r^{2}} + \\frac{2 M}{r}} \\sin{\\left(\\Psi{\\left(r \\right)} \\right)}}{\\sqrt{1 + \\frac{r^{2}}{L^{2}}}}\\right) \\sin{\\left(\\chi \\right)} \\sin{\\left(\\xi \\right)}}{2 r^{2} \\cdot \\left(2 M - r\\right)} + \\frac{i M \\sqrt{2 E + 1} \\left(- \\frac{\\sqrt{2 E + \\frac{2 L^{2} M}{r^{3}} - \\frac{L^{2}}{r^{2}} + \\frac{2 M}{r}} \\sin{\\left(\\Psi{\\left(r \\right)} \\right)}}{\\sqrt{1 + \\frac{r^{2}}{L^{2}}}} - \\frac{\\sqrt{2 E + \\frac{2 L^{2} M}{r^{3}} - \\frac{L^{2}}{r^{2}} + \\frac{2 M}{r}} \\cos{\\left(\\Psi{\\left(r \\right)} \\right)}}{\\sqrt{1 + \\frac{r^{2}}{L^{2}}}}\\right) \\left(- \\frac{r \\sqrt{2 E + 1} \\sin{\\left(\\Psi{\\left(r \\right)} \\right)}}{\\sqrt{1 + \\frac{r^{2}}{L^{2}}} \\left(- 2 M + r\\right)} - \\frac{\\sqrt{2 E + \\frac{2 L^{2} M}{r^{3}} - \\frac{L^{2}}{r^{2}} + \\frac{2 M}{r}} \\cos{\\left(\\Psi{\\left(r \\right)} \\right)}}{\\sqrt{\\frac{L^{2}}{r^{2}} + 1} \\left(- \\frac{2 M}{r} + 1\\right)}\\right) \\sin{\\left(\\chi \\right)} \\sin{\\left(\\xi \\right)}}{r^{2} \\left(- 2 M + r\\right)} - \\frac{i M \\sqrt{2 E + 1} \\left(\\frac{r \\sqrt{2 E + 1} \\sin{\\left(\\Psi{\\left(r \\right)} \\right)}}{\\sqrt{1 + \\frac{r^{2}}{L^{2}}} \\left(- 2 M + r\\right)} + \\frac{r \\sqrt{2 E + 1} \\cos{\\left(\\Psi{\\left(r \\right)} \\right)}}{\\sqrt{1 + \\frac{r^{2}}{L^{2}}} \\left(- 2 M + r\\right)}\\right) \\left(\\frac{r \\sqrt{2 E + 1} \\left(- \\frac{2 M}{r} + 1\\right) \\cos{\\left(\\Psi{\\left(r \\right)} \\right)}}{\\left(- 2 M + r\\right) \\sqrt{\\frac{L^{2}}{r^{2}} + 1}} + \\frac{\\sqrt{2 E + \\frac{2 L^{2} M}{r^{3}} - \\frac{L^{2}}{r^{2}} + \\frac{2 M}{r}} \\sin{\\left(\\Psi{\\left(r \\right)} \\right)}}{\\sqrt{1 + \\frac{r^{2}}{L^{2}}}}\\right) \\sin{\\left(\\chi \\right)} \\sin{\\left(\\xi \\right)}}{r^{2} \\left(- 2 M + r\\right)} + \\frac{i M \\left(L^{2} + r^{2}\\right) \\left(- \\frac{\\sqrt{2 E + \\frac{2 L^{2} M}{r^{3}} - \\frac{L^{2}}{r^{2}} + \\frac{2 M}{r}} \\sin{\\left(\\Psi{\\left(r \\right)} \\right)}}{\\sqrt{1 + \\frac{r^{2}}{L^{2}}}} - \\frac{\\sqrt{2 E + \\frac{2 L^{2} M}{r^{3}} - \\frac{L^{2}}{r^{2}} + \\frac{2 M}{r}} \\cos{\\left(\\Psi{\\left(r \\right)} \\right)}}{\\sqrt{1 + \\frac{r^{2}}{L^{2}}}}\\right) \\sin{\\left(\\chi \\right)} \\sin{\\left(\\xi \\right)} \\sin{\\left(\\Psi{\\left(r \\right)} \\right)}}{2 r^{4} \\sqrt{1 + \\frac{r^{2}}{L^{2}}} \\cdot \\left(2 M - r\\right)}\\\\- \\frac{i L M \\left(\\frac{\\left(L^{2} + r^{2}\\right) \\sin{\\left(\\Psi{\\left(r \\right)} \\right)}}{L r^{2} \\sqrt{1 + \\frac{r^{2}}{L^{2}}}} + \\frac{\\left(L^{2} + r^{2}\\right) \\cos{\\left(\\Psi{\\left(r \\right)} \\right)}}{L r^{2} \\sqrt{1 + \\frac{r^{2}}{L^{2}}}}\\right) \\sin{\\left(\\xi \\right)} \\cos{\\left(\\chi \\right)}}{r^{2}} + \\frac{i M \\left(- \\frac{\\sqrt{2 E + \\frac{2 L^{2} M}{r^{3}} - \\frac{L^{2}}{r^{2}} + \\frac{2 M}{r}} \\sin{\\left(\\Psi{\\left(r \\right)} \\right)}}{\\sqrt{1 + \\frac{r^{2}}{L^{2}}}} - \\frac{\\sqrt{2 E + \\frac{2 L^{2} M}{r^{3}} - \\frac{L^{2}}{r^{2}} + \\frac{2 M}{r}} \\cos{\\left(\\Psi{\\left(r \\right)} \\right)}}{\\sqrt{1 + \\frac{r^{2}}{L^{2}}}}\\right) \\sqrt{2 E + \\frac{2 L^{2} M}{r^{3}} - \\frac{L^{2}}{r^{2}} + \\frac{2 M}{r}} \\sin{\\left(\\xi \\right)} \\cos{\\left(\\chi \\right)}}{2 r \\left(2 M - r\\right)} - \\frac{i M \\left(\\frac{r \\sqrt{2 E + 1} \\left(- \\frac{2 M}{r} + 1\\right) \\cos{\\left(\\Psi{\\left(r \\right)} \\right)}}{\\left(- 2 M + r\\right) \\sqrt{\\frac{L^{2}}{r^{2}} + 1}} + \\frac{\\sqrt{2 E + \\frac{2 L^{2} M}{r^{3}} - \\frac{L^{2}}{r^{2}} + \\frac{2 M}{r}} \\sin{\\left(\\Psi{\\left(r \\right)} \\right)}}{\\sqrt{1 + \\frac{r^{2}}{L^{2}}}}\\right) \\sqrt{2 E + \\frac{2 L^{2} M}{r^{3}} - \\frac{L^{2}}{r^{2}} + \\frac{2 M}{r}} \\cos{\\left(\\xi \\right)}}{2 r \\left(2 M - r\\right)} + \\frac{i M \\sqrt{2 E + 1} \\left(- \\frac{r \\sqrt{2 E + 1} \\sin{\\left(\\Psi{\\left(r \\right)} \\right)}}{\\sqrt{1 + \\frac{r^{2}}{L^{2}}} \\left(- 2 M + r\\right)} - \\frac{\\sqrt{2 E + \\frac{2 L^{2} M}{r^{3}} - \\frac{L^{2}}{r^{2}} + \\frac{2 M}{r}} \\cos{\\left(\\Psi{\\left(r \\right)} \\right)}}{\\sqrt{\\frac{L^{2}}{r^{2}} + 1} \\left(- \\frac{2 M}{r} + 1\\right)}\\right) \\cos{\\left(\\xi \\right)}}{2 r^{2}} - \\frac{i M \\sqrt{2 E + 1} \\left(\\frac{r \\sqrt{2 E + 1} \\sin{\\left(\\Psi{\\left(r \\right)} \\right)}}{\\sqrt{1 + \\frac{r^{2}}{L^{2}}} \\left(- 2 M + r\\right)} + \\frac{r \\sqrt{2 E + 1} \\cos{\\left(\\Psi{\\left(r \\right)} \\right)}}{\\sqrt{1 + \\frac{r^{2}}{L^{2}}} \\left(- 2 M + r\\right)}\\right) \\sin{\\left(\\xi \\right)} \\cos{\\left(\\chi \\right)}}{2 r^{2}} - \\frac{i M \\left(L^{2} + r^{2}\\right) \\sin{\\left(\\Psi{\\left(r \\right)} \\right)} \\cos{\\left(\\xi \\right)}}{r^{4} \\sqrt{1 + \\frac{r^{2}}{L^{2}}}}\\\\\\frac{i M \\left(\\frac{\\left(L^{2} + r^{2}\\right) \\sin{\\left(\\Psi{\\left(r \\right)} \\right)}}{L r^{2} \\sqrt{1 + \\frac{r^{2}}{L^{2}}}} + \\frac{\\left(L^{2} + r^{2}\\right) \\cos{\\left(\\Psi{\\left(r \\right)} \\right)}}{L r^{2} \\sqrt{1 + \\frac{r^{2}}{L^{2}}}}\\right) \\left(\\frac{r \\sqrt{2 E + 1} \\left(- \\frac{2 M}{r} + 1\\right) \\cos{\\left(\\Psi{\\left(r \\right)} \\right)}}{\\left(- 2 M + r\\right) \\sqrt{\\frac{L^{2}}{r^{2}} + 1}} + \\frac{\\sqrt{2 E + \\frac{2 L^{2} M}{r^{3}} - \\frac{L^{2}}{r^{2}} + \\frac{2 M}{r}} \\sin{\\left(\\Psi{\\left(r \\right)} \\right)}}{\\sqrt{1 + \\frac{r^{2}}{L^{2}}}}\\right) \\sqrt{2 E + \\frac{2 L^{2} M}{r^{3}} - \\frac{L^{2}}{r^{2}} + \\frac{2 M}{r}} \\sin{\\left(\\chi \\right)} \\sin{\\left(\\xi \\right)}}{2 \\cdot \\left(2 M - r\\right)} - \\frac{i M \\sqrt{2 E + 1} \\left(\\frac{\\left(L^{2} + r^{2}\\right) \\sin{\\left(\\Psi{\\left(r \\right)} \\right)}}{L r^{2} \\sqrt{1 + \\frac{r^{2}}{L^{2}}}} + \\frac{\\left(L^{2} + r^{2}\\right) \\cos{\\left(\\Psi{\\left(r \\right)} \\right)}}{L r^{2} \\sqrt{1 + \\frac{r^{2}}{L^{2}}}}\\right) \\left(- \\frac{r \\sqrt{2 E + 1} \\sin{\\left(\\Psi{\\left(r \\right)} \\right)}}{\\sqrt{1 + \\frac{r^{2}}{L^{2}}} \\left(- 2 M + r\\right)} - \\frac{\\sqrt{2 E + \\frac{2 L^{2} M}{r^{3}} - \\frac{L^{2}}{r^{2}} + \\frac{2 M}{r}} \\cos{\\left(\\Psi{\\left(r \\right)} \\right)}}{\\sqrt{\\frac{L^{2}}{r^{2}} + 1} \\left(- \\frac{2 M}{r} + 1\\right)}\\right) \\sin{\\left(\\chi \\right)} \\sin{\\left(\\xi \\right)}}{2 r} + \\frac{i M \\left(L^{2} + r^{2}\\right) \\left(- \\frac{\\sqrt{2 E + \\frac{2 L^{2} M}{r^{3}} - \\frac{L^{2}}{r^{2}} + \\frac{2 M}{r}} \\sin{\\left(\\Psi{\\left(r \\right)} \\right)}}{\\sqrt{1 + \\frac{r^{2}}{L^{2}}}} - \\frac{\\sqrt{2 E + \\frac{2 L^{2} M}{r^{3}} - \\frac{L^{2}}{r^{2}} + \\frac{2 M}{r}} \\cos{\\left(\\Psi{\\left(r \\right)} \\right)}}{\\sqrt{1 + \\frac{r^{2}}{L^{2}}}}\\right) \\sqrt{2 E + \\frac{2 L^{2} M}{r^{3}} - \\frac{L^{2}}{r^{2}} + \\frac{2 M}{r}} \\sin{\\left(\\chi \\right)} \\sin{\\left(\\xi \\right)} \\sin{\\left(\\Psi{\\left(r \\right)} \\right)}}{2 L r^{2} \\sqrt{1 + \\frac{r^{2}}{L^{2}}} \\cdot \\left(2 M - r\\right)} - \\frac{i M \\sqrt{2 E + 1} \\left(L^{2} + r^{2}\\right) \\left(\\frac{r \\sqrt{2 E + 1} \\sin{\\left(\\Psi{\\left(r \\right)} \\right)}}{\\sqrt{1 + \\frac{r^{2}}{L^{2}}} \\left(- 2 M + r\\right)} + \\frac{r \\sqrt{2 E + 1} \\cos{\\left(\\Psi{\\left(r \\right)} \\right)}}{\\sqrt{1 + \\frac{r^{2}}{L^{2}}} \\left(- 2 M + r\\right)}\\right) \\sin{\\left(\\chi \\right)} \\sin{\\left(\\xi \\right)} \\sin{\\left(\\Psi{\\left(r \\right)} \\right)}}{2 L r^{3} \\sqrt{1 + \\frac{r^{2}}{L^{2}}}}\\end{matrix}\\right]$"
      ],
      "text/plain": [
       "⎡                                                             ⎛               \n",
       "⎢                                                             ⎜               \n",
       "⎢                                                             ⎜               \n",
       "⎢                                                             ⎜               \n",
       "⎢                 ⎛⎛ 2    2⎞             ⎛ 2    2⎞          ⎞ ⎜       ________\n",
       "⎢                 ⎜⎝L  + r ⎠⋅sin(Ψ(r))   ⎝L  + r ⎠⋅cos(Ψ(r))⎟ ⎜   r⋅╲╱ 2⋅E + 1\n",
       "⎢ⅈ⋅L⋅M⋅(-2⋅M + r)⋅⎜─────────────────── + ───────────────────⎟⋅⎜- ─────────────\n",
       "⎢                 ⎜           ________              ________⎟ ⎜        _______\n",
       "⎢                 ⎜          ╱      2              ╱      2 ⎟ ⎜       ╱      2\n",
       "⎢                 ⎜   2     ╱      r        2     ╱      r  ⎟ ⎜      ╱      r \n",
       "⎢                 ⎜L⋅r ⋅   ╱   1 + ──    L⋅r ⋅   ╱   1 + ── ⎟ ⎜     ╱   1 + ──\n",
       "⎢                 ⎜       ╱         2           ╱         2 ⎟ ⎜    ╱         2\n",
       "⎢                 ⎝     ╲╱         L          ╲╱         L  ⎠ ⎝  ╲╱         L \n",
       "⎢─────────────────────────────────────────────────────────────────────────────\n",
       "⎢                                                                             \n",
       "⎢                                                                           2⋅\n",
       "⎢                                                                             \n",
       "⎢                                                                             \n",
       "⎢                                                                             \n",
       "⎢                                                                             \n",
       "⎢                                                                             \n",
       "⎢                                                            ⎛                \n",
       "⎢                                                            ⎜                \n",
       "⎢                                                            ⎜                \n",
       "⎢                                                            ⎜    _________ ⎛ \n",
       "⎢                ⎛⎛ 2    2⎞             ⎛ 2    2⎞          ⎞ ⎜r⋅╲╱ 2⋅E + 1 ⋅⎜-\n",
       "⎢                ⎜⎝L  + r ⎠⋅sin(Ψ(r))   ⎝L  + r ⎠⋅cos(Ψ(r))⎟ ⎜              ⎝ \n",
       "⎢          ⅈ⋅L⋅M⋅⎜─────────────────── + ───────────────────⎟⋅⎜────────────────\n",
       "⎢                ⎜           ________              ________⎟ ⎜                \n",
       "⎢                ⎜          ╱      2              ╱      2 ⎟ ⎜                \n",
       "⎢                ⎜   2     ╱      r        2     ╱      r  ⎟ ⎜                \n",
       "⎢                ⎜L⋅r ⋅   ╱   1 + ──    L⋅r ⋅   ╱   1 + ── ⎟ ⎜     (-2⋅M + r)⋅\n",
       "⎢                ⎜       ╱         2           ╱         2 ⎟ ⎜                \n",
       "⎢                ⎝     ╲╱         L          ╲╱         L  ⎠ ⎝                \n",
       "⎢          ───────────────────────────────────────────────────────────────────\n",
       "⎢                                                                             \n",
       "⎢                                                                             \n",
       "⎢                                                                             \n",
       "⎢                                                                             \n",
       "⎢                                                                             \n",
       "⎢                                                                             \n",
       "⎢                                                                             \n",
       "⎢                                                                             \n",
       "⎢                                                                             \n",
       "⎢                                                                             \n",
       "⎢                                                                             \n",
       "⎢                                                             ⎛⎛ 2    2⎞      \n",
       "⎢                                                             ⎜⎝L  + r ⎠⋅sin(Ψ\n",
       "⎢                                                       ⅈ⋅L⋅M⋅⎜───────────────\n",
       "⎢                                                             ⎜           ____\n",
       "⎢                                                             ⎜          ╱    \n",
       "⎢                                                             ⎜   2     ╱     \n",
       "⎢                                                             ⎜L⋅r ⋅   ╱   1 +\n",
       "⎢                                                             ⎜       ╱       \n",
       "⎢                                                             ⎝     ╲╱        \n",
       "⎢                                                     - ──────────────────────\n",
       "⎢                                                                             \n",
       "⎢                                                                             \n",
       "⎢                                                                             \n",
       "⎢                                                                             \n",
       "⎢                                                                             \n",
       "⎢                                                                             \n",
       "⎢                                                                             \n",
       "⎢                                                                             \n",
       "⎢                                                                             \n",
       "⎢                                                                             \n",
       "⎢                                                                             \n",
       "⎢                                     ⎛⎛ 2    2⎞             ⎛ 2    2⎞        \n",
       "⎢                                     ⎜⎝L  + r ⎠⋅sin(Ψ(r))   ⎝L  + r ⎠⋅cos(Ψ(r\n",
       "⎢                                 ⅈ⋅M⋅⎜─────────────────── + ─────────────────\n",
       "⎢                                     ⎜           ________              ______\n",
       "⎢                                     ⎜          ╱      2              ╱      \n",
       "⎢                                     ⎜   2     ╱      r        2     ╱      r\n",
       "⎢                                     ⎜L⋅r ⋅   ╱   1 + ──    L⋅r ⋅   ╱   1 + ─\n",
       "⎢                                     ⎜       ╱         2           ╱         \n",
       "⎢                                     ⎝     ╲╱         L          ╲╱         L\n",
       "⎢                                 ────────────────────────────────────────────\n",
       "⎢                                                                             \n",
       "⎢                                                                             \n",
       "⎢                                                                             \n",
       "⎢                                                                             \n",
       "⎢                                                                             \n",
       "⎣                                                                             \n",
       "\n",
       "                     _________________________          ⎞                     \n",
       "                    ╱          2      2                 ⎟                     \n",
       "                   ╱        2⋅L ⋅M   L    2⋅M           ⎟                     \n",
       "                  ╱   2⋅E + ────── - ── + ─── ⋅cos(Ψ(r))⎟                     \n",
       "_                ╱             3      2    r            ⎟                     \n",
       " ⋅sin(Ψ(r))    ╲╱             r      r                  ⎟                     \n",
       "──────────── - ─────────────────────────────────────────⎟⋅sin(\\chi)⋅sin(\\xi)  \n",
       "_                            ________                   ⎟                     \n",
       "                            ╱  2                        ⎟                     \n",
       "                           ╱  L       ⎛  2⋅M    ⎞       ⎟                     \n",
       " ⋅(-2⋅M + r)              ╱   ── + 1 ⋅⎜- ─── + 1⎟       ⎟                     \n",
       "                         ╱     2      ⎝   r     ⎠       ⎟                     \n",
       "                       ╲╱     r                         ⎠                     \n",
       "──────────────────────────────────────────────────────────────────────────── +\n",
       " 4                                                                            \n",
       "r                                                                             \n",
       "                                                                              \n",
       "                                                                              \n",
       "                                                                              \n",
       "                                                                              \n",
       "                                                                              \n",
       "                            _________________________          ⎞              \n",
       "                           ╱          2      2                 ⎟              \n",
       "                          ╱        2⋅L ⋅M   L    2⋅M           ⎟              \n",
       " 2⋅M    ⎞                ╱   2⋅E + ────── - ── + ─── ⋅sin(Ψ(r))⎟              \n",
       " ─── + 1⎟⋅cos(Ψ(r))     ╱             3      2    r            ⎟              \n",
       "  r     ⎠             ╲╱             r      r                  ⎟              \n",
       "─────────────────── + ─────────────────────────────────────────⎟⋅sin(\\chi)⋅sin\n",
       "      ________                            ________             ⎟              \n",
       "     ╱  2                                ╱      2              ⎟              \n",
       "    ╱  L                                ╱      r               ⎟              \n",
       "   ╱   ── + 1                          ╱   1 + ──              ⎟              \n",
       "  ╱     2                             ╱         2              ⎟              \n",
       "╲╱     r                            ╲╱         L               ⎠              \n",
       "──────────────────────────────────────────────────────────────────────────────\n",
       "    2                                                                         \n",
       " 2⋅r ⋅(2⋅M - r)                                                               \n",
       "                                                                              \n",
       "                                                                              \n",
       "                                                                              \n",
       "                                                                              \n",
       "                                                                              \n",
       "                                                     ⎛        ________________\n",
       "                                                     ⎜       ╱          2     \n",
       "                                                     ⎜      ╱        2⋅L ⋅M   \n",
       "                                                     ⎜     ╱   2⋅E + ────── - \n",
       "       ⎛ 2    2⎞          ⎞                          ⎜    ╱             3     \n",
       "(r))   ⎝L  + r ⎠⋅cos(Ψ(r))⎟                          ⎜  ╲╱             r      \n",
       "──── + ───────────────────⎟⋅sin(\\xi)⋅cos(\\chi)   ⅈ⋅M⋅⎜- ──────────────────────\n",
       "____              ________⎟                          ⎜                      __\n",
       "  2              ╱      2 ⎟                          ⎜                     ╱  \n",
       " r        2     ╱      r  ⎟                          ⎜                    ╱   \n",
       " ──    L⋅r ⋅   ╱   1 + ── ⎟                          ⎜                   ╱   1\n",
       "  2           ╱         2 ⎟                          ⎜                  ╱     \n",
       " L          ╲╱         L  ⎠                          ⎝                ╲╱      \n",
       "────────────────────────────────────────────── + ─────────────────────────────\n",
       "            2                                                                 \n",
       "           r                                                                  \n",
       "                                                                              \n",
       "                                                                              \n",
       "                                                                              \n",
       "                                                                              \n",
       "                                                                              \n",
       "    ⎛                                            _________________________    \n",
       "    ⎜                                           ╱          2      2           \n",
       "    ⎜                                          ╱        2⋅L ⋅M   L    2⋅M     \n",
       "    ⎜    _________ ⎛  2⋅M    ⎞                ╱   2⋅E + ────── - ── + ─── ⋅sin\n",
       "  ⎞ ⎜r⋅╲╱ 2⋅E + 1 ⋅⎜- ─── + 1⎟⋅cos(Ψ(r))     ╱             3      2    r      \n",
       "))⎟ ⎜              ⎝   r     ⎠             ╲╱             r      r            \n",
       "──⎟⋅⎜─────────────────────────────────── + ───────────────────────────────────\n",
       "__⎟ ⎜                      ________                            ________       \n",
       "2 ⎟ ⎜                     ╱  2                                ╱      2        \n",
       "  ⎟ ⎜                    ╱  L                                ╱      r         \n",
       "─ ⎟ ⎜     (-2⋅M + r)⋅   ╱   ── + 1                          ╱   1 + ──        \n",
       "2 ⎟ ⎜                  ╱     2                             ╱         2        \n",
       "  ⎠ ⎝                ╲╱     r                            ╲╱         L         \n",
       "──────────────────────────────────────────────────────────────────────────────\n",
       "                                        2⋅(2⋅M - r)                           \n",
       "                                                                              \n",
       "                                                                              \n",
       "                                                                              \n",
       "                                                                              \n",
       "                                                                              \n",
       "\n",
       "     ⎛        _________________________                   ____________________\n",
       "     ⎜       ╱          2      2                         ╱          2      2  \n",
       "     ⎜      ╱        2⋅L ⋅M   L    2⋅M                  ╱        2⋅L ⋅M   L   \n",
       "     ⎜     ╱   2⋅E + ────── - ── + ─── ⋅sin(Ψ(r))      ╱   2⋅E + ────── - ── +\n",
       "     ⎜    ╱             3      2    r                 ╱             3      2  \n",
       "     ⎜  ╲╱             r      r                     ╲╱             r      r   \n",
       " ⅈ⋅M⋅⎜- ───────────────────────────────────────── - ──────────────────────────\n",
       "     ⎜                      ________                                    ______\n",
       "     ⎜                     ╱      2                                    ╱      \n",
       "     ⎜                    ╱      r                                    ╱      r\n",
       "     ⎜                   ╱   1 + ──                                  ╱   1 + ─\n",
       "     ⎜                  ╱         2                                 ╱         \n",
       "     ⎝                ╲╱         L                                ╲╱         L\n",
       " ─────────────────────────────────────────────────────────────────────────────\n",
       "                                                                              \n",
       "                                                                              \n",
       "                                                                              \n",
       "                                                                              \n",
       "                                                                              \n",
       "                                                                              \n",
       "                                                                              \n",
       "                        ⎛        _________________________                   _\n",
       "                        ⎜       ╱          2      2                         ╱ \n",
       "                        ⎜      ╱        2⋅L ⋅M   L    2⋅M                  ╱  \n",
       "                        ⎜     ╱   2⋅E + ────── - ── + ─── ⋅sin(Ψ(r))      ╱   \n",
       "                        ⎜    ╱             3      2    r                 ╱    \n",
       "              _________ ⎜  ╲╱             r      r                     ╲╱     \n",
       "(\\xi)   ⅈ⋅M⋅╲╱ 2⋅E + 1 ⋅⎜- ───────────────────────────────────────── - ───────\n",
       "                        ⎜                      ________                       \n",
       "                        ⎜                     ╱      2                        \n",
       "                        ⎜                    ╱      r                         \n",
       "                        ⎜                   ╱   1 + ──                        \n",
       "                        ⎜                  ╱         2                        \n",
       "                        ⎝                ╲╱         L                         \n",
       "───── + ──────────────────────────────────────────────────────────────────────\n",
       "                                                                              \n",
       "                                                                              \n",
       "                                                                              \n",
       "                                                                              \n",
       "                                                                              \n",
       "                                                                              \n",
       "                                                                              \n",
       "_________                   _________________________          ⎞              \n",
       " 2                         ╱          2      2                 ⎟              \n",
       "L    2⋅M                  ╱        2⋅L ⋅M   L    2⋅M           ⎟              \n",
       "── + ─── ⋅sin(Ψ(r))      ╱   2⋅E + ────── - ── + ─── ⋅cos(Ψ(r))⎟       _______\n",
       " 2    r                 ╱             3      2    r            ⎟      ╱       \n",
       "r                     ╲╱             r      r                  ⎟     ╱        \n",
       "─────────────────── - ─────────────────────────────────────────⎟⋅   ╱   2⋅E + \n",
       "______                                    ________             ⎟   ╱          \n",
       "    2                                    ╱      2              ⎟ ╲╱           \n",
       "   r                                    ╱      r               ⎟              \n",
       " + ──                                  ╱   1 + ──              ⎟              \n",
       "    2                                 ╱         2              ⎟              \n",
       "   L                                ╲╱         L               ⎠              \n",
       "──────────────────────────────────────────────────────────────────────────────\n",
       "                                    2⋅r⋅(2⋅M - r)                             \n",
       "                                                                              \n",
       "                                                                              \n",
       "                                                                              \n",
       "                                                                              \n",
       "                                                                              \n",
       "                                                                              \n",
       "      ⎞                                                                       \n",
       "      ⎟                                                                       \n",
       "      ⎟                                                                       \n",
       "(Ψ(r))⎟       _________________________                                       \n",
       "      ⎟      ╱          2      2                                             ⎛\n",
       "      ⎟     ╱        2⋅L ⋅M   L    2⋅M                             _________ ⎜\n",
       "──────⎟⋅   ╱   2⋅E + ────── - ── + ─── ⋅sin(\\chi)⋅sin(\\xi)   ⅈ⋅M⋅╲╱ 2⋅E + 1 ⋅⎜\n",
       "      ⎟   ╱             3      2    r                                        ⎜\n",
       "      ⎟ ╲╱             r      r                                              ⎜\n",
       "      ⎟                                                                      ⎜\n",
       "      ⎟                                                                      ⎜\n",
       "      ⎟                                                                      ⎜\n",
       "      ⎠                                                                      ⎝\n",
       "────────────────────────────────────────────────────────── - ─────────────────\n",
       "                                                                              \n",
       "                                                                              \n",
       "                                                                              \n",
       "                                                                              \n",
       "                                                                              \n",
       "                                                                              \n",
       "\n",
       "_____          ⎞ ⎛                                    ________________________\n",
       "               ⎟ ⎜                                   ╱          2      2      \n",
       " 2⋅M           ⎟ ⎜                                  ╱        2⋅L ⋅M   L    2⋅M\n",
       " ─── ⋅cos(Ψ(r))⎟ ⎜                                 ╱   2⋅E + ────── - ── + ───\n",
       "  r            ⎟ ⎜       _________                ╱             3      2    r \n",
       "               ⎟ ⎜   r⋅╲╱ 2⋅E + 1 ⋅sin(Ψ(r))    ╲╱             r      r       \n",
       "───────────────⎟⋅⎜- ───────────────────────── - ──────────────────────────────\n",
       "__             ⎟ ⎜        ________                            ________        \n",
       "2              ⎟ ⎜       ╱      2                            ╱  2             \n",
       "               ⎟ ⎜      ╱      r                            ╱  L       ⎛  2⋅M \n",
       "─              ⎟ ⎜     ╱   1 + ── ⋅(-2⋅M + r)              ╱   ── + 1 ⋅⎜- ─── \n",
       "2              ⎟ ⎜    ╱         2                         ╱     2      ⎝   r  \n",
       "               ⎠ ⎝  ╲╱         L                        ╲╱     r              \n",
       "──────────────────────────────────────────────────────────────────────────────\n",
       "                                3                                             \n",
       "                               r                                              \n",
       "                                                                              \n",
       "                                                                              \n",
       "                                                                              \n",
       "                                                                              \n",
       "                                                                              \n",
       "________________________          ⎞ ⎛                                    _____\n",
       "         2      2                 ⎟ ⎜                                   ╱     \n",
       "      2⋅L ⋅M   L    2⋅M           ⎟ ⎜                                  ╱      \n",
       "2⋅E + ────── - ── + ─── ⋅cos(Ψ(r))⎟ ⎜                                 ╱   2⋅E \n",
       "         3      2    r            ⎟ ⎜       _________                ╱        \n",
       "        r      r                  ⎟ ⎜   r⋅╲╱ 2⋅E + 1 ⋅sin(Ψ(r))    ╲╱         \n",
       "──────────────────────────────────⎟⋅⎜- ───────────────────────── - ───────────\n",
       "             ________             ⎟ ⎜        ________                         \n",
       "            ╱      2              ⎟ ⎜       ╱      2                          \n",
       "           ╱      r               ⎟ ⎜      ╱      r                           \n",
       "          ╱   1 + ──              ⎟ ⎜     ╱   1 + ── ⋅(-2⋅M + r)              \n",
       "         ╱         2              ⎟ ⎜    ╱         2                         ╱\n",
       "       ╲╱         L               ⎠ ⎝  ╲╱         L                        ╲╱ \n",
       "──────────────────────────────────────────────────────────────────────────────\n",
       "                       2                                                      \n",
       "                      r ⋅(-2⋅M + r)                                           \n",
       "                                                                              \n",
       "                                                                              \n",
       "                                                                              \n",
       "                                                                              \n",
       "                                                                              \n",
       "                                            ⎛                                 \n",
       "                                            ⎜                                 \n",
       "                                            ⎜                                 \n",
       "__________________                          ⎜    _________ ⎛  2⋅M    ⎞        \n",
       "   2      2                                 ⎜r⋅╲╱ 2⋅E + 1 ⋅⎜- ─── + 1⎟⋅cos(Ψ(r\n",
       "2⋅L ⋅M   L    2⋅M                           ⎜              ⎝   r     ⎠        \n",
       "────── - ── + ─── ⋅sin(\\xi)⋅cos(\\chi)   ⅈ⋅M⋅⎜─────────────────────────────────\n",
       "   3      2    r                            ⎜                      ________   \n",
       "  r      r                                  ⎜                     ╱  2        \n",
       "                                            ⎜                    ╱  L         \n",
       "                                            ⎜     (-2⋅M + r)⋅   ╱   ── + 1    \n",
       "                                            ⎜                  ╱     2        \n",
       "                                            ⎝                ╲╱     r         \n",
       "───────────────────────────────────── - ──────────────────────────────────────\n",
       "                                                                              \n",
       "                                                                              \n",
       "                                                                              \n",
       "                                                                              \n",
       "                                                                              \n",
       "                                                                              \n",
       "                                                                              \n",
       "                                           ⎛                                  \n",
       "                                           ⎜                                  \n",
       "                                           ⎜                                  \n",
       "                                           ⎜                                 ╱\n",
       "⎛ 2    2⎞             ⎛ 2    2⎞          ⎞ ⎜       _________                ╱ \n",
       "⎝L  + r ⎠⋅sin(Ψ(r))   ⎝L  + r ⎠⋅cos(Ψ(r))⎟ ⎜   r⋅╲╱ 2⋅E + 1 ⋅sin(Ψ(r))    ╲╱  \n",
       "─────────────────── + ───────────────────⎟⋅⎜- ───────────────────────── - ────\n",
       "           ________              ________⎟ ⎜        ________                  \n",
       "          ╱      2              ╱      2 ⎟ ⎜       ╱      2                   \n",
       "   2     ╱      r        2     ╱      r  ⎟ ⎜      ╱      r                    \n",
       "L⋅r ⋅   ╱   1 + ──    L⋅r ⋅   ╱   1 + ── ⎟ ⎜     ╱   1 + ── ⋅(-2⋅M + r)       \n",
       "       ╱         2           ╱         2 ⎟ ⎜    ╱         2                   \n",
       "     ╲╱         L          ╲╱         L  ⎠ ⎝  ╲╱         L                    \n",
       "──────────────────────────────────────────────────────────────────────────────\n",
       "                                                         2⋅r                  \n",
       "                                                                              \n",
       "                                                                              \n",
       "                                                                              \n",
       "                                                                              \n",
       "                                                                              \n",
       "\n",
       "_          ⎞                                                                  \n",
       "           ⎟                                                                  \n",
       "           ⎟                                                                  \n",
       " ⋅cos(Ψ(r))⎟       _________________________                                  \n",
       "           ⎟      ╱          2      2                                 ⎛     __\n",
       "           ⎟     ╱        2⋅L ⋅M   L    2⋅M                           ⎜ r⋅╲╱ 2\n",
       "───────────⎟⋅   ╱   2⋅E + ────── - ── + ─── ⋅sin(\\chi)⋅sin(\\xi)   ⅈ⋅M⋅⎜───────\n",
       "           ⎟   ╱             3      2    r                            ⎜      _\n",
       "           ⎟ ╲╱             r      r                                  ⎜     ╱ \n",
       "   ⎞       ⎟                                                          ⎜    ╱  \n",
       "+ 1⎟       ⎟                                                          ⎜   ╱   \n",
       "   ⎠       ⎟                                                          ⎜  ╱    \n",
       "           ⎠                                                          ⎝╲╱     \n",
       "─────────────────────────────────────────────────────────────── - ────────────\n",
       "                                                                              \n",
       "                                                                              \n",
       "                                                                              \n",
       "                                                                              \n",
       "                                                                              \n",
       "                                                                              \n",
       "                                                                              \n",
       "____________________          ⎞                                               \n",
       "     2      2                 ⎟                                               \n",
       "  2⋅L ⋅M   L    2⋅M           ⎟                                               \n",
       "+ ────── - ── + ─── ⋅cos(Ψ(r))⎟                                               \n",
       "     3      2    r            ⎟                                      ⎛     ___\n",
       "    r      r                  ⎟                            _________ ⎜ r⋅╲╱ 2⋅\n",
       "──────────────────────────────⎟⋅sin(\\chi)⋅sin(\\xi)   ⅈ⋅M⋅╲╱ 2⋅E + 1 ⋅⎜────────\n",
       "   ________                   ⎟                                      ⎜      __\n",
       "  ╱  2                        ⎟                                      ⎜     ╱  \n",
       " ╱  L       ⎛  2⋅M    ⎞       ⎟                                      ⎜    ╱   \n",
       "╱   ── + 1 ⋅⎜- ─── + 1⎟       ⎟                                      ⎜   ╱   1\n",
       "     2      ⎝   r     ⎠       ⎟                                      ⎜  ╱     \n",
       "    r                         ⎠                                      ⎝╲╱      \n",
       "────────────────────────────────────────────────── - ─────────────────────────\n",
       "                                                                              \n",
       "                                                                              \n",
       "                                                                              \n",
       "                                                                              \n",
       "                                                                              \n",
       "                                                                              \n",
       "                                                                              \n",
       "           _________________________          ⎞                               \n",
       "          ╱          2      2                 ⎟                               \n",
       "         ╱        2⋅L ⋅M   L    2⋅M           ⎟                               \n",
       "        ╱   2⋅E + ────── - ── + ─── ⋅sin(Ψ(r))⎟       ________________________\n",
       "))     ╱             3      2    r            ⎟      ╱          2      2      \n",
       "     ╲╱             r      r                  ⎟     ╱        2⋅L ⋅M   L    2⋅M\n",
       "── + ─────────────────────────────────────────⎟⋅   ╱   2⋅E + ────── - ── + ───\n",
       "                         ________             ⎟   ╱             3      2    r \n",
       "                        ╱      2              ⎟ ╲╱             r      r       \n",
       "                       ╱      r               ⎟                               \n",
       "                      ╱   1 + ──              ⎟                               \n",
       "                     ╱         2              ⎟                               \n",
       "                   ╲╱         L               ⎠                               \n",
       "──────────────────────────────────────────────────────────────────────────────\n",
       "                  2⋅r⋅(2⋅M - r)                                               \n",
       "                                                                              \n",
       "                                                                              \n",
       "                                                                              \n",
       "                                                                              \n",
       "                                                                              \n",
       "                                                                              \n",
       "  _________________________          ⎞                                    ⎛   \n",
       " ╱          2      2                 ⎟                                    ⎜   \n",
       "╱        2⋅L ⋅M   L    2⋅M           ⎟                                    ⎜   \n",
       "   2⋅E + ────── - ── + ─── ⋅cos(Ψ(r))⎟                                    ⎜   \n",
       "            3      2    r            ⎟                                    ⎜   \n",
       "           r      r                  ⎟                          ⎛ 2    2⎞ ⎜  ╲\n",
       "─────────────────────────────────────⎟⋅sin(\\chi)⋅sin(\\xi)   ⅈ⋅M⋅⎝L  + r ⎠⋅⎜- ─\n",
       "          ________                   ⎟                                    ⎜   \n",
       "         ╱  2                        ⎟                                    ⎜   \n",
       "        ╱  L       ⎛  2⋅M    ⎞       ⎟                                    ⎜   \n",
       "       ╱   ── + 1 ⋅⎜- ─── + 1⎟       ⎟                                    ⎜   \n",
       "      ╱     2      ⎝   r     ⎠       ⎟                                    ⎜   \n",
       "    ╲╱     r                         ⎠                                    ⎝   \n",
       "───────────────────────────────────────────────────────── + ──────────────────\n",
       "                                                                              \n",
       "                                                                              \n",
       "                                                                              \n",
       "                                                                              \n",
       "                                                                              \n",
       "                                                                              \n",
       "\n",
       "                                                ⎛                             \n",
       "                                                ⎜                             \n",
       "                                                ⎜                             \n",
       "                                                ⎜    _________ ⎛  2⋅M    ⎞    \n",
       "_______                   _________           ⎞ ⎜r⋅╲╱ 2⋅E + 1 ⋅⎜- ─── + 1⎟⋅cos\n",
       "⋅E + 1 ⋅sin(Ψ(r))     r⋅╲╱ 2⋅E + 1 ⋅cos(Ψ(r)) ⎟ ⎜              ⎝   r     ⎠    \n",
       "────────────────── + ─────────────────────────⎟⋅⎜─────────────────────────────\n",
       "_______                    ________           ⎟ ⎜                      _______\n",
       "     2                    ╱      2            ⎟ ⎜                     ╱  2    \n",
       "    r                    ╱      r             ⎟ ⎜                    ╱  L     \n",
       "1 + ── ⋅(-2⋅M + r)      ╱   1 + ── ⋅(-2⋅M + r)⎟ ⎜     (-2⋅M + r)⋅   ╱   ── + 1\n",
       "     2                 ╱         2            ⎟ ⎜                  ╱     2    \n",
       "    L                ╲╱         L             ⎠ ⎝                ╲╱     r     \n",
       "──────────────────────────────────────────────────────────────────────────────\n",
       "                                                                              \n",
       "                                                                              \n",
       "                                                                              \n",
       "                                                                              \n",
       "                                                                              \n",
       "                                                                              \n",
       "                                                                              \n",
       "                                               ⎛                              \n",
       "                                               ⎜                              \n",
       "                                               ⎜                              \n",
       "                                               ⎜    _________ ⎛  2⋅M    ⎞     \n",
       "______                   _________           ⎞ ⎜r⋅╲╱ 2⋅E + 1 ⋅⎜- ─── + 1⎟⋅cos(\n",
       "E + 1 ⋅sin(Ψ(r))     r⋅╲╱ 2⋅E + 1 ⋅cos(Ψ(r)) ⎟ ⎜              ⎝   r     ⎠     \n",
       "───────────────── + ─────────────────────────⎟⋅⎜──────────────────────────────\n",
       "______                    ________           ⎟ ⎜                      ________\n",
       "    2                    ╱      2            ⎟ ⎜                     ╱  2     \n",
       "   r                    ╱      r             ⎟ ⎜                    ╱  L      \n",
       " + ── ⋅(-2⋅M + r)      ╱   1 + ── ⋅(-2⋅M + r)⎟ ⎜     (-2⋅M + r)⋅   ╱   ── + 1 \n",
       "    2                 ╱         2            ⎟ ⎜                  ╱     2     \n",
       "   L                ╲╱         L             ⎠ ⎝                ╲╱     r      \n",
       "──────────────────────────────────────────────────────────────────────────────\n",
       "                                                       2                      \n",
       "                                                      r ⋅(-2⋅M + r)           \n",
       "                                                                              \n",
       "                                                                              \n",
       "                                                                              \n",
       "                                                                              \n",
       "                                                                              \n",
       "                             ⎛                                    ____________\n",
       "                             ⎜                                   ╱          2 \n",
       "                             ⎜                                  ╱        2⋅L ⋅\n",
       "_                            ⎜                                 ╱   2⋅E + ─────\n",
       "                             ⎜       _________                ╱             3 \n",
       "                   _________ ⎜   r⋅╲╱ 2⋅E + 1 ⋅sin(Ψ(r))    ╲╱             r  \n",
       " ⋅cos(\\xi)   ⅈ⋅M⋅╲╱ 2⋅E + 1 ⋅⎜- ───────────────────────── - ──────────────────\n",
       "                             ⎜        ________                            ____\n",
       "                             ⎜       ╱      2                            ╱  2 \n",
       "                             ⎜      ╱      r                            ╱  L  \n",
       "                             ⎜     ╱   1 + ── ⋅(-2⋅M + r)              ╱   ── \n",
       "                             ⎜    ╱         2                         ╱     2 \n",
       "                             ⎝  ╲╱         L                        ╲╱     r  \n",
       "────────── + ─────────────────────────────────────────────────────────────────\n",
       "                                                               2              \n",
       "                                                            2⋅r               \n",
       "                                                                              \n",
       "                                                                              \n",
       "                                                                              \n",
       "                                                                              \n",
       "                                                                              \n",
       "     _________________________                   _________________________    \n",
       "    ╱          2      2                         ╱          2      2           \n",
       "   ╱        2⋅L ⋅M   L    2⋅M                  ╱        2⋅L ⋅M   L    2⋅M     \n",
       "  ╱   2⋅E + ────── - ── + ─── ⋅sin(Ψ(r))      ╱   2⋅E + ────── - ── + ─── ⋅cos\n",
       " ╱             3      2    r                 ╱             3      2    r      \n",
       "╱             r      r                     ╲╱             r      r            \n",
       "──────────────────────────────────────── - ───────────────────────────────────\n",
       "                   ________                                    ________       \n",
       "                  ╱      2                                    ╱      2        \n",
       "                 ╱      r                                    ╱      r         \n",
       "                ╱   1 + ──                                  ╱   1 + ──        \n",
       "               ╱         2                                 ╱         2        \n",
       "             ╲╱         L                                ╲╱         L         \n",
       "──────────────────────────────────────────────────────────────────────────────\n",
       "                                                             ________         \n",
       "                                                            ╱      2          \n",
       "                                                     2     ╱      r           \n",
       "                                                2⋅L⋅r ⋅   ╱   1 + ── ⋅(2⋅M - r\n",
       "                                                         ╱         2          \n",
       "                                                       ╲╱         L           \n",
       "\n",
       "               _________________________          ⎞                           \n",
       "              ╱          2      2                 ⎟                           \n",
       "             ╱        2⋅L ⋅M   L    2⋅M           ⎟                           \n",
       "            ╱   2⋅E + ────── - ── + ─── ⋅sin(Ψ(r))⎟       ____________________\n",
       "(Ψ(r))     ╱             3      2    r            ⎟      ╱          2      2  \n",
       "         ╲╱             r      r                  ⎟     ╱        2⋅L ⋅M   L   \n",
       "────── + ─────────────────────────────────────────⎟⋅   ╱   2⋅E + ────── - ── +\n",
       "_                            ________             ⎟   ╱             3      2  \n",
       "                            ╱      2              ⎟ ╲╱             r      r   \n",
       "                           ╱      r               ⎟                           \n",
       "                          ╱   1 + ──              ⎟                           \n",
       "                         ╱         2              ⎟                           \n",
       "                       ╲╱         L               ⎠                           \n",
       "──────────────────────────────────────────────────────────────────────────────\n",
       "      3                                                                       \n",
       "     r                                                                        \n",
       "                                                                              \n",
       "                                                                              \n",
       "                                                                              \n",
       "                                                                              \n",
       "                                                                              \n",
       "              _________________________          ⎞                            \n",
       "             ╱          2      2                 ⎟                            \n",
       "            ╱        2⋅L ⋅M   L    2⋅M           ⎟                            \n",
       "           ╱   2⋅E + ────── - ── + ─── ⋅sin(Ψ(r))⎟                            \n",
       "Ψ(r))     ╱             3      2    r            ⎟                            \n",
       "        ╲╱             r      r                  ⎟                          ⎛ \n",
       "───── + ─────────────────────────────────────────⎟⋅sin(\\chi)⋅sin(\\xi)   ⅈ⋅M⋅⎝L\n",
       "                            ________             ⎟                            \n",
       "                           ╱      2              ⎟                            \n",
       "                          ╱      r               ⎟                            \n",
       "                         ╱   1 + ──              ⎟                            \n",
       "                        ╱         2              ⎟                            \n",
       "                      ╲╱         L               ⎠                            \n",
       "───────────────────────────────────────────────────────────────────── + ──────\n",
       "                                                                              \n",
       "                                                                              \n",
       "                                                                              \n",
       "                                                                              \n",
       "                                                                              \n",
       "                                                                              \n",
       "                                                                              \n",
       "_____________          ⎞                                                      \n",
       "     2                 ⎟                                                      \n",
       "M   L    2⋅M           ⎟                                                      \n",
       "─ - ── + ─── ⋅cos(Ψ(r))⎟                                                      \n",
       "     2    r            ⎟                            ⎛     _________           \n",
       "    r                  ⎟                  _________ ⎜ r⋅╲╱ 2⋅E + 1 ⋅sin(Ψ(r)) \n",
       "───────────────────────⎟⋅cos(\\xi)   ⅈ⋅M⋅╲╱ 2⋅E + 1 ⋅⎜─────────────────────────\n",
       "____                   ⎟                            ⎜      ________           \n",
       "                       ⎟                            ⎜     ╱      2            \n",
       "     ⎛  2⋅M    ⎞       ⎟                            ⎜    ╱      r             \n",
       "+ 1 ⋅⎜- ─── + 1⎟       ⎟                            ⎜   ╱   1 + ── ⋅(-2⋅M + r)\n",
       "     ⎝   r     ⎠       ⎟                            ⎜  ╱         2            \n",
       "                       ⎠                            ⎝╲╱         L             \n",
       "───────────────────────────────── - ──────────────────────────────────────────\n",
       "                                                                              \n",
       "                                                                              \n",
       "                                                                              \n",
       "                                                                              \n",
       "                                                                              \n",
       "                                                                              \n",
       "                                                                              \n",
       "      ⎞                                                                       \n",
       "      ⎟                                                                       \n",
       "      ⎟                                                                       \n",
       "(Ψ(r))⎟       _________________________                                       \n",
       "      ⎟      ╱          2      2                                              \n",
       "      ⎟     ╱        2⋅L ⋅M   L    2⋅M                                       _\n",
       "──────⎟⋅   ╱   2⋅E + ────── - ── + ─── ⋅sin(\\chi)⋅sin(\\xi)⋅sin(Ψ(r))   ⅈ⋅M⋅╲╱ \n",
       "      ⎟   ╱             3      2    r                                         \n",
       "      ⎟ ╲╱             r      r                                               \n",
       "      ⎟                                                                       \n",
       "      ⎟                                                                       \n",
       "      ⎟                                                                       \n",
       "      ⎠                                                                       \n",
       "──────────────────────────────────────────────────────────────────── - ───────\n",
       "                                                                              \n",
       "                                                                              \n",
       "                                                                              \n",
       ")                                                                             \n",
       "                                                                              \n",
       "                                                                              \n",
       "\n",
       "                                                                              \n",
       "                                                                              \n",
       "                                                                              \n",
       "_____                                                                         \n",
       "                                                    ⎛     _________           \n",
       " 2⋅M                           ⎛ 2    2⎞            ⎜ r⋅╲╱ 2⋅E + 1 ⋅sin(Ψ(r)) \n",
       " ─── ⋅sin(\\chi)⋅sin(\\xi)   ⅈ⋅M⋅⎝L  + r ⎠⋅(-2⋅M + r)⋅⎜─────────────────────────\n",
       "  r                                                 ⎜      ________           \n",
       "                                                    ⎜     ╱      2            \n",
       "                                                    ⎜    ╱      r             \n",
       "                                                    ⎜   ╱   1 + ── ⋅(-2⋅M + r)\n",
       "                                                    ⎜  ╱         2            \n",
       "                                                    ⎝╲╱         L             \n",
       "──────────────────────── + ───────────────────────────────────────────────────\n",
       "                                                                              \n",
       "                                                                              \n",
       "                                                                           6  \n",
       "                                                                        2⋅r ⋅ \n",
       "                                                                              \n",
       "                                                                             ╲\n",
       "                                                                              \n",
       "        ⎛        _________________________                   _________________\n",
       "        ⎜       ╱          2      2                         ╱          2      \n",
       "        ⎜      ╱        2⋅L ⋅M   L    2⋅M                  ╱        2⋅L ⋅M   L\n",
       "        ⎜     ╱   2⋅E + ────── - ── + ─── ⋅sin(Ψ(r))      ╱   2⋅E + ────── - ─\n",
       "        ⎜    ╱             3      2    r                 ╱             3      \n",
       "2    2⎞ ⎜  ╲╱             r      r                     ╲╱             r      r\n",
       "  + r ⎠⋅⎜- ───────────────────────────────────────── - ───────────────────────\n",
       "        ⎜                      ________                                    ___\n",
       "        ⎜                     ╱      2                                    ╱   \n",
       "        ⎜                    ╱      r                                    ╱    \n",
       "        ⎜                   ╱   1 + ──                                  ╱   1 \n",
       "        ⎜                  ╱         2                                 ╱      \n",
       "        ⎝                ╲╱         L                                ╲╱       \n",
       "──────────────────────────────────────────────────────────────────────────────\n",
       "                                                        ________              \n",
       "                                                       ╱      2               \n",
       "                                                4     ╱      r                \n",
       "                                             2⋅r ⋅   ╱   1 + ── ⋅(2⋅M - r)    \n",
       "                                                    ╱         2               \n",
       "                                                  ╲╱         L                \n",
       "                                                                              \n",
       "                                                                              \n",
       "                                                                              \n",
       "                                                                              \n",
       "                                                                              \n",
       "        _________           ⎞                                                 \n",
       "    r⋅╲╱ 2⋅E + 1 ⋅cos(Ψ(r)) ⎟                                                 \n",
       " + ─────────────────────────⎟⋅sin(\\xi)⋅cos(\\chi)                              \n",
       "         ________           ⎟                                                 \n",
       "        ╱      2            ⎟                                                 \n",
       "       ╱      r             ⎟                                                 \n",
       "      ╱   1 + ── ⋅(-2⋅M + r)⎟                                                 \n",
       "     ╱         2            ⎟                          ⎛ 2    2⎞              \n",
       "   ╲╱         L             ⎠                      ⅈ⋅M⋅⎝L  + r ⎠⋅sin(Ψ(r))⋅cos\n",
       "──────────────────────────────────────────────── - ───────────────────────────\n",
       "    2                                                              ________   \n",
       " 2⋅r                                                              ╱      2    \n",
       "                                                           4     ╱      r     \n",
       "                                                          r ⋅   ╱   1 + ──    \n",
       "                                                               ╱         2    \n",
       "                                                             ╲╱         L     \n",
       "                                                                              \n",
       "                                                                              \n",
       "                                                                              \n",
       "                                                                              \n",
       "                                                                              \n",
       "                   ⎛     _________                   _________           ⎞    \n",
       "________ ⎛ 2    2⎞ ⎜ r⋅╲╱ 2⋅E + 1 ⋅sin(Ψ(r))     r⋅╲╱ 2⋅E + 1 ⋅cos(Ψ(r)) ⎟    \n",
       "2⋅E + 1 ⋅⎝L  + r ⎠⋅⎜───────────────────────── + ─────────────────────────⎟⋅sin\n",
       "                   ⎜      ________                    ________           ⎟    \n",
       "                   ⎜     ╱      2                    ╱      2            ⎟    \n",
       "                   ⎜    ╱      r                    ╱      r             ⎟    \n",
       "                   ⎜   ╱   1 + ── ⋅(-2⋅M + r)      ╱   1 + ── ⋅(-2⋅M + r)⎟    \n",
       "                   ⎜  ╱         2                 ╱         2            ⎟    \n",
       "                   ⎝╲╱         L                ╲╱         L             ⎠    \n",
       "──────────────────────────────────────────────────────────────────────────────\n",
       "                                                  ________                    \n",
       "                                                 ╱      2                     \n",
       "                                          3     ╱      r                      \n",
       "                                     2⋅L⋅r ⋅   ╱   1 + ──                     \n",
       "                                              ╱         2                     \n",
       "                                            ╲╱         L                      \n",
       "\n",
       "                                                          ⎤\n",
       "                                                          ⎥\n",
       "                                                          ⎥\n",
       "                                                          ⎥\n",
       "        _________           ⎞                             ⎥\n",
       "    r⋅╲╱ 2⋅E + 1 ⋅cos(Ψ(r)) ⎟                             ⎥\n",
       " + ─────────────────────────⎟⋅sin(\\chi)⋅sin(\\xi)⋅sin(Ψ(r))⎥\n",
       "         ________           ⎟                             ⎥\n",
       "        ╱      2            ⎟                             ⎥\n",
       "       ╱      r             ⎟                             ⎥\n",
       "      ╱   1 + ── ⋅(-2⋅M + r)⎟                             ⎥\n",
       "     ╱         2            ⎟                             ⎥\n",
       "   ╲╱         L             ⎠                             ⎥\n",
       "──────────────────────────────────────────────────────────⎥\n",
       "     ________                                             ⎥\n",
       "    ╱      2                                              ⎥\n",
       "   ╱      r                                               ⎥\n",
       "  ╱   1 + ──                                              ⎥\n",
       " ╱         2                                              ⎥\n",
       "╱         L                                               ⎥\n",
       "                                                          ⎥\n",
       "________          ⎞                                       ⎥\n",
       "2                 ⎟                                       ⎥\n",
       "    2⋅M           ⎟                                       ⎥\n",
       "─ + ─── ⋅cos(Ψ(r))⎟                                       ⎥\n",
       "2    r            ⎟                                       ⎥\n",
       "                  ⎟                                       ⎥\n",
       "──────────────────⎟⋅sin(\\chi)⋅sin(\\xi)⋅sin(Ψ(r))          ⎥\n",
       "_____             ⎟                                       ⎥\n",
       "   2              ⎟                                       ⎥\n",
       "  r               ⎟                                       ⎥\n",
       "+ ──              ⎟                                       ⎥\n",
       "   2              ⎟                                       ⎥\n",
       "  L               ⎠                                       ⎥\n",
       "────────────────────────────────────────────────          ⎥\n",
       "                                                          ⎥\n",
       "                                                          ⎥\n",
       "                                                          ⎥\n",
       "                                                          ⎥\n",
       "                                                          ⎥\n",
       "                                                          ⎥\n",
       "                                                          ⎥\n",
       "                                                          ⎥\n",
       "                                                          ⎥\n",
       "                                                          ⎥\n",
       "                                                          ⎥\n",
       "                                                          ⎥\n",
       "                                                          ⎥\n",
       "                                                          ⎥\n",
       "                                                          ⎥\n",
       "                                                          ⎥\n",
       "                                                          ⎥\n",
       "                                                          ⎥\n",
       "                                                          ⎥\n",
       "(\\xi)                                                     ⎥\n",
       "─────                                                     ⎥\n",
       "                                                          ⎥\n",
       "                                                          ⎥\n",
       "                                                          ⎥\n",
       "                                                          ⎥\n",
       "                                                          ⎥\n",
       "                                                          ⎥\n",
       "                                                          ⎥\n",
       "                                                          ⎥\n",
       "                                                          ⎥\n",
       "                                                          ⎥\n",
       "                                                          ⎥\n",
       "                                                          ⎥\n",
       "                                                          ⎥\n",
       "(\\chi)⋅sin(\\xi)⋅sin(Ψ(r))                                 ⎥\n",
       "                                                          ⎥\n",
       "                                                          ⎥\n",
       "                                                          ⎥\n",
       "                                                          ⎥\n",
       "                                                          ⎥\n",
       "                                                          ⎥\n",
       "─────────────────────────                                 ⎥\n",
       "                                                          ⎥\n",
       "                                                          ⎥\n",
       "                                                          ⎥\n",
       "                                                          ⎥\n",
       "                                                          ⎥\n",
       "                                                          ⎦"
      ]
     },
     "execution_count": 382,
     "metadata": {},
     "output_type": "execute_result"
    }
   ],
   "source": [
    "Matrix(a.subs(theta,pi/2))"
   ]
  },
  {
   "cell_type": "code",
   "execution_count": 229,
   "metadata": {},
   "outputs": [
    {
     "data": {
      "text/latex": [
       "$\\displaystyle \\left[\\begin{matrix}-1 & 0 & 0 & 0\\\\0 & 1 & 0 & 0\\\\0 & 0 & 1 & 0\\\\0 & 0 & 0 & 1\\end{matrix}\\right]$"
      ],
      "text/plain": [
       "⎡-1  0  0  0⎤\n",
       "⎢           ⎥\n",
       "⎢0   1  0  0⎥\n",
       "⎢           ⎥\n",
       "⎢0   0  1  0⎥\n",
       "⎢           ⎥\n",
       "⎣0   0  0  1⎦"
      ]
     },
     "execution_count": 229,
     "metadata": {},
     "output_type": "execute_result"
    }
   ],
   "source": [
    "E = Matrix(simplify(tetrad_.subs(L,0).subs(psi,0)))\n",
    "simplify(E @ g @ E.T).subs(theta,pi/2)"
   ]
  },
  {
   "cell_type": "code",
   "execution_count": null,
   "metadata": {},
   "outputs": [
    {
     "data": {
      "image/png": "[encoded data removed]",
      "text/latex": [
       "$\\displaystyle 0.784757820998493$"
      ],
      "text/plain": [
       "0.7847578209984931"
      ]
     },
     "execution_count": 34,
     "metadata": {},
     "output_type": "execute_result"
    }
   ],
   "source": [
    "R = 6371\n",
    "l = 100\n",
    "L\n",
    "x = np.sqrt(R**2 + l**2) - R\n",
    "x"
   ]
  },
  {
   "cell_type": "code",
   "execution_count": null,
   "metadata": {},
   "outputs": [
    {
     "data": {
      "image/png": "[encoded data removed]",
      "text/latex": [
       "$\\displaystyle 1.0$"
      ],
      "text/plain": [
       "1.0"
      ]
     },
     "execution_count": 25,
     "metadata": {},
     "output_type": "execute_result"
    }
   ],
   "source": [
    "E = 2.4*1E6\n",
    "m = 1.5E-6\n",
    "\n",
    "alpha = E**2/m**2\n",
    "\n",
    "\n",
    "\n",
    "beta = np.sqrt((alpha-1)/(alpha+2))\n",
    "beta"
   ]
  },
  {
   "cell_type": "code",
   "execution_count": null,
   "metadata": {},
   "outputs": [
    {
     "data": {
      "image/png": "[encoded data removed]",
      "text/latex": [
       "$\\displaystyle \\sqrt{2 E + \\frac{2 L^{2} M}{r^{3}} - \\frac{L^{2}}{r^{2}} + \\frac{2 M}{r}}$"
      ],
      "text/plain": [
       "      _________________________\n",
       "     ╱          2      2       \n",
       "    ╱        2⋅L ⋅M   L    2⋅M \n",
       "   ╱   2⋅E + ────── - ── + ─── \n",
       "  ╱             3      2    r  \n",
       "╲╱             r      r        "
      ]
     },
     "execution_count": 358,
     "metadata": {},
     "output_type": "execute_result"
    }
   ],
   "source": [
    "u_r = sqrt(2*Energy +  2*M/r - L**2/r**2 + 2*M*L**2/r**3)\n",
    "u_r"
   ]
  },
  {
   "cell_type": "code",
   "execution_count": null,
   "metadata": {},
   "outputs": [
    {
     "data": {
      "image/png": "[encoded data removed]",
      "text/latex": [
       "$\\displaystyle \\frac{2 \\left(E r + M\\right)}{- 2 M + r}$"
      ],
      "text/plain": [
       "2⋅(E⋅r + M)\n",
       "───────────\n",
       "  -2⋅M + r "
      ]
     },
     "execution_count": 369,
     "metadata": {},
     "output_type": "execute_result"
    }
   ],
   "source": [
    "simplify((u_r**2 / f + (L/r**2)**2 * r**2).subs(r_s, 2*M))"
   ]
  },
  {
   "cell_type": "code",
   "execution_count": null,
   "metadata": {},
   "outputs": [
    {
     "data": {
      "image/png": "[encoded data removed]",
      "text/latex": [
       "$\\displaystyle r \\sqrt{2 E + 1} \\sqrt{\\frac{1}{4 M^{2} - 4 M r + r^{2}}}$"
      ],
      "text/plain": [
       "                   ___________________\n",
       "    _________     ╱         1         \n",
       "r⋅╲╱ 2⋅E + 1 ⋅   ╱  ───────────────── \n",
       "                ╱      2            2 \n",
       "              ╲╱    4⋅M  - 4⋅M⋅r + r  "
      ]
     },
     "execution_count": 383,
     "metadata": {},
     "output_type": "execute_result"
    }
   ],
   "source": [
    "u_t = sqrt(1/f + (u_r**2)/f**2 + ((L/r**2)**2 * r**2) / f).subs(r_s, 2*M)\n",
    "cancel(simplify(u_t))"
   ]
  },
  {
   "cell_type": "code",
   "execution_count": null,
   "metadata": {},
   "outputs": [
    {
     "data": {
      "image/png": "[encoded data removed]",
      "text/latex": [
       "$\\displaystyle -1$"
      ],
      "text/plain": [
       "-1"
      ]
     },
     "execution_count": 380,
     "metadata": {},
     "output_type": "execute_result"
    }
   ],
   "source": [
    "simplify((-u_t**2 * f + u_r**2 / f + (L/r**2)**2 * r**2 ).subs(r_s,2*M))"
   ]
  }
 ],
 "metadata": {
  "kernelspec": {
   "display_name": "Python 3",
   "language": "python",
   "name": "python3"
  },
  "language_info": {
   "codemirror_mode": {
    "name": "ipython",
    "version": 3
   },
   "file_extension": ".py",
   "mimetype": "text/x-python",
   "name": "python",
   "nbconvert_exporter": "python",
   "pygments_lexer": "ipython3",
   "version": "3.11.5"
  },
  "vscode": {
   "interpreter": {
    "hash": "d2152fd7f0bbc62aa1baff8c990435d1e2c7175d001561303988032604c11a48"
   }
  }
 },
 "nbformat": 4,
 "nbformat_minor": 2
}
