{
 "cells": [
  {
   "cell_type": "code",
   "execution_count": 428,
   "metadata": {},
   "outputs": [
    {
     "data": {
      "image/png": "[encoded data removed]",
      "text/latex": [
       "$\\displaystyle \\left( f, \\  r, \\  \\theta, \\  \\phi, \\  \\hbar\\right)$"
      ],
      "text/plain": [
       "(f, r, θ, φ, h̅)"
      ]
     },
     "execution_count": 428,
     "metadata": {},
     "output_type": "execute_result"
    }
   ],
   "source": [
    "from sympy import *\n",
    "from sympy.physics.hep.gamma_matrices import GammaMatrix as G, LorentzIndex, gamma_trace\n",
    "from sympy.tensor.tensor import tensor_indices\n",
    "from sympy.physics.hep.gamma_matrices import kahane_simplify\n",
    "from sympy.physics.matrices import mgamma\n",
    "from einsteinpy.symbolic import Schwarzschild, ChristoffelSymbols, RiemannCurvatureTensor, Tensor, BaseRelativityTensor, GenericVector, MetricTensor\n",
    "from einsteinpy.symbolic.tensor import tensor_product\n",
    "from sympy.tensor.tensor import TensorIndexType, TensorIndex, TensorHead, tensor_indices\n",
    "import numpy as np\n",
    "\n",
    "i,j = tensor_indices('i,j', LorentzIndex)\n",
    "init_printing(use_unicode=True)\n",
    "f, r, theta, phi, u_0, t, c, hbar, m_ = symbols(\"f r theta phi u_0 t c hbar m\")\n",
    "r_s,M ,R= symbols(\"r_s M R\")\n",
    "u_t , u_r , u_theta, u_phi = symbols(\"u_t u_r u_\\\\theta u_\\phi\", cls=Function)\n",
    "f,r,theta, phi, hbar"
   ]
  },
  {
   "attachments": {},
   "cell_type": "markdown",
   "metadata": {},
   "source": [
    "define $\\eta^{ab}:= $ eta  (mostly plus)\\\n",
    "and $E_{\\alpha}^{\\ \\  \\ a}:= E^\\top$,\n",
    "$e_a^{\\ \\ \\ \\alpha}:= e^\\top$   such that $e_0^{\\ \\ \\ \\alpha}= u^\\alpha $"
   ]
  },
  {
   "cell_type": "code",
   "execution_count": 429,
   "metadata": {},
   "outputs": [],
   "source": [
    "eta = Matrix([[-1,0,0,0],[0,1,0,0],[0,0,1,0],[0,0,0,1]])\n",
    "\n",
    "#r_s = 0\n",
    "\n",
    "g_t = -(1-r_s/r)\n",
    "g_r = 1/(1-r_s/r)\n",
    "\n",
    "\n",
    "g_theta = r**2\n",
    "g_phi = r**2 * sin(theta)**2\n",
    "\n",
    "\n",
    "N_1 = sqrt(g_r + u_r(t,r, phi)**2 * g_r**2)\n",
    "#N_1 = symbols(\"N_1\", cls=Function)\n",
    "#N_1 = N_1(t,r,phi)\n",
    "\n",
    "a = g_phi * u_phi(t,r, phi) - (g_phi * u_phi(t,r, phi)*u_r(t,r, phi)**2 * g_r**2)/N_1\n",
    "b = (g_phi * u_r(t,r, phi) * g_r * u_phi(t,r, phi))/N_1\n",
    "\n",
    "#a = symbols(\"a\", cls=Function)\n",
    "#a = a(t,r,theta,phi)\n",
    "#b = symbols(\"b\", cls=Function)\n",
    "#b = b(t,r,theta,phi)\n",
    "\n",
    "N_2 = sqrt(g_phi*(1+ 2*a*u_phi(t,r, phi)) - g_r*b*(b + 2*a*u_r(t,r, phi))- a**2)\n",
    "\n",
    "#N_2 = symbols(\"N_2\", cls=Function)\n",
    "#N_2 = N_2(t,r,theta,phi)\n",
    "\n",
    "#u_theta = 0\n",
    "# u^2 = -1 => u_t = something\n",
    "\n",
    "#and set theta = pi/2\n",
    "\n",
    "#u_t = sqrt(r*(r**3*u_phi(t,r, phi)**2 - r**2*r_s*u_phi(t,r, phi)**2 + r*u_r(t,r, phi)**2 + r - r_s))/(r - r_s)\n",
    "\n",
    "u_t = u_t(t,r,phi)\n",
    "u_r = u_r(t,r,phi)\n",
    "u_phi = u_phi(t,r,phi)\n",
    "\n",
    "# e_10,e_11,e_13 = symbols(\"e_10, e_11, e_13\", cls=Function)\n",
    "# e_10 = e_10(r)\n",
    "# e_11 = e_11(r)\n",
    "# e_13 = e_13(r)\n",
    "# e_22 = symbols(\"e_22\", cls=Function)\n",
    "# e_22 = e_22(r)\n",
    "# e_30, e_31, e_33 = symbols(\"e_30, e_31, e_33 \", cls=Function)\n",
    "# e_30 = e_30(r,theta)\n",
    "# e_31 = e_31(r,theta)\n",
    "# e_33 = e_33(r,theta)\n",
    "\n",
    "\n",
    "e_ = Matrix([[u_t, (u_r*u_t*g_r)/N_1,0,a*u_t/N_2],[u_r,( 2+ u_r**2 * g_r)/N_1,0,(a*u_r - b)/N_2],[0,0,1/sqrt(g_theta),0],[u_phi, (u_phi*u_r*g_r)/N_1,0,(1+a*u_phi)/N_2]])\n",
    "#e_ = Matrix([[1/sqrt(g_t), 0,0, 0],[0,1/sqrt(g_r),0,0],[0,0,1/sqrt(g_theta),0],[0, 0,0,1/sqrt(g_phi)]])\n",
    "\n",
    "\n",
    "e_ = e_.T"
   ]
  },
  {
   "cell_type": "code",
   "execution_count": 430,
   "metadata": {},
   "outputs": [
    {
     "data": {
      "text/latex": [
       "$\\displaystyle \\left[\\begin{matrix}-1 + \\frac{r_{s}}{r} & 0 & 0 & 0\\\\0 & \\frac{1}{1 - \\frac{r_{s}}{r}} & 0 & 0\\\\0 & 0 & r^{2} & 0\\\\0 & 0 & 0 & r^{2} \\sin^{2}{\\left(\\theta \\right)}\\end{matrix}\\right]$"
      ],
      "text/plain": [
       "⎡     rₛ                        ⎤\n",
       "⎢-1 + ──    0     0       0     ⎥\n",
       "⎢     r                         ⎥\n",
       "⎢                               ⎥\n",
       "⎢           1                   ⎥\n",
       "⎢   0     ──────  0       0     ⎥\n",
       "⎢             rₛ                ⎥\n",
       "⎢         1 - ──                ⎥\n",
       "⎢             r                 ⎥\n",
       "⎢                               ⎥\n",
       "⎢                  2            ⎥\n",
       "⎢   0       0     r       0     ⎥\n",
       "⎢                               ⎥\n",
       "⎢                      2    2   ⎥\n",
       "⎣   0       0     0   r ⋅sin (θ)⎦"
      ]
     },
     "execution_count": 430,
     "metadata": {},
     "output_type": "execute_result"
    }
   ],
   "source": [
    "g = Matrix([[g_t, 0,0,0],[0,g_r,0,0],[0,0,g_theta,0],[0,0,0,g_phi]])\n",
    "g"
   ]
  },
  {
   "attachments": {},
   "cell_type": "markdown",
   "metadata": {},
   "source": [
    "$\\newcommand{\\overbar}[1]{\\mkern 1.5mu\\overline{\\mkern-1.5mu#1\\mkern-1.5mu}\\mkern 1.5mu}\\textbf{}$\n",
    "\n",
    "$\\delta v_\\alpha = \\frac{\\hbar}{m i } \\overbar{\\Psi}_0^{(\\sigma)} \\Gamma_\\alpha \\Psi_0^{(\\sigma)}$ \\\n",
    "$\\delta v_\\alpha = \\frac{\\hbar}{m i } \\frac{-1}{2}\\overbar{\\Psi}_0^{(\\sigma)} \\omega_{\\alpha a b}\\Gamma_{(1/2)}(M^{a b }) \\Psi_0^{(\\sigma)}$ \\\n",
    "$\\delta v_\\alpha = -\\frac{\\hbar}{2m i } \\omega_{\\alpha a b}\\overbar{\\Psi}_0^{(\\sigma)} \\Gamma_{(1/2)}(M^{a b }) \\Psi_0^{(\\sigma)}$\n",
    "$:= -\\frac{\\hbar}{2m i } \\omega_{\\alpha a b}\\Sigma^{ab}$\n",
    "\n",
    "$\\Sigma^{ab} = \\overbar{\\Psi}_0^{(\\sigma)} \\Gamma_{(1/2)}(M^{a b }) \\Psi_0^{(\\sigma)} =  \\frac{1}{4}\\overbar{\\Psi}_0^{(\\sigma)} \\left[ \\gamma^a, \\gamma^b\\right]\\Psi_0^{(\\sigma)}$"
   ]
  },
  {
   "cell_type": "code",
   "execution_count": 422,
   "metadata": {},
   "outputs": [
    {
     "data": {
      "text/latex": [
       "$\\displaystyle \\left[\\begin{matrix}0 & 0 & 0 & 0\\\\0 & 0 & - \\frac{i}{2} & 0\\\\0 & \\frac{i}{2} & 0 & 0\\\\0 & 0 & 0 & 0\\end{matrix}\\right]$"
      ],
      "text/plain": [
       "⎡0  0   0   0⎤\n",
       "⎢            ⎥\n",
       "⎢      -ⅈ    ⎥\n",
       "⎢0  0  ───  0⎥\n",
       "⎢       2    ⎥\n",
       "⎢            ⎥\n",
       "⎢   ⅈ        ⎥\n",
       "⎢0  ─   0   0⎥\n",
       "⎢   2        ⎥\n",
       "⎢            ⎥\n",
       "⎣0  0   0   0⎦"
      ]
     },
     "execution_count": 422,
     "metadata": {},
     "output_type": "execute_result"
    }
   ],
   "source": [
    "xi = symbols(\"\\\\xi\", real=True)\n",
    "chi = symbols(\"\\\\chi\", real=True)\n",
    "\n",
    "def commutator(a,b):\n",
    "    return mgamma(a)@mgamma(b) - mgamma(b)@mgamma(a)\n",
    "\n",
    "def Sigma(a,b):\n",
    "    #psi = Matrix([[cos(xi/2),exp(I*chi)*sin(xi/2),0,0]]).T\n",
    "    psi = Matrix([[1,0,0,0]]).T #z-direction\n",
    "    #psi = Matrix([[0,1,0,0]]).T\n",
    "    #psi = Matrix([[1/sqrt(2), I*1/sqrt(2),0,0]]) #y-direction\n",
    "    #psi = Matrix([[1/sqrt(2), -1/sqrt(2),0,0]]).T\n",
    "\n",
    "    return conjugate(psi).T@mgamma(0)@commutator(a,b)@psi/4\n",
    "\n",
    "def Sigma_as_Matrix():\n",
    "    s = zeros(4)\n",
    "    for i in range(4):\n",
    "        for j in range(4):\n",
    "            s[i,j] = Sigma(i,j)\n",
    "    return s\n",
    "\n",
    "\n",
    "Sigma_ab = Sigma_as_Matrix()\n",
    "simplify(Sigma_ab)\n"
   ]
  },
  {
   "cell_type": "code",
   "execution_count": 413,
   "metadata": {},
   "outputs": [],
   "source": [
    "g_ = MetricTensor(g.tolist(),syms=[t,r,theta,phi], config='ll', name=\"ss-metric\") #change signature\n",
    "ch = ChristoffelSymbols.from_metric(g_)\n",
    "ch = ch.change_config(\"ull\")"
   ]
  },
  {
   "cell_type": "code",
   "execution_count": null,
   "metadata": {},
   "outputs": [],
   "source": [
    "u = GenericVector([u_t, u_r, u_theta, u_phi],syms=[t,r,theta,phi], config='u', name=\"velocity\", parent_metric=g_)\n"
   ]
  },
  {
   "cell_type": "code",
   "execution_count": null,
   "metadata": {},
   "outputs": [
    {
     "ename": "TypeError",
     "evalue": "unsupported operand type(s) for *: 'Zero' and 'UndefinedFunction'",
     "output_type": "error",
     "traceback": [
      "\u001b[0;31m---------------------------------------------------------------------------\u001b[0m",
      "\u001b[0;31mTypeError\u001b[0m                                 Traceback (most recent call last)",
      "Cell \u001b[0;32mIn[38], line 1\u001b[0m\n\u001b[0;32m----> 1\u001b[0m du_dtau \u001b[39m=\u001b[39m  tensor_product(tensor_product(ch\u001b[39m.\u001b[39;49mchange_config(\u001b[39m'\u001b[39;49m\u001b[39mull\u001b[39;49m\u001b[39m'\u001b[39;49m),u\u001b[39m.\u001b[39;49mchange_config(\u001b[39m'\u001b[39;49m\u001b[39mu\u001b[39;49m\u001b[39m'\u001b[39;49m), \u001b[39m1\u001b[39;49m,\u001b[39m0\u001b[39;49m), u\u001b[39m.\u001b[39mchange_config(\u001b[39m'\u001b[39m\u001b[39mu\u001b[39m\u001b[39m'\u001b[39m),\u001b[39m1\u001b[39m,\u001b[39m0\u001b[39m)\n\u001b[1;32m      2\u001b[0m \u001b[39mprint\u001b[39m(simplify(du_dtau\u001b[39m.\u001b[39mtensor()\u001b[39m*\u001b[39m(\u001b[39m-\u001b[39m\u001b[39m1\u001b[39m)))\n",
      "File \u001b[0;32m~/.var/app/com.visualstudio.code-oss/data/python/lib/python3.10/site-packages/einsteinpy/symbolic/tensor.py:92\u001b[0m, in \u001b[0;36mtensor_product\u001b[0;34m(tensor1, tensor2, i, j)\u001b[0m\n\u001b[1;32m     69\u001b[0m \u001b[39mdef\u001b[39;00m \u001b[39mtensor_product\u001b[39m(tensor1, tensor2, i\u001b[39m=\u001b[39m\u001b[39mNone\u001b[39;00m, j\u001b[39m=\u001b[39m\u001b[39mNone\u001b[39;00m):\n\u001b[1;32m     70\u001b[0m \u001b[39m    \u001b[39m\u001b[39m\"\"\"Tensor Product of ``tensor1`` and ``tensor2``\u001b[39;00m\n\u001b[1;32m     71\u001b[0m \n\u001b[1;32m     72\u001b[0m \u001b[39m    Parameters\u001b[39;00m\n\u001b[0;32m   (...)\u001b[0m\n\u001b[1;32m     90\u001b[0m \u001b[39m        Raised when ``i`` and ``j`` both indicate 'u' or 'l' indices\u001b[39;00m\n\u001b[1;32m     91\u001b[0m \u001b[39m    \"\"\"\u001b[39;00m\n\u001b[0;32m---> 92\u001b[0m     product \u001b[39m=\u001b[39m tensorproduct(tensor1\u001b[39m.\u001b[39;49marr, tensor2\u001b[39m.\u001b[39;49marr)\n\u001b[1;32m     94\u001b[0m     \u001b[39mif\u001b[39;00m (i \u001b[39mor\u001b[39;00m j) \u001b[39mis\u001b[39;00m \u001b[39mNone\u001b[39;00m:\n\u001b[1;32m     95\u001b[0m         newconfig \u001b[39m=\u001b[39m tensor1\u001b[39m.\u001b[39mconfig \u001b[39m+\u001b[39m tensor2\u001b[39m.\u001b[39mconfig\n",
      "File \u001b[0;32m~/.var/app/com.visualstudio.code-oss/data/python/lib/python3.10/site-packages/sympy/tensor/array/arrayop.py:86\u001b[0m, in \u001b[0;36mtensorproduct\u001b[0;34m(*args)\u001b[0m\n\u001b[1;32m     83\u001b[0m     new_array \u001b[39m=\u001b[39m {k1\u001b[39m*\u001b[39mlp \u001b[39m+\u001b[39m k2: v1\u001b[39m*\u001b[39mv2 \u001b[39mfor\u001b[39;00m k1, v1 \u001b[39min\u001b[39;00m a\u001b[39m.\u001b[39m_sparse_array\u001b[39m.\u001b[39mitems() \u001b[39mfor\u001b[39;00m k2, v2 \u001b[39min\u001b[39;00m b\u001b[39m.\u001b[39m_sparse_array\u001b[39m.\u001b[39mitems()}\n\u001b[1;32m     84\u001b[0m     \u001b[39mreturn\u001b[39;00m ImmutableSparseNDimArray(new_array, a\u001b[39m.\u001b[39mshape \u001b[39m+\u001b[39m b\u001b[39m.\u001b[39mshape)\n\u001b[0;32m---> 86\u001b[0m product_list \u001b[39m=\u001b[39m [i\u001b[39m*\u001b[39mj \u001b[39mfor\u001b[39;00m i \u001b[39min\u001b[39;00m Flatten(a) \u001b[39mfor\u001b[39;00m j \u001b[39min\u001b[39;00m Flatten(b)]\n\u001b[1;32m     87\u001b[0m \u001b[39mreturn\u001b[39;00m ImmutableDenseNDimArray(product_list, a\u001b[39m.\u001b[39mshape \u001b[39m+\u001b[39m b\u001b[39m.\u001b[39mshape)\n",
      "File \u001b[0;32m~/.var/app/com.visualstudio.code-oss/data/python/lib/python3.10/site-packages/sympy/tensor/array/arrayop.py:86\u001b[0m, in \u001b[0;36m<listcomp>\u001b[0;34m(.0)\u001b[0m\n\u001b[1;32m     83\u001b[0m     new_array \u001b[39m=\u001b[39m {k1\u001b[39m*\u001b[39mlp \u001b[39m+\u001b[39m k2: v1\u001b[39m*\u001b[39mv2 \u001b[39mfor\u001b[39;00m k1, v1 \u001b[39min\u001b[39;00m a\u001b[39m.\u001b[39m_sparse_array\u001b[39m.\u001b[39mitems() \u001b[39mfor\u001b[39;00m k2, v2 \u001b[39min\u001b[39;00m b\u001b[39m.\u001b[39m_sparse_array\u001b[39m.\u001b[39mitems()}\n\u001b[1;32m     84\u001b[0m     \u001b[39mreturn\u001b[39;00m ImmutableSparseNDimArray(new_array, a\u001b[39m.\u001b[39mshape \u001b[39m+\u001b[39m b\u001b[39m.\u001b[39mshape)\n\u001b[0;32m---> 86\u001b[0m product_list \u001b[39m=\u001b[39m [i\u001b[39m*\u001b[39;49mj \u001b[39mfor\u001b[39;00m i \u001b[39min\u001b[39;00m Flatten(a) \u001b[39mfor\u001b[39;00m j \u001b[39min\u001b[39;00m Flatten(b)]\n\u001b[1;32m     87\u001b[0m \u001b[39mreturn\u001b[39;00m ImmutableDenseNDimArray(product_list, a\u001b[39m.\u001b[39mshape \u001b[39m+\u001b[39m b\u001b[39m.\u001b[39mshape)\n",
      "\u001b[0;31mTypeError\u001b[0m: unsupported operand type(s) for *: 'Zero' and 'UndefinedFunction'"
     ]
    }
   ],
   "source": [
    "du_dtau =  tensor_product(tensor_product(ch.change_config('ull'),u.change_config('u'), 1,0), u.change_config('u'),1,0)\n",
    "print(simplify(du_dtau.tensor()*(-1)))"
   ]
  },
  {
   "cell_type": "code",
   "execution_count": 433,
   "metadata": {},
   "outputs": [],
   "source": [
    "Lorentz = TensorIndexType('Lorentz', dummy_name='L')\n",
    "Global = TensorIndexType('Global', dummy_name='G')\n",
    "a, b, c, d = tensor_indices('a, b, c, d', Lorentz)\n",
    "alpha, beta, mu, nu= tensor_indices('alpha, beta, mu, nu', Global)\n",
    "\n",
    "#E = TensorHead('E', [Global, Lorentz])\n",
    "e = TensorHead('e', [Lorentz, Global])\n",
    "Gamma = TensorHead('Gamma', [Global, Global, Global])\n",
    "dE = TensorHead('dE', [Global, Global, Lorentz])\n",
    "sigma = TensorHead('sigma', [Lorentz, Lorentz])\n",
    "\n",
    "minkowski_m = TensorHead('eta', [Lorentz, Lorentz])\n",
    "schwarzschild_m = TensorHead('g', [Global, Global])\n",
    "\n",
    "x = TensorHead('x', [Global])\n",
    "\n",
    "repl = {}\n",
    "repl[Lorentz] = eta#.tolist()\n",
    "repl[Global] = g_.tensor()\n",
    "repl[e(-a, alpha)] = (e_).tolist()\n",
    "#repl[E(-alpha, a)] = (E_).tolist()\n",
    "repl[Gamma(mu, -alpha, -beta)] = ch.tensor()\n",
    "#repl[dE(-mu, -alpha, c)] = [E_.diff(t).tolist(),E_.diff(r).tolist(),E_.diff(theta).tolist(),E_.diff(phi).tolist()]\n",
    "repl[sigma(a, b)] = Sigma_ab\n",
    "repl[minkowski_m(-a, -b)] = eta\n",
    "repl[schwarzschild_m(-mu, -nu)] = g_.tensor()\n",
    "repl[x(mu)] = [t, r, theta, phi]\n",
    "\n",
    "\n",
    "\n"
   ]
  },
  {
   "cell_type": "code",
   "execution_count": 434,
   "metadata": {},
   "outputs": [],
   "source": [
    "from sympy.tensor.toperators import PartialDerivative\n",
    "E = schwarzschild_m(-nu, -alpha)*e(-a, alpha)*minkowski_m(a, b)\n"
   ]
  },
  {
   "attachments": {},
   "cell_type": "markdown",
   "metadata": {},
   "source": [
    "$\\omega_{\\mu a b} = \\Gamma^\\alpha_{\\ \\ \\ \\nu \\mu}e_a^{\\ \\ \\  \\nu}E_\\alpha^{\\ \\  \\ c}\\eta_{b c}      - \\partial_\\mu (E_\\alpha^{\\ \\ \\ \\ c})e_a^{\\  \\ \\ \\alpha}\\eta_{b c}  $ "
   ]
  },
  {
   "cell_type": "code",
   "execution_count": 435,
   "metadata": {},
   "outputs": [
    {
     "name": "stderr",
     "output_type": "stream",
     "text": [
      "/tmp/ipykernel_1229/1897603286.py:1: SymPyDeprecationWarning: \n",
      "\n",
      "Calling a tensor like Tensor(*indices) is deprecated. Use\n",
      "Tensor.substitute_indices() instead.\n",
      "\n",
      "See https://docs.sympy.org/latest/explanation/active-deprecations.html#deprecated-tensor-fun-eval\n",
      "for details.\n",
      "\n",
      "This has been deprecated since SymPy version 1.5. It\n",
      "will be removed in a future version of SymPy.\n",
      "\n",
      "  omega_1 = PartialDerivative(E(-alpha, c), x(mu))*e(-a, alpha)*minkowski_m(-b, -c)\n"
     ]
    }
   ],
   "source": [
    "omega_1 = PartialDerivative(E(-alpha, c), x(mu))*e(-a, alpha)*minkowski_m(-b, -c)\n",
    "omega = Gamma(alpha, -nu, -mu)*e(-a, nu)*E(-alpha, c)*minkowski_m(-b, -c) - PartialDerivative(E(-alpha, c), x(mu))*e(-a, alpha)*minkowski_m(-b, -c)"
   ]
  },
  {
   "cell_type": "code",
   "execution_count": 436,
   "metadata": {},
   "outputs": [
    {
     "name": "stderr",
     "output_type": "stream",
     "text": [
      "/tmp/ipykernel_1229/1031376038.py:4: SymPyDeprecationWarning: \n",
      "\n",
      "Calling a tensor like Tensor(*indices) is deprecated. Use\n",
      "Tensor.substitute_indices() instead.\n",
      "\n",
      "See https://docs.sympy.org/latest/explanation/active-deprecations.html#deprecated-tensor-fun-eval\n",
      "for details.\n",
      "\n",
      "This has been deprecated since SymPy version 1.5. It\n",
      "will be removed in a future version of SymPy.\n",
      "\n",
      "  omega_sigma = omega_1(-mu, -a, -b)*sigma(a, b)\n"
     ]
    },
    {
     "data": {
      "text/latex": [
       "$\\displaystyle \\left[\\begin{matrix}0\\\\0\\\\0\\\\0\\end{matrix}\\right]$"
      ],
      "text/plain": [
       "⎡0⎤\n",
       "⎢ ⎥\n",
       "⎢0⎥\n",
       "⎢ ⎥\n",
       "⎢0⎥\n",
       "⎢ ⎥\n",
       "⎣0⎦"
      ]
     },
     "execution_count": 436,
     "metadata": {},
     "output_type": "execute_result"
    }
   ],
   "source": [
    "#omega_sigma = tensorcontraction(tensorcontraction(tensorproduct(w, Sigma_ab),(1,0)),(1,0))\n",
    "\n",
    "\n",
    "omega_sigma = omega_1(-mu, -a, -b)*sigma(a, b)\n",
    "\n",
    "\n",
    "dv = Matrix(omega_sigma.replace_with_arrays(repl, [mu]).tolist())/(-2*m_*I)\n",
    "dv = simplify(dv)\n",
    "dv\n",
    "#print(type(omega_sigma))\n",
    "#dv = GenericVector(omega_sigma*hbar/(-2*m_*I),syms=[t,r,theta,phi], config='l', name=\"dv\", parent_metric=g_)\n",
    "#dv = dv.change_config('u')\n",
    "#simplify(dv.tensor())"
   ]
  },
  {
   "cell_type": "code",
   "execution_count": 407,
   "metadata": {},
   "outputs": [
    {
     "data": {
      "text/latex": [
       "$\\displaystyle \\left[\\begin{matrix}0\\\\0\\\\\\frac{2 r u_{r}^{4}{\\left(t,r,\\phi \\right)} + 6 r u_{r}^{2}{\\left(t,r,\\phi \\right)} + 4 r - 3 r_{s} u_{r}^{2}{\\left(t,r,\\phi \\right)} - 2 r_{s}}{4 m r^{3} \\left(u_{r}^{2}{\\left(t,r,\\phi \\right)} + 1\\right)^{\\frac{3}{2}}}\\\\\\frac{\\left(- 2 r \\left(u_{r}^{2}{\\left(t,r,\\phi \\right)} + 1\\right) - r_{s}\\right) u_{\\phi}{\\left(t,r,\\phi \\right)} u_{r}{\\left(t,r,\\phi \\right)}}{4 m r^{2} \\left(u_{r}^{2}{\\left(t,r,\\phi \\right)} + 1\\right)^{\\frac{3}{2}} \\tan{\\left(\\theta \\right)}}\\end{matrix}\\right]$"
      ],
      "text/plain": [
       "⎡                                 0                                  ⎤\n",
       "⎢                                                                    ⎥\n",
       "⎢                                 0                                  ⎥\n",
       "⎢                                                                    ⎥\n",
       "⎢      4                  2                         2                ⎥\n",
       "⎢2⋅r⋅uᵣ (t, r, φ) + 6⋅r⋅uᵣ (t, r, φ) + 4⋅r - 3⋅rₛ⋅uᵣ (t, r, φ) - 2⋅rₛ⎥\n",
       "⎢────────────────────────────────────────────────────────────────────⎥\n",
       "⎢                                             3/2                    ⎥\n",
       "⎢                         3 ⎛  2             ⎞                       ⎥\n",
       "⎢                    4⋅m⋅r ⋅⎝uᵣ (t, r, φ) + 1⎠                       ⎥\n",
       "⎢                                                                    ⎥\n",
       "⎢    ⎛      ⎛  2             ⎞     ⎞                                 ⎥\n",
       "⎢    ⎝- 2⋅r⋅⎝uᵣ (t, r, φ) + 1⎠ - rₛ⎠⋅u_\\phi(t, r, φ)⋅uᵣ(t, r, φ)     ⎥\n",
       "⎢    ───────────────────────────────────────────────────────────     ⎥\n",
       "⎢                                         3/2                        ⎥\n",
       "⎢                     2 ⎛  2             ⎞                           ⎥\n",
       "⎣                4⋅m⋅r ⋅⎝uᵣ (t, r, φ) + 1⎠   ⋅tan(θ)                 ⎦"
      ]
     },
     "execution_count": 407,
     "metadata": {},
     "output_type": "execute_result"
    }
   ],
   "source": [
    "simplify((dv.subs(r_s, 0) + dv.diff(r_s).subs(r_s, 0)*r_s).subs(sqrt(r**2), r))"
   ]
  },
  {
   "cell_type": "code",
   "execution_count": 427,
   "metadata": {},
   "outputs": [
    {
     "data": {
      "text/latex": [
       "$\\displaystyle \\left[\\begin{matrix}0\\\\0\\\\\\frac{u_{r}^{2}{\\left(t,r,\\phi \\right)} + 2}{2 m r^{2} \\sqrt{u_{r}^{2}{\\left(t,r,\\phi \\right)} + 1}}\\\\0\\end{matrix}\\right]$"
      ],
      "text/plain": [
       "⎡             0              ⎤\n",
       "⎢                            ⎥\n",
       "⎢             0              ⎥\n",
       "⎢                            ⎥\n",
       "⎢        2                   ⎥\n",
       "⎢      uᵣ (t, r, φ) + 2      ⎥\n",
       "⎢────────────────────────────⎥\n",
       "⎢          __________________⎥\n",
       "⎢     2   ╱   2              ⎥\n",
       "⎢2⋅m⋅r ⋅╲╱  uᵣ (t, r, φ) + 1 ⎥\n",
       "⎢                            ⎥\n",
       "⎣             0              ⎦"
      ]
     },
     "execution_count": 427,
     "metadata": {},
     "output_type": "execute_result"
    }
   ],
   "source": [
    "simplify(dv.subs(r_s, 0).subs(sqrt(r**2), r)).subs(theta, pi/2)"
   ]
  },
  {
   "cell_type": "code",
   "execution_count": null,
   "metadata": {},
   "outputs": [],
   "source": [
    "dv_ = TensorHead(\"dv\", [Global])\n",
    "repl[dv_(mu)] = dv.T.tolist()[0]"
   ]
  },
  {
   "cell_type": "code",
   "execution_count": null,
   "metadata": {},
   "outputs": [
    {
     "data": {
      "text/latex": [
       "$\\displaystyle \\left[\\begin{matrix}u_{t} \\sqrt{1 - \\frac{r_{s}}{r}} & \\frac{u_{r}}{\\sqrt{1 - \\frac{r_{s}}{r}}} & r u_{\\theta} & r u_{\\phi} \\sin{\\left(\\theta \\right)}\\end{matrix}\\right]$"
      ],
      "text/plain": [
       "⎡       ________                                           ⎤\n",
       "⎢      ╱     rₛ        uᵣ                                  ⎥\n",
       "⎢uₜ⋅  ╱  1 - ──   ────────────  r⋅u_\\theta  r⋅u_\\phi⋅sin(θ)⎥\n",
       "⎢   ╲╱       r        ________                             ⎥\n",
       "⎢                    ╱     rₛ                              ⎥\n",
       "⎢                   ╱  1 - ──                              ⎥\n",
       "⎣                 ╲╱       r                               ⎦"
      ]
     },
     "execution_count": 148,
     "metadata": {},
     "output_type": "execute_result"
    }
   ],
   "source": [
    "beta = Symbol(\"beta\")\n",
    "u = TensorHead(\"u\", [Global])\n",
    "repl[u(mu)] = [u_t, u_r, u_theta ,u_phi]\n",
    "u = u(mu)*E(-mu, a)\n",
    "u.replace_with_arrays(repl, [a])"
   ]
  },
  {
   "cell_type": "code",
   "execution_count": null,
   "metadata": {},
   "outputs": [
    {
     "data": {
      "text/latex": [
       "$\\displaystyle \\left[\\begin{matrix}u_{t} & u_{r} & u_{\\theta} + \\frac{\\sqrt{1 - \\frac{r_{s}}{r}}}{4 m r^{2}} & u_{\\phi}\\end{matrix}\\right]$"
      ],
      "text/plain": [
       "⎡                       ________        ⎤\n",
       "⎢                      ╱     rₛ         ⎥\n",
       "⎢                     ╱  1 - ──         ⎥\n",
       "⎢                   ╲╱       r          ⎥\n",
       "⎢uₜ  uᵣ  u_\\theta + ────────────  u_\\phi⎥\n",
       "⎢                           2           ⎥\n",
       "⎣                      4⋅m⋅r            ⎦"
      ]
     },
     "execution_count": 150,
     "metadata": {},
     "output_type": "execute_result"
    }
   ],
   "source": [
    "v_local = dv_(mu)*E(-mu, a)\n",
    "j = Matrix(u.replace_with_arrays(repl, [a])) + Matrix(v_local.replace_with_arrays(repl, [a]))\n",
    "j_ = TensorHead(\"j\", [Lorentz])\n",
    "repl[j_(a)] = j.T.tolist()[0]\n",
    "result = j_(a)*E_inv(-a, mu)\n",
    "simplify(result.replace_with_arrays(repl, [mu]))"
   ]
  },
  {
   "cell_type": "code",
   "execution_count": null,
   "metadata": {},
   "outputs": [
    {
     "data": {
      "text/latex": [
       "$\\displaystyle \\left[\\begin{matrix}\\left[\\begin{matrix}0 & 0 & 0 & 0\\\\0 & 0 & 0 & 0\\\\0 & 0 & 0 & 0\\\\0 & 0 & 0 & 0\\end{matrix}\\right] & \\left[\\begin{matrix}0 & 0 & 0 & 0\\\\0 & 0 & 0 & 0\\\\0 & 0 & 0 & 0\\\\0 & 0 & 0 & 0\\end{matrix}\\right] & \\left[\\begin{matrix}0 & 0 & 0 & 0\\\\0 & 0 & 0 & 0\\\\0 & 0 & 0 & 0\\\\0 & 0 & 0 & 0\\end{matrix}\\right] & \\left[\\begin{matrix}0 & 0 & 0 & 0\\\\0 & 0 & 0 & 0\\\\0 & 0 & 0 & 0\\\\0 & 0 & 0 & 0\\end{matrix}\\right]\\\\\\left[\\begin{matrix}0 & 0 & 0 & 0\\\\0 & 0 & 0 & 0\\\\0 & 0 & 0 & 0\\\\0 & 0 & 0 & 0\\end{matrix}\\right] & \\left[\\begin{matrix}0 & 0 & 0 & 0\\\\0 & 0 & 0 & 0\\\\0 & 0 & 0 & 0\\\\0 & 0 & 0 & 0\\end{matrix}\\right] & \\left[\\begin{matrix}0 & 0 & 0 & 0\\\\0 & 0 & 0 & 0\\\\0 & 0 & 0 & 0\\\\0 & 0 & 0 & 0\\end{matrix}\\right] & \\left[\\begin{matrix}0 & 0 & 0 & 0\\\\0 & 0 & 0 & 0\\\\0 & 0 & 0 & 0\\\\0 & 0 & 0 & 0\\end{matrix}\\right]\\\\\\left[\\begin{matrix}0 & 0 & 0 & 0\\\\0 & 0 & 0 & 0\\\\0 & 0 & 0 & 0\\\\0 & 0 & 0 & 0\\end{matrix}\\right] & \\left[\\begin{matrix}0 & 0 & 0 & 0\\\\0 & 0 & 0 & 0\\\\0 & 0 & 0 & 0\\\\0 & 0 & 0 & 0\\end{matrix}\\right] & \\left[\\begin{matrix}0 & 0 & 0 & 0\\\\0 & 0 & 0 & 0\\\\0 & 0 & 0 & 0\\\\0 & 0 & 0 & 0\\end{matrix}\\right] & \\left[\\begin{matrix}0 & 0 & 0 & 0\\\\0 & 0 & 0 & 0\\\\0 & 0 & 0 & 0\\\\0 & 0 & 0 & 0\\end{matrix}\\right]\\\\\\left[\\begin{matrix}0 & 0 & 0 & 0\\\\0 & 0 & 0 & 0\\\\0 & 0 & 0 & 0\\\\0 & 0 & 0 & 0\\end{matrix}\\right] & \\left[\\begin{matrix}0 & 0 & 0 & 0\\\\0 & 0 & 0 & 0\\\\0 & 0 & 0 & 0\\\\0 & 0 & 0 & 0\\end{matrix}\\right] & \\left[\\begin{matrix}0 & 0 & 0 & 0\\\\0 & 0 & 0 & 0\\\\0 & 0 & 0 & 0\\\\0 & 0 & 0 & 0\\end{matrix}\\right] & \\left[\\begin{matrix}0 & 0 & 0 & 0\\\\0 & 0 & 0 & 0\\\\0 & 0 & 0 & 0\\\\0 & 0 & 0 & 0\\end{matrix}\\right]\\end{matrix}\\right]$"
      ],
      "text/plain": [
       "⎡⎡0  0  0  0⎤  ⎡0  0  0  0⎤  ⎡0  0  0  0⎤  ⎡0  0  0  0⎤⎤\n",
       "⎢⎢          ⎥  ⎢          ⎥  ⎢          ⎥  ⎢          ⎥⎥\n",
       "⎢⎢0  0  0  0⎥  ⎢0  0  0  0⎥  ⎢0  0  0  0⎥  ⎢0  0  0  0⎥⎥\n",
       "⎢⎢          ⎥  ⎢          ⎥  ⎢          ⎥  ⎢          ⎥⎥\n",
       "⎢⎢0  0  0  0⎥  ⎢0  0  0  0⎥  ⎢0  0  0  0⎥  ⎢0  0  0  0⎥⎥\n",
       "⎢⎢          ⎥  ⎢          ⎥  ⎢          ⎥  ⎢          ⎥⎥\n",
       "⎢⎣0  0  0  0⎦  ⎣0  0  0  0⎦  ⎣0  0  0  0⎦  ⎣0  0  0  0⎦⎥\n",
       "⎢                                                      ⎥\n",
       "⎢⎡0  0  0  0⎤  ⎡0  0  0  0⎤  ⎡0  0  0  0⎤  ⎡0  0  0  0⎤⎥\n",
       "⎢⎢          ⎥  ⎢          ⎥  ⎢          ⎥  ⎢          ⎥⎥\n",
       "⎢⎢0  0  0  0⎥  ⎢0  0  0  0⎥  ⎢0  0  0  0⎥  ⎢0  0  0  0⎥⎥\n",
       "⎢⎢          ⎥  ⎢          ⎥  ⎢          ⎥  ⎢          ⎥⎥\n",
       "⎢⎢0  0  0  0⎥  ⎢0  0  0  0⎥  ⎢0  0  0  0⎥  ⎢0  0  0  0⎥⎥\n",
       "⎢⎢          ⎥  ⎢          ⎥  ⎢          ⎥  ⎢          ⎥⎥\n",
       "⎢⎣0  0  0  0⎦  ⎣0  0  0  0⎦  ⎣0  0  0  0⎦  ⎣0  0  0  0⎦⎥\n",
       "⎢                                                      ⎥\n",
       "⎢⎡0  0  0  0⎤  ⎡0  0  0  0⎤  ⎡0  0  0  0⎤  ⎡0  0  0  0⎤⎥\n",
       "⎢⎢          ⎥  ⎢          ⎥  ⎢          ⎥  ⎢          ⎥⎥\n",
       "⎢⎢0  0  0  0⎥  ⎢0  0  0  0⎥  ⎢0  0  0  0⎥  ⎢0  0  0  0⎥⎥\n",
       "⎢⎢          ⎥  ⎢          ⎥  ⎢          ⎥  ⎢          ⎥⎥\n",
       "⎢⎢0  0  0  0⎥  ⎢0  0  0  0⎥  ⎢0  0  0  0⎥  ⎢0  0  0  0⎥⎥\n",
       "⎢⎢          ⎥  ⎢          ⎥  ⎢          ⎥  ⎢          ⎥⎥\n",
       "⎢⎣0  0  0  0⎦  ⎣0  0  0  0⎦  ⎣0  0  0  0⎦  ⎣0  0  0  0⎦⎥\n",
       "⎢                                                      ⎥\n",
       "⎢⎡0  0  0  0⎤  ⎡0  0  0  0⎤  ⎡0  0  0  0⎤  ⎡0  0  0  0⎤⎥\n",
       "⎢⎢          ⎥  ⎢          ⎥  ⎢          ⎥  ⎢          ⎥⎥\n",
       "⎢⎢0  0  0  0⎥  ⎢0  0  0  0⎥  ⎢0  0  0  0⎥  ⎢0  0  0  0⎥⎥\n",
       "⎢⎢          ⎥  ⎢          ⎥  ⎢          ⎥  ⎢          ⎥⎥\n",
       "⎢⎢0  0  0  0⎥  ⎢0  0  0  0⎥  ⎢0  0  0  0⎥  ⎢0  0  0  0⎥⎥\n",
       "⎢⎢          ⎥  ⎢          ⎥  ⎢          ⎥  ⎢          ⎥⎥\n",
       "⎣⎣0  0  0  0⎦  ⎣0  0  0  0⎦  ⎣0  0  0  0⎦  ⎣0  0  0  0⎦⎦"
      ]
     },
     "execution_count": 97,
     "metadata": {},
     "output_type": "execute_result"
    }
   ],
   "source": [
    "rieman = RiemannCurvatureTensor.from_metric(g_)\n",
    "rieman.tensor()"
   ]
  },
  {
   "cell_type": "code",
   "execution_count": null,
   "metadata": {},
   "outputs": [
    {
     "name": "stdout",
     "output_type": "stream",
     "text": [
      "(r**3*(r - r_s)*(u_\\theta**2 + u_phi**2*sin(theta)**2) + r**2*u_r**2 - u_t**2*(r - r_s)**2)/(r*(r - r_s))\n"
     ]
    }
   ],
   "source": [
    "u_2 = tensor_product(u,u.change_config('l'), 0,0)\n",
    "\n",
    "print(u_2.tensor())\n"
   ]
  },
  {
   "cell_type": "code",
   "execution_count": null,
   "metadata": {},
   "outputs": [
    {
     "name": "stdout",
     "output_type": "stream",
     "text": [
      "[-sqrt(r*(r**3*u_\\theta**2 + r**3*u_phi**2*sin(theta)**2 - r**2*r_s*u_\\theta**2 - r**2*r_s*u_phi**2*sin(theta)**2 + r*u_r**2 + r - r_s))/(r - r_s), sqrt(r*(r**3*u_\\theta**2 + r**3*u_phi**2*sin(theta)**2 - r**2*r_s*u_\\theta**2 - r**2*r_s*u_phi**2*sin(theta)**2 + r*u_r**2 + r - r_s))/(r - r_s)]\n"
     ]
    }
   ],
   "source": [
    "u_2_expr = (r**3*(r - r_s)*(u_theta**2 + u_phi**2*sin(theta)**2) + r**2*u_r**2 - u_t**2*(r - r_s)**2)/(r*(r - r_s))\n",
    "print(solve(u_2_expr + 1, u_t))"
   ]
  },
  {
   "cell_type": "code",
   "execution_count": null,
   "metadata": {},
   "outputs": [
    {
     "ename": "NameError",
     "evalue": "name 'sigma' is not defined",
     "output_type": "error",
     "traceback": [
      "\u001b[0;31m---------------------------------------------------------------------------\u001b[0m",
      "\u001b[0;31mNameError\u001b[0m                                 Traceback (most recent call last)",
      "Cell \u001b[0;32mIn[35], line 2\u001b[0m\n\u001b[1;32m      1\u001b[0m rieman \u001b[39m=\u001b[39m RiemannCurvatureTensor\u001b[39m.\u001b[39mfrom_metric(g_)\n\u001b[0;32m----> 2\u001b[0m sig \u001b[39m=\u001b[39m BaseRelativityTensor(sigma,syms\u001b[39m=\u001b[39m[t,r,theta,phi], config\u001b[39m=\u001b[39m\u001b[39m\"\u001b[39m\u001b[39muu\u001b[39m\u001b[39m\"\u001b[39m, name\u001b[39m=\u001b[39m\u001b[39m\"\u001b[39m\u001b[39msigma\u001b[39m\u001b[39m\"\u001b[39m, parent_metric\u001b[39m=\u001b[39mm)\n\u001b[1;32m      3\u001b[0m sig\u001b[39m.\u001b[39mtensor()\n",
      "\u001b[0;31mNameError\u001b[0m: name 'sigma' is not defined"
     ]
    }
   ],
   "source": [
    "rieman = RiemannCurvatureTensor.from_metric(g_)\n",
    "sig = BaseRelativityTensor(sigma,syms=[t,r,theta,phi], config=\"uu\", name=\"sigma\", parent_metric=m)\n",
    "sig.tensor()"
   ]
  },
  {
   "cell_type": "code",
   "execution_count": null,
   "metadata": {},
   "outputs": [],
   "source": [
    "\n",
    "contraction = tensorcontraction(tensor_product(tensor_product(rieman.change_config(\"llll\"),u, 1,0),sig,1,0,).tensor(),(1,2))\n",
    "#contraction.tensor()"
   ]
  },
  {
   "cell_type": "code",
   "execution_count": null,
   "metadata": {},
   "outputs": [],
   "source": [
    "a = GenericVector(contraction.subs(f,1-r_s),syms=[t,r,theta,phi], config='l', name=\"acceleration\", parent_metric=m)"
   ]
  },
  {
   "cell_type": "code",
   "execution_count": null,
   "metadata": {},
   "outputs": [
    {
     "name": "stdout",
     "output_type": "stream",
     "text": [
      "[0, -r_s*u_\\theta*sqrt(1 - r_s)/r**2, r_s*u_r*sqrt(1 - r_s)/(r**3*(r - r_s)), 0]\n"
     ]
    }
   ],
   "source": [
    "a = a.change_config('u')\n",
    "print(a.tensor())"
   ]
  },
  {
   "cell_type": "code",
   "execution_count": null,
   "metadata": {},
   "outputs": [
    {
     "data": {
      "image/png": "[encoded data removed]",
      "text/latex": [
       "$\\displaystyle 0.784757820998493$"
      ],
      "text/plain": [
       "0.7847578209984931"
      ]
     },
     "execution_count": 34,
     "metadata": {},
     "output_type": "execute_result"
    }
   ],
   "source": [
    "R = 6371\n",
    "l = 100\n",
    "\n",
    "x = np.sqrt(R**2 + l**2) - R\n",
    "x"
   ]
  },
  {
   "cell_type": "code",
   "execution_count": null,
   "metadata": {},
   "outputs": [
    {
     "data": {
      "image/png": "[encoded data removed]",
      "text/latex": [
       "$\\displaystyle 10131712.2593718$"
      ],
      "text/plain": [
       "10131712.259371834"
      ]
     },
     "execution_count": 51,
     "metadata": {},
     "output_type": "execute_result"
    }
   ],
   "source": [
    "2/3 * 1E-8 / 6.58E-16"
   ]
  },
  {
   "cell_type": "code",
   "execution_count": null,
   "metadata": {},
   "outputs": [
    {
     "data": {
      "image/png": "[encoded data removed]",
      "text/latex": [
       "$\\displaystyle 1.0$"
      ],
      "text/plain": [
       "1.0"
      ]
     },
     "execution_count": 25,
     "metadata": {},
     "output_type": "execute_result"
    }
   ],
   "source": [
    "E = 2.4*1E6\n",
    "m = 1.5E-6\n",
    "\n",
    "alpha = E**2/m**2\n",
    "\n",
    "\n",
    "\n",
    "beta = np.sqrt((alpha-1)/(alpha+2))\n",
    "beta"
   ]
  }
 ],
 "metadata": {
  "kernelspec": {
   "display_name": "Python 3",
   "language": "python",
   "name": "python3"
  },
  "language_info": {
   "codemirror_mode": {
    "name": "ipython",
    "version": 3
   },
   "file_extension": ".py",
   "mimetype": "text/x-python",
   "name": "python",
   "nbconvert_exporter": "python",
   "pygments_lexer": "ipython3",
   "version": "3.10.13"
  },
  "vscode": {
   "interpreter": {
    "hash": "d2152fd7f0bbc62aa1baff8c990435d1e2c7175d001561303988032604c11a48"
   }
  }
 },
 "nbformat": 4,
 "nbformat_minor": 2
}
