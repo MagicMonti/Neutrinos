{
 "cells": [
  {
   "cell_type": "code",
   "execution_count": 1,
   "id": "d9a677d6",
   "metadata": {},
   "outputs": [
    {
     "data": {
      "text/markdown": [
       "${}\\text{Property Metric attached to}g_{a b}.$"
      ]
     },
     "metadata": {},
     "output_type": "display_data"
    }
   ],
   "source": [
    "g_{a b}::Metric;"
   ]
  },
  {
   "cell_type": "code",
   "execution_count": 2,
   "id": "cda00b75",
   "metadata": {},
   "outputs": [
    {
     "data": {
      "text/markdown": [
       "${}\\text{Property Indices(position=free) attached to}\\left[a, b, c, d, e, f, g, h, i, j, \\mu, \\nu \\rho, \\alpha, \\beta, \\lambda, \\sigma, \\tau\\right].$"
      ]
     },
     "metadata": {},
     "output_type": "display_data"
    }
   ],
   "source": [
    "{a ,b ,c,d, ,e ,f, g ,h ,i ,j, \\mu, \\nu \\rho, \\alpha, \\beta , \\lambda, \\sigma, \\tau }::Indices(values={t,x,y,z});"
   ]
  },
  {
   "cell_type": "code",
   "execution_count": 3,
   "id": "4c6f3a2e",
   "metadata": {},
   "outputs": [
    {
     "data": {
      "text/markdown": [
       "${}\\text{Property KroneckerDelta attached to}g_{a}\\,^{b}.$"
      ]
     },
     "metadata": {},
     "output_type": "display_data"
    }
   ],
   "source": [
    "g_{a}^{b}::KroneckerDelta;"
   ]
  },
  {
   "cell_type": "code",
   "execution_count": 4,
   "id": "f2ae92a5",
   "metadata": {},
   "outputs": [
    {
     "data": {
      "text/markdown": [
       "${}\\text{Property Derivative attached to}\\nabla{\\#}.$"
      ]
     },
     "metadata": {},
     "output_type": "display_data"
    }
   ],
   "source": [
    "\\nabla{#}::Derivative;"
   ]
  },
  {
   "cell_type": "code",
   "execution_count": 5,
   "id": "490c6e73",
   "metadata": {},
   "outputs": [
    {
     "data": {
      "text/markdown": [
       "${}\\text{Property PartialDerivative attached to}\\partial{\\#}.$"
      ]
     },
     "metadata": {},
     "output_type": "display_data"
    }
   ],
   "source": [
    "\\partial{#}::PartialDerivative;"
   ]
  },
  {
   "cell_type": "code",
   "execution_count": 6,
   "id": "759ee7d6",
   "metadata": {},
   "outputs": [
    {
     "data": {
      "text/markdown": [
       "${}\\Gamma^{a}\\,_{b c} \\rightarrow \\frac{1}{2}g^{a d} \\left(\\partial_{b}{g_{d c}}+\\partial_{c}{g_{b d}}-\\partial_{d}{g_{b c}}\\right)$"
      ]
     },
     "metadata": {},
     "output_type": "display_data"
    }
   ],
   "source": [
    "Gamma := \\Gamma^{a}_{b c} -> (1/2) g^{a d} ( \\partial_{b}{g_{d c}} + \\partial_{c}{g_{b d}} - \\partial_{d}{g_{b c}} );"
   ]
  },
  {
   "cell_type": "code",
   "execution_count": 7,
   "id": "d94e6e6f",
   "metadata": {},
   "outputs": [
    {
     "data": {
      "text/markdown": [
       "${}g_{a b} \\rightarrow \\eta_{a b}+h_{a b} exp\\left(i k_{e} x^{e}\\right)$"
      ]
     },
     "metadata": {},
     "output_type": "display_data"
    }
   ],
   "source": [
    "g:=  g_{a b} -> \\eta_{a b} + h_{a b}*exp(i k_e * x^e);"
   ]
  },
  {
   "cell_type": "code",
   "execution_count": 8,
   "id": "d156d57d",
   "metadata": {},
   "outputs": [
    {
     "data": {
      "text/markdown": [
       "${}\\partial_{b}\\left(h_{a c} exp\\left(i k_{d} x^{d}\\right)\\right)$"
      ]
     },
     "metadata": {},
     "output_type": "display_data"
    }
   ],
   "source": [
    "dh := \\partial_{b}{h_{a c}*exp(i k_d * x^d)};"
   ]
  },
  {
   "cell_type": "code",
   "execution_count": 9,
   "id": "a65c5aba",
   "metadata": {},
   "outputs": [
    {
     "data": {
      "text/markdown": [
       "${}\\partial_{b}{h_{a c}} \\rightarrow 0$"
      ]
     },
     "metadata": {},
     "output_type": "display_data"
    }
   ],
   "source": [
    "rule1 := \\partial_{b}{h_{a c}} -> 0;"
   ]
  },
  {
   "cell_type": "code",
   "execution_count": 10,
   "id": "2086c262",
   "metadata": {},
   "outputs": [
    {
     "data": {
      "text/markdown": [
       "${}\\partial_{b}{\\eta_{a c}} \\rightarrow 0$"
      ]
     },
     "metadata": {},
     "output_type": "display_data"
    }
   ],
   "source": [
    "rule2 := \\partial_{b}{\\eta_{a c}} -> 0;"
   ]
  },
  {
   "cell_type": "code",
   "execution_count": 11,
   "id": "35699348",
   "metadata": {},
   "outputs": [
    {
     "data": {
      "text/markdown": [
       "${}\\partial_{b}\\left(exp\\left(i k_{a} x^{a}\\right)\\right) \\rightarrow i k_{b} exp\\left(i k_{a} x^{a}\\right)$"
      ]
     },
     "metadata": {},
     "output_type": "display_data"
    }
   ],
   "source": [
    "rule3 := \\partial_{b}{exp(i k_a * x^a)} -> i * k_b * exp(i k_a * x^a);"
   ]
  },
  {
   "cell_type": "code",
   "execution_count": 12,
   "id": "43760b0a",
   "metadata": {},
   "outputs": [
    {
     "data": {
      "text/markdown": [
       "${}\\partial_{b}{h_{a c}} exp\\left(i k_{d} x^{d}\\right)+h_{a c} \\partial_{b}\\left(exp\\left(i k_{d} x^{d}\\right)\\right)$"
      ]
     },
     "metadata": {},
     "output_type": "display_data"
    },
    {
     "data": {
      "text/markdown": [
       "${}h_{a c} \\partial_{b}\\left(exp\\left(i k_{d} x^{d}\\right)\\right)$"
      ]
     },
     "metadata": {},
     "output_type": "display_data"
    },
    {
     "data": {
      "text/markdown": [
       "${}h_{a c} \\partial_{b}\\left(exp\\left(i k_{d} x^{d}\\right)\\right)$"
      ]
     },
     "metadata": {},
     "output_type": "display_data"
    }
   ],
   "source": [
    "product_rule(dh);\n",
    "substitute(dh, rule1);\n",
    "substitute(dh, rule2);"
   ]
  },
  {
   "cell_type": "code",
   "execution_count": 13,
   "id": "f9dfd819",
   "metadata": {},
   "outputs": [
    {
     "data": {
      "text/markdown": [
       "${}\\Gamma^{a}\\,_{b c} \\rightarrow \\frac{1}{2}\\left(\\eta^{a d}+h^{a d} exp\\left(i k_{e} x^{e}\\right)\\right) \\left(\\partial_{b}\\left(\\eta_{d c}+h_{d c} exp\\left(i k_{e} x^{e}\\right)\\right)+\\partial_{c}\\left(\\eta_{b d}+h_{b d} exp\\left(i k_{e} x^{e}\\right)\\right)-\\partial_{d}\\left(\\eta_{b c}+h_{b c} exp\\left(i k_{e} x^{e}\\right)\\right)\\right)$"
      ]
     },
     "metadata": {},
     "output_type": "display_data"
    }
   ],
   "source": [
    "substitute(Gamma, g);"
   ]
  },
  {
   "cell_type": "code",
   "execution_count": 14,
   "id": "4ac2db19",
   "metadata": {},
   "outputs": [
    {
     "data": {
      "text/markdown": [
       "${}\\Gamma^{a}\\,_{b c} \\rightarrow \\frac{1}{2}\\eta^{a d} \\partial_{b}{\\eta_{d c}}+\\frac{1}{2}\\eta^{a d} \\partial_{b}\\left(h_{d c} exp\\left(i k_{e} x^{e}\\right)\\right)+\\frac{1}{2}\\eta^{a d} \\partial_{c}{\\eta_{b d}}+\\frac{1}{2}\\eta^{a d} \\partial_{c}\\left(h_{b d} exp\\left(i k_{e} x^{e}\\right)\\right) - \\frac{1}{2}\\eta^{a d} \\partial_{d}{\\eta_{b c}} - \\frac{1}{2}\\eta^{a d} \\partial_{d}\\left(h_{b c} exp\\left(i k_{e} x^{e}\\right)\\right)+\\frac{1}{2}h^{a d} exp\\left(i k_{e} x^{e}\\right) \\partial_{b}{\\eta_{d c}}+\\frac{1}{2}h^{a d} exp\\left(i k_{e} x^{e}\\right) \\partial_{b}\\left(h_{d c} exp\\left(i k_{e} x^{e}\\right)\\right)+\\frac{1}{2}h^{a d} exp\\left(i k_{e} x^{e}\\right) \\partial_{c}{\\eta_{b d}}+\\frac{1}{2}h^{a d} exp\\left(i k_{e} x^{e}\\right) \\partial_{c}\\left(h_{b d} exp\\left(i k_{e} x^{e}\\right)\\right) - \\frac{1}{2}h^{a d} exp\\left(i k_{e} x^{e}\\right) \\partial_{d}{\\eta_{b c}} - \\frac{1}{2}h^{a d} exp\\left(i k_{e} x^{e}\\right) \\partial_{d}\\left(h_{b c} exp\\left(i k_{e} x^{e}\\right)\\right)$"
      ]
     },
     "metadata": {},
     "output_type": "display_data"
    }
   ],
   "source": [
    "distribute (Gamma);"
   ]
  },
  {
   "cell_type": "code",
   "execution_count": 15,
   "id": "bdb0c4ba",
   "metadata": {},
   "outputs": [
    {
     "data": {
      "text/markdown": [
       "${}\\Gamma^{a}\\,_{b c} \\rightarrow \\frac{1}{2}\\eta^{a d} \\partial_{b}{\\eta_{d c}}+\\frac{1}{2}\\eta^{a d} \\left(\\partial_{b}{h_{d c}} exp\\left(i k_{e} x^{e}\\right)+h_{d c} \\partial_{b}\\left(exp\\left(i k_{e} x^{e}\\right)\\right)\\right)+\\frac{1}{2}\\eta^{a d} \\partial_{c}{\\eta_{b d}}+\\frac{1}{2}\\eta^{a d} \\left(\\partial_{c}{h_{b d}} exp\\left(i k_{e} x^{e}\\right)+h_{b d} \\partial_{c}\\left(exp\\left(i k_{e} x^{e}\\right)\\right)\\right) - \\frac{1}{2}\\eta^{a d} \\partial_{d}{\\eta_{b c}} - \\frac{1}{2}\\eta^{a d} \\left(\\partial_{d}{h_{b c}} exp\\left(i k_{e} x^{e}\\right)+h_{b c} \\partial_{d}\\left(exp\\left(i k_{e} x^{e}\\right)\\right)\\right)+\\frac{1}{2}h^{a d} exp\\left(i k_{e} x^{e}\\right) \\partial_{b}{\\eta_{d c}}+\\frac{1}{2}h^{a d} exp\\left(i k_{e} x^{e}\\right) \\left(\\partial_{b}{h_{d c}} exp\\left(i k_{e} x^{e}\\right)+h_{d c} \\partial_{b}\\left(exp\\left(i k_{e} x^{e}\\right)\\right)\\right)+\\frac{1}{2}h^{a d} exp\\left(i k_{e} x^{e}\\right) \\partial_{c}{\\eta_{b d}}+\\frac{1}{2}h^{a d} exp\\left(i k_{e} x^{e}\\right) \\left(\\partial_{c}{h_{b d}} exp\\left(i k_{e} x^{e}\\right)+h_{b d} \\partial_{c}\\left(exp\\left(i k_{e} x^{e}\\right)\\right)\\right) - \\frac{1}{2}h^{a d} exp\\left(i k_{e} x^{e}\\right) \\partial_{d}{\\eta_{b c}} - \\frac{1}{2}h^{a d} exp\\left(i k_{e} x^{e}\\right) \\left(\\partial_{d}{h_{b c}} exp\\left(i k_{e} x^{e}\\right)+h_{b c} \\partial_{d}\\left(exp\\left(i k_{e} x^{e}\\right)\\right)\\right)$"
      ]
     },
     "metadata": {},
     "output_type": "display_data"
    }
   ],
   "source": [
    "product_rule(Gamma);"
   ]
  },
  {
   "cell_type": "code",
   "execution_count": 16,
   "id": "92b21944",
   "metadata": {},
   "outputs": [
    {
     "data": {
      "text/markdown": [
       "${}\\Gamma^{a}\\,_{b c} \\rightarrow \\frac{1}{2}\\eta^{a d} \\partial_{b}{\\eta_{d c}}+\\frac{1}{2}\\eta^{a d} h_{d c} \\partial_{b}\\left(exp\\left(i k_{e} x^{e}\\right)\\right)+\\frac{1}{2}\\eta^{a d} \\partial_{c}{\\eta_{b d}}+\\frac{1}{2}\\eta^{a d} h_{b d} \\partial_{c}\\left(exp\\left(i k_{e} x^{e}\\right)\\right) - \\frac{1}{2}\\eta^{a d} \\partial_{d}{\\eta_{b c}} - \\frac{1}{2}\\eta^{a d} h_{b c} \\partial_{d}\\left(exp\\left(i k_{e} x^{e}\\right)\\right)+\\frac{1}{2}h^{a d} exp\\left(i k_{e} x^{e}\\right) \\partial_{b}{\\eta_{d c}}+\\frac{1}{2}h^{a d} exp\\left(i k_{e} x^{e}\\right) h_{d c} \\partial_{b}\\left(exp\\left(i k_{e} x^{e}\\right)\\right)+\\frac{1}{2}h^{a d} exp\\left(i k_{e} x^{e}\\right) \\partial_{c}{\\eta_{b d}}+\\frac{1}{2}h^{a d} exp\\left(i k_{e} x^{e}\\right) h_{b d} \\partial_{c}\\left(exp\\left(i k_{e} x^{e}\\right)\\right) - \\frac{1}{2}h^{a d} exp\\left(i k_{e} x^{e}\\right) \\partial_{d}{\\eta_{b c}} - \\frac{1}{2}h^{a d} exp\\left(i k_{e} x^{e}\\right) h_{b c} \\partial_{d}\\left(exp\\left(i k_{e} x^{e}\\right)\\right)$"
      ]
     },
     "metadata": {},
     "output_type": "display_data"
    }
   ],
   "source": [
    "substitute(Gamma, rule1);"
   ]
  },
  {
   "cell_type": "code",
   "execution_count": 17,
   "id": "9d370fc7",
   "metadata": {},
   "outputs": [
    {
     "data": {
      "text/markdown": [
       "${}\\Gamma^{a}\\,_{b c} \\rightarrow \\frac{1}{2}\\eta^{a d} h_{d c} \\partial_{b}\\left(exp\\left(i k_{e} x^{e}\\right)\\right)+\\frac{1}{2}\\eta^{a d} h_{b d} \\partial_{c}\\left(exp\\left(i k_{e} x^{e}\\right)\\right) - \\frac{1}{2}\\eta^{a d} h_{b c} \\partial_{d}\\left(exp\\left(i k_{e} x^{e}\\right)\\right)+\\frac{1}{2}h^{a d} exp\\left(i k_{e} x^{e}\\right) h_{d c} \\partial_{b}\\left(exp\\left(i k_{e} x^{e}\\right)\\right)+\\frac{1}{2}h^{a d} exp\\left(i k_{e} x^{e}\\right) h_{b d} \\partial_{c}\\left(exp\\left(i k_{e} x^{e}\\right)\\right) - \\frac{1}{2}h^{a d} exp\\left(i k_{e} x^{e}\\right) h_{b c} \\partial_{d}\\left(exp\\left(i k_{e} x^{e}\\right)\\right)$"
      ]
     },
     "metadata": {},
     "output_type": "display_data"
    }
   ],
   "source": [
    "substitute(Gamma, rule2);"
   ]
  },
  {
   "cell_type": "code",
   "execution_count": 18,
   "id": "2ff3c991",
   "metadata": {},
   "outputs": [
    {
     "data": {
      "text/markdown": [
       "${}\\Gamma^{a}\\,_{b c} \\rightarrow \\frac{1}{2}\\eta^{a d} h_{d c} i k_{b} exp\\left(i k_{e} x^{e}\\right)+\\frac{1}{2}\\eta^{a d} h_{b d} i k_{c} exp\\left(i k_{e} x^{e}\\right) - \\frac{1}{2}\\eta^{a d} h_{b c} i k_{d} exp\\left(i k_{e} x^{e}\\right)+\\frac{1}{2}h^{a d} exp\\left(i k_{e} x^{e}\\right) h_{d c} i k_{b} exp\\left(i k_{e} x^{e}\\right)+\\frac{1}{2}h^{a d} exp\\left(i k_{e} x^{e}\\right) h_{b d} i k_{c} exp\\left(i k_{e} x^{e}\\right) - \\frac{1}{2}h^{a d} exp\\left(i k_{e} x^{e}\\right) h_{b c} i k_{d} exp\\left(i k_{e} x^{e}\\right)$"
      ]
     },
     "metadata": {},
     "output_type": "display_data"
    }
   ],
   "source": [
    "substitute(Gamma, rule3);"
   ]
  },
  {
   "cell_type": "code",
   "execution_count": 19,
   "id": "7bade49c",
   "metadata": {},
   "outputs": [
    {
     "data": {
      "text/markdown": [
       "${}h_{a b} h^{c d} \\rightarrow 0$"
      ]
     },
     "metadata": {},
     "output_type": "display_data"
    }
   ],
   "source": [
    "ngeglect_h2 := h_{a b}h^{c d} -> 0;"
   ]
  },
  {
   "cell_type": "code",
   "execution_count": 20,
   "id": "00599994",
   "metadata": {},
   "outputs": [
    {
     "data": {
      "text/markdown": [
       "${}\\Gamma^{a}\\,_{b c} \\rightarrow \\frac{1}{2}\\eta^{a d} h_{d c} i k_{b} exp\\left(i k_{e} x^{e}\\right)+\\frac{1}{2}\\eta^{a d} h_{b d} i k_{c} exp\\left(i k_{e} x^{e}\\right) - \\frac{1}{2}\\eta^{a d} h_{b c} i k_{d} exp\\left(i k_{e} x^{e}\\right)$"
      ]
     },
     "metadata": {},
     "output_type": "display_data"
    }
   ],
   "source": [
    "result = substitute(Gamma, ngeglect_h2);"
   ]
  },
  {
   "cell_type": "code",
   "execution_count": 21,
   "id": "584a50ef",
   "metadata": {},
   "outputs": [
    {
     "data": {
      "text/markdown": [
       "${}rule\\left(\\Gamma^{a}\\,_{b c} , \\frac{1}{2}i \\left(-h_{b c} k_{d}+h_{b d} k_{c}+h_{d c} k_{b}\\right) \\eta^{a d} \\exp\\left(i k_{e} x^{e}\\right)\\right)$"
      ]
     },
     "metadata": {},
     "output_type": "display_data"
    }
   ],
   "source": [
    "simplify(Gamma);"
   ]
  },
  {
   "cell_type": "code",
   "execution_count": 1,
   "id": "e1398e2f",
   "metadata": {},
   "outputs": [
    {
     "data": {
      "text/markdown": [
       "${}R^{\\rho}\\,_{\\sigma \\mu \\nu} \\rightarrow \\partial_{\\mu}\\left(\\Gamma^{\\rho}\\,_{\\nu \\sigma}\\right)-\\partial_{\\nu}\\left(\\Gamma^{\\rho}\\,_{\\mu \\sigma}\\right)+\\Gamma^{\\rho}\\,_{\\mu \\lambda} \\Gamma^{\\lambda}\\,_{\\nu \\sigma}-\\Gamma^{\\rho}\\,_{\\nu \\lambda} \\Gamma^{\\lambda}\\,_{\\mu \\sigma}$"
      ]
     },
     "metadata": {},
     "output_type": "display_data"
    }
   ],
   "source": [
    "rieman := R^{\\rho }_{\\sigma \\mu \\nu } -> \\partial_{\\mu}{ \\Gamma^{\\rho }_{\\nu \\sigma }}- \\partial_{\\nu}{\\Gamma^{\\rho }_{\\mu \\sigma }}+\\Gamma^{\\rho }_{\\mu \\lambda }\\Gamma^{\\lambda }_{\\nu \\sigma }-\\Gamma^{\\rho }_{\\nu \\lambda }\\Gamma^{\\lambda }_{\\mu \\sigma };"
   ]
  },
  {
   "cell_type": "code",
   "execution_count": 26,
   "id": "6e9505a1",
   "metadata": {},
   "outputs": [
    {
     "name": "stderr",
     "output_type": "stream",
     "text": [
      "Traceback (most recent call last):\n",
      "  File \"/usr/local/lib/python3.10/site-packages/cadabra2_jupyter/kernel.py\", line 54, in do_execute\n",
      "    self._execute_python(pycode)\n",
      "  File \"/usr/local/lib/python3.10/site-packages/cadabra2_jupyter/kernel.py\", line 108, in _execute_python\n",
      "    self._sandbox_context(pycode)\n",
      "  File \"/usr/local/lib/python3.10/site-packages/cadabra2_jupyter/context.py\", line 51, in __call__\n",
      "    exec(code, self._sandbox)\n",
      "  File \"<string>\", line 1, in <module>\n",
      "RuntimeError: substitute: Argument is neither a replacement rule nor an equality\n"
     ]
    }
   ],
   "source": [
    "substitute(rieman, result);"
   ]
  },
  {
   "cell_type": "code",
   "execution_count": 24,
   "id": "3c3a2123",
   "metadata": {},
   "outputs": [
    {
     "data": {
      "text/markdown": [
       "${}\\left[h_{x x} = C_{11}, h_{y y} = -C_{11}, h_{x y} = C_{12}, h_{t x} = 0, h_{t y} = 0, h_{t z} = 0, h_{z t} = 0, h_{z x} = 0, h_{\\left[z, y\\right]} = 0, h_{\\left[z, z\\right]} = 0\\right]$"
      ]
     },
     "metadata": {},
     "output_type": "display_data"
    }
   ],
   "source": [
    "h := {h_{x x}=C_{11}, h_{y y}=-C_{11}, h_{x y}=C_{12}, h_{t x}=0, h_{t y}=0, h_{t z}=0, h_{z t}=0, h_{z x}=0, h_{z, y}=0 , h_{z, z}=0};"
   ]
  },
  {
   "cell_type": "code",
   "execution_count": 25,
   "id": "59668d46",
   "metadata": {},
   "outputs": [
    {
     "name": "stderr",
     "output_type": "stream",
     "text": [
      "Traceback (most recent call last):\n",
      "  File \"/usr/local/lib/python3.10/site-packages/cadabra2_jupyter/kernel.py\", line 54, in do_execute\n",
      "    self._execute_python(pycode)\n",
      "  File \"/usr/local/lib/python3.10/site-packages/cadabra2_jupyter/kernel.py\", line 108, in _execute_python\n",
      "    self._sandbox_context(pycode)\n",
      "  File \"/usr/local/lib/python3.10/site-packages/cadabra2_jupyter/context.py\", line 51, in __call__\n",
      "    exec(code, self._sandbox)\n",
      "  File \"<string>\", line 1, in <module>\n",
      "RuntimeError: Triple index t inside a single factor found.\n"
     ]
    }
   ],
   "source": [
    "evaluate(Gamma, h);"
   ]
  }
 ],
 "metadata": {
  "kernelspec": {
   "display_name": "Cadabra2",
   "language": "python",
   "name": "cadabra2"
  },
  "language_info": {
   "codemirror_mode": "cadabra",
   "file_extension": ".ipynb",
   "mimetype": "text/cadabra",
   "name": "cadabra2",
   "pygments_lexer": "cadabra"
  }
 },
 "nbformat": 4,
 "nbformat_minor": 5
}
