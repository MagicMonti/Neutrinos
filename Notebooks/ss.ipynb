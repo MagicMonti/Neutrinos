{
 "cells": [
  {
   "cell_type": "code",
   "execution_count": 1,
   "metadata": {},
   "outputs": [],
   "source": [
    "from sympy import *\n",
    "from sympy.physics.hep.gamma_matrices import GammaMatrix as G, LorentzIndex, gamma_trace\n",
    "from sympy.tensor.tensor import tensor_indices\n",
    "from sympy.physics.hep.gamma_matrices import kahane_simplify\n",
    "i,j = tensor_indices('i,j', LorentzIndex)\n",
    "init_printing(use_unicode=True)"
   ]
  },
  {
   "cell_type": "code",
   "execution_count": 2,
   "metadata": {},
   "outputs": [
    {
     "data": {
      "text/latex": [
       "$\\displaystyle \\left[\\begin{matrix}-1 & 0 & 0 & 0\\\\0 & 1 & 0 & 0\\\\0 & 0 & 1 & 0\\\\0 & 0 & 0 & 1\\end{matrix}\\right]$"
      ],
      "text/plain": [
       "⎡-1  0  0  0⎤\n",
       "⎢           ⎥\n",
       "⎢0   1  0  0⎥\n",
       "⎢           ⎥\n",
       "⎢0   0  1  0⎥\n",
       "⎢           ⎥\n",
       "⎣0   0  0  1⎦"
      ]
     },
     "execution_count": 2,
     "metadata": {},
     "output_type": "execute_result"
    }
   ],
   "source": [
    "eta = Matrix([[-1,0,0,0],[0,1,0,0],[0,0,1,0],[0,0,0,1]])\n",
    "eta"
   ]
  },
  {
   "cell_type": "code",
   "execution_count": 3,
   "metadata": {},
   "outputs": [
    {
     "data": {
      "image/png": "[encoded data removed]",
      "text/latex": [
       "$\\displaystyle \\left( f, \\  r, \\  \\theta, \\  \\phi\\right)$"
      ],
      "text/plain": [
       "(f, r, \\theta, \\phi)"
      ]
     },
     "execution_count": 3,
     "metadata": {},
     "output_type": "execute_result"
    }
   ],
   "source": [
    "f, r, theta, phi = symbols(\"f r \\\\theta \\phi\")\n",
    "f,r,theta, phi"
   ]
  },
  {
   "cell_type": "code",
   "execution_count": 4,
   "metadata": {},
   "outputs": [
    {
     "data": {
      "text/latex": [
       "$\\displaystyle \\left[\\begin{matrix}\\sqrt{f} & 0 & 0 & 0\\\\0 & \\frac{1}{\\sqrt{f}} & 0 & 0\\\\0 & 0 & r & 0\\\\0 & 0 & 0 & r \\sin{\\left(\\theta \\right)}\\end{matrix}\\right]$"
      ],
      "text/plain": [
       "⎡√f  0   0        0      ⎤\n",
       "⎢                        ⎥\n",
       "⎢    1                   ⎥\n",
       "⎢0   ──  0        0      ⎥\n",
       "⎢    √f                  ⎥\n",
       "⎢                        ⎥\n",
       "⎢0   0   r        0      ⎥\n",
       "⎢                        ⎥\n",
       "⎣0   0   0  r⋅sin(\\theta)⎦"
      ]
     },
     "execution_count": 4,
     "metadata": {},
     "output_type": "execute_result"
    }
   ],
   "source": [
    "e =  Matrix([[sqrt(f),0,0,0],[0,1/sqrt(f),0,0],[0,0,r,0],[0,0,0,r * sin(theta)]])\n",
    "e_inv = Matrix([[1/sqrt(f),0,0,0],[0,sqrt(f),0,0],[0,0,1/r,0],[0,0,0,1/(r * sin(theta))]])\n",
    "e"
   ]
  },
  {
   "cell_type": "code",
   "execution_count": 5,
   "metadata": {},
   "outputs": [
    {
     "data": {
      "text/latex": [
       "$\\displaystyle \\left[\\begin{matrix}- f & 0 & 0 & 0\\\\0 & \\frac{1}{f} & 0 & 0\\\\0 & 0 & r^{2} & 0\\\\0 & 0 & 0 & r^{2} \\sin^{2}{\\left(\\theta \\right)}\\end{matrix}\\right]$"
      ],
      "text/plain": [
       "⎡-f  0  0          0       ⎤\n",
       "⎢                          ⎥\n",
       "⎢    1                     ⎥\n",
       "⎢0   ─  0          0       ⎥\n",
       "⎢    f                     ⎥\n",
       "⎢                          ⎥\n",
       "⎢        2                 ⎥\n",
       "⎢0   0  r          0       ⎥\n",
       "⎢                          ⎥\n",
       "⎢            2    2        ⎥\n",
       "⎣0   0  0   r ⋅sin (\\theta)⎦"
      ]
     },
     "execution_count": 5,
     "metadata": {},
     "output_type": "execute_result"
    }
   ],
   "source": [
    "g = e.T@eta@e\n",
    "g "
   ]
  },
  {
   "cell_type": "code",
   "execution_count": 6,
   "metadata": {},
   "outputs": [
    {
     "data": {
      "text/latex": [
       "$\\displaystyle \\left[\\begin{matrix}-1 & 0 & 0 & 0\\\\0 & 1 & 0 & 0\\\\0 & 0 & 1 & 0\\\\0 & 0 & 0 & 1\\end{matrix}\\right]$"
      ],
      "text/plain": [
       "⎡-1  0  0  0⎤\n",
       "⎢           ⎥\n",
       "⎢0   1  0  0⎥\n",
       "⎢           ⎥\n",
       "⎢0   0  1  0⎥\n",
       "⎢           ⎥\n",
       "⎣0   0  0  1⎦"
      ]
     },
     "execution_count": 6,
     "metadata": {},
     "output_type": "execute_result"
    }
   ],
   "source": [
    "e_inv.T @ g @ e_inv"
   ]
  },
  {
   "cell_type": "code",
   "execution_count": 7,
   "metadata": {},
   "outputs": [],
   "source": [
    "from sympy.physics.matrices import mgamma"
   ]
  },
  {
   "cell_type": "code",
   "execution_count": 8,
   "metadata": {},
   "outputs": [],
   "source": [
    "def commutator(i,j):\n",
    "    return mgamma(i)@mgamma(j) - mgamma(j)@mgamma(i)\n",
    "\n",
    "def sigma(i,j):\n",
    "    #psi = Matrix([[cos(theta/2),exp(I*phi)*sin(theta/2),0,0]])\n",
    "    psi = Matrix([[1,0,0,0]])\n",
    "    return psi@mgamma(0)@commutator(i,j)@psi.T\n"
   ]
  },
  {
   "cell_type": "code",
   "execution_count": 9,
   "metadata": {},
   "outputs": [
    {
     "data": {
      "text/latex": [
       "$\\displaystyle \\left[\\begin{matrix}0 & 0 & 0 & 0\\\\0 & 0 & - \\frac{i}{2} & 0\\\\0 & \\frac{i}{2} & 0 & 0\\\\0 & 0 & 0 & 0\\end{matrix}\\right]$"
      ],
      "text/plain": [
       "⎡0  0   0   0⎤\n",
       "⎢            ⎥\n",
       "⎢      -ⅈ    ⎥\n",
       "⎢0  0  ───  0⎥\n",
       "⎢       2    ⎥\n",
       "⎢            ⎥\n",
       "⎢   ⅈ        ⎥\n",
       "⎢0  ─   0   0⎥\n",
       "⎢   2        ⎥\n",
       "⎢            ⎥\n",
       "⎣0  0   0   0⎦"
      ]
     },
     "execution_count": 9,
     "metadata": {},
     "output_type": "execute_result"
    }
   ],
   "source": [
    "s = zeros(4)\n",
    "\n",
    "\n",
    "for i in range(4):\n",
    "    for j in range(4):\n",
    "        s[i,j] = sigma(i,j)/4\n",
    "\n",
    "s"
   ]
  },
  {
   "cell_type": "code",
   "execution_count": 10,
   "metadata": {},
   "outputs": [
    {
     "data": {
      "text/latex": [
       "$\\displaystyle \\left[\\begin{matrix}0 & 0 & 0 & 0\\\\0 & 0 & - \\frac{i \\sqrt{f}}{2 r} & 0\\\\0 & \\frac{i \\sqrt{f}}{2 r} & 0 & 0\\\\0 & 0 & 0 & 0\\end{matrix}\\right]$"
      ],
      "text/plain": [
       "⎡0   0      0     0⎤\n",
       "⎢                  ⎥\n",
       "⎢         -ⅈ⋅√f    ⎥\n",
       "⎢0   0    ──────  0⎥\n",
       "⎢          2⋅r     ⎥\n",
       "⎢                  ⎥\n",
       "⎢   ⅈ⋅√f           ⎥\n",
       "⎢0  ────    0     0⎥\n",
       "⎢   2⋅r            ⎥\n",
       "⎢                  ⎥\n",
       "⎣0   0      0     0⎦"
      ]
     },
     "execution_count": 10,
     "metadata": {},
     "output_type": "execute_result"
    }
   ],
   "source": [
    "sigma = simplify(e_inv.T@s@e_inv)\n",
    "sigma"
   ]
  },
  {
   "cell_type": "code",
   "execution_count": 11,
   "metadata": {},
   "outputs": [
    {
     "name": "stdout",
     "output_type": "stream",
     "text": [
      "\\left[\\begin{matrix}0 & 0 & 0 & 0\\\\0 & 0 & - \\frac{i \\sqrt{f}}{2 r} & 0\\\\0 & \\frac{i \\sqrt{f}}{2 r} & 0 & 0\\\\0 & 0 & 0 & 0\\end{matrix}\\right]\n"
     ]
    }
   ],
   "source": [
    "print_latex(sigma)"
   ]
  },
  {
   "cell_type": "code",
   "execution_count": 12,
   "metadata": {},
   "outputs": [
    {
     "data": {
      "text/latex": [
       "$\\displaystyle \\left[\\begin{matrix}\\left[\\begin{matrix}0 & \\frac{r_{s}}{2 r^{2} \\cdot \\left(1 - \\frac{r_{s}}{r}\\right)} & 0 & 0\\\\\\frac{r_{s}}{2 r^{2} \\cdot \\left(1 - \\frac{r_{s}}{r}\\right)} & 0 & 0 & 0\\\\0 & 0 & 0 & 0\\\\0 & 0 & 0 & 0\\end{matrix}\\right] & \\left[\\begin{matrix}- \\frac{r_{s} \\left(- \\frac{c^{2}}{2} + \\frac{r_{s} c^{2}}{2 r}\\right)}{r^{2}} & 0 & 0 & 0\\\\0 & \\frac{r_{s} \\left(- \\frac{c^{2}}{2} + \\frac{r_{s} c^{2}}{2 r}\\right)}{r^{2} c^{2} \\left(1 - \\frac{r_{s}}{r}\\right)^{2}} & 0 & 0\\\\0 & 0 & \\frac{2 r \\left(- \\frac{c^{2}}{2} + \\frac{r_{s} c^{2}}{2 r}\\right)}{c^{2}} & 0\\\\0 & 0 & 0 & \\frac{2 r \\left(- \\frac{c^{2}}{2} + \\frac{r_{s} c^{2}}{2 r}\\right) \\sin^{2}{\\left(\\theta \\right)}}{c^{2}}\\end{matrix}\\right] & \\left[\\begin{matrix}0 & 0 & 0 & 0\\\\0 & 0 & \\frac{1}{r} & 0\\\\0 & \\frac{1}{r} & 0 & 0\\\\0 & 0 & 0 & - \\sin{\\left(\\theta \\right)} \\cos{\\left(\\theta \\right)}\\end{matrix}\\right] & \\left[\\begin{matrix}0 & 0 & 0 & 0\\\\0 & 0 & 0 & \\frac{1}{r}\\\\0 & 0 & 0 & \\frac{\\cos{\\left(\\theta \\right)}}{\\sin{\\left(\\theta \\right)}}\\\\0 & \\frac{1}{r} & \\frac{\\cos{\\left(\\theta \\right)}}{\\sin{\\left(\\theta \\right)}} & 0\\end{matrix}\\right]\\end{matrix}\\right]$"
      ],
      "text/plain": [
       "⎡                                      ⎡    ⎛   2       2⎞                    \n",
       "⎢                                      ⎢    ⎜  c    rₛ⋅c ⎟                    \n",
       "⎢                                      ⎢-rₛ⋅⎜- ── + ─────⎟                    \n",
       "⎢                                      ⎢    ⎝  2     2⋅r ⎠                    \n",
       "⎢                                      ⎢───────────────────          0        \n",
       "⎢                                      ⎢          2                           \n",
       "⎢                                      ⎢         r                            \n",
       "⎢                                      ⎢                                      \n",
       "⎢                                      ⎢                        ⎛   2       2⎞\n",
       "⎢⎡                     rₛ           ⎤  ⎢                        ⎜  c    rₛ⋅c ⎟\n",
       "⎢⎢      0        ─────────────  0  0⎥  ⎢                     rₛ⋅⎜- ── + ─────⎟\n",
       "⎢⎢                  2 ⎛    rₛ⎞      ⎥  ⎢                        ⎝  2     2⋅r ⎠\n",
       "⎢⎢               2⋅r ⋅⎜1 - ──⎟      ⎥  ⎢         0           ─────────────────\n",
       "⎢⎢                    ⎝    r ⎠      ⎥  ⎢                                    2 \n",
       "⎢⎢                                  ⎥  ⎢                       2  2 ⎛    rₛ⎞  \n",
       "⎢⎢      rₛ                          ⎥  ⎢                      r ⋅c ⋅⎜1 - ──⎟  \n",
       "⎢⎢─────────────        0        0  0⎥  ⎢                            ⎝    r ⎠  \n",
       "⎢⎢   2 ⎛    rₛ⎞                     ⎥  ⎢                                      \n",
       "⎢⎢2⋅r ⋅⎜1 - ──⎟                     ⎥  ⎢                                      \n",
       "⎢⎢     ⎝    r ⎠                     ⎥  ⎢                                      \n",
       "⎢⎢                                  ⎥  ⎢                                      \n",
       "⎢⎢      0              0        0  0⎥  ⎢                                      \n",
       "⎢⎢                                  ⎥  ⎢         0                   0        \n",
       "⎢⎣      0              0        0  0⎦  ⎢                                      \n",
       "⎢                                      ⎢                                      \n",
       "⎢                                      ⎢                                      \n",
       "⎢                                      ⎢                                      \n",
       "⎢                                      ⎢                                      \n",
       "⎢                                      ⎢                                      \n",
       "⎢                                      ⎢                                      \n",
       "⎢                                      ⎢         0                   0        \n",
       "⎢                                      ⎢                                      \n",
       "⎣                                      ⎣                                      \n",
       "\n",
       "                                                ⎤                             \n",
       "                                                ⎥                             \n",
       "                                                ⎥                             \n",
       "                                                ⎥                             \n",
       "          0                       0             ⎥                             \n",
       "                                                ⎥                             \n",
       "                                                ⎥                             \n",
       "                                                ⎥                             \n",
       "                                                ⎥                             \n",
       "                                                ⎥                             \n",
       "                                                ⎥                             \n",
       "                                                ⎥  ⎡0  0  0        0       ⎤  \n",
       "          0                       0             ⎥  ⎢                       ⎥  \n",
       "                                                ⎥  ⎢      1                ⎥  \n",
       "                                                ⎥  ⎢0  0  ─        0       ⎥  \n",
       "                                                ⎥  ⎢      r                ⎥  \n",
       "                                                ⎥  ⎢                       ⎥  \n",
       "                                                ⎥  ⎢   1                   ⎥  \n",
       "      ⎛   2       2⎞                            ⎥  ⎢0  ─  0        0       ⎥  \n",
       "      ⎜  c    rₛ⋅c ⎟                            ⎥  ⎢   r                   ⎥  \n",
       "  2⋅r⋅⎜- ── + ─────⎟                            ⎥  ⎢                       ⎥  \n",
       "      ⎝  2     2⋅r ⎠                            ⎥  ⎣0  0  0  -sin(θ)⋅cos(θ)⎦  \n",
       "  ──────────────────              0             ⎥                             \n",
       "           2                                    ⎥                             \n",
       "          c                                     ⎥                             \n",
       "                                                ⎥                             \n",
       "                          ⎛   2       2⎞        ⎥                             \n",
       "                          ⎜  c    rₛ⋅c ⎟    2   ⎥                             \n",
       "                      2⋅r⋅⎜- ── + ─────⎟⋅sin (θ)⎥                             \n",
       "                          ⎝  2     2⋅r ⎠        ⎥                             \n",
       "          0           ──────────────────────────⎥                             \n",
       "                                   2            ⎥                             \n",
       "                                  c             ⎦                             \n",
       "\n",
       "                      ⎤\n",
       "                      ⎥\n",
       "                      ⎥\n",
       "                      ⎥\n",
       "                      ⎥\n",
       "                      ⎥\n",
       "                      ⎥\n",
       "                      ⎥\n",
       "                      ⎥\n",
       "                      ⎥\n",
       "⎡0  0    0       0   ⎤⎥\n",
       "⎢                    ⎥⎥\n",
       "⎢                1   ⎥⎥\n",
       "⎢0  0    0       ─   ⎥⎥\n",
       "⎢                r   ⎥⎥\n",
       "⎢                    ⎥⎥\n",
       "⎢              cos(θ)⎥⎥\n",
       "⎢0  0    0     ──────⎥⎥\n",
       "⎢              sin(θ)⎥⎥\n",
       "⎢                    ⎥⎥\n",
       "⎢   1  cos(θ)        ⎥⎥\n",
       "⎢0  ─  ──────    0   ⎥⎥\n",
       "⎣   r  sin(θ)        ⎦⎥\n",
       "                      ⎥\n",
       "                      ⎥\n",
       "                      ⎥\n",
       "                      ⎥\n",
       "                      ⎥\n",
       "                      ⎥\n",
       "                      ⎥\n",
       "                      ⎥\n",
       "                      ⎥\n",
       "                      ⎦"
      ]
     },
     "execution_count": 12,
     "metadata": {},
     "output_type": "execute_result"
    }
   ],
   "source": [
    "import sympy\n",
    "from einsteinpy.symbolic import Schwarzschild, ChristoffelSymbols, RiemannCurvatureTensor, Tensor\n",
    "from einsteinpy.symbolic.tensor import tensor_product\n",
    "\n",
    "m = Schwarzschild()\n",
    "ch = ChristoffelSymbols.from_metric(m)\n",
    "ch.tensor()"
   ]
  },
  {
   "cell_type": "code",
   "execution_count": 13,
   "metadata": {},
   "outputs": [
    {
     "data": {
      "text/latex": [
       "$\\displaystyle \\left[\\begin{matrix}\\left[\\begin{matrix}0 & 0 & 0 & 0\\\\0 & 0 & 0 & 0\\\\0 & 0 & 0 & 0\\\\0 & 0 & 0 & 0\\end{matrix}\\right] & \\left[\\begin{matrix}0 & \\frac{r_{s}}{r^{2} \\left(r - r_{s}\\right)} & 0 & 0\\\\- \\frac{r_{s}}{r^{2} \\left(r - r_{s}\\right)} & 0 & 0 & 0\\\\0 & 0 & 0 & 0\\\\0 & 0 & 0 & 0\\end{matrix}\\right] & \\left[\\begin{matrix}0 & 0 & - \\frac{r_{s}}{2 r} & 0\\\\0 & 0 & 0 & 0\\\\\\frac{r_{s}}{2 r} & 0 & 0 & 0\\\\0 & 0 & 0 & 0\\end{matrix}\\right] & \\left[\\begin{matrix}0 & 0 & 0 & - \\frac{r_{s} \\sin^{2}{\\left(\\theta \\right)}}{2 r}\\\\0 & 0 & 0 & 0\\\\0 & 0 & 0 & 0\\\\\\frac{r_{s} \\sin^{2}{\\left(\\theta \\right)}}{2 r} & 0 & 0 & 0\\end{matrix}\\right]\\\\\\left[\\begin{matrix}0 & \\frac{r_{s} c^{2} \\left(r - r_{s}\\right)}{r^{4}} & 0 & 0\\\\\\frac{r_{s} c^{2} \\left(- r + r_{s}\\right)}{r^{4}} & 0 & 0 & 0\\\\0 & 0 & 0 & 0\\\\0 & 0 & 0 & 0\\end{matrix}\\right] & \\left[\\begin{matrix}0 & 0 & 0 & 0\\\\0 & 0 & 0 & 0\\\\0 & 0 & 0 & 0\\\\0 & 0 & 0 & 0\\end{matrix}\\right] & \\left[\\begin{matrix}0 & 0 & 0 & 0\\\\0 & 0 & - \\frac{r_{s}}{2 r} & 0\\\\0 & \\frac{r_{s}}{2 r} & 0 & 0\\\\0 & 0 & 0 & 0\\end{matrix}\\right] & \\left[\\begin{matrix}0 & 0 & 0 & 0\\\\0 & 0 & 0 & - \\frac{r_{s} \\sin^{2}{\\left(\\theta \\right)}}{2 r}\\\\0 & 0 & 0 & 0\\\\0 & \\frac{r_{s} \\sin^{2}{\\left(\\theta \\right)}}{2 r} & 0 & 0\\end{matrix}\\right]\\\\\\left[\\begin{matrix}0 & 0 & \\frac{r_{s} c^{2} \\left(- r + r_{s}\\right)}{2 r^{4}} & 0\\\\0 & 0 & 0 & 0\\\\\\frac{r_{s} c^{2} \\left(r - r_{s}\\right)}{2 r^{4}} & 0 & 0 & 0\\\\0 & 0 & 0 & 0\\end{matrix}\\right] & \\left[\\begin{matrix}0 & 0 & 0 & 0\\\\0 & 0 & \\frac{r_{s}}{2 r^{2} \\left(r - r_{s}\\right)} & 0\\\\0 & - \\frac{r_{s}}{2 r^{2} \\left(r - r_{s}\\right)} & 0 & 0\\\\0 & 0 & 0 & 0\\end{matrix}\\right] & \\left[\\begin{matrix}0 & 0 & 0 & 0\\\\0 & 0 & 0 & 0\\\\0 & 0 & 0 & 0\\\\0 & 0 & 0 & 0\\end{matrix}\\right] & \\left[\\begin{matrix}0 & 0 & 0 & 0\\\\0 & 0 & 0 & 0\\\\0 & 0 & 0 & \\frac{r_{s} \\sin^{2}{\\left(\\theta \\right)}}{r}\\\\0 & 0 & - \\frac{r_{s} \\sin^{2}{\\left(\\theta \\right)}}{r} & 0\\end{matrix}\\right]\\\\\\left[\\begin{matrix}0 & 0 & 0 & \\frac{r_{s} c^{2} \\left(- r + r_{s}\\right)}{2 r^{4}}\\\\0 & 0 & 0 & 0\\\\0 & 0 & 0 & 0\\\\\\frac{r_{s} c^{2} \\left(r - r_{s}\\right)}{2 r^{4}} & 0 & 0 & 0\\end{matrix}\\right] & \\left[\\begin{matrix}0 & 0 & 0 & 0\\\\0 & 0 & 0 & \\frac{r_{s}}{2 r^{2} \\left(r - r_{s}\\right)}\\\\0 & 0 & 0 & 0\\\\0 & - \\frac{r_{s}}{2 r^{2} \\left(r - r_{s}\\right)} & 0 & 0\\end{matrix}\\right] & \\left[\\begin{matrix}0 & 0 & 0 & 0\\\\0 & 0 & 0 & 0\\\\0 & 0 & 0 & - \\frac{r_{s}}{r}\\\\0 & 0 & \\frac{r_{s}}{r} & 0\\end{matrix}\\right] & \\left[\\begin{matrix}0 & 0 & 0 & 0\\\\0 & 0 & 0 & 0\\\\0 & 0 & 0 & 0\\\\0 & 0 & 0 & 0\\end{matrix}\\right]\\end{matrix}\\right]$"
      ],
      "text/plain": [
       "⎡                                           ⎡                  rₛ          ⎤  \n",
       "⎢                                           ⎢     0       ───────────  0  0⎥  \n",
       "⎢                                           ⎢              2               ⎥  \n",
       "⎢             ⎡0  0  0  0⎤                  ⎢             r ⋅(r - rₛ)      ⎥  \n",
       "⎢             ⎢          ⎥                  ⎢                              ⎥  \n",
       "⎢             ⎢0  0  0  0⎥                  ⎢    -rₛ                       ⎥  \n",
       "⎢             ⎢          ⎥                  ⎢───────────       0       0  0⎥  \n",
       "⎢             ⎢0  0  0  0⎥                  ⎢ 2                            ⎥  \n",
       "⎢             ⎢          ⎥                  ⎢r ⋅(r - rₛ)                   ⎥  \n",
       "⎢             ⎣0  0  0  0⎦                  ⎢                              ⎥  \n",
       "⎢                                           ⎢     0            0       0  0⎥  \n",
       "⎢                                           ⎢                              ⎥  \n",
       "⎢                                           ⎣     0            0       0  0⎦  \n",
       "⎢                                                                             \n",
       "⎢⎡                     2               ⎤                                      \n",
       "⎢⎢                 rₛ⋅c ⋅(r - rₛ)      ⎥                                      \n",
       "⎢⎢       0         ──────────────  0  0⎥                                      \n",
       "⎢⎢                        4            ⎥                                      \n",
       "⎢⎢                       r             ⎥              ⎡0  0  0  0⎤            \n",
       "⎢⎢                                     ⎥              ⎢          ⎥            \n",
       "⎢⎢    2                                ⎥              ⎢0  0  0  0⎥            \n",
       "⎢⎢rₛ⋅c ⋅(-r + rₛ)                      ⎥              ⎢          ⎥            \n",
       "⎢⎢───────────────        0         0  0⎥              ⎢0  0  0  0⎥            \n",
       "⎢⎢        4                            ⎥              ⎢          ⎥            \n",
       "⎢⎢       r                             ⎥              ⎣0  0  0  0⎦            \n",
       "⎢⎢                                     ⎥                                      \n",
       "⎢⎢       0               0         0  0⎥                                      \n",
       "⎢⎢                                     ⎥                                      \n",
       "⎢⎣       0               0         0  0⎦                                      \n",
       "⎢                                                                             \n",
       "⎢⎡                       2             ⎤                                      \n",
       "⎢⎢                   rₛ⋅c ⋅(-r + rₛ)   ⎥  ⎡0        0              0        0⎤\n",
       "⎢⎢      0         0  ───────────────  0⎥  ⎢                                  ⎥\n",
       "⎢⎢                            4        ⎥  ⎢                        rₛ        ⎥\n",
       "⎢⎢                         2⋅r         ⎥  ⎢0        0        ─────────────  0⎥\n",
       "⎢⎢                                     ⎥  ⎢                     2            ⎥\n",
       "⎢⎢      0         0         0         0⎥  ⎢                  2⋅r ⋅(r - rₛ)   ⎥\n",
       "⎢⎢                                     ⎥  ⎢                                  ⎥\n",
       "⎢⎢    2                                ⎥  ⎢        -rₛ                       ⎥\n",
       "⎢⎢rₛ⋅c ⋅(r - rₛ)                       ⎥  ⎢0  ─────────────        0        0⎥\n",
       "⎢⎢──────────────  0         0         0⎥  ⎢      2                           ⎥\n",
       "⎢⎢        4                            ⎥  ⎢   2⋅r ⋅(r - rₛ)                  ⎥\n",
       "⎢⎢     2⋅r                             ⎥  ⎢                                  ⎥\n",
       "⎢⎢                                     ⎥  ⎣0        0              0        0⎦\n",
       "⎢⎣      0         0         0         0⎦                                      \n",
       "⎢                                                                             \n",
       "⎢⎡                          2          ⎤                                      \n",
       "⎢⎢                      rₛ⋅c ⋅(-r + rₛ)⎥  ⎡0        0        0        0      ⎤\n",
       "⎢⎢      0         0  0  ───────────────⎥  ⎢                                  ⎥\n",
       "⎢⎢                               4     ⎥  ⎢                           rₛ     ⎥\n",
       "⎢⎢                            2⋅r      ⎥  ⎢0        0        0  ─────────────⎥\n",
       "⎢⎢                                     ⎥  ⎢                        2         ⎥\n",
       "⎢⎢      0         0  0         0       ⎥  ⎢                     2⋅r ⋅(r - rₛ)⎥\n",
       "⎢⎢                                     ⎥  ⎢                                  ⎥\n",
       "⎢⎢      0         0  0         0       ⎥  ⎢0        0        0        0      ⎥\n",
       "⎢⎢                                     ⎥  ⎢                                  ⎥\n",
       "⎢⎢    2                                ⎥  ⎢        -rₛ                       ⎥\n",
       "⎢⎢rₛ⋅c ⋅(r - rₛ)                       ⎥  ⎢0  ─────────────  0        0      ⎥\n",
       "⎢⎢──────────────  0  0         0       ⎥  ⎢      2                           ⎥\n",
       "⎢⎢        4                            ⎥  ⎣   2⋅r ⋅(r - rₛ)                  ⎦\n",
       "⎣⎣     2⋅r                             ⎦                                      \n",
       "\n",
       "                     ⎡                         2    ⎤⎤\n",
       "  ⎡        -rₛ    ⎤  ⎢                  -rₛ⋅sin (θ) ⎥⎥\n",
       "  ⎢ 0   0  ────  0⎥  ⎢    0       0  0  ────────────⎥⎥\n",
       "  ⎢        2⋅r    ⎥  ⎢                      2⋅r     ⎥⎥\n",
       "  ⎢               ⎥  ⎢                              ⎥⎥\n",
       "  ⎢ 0   0   0    0⎥  ⎢    0       0  0       0      ⎥⎥\n",
       "  ⎢               ⎥  ⎢                              ⎥⎥\n",
       "  ⎢ rₛ            ⎥  ⎢    0       0  0       0      ⎥⎥\n",
       "  ⎢───  0   0    0⎥  ⎢                              ⎥⎥\n",
       "  ⎢2⋅r            ⎥  ⎢      2                       ⎥⎥\n",
       "  ⎢               ⎥  ⎢rₛ⋅sin (θ)                    ⎥⎥\n",
       "  ⎣ 0   0   0    0⎦  ⎢──────────  0  0       0      ⎥⎥\n",
       "                     ⎣   2⋅r                        ⎦⎥\n",
       "                                                     ⎥\n",
       "                                                     ⎥\n",
       "                     ⎡0      0       0       0      ⎤⎥\n",
       "  ⎡0   0    0    0⎤  ⎢                              ⎥⎥\n",
       "  ⎢               ⎥  ⎢                         2    ⎥⎥\n",
       "  ⎢        -rₛ    ⎥  ⎢                  -rₛ⋅sin (θ) ⎥⎥\n",
       "  ⎢0   0   ────  0⎥  ⎢0      0       0  ────────────⎥⎥\n",
       "  ⎢        2⋅r    ⎥  ⎢                      2⋅r     ⎥⎥\n",
       "  ⎢               ⎥  ⎢                              ⎥⎥\n",
       "  ⎢    rₛ         ⎥  ⎢0      0       0       0      ⎥⎥\n",
       "  ⎢0  ───   0    0⎥  ⎢                              ⎥⎥\n",
       "  ⎢   2⋅r         ⎥  ⎢         2                    ⎥⎥\n",
       "  ⎢               ⎥  ⎢   rₛ⋅sin (θ)                 ⎥⎥\n",
       "  ⎣0   0    0    0⎦  ⎢0  ──────────  0       0      ⎥⎥\n",
       "                     ⎣      2⋅r                     ⎦⎥\n",
       "                                                     ⎥\n",
       "                                                     ⎥\n",
       "                                                     ⎥\n",
       "                     ⎡0  0       0            0     ⎤⎥\n",
       "                     ⎢                              ⎥⎥\n",
       "                     ⎢0  0       0            0     ⎥⎥\n",
       "    ⎡0  0  0  0⎤     ⎢                              ⎥⎥\n",
       "    ⎢          ⎥     ⎢                          2   ⎥⎥\n",
       "    ⎢0  0  0  0⎥     ⎢                    rₛ⋅sin (θ)⎥⎥\n",
       "    ⎢          ⎥     ⎢0  0       0        ──────────⎥⎥\n",
       "    ⎢0  0  0  0⎥     ⎢                        r     ⎥⎥\n",
       "    ⎢          ⎥     ⎢                              ⎥⎥\n",
       "    ⎣0  0  0  0⎦     ⎢             2                ⎥⎥\n",
       "                     ⎢      -rₛ⋅sin (θ)             ⎥⎥\n",
       "                     ⎢0  0  ────────────      0     ⎥⎥\n",
       "                     ⎣           r                  ⎦⎥\n",
       "                                                     ⎥\n",
       "                                                     ⎥\n",
       "                                                     ⎥\n",
       "                                                     ⎥\n",
       "  ⎡0  0  0    0  ⎤                                   ⎥\n",
       "  ⎢              ⎥                                   ⎥\n",
       "  ⎢0  0  0    0  ⎥             ⎡0  0  0  0⎤          ⎥\n",
       "  ⎢              ⎥             ⎢          ⎥          ⎥\n",
       "  ⎢          -rₛ ⎥             ⎢0  0  0  0⎥          ⎥\n",
       "  ⎢0  0  0   ────⎥             ⎢          ⎥          ⎥\n",
       "  ⎢           r  ⎥             ⎢0  0  0  0⎥          ⎥\n",
       "  ⎢              ⎥             ⎢          ⎥          ⎥\n",
       "  ⎢      rₛ      ⎥             ⎣0  0  0  0⎦          ⎥\n",
       "  ⎢0  0  ──   0  ⎥                                   ⎥\n",
       "  ⎣      r       ⎦                                   ⎥\n",
       "                                                     ⎥\n",
       "                                                     ⎦"
      ]
     },
     "execution_count": 13,
     "metadata": {},
     "output_type": "execute_result"
    }
   ],
   "source": [
    "rieman = RiemannCurvatureTensor.from_metric(m)\n",
    "rieman.tensor()"
   ]
  },
  {
   "cell_type": "code",
   "execution_count": 23,
   "metadata": {},
   "outputs": [
    {
     "data": {
      "text/plain": [
       "<bound method Tensor.tensor of Tensor[u_t, u_r, 0, 0]>"
      ]
     },
     "execution_count": 23,
     "metadata": {},
     "output_type": "execute_result"
    }
   ],
   "source": [
    "u_t , u_r , u_theta, u_phi = symbols(\"u_t u_r u_\\\\theta u_\\phi\")\n",
    "u.tensor"
   ]
  },
  {
   "cell_type": "code",
   "execution_count": 37,
   "metadata": {},
   "outputs": [
    {
     "data": {
      "text/latex": [
       "$\\displaystyle \\left[\\begin{matrix}\\frac{r_{s} c^{2} \\left(- r + r_{s}\\right)}{r^{4}} + \\frac{r_{s} c^{2} \\left(r - r_{s}\\right)}{r^{4}} & 0 & 0 & 0\\\\0 & 0 & 0 & 0\\\\0 & 0 & 0 & 0\\\\0 & 0 & 0 & 0\\end{matrix}\\right]$"
      ],
      "text/plain": [
       "⎡    2                 2                  ⎤\n",
       "⎢rₛ⋅c ⋅(-r + rₛ)   rₛ⋅c ⋅(r - rₛ)         ⎥\n",
       "⎢─────────────── + ──────────────  0  0  0⎥\n",
       "⎢        4                4               ⎥\n",
       "⎢       r                r                ⎥\n",
       "⎢                                         ⎥\n",
       "⎢               0                  0  0  0⎥\n",
       "⎢                                         ⎥\n",
       "⎢               0                  0  0  0⎥\n",
       "⎢                                         ⎥\n",
       "⎣               0                  0  0  0⎦"
      ]
     },
     "execution_count": 37,
     "metadata": {},
     "output_type": "execute_result"
    }
   ],
   "source": [
    "tensorcontraction(rieman.tensor(), (0,2))"
   ]
  },
  {
   "cell_type": "code",
   "execution_count": 42,
   "metadata": {},
   "outputs": [
    {
     "data": {
      "text/latex": [
       "$\\displaystyle \\left[\\begin{matrix}\\left[\\begin{matrix}\\frac{r_{s} u_{t} c^{2} \\left(- r + r_{s}\\right)}{r^{4}} + \\frac{r_{s} u_{t} c^{2} \\left(r - r_{s}\\right)}{r^{4}} & \\frac{r_{s} u_{r} c^{2} \\left(- r + r_{s}\\right)}{r^{4}} + \\frac{r_{s} u_{r} c^{2} \\left(r - r_{s}\\right)}{r^{4}} & 0 & 0\\\\0 & 0 & 0 & 0\\\\0 & 0 & 0 & 0\\\\0 & 0 & 0 & 0\\end{matrix}\\right] & \\left[\\begin{matrix}0 & 0 & 0 & 0\\\\0 & 0 & 0 & 0\\\\0 & 0 & 0 & 0\\\\0 & 0 & 0 & 0\\end{matrix}\\right] & \\left[\\begin{matrix}0 & 0 & 0 & 0\\\\0 & 0 & 0 & 0\\\\0 & 0 & 0 & 0\\\\0 & 0 & 0 & 0\\end{matrix}\\right] & \\left[\\begin{matrix}0 & 0 & 0 & 0\\\\0 & 0 & 0 & 0\\\\0 & 0 & 0 & 0\\\\0 & 0 & 0 & 0\\end{matrix}\\right]\\end{matrix}\\right]$"
      ],
      "text/plain": [
       "⎡⎡       2                    2                  2                    2       \n",
       "⎢⎢rₛ⋅uₜ⋅c ⋅(-r + rₛ)   rₛ⋅uₜ⋅c ⋅(r - rₛ)  rₛ⋅uᵣ⋅c ⋅(-r + rₛ)   rₛ⋅uᵣ⋅c ⋅(r - r\n",
       "⎢⎢────────────────── + ─────────────────  ────────────────── + ───────────────\n",
       "⎢⎢         4                    4                  4                    4     \n",
       "⎢⎢        r                    r                  r                    r      \n",
       "⎢⎢                                                                            \n",
       "⎢⎢                  0                                       0                 \n",
       "⎢⎢                                                                            \n",
       "⎢⎢                  0                                       0                 \n",
       "⎢⎢                                                                            \n",
       "⎣⎣                  0                                       0                 \n",
       "\n",
       "        ⎤                                          ⎤\n",
       "ₛ)      ⎥                                          ⎥\n",
       "──  0  0⎥  ⎡0  0  0  0⎤  ⎡0  0  0  0⎤  ⎡0  0  0  0⎤⎥\n",
       "        ⎥  ⎢          ⎥  ⎢          ⎥  ⎢          ⎥⎥\n",
       "        ⎥  ⎢0  0  0  0⎥  ⎢0  0  0  0⎥  ⎢0  0  0  0⎥⎥\n",
       "        ⎥  ⎢          ⎥  ⎢          ⎥  ⎢          ⎥⎥\n",
       "    0  0⎥  ⎢0  0  0  0⎥  ⎢0  0  0  0⎥  ⎢0  0  0  0⎥⎥\n",
       "        ⎥  ⎢          ⎥  ⎢          ⎥  ⎢          ⎥⎥\n",
       "    0  0⎥  ⎣0  0  0  0⎦  ⎣0  0  0  0⎦  ⎣0  0  0  0⎦⎥\n",
       "        ⎥                                          ⎥\n",
       "    0  0⎦                                          ⎦"
      ]
     },
     "execution_count": 42,
     "metadata": {},
     "output_type": "execute_result"
    }
   ],
   "source": [
    "tensorcontraction(tensorproduct(rieman.tensor(), u.tensor()),(0,2))"
   ]
  },
  {
   "cell_type": "code",
   "execution_count": 44,
   "metadata": {},
   "outputs": [],
   "source": [
    "from sympy.tensor.tensor import TensorIndexType, TensorIndex, TensorHead, tensor_indices\n",
    "\n",
    "Lorentz = TensorIndexType('Lorentz', dummy_name='L')\n",
    "mu, nu, rho, alpha, beta, gamma = tensor_indices('mu, nu, rho, alpha, beta, gamma', Lorentz)\n",
    "\n"
   ]
  },
  {
   "cell_type": "code",
   "execution_count": null,
   "metadata": {},
   "outputs": [],
   "source": []
  }
 ],
 "metadata": {
  "kernelspec": {
   "display_name": "Python 3",
   "language": "python",
   "name": "python3"
  },
  "language_info": {
   "codemirror_mode": {
    "name": "ipython",
    "version": 3
   },
   "file_extension": ".py",
   "mimetype": "text/x-python",
   "name": "python",
   "nbconvert_exporter": "python",
   "pygments_lexer": "ipython3",
   "version": "3.10.13"
  },
  "vscode": {
   "interpreter": {
    "hash": "d2152fd7f0bbc62aa1baff8c990435d1e2c7175d001561303988032604c11a48"
   }
  }
 },
 "nbformat": 4,
 "nbformat_minor": 2
}
