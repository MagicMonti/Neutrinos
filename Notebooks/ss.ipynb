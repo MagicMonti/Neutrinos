{
 "cells": [
  {
   "cell_type": "code",
   "execution_count": 1,
   "metadata": {},
   "outputs": [],
   "source": [
    "from sympy import *\n",
    "from sympy.physics.hep.gamma_matrices import GammaMatrix as G, LorentzIndex, gamma_trace\n",
    "from sympy.tensor.tensor import tensor_indices\n",
    "from sympy.physics.hep.gamma_matrices import kahane_simplify\n",
    "i,j = tensor_indices('i,j', LorentzIndex)\n",
    "init_printing(use_unicode=True)"
   ]
  },
  {
   "cell_type": "code",
   "execution_count": 2,
   "metadata": {},
   "outputs": [
    {
     "data": {
      "text/latex": [
       "$\\displaystyle \\left[\\begin{matrix}-1 & 0 & 0 & 0\\\\0 & 1 & 0 & 0\\\\0 & 0 & 1 & 0\\\\0 & 0 & 0 & 1\\end{matrix}\\right]$"
      ],
      "text/plain": [
       "⎡-1  0  0  0⎤\n",
       "⎢           ⎥\n",
       "⎢0   1  0  0⎥\n",
       "⎢           ⎥\n",
       "⎢0   0  1  0⎥\n",
       "⎢           ⎥\n",
       "⎣0   0  0  1⎦"
      ]
     },
     "execution_count": 2,
     "metadata": {},
     "output_type": "execute_result"
    }
   ],
   "source": [
    "eta = Matrix([[-1,0,0,0],[0,1,0,0],[0,0,1,0],[0,0,0,1]])\n",
    "eta"
   ]
  },
  {
   "cell_type": "code",
   "execution_count": 3,
   "metadata": {},
   "outputs": [
    {
     "data": {
      "image/png": "[encoded data removed]",
      "text/latex": [
       "$\\displaystyle \\left( f, \\  r, \\  \\theta, \\  \\phi\\right)$"
      ],
      "text/plain": [
       "(f, r, \\theta, \\phi)"
      ]
     },
     "execution_count": 3,
     "metadata": {},
     "output_type": "execute_result"
    }
   ],
   "source": [
    "f, r, theta, phi, u_0, t, c = symbols(\"f r \\\\theta \\phi u_0 t c\")\n",
    "f,r,theta, phi"
   ]
  },
  {
   "cell_type": "code",
   "execution_count": 4,
   "metadata": {},
   "outputs": [
    {
     "data": {
      "text/latex": [
       "$\\displaystyle \\left[\\begin{matrix}\\sqrt{f} & 0 & 0 & 0\\\\0 & \\frac{1}{\\sqrt{f}} & 0 & 0\\\\0 & 0 & r & 0\\\\0 & 0 & 0 & r \\sin{\\left(\\theta \\right)}\\end{matrix}\\right]$"
      ],
      "text/plain": [
       "⎡√f  0   0        0      ⎤\n",
       "⎢                        ⎥\n",
       "⎢    1                   ⎥\n",
       "⎢0   ──  0        0      ⎥\n",
       "⎢    √f                  ⎥\n",
       "⎢                        ⎥\n",
       "⎢0   0   r        0      ⎥\n",
       "⎢                        ⎥\n",
       "⎣0   0   0  r⋅sin(\\theta)⎦"
      ]
     },
     "execution_count": 4,
     "metadata": {},
     "output_type": "execute_result"
    }
   ],
   "source": [
    "e =  Matrix([[sqrt(f),0,0,0],[0,1/sqrt(f),0,0],[0,0,r,0],[0,0,0,r * sin(theta)]])\n",
    "e_inv = Matrix([[1/sqrt(f),0,0,0],[0,sqrt(f),0,0],[0,0,1/r,0],[0,0,0,1/(r * sin(theta))]])\n",
    "e"
   ]
  },
  {
   "cell_type": "code",
   "execution_count": 6,
   "metadata": {},
   "outputs": [
    {
     "data": {
      "text/latex": [
       "$\\displaystyle \\left[\\begin{matrix}- f & 0 & 0 & 0\\\\0 & \\frac{1}{f} & 0 & 0\\\\0 & 0 & r^{2} & 0\\\\0 & 0 & 0 & r^{2} \\sin^{2}{\\left(\\theta \\right)}\\end{matrix}\\right]$"
      ],
      "text/plain": [
       "⎡-f  0  0          0       ⎤\n",
       "⎢                          ⎥\n",
       "⎢    1                     ⎥\n",
       "⎢0   ─  0          0       ⎥\n",
       "⎢    f                     ⎥\n",
       "⎢                          ⎥\n",
       "⎢        2                 ⎥\n",
       "⎢0   0  r          0       ⎥\n",
       "⎢                          ⎥\n",
       "⎢            2    2        ⎥\n",
       "⎣0   0  0   r ⋅sin (\\theta)⎦"
      ]
     },
     "execution_count": 6,
     "metadata": {},
     "output_type": "execute_result"
    }
   ],
   "source": [
    "g = e.T@eta@e\n",
    "g "
   ]
  },
  {
   "cell_type": "code",
   "execution_count": 7,
   "metadata": {},
   "outputs": [
    {
     "data": {
      "text/latex": [
       "$\\displaystyle \\left[\\begin{matrix}-1 & 0 & 0 & 0\\\\0 & 1 & 0 & 0\\\\0 & 0 & 1 & 0\\\\0 & 0 & 0 & 1\\end{matrix}\\right]$"
      ],
      "text/plain": [
       "⎡-1  0  0  0⎤\n",
       "⎢           ⎥\n",
       "⎢0   1  0  0⎥\n",
       "⎢           ⎥\n",
       "⎢0   0  1  0⎥\n",
       "⎢           ⎥\n",
       "⎣0   0  0  1⎦"
      ]
     },
     "execution_count": 7,
     "metadata": {},
     "output_type": "execute_result"
    }
   ],
   "source": [
    "e_inv.T @ g @ e_inv"
   ]
  },
  {
   "cell_type": "code",
   "execution_count": 5,
   "metadata": {},
   "outputs": [],
   "source": [
    "from sympy.physics.matrices import mgamma"
   ]
  },
  {
   "cell_type": "code",
   "execution_count": 24,
   "metadata": {},
   "outputs": [],
   "source": [
    "def commutator(i,j):\n",
    "    return mgamma(i)@mgamma(j) - mgamma(j)@mgamma(i)\n",
    "\n",
    "def sigma(i,j):\n",
    "    #psi = Matrix([[cos(theta/2),exp(I*phi)*sin(theta/2),0,0]])\n",
    "    #psi = Matrix([[1,0,0,0]])\n",
    "    psi = Matrix([[0,1,0,0]])\n",
    "    return psi@mgamma(0)@commutator(i,j)@psi.T\n"
   ]
  },
  {
   "cell_type": "code",
   "execution_count": 25,
   "metadata": {},
   "outputs": [
    {
     "data": {
      "text/latex": [
       "$\\displaystyle \\left[\\begin{matrix}0 & 0 & 0 & 0\\\\0 & 0 & -1 & 0\\\\0 & 1 & 0 & 0\\\\0 & 0 & 0 & 0\\end{matrix}\\right]$"
      ],
      "text/plain": [
       "⎡0  0  0   0⎤\n",
       "⎢           ⎥\n",
       "⎢0  0  -1  0⎥\n",
       "⎢           ⎥\n",
       "⎢0  1  0   0⎥\n",
       "⎢           ⎥\n",
       "⎣0  0  0   0⎦"
      ]
     },
     "execution_count": 25,
     "metadata": {},
     "output_type": "execute_result"
    }
   ],
   "source": [
    "s = zeros(4)\n",
    "\n",
    "\n",
    "for i in range(4):\n",
    "    for j in range(4):\n",
    "        s[i,j] = I*sigma(i,j)/2\n",
    "\n",
    "s"
   ]
  },
  {
   "cell_type": "code",
   "execution_count": 26,
   "metadata": {},
   "outputs": [
    {
     "data": {
      "text/latex": [
       "$\\displaystyle \\left[\\begin{matrix}0 & 0 & 0 & 0\\\\0 & 0 & - \\frac{\\sqrt{\\frac{r - r_{s}}{r}}}{r} & 0\\\\0 & \\frac{\\sqrt{\\frac{r - r_{s}}{r}}}{r} & 0 & 0\\\\0 & 0 & 0 & 0\\end{matrix}\\right]$"
      ],
      "text/plain": [
       "⎡0       0              0         0⎤\n",
       "⎢                                  ⎥\n",
       "⎢                      ________    ⎥\n",
       "⎢                     ╱ r - rₛ     ⎥\n",
       "⎢                 -  ╱  ──────     ⎥\n",
       "⎢                  ╲╱     r        ⎥\n",
       "⎢0       0        ──────────────  0⎥\n",
       "⎢                       r          ⎥\n",
       "⎢                                  ⎥\n",
       "⎢       ________                   ⎥\n",
       "⎢      ╱ r - rₛ                    ⎥\n",
       "⎢     ╱  ──────                    ⎥\n",
       "⎢   ╲╱     r                       ⎥\n",
       "⎢0  ────────────        0         0⎥\n",
       "⎢        r                         ⎥\n",
       "⎢                                  ⎥\n",
       "⎣0       0              0         0⎦"
      ]
     },
     "execution_count": 26,
     "metadata": {},
     "output_type": "execute_result"
    }
   ],
   "source": [
    "sigma = simplify(e_inv.T@s@e_inv)\n",
    "sigma"
   ]
  },
  {
   "cell_type": "code",
   "execution_count": 9,
   "metadata": {},
   "outputs": [
    {
     "data": {
      "text/latex": [
       "$\\displaystyle \\left[\\begin{matrix}\\left[\\begin{matrix}0 & \\frac{r_{s}}{2 r^{2} \\cdot \\left(1 - \\frac{r_{s}}{r}\\right)} & 0 & 0\\\\\\frac{r_{s}}{2 r^{2} \\cdot \\left(1 - \\frac{r_{s}}{r}\\right)} & 0 & 0 & 0\\\\0 & 0 & 0 & 0\\\\0 & 0 & 0 & 0\\end{matrix}\\right] & \\left[\\begin{matrix}- \\frac{r_{s} \\left(- \\frac{c^{2}}{2} + \\frac{r_{s} c^{2}}{2 r}\\right)}{r^{2}} & 0 & 0 & 0\\\\0 & \\frac{r_{s} \\left(- \\frac{c^{2}}{2} + \\frac{r_{s} c^{2}}{2 r}\\right)}{r^{2} c^{2} \\left(1 - \\frac{r_{s}}{r}\\right)^{2}} & 0 & 0\\\\0 & 0 & \\frac{2 r \\left(- \\frac{c^{2}}{2} + \\frac{r_{s} c^{2}}{2 r}\\right)}{c^{2}} & 0\\\\0 & 0 & 0 & \\frac{2 r \\left(- \\frac{c^{2}}{2} + \\frac{r_{s} c^{2}}{2 r}\\right) \\sin^{2}{\\left(\\theta \\right)}}{c^{2}}\\end{matrix}\\right] & \\left[\\begin{matrix}0 & 0 & 0 & 0\\\\0 & 0 & \\frac{1}{r} & 0\\\\0 & \\frac{1}{r} & 0 & 0\\\\0 & 0 & 0 & - \\sin{\\left(\\theta \\right)} \\cos{\\left(\\theta \\right)}\\end{matrix}\\right] & \\left[\\begin{matrix}0 & 0 & 0 & 0\\\\0 & 0 & 0 & \\frac{1}{r}\\\\0 & 0 & 0 & \\frac{\\cos{\\left(\\theta \\right)}}{\\sin{\\left(\\theta \\right)}}\\\\0 & \\frac{1}{r} & \\frac{\\cos{\\left(\\theta \\right)}}{\\sin{\\left(\\theta \\right)}} & 0\\end{matrix}\\right]\\end{matrix}\\right]$"
      ],
      "text/plain": [
       "⎡                                      ⎡    ⎛   2       2⎞                    \n",
       "⎢                                      ⎢    ⎜  c    rₛ⋅c ⎟                    \n",
       "⎢                                      ⎢-rₛ⋅⎜- ── + ─────⎟                    \n",
       "⎢                                      ⎢    ⎝  2     2⋅r ⎠                    \n",
       "⎢                                      ⎢───────────────────          0        \n",
       "⎢                                      ⎢          2                           \n",
       "⎢                                      ⎢         r                            \n",
       "⎢                                      ⎢                                      \n",
       "⎢                                      ⎢                        ⎛   2       2⎞\n",
       "⎢⎡                     rₛ           ⎤  ⎢                        ⎜  c    rₛ⋅c ⎟\n",
       "⎢⎢      0        ─────────────  0  0⎥  ⎢                     rₛ⋅⎜- ── + ─────⎟\n",
       "⎢⎢                  2 ⎛    rₛ⎞      ⎥  ⎢                        ⎝  2     2⋅r ⎠\n",
       "⎢⎢               2⋅r ⋅⎜1 - ──⎟      ⎥  ⎢         0           ─────────────────\n",
       "⎢⎢                    ⎝    r ⎠      ⎥  ⎢                                    2 \n",
       "⎢⎢                                  ⎥  ⎢                       2  2 ⎛    rₛ⎞  \n",
       "⎢⎢      rₛ                          ⎥  ⎢                      r ⋅c ⋅⎜1 - ──⎟  \n",
       "⎢⎢─────────────        0        0  0⎥  ⎢                            ⎝    r ⎠  \n",
       "⎢⎢   2 ⎛    rₛ⎞                     ⎥  ⎢                                      \n",
       "⎢⎢2⋅r ⋅⎜1 - ──⎟                     ⎥  ⎢                                      \n",
       "⎢⎢     ⎝    r ⎠                     ⎥  ⎢                                      \n",
       "⎢⎢                                  ⎥  ⎢                                      \n",
       "⎢⎢      0              0        0  0⎥  ⎢                                      \n",
       "⎢⎢                                  ⎥  ⎢         0                   0        \n",
       "⎢⎣      0              0        0  0⎦  ⎢                                      \n",
       "⎢                                      ⎢                                      \n",
       "⎢                                      ⎢                                      \n",
       "⎢                                      ⎢                                      \n",
       "⎢                                      ⎢                                      \n",
       "⎢                                      ⎢                                      \n",
       "⎢                                      ⎢                                      \n",
       "⎢                                      ⎢         0                   0        \n",
       "⎢                                      ⎢                                      \n",
       "⎣                                      ⎣                                      \n",
       "\n",
       "                                                ⎤                             \n",
       "                                                ⎥                             \n",
       "                                                ⎥                             \n",
       "                                                ⎥                             \n",
       "          0                       0             ⎥                             \n",
       "                                                ⎥                             \n",
       "                                                ⎥                             \n",
       "                                                ⎥                             \n",
       "                                                ⎥                             \n",
       "                                                ⎥                             \n",
       "                                                ⎥                             \n",
       "                                                ⎥  ⎡0  0  0        0       ⎤  \n",
       "          0                       0             ⎥  ⎢                       ⎥  \n",
       "                                                ⎥  ⎢      1                ⎥  \n",
       "                                                ⎥  ⎢0  0  ─        0       ⎥  \n",
       "                                                ⎥  ⎢      r                ⎥  \n",
       "                                                ⎥  ⎢                       ⎥  \n",
       "                                                ⎥  ⎢   1                   ⎥  \n",
       "      ⎛   2       2⎞                            ⎥  ⎢0  ─  0        0       ⎥  \n",
       "      ⎜  c    rₛ⋅c ⎟                            ⎥  ⎢   r                   ⎥  \n",
       "  2⋅r⋅⎜- ── + ─────⎟                            ⎥  ⎢                       ⎥  \n",
       "      ⎝  2     2⋅r ⎠                            ⎥  ⎣0  0  0  -sin(θ)⋅cos(θ)⎦  \n",
       "  ──────────────────              0             ⎥                             \n",
       "           2                                    ⎥                             \n",
       "          c                                     ⎥                             \n",
       "                                                ⎥                             \n",
       "                          ⎛   2       2⎞        ⎥                             \n",
       "                          ⎜  c    rₛ⋅c ⎟    2   ⎥                             \n",
       "                      2⋅r⋅⎜- ── + ─────⎟⋅sin (θ)⎥                             \n",
       "                          ⎝  2     2⋅r ⎠        ⎥                             \n",
       "          0           ──────────────────────────⎥                             \n",
       "                                   2            ⎥                             \n",
       "                                  c             ⎦                             \n",
       "\n",
       "                      ⎤\n",
       "                      ⎥\n",
       "                      ⎥\n",
       "                      ⎥\n",
       "                      ⎥\n",
       "                      ⎥\n",
       "                      ⎥\n",
       "                      ⎥\n",
       "                      ⎥\n",
       "                      ⎥\n",
       "⎡0  0    0       0   ⎤⎥\n",
       "⎢                    ⎥⎥\n",
       "⎢                1   ⎥⎥\n",
       "⎢0  0    0       ─   ⎥⎥\n",
       "⎢                r   ⎥⎥\n",
       "⎢                    ⎥⎥\n",
       "⎢              cos(θ)⎥⎥\n",
       "⎢0  0    0     ──────⎥⎥\n",
       "⎢              sin(θ)⎥⎥\n",
       "⎢                    ⎥⎥\n",
       "⎢   1  cos(θ)        ⎥⎥\n",
       "⎢0  ─  ──────    0   ⎥⎥\n",
       "⎣   r  sin(θ)        ⎦⎥\n",
       "                      ⎥\n",
       "                      ⎥\n",
       "                      ⎥\n",
       "                      ⎥\n",
       "                      ⎥\n",
       "                      ⎥\n",
       "                      ⎥\n",
       "                      ⎥\n",
       "                      ⎥\n",
       "                      ⎦"
      ]
     },
     "execution_count": 9,
     "metadata": {},
     "output_type": "execute_result"
    }
   ],
   "source": [
    "import sympy\n",
    "from einsteinpy.symbolic import Schwarzschild, ChristoffelSymbols, RiemannCurvatureTensor, Tensor, BaseRelativityTensor, GenericVector\n",
    "from einsteinpy.symbolic.tensor import tensor_product\n",
    "\n",
    "m = Schwarzschild()\n",
    "ch = ChristoffelSymbols.from_metric(m)\n",
    "ch.tensor()"
   ]
  },
  {
   "cell_type": "code",
   "execution_count": 10,
   "metadata": {},
   "outputs": [],
   "source": [
    "rieman = RiemannCurvatureTensor.from_metric(m)"
   ]
  },
  {
   "cell_type": "code",
   "execution_count": 11,
   "metadata": {},
   "outputs": [],
   "source": [
    "u_t , u_r , u_theta, u_phi,_c,r_s,M ,R= symbols(\"u_t u_r u_\\\\theta u_\\phi c r_s M R\")"
   ]
  },
  {
   "cell_type": "code",
   "execution_count": 32,
   "metadata": {},
   "outputs": [
    {
     "data": {
      "text/latex": [
       "$\\displaystyle \\left[\\begin{matrix}u_{t} & u_{r} & u_{\\theta} & u_{\\phi}\\end{matrix}\\right]$"
      ],
      "text/plain": [
       "[uₜ  uᵣ  u_\\theta  u_\\phi]"
      ]
     },
     "execution_count": 32,
     "metadata": {},
     "output_type": "execute_result"
    }
   ],
   "source": [
    "u = GenericVector([u_t, u_r, u_theta, u_phi],syms=[t,r,theta,phi], config='u', name=\"velocity\", parent_metric=m)\n",
    "u.tensor()"
   ]
  },
  {
   "cell_type": "code",
   "execution_count": 13,
   "metadata": {},
   "outputs": [
    {
     "data": {
      "text/latex": [
       "$\\displaystyle \\left[\\begin{matrix}0 & 0 & 0 & 0\\\\0 & 0 & \\frac{\\sqrt{f}}{r} & 0\\\\0 & - \\frac{\\sqrt{f}}{r} & 0 & 0\\\\0 & 0 & 0 & 0\\end{matrix}\\right]$"
      ],
      "text/plain": [
       "⎡0   0    0   0⎤\n",
       "⎢              ⎥\n",
       "⎢         √f   ⎥\n",
       "⎢0   0    ──  0⎥\n",
       "⎢         r    ⎥\n",
       "⎢              ⎥\n",
       "⎢   -√f        ⎥\n",
       "⎢0  ────  0   0⎥\n",
       "⎢    r         ⎥\n",
       "⎢              ⎥\n",
       "⎣0   0    0   0⎦"
      ]
     },
     "execution_count": 13,
     "metadata": {},
     "output_type": "execute_result"
    }
   ],
   "source": [
    "sig = BaseRelativityTensor(sigma,syms=[t,r,theta,phi], config=\"uu\", name=\"sigma\", parent_metric=m)\n",
    "sig.tensor()"
   ]
  },
  {
   "cell_type": "code",
   "execution_count": 19,
   "metadata": {},
   "outputs": [],
   "source": [
    "\n",
    "contraction = tensorcontraction(tensor_product(tensor_product(rieman.change_config(\"llll\"),u, 1,0),sig,1,0,).tensor(),(1,2))\n",
    "#contraction.tensor()"
   ]
  },
  {
   "cell_type": "code",
   "execution_count": 92,
   "metadata": {},
   "outputs": [],
   "source": [
    "a = GenericVector(contraction.subs(f,1-r_s),syms=[t,r,theta,phi], config='l', name=\"acceleration\", parent_metric=m)"
   ]
  },
  {
   "cell_type": "code",
   "execution_count": 91,
   "metadata": {},
   "outputs": [
    {
     "data": {
      "text/latex": [
       "$\\displaystyle \\left[\\begin{matrix}0 & 0 & - \\frac{2 M \\sqrt{1 - 2 M} \\sqrt{M \\left(-0.000156961230576048 + \\frac{1}{r}\\right) + \\frac{u_{0}^{2}}{2}}}{r c^{2} \\left(- 2 M + r\\right)} & 0\\end{matrix}\\right]$"
      ],
      "text/plain": [
       "⎡                            _____________________________________    ⎤\n",
       "⎢                           ╱                                   2     ⎥\n",
       "⎢             _________    ╱    ⎛                        1⎞   u₀      ⎥\n",
       "⎢      -2⋅M⋅╲╱ 1 - 2⋅M ⋅  ╱   M⋅⎜-0.000156961230576048 + ─⎟ + ───     ⎥\n",
       "⎢                       ╲╱      ⎝                        r⎠    2      ⎥\n",
       "⎢0  0  ────────────────────────────────────────────────────────────  0⎥\n",
       "⎢                               2                                     ⎥\n",
       "⎣                            r⋅c ⋅(-2⋅M + r)                          ⎦"
      ]
     },
     "execution_count": 91,
     "metadata": {},
     "output_type": "execute_result"
    }
   ],
   "source": [
    "a.tensor().subs(u_r, sqrt( (M*(1/r - 1/R)) + ((u_0)**2)/2)).subs(r_s, 2*M)"
   ]
  },
  {
   "cell_type": "code",
   "execution_count": 57,
   "metadata": {},
   "outputs": [],
   "source": [
    "du_dtau = tensor_product(tensor_product(ch.change_config('ull'),u.change_config('u'), 1,0), u.change_config('u'),1,0)"
   ]
  },
  {
   "cell_type": "code",
   "execution_count": 64,
   "metadata": {},
   "outputs": [
    {
     "data": {
      "text/latex": [
       "$\\displaystyle \\left[\\begin{matrix}\\frac{r_{s} u_{r} u_{t}}{r \\left(r - r_{s}\\right)} & \\frac{- 2 r^{3} u_{\\phi}^{2} \\left(- r + r_{s}\\right)^{2} \\sin^{2}{\\left(\\theta \\right)} - r^{2} r_{s} u_{r}^{2} + r_{s} u_{t}^{2} c^{2} \\left(r - r_{s}\\right)^{2}}{2 r^{3} \\left(r - r_{s}\\right)} & - \\frac{u_{\\phi}^{2} \\sin{\\left(2 \\theta \\right)}}{2} & \\frac{2 u_{\\phi} u_{r}}{r}\\end{matrix}\\right]$"
      ],
      "text/plain": [
       "⎡                 3       2          2    2       2      2        2  2        \n",
       "⎢ rₛ⋅uᵣ⋅uₜ   - 2⋅r ⋅u_\\phi ⋅(-r + rₛ) ⋅sin (θ) - r ⋅rₛ⋅uᵣ  + rₛ⋅uₜ ⋅c ⋅(r - rₛ\n",
       "⎢──────────  ─────────────────────────────────────────────────────────────────\n",
       "⎢r⋅(r - rₛ)                                3                                  \n",
       "⎣                                       2⋅r ⋅(r - rₛ)                         \n",
       "\n",
       " 2         2                       ⎤\n",
       ")   -u_\\phi ⋅sin(2⋅θ)   2⋅u_\\phi⋅uᵣ⎥\n",
       "──  ──────────────────  ───────────⎥\n",
       "            2                r     ⎥\n",
       "                                   ⎦"
      ]
     },
     "execution_count": 64,
     "metadata": {},
     "output_type": "execute_result"
    }
   ],
   "source": [
    "du_dtau.tensor().subs(u_theta,0).subs(theta, pi/2)"
   ]
  },
  {
   "cell_type": "code",
   "execution_count": 35,
   "metadata": {},
   "outputs": [],
   "source": [
    "ch = ch.change_config(\"ull\")"
   ]
  },
  {
   "cell_type": "code",
   "execution_count": 14,
   "metadata": {},
   "outputs": [],
   "source": [
    "e_inv = e_inv.subs(f, 1-r_s/r)\n",
    "e = e.subs(f, 1-r_s/r)"
   ]
  },
  {
   "cell_type": "code",
   "execution_count": 15,
   "metadata": {},
   "outputs": [],
   "source": [
    "firstpart = tensorcontraction(tensorcontraction(tensorproduct(tensorproduct(ch.tensor(),e),e_inv),(0,5)),(0,3))"
   ]
  },
  {
   "cell_type": "code",
   "execution_count": 16,
   "metadata": {},
   "outputs": [],
   "source": [
    "secondpart = tensorcontraction(tensorproduct(e, Array([e_inv.diff(t).tolist(),e_inv.diff(r).tolist(),e_inv.diff(theta).tolist(),e_inv.diff(phi).tolist()])),(1,3))"
   ]
  },
  {
   "cell_type": "code",
   "execution_count": 17,
   "metadata": {},
   "outputs": [
    {
     "data": {
      "text/latex": [
       "$\\displaystyle \\left[\\begin{matrix}\\left[\\begin{matrix}0 & - \\frac{r_{s} \\left(1 - \\frac{r_{s}}{r}\\right) \\left(- \\frac{c^{2}}{2} + \\frac{r_{s} c^{2}}{2 r}\\right)}{r^{2}} & 0 & 0\\\\- \\frac{r_{s}}{2 r^{2} \\cdot \\left(1 - \\frac{r_{s}}{r}\\right)} - \\frac{r_{s}}{2 r^{2} \\left(1 - \\frac{r_{s}}{r}\\right)^{2}} & 0 & 0 & 0\\\\0 & 0 & 0 & 0\\\\0 & 0 & 0 & 0\\end{matrix}\\right] & \\left[\\begin{matrix}- \\frac{r_{s}}{2 r^{2} \\cdot \\left(1 - \\frac{r_{s}}{r}\\right)} & 0 & 0 & 0\\\\0 & - \\frac{r_{s}}{2 r^{2} \\cdot \\left(1 - \\frac{r_{s}}{r}\\right)} + \\frac{r_{s} \\left(- \\frac{c^{2}}{2} + \\frac{r_{s} c^{2}}{2 r}\\right)}{r^{2} c^{2} \\left(1 - \\frac{r_{s}}{r}\\right)^{2}} & 0 & 0\\\\0 & 0 & \\frac{1}{r} & 0\\\\0 & 0 & 0 & \\frac{1}{r}\\end{matrix}\\right] & \\left[\\begin{matrix}0 & 0 & 0 & 0\\\\0 & 0 & \\frac{1}{r} + \\frac{1}{r^{2} \\sqrt{1 - \\frac{r_{s}}{r}}} & 0\\\\0 & \\frac{2 r^{2} \\sqrt{1 - \\frac{r_{s}}{r}} \\left(- \\frac{c^{2}}{2} + \\frac{r_{s} c^{2}}{2 r}\\right)}{c^{2}} & 0 & 0\\\\0 & 0 & 0 & \\frac{\\cos{\\left(\\theta \\right)}}{\\sin{\\left(\\theta \\right)}}\\end{matrix}\\right] & \\left[\\begin{matrix}0 & 0 & 0 & 0\\\\0 & 0 & 0 & \\frac{1}{r} + \\frac{1}{r^{2} \\sqrt{1 - \\frac{r_{s}}{r}} \\sin{\\left(\\theta \\right)}}\\\\0 & 0 & 0 & \\frac{\\cos{\\left(\\theta \\right)}}{\\sin{\\left(\\theta \\right)}} + \\frac{\\cos{\\left(\\theta \\right)}}{\\sin{\\left(\\theta \\right)} \\sin{\\left(\\theta \\right)}}\\\\0 & \\frac{2 r^{2} \\sqrt{1 - \\frac{r_{s}}{r}} \\left(- \\frac{c^{2}}{2} + \\frac{r_{s} c^{2}}{2 r}\\right) \\sin{\\left(\\theta \\right)} \\sin^{2}{\\left(\\theta \\right)}}{c^{2}} & - \\sin{\\left(\\theta \\right)} \\sin{\\left(\\theta \\right)} \\cos{\\left(\\theta \\right)} & 0\\end{matrix}\\right]\\end{matrix}\\right]$"
      ],
      "text/plain": [
       "⎡                                                                        ⎡    \n",
       "⎢                                                                        ⎢────\n",
       "⎢⎡                                               ⎛   2       2⎞       ⎤  ⎢   2\n",
       "⎢⎢                                      ⎛    rₛ⎞ ⎜  c    rₛ⋅c ⎟       ⎥  ⎢2⋅r \n",
       "⎢⎢                                  -rₛ⋅⎜1 - ──⎟⋅⎜- ── + ─────⎟       ⎥  ⎢    \n",
       "⎢⎢                                      ⎝    r ⎠ ⎝  2     2⋅r ⎠       ⎥  ⎢    \n",
       "⎢⎢               0                  ────────────────────────────  0  0⎥  ⎢    \n",
       "⎢⎢                                                2                   ⎥  ⎢    \n",
       "⎢⎢                                               r                    ⎥  ⎢    \n",
       "⎢⎢                                                                    ⎥  ⎢    \n",
       "⎢⎢        rₛ              rₛ                                          ⎥  ⎢    \n",
       "⎢⎢- ───────────── - ──────────────               0                0  0⎥  ⎢    \n",
       "⎢⎢     2 ⎛    rₛ⎞                2                                    ⎥  ⎢    \n",
       "⎢⎢  2⋅r ⋅⎜1 - ──⎟      2 ⎛    rₛ⎞                                     ⎥  ⎢    \n",
       "⎢⎢       ⎝    r ⎠   2⋅r ⋅⎜1 - ──⎟                                     ⎥  ⎢    \n",
       "⎢⎢                       ⎝    r ⎠                                     ⎥  ⎢    \n",
       "⎢⎢                                                                    ⎥  ⎢    \n",
       "⎢⎢               0                               0                0  0⎥  ⎢    \n",
       "⎢⎢                                                                    ⎥  ⎢    \n",
       "⎢⎣               0                               0                0  0⎦  ⎢    \n",
       "⎢                                                                        ⎢    \n",
       "⎢                                                                        ⎢    \n",
       "⎣                                                                        ⎣    \n",
       "\n",
       " -rₛ                                                ⎤                         \n",
       "─────────                   0                   0  0⎥  ⎡0                 0   \n",
       " ⎛    rₛ⎞                                           ⎥  ⎢                      \n",
       "⋅⎜1 - ──⎟                                           ⎥  ⎢                      \n",
       " ⎝    r ⎠                                           ⎥  ⎢0                 0   \n",
       "                                                    ⎥  ⎢                      \n",
       "                                ⎛   2       2⎞      ⎥  ⎢                      \n",
       "                                ⎜  c    rₛ⋅c ⎟      ⎥  ⎢                      \n",
       "                             rₛ⋅⎜- ── + ─────⎟      ⎥  ⎢                      \n",
       "                   rₛ           ⎝  2     2⋅r ⎠      ⎥  ⎢                      \n",
       "  0        - ───────────── + ─────────────────  0  0⎥  ⎢            ________ ⎛\n",
       "                2 ⎛    rₛ⎞                  2       ⎥  ⎢      2    ╱     rₛ  ⎜\n",
       "             2⋅r ⋅⎜1 - ──⎟     2  2 ⎛    rₛ⎞        ⎥  ⎢   2⋅r ⋅  ╱  1 - ── ⋅⎜\n",
       "                  ⎝    r ⎠    r ⋅c ⋅⎜1 - ──⎟        ⎥  ⎢        ╲╱       r   ⎝\n",
       "                                    ⎝    r ⎠        ⎥  ⎢0  ───────────────────\n",
       "                                                    ⎥  ⎢                   2  \n",
       "                                                1   ⎥  ⎢                  c   \n",
       "  0                         0                   ─  0⎥  ⎢                      \n",
       "                                                r   ⎥  ⎢                      \n",
       "                                                    ⎥  ⎢0                 0   \n",
       "                                                   1⎥  ⎣                      \n",
       "  0                         0                   0  ─⎥                         \n",
       "                                                   r⎦                         \n",
       "\n",
       "                                                                              \n",
       "                        0             0   ⎤  ⎡0                           0   \n",
       "                                          ⎥  ⎢                                \n",
       "               1          1               ⎥  ⎢                                \n",
       "               ─ + ───────────────    0   ⎥  ⎢0                           0   \n",
       "               r          ________        ⎥  ⎢                                \n",
       "                    2    ╱     rₛ         ⎥  ⎢                                \n",
       "                   r ⋅  ╱  1 - ──         ⎥  ⎢                                \n",
       "                      ╲╱       r          ⎥  ⎢                                \n",
       "                                          ⎥  ⎢                                \n",
       "   2       2⎞                             ⎥  ⎢                                \n",
       "  c    rₛ⋅c ⎟                             ⎥  ⎢0                           0   \n",
       "- ── + ─────⎟                             ⎥  ⎢                                \n",
       "  2     2⋅r ⎠                             ⎥  ⎢                                \n",
       "─────────────           0             0   ⎥  ⎢            ________ ⎛   2      \n",
       "                                          ⎥  ⎢      2    ╱     rₛ  ⎜  c    rₛ⋅\n",
       "                                          ⎥  ⎢   2⋅r ⋅  ╱  1 - ── ⋅⎜- ── + ───\n",
       "                                          ⎥  ⎢        ╲╱       r   ⎝  2     2⋅\n",
       "                                    cos(θ)⎥  ⎢0  ─────────────────────────────\n",
       "                        0           ──────⎥  ⎢                             2  \n",
       "                                    sin(θ)⎦  ⎣                            c   \n",
       "                                                                              \n",
       "                                                                              \n",
       "\n",
       "                                                                              \n",
       "                                     0                              0         \n",
       "                                                                              \n",
       "                                                     1                1       \n",
       "                                     0               ─ + ─────────────────────\n",
       "                                                     r          ________      \n",
       "                                                          2    ╱     rₛ       \n",
       "                                                         r ⋅  ╱  1 - ── ⋅sin(\\\n",
       "                                                            ╲╱       r        \n",
       "                                                                              \n",
       "                                                     cos(\\theta)         cos(θ\n",
       "                                     0               ─────────── + ───────────\n",
       "                                                     sin(\\theta)   sin(\\theta)\n",
       "                                                                              \n",
       " 2⎞                                                                           \n",
       "c ⎟                2                                                          \n",
       "──⎟⋅sin(\\theta)⋅sin (θ)                                                       \n",
       "r ⎠                                                                           \n",
       "───────────────────────  -sin(\\theta)⋅sin(θ)⋅cos(θ)                 0         \n",
       "                                                                              \n",
       "                                                                              \n",
       "                                                                              \n",
       "                                                                              \n",
       "\n",
       "        ⎤\n",
       "       ⎤⎥\n",
       "       ⎥⎥\n",
       "       ⎥⎥\n",
       "────── ⎥⎥\n",
       "       ⎥⎥\n",
       "       ⎥⎥\n",
       "theta) ⎥⎥\n",
       "       ⎥⎥\n",
       "       ⎥⎥\n",
       ")      ⎥⎥\n",
       "───────⎥⎥\n",
       "⋅sin(θ)⎥⎥\n",
       "       ⎥⎥\n",
       "       ⎥⎥\n",
       "       ⎥⎥\n",
       "       ⎥⎥\n",
       "       ⎥⎥\n",
       "       ⎥⎥\n",
       "       ⎥⎥\n",
       "       ⎦⎥\n",
       "        ⎥\n",
       "        ⎦"
      ]
     },
     "execution_count": 17,
     "metadata": {},
     "output_type": "execute_result"
    }
   ],
   "source": [
    "w = firstpart - secondpart\n",
    "w = tensorcontraction(tensorproduct(w,eta),(2,3))\n",
    "w"
   ]
  },
  {
   "cell_type": "code",
   "execution_count": 27,
   "metadata": {},
   "outputs": [],
   "source": [
    "Gamma = -1/4 * tensorcontraction(tensorcontraction(tensorproduct(w, s),(1,0)),(1,0))"
   ]
  },
  {
   "cell_type": "code",
   "execution_count": 28,
   "metadata": {},
   "outputs": [],
   "source": [
    "dv = GenericVector(Gamma,syms=[t,r,theta,phi], config='l', name=\"dv\", parent_metric=m)"
   ]
  },
  {
   "cell_type": "code",
   "execution_count": 29,
   "metadata": {},
   "outputs": [
    {
     "data": {
      "text/plain": [
       "GenericVector[0, 0.0625*c**2*(-r + r_s)*(cos(\\theta - 2*theta) - cos(\\theta + 2*theta))/r, c**2*(0.25*r**3*r_s - 0.125*r_s*c**2*(r - r_s)**3 + 0.25*(r - r_s)**7*(sin(\\theta)*sin(theta)**2 + 1)/((r - r_s)/r)**(9/2))/(r**6*(r - r_s)), 0]"
      ]
     },
     "execution_count": 29,
     "metadata": {},
     "output_type": "execute_result"
    }
   ],
   "source": [
    "dv.change_config('u')"
   ]
  },
  {
   "cell_type": "code",
   "execution_count": 31,
   "metadata": {},
   "outputs": [
    {
     "name": "stdout",
     "output_type": "stream",
     "text": [
      "[0, 0.125*sin(2*theta), (-0.25*r**3*r_s + 0.125*r_s*c**2*(r - r_s)**3 + 0.25*(r - r_s)**7*(cos(theta)**2 - 2)/((r - r_s)/r)**(9/2))/(r**4*(r - r_s)), 0]\n"
     ]
    }
   ],
   "source": [
    "print(simplify(dv.tensor().subs(theta, pi/2)))"
   ]
  },
  {
   "cell_type": "code",
   "execution_count": 33,
   "metadata": {},
   "outputs": [
    {
     "name": "stdout",
     "output_type": "stream",
     "text": [
      "(-r**3*(r - r_s)*(u_\\phi**2*sin(theta)**2 + u_\\theta**2) - r**2*u_r**2 + u_t**2*c**2*(r - r_s)**2)/(r*c**2*(r - r_s))\n"
     ]
    }
   ],
   "source": [
    "u_2 = tensor_product(u,u.change_config('l'), 0,0)\n",
    "\n",
    "print(u_2.tensor())"
   ]
  },
  {
   "cell_type": "code",
   "execution_count": 34,
   "metadata": {},
   "outputs": [
    {
     "name": "stdout",
     "output_type": "stream",
     "text": [
      "[-sqrt(r*(c**4*r - c**4*r_s + r**3*u_\\phi**2*sin(\\theta)**2 + r**3*u_\\theta**2 - r**2*r_s*u_\\phi**2*sin(\\theta)**2 - r**2*r_s*u_\\theta**2 + r*u_r**2))/(c*(r - r_s)), sqrt(r*(c**4*r - c**4*r_s + r**3*u_\\phi**2*sin(\\theta)**2 + r**3*u_\\theta**2 - r**2*r_s*u_\\phi**2*sin(\\theta)**2 - r**2*r_s*u_\\theta**2 + r*u_r**2))/(c*(r - r_s))]\n"
     ]
    }
   ],
   "source": [
    "u_2_expr = (-r**3*(r - r_s)*(u_phi**2*sin(theta)**2 + u_theta**2) - r**2*u_r**2 + u_t**2*c**2*(r - r_s)**2)/(r*c**2*(r - r_s))\n",
    "\n",
    "print(solve(u_2_expr - c**2, u_t))"
   ]
  },
  {
   "cell_type": "code",
   "execution_count": 33,
   "metadata": {},
   "outputs": [],
   "source": [
    "import numpy as np"
   ]
  },
  {
   "cell_type": "code",
   "execution_count": 34,
   "metadata": {},
   "outputs": [
    {
     "data": {
      "image/png": "[encoded data removed]",
      "text/latex": [
       "$\\displaystyle 0.784757820998493$"
      ],
      "text/plain": [
       "0.7847578209984931"
      ]
     },
     "execution_count": 34,
     "metadata": {},
     "output_type": "execute_result"
    }
   ],
   "source": [
    "R = 6371\n",
    "l = 100\n",
    "\n",
    "x = np.sqrt(R**2 + l**2) - R\n",
    "x"
   ]
  }
 ],
 "metadata": {
  "kernelspec": {
   "display_name": "Python 3",
   "language": "python",
   "name": "python3"
  },
  "language_info": {
   "codemirror_mode": {
    "name": "ipython",
    "version": 3
   },
   "file_extension": ".py",
   "mimetype": "text/x-python",
   "name": "python",
   "nbconvert_exporter": "python",
   "pygments_lexer": "ipython3",
   "version": "3.10.13"
  },
  "vscode": {
   "interpreter": {
    "hash": "d2152fd7f0bbc62aa1baff8c990435d1e2c7175d001561303988032604c11a48"
   }
  }
 },
 "nbformat": 4,
 "nbformat_minor": 2
}
