{
 "cells": [
  {
   "cell_type": "code",
   "execution_count": 107,
   "metadata": {},
   "outputs": [],
   "source": [
    "from sympy import *\n",
    "from sympy.physics.hep.gamma_matrices import GammaMatrix as G, LorentzIndex, gamma_trace\n",
    "from sympy.tensor.tensor import tensor_indices\n",
    "from sympy.physics.hep.gamma_matrices import kahane_simplify\n",
    "i,j = tensor_indices('i,j', LorentzIndex)\n",
    "init_printing(use_unicode=True)"
   ]
  },
  {
   "cell_type": "code",
   "execution_count": 108,
   "metadata": {},
   "outputs": [
    {
     "data": {
      "text/latex": [
       "$\\displaystyle \\left[\\begin{matrix}-1 & 0 & 0 & 0\\\\0 & 1 & 0 & 0\\\\0 & 0 & 1 & 0\\\\0 & 0 & 0 & 1\\end{matrix}\\right]$"
      ],
      "text/plain": [
       "⎡-1  0  0  0⎤\n",
       "⎢           ⎥\n",
       "⎢0   1  0  0⎥\n",
       "⎢           ⎥\n",
       "⎢0   0  1  0⎥\n",
       "⎢           ⎥\n",
       "⎣0   0  0  1⎦"
      ]
     },
     "execution_count": 108,
     "metadata": {},
     "output_type": "execute_result"
    }
   ],
   "source": [
    "eta = Matrix([[-1,0,0,0],[0,1,0,0],[0,0,1,0],[0,0,0,1]])\n",
    "eta"
   ]
  },
  {
   "cell_type": "code",
   "execution_count": 156,
   "metadata": {},
   "outputs": [
    {
     "data": {
      "image/png": "[encoded data removed]",
      "text/latex": [
       "$\\displaystyle \\left( f, \\  r, \\  \\theta, \\  \\phi\\right)$"
      ],
      "text/plain": [
       "(f, r, \\theta, \\phi)"
      ]
     },
     "execution_count": 156,
     "metadata": {},
     "output_type": "execute_result"
    }
   ],
   "source": [
    "f, r, theta, phi, u_0, t = symbols(\"f r \\\\theta \\phi u_0 t\")\n",
    "f,r,theta, phi"
   ]
  },
  {
   "cell_type": "code",
   "execution_count": 110,
   "metadata": {},
   "outputs": [
    {
     "data": {
      "text/latex": [
       "$\\displaystyle \\left[\\begin{matrix}\\sqrt{f} & 0 & 0 & 0\\\\0 & \\frac{1}{\\sqrt{f}} & 0 & 0\\\\0 & 0 & r & 0\\\\0 & 0 & 0 & r \\sin{\\left(\\theta \\right)}\\end{matrix}\\right]$"
      ],
      "text/plain": [
       "⎡√f  0   0        0      ⎤\n",
       "⎢                        ⎥\n",
       "⎢    1                   ⎥\n",
       "⎢0   ──  0        0      ⎥\n",
       "⎢    √f                  ⎥\n",
       "⎢                        ⎥\n",
       "⎢0   0   r        0      ⎥\n",
       "⎢                        ⎥\n",
       "⎣0   0   0  r⋅sin(\\theta)⎦"
      ]
     },
     "execution_count": 110,
     "metadata": {},
     "output_type": "execute_result"
    }
   ],
   "source": [
    "e =  Matrix([[sqrt(f),0,0,0],[0,1/sqrt(f),0,0],[0,0,r,0],[0,0,0,r * sin(theta)]])\n",
    "e_inv = Matrix([[1/sqrt(f),0,0,0],[0,sqrt(f),0,0],[0,0,1/r,0],[0,0,0,1/(r * sin(theta))]])\n",
    "e"
   ]
  },
  {
   "cell_type": "code",
   "execution_count": 111,
   "metadata": {},
   "outputs": [
    {
     "data": {
      "text/latex": [
       "$\\displaystyle \\left[\\begin{matrix}- f & 0 & 0 & 0\\\\0 & \\frac{1}{f} & 0 & 0\\\\0 & 0 & r^{2} & 0\\\\0 & 0 & 0 & r^{2} \\sin^{2}{\\left(\\theta \\right)}\\end{matrix}\\right]$"
      ],
      "text/plain": [
       "⎡-f  0  0          0       ⎤\n",
       "⎢                          ⎥\n",
       "⎢    1                     ⎥\n",
       "⎢0   ─  0          0       ⎥\n",
       "⎢    f                     ⎥\n",
       "⎢                          ⎥\n",
       "⎢        2                 ⎥\n",
       "⎢0   0  r          0       ⎥\n",
       "⎢                          ⎥\n",
       "⎢            2    2        ⎥\n",
       "⎣0   0  0   r ⋅sin (\\theta)⎦"
      ]
     },
     "execution_count": 111,
     "metadata": {},
     "output_type": "execute_result"
    }
   ],
   "source": [
    "g = e.T@eta@e\n",
    "g "
   ]
  },
  {
   "cell_type": "code",
   "execution_count": 112,
   "metadata": {},
   "outputs": [
    {
     "data": {
      "text/latex": [
       "$\\displaystyle \\left[\\begin{matrix}-1 & 0 & 0 & 0\\\\0 & 1 & 0 & 0\\\\0 & 0 & 1 & 0\\\\0 & 0 & 0 & 1\\end{matrix}\\right]$"
      ],
      "text/plain": [
       "⎡-1  0  0  0⎤\n",
       "⎢           ⎥\n",
       "⎢0   1  0  0⎥\n",
       "⎢           ⎥\n",
       "⎢0   0  1  0⎥\n",
       "⎢           ⎥\n",
       "⎣0   0  0  1⎦"
      ]
     },
     "execution_count": 112,
     "metadata": {},
     "output_type": "execute_result"
    }
   ],
   "source": [
    "e_inv.T @ g @ e_inv"
   ]
  },
  {
   "cell_type": "code",
   "execution_count": 113,
   "metadata": {},
   "outputs": [],
   "source": [
    "from sympy.physics.matrices import mgamma"
   ]
  },
  {
   "cell_type": "code",
   "execution_count": 317,
   "metadata": {},
   "outputs": [],
   "source": [
    "def commutator(i,j):\n",
    "    return mgamma(i)@mgamma(j) - mgamma(j)@mgamma(i)\n",
    "\n",
    "def sigma(i,j):\n",
    "    #psi = Matrix([[cos(theta/2),exp(I*phi)*sin(theta/2),0,0]])\n",
    "    psi = Matrix([[1,0,0,0]])\n",
    "    #psi = Matrix([[0,1,0,0]])\n",
    "    return psi@mgamma(0)@commutator(i,j)@psi.T\n"
   ]
  },
  {
   "cell_type": "code",
   "execution_count": 318,
   "metadata": {},
   "outputs": [
    {
     "data": {
      "text/latex": [
       "$\\displaystyle \\left[\\begin{matrix}0 & 0 & 0 & 0\\\\0 & 0 & 1 & 0\\\\0 & -1 & 0 & 0\\\\0 & 0 & 0 & 0\\end{matrix}\\right]$"
      ],
      "text/plain": [
       "⎡0  0   0  0⎤\n",
       "⎢           ⎥\n",
       "⎢0  0   1  0⎥\n",
       "⎢           ⎥\n",
       "⎢0  -1  0  0⎥\n",
       "⎢           ⎥\n",
       "⎣0  0   0  0⎦"
      ]
     },
     "execution_count": 318,
     "metadata": {},
     "output_type": "execute_result"
    }
   ],
   "source": [
    "s = zeros(4)\n",
    "\n",
    "\n",
    "for i in range(4):\n",
    "    for j in range(4):\n",
    "        s[i,j] = I*sigma(i,j)/2\n",
    "\n",
    "s"
   ]
  },
  {
   "cell_type": "code",
   "execution_count": 319,
   "metadata": {},
   "outputs": [
    {
     "data": {
      "text/latex": [
       "$\\displaystyle \\left[\\begin{matrix}0 & 0 & 0 & 0\\\\0 & 0 & \\frac{\\sqrt{\\frac{- 2 M + r}{r}}}{r} & 0\\\\0 & - \\frac{\\sqrt{- \\frac{2 M - r}{r}}}{r} & 0 & 0\\\\0 & 0 & 0 & 0\\end{matrix}\\right]$"
      ],
      "text/plain": [
       "⎡0           0                 0         0⎤\n",
       "⎢                                         ⎥\n",
       "⎢                            __________   ⎥\n",
       "⎢                           ╱ -2⋅M + r    ⎥\n",
       "⎢                          ╱  ────────    ⎥\n",
       "⎢                        ╲╱      r        ⎥\n",
       "⎢0           0           ──────────────  0⎥\n",
       "⎢                              r          ⎥\n",
       "⎢                                         ⎥\n",
       "⎢        _____________                    ⎥\n",
       "⎢       ╱ -(2⋅M - r)                      ⎥\n",
       "⎢   -  ╱  ───────────                     ⎥\n",
       "⎢    ╲╱        r                          ⎥\n",
       "⎢0  ───────────────────        0         0⎥\n",
       "⎢            r                            ⎥\n",
       "⎢                                         ⎥\n",
       "⎣0           0                 0         0⎦"
      ]
     },
     "execution_count": 319,
     "metadata": {},
     "output_type": "execute_result"
    }
   ],
   "source": [
    "sigma = simplify(e_inv.T@s@e_inv)\n",
    "sigma"
   ]
  },
  {
   "cell_type": "code",
   "execution_count": 305,
   "metadata": {},
   "outputs": [
    {
     "data": {
      "text/latex": [
       "$\\displaystyle \\left[\\begin{matrix}\\left[\\begin{matrix}0 & \\frac{r_{s}}{2 r^{2} \\cdot \\left(1 - \\frac{r_{s}}{r}\\right)} & 0 & 0\\\\\\frac{r_{s}}{2 r^{2} \\cdot \\left(1 - \\frac{r_{s}}{r}\\right)} & 0 & 0 & 0\\\\0 & 0 & 0 & 0\\\\0 & 0 & 0 & 0\\end{matrix}\\right] & \\left[\\begin{matrix}- \\frac{r_{s} \\left(- \\frac{c^{2}}{2} + \\frac{r_{s} c^{2}}{2 r}\\right)}{r^{2}} & 0 & 0 & 0\\\\0 & \\frac{r_{s} \\left(- \\frac{c^{2}}{2} + \\frac{r_{s} c^{2}}{2 r}\\right)}{r^{2} c^{2} \\left(1 - \\frac{r_{s}}{r}\\right)^{2}} & 0 & 0\\\\0 & 0 & \\frac{2 r \\left(- \\frac{c^{2}}{2} + \\frac{r_{s} c^{2}}{2 r}\\right)}{c^{2}} & 0\\\\0 & 0 & 0 & \\frac{2 r \\left(- \\frac{c^{2}}{2} + \\frac{r_{s} c^{2}}{2 r}\\right) \\sin^{2}{\\left(\\theta \\right)}}{c^{2}}\\end{matrix}\\right] & \\left[\\begin{matrix}0 & 0 & 0 & 0\\\\0 & 0 & \\frac{1}{r} & 0\\\\0 & \\frac{1}{r} & 0 & 0\\\\0 & 0 & 0 & - \\sin{\\left(\\theta \\right)} \\cos{\\left(\\theta \\right)}\\end{matrix}\\right] & \\left[\\begin{matrix}0 & 0 & 0 & 0\\\\0 & 0 & 0 & \\frac{1}{r}\\\\0 & 0 & 0 & \\frac{\\cos{\\left(\\theta \\right)}}{\\sin{\\left(\\theta \\right)}}\\\\0 & \\frac{1}{r} & \\frac{\\cos{\\left(\\theta \\right)}}{\\sin{\\left(\\theta \\right)}} & 0\\end{matrix}\\right]\\end{matrix}\\right]$"
      ],
      "text/plain": [
       "⎡                                      ⎡    ⎛   2       2⎞                    \n",
       "⎢                                      ⎢    ⎜  c    rₛ⋅c ⎟                    \n",
       "⎢                                      ⎢-rₛ⋅⎜- ── + ─────⎟                    \n",
       "⎢                                      ⎢    ⎝  2     2⋅r ⎠                    \n",
       "⎢                                      ⎢───────────────────          0        \n",
       "⎢                                      ⎢          2                           \n",
       "⎢                                      ⎢         r                            \n",
       "⎢                                      ⎢                                      \n",
       "⎢                                      ⎢                        ⎛   2       2⎞\n",
       "⎢⎡                     rₛ           ⎤  ⎢                        ⎜  c    rₛ⋅c ⎟\n",
       "⎢⎢      0        ─────────────  0  0⎥  ⎢                     rₛ⋅⎜- ── + ─────⎟\n",
       "⎢⎢                  2 ⎛    rₛ⎞      ⎥  ⎢                        ⎝  2     2⋅r ⎠\n",
       "⎢⎢               2⋅r ⋅⎜1 - ──⎟      ⎥  ⎢         0           ─────────────────\n",
       "⎢⎢                    ⎝    r ⎠      ⎥  ⎢                                    2 \n",
       "⎢⎢                                  ⎥  ⎢                       2  2 ⎛    rₛ⎞  \n",
       "⎢⎢      rₛ                          ⎥  ⎢                      r ⋅c ⋅⎜1 - ──⎟  \n",
       "⎢⎢─────────────        0        0  0⎥  ⎢                            ⎝    r ⎠  \n",
       "⎢⎢   2 ⎛    rₛ⎞                     ⎥  ⎢                                      \n",
       "⎢⎢2⋅r ⋅⎜1 - ──⎟                     ⎥  ⎢                                      \n",
       "⎢⎢     ⎝    r ⎠                     ⎥  ⎢                                      \n",
       "⎢⎢                                  ⎥  ⎢                                      \n",
       "⎢⎢      0              0        0  0⎥  ⎢                                      \n",
       "⎢⎢                                  ⎥  ⎢         0                   0        \n",
       "⎢⎣      0              0        0  0⎦  ⎢                                      \n",
       "⎢                                      ⎢                                      \n",
       "⎢                                      ⎢                                      \n",
       "⎢                                      ⎢                                      \n",
       "⎢                                      ⎢                                      \n",
       "⎢                                      ⎢                                      \n",
       "⎢                                      ⎢                                      \n",
       "⎢                                      ⎢         0                   0        \n",
       "⎢                                      ⎢                                      \n",
       "⎣                                      ⎣                                      \n",
       "\n",
       "                                                ⎤                             \n",
       "                                                ⎥                             \n",
       "                                                ⎥                             \n",
       "                                                ⎥                             \n",
       "          0                       0             ⎥                             \n",
       "                                                ⎥                             \n",
       "                                                ⎥                             \n",
       "                                                ⎥                             \n",
       "                                                ⎥                             \n",
       "                                                ⎥                             \n",
       "                                                ⎥                             \n",
       "                                                ⎥  ⎡0  0  0        0       ⎤  \n",
       "          0                       0             ⎥  ⎢                       ⎥  \n",
       "                                                ⎥  ⎢      1                ⎥  \n",
       "                                                ⎥  ⎢0  0  ─        0       ⎥  \n",
       "                                                ⎥  ⎢      r                ⎥  \n",
       "                                                ⎥  ⎢                       ⎥  \n",
       "                                                ⎥  ⎢   1                   ⎥  \n",
       "      ⎛   2       2⎞                            ⎥  ⎢0  ─  0        0       ⎥  \n",
       "      ⎜  c    rₛ⋅c ⎟                            ⎥  ⎢   r                   ⎥  \n",
       "  2⋅r⋅⎜- ── + ─────⎟                            ⎥  ⎢                       ⎥  \n",
       "      ⎝  2     2⋅r ⎠                            ⎥  ⎣0  0  0  -sin(θ)⋅cos(θ)⎦  \n",
       "  ──────────────────              0             ⎥                             \n",
       "           2                                    ⎥                             \n",
       "          c                                     ⎥                             \n",
       "                                                ⎥                             \n",
       "                          ⎛   2       2⎞        ⎥                             \n",
       "                          ⎜  c    rₛ⋅c ⎟    2   ⎥                             \n",
       "                      2⋅r⋅⎜- ── + ─────⎟⋅sin (θ)⎥                             \n",
       "                          ⎝  2     2⋅r ⎠        ⎥                             \n",
       "          0           ──────────────────────────⎥                             \n",
       "                                   2            ⎥                             \n",
       "                                  c             ⎦                             \n",
       "\n",
       "                      ⎤\n",
       "                      ⎥\n",
       "                      ⎥\n",
       "                      ⎥\n",
       "                      ⎥\n",
       "                      ⎥\n",
       "                      ⎥\n",
       "                      ⎥\n",
       "                      ⎥\n",
       "                      ⎥\n",
       "⎡0  0    0       0   ⎤⎥\n",
       "⎢                    ⎥⎥\n",
       "⎢                1   ⎥⎥\n",
       "⎢0  0    0       ─   ⎥⎥\n",
       "⎢                r   ⎥⎥\n",
       "⎢                    ⎥⎥\n",
       "⎢              cos(θ)⎥⎥\n",
       "⎢0  0    0     ──────⎥⎥\n",
       "⎢              sin(θ)⎥⎥\n",
       "⎢                    ⎥⎥\n",
       "⎢   1  cos(θ)        ⎥⎥\n",
       "⎢0  ─  ──────    0   ⎥⎥\n",
       "⎣   r  sin(θ)        ⎦⎥\n",
       "                      ⎥\n",
       "                      ⎥\n",
       "                      ⎥\n",
       "                      ⎥\n",
       "                      ⎥\n",
       "                      ⎥\n",
       "                      ⎥\n",
       "                      ⎥\n",
       "                      ⎥\n",
       "                      ⎦"
      ]
     },
     "execution_count": 305,
     "metadata": {},
     "output_type": "execute_result"
    }
   ],
   "source": [
    "import sympy\n",
    "from einsteinpy.symbolic import Schwarzschild, ChristoffelSymbols, RiemannCurvatureTensor, Tensor, BaseRelativityTensor, GenericVector\n",
    "from einsteinpy.symbolic.tensor import tensor_product\n",
    "\n",
    "m = Schwarzschild()\n",
    "ch = ChristoffelSymbols.from_metric(m)\n",
    "ch.tensor()"
   ]
  },
  {
   "cell_type": "code",
   "execution_count": 306,
   "metadata": {},
   "outputs": [],
   "source": [
    "rieman = RiemannCurvatureTensor.from_metric(m)"
   ]
  },
  {
   "cell_type": "code",
   "execution_count": 307,
   "metadata": {},
   "outputs": [],
   "source": [
    "u_t , u_r , u_theta, u_phi,_c,r_s,M ,R= symbols(\"u_t u_r u_\\\\theta u_\\phi c r_s M R\")"
   ]
  },
  {
   "cell_type": "code",
   "execution_count": 308,
   "metadata": {},
   "outputs": [
    {
     "data": {
      "text/latex": [
       "$\\displaystyle \\left[\\begin{matrix}u_{t} & u_{r} & 0 & 0\\end{matrix}\\right]$"
      ],
      "text/plain": [
       "[uₜ  uᵣ  0  0]"
      ]
     },
     "execution_count": 308,
     "metadata": {},
     "output_type": "execute_result"
    }
   ],
   "source": [
    "u = GenericVector([u_t, u_r, 0, 0],syms=[t,r,theta,phi], config='u', name=\"velocity\", parent_metric=m)\n",
    "u.tensor()"
   ]
  },
  {
   "cell_type": "code",
   "execution_count": 297,
   "metadata": {},
   "outputs": [
    {
     "data": {
      "image/png": "[encoded data removed]",
      "text/latex": [
       "$\\displaystyle \\frac{- r^{2} u_{r}^{2} + u_{t}^{2} c^{2} \\left(r - r_{s}\\right)^{2}}{r c^{2} \\left(r - r_{s}\\right)}$"
      ],
      "text/plain": [
       "   2   2     2  2         2\n",
       "- r ⋅uᵣ  + uₜ ⋅c ⋅(r - rₛ) \n",
       "───────────────────────────\n",
       "          2                \n",
       "       r⋅c ⋅(r - rₛ)       "
      ]
     },
     "execution_count": 297,
     "metadata": {},
     "output_type": "execute_result"
    }
   ],
   "source": [
    "uu = tensor_product(u,u.change_config('l'), 0,0).tensor()\n",
    "uu"
   ]
  },
  {
   "cell_type": "code",
   "execution_count": 301,
   "metadata": {},
   "outputs": [
    {
     "name": "stdout",
     "output_type": "stream",
     "text": [
      "\\frac{\\sqrt{r \\left(2 M + r u_{r}^{2} - r\\right)}}{- 2 M + r}\n"
     ]
    }
   ],
   "source": [
    "print_latex(solve((-r**2 * u_r**2 + u_t**2 * (r -r_s)**2)/(r*(r - r_s)) + 1, u_t)[1].subs(r_s, 2*M))"
   ]
  },
  {
   "cell_type": "code",
   "execution_count": 309,
   "metadata": {},
   "outputs": [
    {
     "data": {
      "text/latex": [
       "$\\displaystyle \\left[\\begin{matrix}0 & 0 & 0 & 0\\\\0 & 0 & - \\frac{\\sqrt{- \\frac{2 M - r}{r}}}{r} & 0\\\\0 & \\frac{\\sqrt{\\frac{- 2 M + r}{r}}}{r} & 0 & 0\\\\0 & 0 & 0 & 0\\end{matrix}\\right]$"
      ],
      "text/plain": [
       "⎡0        0                  0           0⎤\n",
       "⎢                                         ⎥\n",
       "⎢                        _____________    ⎥\n",
       "⎢                       ╱ -(2⋅M - r)      ⎥\n",
       "⎢                   -  ╱  ───────────     ⎥\n",
       "⎢                    ╲╱        r          ⎥\n",
       "⎢0        0         ───────────────────  0⎥\n",
       "⎢                            r            ⎥\n",
       "⎢                                         ⎥\n",
       "⎢       __________                        ⎥\n",
       "⎢      ╱ -2⋅M + r                         ⎥\n",
       "⎢     ╱  ────────                         ⎥\n",
       "⎢   ╲╱      r                             ⎥\n",
       "⎢0  ──────────────           0           0⎥\n",
       "⎢         r                               ⎥\n",
       "⎢                                         ⎥\n",
       "⎣0        0                  0           0⎦"
      ]
     },
     "execution_count": 309,
     "metadata": {},
     "output_type": "execute_result"
    }
   ],
   "source": [
    "sig = BaseRelativityTensor(sigma,syms=[t,r,theta,phi], config=\"uu\", name=\"sigma\", parent_metric=m)\n",
    "sig.tensor()"
   ]
  },
  {
   "cell_type": "code",
   "execution_count": 123,
   "metadata": {},
   "outputs": [],
   "source": [
    "\n",
    "contraction = tensorcontraction(tensor_product(tensor_product(rieman.change_config(\"llll\"),u, 1,0),sig,1,0,).tensor(),(1,2))\n",
    "#contraction.tensor()"
   ]
  },
  {
   "cell_type": "code",
   "execution_count": 128,
   "metadata": {},
   "outputs": [
    {
     "name": "stdout",
     "output_type": "stream",
     "text": [
      "\\left[\\begin{matrix}0 & 0 & - \\frac{2 M u_{r} \\sqrt{1 - 2 M}}{r c^{2} \\left(- 2 M + r\\right)} & 0\\end{matrix}\\right]\n"
     ]
    }
   ],
   "source": [
    "a = GenericVector(contraction.subs(f,1-r_s),syms=[t,r,theta,phi], config='l', name=\"acceleration\", parent_metric=m)\n",
    "print_latex(a.tensor().subs(r_s, 2*M))"
   ]
  },
  {
   "cell_type": "code",
   "execution_count": 134,
   "metadata": {},
   "outputs": [
    {
     "data": {
      "text/latex": [
       "$\\displaystyle \\left[\\begin{matrix}0 & 0 & - \\frac{2 M \\sqrt{1 - 2 M} \\sqrt{M \\left(\\frac{1}{r} - \\frac{1}{R}\\right) + \\frac{u_{0}^{2}}{2}}}{r c^{2} \\left(- 2 M + r\\right)} & 0\\end{matrix}\\right]$"
      ],
      "text/plain": [
       "⎡                            _________________    ⎤\n",
       "⎢                           ╱               2     ⎥\n",
       "⎢             _________    ╱    ⎛1   1⎞   u₀      ⎥\n",
       "⎢      -2⋅M⋅╲╱ 1 - 2⋅M ⋅  ╱   M⋅⎜─ - ─⎟ + ───     ⎥\n",
       "⎢                       ╲╱      ⎝r   R⎠    2      ⎥\n",
       "⎢0  0  ────────────────────────────────────────  0⎥\n",
       "⎢                     2                           ⎥\n",
       "⎣                  r⋅c ⋅(-2⋅M + r)                ⎦"
      ]
     },
     "execution_count": 134,
     "metadata": {},
     "output_type": "execute_result"
    }
   ],
   "source": [
    "a.tensor().subs(u_r, sqrt( (M*(1/r - 1/R)) + ((u_0)**2)/2)).subs(r_s, 2*M)"
   ]
  },
  {
   "cell_type": "code",
   "execution_count": 125,
   "metadata": {},
   "outputs": [],
   "source": [
    "du_dtau = tensor_product(tensor_product(ch.change_config('ull'),u.change_config('u'), 1,0), u.change_config('u'),1,0)"
   ]
  },
  {
   "cell_type": "code",
   "execution_count": 126,
   "metadata": {},
   "outputs": [
    {
     "data": {
      "text/latex": [
       "$\\displaystyle \\left[\\begin{matrix}\\frac{r_{s} u_{r} u_{t}}{r \\left(r - r_{s}\\right)} & \\frac{r_{s} \\left(- r^{2} u_{r}^{2} + u_{t}^{2} c^{2} \\left(r - r_{s}\\right)^{2}\\right)}{2 r^{3} \\left(r - r_{s}\\right)} & 0 & 0\\end{matrix}\\right]$"
      ],
      "text/plain": [
       "⎡               ⎛   2   2     2  2         2⎞      ⎤\n",
       "⎢ rₛ⋅uᵣ⋅uₜ   rₛ⋅⎝- r ⋅uᵣ  + uₜ ⋅c ⋅(r - rₛ) ⎠      ⎥\n",
       "⎢──────────  ────────────────────────────────  0  0⎥\n",
       "⎢r⋅(r - rₛ)              3                         ⎥\n",
       "⎣                     2⋅r ⋅(r - rₛ)                ⎦"
      ]
     },
     "execution_count": 126,
     "metadata": {},
     "output_type": "execute_result"
    }
   ],
   "source": [
    "du_dtau.tensor()"
   ]
  },
  {
   "cell_type": "code",
   "execution_count": 147,
   "metadata": {},
   "outputs": [],
   "source": [
    "ch = ch.change_config(\"ull\")"
   ]
  },
  {
   "cell_type": "code",
   "execution_count": 179,
   "metadata": {},
   "outputs": [],
   "source": [
    "e_inv = e_inv.subs(f, 1-2*M/r)\n",
    "e = e.subs(f, 1-2*M/r)"
   ]
  },
  {
   "cell_type": "code",
   "execution_count": 310,
   "metadata": {},
   "outputs": [],
   "source": [
    "firstpart = tensorcontraction(tensorcontraction(tensorproduct(tensorproduct(ch.tensor(),e),e_inv),(0,5)),(0,3))"
   ]
  },
  {
   "cell_type": "code",
   "execution_count": 311,
   "metadata": {},
   "outputs": [],
   "source": [
    "secondpart = tensorcontraction(tensorproduct(e, Array([e_inv.diff(t).tolist(),e_inv.diff(r).tolist(),e_inv.diff(theta).tolist(),e_inv.diff(phi).tolist()])),(1,3))"
   ]
  },
  {
   "cell_type": "code",
   "execution_count": 312,
   "metadata": {},
   "outputs": [
    {
     "data": {
      "text/latex": [
       "$\\displaystyle \\left[\\begin{matrix}\\left[\\begin{matrix}0 & - \\frac{r_{s} \\left(- \\frac{c^{2}}{2} + \\frac{r_{s} c^{2}}{2 r}\\right) \\left(- \\frac{2 M}{r} + 1\\right)}{r^{2}} & 0 & 0\\\\- \\frac{M}{r^{2} \\left(- \\frac{2 M}{r} + 1\\right)} - \\frac{r_{s}}{2 r^{2} \\cdot \\left(1 - \\frac{r_{s}}{r}\\right) \\left(- \\frac{2 M}{r} + 1\\right)} & 0 & 0 & 0\\\\0 & 0 & 0 & 0\\\\0 & 0 & 0 & 0\\end{matrix}\\right] & \\left[\\begin{matrix}- \\frac{r_{s}}{2 r^{2} \\cdot \\left(1 - \\frac{r_{s}}{r}\\right)} & 0 & 0 & 0\\\\0 & - \\frac{M}{r^{2} \\left(- \\frac{2 M}{r} + 1\\right)} + \\frac{r_{s} \\left(- \\frac{c^{2}}{2} + \\frac{r_{s} c^{2}}{2 r}\\right)}{r^{2} c^{2} \\left(1 - \\frac{r_{s}}{r}\\right)^{2}} & 0 & 0\\\\0 & 0 & \\frac{1}{r} & 0\\\\0 & 0 & 0 & \\frac{1}{r}\\end{matrix}\\right] & \\left[\\begin{matrix}0 & 0 & 0 & 0\\\\0 & 0 & \\frac{1}{r} + \\frac{1}{r^{2} \\sqrt{- \\frac{2 M}{r} + 1}} & 0\\\\0 & \\frac{2 r^{2} \\left(- \\frac{c^{2}}{2} + \\frac{r_{s} c^{2}}{2 r}\\right) \\sqrt{- \\frac{2 M}{r} + 1}}{c^{2}} & 0 & 0\\\\0 & 0 & 0 & \\frac{\\cos{\\left(\\theta \\right)}}{\\sin{\\left(\\theta \\right)}}\\end{matrix}\\right] & \\left[\\begin{matrix}0 & 0 & 0 & 0\\\\0 & 0 & 0 & \\frac{1}{r} + \\frac{1}{r^{2} \\sqrt{- \\frac{2 M}{r} + 1} \\sin{\\left(\\theta \\right)}}\\\\0 & 0 & 0 & \\frac{\\cos{\\left(\\theta \\right)}}{\\sin{\\left(\\theta \\right)}} + \\frac{\\cos{\\left(\\theta \\right)}}{\\sin{\\left(\\theta \\right)} \\sin{\\left(\\theta \\right)}}\\\\0 & \\frac{2 r^{2} \\left(- \\frac{c^{2}}{2} + \\frac{r_{s} c^{2}}{2 r}\\right) \\sqrt{- \\frac{2 M}{r} + 1} \\sin{\\left(\\theta \\right)} \\sin^{2}{\\left(\\theta \\right)}}{c^{2}} & - \\sin{\\left(\\theta \\right)} \\sin{\\left(\\theta \\right)} \\cos{\\left(\\theta \\right)} & 0\\end{matrix}\\right]\\end{matrix}\\right]$"
      ],
      "text/plain": [
       "⎡                                                                             \n",
       "⎢                                                                             \n",
       "⎢                                                                             \n",
       "⎢⎡                                                  ⎛   2       2⎞            \n",
       "⎢⎢                                                  ⎜  c    rₛ⋅c ⎟ ⎛  2⋅M    ⎞\n",
       "⎢⎢                                              -rₛ⋅⎜- ── + ─────⎟⋅⎜- ─── + 1⎟\n",
       "⎢⎢                                                  ⎝  2     2⋅r ⎠ ⎝   r     ⎠\n",
       "⎢⎢                     0                        ──────────────────────────────\n",
       "⎢⎢                                                              2             \n",
       "⎢⎢                                                             r              \n",
       "⎢⎢                                                                            \n",
       "⎢⎢        M                      rₛ                                           \n",
       "⎢⎢- ────────────── - ─────────────────────────                 0              \n",
       "⎢⎢   2 ⎛  2⋅M    ⎞      2 ⎛    rₛ⎞ ⎛  2⋅M    ⎞                                \n",
       "⎢⎢  r ⋅⎜- ─── + 1⎟   2⋅r ⋅⎜1 - ──⎟⋅⎜- ─── + 1⎟                                \n",
       "⎢⎢     ⎝   r     ⎠        ⎝    r ⎠ ⎝   r     ⎠                                \n",
       "⎢⎢                                                                            \n",
       "⎢⎢                     0                                       0              \n",
       "⎢⎢                                                                            \n",
       "⎢⎣                     0                                       0              \n",
       "⎢                                                                             \n",
       "⎢                                                                             \n",
       "⎣                                                                             \n",
       "\n",
       "          ⎡     -rₛ                                                 ⎤         \n",
       "          ⎢─────────────                   0                    0  0⎥  ⎡0     \n",
       "          ⎢   2 ⎛    rₛ⎞                                            ⎥  ⎢      \n",
       "       ⎤  ⎢2⋅r ⋅⎜1 - ──⎟                                            ⎥  ⎢      \n",
       "       ⎥  ⎢     ⎝    r ⎠                                            ⎥  ⎢0     \n",
       "       ⎥  ⎢                                                         ⎥  ⎢      \n",
       "       ⎥  ⎢                                     ⎛   2       2⎞      ⎥  ⎢      \n",
       "─  0  0⎥  ⎢                                     ⎜  c    rₛ⋅c ⎟      ⎥  ⎢      \n",
       "       ⎥  ⎢                                  rₛ⋅⎜- ── + ─────⎟      ⎥  ⎢      \n",
       "       ⎥  ⎢                       M             ⎝  2     2⋅r ⎠      ⎥  ⎢      \n",
       "       ⎥  ⎢      0        - ────────────── + ─────────────────  0  0⎥  ⎢      \n",
       "       ⎥  ⎢                  2 ⎛  2⋅M    ⎞                  2       ⎥  ⎢      \n",
       "   0  0⎥  ⎢                 r ⋅⎜- ─── + 1⎟     2  2 ⎛    rₛ⎞        ⎥  ⎢   2⋅r\n",
       "       ⎥  ⎢                    ⎝   r     ⎠    r ⋅c ⋅⎜1 - ──⎟        ⎥  ⎢      \n",
       "       ⎥  ⎢                                         ⎝    r ⎠        ⎥  ⎢0  ───\n",
       "       ⎥  ⎢                                                         ⎥  ⎢      \n",
       "       ⎥  ⎢                                                     1   ⎥  ⎢      \n",
       "   0  0⎥  ⎢      0                         0                    ─  0⎥  ⎢      \n",
       "       ⎥  ⎢                                                     r   ⎥  ⎢      \n",
       "   0  0⎦  ⎢                                                         ⎥  ⎢0     \n",
       "          ⎢                                                        1⎥  ⎣      \n",
       "          ⎢      0                         0                    0  ─⎥         \n",
       "          ⎣                                                        r⎦         \n",
       "\n",
       "                                                                              \n",
       "              0                             0               0   ⎤  ⎡0         \n",
       "                                                                ⎥  ⎢          \n",
       "                                  1           1                 ⎥  ⎢          \n",
       "              0                   ─ + ──────────────────    0   ⎥  ⎢0         \n",
       "                                  r          ___________        ⎥  ⎢          \n",
       "                                       2    ╱   2⋅M             ⎥  ⎢          \n",
       "                                      r ⋅  ╱  - ─── + 1         ⎥  ⎢          \n",
       "                                         ╲╱      r              ⎥  ⎢          \n",
       "                                                                ⎥  ⎢          \n",
       "  ⎛   2       2⎞     ___________                                ⎥  ⎢          \n",
       "2 ⎜  c    rₛ⋅c ⎟    ╱   2⋅M                                     ⎥  ⎢0         \n",
       " ⋅⎜- ── + ─────⎟⋅  ╱  - ─── + 1                                 ⎥  ⎢          \n",
       "  ⎝  2     2⋅r ⎠ ╲╱      r                                      ⎥  ⎢          \n",
       "────────────────────────────────            0               0   ⎥  ⎢        ⎛ \n",
       "               2                                                ⎥  ⎢      2 ⎜ \n",
       "              c                                                 ⎥  ⎢   2⋅r ⋅⎜-\n",
       "                                                                ⎥  ⎢        ⎝ \n",
       "                                                          cos(θ)⎥  ⎢0  ───────\n",
       "              0                             0             ──────⎥  ⎢          \n",
       "                                                          sin(θ)⎦  ⎣          \n",
       "                                                                              \n",
       "                                                                              \n",
       "\n",
       "                                                                              \n",
       "                    0                                         0               \n",
       "                                                                              \n",
       "                                                                              \n",
       "                    0                                         0               \n",
       "                                                                              \n",
       "                                                                              \n",
       "                                                                              \n",
       "                                                                              \n",
       "                                                                              \n",
       "                                                                              \n",
       "                    0                                         0               \n",
       "                                                                              \n",
       "                                                                              \n",
       "  2       2⎞     ___________                                                  \n",
       " c    rₛ⋅c ⎟    ╱   2⋅M                     2                                 \n",
       " ── + ─────⎟⋅  ╱  - ─── + 1 ⋅sin(\\theta)⋅sin (θ)                              \n",
       " 2     2⋅r ⎠ ╲╱      r                                                        \n",
       "────────────────────────────────────────────────  -sin(\\theta)⋅sin(θ)⋅cos(θ)  \n",
       "                     2                                                        \n",
       "                    c                                                         \n",
       "                                                                              \n",
       "                                                                              \n",
       "\n",
       "                                   ⎤\n",
       "                0                 ⎤⎥\n",
       "                                  ⎥⎥\n",
       "1                 1               ⎥⎥\n",
       "─ + ──────────────────────────────⎥⎥\n",
       "r          ___________            ⎥⎥\n",
       "     2    ╱   2⋅M                 ⎥⎥\n",
       "    r ⋅  ╱  - ─── + 1 ⋅sin(\\theta)⎥⎥\n",
       "       ╲╱      r                  ⎥⎥\n",
       "                                  ⎥⎥\n",
       " cos(\\theta)         cos(θ)       ⎥⎥\n",
       " ─────────── + ────────────────── ⎥⎥\n",
       " sin(\\theta)   sin(\\theta)⋅sin(θ) ⎥⎥\n",
       "                                  ⎥⎥\n",
       "                                  ⎥⎥\n",
       "                                  ⎥⎥\n",
       "                                  ⎥⎥\n",
       "                                  ⎥⎥\n",
       "                0                 ⎥⎥\n",
       "                                  ⎥⎥\n",
       "                                  ⎦⎥\n",
       "                                   ⎥\n",
       "                                   ⎦"
      ]
     },
     "execution_count": 312,
     "metadata": {},
     "output_type": "execute_result"
    }
   ],
   "source": [
    "w = firstpart - secondpart\n",
    "w = tensorcontraction(tensorproduct(w,eta),(2,3))\n",
    "w"
   ]
  },
  {
   "cell_type": "code",
   "execution_count": 320,
   "metadata": {},
   "outputs": [],
   "source": [
    "Gamma = -1/4 * tensorcontraction(tensorcontraction(tensorproduct(w, s),(1,0)),(1,0))"
   ]
  },
  {
   "cell_type": "code",
   "execution_count": 321,
   "metadata": {},
   "outputs": [
    {
     "name": "stdout",
     "output_type": "stream",
     "text": [
      "\\left[\\begin{matrix}0\\\\- 0.0625 \\cos{\\left(\\theta - 2 \\theta \\right)} + 0.0625 \\cos{\\left(\\theta + 2 \\theta \\right)}\\\\\\frac{0.25 \\left(- 2 M r^{3} - M c^{2} \\left(2 M - r\\right)^{3} - r^{5} \\sqrt{\\frac{- 2 M + r}{r}} \\left(2 M - r\\right)^{2} \\left(\\sin{\\left(\\theta \\right)} \\sin^{2}{\\left(\\theta \\right)} + 1\\right)\\right)}{r^{4} \\cdot \\left(2 M - r\\right)}\\\\0\\end{matrix}\\right]\n"
     ]
    }
   ],
   "source": [
    "dv = Array([simplify(Gamma.subs(r_s, 2*M))])\n",
    "print_latex(dv.transpose())"
   ]
  },
  {
   "cell_type": "code",
   "execution_count": 322,
   "metadata": {},
   "outputs": [
    {
     "data": {
      "text/latex": [
       "$\\displaystyle \\left[\\left[\\begin{matrix}0 & - 0.0625 \\cos{\\left(\\theta - 2 \\theta \\right)} + 0.0625 \\cos{\\left(\\theta + 2 \\theta \\right)} & \\frac{0.25 \\left(- 2 M r^{3} - M c^{2} \\left(2 M - r\\right)^{3} - r^{5} \\sqrt{\\frac{- 2 M + r}{r}} \\left(2 M - r\\right)^{2} \\left(\\sin{\\left(\\theta \\right)} \\sin^{2}{\\left(\\theta \\right)} + 1\\right)\\right)}{r^{4} \\cdot \\left(2 M - r\\right)} & 0\\end{matrix}\\right]\\right]$"
      ],
      "text/plain": [
       "⎡⎡                                                              ⎛             \n",
       "⎢⎢                                                              ⎜       3     \n",
       "⎢⎢                                                         0.25⋅⎜- 2⋅M⋅r  - M⋅\n",
       "⎢⎢                                                              ⎝             \n",
       "⎢⎢0  -0.0625⋅cos(\\theta - 2⋅θ) + 0.0625⋅cos(\\theta + 2⋅θ)  ───────────────────\n",
       "⎢⎢                                                                            \n",
       "⎣⎣                                                                            \n",
       "\n",
       "                       __________                                     ⎞   ⎤⎤\n",
       " 2          3    5    ╱ -2⋅M + r           2 ⎛               2       ⎞⎟   ⎥⎥\n",
       "c ⋅(2⋅M - r)  - r ⋅  ╱  ──────── ⋅(2⋅M - r) ⋅⎝sin(\\theta)⋅sin (θ) + 1⎠⎟   ⎥⎥\n",
       "                   ╲╱      r                                          ⎠   ⎥⎥\n",
       "───────────────────────────────────────────────────────────────────────  0⎥⎥\n",
       "                     4                                                    ⎥⎥\n",
       "                    r ⋅(2⋅M - r)                                          ⎦⎦"
      ]
     },
     "execution_count": 322,
     "metadata": {},
     "output_type": "execute_result"
    }
   ],
   "source": [
    "dv"
   ]
  },
  {
   "cell_type": "code",
   "execution_count": 315,
   "metadata": {},
   "outputs": [
    {
     "ename": "ValueError",
     "evalue": "invalid shape of array for tensor of order implied by config: 'l'",
     "output_type": "error",
     "traceback": [
      "\u001b[0;31m---------------------------------------------------------------------------\u001b[0m",
      "\u001b[0;31mValueError\u001b[0m                                Traceback (most recent call last)",
      "Cell \u001b[0;32mIn[315], line 1\u001b[0m\n\u001b[0;32m----> 1\u001b[0m dv \u001b[39m=\u001b[39m GenericVector(dv,syms\u001b[39m=\u001b[39;49m[t,r,theta,phi], config\u001b[39m=\u001b[39;49m\u001b[39m'\u001b[39;49m\u001b[39ml\u001b[39;49m\u001b[39m'\u001b[39;49m, name\u001b[39m=\u001b[39;49m\u001b[39m\"\u001b[39;49m\u001b[39mdv\u001b[39;49m\u001b[39m\"\u001b[39;49m, parent_metric\u001b[39m=\u001b[39;49mm)\n",
      "File \u001b[0;32m~/.var/app/com.visualstudio.code-oss/data/python/lib/python3.10/site-packages/einsteinpy/symbolic/vector.py:37\u001b[0m, in \u001b[0;36mGenericVector.__init__\u001b[0;34m(self, arr, syms, config, parent_metric, name)\u001b[0m\n\u001b[1;32m     11\u001b[0m \u001b[39mdef\u001b[39;00m \u001b[39m__init__\u001b[39m(\u001b[39mself\u001b[39m, arr, syms, config\u001b[39m=\u001b[39m\u001b[39m\"\u001b[39m\u001b[39mu\u001b[39m\u001b[39m\"\u001b[39m, parent_metric\u001b[39m=\u001b[39m\u001b[39mNone\u001b[39;00m, name\u001b[39m=\u001b[39m\u001b[39m\"\u001b[39m\u001b[39mGenericVector\u001b[39m\u001b[39m\"\u001b[39m):\n\u001b[1;32m     12\u001b[0m \u001b[39m    \u001b[39m\u001b[39m\"\"\"\u001b[39;00m\n\u001b[1;32m     13\u001b[0m \u001b[39m    Constructor and Initializer\u001b[39;00m\n\u001b[1;32m     14\u001b[0m \n\u001b[0;32m   (...)\u001b[0m\n\u001b[1;32m     35\u001b[0m \n\u001b[1;32m     36\u001b[0m \u001b[39m    \"\"\"\u001b[39;00m\n\u001b[0;32m---> 37\u001b[0m     \u001b[39msuper\u001b[39;49m(GenericVector, \u001b[39mself\u001b[39;49m)\u001b[39m.\u001b[39;49m\u001b[39m__init__\u001b[39;49m(\n\u001b[1;32m     38\u001b[0m         arr\u001b[39m=\u001b[39;49marr, syms\u001b[39m=\u001b[39;49msyms, config\u001b[39m=\u001b[39;49mconfig, parent_metric\u001b[39m=\u001b[39;49mparent_metric, name\u001b[39m=\u001b[39;49mname\n\u001b[1;32m     39\u001b[0m     )\n\u001b[1;32m     40\u001b[0m     \u001b[39mif\u001b[39;00m \u001b[39mself\u001b[39m\u001b[39m.\u001b[39marr\u001b[39m.\u001b[39mrank() \u001b[39m==\u001b[39m \u001b[39m1\u001b[39m:\n\u001b[1;32m     41\u001b[0m         \u001b[39mself\u001b[39m\u001b[39m.\u001b[39m_order \u001b[39m=\u001b[39m \u001b[39m1\u001b[39m\n",
      "File \u001b[0;32m~/.var/app/com.visualstudio.code-oss/data/python/lib/python3.10/site-packages/einsteinpy/symbolic/tensor.py:333\u001b[0m, in \u001b[0;36mBaseRelativityTensor.__init__\u001b[0;34m(self, arr, syms, config, parent_metric, variables, functions, name)\u001b[0m\n\u001b[1;32m    284\u001b[0m \u001b[39mdef\u001b[39;00m \u001b[39m__init__\u001b[39m(\n\u001b[1;32m    285\u001b[0m     \u001b[39mself\u001b[39m,\n\u001b[1;32m    286\u001b[0m     arr,\n\u001b[0;32m   (...)\u001b[0m\n\u001b[1;32m    292\u001b[0m     name\u001b[39m=\u001b[39m\u001b[39m\"\u001b[39m\u001b[39mGenericTensor\u001b[39m\u001b[39m\"\u001b[39m,\n\u001b[1;32m    293\u001b[0m ):\n\u001b[1;32m    294\u001b[0m \u001b[39m    \u001b[39m\u001b[39m\"\"\"\u001b[39;00m\n\u001b[1;32m    295\u001b[0m \u001b[39m    Constructor and Initializer\u001b[39;00m\n\u001b[1;32m    296\u001b[0m \n\u001b[0;32m   (...)\u001b[0m\n\u001b[1;32m    331\u001b[0m \n\u001b[1;32m    332\u001b[0m \u001b[39m    \"\"\"\u001b[39;00m\n\u001b[0;32m--> 333\u001b[0m     \u001b[39msuper\u001b[39;49m(BaseRelativityTensor, \u001b[39mself\u001b[39;49m)\u001b[39m.\u001b[39;49m\u001b[39m__init__\u001b[39;49m(arr\u001b[39m=\u001b[39;49marr, config\u001b[39m=\u001b[39;49mconfig, name\u001b[39m=\u001b[39;49mname)\n\u001b[1;32m    335\u001b[0m     \u001b[39mif\u001b[39;00m \u001b[39mlen\u001b[39m(\u001b[39mself\u001b[39m\u001b[39m.\u001b[39marr\u001b[39m.\u001b[39mshape) \u001b[39m!=\u001b[39m \u001b[39m0\u001b[39m \u001b[39mand\u001b[39;00m \u001b[39mself\u001b[39m\u001b[39m.\u001b[39marr\u001b[39m.\u001b[39mshape[\u001b[39m0\u001b[39m] \u001b[39m!=\u001b[39m \u001b[39mlen\u001b[39m(syms):\n\u001b[1;32m    336\u001b[0m         \u001b[39mraise\u001b[39;00m \u001b[39mValueError\u001b[39;00m(\u001b[39m\"\u001b[39m\u001b[39minvalid shape of argument arr for syms: \u001b[39m\u001b[39m{}\u001b[39;00m\u001b[39m\"\u001b[39m\u001b[39m.\u001b[39mformat(syms))\n",
      "File \u001b[0;32m~/.var/app/com.visualstudio.code-oss/data/python/lib/python3.10/site-packages/einsteinpy/symbolic/tensor.py:162\u001b[0m, in \u001b[0;36mTensor.__init__\u001b[0;34m(self, arr, config, name)\u001b[0m\n\u001b[1;32m    158\u001b[0m     \u001b[39mraise\u001b[39;00m \u001b[39mTypeError\u001b[39;00m(\n\u001b[1;32m    159\u001b[0m         \u001b[39m\"\u001b[39m\u001b[39mconfig is either not of type \u001b[39m\u001b[39m'\u001b[39m\u001b[39mstr\u001b[39m\u001b[39m'\u001b[39m\u001b[39m or does contain characters other than \u001b[39m\u001b[39m'\u001b[39m\u001b[39ml\u001b[39m\u001b[39m'\u001b[39m\u001b[39m or \u001b[39m\u001b[39m'\u001b[39m\u001b[39mu\u001b[39m\u001b[39m'\u001b[39m\u001b[39m\"\u001b[39m\n\u001b[1;32m    160\u001b[0m     )\n\u001b[1;32m    161\u001b[0m \u001b[39mif\u001b[39;00m \u001b[39mlen\u001b[39m(\u001b[39mself\u001b[39m\u001b[39m.\u001b[39marr\u001b[39m.\u001b[39mshape) \u001b[39m!=\u001b[39m \u001b[39mlen\u001b[39m(config):\n\u001b[0;32m--> 162\u001b[0m     \u001b[39mraise\u001b[39;00m \u001b[39mValueError\u001b[39;00m(\n\u001b[1;32m    163\u001b[0m         \u001b[39m\"\u001b[39m\u001b[39minvalid shape of array for tensor of order implied by config: \u001b[39m\u001b[39m'\u001b[39m\u001b[39m{}\u001b[39;00m\u001b[39m'\u001b[39m\u001b[39m\"\u001b[39m\u001b[39m.\u001b[39mformat(\n\u001b[1;32m    164\u001b[0m             config\n\u001b[1;32m    165\u001b[0m         )\n\u001b[1;32m    166\u001b[0m     )\n\u001b[1;32m    167\u001b[0m \u001b[39mself\u001b[39m\u001b[39m.\u001b[39mname \u001b[39m=\u001b[39m name\n",
      "\u001b[0;31mValueError\u001b[0m: invalid shape of array for tensor of order implied by config: 'l'"
     ]
    }
   ],
   "source": [
    "dv = GenericVector(dv,syms=[t,r,theta,phi], config='l', name=\"dv\", parent_metric=m)"
   ]
  },
  {
   "cell_type": "code",
   "execution_count": 253,
   "metadata": {},
   "outputs": [
    {
     "data": {
      "text/latex": [
       "$\\displaystyle \\left[\\begin{matrix}0 & \\frac{0.0625 c^{2} \\left(r - r_{s}\\right) \\left(\\cos{\\left(\\theta - 2 \\theta \\right)} - \\cos{\\left(\\theta + 2 \\theta \\right)}\\right)}{r} & \\frac{c^{2} \\cdot \\left(0.5 M r^{3} + 0.25 M c^{2} \\left(2 M - r\\right)^{3} + 0.25 r^{5} \\sqrt{\\frac{- 2 M + r}{r}} \\left(2 M - r\\right)^{2} \\left(\\sin{\\left(\\theta \\right)} \\sin^{2}{\\left(\\theta \\right)} + 1\\right)\\right)}{r^{6} \\cdot \\left(2 M - r\\right)} & 0\\end{matrix}\\right]$"
      ],
      "text/plain": [
       "⎡                                                                  ⎛          \n",
       "⎢                                                                2 ⎜       3  \n",
       "⎢           2                                                   c ⋅⎜0.5⋅M⋅r  +\n",
       "⎢   0.0625⋅c ⋅(r - rₛ)⋅(cos(\\theta - 2⋅θ) - cos(\\theta + 2⋅θ))     ⎝          \n",
       "⎢0  ──────────────────────────────────────────────────────────  ──────────────\n",
       "⎢                               r                                             \n",
       "⎣                                                                             \n",
       "\n",
       "                                    __________                                \n",
       "         2          3         5    ╱ -2⋅M + r           2 ⎛               2   \n",
       " 0.25⋅M⋅c ⋅(2⋅M - r)  + 0.25⋅r ⋅  ╱  ──────── ⋅(2⋅M - r) ⋅⎝sin(\\theta)⋅sin (θ)\n",
       "                                ╲╱      r                                     \n",
       "──────────────────────────────────────────────────────────────────────────────\n",
       "                              6                                               \n",
       "                             r ⋅(2⋅M - r)                                     \n",
       "\n",
       "     ⎞   ⎤\n",
       "    ⎞⎟   ⎥\n",
       " + 1⎠⎟   ⎥\n",
       "     ⎠   ⎥\n",
       "──────  0⎥\n",
       "         ⎥\n",
       "         ⎦"
      ]
     },
     "execution_count": 253,
     "metadata": {},
     "output_type": "execute_result"
    }
   ],
   "source": [
    "dv.change_config('u').tensor()"
   ]
  }
 ],
 "metadata": {
  "kernelspec": {
   "display_name": "Python 3",
   "language": "python",
   "name": "python3"
  },
  "language_info": {
   "codemirror_mode": {
    "name": "ipython",
    "version": 3
   },
   "file_extension": ".py",
   "mimetype": "text/x-python",
   "name": "python",
   "nbconvert_exporter": "python",
   "pygments_lexer": "ipython3",
   "version": "3.10.13"
  },
  "vscode": {
   "interpreter": {
    "hash": "d2152fd7f0bbc62aa1baff8c990435d1e2c7175d001561303988032604c11a48"
   }
  }
 },
 "nbformat": 4,
 "nbformat_minor": 2
}
