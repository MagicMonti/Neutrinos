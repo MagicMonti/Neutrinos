{
 "cells": [
  {
   "cell_type": "code",
   "execution_count": 1,
   "metadata": {},
   "outputs": [
    {
     "data": {
      "image/png": "[encoded data removed]",
      "text/latex": [
       "$\\displaystyle \\left( f, \\  r, \\  \\theta, \\  \\phi, \\  \\hbar\\right)$"
      ],
      "text/plain": [
       "(f, r, θ, φ, h̅)"
      ]
     },
     "execution_count": 1,
     "metadata": {},
     "output_type": "execute_result"
    }
   ],
   "source": [
    "from sympy import *\n",
    "from sympy.physics.hep.gamma_matrices import GammaMatrix as G, LorentzIndex, gamma_trace\n",
    "from sympy.tensor.tensor import tensor_indices\n",
    "from sympy.physics.hep.gamma_matrices import kahane_simplify\n",
    "from sympy.physics.matrices import mgamma\n",
    "from einsteinpy.symbolic import Schwarzschild, ChristoffelSymbols, RiemannCurvatureTensor, Tensor, BaseRelativityTensor, GenericVector, MetricTensor\n",
    "from einsteinpy.symbolic.tensor import tensor_product\n",
    "\n",
    "i,j = tensor_indices('i,j', LorentzIndex)\n",
    "init_printing(use_unicode=True)\n",
    "f, r, theta, phi, u_0, t, c, hbar, m_ = symbols(\"f r theta phi u_0 t c hbar m\")\n",
    "u_t , u_r , u_theta, u_phi,r_s,M ,R= symbols(\"u_t u_r u_\\\\theta u_\\phi r_s M R\")\n",
    "f,r,theta, phi, hbar"
   ]
  },
  {
   "attachments": {},
   "cell_type": "markdown",
   "metadata": {},
   "source": [
    "define $\\eta^{ab}:= $ eta  (mostly plus)\\\n",
    "and $e_{\\alpha}^{\\ \\  \\ a}:= $ e \\\n",
    "$e_a^{\\ \\ \\ \\alpha}:= $  e_inv"
   ]
  },
  {
   "cell_type": "code",
   "execution_count": 2,
   "metadata": {},
   "outputs": [
    {
     "data": {
      "text/latex": [
       "$\\displaystyle \\left( \\left[\\begin{matrix}\\sqrt{1 - \\frac{r_{s}}{r}} & 0 & 0 & 0\\\\0 & \\frac{1}{\\sqrt{1 - \\frac{r_{s}}{r}}} & 0 & 0\\\\0 & 0 & r & 0\\\\0 & 0 & 0 & r \\sin{\\left(\\theta \\right)}\\end{matrix}\\right], \\  \\left[\\begin{matrix}\\frac{1}{\\sqrt{1 - \\frac{r_{s}}{r}}} & 0 & 0 & 0\\\\0 & \\sqrt{1 - \\frac{r_{s}}{r}} & 0 & 0\\\\0 & 0 & \\frac{1}{r} & 0\\\\0 & 0 & 0 & \\frac{1}{r \\sin{\\left(\\theta \\right)}}\\end{matrix}\\right], \\  \\left[\\begin{matrix}-1 & 0 & 0 & 0\\\\0 & 1 & 0 & 0\\\\0 & 0 & 1 & 0\\\\0 & 0 & 0 & 1\\end{matrix}\\right]\\right)$"
      ],
      "text/plain": [
       "⎛                                           ⎡     1                           \n",
       "⎜                                           ⎢────────────       0        0    \n",
       "⎜⎡    ________                           ⎤  ⎢    ________                     \n",
       "⎜⎢   ╱     rₛ                            ⎥  ⎢   ╱     rₛ                      \n",
       "⎜⎢  ╱  1 - ──        0        0     0    ⎥  ⎢  ╱  1 - ──                      \n",
       "⎜⎢╲╱       r                             ⎥  ⎢╲╱       r                       \n",
       "⎜⎢                                       ⎥  ⎢                                 \n",
       "⎜⎢                   1                   ⎥  ⎢                  ________       \n",
       "⎜⎢     0        ────────────  0     0    ⎥  ⎢                 ╱     rₛ        \n",
       "⎜⎢                  ________             ⎥, ⎢     0          ╱  1 - ──   0    \n",
       "⎜⎢                 ╱     rₛ              ⎥  ⎢              ╲╱       r         \n",
       "⎜⎢                ╱  1 - ──              ⎥  ⎢                                 \n",
       "⎜⎢              ╲╱       r               ⎥  ⎢                            1    \n",
       "⎜⎢                                       ⎥  ⎢     0             0        ─    \n",
       "⎜⎢     0             0        r     0    ⎥  ⎢                            r    \n",
       "⎜⎢                                       ⎥  ⎢                                 \n",
       "⎜⎣     0             0        0  r⋅sin(θ)⎦  ⎢                                 \n",
       "⎜                                           ⎢     0             0        0  ──\n",
       "⎝                                           ⎣                               r⋅\n",
       "\n",
       "      ⎤               ⎞\n",
       " 0    ⎥               ⎟\n",
       "      ⎥               ⎟\n",
       "      ⎥               ⎟\n",
       "      ⎥               ⎟\n",
       "      ⎥               ⎟\n",
       "      ⎥  ⎡-1  0  0  0⎤⎟\n",
       "      ⎥  ⎢           ⎥⎟\n",
       "      ⎥  ⎢0   1  0  0⎥⎟\n",
       " 0    ⎥, ⎢           ⎥⎟\n",
       "      ⎥  ⎢0   0  1  0⎥⎟\n",
       "      ⎥  ⎢           ⎥⎟\n",
       "      ⎥  ⎣0   0  0  1⎦⎟\n",
       " 0    ⎥               ⎟\n",
       "      ⎥               ⎟\n",
       "      ⎥               ⎟\n",
       " 1    ⎥               ⎟\n",
       "──────⎥               ⎟\n",
       "sin(θ)⎦               ⎠"
      ]
     },
     "execution_count": 2,
     "metadata": {},
     "output_type": "execute_result"
    }
   ],
   "source": [
    "eta = Matrix([[-1,0,0,0],[0,1,0,0],[0,0,1,0],[0,0,0,1]])\n",
    "e =  Matrix([[sqrt(f),0,0,0],[0,1/(sqrt(f)),0,0],[0,0,r,0],[0,0,0,r * sin(theta)]])\n",
    "e_inv = Matrix([[1/sqrt(f),0,0,0],[0,sqrt(f),0,0],[0,0,1/r,0],[0,0,0,1/(r * sin(theta))]])\n",
    "e_inv = e_inv.subs(f, 1 - r_s/r)\n",
    "e = e.subs(f, 1 - r_s/r)\n",
    "e,e_inv,eta"
   ]
  },
  {
   "cell_type": "code",
   "execution_count": 4,
   "metadata": {},
   "outputs": [
    {
     "data": {
      "text/latex": [
       "$\\displaystyle \\left( \\left[\\begin{matrix}-1 + \\frac{r_{s}}{r} & 0 & 0 & 0\\\\0 & \\frac{1}{1 - \\frac{r_{s}}{r}} & 0 & 0\\\\0 & 0 & r^{2} & 0\\\\0 & 0 & 0 & r^{2} \\sin^{2}{\\left(\\theta \\right)}\\end{matrix}\\right], \\  \\left[\\begin{matrix}-1 & 0 & 0 & 0\\\\0 & 1 & 0 & 0\\\\0 & 0 & 1 & 0\\\\0 & 0 & 0 & 1\\end{matrix}\\right]\\right)$"
      ],
      "text/plain": [
       "⎛⎡     rₛ                        ⎤               ⎞\n",
       "⎜⎢-1 + ──    0     0       0     ⎥               ⎟\n",
       "⎜⎢     r                         ⎥               ⎟\n",
       "⎜⎢                               ⎥               ⎟\n",
       "⎜⎢           1                   ⎥  ⎡-1  0  0  0⎤⎟\n",
       "⎜⎢   0     ──────  0       0     ⎥  ⎢           ⎥⎟\n",
       "⎜⎢             rₛ                ⎥  ⎢0   1  0  0⎥⎟\n",
       "⎜⎢         1 - ──                ⎥, ⎢           ⎥⎟\n",
       "⎜⎢             r                 ⎥  ⎢0   0  1  0⎥⎟\n",
       "⎜⎢                               ⎥  ⎢           ⎥⎟\n",
       "⎜⎢                  2            ⎥  ⎣0   0  0  1⎦⎟\n",
       "⎜⎢   0       0     r       0     ⎥               ⎟\n",
       "⎜⎢                               ⎥               ⎟\n",
       "⎜⎢                      2    2   ⎥               ⎟\n",
       "⎝⎣   0       0     0   r ⋅sin (θ)⎦               ⎠"
      ]
     },
     "execution_count": 4,
     "metadata": {},
     "output_type": "execute_result"
    }
   ],
   "source": [
    "#check if tetraeds are correct\n",
    "g = e@eta@e.T\n",
    "g, simplify(e_inv@ g @ e_inv.T)"
   ]
  },
  {
   "attachments": {},
   "cell_type": "markdown",
   "metadata": {},
   "source": [
    "$\\newcommand{\\overbar}[1]{\\mkern 1.5mu\\overline{\\mkern-1.5mu#1\\mkern-1.5mu}\\mkern 1.5mu}\\textbf{}$\n",
    "\n",
    "$\\delta v_\\alpha = \\frac{\\hbar}{m i } \\overbar{\\Psi}_0^{(\\sigma)} \\Gamma_\\alpha \\Psi_0^{(\\sigma)}$ \\\n",
    "$\\delta v_\\alpha = \\frac{\\hbar}{m i } \\frac{-1}{2}\\overbar{\\Psi}_0^{(\\sigma)} \\omega_{\\alpha a b}\\Gamma_{(1/2)}(M^{a b }) \\Psi_0^{(\\sigma)}$ \\\n",
    "$\\delta v_\\alpha = -\\frac{\\hbar}{2m i } \\omega_{\\alpha a b}\\overbar{\\Psi}_0^{(\\sigma)} \\Gamma_{(1/2)}(M^{a b }) \\Psi_0^{(\\sigma)}$\n",
    "$:= -\\frac{\\hbar}{2m i } \\omega_{\\alpha a b}\\Sigma^{ab}$\n",
    "\n",
    "$\\Sigma^{ab} = \\overbar{\\Psi}_0^{(\\sigma)} \\Gamma_{(1/2)}(M^{a b }) \\Psi_0^{(\\sigma)} =  \\frac{1}{4}\\overbar{\\Psi}_0^{(\\sigma)} \\left[ \\gamma^a, \\gamma^b\\right]\\Psi_0^{(\\sigma)}$"
   ]
  },
  {
   "cell_type": "code",
   "execution_count": 5,
   "metadata": {},
   "outputs": [],
   "source": [
    "def commutator(a,b):\n",
    "    return mgamma(a)@mgamma(b) - mgamma(b)@mgamma(a)\n",
    "\n",
    "def Sigma(a,b):\n",
    "    #psi = Matrix([[cos(theta/2),exp(I*phi)*sin(theta/2),0,0]])\n",
    "    psi = Matrix([[1,0,0,0]])\n",
    "    #psi = Matrix([[0,1,0,0]])\n",
    "    #psi = Matrix([[1/sqrt(2), I*1/sqrt(2),0,0]])\n",
    "    return conjugate(psi)@mgamma(0)@commutator(a,b)@psi.T/4\n",
    "\n",
    "def Sigma_as_Matrix():\n",
    "    s = zeros(4)\n",
    "    for i in range(4):\n",
    "        for j in range(4):\n",
    "            s[i,j] = Sigma(i,j)\n",
    "    return s\n",
    "\n",
    "\n",
    "Sigma_ab = Sigma_as_Matrix()\n"
   ]
  },
  {
   "cell_type": "code",
   "execution_count": 6,
   "metadata": {},
   "outputs": [
    {
     "data": {
      "text/latex": [
       "$\\displaystyle \\left[\\begin{matrix}0 & 0 & 0 & 0\\\\0 & 0 & - \\frac{i}{2} & 0\\\\0 & \\frac{i}{2} & 0 & 0\\\\0 & 0 & 0 & 0\\end{matrix}\\right]$"
      ],
      "text/plain": [
       "⎡0  0   0   0⎤\n",
       "⎢            ⎥\n",
       "⎢      -ⅈ    ⎥\n",
       "⎢0  0  ───  0⎥\n",
       "⎢       2    ⎥\n",
       "⎢            ⎥\n",
       "⎢   ⅈ        ⎥\n",
       "⎢0  ─   0   0⎥\n",
       "⎢   2        ⎥\n",
       "⎢            ⎥\n",
       "⎣0  0   0   0⎦"
      ]
     },
     "execution_count": 6,
     "metadata": {},
     "output_type": "execute_result"
    }
   ],
   "source": [
    "Sigma_ab"
   ]
  },
  {
   "cell_type": "code",
   "execution_count": 7,
   "metadata": {},
   "outputs": [
    {
     "data": {
      "text/latex": [
       "$\\displaystyle \\left[\\begin{matrix}\\left[\\begin{matrix}0 & \\frac{r_{s}}{2 r \\left(r - r_{s}\\right)} & 0 & 0\\\\\\frac{r_{s}}{2 r \\left(r - r_{s}\\right)} & 0 & 0 & 0\\\\0 & 0 & 0 & 0\\\\0 & 0 & 0 & 0\\end{matrix}\\right] & \\left[\\begin{matrix}\\frac{r_{s} \\left(r - r_{s}\\right)}{2 r^{3}} & 0 & 0 & 0\\\\0 & - \\frac{r_{s}}{2 r \\left(r - r_{s}\\right)} & 0 & 0\\\\0 & 0 & - r + r_{s} & 0\\\\0 & 0 & 0 & \\left(- r + r_{s}\\right) \\sin^{2}{\\left(\\theta \\right)}\\end{matrix}\\right] & \\left[\\begin{matrix}0 & 0 & 0 & 0\\\\0 & 0 & \\frac{1}{r} & 0\\\\0 & \\frac{1}{r} & 0 & 0\\\\0 & 0 & 0 & - \\frac{\\sin{\\left(2 \\theta \\right)}}{2}\\end{matrix}\\right] & \\left[\\begin{matrix}0 & 0 & 0 & 0\\\\0 & 0 & 0 & \\frac{1}{r}\\\\0 & 0 & 0 & \\frac{1}{\\tan{\\left(\\theta \\right)}}\\\\0 & \\frac{1}{r} & \\frac{1}{\\tan{\\left(\\theta \\right)}} & 0\\end{matrix}\\right]\\end{matrix}\\right]$"
      ],
      "text/plain": [
       "⎡                                    ⎡rₛ⋅(r - rₛ)                             \n",
       "⎢⎡                   rₛ           ⎤  ⎢───────────       0           0         \n",
       "⎢⎢     0        ────────────  0  0⎥  ⎢       3                                \n",
       "⎢⎢              2⋅r⋅(r - rₛ)      ⎥  ⎢    2⋅r                                 \n",
       "⎢⎢                                ⎥  ⎢                                        \n",
       "⎢⎢     rₛ                         ⎥  ⎢                 -rₛ                    \n",
       "⎢⎢────────────       0        0  0⎥  ⎢     0       ────────────     0         \n",
       "⎢⎢2⋅r⋅(r - rₛ)                    ⎥  ⎢             2⋅r⋅(r - rₛ)               \n",
       "⎢⎢                                ⎥  ⎢                                        \n",
       "⎢⎢     0             0        0  0⎥  ⎢     0            0        -r + rₛ      \n",
       "⎢⎢                                ⎥  ⎢                                        \n",
       "⎢⎣     0             0        0  0⎦  ⎢                                        \n",
       "⎣                                    ⎣     0            0           0     (-r \n",
       "\n",
       "             ⎤  ⎡0  0  0      0     ⎤  ⎡0  0    0       0   ⎤⎤\n",
       "    0        ⎥  ⎢                   ⎥  ⎢                    ⎥⎥\n",
       "             ⎥  ⎢      1            ⎥  ⎢                1   ⎥⎥\n",
       "             ⎥  ⎢0  0  ─      0     ⎥  ⎢0  0    0       ─   ⎥⎥\n",
       "             ⎥  ⎢      r            ⎥  ⎢                r   ⎥⎥\n",
       "             ⎥  ⎢                   ⎥  ⎢                    ⎥⎥\n",
       "    0        ⎥  ⎢   1               ⎥  ⎢                1   ⎥⎥\n",
       "             ⎥  ⎢0  ─  0      0     ⎥  ⎢0  0    0     ──────⎥⎥\n",
       "             ⎥  ⎢   r               ⎥  ⎢              tan(θ)⎥⎥\n",
       "    0        ⎥  ⎢                   ⎥  ⎢                    ⎥⎥\n",
       "             ⎥  ⎢         -sin(2⋅θ) ⎥  ⎢   1    1           ⎥⎥\n",
       "         2   ⎥  ⎢0  0  0  ──────────⎥  ⎢0  ─  ──────    0   ⎥⎥\n",
       "+ rₛ)⋅sin (θ)⎦  ⎣             2     ⎦  ⎣   r  tan(θ)        ⎦⎦"
      ]
     },
     "execution_count": 7,
     "metadata": {},
     "output_type": "execute_result"
    }
   ],
   "source": [
    "\n",
    "m = Schwarzschild()\n",
    "g_ = MetricTensor(g.tolist(),syms=[t,r,theta,phi], config='ll', name=\"ss-metric\") #change signature\n",
    "ch = ChristoffelSymbols.from_metric(g_)\n",
    "ch = ch.change_config(\"ull\")\n",
    "simplify(ch.tensor())"
   ]
  },
  {
   "cell_type": "code",
   "execution_count": 8,
   "metadata": {},
   "outputs": [
    {
     "data": {
      "text/latex": [
       "$\\displaystyle \\left[\\begin{matrix}u_{t} & u_{r} & u_{\\theta} & u_{\\phi}\\end{matrix}\\right]$"
      ],
      "text/plain": [
       "[uₜ  uᵣ  u_\\theta  u_\\phi]"
      ]
     },
     "execution_count": 8,
     "metadata": {},
     "output_type": "execute_result"
    }
   ],
   "source": [
    "u = GenericVector([u_t, u_r, u_theta, u_phi],syms=[t,r,theta,phi], config='u', name=\"velocity\", parent_metric=g_)\n",
    "u.tensor()"
   ]
  },
  {
   "cell_type": "code",
   "execution_count": 9,
   "metadata": {},
   "outputs": [
    {
     "name": "stdout",
     "output_type": "stream",
     "text": [
      "[-r_s*u_r*u_t/(r*(r - r_s)), (2*r**3*(r - r_s)**2*(u_\\phi**2*sin(theta)**2 + u_\\theta**2) + r**2*r_s*u_r**2 - r_s*u_t**2*(r - r_s)**2)/(2*r**3*(r - r_s)), u_\\phi**2*sin(2*theta)/2 - 2*u_\\theta*u_r/r, -2*u_\\phi*(r*u_\\theta/tan(theta) + u_r)/r]\n"
     ]
    }
   ],
   "source": [
    "du_dtau =  tensor_product(tensor_product(ch.change_config('ull'),u.change_config('u'), 1,0), u.change_config('u'),1,0)\n",
    "print(simplify(du_dtau.tensor()*(-1)))"
   ]
  },
  {
   "attachments": {},
   "cell_type": "markdown",
   "metadata": {},
   "source": [
    "$\\omega_{\\mu a b} = e_a^{\\ \\ \\  \\nu}\\Gamma^\\alpha_{\\ \\ \\ \\nu \\mu}e_\\alpha^{\\ \\  \\ c}\\eta_{b c}      - \\eta_{b c} e_a^{\\  \\ \\ \\alpha} \\partial_\\mu (e_\\alpha^{\\ \\ \\ \\ c})$ "
   ]
  },
  {
   "cell_type": "code",
   "execution_count": 73,
   "metadata": {},
   "outputs": [
    {
     "data": {
      "text/latex": [
       "$\\displaystyle \\left[\\begin{matrix}\\left[\\begin{matrix}0 & \\frac{r_{s}}{2 r^{2}} & 0 & 0\\\\- \\frac{r_{s}}{2 r^{2}} & 0 & 0 & 0\\\\0 & 0 & 0 & 0\\\\0 & 0 & 0 & 0\\end{matrix}\\right] & \\left[\\begin{matrix}0 & 0 & 0 & 0\\\\0 & 0 & 0 & 0\\\\0 & 0 & 0 & 0\\\\0 & 0 & 0 & 0\\end{matrix}\\right] & \\left[\\begin{matrix}0 & 0 & 0 & 0\\\\0 & 0 & \\sqrt{\\frac{r - r_{s}}{r}} & 0\\\\0 & - \\sqrt{\\frac{r - r_{s}}{r}} & 0 & 0\\\\0 & 0 & 0 & 0\\end{matrix}\\right] & \\left[\\begin{matrix}0 & 0 & 0 & 0\\\\0 & 0 & 0 & \\sqrt{\\frac{r - r_{s}}{r}} \\sin{\\left(\\theta \\right)}\\\\0 & 0 & 0 & \\cos{\\left(\\theta \\right)}\\\\0 & - \\sqrt{\\frac{r - r_{s}}{r}} \\sin{\\left(\\theta \\right)} & - \\cos{\\left(\\theta \\right)} & 0\\end{matrix}\\right]\\end{matrix}\\right]$"
      ],
      "text/plain": [
       "⎡⎡       rₛ       ⎤                ⎡0        0             0        0⎤  ⎡0    \n",
       "⎢⎢ 0    ────  0  0⎥                ⎢                                 ⎥  ⎢     \n",
       "⎢⎢         2      ⎥                ⎢                      ________   ⎥  ⎢     \n",
       "⎢⎢      2⋅r       ⎥  ⎡0  0  0  0⎤  ⎢                     ╱ r - rₛ    ⎥  ⎢     \n",
       "⎢⎢                ⎥  ⎢          ⎥  ⎢0        0          ╱  ──────   0⎥  ⎢0    \n",
       "⎢⎢-rₛ             ⎥  ⎢0  0  0  0⎥  ⎢                  ╲╱     r       ⎥  ⎢     \n",
       "⎢⎢────   0    0  0⎥  ⎢          ⎥  ⎢                                 ⎥  ⎢     \n",
       "⎢⎢   2            ⎥  ⎢0  0  0  0⎥  ⎢        ________                 ⎥  ⎢0    \n",
       "⎢⎢2⋅r             ⎥  ⎢          ⎥  ⎢       ╱ r - rₛ                  ⎥  ⎢     \n",
       "⎢⎢                ⎥  ⎣0  0  0  0⎦  ⎢0  -  ╱  ──────        0        0⎥  ⎢     \n",
       "⎢⎢ 0     0    0  0⎥                ⎢    ╲╱     r                     ⎥  ⎢     \n",
       "⎢⎢                ⎥                ⎢                                 ⎥  ⎢0  - \n",
       "⎣⎣ 0     0    0  0⎦                ⎣0        0             0        0⎦  ⎣    ╲\n",
       "\n",
       "       0               0              0         ⎤⎤\n",
       "                                                ⎥⎥\n",
       "                                 ________       ⎥⎥\n",
       "                                ╱ r - rₛ        ⎥⎥\n",
       "       0               0       ╱  ────── ⋅sin(θ)⎥⎥\n",
       "                             ╲╱     r           ⎥⎥\n",
       "                                                ⎥⎥\n",
       "       0               0           cos(θ)       ⎥⎥\n",
       "                                                ⎥⎥\n",
       "   ________                                     ⎥⎥\n",
       "  ╱ r - rₛ                                      ⎥⎥\n",
       " ╱  ────── ⋅sin(θ)  -cos(θ)           0         ⎥⎥\n",
       "╱     r                                         ⎦⎦"
      ]
     },
     "execution_count": 73,
     "metadata": {},
     "output_type": "execute_result"
    }
   ],
   "source": [
    "firstpart = tensorcontraction(tensorproduct(tensorcontraction(tensorproduct(tensorcontraction(tensorproduct(ch.tensor(),e_inv),(1,4)),e),(0,3)),eta),(2,4))\n",
    "\n",
    "innerpart_2 = tensorcontraction(tensorproduct(Array([e.diff(t).tolist(),e.diff(r).tolist(),e.diff(theta).tolist(),e.diff(phi).tolist()]),e_inv,),(1,4))\n",
    "secondpart = tensorcontraction(tensorproduct(innerpart_2,eta, ),(1,4))\n",
    "w = firstpart - secondpart\n",
    "simplify(w) \n",
    "\n",
    "\n",
    "#firstpart\n"
   ]
  },
  {
   "cell_type": "code",
   "execution_count": 74,
   "metadata": {},
   "outputs": [
    {
     "data": {
      "text/latex": [
       "$\\displaystyle \\left[\\begin{matrix}0 & \\frac{\\hbar \\left(r - r_{s}\\right) \\cos{\\left(\\theta \\right)}}{4 m r} & \\frac{\\hbar \\left(- 2 r^{2} \\sqrt{1 - \\frac{r_{s}}{r}} \\sin{\\left(\\theta \\right)} - 2 r^{2} \\sqrt{1 - \\frac{r_{s}}{r}} + r_{s}\\right)}{8 m r^{4}} & 0\\end{matrix}\\right]$"
      ],
      "text/plain": [
       "⎡                        ⎛           ________                   ________     ⎞\n",
       "⎢                        ⎜     2    ╱     rₛ              2    ╱     rₛ      ⎟\n",
       "⎢                      h̅⋅⎜- 2⋅r ⋅  ╱  1 - ── ⋅sin(θ) - 2⋅r ⋅  ╱  1 - ──  + rₛ\n",
       "⎢   h̅⋅(r - rₛ)⋅cos(θ)    ⎝       ╲╱       r                 ╲╱       r       \n",
       "⎢0  ─────────────────  ───────────────────────────────────────────────────────\n",
       "⎢         4⋅m⋅r                                      4                        \n",
       "⎣                                               8⋅m⋅r                         \n",
       "\n",
       "   ⎤\n",
       "   ⎥\n",
       "⎟   ⎥\n",
       "⎠   ⎥\n",
       "  0⎥\n",
       "   ⎥\n",
       "   ⎦"
      ]
     },
     "execution_count": 74,
     "metadata": {},
     "output_type": "execute_result"
    }
   ],
   "source": [
    "omega_sigma = tensorcontraction(tensorcontraction(tensorproduct(w, Sigma_ab),(1,0)),(1,0))\n",
    "dv = GenericVector(omega_sigma*hbar/(-2*m_*I),syms=[t,r,theta,phi], config='l', name=\"dv\", parent_metric=g_)\n",
    "dv = dv.change_config('u')\n",
    "simplify(dv.tensor())"
   ]
  },
  {
   "cell_type": "code",
   "execution_count": 75,
   "metadata": {},
   "outputs": [
    {
     "name": "stdout",
     "output_type": "stream",
     "text": [
      "[0, hbar*(r - r_s)*cos(theta)/(4*m*r), hbar*(-2*r**2*sqrt(1 - r_s/r)*sin(theta) - 2*r**2*sqrt(1 - r_s/r) + r_s)/(8*m*r**4), 0]\n"
     ]
    }
   ],
   "source": [
    "print(dv.tensor())"
   ]
  },
  {
   "cell_type": "code",
   "execution_count": 42,
   "metadata": {},
   "outputs": [
    {
     "name": "stdout",
     "output_type": "stream",
     "text": [
      "(r**3*(r - r_s)*(u_\\phi**2*sin(theta)**2 + u_\\theta**2) + r**2*u_r**2 - u_t**2*(r - r_s)**2)/(r*(r - r_s))\n"
     ]
    }
   ],
   "source": [
    "u_2 = tensor_product(u,u.change_config('l'), 0,0)\n",
    "\n",
    "print(u_2.tensor())\n"
   ]
  },
  {
   "cell_type": "code",
   "execution_count": 43,
   "metadata": {},
   "outputs": [
    {
     "name": "stdout",
     "output_type": "stream",
     "text": [
      "[-sqrt(r*(c**2*r - c**2*r_s + r**3*u_\\phi**2*sin(theta)**2 + r**3*u_\\theta**2 - r**2*r_s*u_\\phi**2*sin(theta)**2 - r**2*r_s*u_\\theta**2 + r*u_r**2))/(r - r_s), sqrt(r*(c**2*r - c**2*r_s + r**3*u_\\phi**2*sin(theta)**2 + r**3*u_\\theta**2 - r**2*r_s*u_\\phi**2*sin(theta)**2 - r**2*r_s*u_\\theta**2 + r*u_r**2))/(r - r_s)]\n"
     ]
    }
   ],
   "source": [
    "u_2_expr = (r**3*(r - r_s)*(u_phi**2*sin(theta)**2 + u_theta**2) + r**2*u_r**2 - u_t**2*(r - r_s)**2)/(r*(r - r_s))\n",
    "\n",
    "print(solve(u_2_expr + c**2, u_t))"
   ]
  },
  {
   "cell_type": "code",
   "execution_count": 35,
   "metadata": {},
   "outputs": [
    {
     "ename": "NameError",
     "evalue": "name 'sigma' is not defined",
     "output_type": "error",
     "traceback": [
      "\u001b[0;31m---------------------------------------------------------------------------\u001b[0m",
      "\u001b[0;31mNameError\u001b[0m                                 Traceback (most recent call last)",
      "Cell \u001b[0;32mIn[35], line 2\u001b[0m\n\u001b[1;32m      1\u001b[0m rieman \u001b[39m=\u001b[39m RiemannCurvatureTensor\u001b[39m.\u001b[39mfrom_metric(g_)\n\u001b[0;32m----> 2\u001b[0m sig \u001b[39m=\u001b[39m BaseRelativityTensor(sigma,syms\u001b[39m=\u001b[39m[t,r,theta,phi], config\u001b[39m=\u001b[39m\u001b[39m\"\u001b[39m\u001b[39muu\u001b[39m\u001b[39m\"\u001b[39m, name\u001b[39m=\u001b[39m\u001b[39m\"\u001b[39m\u001b[39msigma\u001b[39m\u001b[39m\"\u001b[39m, parent_metric\u001b[39m=\u001b[39mm)\n\u001b[1;32m      3\u001b[0m sig\u001b[39m.\u001b[39mtensor()\n",
      "\u001b[0;31mNameError\u001b[0m: name 'sigma' is not defined"
     ]
    }
   ],
   "source": [
    "rieman = RiemannCurvatureTensor.from_metric(g_)\n",
    "sig = BaseRelativityTensor(sigma,syms=[t,r,theta,phi], config=\"uu\", name=\"sigma\", parent_metric=m)\n",
    "sig.tensor()"
   ]
  },
  {
   "cell_type": "code",
   "execution_count": 84,
   "metadata": {},
   "outputs": [],
   "source": [
    "\n",
    "contraction = tensorcontraction(tensor_product(tensor_product(rieman.change_config(\"llll\"),u, 1,0),sig,1,0,).tensor(),(1,2))\n",
    "#contraction.tensor()"
   ]
  },
  {
   "cell_type": "code",
   "execution_count": 85,
   "metadata": {},
   "outputs": [],
   "source": [
    "a = GenericVector(contraction.subs(f,1-r_s),syms=[t,r,theta,phi], config='l', name=\"acceleration\", parent_metric=m)"
   ]
  },
  {
   "cell_type": "code",
   "execution_count": 88,
   "metadata": {},
   "outputs": [
    {
     "name": "stdout",
     "output_type": "stream",
     "text": [
      "[0, -r_s*u_\\theta*sqrt(1 - r_s)/r**2, r_s*u_r*sqrt(1 - r_s)/(r**3*(r - r_s)), 0]\n"
     ]
    }
   ],
   "source": [
    "a = a.change_config('u')\n",
    "print(a.tensor())"
   ]
  },
  {
   "cell_type": "code",
   "execution_count": 34,
   "metadata": {},
   "outputs": [
    {
     "data": {
      "image/png": "[encoded data removed]",
      "text/latex": [
       "$\\displaystyle 0.784757820998493$"
      ],
      "text/plain": [
       "0.7847578209984931"
      ]
     },
     "execution_count": 34,
     "metadata": {},
     "output_type": "execute_result"
    }
   ],
   "source": [
    "R = 6371\n",
    "l = 100\n",
    "\n",
    "x = np.sqrt(R**2 + l**2) - R\n",
    "x"
   ]
  },
  {
   "cell_type": "code",
   "execution_count": 51,
   "metadata": {},
   "outputs": [
    {
     "data": {
      "image/png": "[encoded data removed]",
      "text/latex": [
       "$\\displaystyle 10131712.2593718$"
      ],
      "text/plain": [
       "10131712.259371834"
      ]
     },
     "execution_count": 51,
     "metadata": {},
     "output_type": "execute_result"
    }
   ],
   "source": [
    "2/3 * 1E-8 / 6.58E-16"
   ]
  }
 ],
 "metadata": {
  "kernelspec": {
   "display_name": "Python 3",
   "language": "python",
   "name": "python3"
  },
  "language_info": {
   "codemirror_mode": {
    "name": "ipython",
    "version": 3
   },
   "file_extension": ".py",
   "mimetype": "text/x-python",
   "name": "python",
   "nbconvert_exporter": "python",
   "pygments_lexer": "ipython3",
   "version": "3.10.13"
  },
  "vscode": {
   "interpreter": {
    "hash": "d2152fd7f0bbc62aa1baff8c990435d1e2c7175d001561303988032604c11a48"
   }
  }
 },
 "nbformat": 4,
 "nbformat_minor": 2
}
