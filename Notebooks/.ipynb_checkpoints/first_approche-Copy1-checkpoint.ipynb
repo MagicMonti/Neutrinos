{
 "cells": [
  {
   "cell_type": "code",
   "execution_count": 1,
   "id": "fdecc9eb",
   "metadata": {},
   "outputs": [
    {
     "data": {
      "text/markdown": [
       "${}\\text{Property Metric attached to}\\eta_{a b}.$"
      ]
     },
     "metadata": {},
     "output_type": "display_data"
    },
    {
     "data": {
      "text/markdown": [
       "${}\\text{Property TableauSymmetry attached to}\\eta^{a b}.$"
      ]
     },
     "metadata": {},
     "output_type": "display_data"
    }
   ],
   "source": [
    "\\eta_{a b}::Metric(signature=-1);\n",
    "\\eta^{a b}::InverseMetric;"
   ]
  },
  {
   "cell_type": "code",
   "execution_count": 2,
   "id": "cda00b75",
   "metadata": {},
   "outputs": [
    {
     "data": {
      "text/markdown": [
       "${}\\text{Property Indices(position=free) attached to}\\left[a, b, c, d, e, f, h, i, j, k, l, m, n, o, p, q, r, s, t, u\\right].$"
      ]
     },
     "metadata": {},
     "output_type": "display_data"
    }
   ],
   "source": [
    "{a,b,c,d,e,f,h,i,j,k,l,m,n,o,p,q,r,s,t,u}::Indices(values={t,x,y,z});"
   ]
  },
  {
   "cell_type": "code",
   "execution_count": 3,
   "id": "4c6f3a2e",
   "metadata": {},
   "outputs": [
    {
     "data": {
      "text/markdown": [
       "${}\\text{Property KroneckerDelta attached to}\\eta_{a}\\,^{b}.$"
      ]
     },
     "metadata": {},
     "output_type": "display_data"
    }
   ],
   "source": [
    "\\eta_{a}^{b}::KroneckerDelta;"
   ]
  },
  {
   "cell_type": "code",
   "execution_count": 4,
   "id": "f2ae92a5",
   "metadata": {},
   "outputs": [
    {
     "data": {
      "text/markdown": [
       "${}\\text{Property Derivative attached to}\\nabla{\\#}.$"
      ]
     },
     "metadata": {},
     "output_type": "display_data"
    }
   ],
   "source": [
    "\\nabla{#}::Derivative;"
   ]
  },
  {
   "cell_type": "code",
   "execution_count": 5,
   "id": "490c6e73",
   "metadata": {},
   "outputs": [
    {
     "data": {
      "text/markdown": [
       "${}\\text{Property PartialDerivative attached to}\\partial{\\#}.$"
      ]
     },
     "metadata": {},
     "output_type": "display_data"
    }
   ],
   "source": [
    "\\partial{#}::PartialDerivative;"
   ]
  },
  {
   "cell_type": "code",
   "execution_count": 6,
   "id": "00cdaf87",
   "metadata": {},
   "outputs": [
    {
     "data": {
      "text/markdown": [
       "${}\\nabla_{c}{g_{a b}} \\rightarrow \\partial_{c}{g_{a b}}-g_{a d} \\Gamma^{d}\\,_{b c}-g_{d b} \\Gamma^{d}\\,_{a c}$"
      ]
     },
     "metadata": {},
     "output_type": "display_data"
    }
   ],
   "source": [
    "nabla := \\nabla_{c}{g_{a b}} -> \\partial_{c}{g_{a b}} - g_{a d}\\Gamma^{d}_{b c} - g_{d b}\\Gamma^{d}_{a c};"
   ]
  },
  {
   "cell_type": "code",
   "execution_count": 7,
   "id": "759ee7d6",
   "metadata": {},
   "outputs": [
    {
     "data": {
      "text/markdown": [
       "${}\\Gamma^{a}\\,_{b c} \\rightarrow \\frac{1}{2}g^{a d} \\left(\\partial_{b}{g_{d c}}+\\partial_{c}{g_{b d}}-\\partial_{d}{g_{b c}}\\right)$"
      ]
     },
     "metadata": {},
     "output_type": "display_data"
    }
   ],
   "source": [
    "Gamma := \\Gamma^{a}_{b c} -> (1/2) g^{a d} ( \\partial_{b}{g_{d c}} + \\partial_{c}{g_{b d}} - \\partial_{d}{g_{b c}} );"
   ]
  },
  {
   "cell_type": "code",
   "execution_count": 8,
   "id": "58308222",
   "metadata": {},
   "outputs": [
    {
     "data": {
      "text/markdown": [
       "${}\\text{Property Symmetric attached to}h_{\\left[a, b\\right]}.$"
      ]
     },
     "metadata": {},
     "output_type": "display_data"
    }
   ],
   "source": [
    "h_{a,b}::Symmetric;"
   ]
  },
  {
   "cell_type": "code",
   "execution_count": 9,
   "id": "d94e6e6f",
   "metadata": {},
   "outputs": [
    {
     "data": {
      "text/markdown": [
       "${}g_{a b} \\rightarrow \\eta_{a b}+h_{a b} exp\\left(i k_{a} x^{a}\\right)$"
      ]
     },
     "metadata": {},
     "output_type": "display_data"
    }
   ],
   "source": [
    "g_lower:=  g_{a b} -> \\eta_{a b} + h_{a b}*exp(i k_a * x^a);"
   ]
  },
  {
   "cell_type": "code",
   "execution_count": 10,
   "id": "df2fbc57",
   "metadata": {},
   "outputs": [
    {
     "data": {
      "text/markdown": [
       "${}g^{a b} \\rightarrow \\eta^{a b}-h^{a b} exp\\left(i k_{a} x^{a}\\right)$"
      ]
     },
     "metadata": {},
     "output_type": "display_data"
    }
   ],
   "source": [
    "g_upper:=  g^{a b} -> \\eta^{a b} - h^{a b}*exp(i k_a * x^a);"
   ]
  },
  {
   "cell_type": "code",
   "execution_count": 11,
   "id": "d156d57d",
   "metadata": {},
   "outputs": [
    {
     "data": {
      "text/markdown": [
       "${}\\partial_{b}\\left(h_{a c} exp\\left(i k_{a} x^{a}\\right)\\right)$"
      ]
     },
     "metadata": {},
     "output_type": "display_data"
    }
   ],
   "source": [
    "dh := \\partial_{b}{h_{a c}*exp(i k_a * x^a)};"
   ]
  },
  {
   "cell_type": "code",
   "execution_count": 12,
   "id": "a65c5aba",
   "metadata": {},
   "outputs": [
    {
     "data": {
      "text/markdown": [
       "${}\\partial_{b}{h_{a c}} \\rightarrow 0$"
      ]
     },
     "metadata": {},
     "output_type": "display_data"
    }
   ],
   "source": [
    "rule1 := \\partial_{b}{h_{a c}} -> 0;"
   ]
  },
  {
   "cell_type": "code",
   "execution_count": 13,
   "id": "2086c262",
   "metadata": {},
   "outputs": [
    {
     "data": {
      "text/markdown": [
       "${}\\partial_{b}{\\eta_{a c}} \\rightarrow 0$"
      ]
     },
     "metadata": {},
     "output_type": "display_data"
    }
   ],
   "source": [
    "rule2 := \\partial_{b}{\\eta_{a c}} -> 0;"
   ]
  },
  {
   "cell_type": "code",
   "execution_count": 14,
   "id": "35699348",
   "metadata": {},
   "outputs": [
    {
     "data": {
      "text/markdown": [
       "${}\\partial_{b}\\left(exp\\left(i k_{a} x^{a}\\right)\\right) \\rightarrow i k_{b} exp\\left(i k_{a} x^{a}\\right)$"
      ]
     },
     "metadata": {},
     "output_type": "display_data"
    }
   ],
   "source": [
    "rule3 := \\partial_{b}{exp(i k_a * x^a)} -> i * k_b * exp(i k_a * x^a);"
   ]
  },
  {
   "cell_type": "code",
   "execution_count": 15,
   "id": "43760b0a",
   "metadata": {},
   "outputs": [
    {
     "data": {
      "text/markdown": [
       "${}\\partial_{b}{h_{a c}} exp\\left(i k_{a} x^{a}\\right)+h_{a c} \\partial_{b}\\left(exp\\left(i k_{a} x^{a}\\right)\\right)$"
      ]
     },
     "metadata": {},
     "output_type": "display_data"
    },
    {
     "data": {
      "text/markdown": [
       "${}h_{a c} \\partial_{b}\\left(exp\\left(i k_{a} x^{a}\\right)\\right)$"
      ]
     },
     "metadata": {},
     "output_type": "display_data"
    },
    {
     "data": {
      "text/markdown": [
       "${}h_{a c} \\partial_{b}\\left(exp\\left(i k_{a} x^{a}\\right)\\right)$"
      ]
     },
     "metadata": {},
     "output_type": "display_data"
    }
   ],
   "source": [
    "product_rule(dh);\n",
    "substitute(dh, rule1);\n",
    "substitute(dh, rule2);"
   ]
  },
  {
   "cell_type": "code",
   "execution_count": 16,
   "id": "f9dfd819",
   "metadata": {},
   "outputs": [
    {
     "data": {
      "text/markdown": [
       "${}\\Gamma^{a}\\,_{b c} \\rightarrow \\frac{1}{2}\\left(\\eta^{a d}+h^{a d} exp\\left(i k^{a} x_{a}\\right)\\right) \\left(\\partial_{b}\\left(\\eta_{d c}+h_{d c} exp\\left(i k_{d} x^{d}\\right)\\right)+\\partial_{c}\\left(\\eta_{b d}+h_{b d} exp\\left(i k_{b} x^{b}\\right)\\right)-\\partial_{d}\\left(\\eta_{b c}+h_{b c} exp\\left(i k_{b} x^{b}\\right)\\right)\\right)$"
      ]
     },
     "metadata": {},
     "output_type": "display_data"
    },
    {
     "data": {
      "text/markdown": [
       "${}\\Gamma^{a}\\,_{b c} \\rightarrow \\frac{1}{2}\\left(\\eta^{a d}+h^{a d} exp\\left(i k^{a} x_{a}\\right)\\right) \\left(\\partial_{b}\\left(\\eta_{d c}+h_{d c} exp\\left(i k_{d} x^{d}\\right)\\right)+\\partial_{c}\\left(\\eta_{b d}+h_{b d} exp\\left(i k_{b} x^{b}\\right)\\right)-\\partial_{d}\\left(\\eta_{b c}+h_{b c} exp\\left(i k_{b} x^{b}\\right)\\right)\\right)$"
      ]
     },
     "metadata": {},
     "output_type": "display_data"
    },
    {
     "data": {
      "text/markdown": [
       "${}\\Gamma^{a}\\,_{b c} \\rightarrow \\frac{1}{2}\\eta^{a d} \\partial_{b}{\\eta_{d c}}+\\frac{1}{2}\\eta^{a d} \\partial_{b}\\left(h_{d c} exp\\left(i k_{d} x^{d}\\right)\\right)+\\frac{1}{2}\\eta^{a d} \\partial_{c}{\\eta_{b d}}+\\frac{1}{2}\\eta^{a d} \\partial_{c}\\left(h_{b d} exp\\left(i k_{b} x^{b}\\right)\\right) - \\frac{1}{2}\\eta^{a d} \\partial_{d}{\\eta_{b c}} - \\frac{1}{2}\\eta^{a d} \\partial_{d}\\left(h_{b c} exp\\left(i k_{b} x^{b}\\right)\\right)+\\frac{1}{2}h^{a d} exp\\left(i k^{a} x_{a}\\right) \\partial_{b}{\\eta_{d c}}+\\frac{1}{2}h^{a d} exp\\left(i k^{a} x_{a}\\right) \\partial_{b}\\left(h_{d c} exp\\left(i k_{d} x^{d}\\right)\\right)+\\frac{1}{2}h^{a d} exp\\left(i k^{a} x_{a}\\right) \\partial_{c}{\\eta_{b d}}+\\frac{1}{2}h^{a d} exp\\left(i k^{a} x_{a}\\right) \\partial_{c}\\left(h_{b d} exp\\left(i k_{b} x^{b}\\right)\\right) - \\frac{1}{2}h^{a d} exp\\left(i k^{a} x_{a}\\right) \\partial_{d}{\\eta_{b c}} - \\frac{1}{2}h^{a d} exp\\left(i k^{a} x_{a}\\right) \\partial_{d}\\left(h_{b c} exp\\left(i k_{b} x^{b}\\right)\\right)$"
      ]
     },
     "metadata": {},
     "output_type": "display_data"
    },
    {
     "data": {
      "text/markdown": [
       "${}\\Gamma^{a}\\,_{b c} \\rightarrow \\frac{1}{2}\\eta^{a d} \\partial_{b}{\\eta_{d c}}+\\frac{1}{2}\\eta^{a d} \\left(\\partial_{b}{h_{d c}} exp\\left(i k_{d} x^{d}\\right)+h_{d c} \\partial_{b}\\left(exp\\left(i k_{d} x^{d}\\right)\\right)\\right)+\\frac{1}{2}\\eta^{a d} \\partial_{c}{\\eta_{b d}}+\\frac{1}{2}\\eta^{a d} \\left(\\partial_{c}{h_{b d}} exp\\left(i k_{b} x^{b}\\right)+h_{b d} \\partial_{c}\\left(exp\\left(i k_{b} x^{b}\\right)\\right)\\right) - \\frac{1}{2}\\eta^{a d} \\partial_{d}{\\eta_{b c}} - \\frac{1}{2}\\eta^{a d} \\left(\\partial_{d}{h_{b c}} exp\\left(i k_{b} x^{b}\\right)+h_{b c} \\partial_{d}\\left(exp\\left(i k_{b} x^{b}\\right)\\right)\\right)+\\frac{1}{2}h^{a d} exp\\left(i k^{a} x_{a}\\right) \\partial_{b}{\\eta_{d c}}+\\frac{1}{2}h^{a d} exp\\left(i k^{a} x_{a}\\right) \\left(\\partial_{b}{h_{d c}} exp\\left(i k_{d} x^{d}\\right)+h_{d c} \\partial_{b}\\left(exp\\left(i k_{d} x^{d}\\right)\\right)\\right)+\\frac{1}{2}h^{a d} exp\\left(i k^{a} x_{a}\\right) \\partial_{c}{\\eta_{b d}}+\\frac{1}{2}h^{a d} exp\\left(i k^{a} x_{a}\\right) \\left(\\partial_{c}{h_{b d}} exp\\left(i k_{b} x^{b}\\right)+h_{b d} \\partial_{c}\\left(exp\\left(i k_{b} x^{b}\\right)\\right)\\right) - \\frac{1}{2}h^{a d} exp\\left(i k^{a} x_{a}\\right) \\partial_{d}{\\eta_{b c}} - \\frac{1}{2}h^{a d} exp\\left(i k^{a} x_{a}\\right) \\left(\\partial_{d}{h_{b c}} exp\\left(i k_{b} x^{b}\\right)+h_{b c} \\partial_{d}\\left(exp\\left(i k_{b} x^{b}\\right)\\right)\\right)$"
      ]
     },
     "metadata": {},
     "output_type": "display_data"
    },
    {
     "data": {
      "text/markdown": [
       "${}\\Gamma^{a}\\,_{b c} \\rightarrow \\frac{1}{2}\\eta^{a d} \\partial_{b}{\\eta_{d c}}+\\frac{1}{2}\\eta^{a d} h_{d c} \\partial_{b}\\left(exp\\left(i k_{d} x^{d}\\right)\\right)+\\frac{1}{2}\\eta^{a d} \\partial_{c}{\\eta_{b d}}+\\frac{1}{2}\\eta^{a d} h_{b d} \\partial_{c}\\left(exp\\left(i k_{b} x^{b}\\right)\\right) - \\frac{1}{2}\\eta^{a d} \\partial_{d}{\\eta_{b c}} - \\frac{1}{2}\\eta^{a d} h_{b c} \\partial_{d}\\left(exp\\left(i k_{b} x^{b}\\right)\\right)+\\frac{1}{2}h^{a d} exp\\left(i k^{a} x_{a}\\right) \\partial_{b}{\\eta_{d c}}+\\frac{1}{2}h^{a d} exp\\left(i k^{a} x_{a}\\right) h_{d c} \\partial_{b}\\left(exp\\left(i k_{d} x^{d}\\right)\\right)+\\frac{1}{2}h^{a d} exp\\left(i k^{a} x_{a}\\right) \\partial_{c}{\\eta_{b d}}+\\frac{1}{2}h^{a d} exp\\left(i k^{a} x_{a}\\right) h_{b d} \\partial_{c}\\left(exp\\left(i k_{b} x^{b}\\right)\\right) - \\frac{1}{2}h^{a d} exp\\left(i k^{a} x_{a}\\right) \\partial_{d}{\\eta_{b c}} - \\frac{1}{2}h^{a d} exp\\left(i k^{a} x_{a}\\right) h_{b c} \\partial_{d}\\left(exp\\left(i k_{b} x^{b}\\right)\\right)$"
      ]
     },
     "metadata": {},
     "output_type": "display_data"
    },
    {
     "data": {
      "text/markdown": [
       "${}\\Gamma^{a}\\,_{b c} \\rightarrow \\frac{1}{2}\\eta^{a d} h_{d c} \\partial_{b}\\left(exp\\left(i k_{d} x^{d}\\right)\\right)+\\frac{1}{2}\\eta^{a d} h_{b d} \\partial_{c}\\left(exp\\left(i k_{b} x^{b}\\right)\\right) - \\frac{1}{2}\\eta^{a d} h_{b c} \\partial_{d}\\left(exp\\left(i k_{b} x^{b}\\right)\\right)+\\frac{1}{2}h^{a d} exp\\left(i k^{a} x_{a}\\right) h_{d c} \\partial_{b}\\left(exp\\left(i k_{d} x^{d}\\right)\\right)+\\frac{1}{2}h^{a d} exp\\left(i k^{a} x_{a}\\right) h_{b d} \\partial_{c}\\left(exp\\left(i k_{b} x^{b}\\right)\\right) - \\frac{1}{2}h^{a d} exp\\left(i k^{a} x_{a}\\right) h_{b c} \\partial_{d}\\left(exp\\left(i k_{b} x^{b}\\right)\\right)$"
      ]
     },
     "metadata": {},
     "output_type": "display_data"
    },
    {
     "data": {
      "text/markdown": [
       "${}\\Gamma^{a}\\,_{b c} \\rightarrow \\frac{1}{2}\\eta^{a d} h_{d c} i k_{b} exp\\left(i k_{d} x^{d}\\right)+\\frac{1}{2}\\eta^{a d} h_{b d} i k_{c} exp\\left(i k_{b} x^{b}\\right) - \\frac{1}{2}\\eta^{a d} h_{b c} i k_{d} exp\\left(i k_{b} x^{b}\\right)+\\frac{1}{2}h^{a d} exp\\left(i k^{a} x_{a}\\right) h_{d c} i k_{b} exp\\left(i k_{d} x^{d}\\right)+\\frac{1}{2}h^{a d} exp\\left(i k^{a} x_{a}\\right) h_{b d} i k_{c} exp\\left(i k_{b} x^{b}\\right) - \\frac{1}{2}h^{a d} exp\\left(i k^{a} x_{a}\\right) h_{b c} i k_{d} exp\\left(i k_{b} x^{b}\\right)$"
      ]
     },
     "metadata": {},
     "output_type": "display_data"
    }
   ],
   "source": [
    "substitute(Gamma, g_lower);\n",
    "substitute(Gamma, g_upper);\n",
    "distribute (Gamma);\n",
    "product_rule(Gamma);\n",
    "substitute(Gamma, rule1);\n",
    "substitute(Gamma, rule2);\n",
    "substitute(Gamma, rule3);"
   ]
  },
  {
   "cell_type": "code",
   "execution_count": 17,
   "id": "7bade49c",
   "metadata": {},
   "outputs": [
    {
     "data": {
      "text/markdown": [
       "${}h_{a b} h^{c d} \\rightarrow 0$"
      ]
     },
     "metadata": {},
     "output_type": "display_data"
    }
   ],
   "source": [
    "ngeglect_h2 := h_{a b}h^{c d} -> 0;"
   ]
  },
  {
   "cell_type": "code",
   "execution_count": 18,
   "id": "00599994",
   "metadata": {},
   "outputs": [
    {
     "data": {
      "text/markdown": [
       "${}\\Gamma^{a}\\,_{b c} \\rightarrow \\frac{1}{2}\\eta^{a d} h_{d c} i k_{b} exp\\left(i k_{d} x^{d}\\right)+\\frac{1}{2}\\eta^{a d} h_{b d} i k_{c} exp\\left(i k_{b} x^{b}\\right) - \\frac{1}{2}\\eta^{a d} h_{b c} i k_{d} exp\\left(i k_{b} x^{b}\\right)$"
      ]
     },
     "metadata": {},
     "output_type": "display_data"
    }
   ],
   "source": [
    "substitute(Gamma, ngeglect_h2);"
   ]
  },
  {
   "cell_type": "code",
   "execution_count": 19,
   "id": "3f403575",
   "metadata": {},
   "outputs": [
    {
     "data": {
      "text/markdown": [
       "${}\\Gamma^{a}\\,_{b c} \\rightarrow \\frac{1}{2}h^{a}\\,_{c} i k_{b} exp\\left(i k_{d} x^{d}\\right)+\\frac{1}{2}h_{b}\\,^{a} i k_{c} exp\\left(i k_{b} x^{b}\\right) - \\frac{1}{2}h_{b c} i k^{a} exp\\left(i k_{b} x^{b}\\right)$"
      ]
     },
     "metadata": {},
     "output_type": "display_data"
    }
   ],
   "source": [
    "eliminate_metric(Gamma);"
   ]
  },
  {
   "cell_type": "code",
   "execution_count": 20,
   "id": "584a50ef",
   "metadata": {},
   "outputs": [
    {
     "data": {
      "text/markdown": [
       "${}rule\\left(\\Gamma^{a}\\,_{b c} , i \\left( - \\frac{1}{2}h_{b c} k^{a} \\exp\\left(i k_{b} x^{b}\\right)+\\frac{1}{2}h_{b}\\,^{a} k_{c} \\exp\\left(i k_{b} x^{b}\\right)+\\frac{1}{2}h^{a}\\,_{c} k_{b} \\exp\\left(i k_{d} x^{d}\\right)\\right)\\right)$"
      ]
     },
     "metadata": {},
     "output_type": "display_data"
    }
   ],
   "source": [
    "#simplify(Gamma);"
   ]
  },
  {
   "cell_type": "code",
   "execution_count": 21,
   "id": "236e90b5",
   "metadata": {},
   "outputs": [
    {
     "data": {
      "text/markdown": [
       "${}\\text{Property Symmetric attached to}h_{a b}.$"
      ]
     },
     "metadata": {},
     "output_type": "display_data"
    }
   ],
   "source": [
    "h_{a b}::Symmetric;"
   ]
  },
  {
   "cell_type": "code",
   "execution_count": 22,
   "id": "3c3a2123",
   "metadata": {},
   "outputs": [
    {
     "data": {
      "text/markdown": [
       "${}\\left[h_{x x} = C_{11}, h_{y y} = -C_{11}, h_{x y} = C_{12}, h_{t x} = 0, h_{t y} = 0, h_{t z} = 0, h_{z t} = 0, h_{z x} = 0, h_{z y} = 0, h_{z z} = 0\\right]$"
      ]
     },
     "metadata": {},
     "output_type": "display_data"
    }
   ],
   "source": [
    "h := {h_{x x}=C_{11}, h_{y y}=-C_{11}, h_{x y}=C_{12}, h_{t x}=0, h_{t y}=0, h_{t z}=0, h_{z t}=0, h_{z x}=0, h_{z y}=0 , h_{z z}=0};"
   ]
  },
  {
   "cell_type": "code",
   "execution_count": 23,
   "id": "59668d46",
   "metadata": {},
   "outputs": [
    {
     "name": "stderr",
     "output_type": "stream",
     "text": [
      "Traceback (most recent call last):\n",
      "  File \"/usr/local/lib/python3.10/site-packages/cadabra2_jupyter/kernel.py\", line 54, in do_execute\n",
      "    self._execute_python(pycode)\n",
      "  File \"/usr/local/lib/python3.10/site-packages/cadabra2_jupyter/kernel.py\", line 108, in _execute_python\n",
      "    self._sandbox_context(pycode)\n",
      "  File \"/usr/local/lib/python3.10/site-packages/cadabra2_jupyter/context.py\", line 51, in __call__\n",
      "    exec(code, self._sandbox)\n",
      "  File \"<string>\", line 1, in <module>\n",
      "RuntimeError: Triple index t inside a single factor found.\n"
     ]
    }
   ],
   "source": [
    "evaluate(Gamma);"
   ]
  },
  {
   "cell_type": "code",
   "execution_count": 24,
   "id": "a0e57e99",
   "metadata": {},
   "outputs": [
    {
     "data": {
      "text/markdown": [
       "${}k^{a} x_{a}$"
      ]
     },
     "metadata": {},
     "output_type": "display_data"
    }
   ],
   "source": [
    "l := k^a x_a;"
   ]
  },
  {
   "cell_type": "code",
   "execution_count": 25,
   "id": "f5bb1bb5",
   "metadata": {},
   "outputs": [
    {
     "data": {
      "text/markdown": [
       "${}x_{t} k^{t}+x_{x} k^{x}+x_{y} k^{y}+x_{z} k^{z}$"
      ]
     },
     "metadata": {},
     "output_type": "display_data"
    }
   ],
   "source": [
    "evaluate(l);"
   ]
  }
 ],
 "metadata": {
  "kernelspec": {
   "display_name": "Cadabra2",
   "language": "python",
   "name": "cadabra2"
  },
  "language_info": {
   "codemirror_mode": "cadabra",
   "file_extension": ".ipynb",
   "mimetype": "text/cadabra",
   "name": "cadabra2",
   "pygments_lexer": "cadabra"
  }
 },
 "nbformat": 4,
 "nbformat_minor": 5
}
