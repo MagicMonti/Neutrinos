{
 "cells": [
  {
   "cell_type": "code",
   "execution_count": 44,
   "id": "ba3623ad",
   "metadata": {},
   "outputs": [
    {
     "data": {
      "text/markdown": [
       "${}\\text{Property Metric attached to}g_{a b}.$"
      ]
     },
     "metadata": {},
     "output_type": "display_data"
    }
   ],
   "source": [
    "g_{a b}::Metric;"
   ]
  },
  {
   "cell_type": "code",
   "execution_count": 2,
   "id": "d3ec5ae0",
   "metadata": {},
   "outputs": [
    {
     "data": {
      "text/markdown": [
       "${}\\text{Property Indices(position=free) attached to}\\left[a, b, c, d, e, f, h, i, j, k, l, m, n, o, p, q, r, s, t, u\\#\\right].$"
      ]
     },
     "metadata": {},
     "output_type": "display_data"
    }
   ],
   "source": [
    "{a,b,c,d,e,f,h,i,j,k,l,m,n,o,p,q,r,s,t,u#}::Indices;"
   ]
  },
  {
   "cell_type": "code",
   "execution_count": 43,
   "id": "0a10e7bf",
   "metadata": {},
   "outputs": [
    {
     "data": {
      "text/markdown": [
       "${}\\text{Property KroneckerDelta attached to}g_{a}\\,^{b}.$"
      ]
     },
     "metadata": {},
     "output_type": "display_data"
    }
   ],
   "source": [
    "g_{a}^{b}::KroneckerDelta;"
   ]
  },
  {
   "cell_type": "code",
   "execution_count": 4,
   "id": "b711f0fe",
   "metadata": {},
   "outputs": [
    {
     "data": {
      "text/markdown": [
       "${}\\text{Property Derivative attached to}\\nabla{\\#}.$"
      ]
     },
     "metadata": {},
     "output_type": "display_data"
    }
   ],
   "source": [
    "\\nabla{#}::Derivative;"
   ]
  },
  {
   "cell_type": "code",
   "execution_count": 5,
   "id": "9144c84d",
   "metadata": {},
   "outputs": [
    {
     "data": {
      "text/markdown": [
       "${}\\text{Property PartialDerivative attached to}\\partial{\\#}.$"
      ]
     },
     "metadata": {},
     "output_type": "display_data"
    }
   ],
   "source": [
    "\\partial{#}::PartialDerivative;"
   ]
  },
  {
   "cell_type": "code",
   "execution_count": 6,
   "id": "e09a11b5",
   "metadata": {},
   "outputs": [
    {
     "data": {
      "text/markdown": [
       "${}\\nabla_{c}{g_{a b}} \\rightarrow \\partial_{c}{g_{a b}}-g_{a d} \\Gamma^{d}\\,_{b c}-g_{d b} \\Gamma^{d}\\,_{a c}$"
      ]
     },
     "metadata": {},
     "output_type": "display_data"
    }
   ],
   "source": [
    "nabla := \\nabla_{c}{g_{a b}} -> \\partial_{c}{g_{a b}} - g_{a d}\\Gamma^{d}_{b c} - g_{d b}\\Gamma^{d}_{a c};"
   ]
  },
  {
   "cell_type": "code",
   "execution_count": 7,
   "id": "2242b7fc",
   "metadata": {},
   "outputs": [
    {
     "data": {
      "text/markdown": [
       "${}\\Gamma^{a}\\,_{b c} \\rightarrow \\frac{1}{2}g^{a d} \\left(\\partial_{b}{g_{d c}}+\\partial_{c}{g_{b d}}-\\partial_{d}{g_{b c}}\\right)$"
      ]
     },
     "metadata": {},
     "output_type": "display_data"
    }
   ],
   "source": [
    "Gamma := \\Gamma^{a}_{b c} -> (1/2) g^{a d} ( \\partial_{b}{g_{d c}} + \\partial_{c}{g_{b d}} - \\partial_{d}{g_{b c}} );"
   ]
  },
  {
   "cell_type": "code",
   "execution_count": 8,
   "id": "8a4c150e",
   "metadata": {},
   "outputs": [
    {
     "data": {
      "text/markdown": [
       "${}\\nabla_{c}{g_{a b}}$"
      ]
     },
     "metadata": {},
     "output_type": "display_data"
    }
   ],
   "source": [
    "cderiv := \\nabla_{c}{g_{a b}};"
   ]
  },
  {
   "cell_type": "code",
   "execution_count": 9,
   "id": "34a23511",
   "metadata": {},
   "outputs": [
    {
     "data": {
      "text/markdown": [
       "${}\\partial_{c}{g_{a b}}-g_{a d} \\Gamma^{d}\\,_{b c}-g_{d b} \\Gamma^{d}\\,_{a c}$"
      ]
     },
     "metadata": {},
     "output_type": "display_data"
    }
   ],
   "source": [
    "substitute (cderiv, nabla);"
   ]
  },
  {
   "cell_type": "code",
   "execution_count": 10,
   "id": "9992707a",
   "metadata": {},
   "outputs": [
    {
     "data": {
      "text/markdown": [
       "${}\\partial_{c}{g_{a b}} - \\frac{1}{2}g_{a d} g^{d e} \\left(\\partial_{b}{g_{e c}}+\\partial_{c}{g_{b e}}-\\partial_{e}{g_{b c}}\\right) - \\frac{1}{2}g_{d b} g^{d e} \\left(\\partial_{a}{g_{e c}}+\\partial_{c}{g_{a e}}-\\partial_{e}{g_{a c}}\\right)$"
      ]
     },
     "metadata": {},
     "output_type": "display_data"
    }
   ],
   "source": [
    "substitute (cderiv, Gamma);"
   ]
  },
  {
   "cell_type": "code",
   "execution_count": 11,
   "id": "20073620",
   "metadata": {},
   "outputs": [
    {
     "data": {
      "text/markdown": [
       "${}\\partial_{c}{g_{a b}} - \\frac{1}{2}g_{a d} g^{d e} \\partial_{b}{g_{e c}} - \\frac{1}{2}g_{a d} g^{d e} \\partial_{c}{g_{b e}}+\\frac{1}{2}g_{a d} g^{d e} \\partial_{e}{g_{b c}} - \\frac{1}{2}g_{d b} g^{d e} \\partial_{a}{g_{e c}} - \\frac{1}{2}g_{d b} g^{d e} \\partial_{c}{g_{a e}}+\\frac{1}{2}g_{d b} g^{d e} \\partial_{e}{g_{a c}}$"
      ]
     },
     "metadata": {},
     "output_type": "display_data"
    }
   ],
   "source": [
    "distribute (cderiv);"
   ]
  },
  {
   "cell_type": "code",
   "execution_count": 12,
   "id": "64c25f8e",
   "metadata": {},
   "outputs": [
    {
     "data": {
      "text/markdown": [
       "${}\\partial_{c}{g_{a b}} - \\frac{1}{2}g_{a}\\,^{e} \\partial_{b}{g_{e c}} - \\frac{1}{2}g_{a}\\,^{e} \\partial_{c}{g_{b e}}+\\frac{1}{2}g_{a}\\,^{e} \\partial_{e}{g_{b c}} - \\frac{1}{2}g_{b}\\,^{e} \\partial_{a}{g_{e c}} - \\frac{1}{2}g_{b}\\,^{e} \\partial_{c}{g_{a e}}+\\frac{1}{2}g_{b}\\,^{e} \\partial_{e}{g_{a c}}$"
      ]
     },
     "metadata": {},
     "output_type": "display_data"
    }
   ],
   "source": [
    "eliminate_metric (cderiv);"
   ]
  },
  {
   "cell_type": "code",
   "execution_count": 13,
   "id": "e84992f0",
   "metadata": {},
   "outputs": [
    {
     "data": {
      "text/markdown": [
       "${}\\frac{1}{2}\\partial_{c}{g_{a b}} - \\frac{1}{2}\\partial_{c}{g_{b a}}$"
      ]
     },
     "metadata": {},
     "output_type": "display_data"
    }
   ],
   "source": [
    "eliminate_kronecker (cderiv);"
   ]
  },
  {
   "cell_type": "code",
   "execution_count": 14,
   "id": "1faf09e1",
   "metadata": {},
   "outputs": [
    {
     "data": {
      "text/markdown": [
       "${}0$"
      ]
     },
     "metadata": {},
     "output_type": "display_data"
    }
   ],
   "source": [
    "canonicalise (cderiv);"
   ]
  },
  {
   "cell_type": "code",
   "execution_count": 32,
   "id": "81aa93ea",
   "metadata": {},
   "outputs": [
    {
     "data": {
      "text/markdown": [
       "${}\\text{Property Symmetric attached to}h_{\\left[a, b\\right]}.$"
      ]
     },
     "metadata": {},
     "output_type": "display_data"
    }
   ],
   "source": [
    "h_{a,b}::Symmetric;"
   ]
  },
  {
   "cell_type": "code",
   "execution_count": 34,
   "id": "797451d9",
   "metadata": {},
   "outputs": [
    {
     "data": {
      "text/markdown": [
       "${}\\text{Property Symmetric attached to}\\eta_{\\left[a, b\\right]}.$"
      ]
     },
     "metadata": {},
     "output_type": "display_data"
    }
   ],
   "source": [
    "\\eta_{a,b}::Symmetric;"
   ]
  },
  {
   "cell_type": "code",
   "execution_count": null,
   "id": "36a2a834",
   "metadata": {},
   "outputs": [],
   "source": []
  },
  {
   "cell_type": "code",
   "execution_count": 42,
   "id": "f6892e84",
   "metadata": {},
   "outputs": [
    {
     "data": {
      "text/markdown": [
       "${}g_{a b} \\rightarrow \\eta_{a b}+h_{a b} exp\\left(i k_{a} x^{a}\\right)$"
      ]
     },
     "metadata": {},
     "output_type": "display_data"
    }
   ],
   "source": [
    "g:=  g_{a b} -> \\eta_{a b} + h_{a b}*exp(i k_a * x^a);"
   ]
  },
  {
   "cell_type": "code",
   "execution_count": 16,
   "id": "3026c5ea",
   "metadata": {},
   "outputs": [
    {
     "data": {
      "text/markdown": [
       "${}\\partial_{b}\\left(h_{a c} exp\\left(i k_{a} x^{a}\\right)\\right)$"
      ]
     },
     "metadata": {},
     "output_type": "display_data"
    }
   ],
   "source": [
    "dh := \\partial_{b}{h_{a c}*exp(i k_a * x^a)};"
   ]
  },
  {
   "cell_type": "code",
   "execution_count": 23,
   "id": "69bcce39",
   "metadata": {},
   "outputs": [
    {
     "data": {
      "text/markdown": [
       "${}\\partial_{b}{h_{a c}} \\rightarrow 0$"
      ]
     },
     "metadata": {},
     "output_type": "display_data"
    }
   ],
   "source": [
    "rule1 := \\partial_{b}{h_{a c}} -> 0;"
   ]
  },
  {
   "cell_type": "code",
   "execution_count": 52,
   "id": "ea4a055d",
   "metadata": {},
   "outputs": [
    {
     "data": {
      "text/markdown": [
       "${}\\partial_{b}{\\eta_{a c}} \\rightarrow 0$"
      ]
     },
     "metadata": {},
     "output_type": "display_data"
    }
   ],
   "source": [
    "rule2 := \\partial_{b}{\\eta_{a c}} -> 0;"
   ]
  },
  {
   "cell_type": "code",
   "execution_count": 53,
   "id": "d2cd13e8",
   "metadata": {},
   "outputs": [
    {
     "data": {
      "text/markdown": [
       "${}\\partial_{b}\\left(exp\\left(i k_{a} x^{a}\\right)\\right) \\rightarrow i k_{a} exp\\left(i k_{a} x^{a}\\right)$"
      ]
     },
     "metadata": {},
     "output_type": "display_data"
    }
   ],
   "source": [
    "rule3 := \\partial_{b}{exp(i k_a * x^a)} -> i * k_a * exp(i k_a * x^a);"
   ]
  },
  {
   "cell_type": "code",
   "execution_count": 29,
   "id": "66d92a81",
   "metadata": {},
   "outputs": [
    {
     "data": {
      "text/markdown": [
       "${}h_{a c} \\partial_{b}\\left(exp\\left(i k_{a} x^{a}\\right)\\right)$"
      ]
     },
     "metadata": {},
     "output_type": "display_data"
    },
    {
     "data": {
      "text/markdown": [
       "${}h_{a c} \\partial_{b}\\left(exp\\left(i k_{a} x^{a}\\right)\\right)$"
      ]
     },
     "metadata": {},
     "output_type": "display_data"
    },
    {
     "data": {
      "text/markdown": [
       "${}h_{a c} i k_{a} exp\\left(i k_{a} x^{a}\\right)$"
      ]
     },
     "metadata": {},
     "output_type": "display_data"
    }
   ],
   "source": [
    "product_rule(dh);\n",
    "substitute(dh, rule1);\n",
    "substitute(dh, rule2);"
   ]
  },
  {
   "cell_type": "code",
   "execution_count": 46,
   "id": "43e9e244",
   "metadata": {},
   "outputs": [
    {
     "data": {
      "text/markdown": [
       "${}\\Gamma^{a}\\,_{b c} \\rightarrow \\frac{1}{2}\\left(\\eta^{a d}+h^{a d} exp\\left(i k^{a} x_{a}\\right)\\right) \\left(\\partial_{b}\\left(\\eta_{d c}+h_{d c} exp\\left(i k_{d} x^{d}\\right)\\right)+\\partial_{c}\\left(\\eta_{b d}+h_{b d} exp\\left(i k_{b} x^{b}\\right)\\right)-\\partial_{d}\\left(\\eta_{b c}+h_{b c} exp\\left(i k_{b} x^{b}\\right)\\right)\\right)$"
      ]
     },
     "metadata": {},
     "output_type": "display_data"
    }
   ],
   "source": [
    "substitute(Gamma, g);"
   ]
  },
  {
   "cell_type": "code",
   "execution_count": 48,
   "id": "833f5980",
   "metadata": {},
   "outputs": [
    {
     "data": {
      "text/markdown": [
       "${}\\Gamma^{a}\\,_{b c} \\rightarrow \\frac{1}{2}\\eta^{a d} \\partial_{b}{\\eta_{d c}}+\\frac{1}{2}\\eta^{a d} \\partial_{b}\\left(h_{d c} exp\\left(i k_{d} x^{d}\\right)\\right)+\\frac{1}{2}\\eta^{a d} \\partial_{c}{\\eta_{b d}}+\\frac{1}{2}\\eta^{a d} \\partial_{c}\\left(h_{b d} exp\\left(i k_{b} x^{b}\\right)\\right) - \\frac{1}{2}\\eta^{a d} \\partial_{d}{\\eta_{b c}} - \\frac{1}{2}\\eta^{a d} \\partial_{d}\\left(h_{b c} exp\\left(i k_{b} x^{b}\\right)\\right)+\\frac{1}{2}h^{a d} exp\\left(i k^{a} x_{a}\\right) \\partial_{b}{\\eta_{d c}}+\\frac{1}{2}h^{a d} exp\\left(i k^{a} x_{a}\\right) \\partial_{b}\\left(h_{d c} exp\\left(i k_{d} x^{d}\\right)\\right)+\\frac{1}{2}h^{a d} exp\\left(i k^{a} x_{a}\\right) \\partial_{c}{\\eta_{b d}}+\\frac{1}{2}h^{a d} exp\\left(i k^{a} x_{a}\\right) \\partial_{c}\\left(h_{b d} exp\\left(i k_{b} x^{b}\\right)\\right) - \\frac{1}{2}h^{a d} exp\\left(i k^{a} x_{a}\\right) \\partial_{d}{\\eta_{b c}} - \\frac{1}{2}h^{a d} exp\\left(i k^{a} x_{a}\\right) \\partial_{d}\\left(h_{b c} exp\\left(i k_{b} x^{b}\\right)\\right)$"
      ]
     },
     "metadata": {},
     "output_type": "display_data"
    }
   ],
   "source": [
    "distribute (Gamma);"
   ]
  },
  {
   "cell_type": "code",
   "execution_count": 55,
   "id": "fa9e2b3b",
   "metadata": {},
   "outputs": [
    {
     "data": {
      "text/markdown": [
       "${}\\Gamma^{a}\\,_{b c} \\rightarrow \\frac{1}{2}\\eta^{a d} \\partial_{b}{\\eta_{d c}}+\\frac{1}{2}\\eta^{a d} \\partial_{b}\\left(h_{d c} exp\\left(i k_{d} x^{d}\\right)\\right)+\\frac{1}{2}\\eta^{a d} \\partial_{c}{\\eta_{b d}}+\\frac{1}{2}\\eta^{a d} \\partial_{c}\\left(h_{b d} exp\\left(i k_{b} x^{b}\\right)\\right) - \\frac{1}{2}\\eta^{a d} \\partial_{d}{\\eta_{b c}} - \\frac{1}{2}\\eta^{a d} \\partial_{d}\\left(h_{b c} exp\\left(i k_{b} x^{b}\\right)\\right)+\\frac{1}{2}h^{a d} exp\\left(i k^{a} x_{a}\\right) \\partial_{b}{\\eta_{d c}}+\\frac{1}{2}h^{a d} exp\\left(i k^{a} x_{a}\\right) \\partial_{b}\\left(h_{d c} exp\\left(i k_{d} x^{d}\\right)\\right)+\\frac{1}{2}h^{a d} exp\\left(i k^{a} x_{a}\\right) \\partial_{c}{\\eta_{b d}}+\\frac{1}{2}h^{a d} exp\\left(i k^{a} x_{a}\\right) \\partial_{c}\\left(h_{b d} exp\\left(i k_{b} x^{b}\\right)\\right) - \\frac{1}{2}h^{a d} exp\\left(i k^{a} x_{a}\\right) \\partial_{d}{\\eta_{b c}} - \\frac{1}{2}h^{a d} exp\\left(i k^{a} x_{a}\\right) \\partial_{d}\\left(h_{b c} exp\\left(i k_{b} x^{b}\\right)\\right)$"
      ]
     },
     "metadata": {},
     "output_type": "display_data"
    }
   ],
   "source": [
    "substitute(Gamma, rule1);"
   ]
  },
  {
   "cell_type": "code",
   "execution_count": null,
   "id": "4c977647",
   "metadata": {},
   "outputs": [],
   "source": []
  }
 ],
 "metadata": {
  "kernelspec": {
   "display_name": "Cadabra2",
   "language": "python",
   "name": "cadabra2"
  },
  "language_info": {
   "codemirror_mode": "cadabra",
   "file_extension": ".ipynb",
   "mimetype": "text/cadabra",
   "name": "cadabra2",
   "pygments_lexer": "cadabra"
  }
 },
 "nbformat": 4,
 "nbformat_minor": 5
}
