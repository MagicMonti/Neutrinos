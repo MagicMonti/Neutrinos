{
 "cells": [
  {
   "cell_type": "code",
   "execution_count": 1,
   "id": "9d0bfa7c",
   "metadata": {},
   "outputs": [
    {
     "data": {
      "text/markdown": [
       "${}\\text{Property Indices(position=free) attached to}\\left[\\alpha, \\beta, \\delta, \\rho, \\sigma, \\tau, \\mu, \\nu, \\lambda\\right].$"
      ]
     },
     "metadata": {},
     "output_type": "display_data"
    }
   ],
   "source": [
    "{\\alpha, \\beta, \\delta, \\rho, \\sigma, \\tau, \\mu, \\nu , \\lambda}::Indices(values={t,x,y,z);"
   ]
  },
  {
   "cell_type": "code",
   "execution_count": null,
   "id": "3ba96ba0",
   "metadata": {},
   "outputs": [],
   "source": []
  },
  {
   "cell_type": "code",
   "execution_count": 2,
   "id": "31592361",
   "metadata": {},
   "outputs": [
    {
     "data": {
      "text/markdown": [
       "${}\\text{Property Metric attached to}\\eta_{\\mu \\nu}.$"
      ]
     },
     "metadata": {},
     "output_type": "display_data"
    },
    {
     "data": {
      "text/markdown": [
       "${}\\text{Property TableauSymmetry attached to}\\eta^{\\mu \\nu}.$"
      ]
     },
     "metadata": {},
     "output_type": "display_data"
    },
    {
     "data": {
      "text/markdown": [
       "${}\\left[\\eta_{t t} = -1, \\eta_{x x} = 1, \\eta_{y y} = 1, \\eta_{z z} = 1\\right]$"
      ]
     },
     "metadata": {},
     "output_type": "display_data"
    },
    {
     "data": {
      "text/markdown": [
       "${}\\left[\\eta_{t t} = -1, \\eta_{x x} = 1, \\eta_{y y} = 1, \\eta_{z z} = 1, \\eta^{t t} = -1, \\eta^{x x} = -1, \\eta^{y y} = -1, \\eta^{z z} = -1\\right]$"
      ]
     },
     "metadata": {},
     "output_type": "display_data"
    }
   ],
   "source": [
    "\\eta_{\\mu\\nu}::Metric;\n",
    "\\eta^{\\mu\\nu}::InverseMetric;\n",
    "flat:= { \\eta_{t t} = -1,   \n",
    "       \\eta_{x x} = 1, \n",
    "       \\eta_{y y} = 1, \n",
    "       \\eta_{z z} = 1};\n",
    "\n",
    "complete(flat, $\\eta^{\\mu\\nu}$);\n"
   ]
  },
  {
   "cell_type": "code",
   "execution_count": 3,
   "id": "953b05ad",
   "metadata": {},
   "outputs": [
    {
     "data": {
      "text/markdown": [
       "${}\\Gamma^{\\mu}\\,_{\\nu \\alpha} \\rightarrow \\frac{1}{2}i \\eta^{\\mu \\beta} \\left(-h_{\\nu \\alpha} k_{\\beta}+h_{\\nu \\beta} k_{\\alpha}+h_{\\beta \\alpha} k_{\\nu}\\right)$"
      ]
     },
     "metadata": {},
     "output_type": "display_data"
    }
   ],
   "source": [
    "Gamma := \\Gamma^{\\mu}_{\\nu \\alpha} -> i/2 \\eta^{\\mu \\beta}  (-h_{\\nu \\alpha} k_{\\beta}+h_{\\nu \\beta} k_{\\alpha}+h_{\\beta \\alpha} k_{\\nu})  ;"
   ]
  },
  {
   "cell_type": "code",
   "execution_count": 4,
   "id": "da767f19",
   "metadata": {},
   "outputs": [
    {
     "data": {
      "text/markdown": [
       "${}R^{\\rho}\\,_{\\sigma \\mu \\nu} \\rightarrow \\eta^{\\rho \\beta}\\left(k_{\\mu} \\left(k_{\\beta} h_{\\nu \\sigma}-h_{\\nu \\beta} k_{\\sigma}\\right)-k_{\\nu} \\left(k_{\\beta} h_{\\mu \\sigma}-h_{\\mu \\beta} k_{\\sigma}\\right)\\right)$"
      ]
     },
     "metadata": {},
     "output_type": "display_data"
    }
   ],
   "source": [
    "Riemann := R^{\\rho}_{\\sigma \\mu \\nu} -> \\eta^{\\rho \\beta}(k_\\mu (k_\\beta h_{\\nu \\sigma} - h_{\\nu \\beta}  k_\\sigma )  - k_\\nu ( k_\\beta h_{\\mu \\sigma } - h_{\\mu \\beta }  k_\\sigma )) ;"
   ]
  },
  {
   "cell_type": "code",
   "execution_count": 5,
   "id": "5a374632",
   "metadata": {},
   "outputs": [
    {
     "data": {
      "text/markdown": [
       "${}R^{\\rho}\\,_{\\sigma \\mu \\nu} \\Gamma^{\\sigma}\\,_{\\tau \\alpha}$"
      ]
     },
     "metadata": {},
     "output_type": "display_data"
    }
   ],
   "source": [
    "contraction := R^{\\rho}_{\\sigma \\mu \\nu} \\Gamma^{\\sigma}_{\\tau \\alpha};"
   ]
  },
  {
   "cell_type": "code",
   "execution_count": 6,
   "id": "85321a40",
   "metadata": {},
   "outputs": [
    {
     "data": {
      "text/markdown": [
       "${}\\frac{1}{2}R^{\\rho}\\,_{\\sigma \\mu \\nu} i \\eta^{\\sigma \\beta} \\left(-h_{\\tau \\alpha} k_{\\beta}+h_{\\tau \\beta} k_{\\alpha}+h_{\\beta \\alpha} k_{\\tau}\\right)$"
      ]
     },
     "metadata": {},
     "output_type": "display_data"
    }
   ],
   "source": [
    "substitute(contraction, Gamma);"
   ]
  },
  {
   "cell_type": "code",
   "execution_count": 7,
   "id": "e01a7aaf",
   "metadata": {},
   "outputs": [
    {
     "data": {
      "text/markdown": [
       "${}\\frac{1}{2}\\eta^{\\rho \\beta}\\left(k_{\\mu} \\left(k_{\\beta} h_{\\nu \\sigma}-h_{\\nu \\beta} k_{\\sigma}\\right)-k_{\\nu} \\left(k_{\\beta} h_{\\mu \\sigma}-h_{\\mu \\beta} k_{\\sigma}\\right)\\right) i \\eta^{\\sigma \\delta} \\left(-h_{\\tau \\alpha} k_{\\delta}+h_{\\tau \\delta} k_{\\alpha}+h_{\\delta \\alpha} k_{\\tau}\\right)$"
      ]
     },
     "metadata": {},
     "output_type": "display_data"
    }
   ],
   "source": [
    "substitute(contraction, Riemann);"
   ]
  },
  {
   "cell_type": "code",
   "execution_count": 8,
   "id": "e664ba96",
   "metadata": {},
   "outputs": [
    {
     "data": {
      "text/markdown": [
       "${}\\frac{1}{2}\\eta^{\\rho \\beta}\\left(k_{\\mu} \\left(k_{\\beta} h_{\\nu \\sigma}-h_{\\nu \\beta} k_{\\sigma}\\right)-k_{\\nu} \\left(k_{\\beta} h_{\\mu \\sigma}-h_{\\mu \\beta} k_{\\sigma}\\right)\\right) i \\eta^{\\sigma \\delta} \\left(-h_{\\tau \\alpha} k_{\\delta}+h_{\\tau \\delta} k_{\\alpha}+h_{\\delta \\alpha} k_{\\tau}\\right)$"
      ]
     },
     "metadata": {},
     "output_type": "display_data"
    },
    {
     "data": {
      "text/markdown": [
       "${}\\frac{1}{2}\\eta^{\\rho \\beta}\\left(k_{\\mu} \\left(k_{\\beta} h_{\\nu \\sigma}-h_{\\nu \\beta} k_{\\sigma}\\right)-k_{\\nu} \\left(k_{\\beta} h_{\\mu \\sigma}-h_{\\mu \\beta} k_{\\sigma}\\right)\\right) i \\eta^{\\sigma \\delta} \\left(-h_{\\tau \\alpha} k_{\\delta}+h_{\\tau \\delta} k_{\\alpha}+h_{\\delta \\alpha} k_{\\tau}\\right)$"
      ]
     },
     "metadata": {},
     "output_type": "display_data"
    }
   ],
   "source": [
    "canonicalise(_);\n",
    "collect_factors(_);"
   ]
  },
  {
   "cell_type": "code",
   "execution_count": 9,
   "id": "458e6536",
   "metadata": {},
   "outputs": [
    {
     "data": {
      "text/markdown": [
       "${}k^{\\mu} k_{\\mu} \\rightarrow 0$"
      ]
     },
     "metadata": {},
     "output_type": "display_data"
    }
   ],
   "source": [
    "k := k^\\mu k_\\mu -> 0;"
   ]
  },
  {
   "cell_type": "code",
   "execution_count": 10,
   "id": "5b0f1c36",
   "metadata": {},
   "outputs": [
    {
     "data": {
      "text/markdown": [
       "${}k_{t} k^{t}+k_{x} k^{x}+k_{y} k^{y}+k_{z} k^{z} \\rightarrow 0$"
      ]
     },
     "metadata": {},
     "output_type": "display_data"
    }
   ],
   "source": [
    "evaluate(k);"
   ]
  },
  {
   "cell_type": "code",
   "execution_count": 11,
   "id": "58c6560e",
   "metadata": {},
   "outputs": [
    {
     "data": {
      "text/markdown": [
       "${} - \\frac{1}{2}\\eta^{\\rho \\beta}\\left(k_{\\mu} k_{\\beta} h_{\\nu \\sigma}-k_{\\mu} h_{\\nu \\beta} k_{\\sigma}-k_{\\nu} k_{\\beta} h_{\\mu \\sigma}+k_{\\nu} h_{\\mu \\beta} k_{\\sigma}\\right) i \\eta^{\\sigma \\delta} h_{\\tau \\alpha} k_{\\delta}+\\frac{1}{2}\\eta^{\\rho \\beta}\\left(k_{\\mu} k_{\\beta} h_{\\nu \\sigma}-k_{\\mu} h_{\\nu \\beta} k_{\\sigma}-k_{\\nu} k_{\\beta} h_{\\mu \\sigma}+k_{\\nu} h_{\\mu \\beta} k_{\\sigma}\\right) i \\eta^{\\sigma \\delta} h_{\\tau \\delta} k_{\\alpha}+\\frac{1}{2}\\eta^{\\rho \\beta}\\left(k_{\\mu} k_{\\beta} h_{\\nu \\sigma}-k_{\\mu} h_{\\nu \\beta} k_{\\sigma}-k_{\\nu} k_{\\beta} h_{\\mu \\sigma}+k_{\\nu} h_{\\mu \\beta} k_{\\sigma}\\right) i \\eta^{\\sigma \\delta} h_{\\delta \\alpha} k_{\\tau}$"
      ]
     },
     "metadata": {},
     "output_type": "display_data"
    }
   ],
   "source": [
    "distribute(contraction);"
   ]
  },
  {
   "cell_type": "code",
   "execution_count": 12,
   "id": "d24ad52b",
   "metadata": {},
   "outputs": [
    {
     "data": {
      "text/markdown": [
       "${} - \\frac{1}{2}\\eta^{\\rho \\beta}\\left(k_{\\mu} k_{\\beta} h_{\\nu \\sigma}-k_{\\mu} h_{\\nu \\beta} k_{\\sigma}-k_{\\nu} k_{\\beta} h_{\\mu \\sigma}+k_{\\nu} h_{\\mu \\beta} k_{\\sigma}\\right) i h_{\\tau \\alpha} k^{\\sigma}+\\frac{1}{2}\\eta^{\\rho \\beta}\\left(k_{\\mu} k_{\\beta} h_{\\nu \\sigma}-k_{\\mu} h_{\\nu \\beta} k_{\\sigma}-k_{\\nu} k_{\\beta} h_{\\mu \\sigma}+k_{\\nu} h_{\\mu \\beta} k_{\\sigma}\\right) i h_{\\tau}\\,^{\\sigma} k_{\\alpha}+\\frac{1}{2}\\eta^{\\rho \\beta}\\left(k_{\\mu} k_{\\beta} h_{\\nu \\sigma}-k_{\\mu} h_{\\nu \\beta} k_{\\sigma}-k_{\\nu} k_{\\beta} h_{\\mu \\sigma}+k_{\\nu} h_{\\mu \\beta} k_{\\sigma}\\right) i h^{\\sigma}\\,_{\\alpha} k_{\\tau}$"
      ]
     },
     "metadata": {},
     "output_type": "display_data"
    }
   ],
   "source": [
    "eliminate_metric(contraction);"
   ]
  },
  {
   "cell_type": "code",
   "execution_count": 13,
   "id": "8ccb36a5",
   "metadata": {},
   "outputs": [
    {
     "data": {
      "text/markdown": [
       "${} - \\frac{1}{2}\\eta^{\\rho \\beta}\\left(k_{\\mu} k_{\\beta} h_{\\nu \\sigma}-k_{\\mu} h_{\\nu \\beta} k_{\\sigma}-k_{\\nu} k_{\\beta} h_{\\mu \\sigma}+k_{\\nu} h_{\\mu \\beta} k_{\\sigma}\\right) i h_{\\tau \\alpha} k^{\\sigma}+\\frac{1}{2}\\eta^{\\rho \\beta}\\left(k_{\\mu} k_{\\beta} h_{\\nu \\sigma}-k_{\\mu} h_{\\nu \\beta} k_{\\sigma}-k_{\\nu} k_{\\beta} h_{\\mu \\sigma}+k_{\\nu} h_{\\mu \\beta} k_{\\sigma}\\right) i h_{\\tau}\\,^{\\sigma} k_{\\alpha}+\\frac{1}{2}\\eta^{\\rho \\beta}\\left(k_{\\mu} k_{\\beta} h_{\\nu \\sigma}-k_{\\mu} h_{\\nu \\beta} k_{\\sigma}-k_{\\nu} k_{\\beta} h_{\\mu \\sigma}+k_{\\nu} h_{\\mu \\beta} k_{\\sigma}\\right) i h^{\\sigma}\\,_{\\alpha} k_{\\tau}$"
      ]
     },
     "metadata": {},
     "output_type": "display_data"
    }
   ],
   "source": [
    "eliminate_metric(contraction);"
   ]
  },
  {
   "cell_type": "code",
   "execution_count": 14,
   "id": "2200643c",
   "metadata": {},
   "outputs": [
    {
     "data": {
      "text/markdown": [
       "${} - \\frac{1}{2}\\eta^{\\rho \\beta}\\left(k_{\\mu} k_{\\beta} h_{\\nu \\sigma}-k_{\\mu} h_{\\nu \\beta} k_{\\sigma}-k_{\\nu} k_{\\beta} h_{\\mu \\sigma}+k_{\\nu} h_{\\mu \\beta} k_{\\sigma}\\right) i h_{\\tau \\alpha} k^{\\sigma}+\\frac{1}{2}\\eta^{\\rho \\beta}\\left(k_{\\mu} k_{\\beta} h_{\\nu \\sigma}-k_{\\mu} h_{\\nu \\beta} k_{\\sigma}-k_{\\nu} k_{\\beta} h_{\\mu \\sigma}+k_{\\nu} h_{\\mu \\beta} k_{\\sigma}\\right) i h_{\\tau}\\,^{\\sigma} k_{\\alpha}+\\frac{1}{2}\\eta^{\\rho \\beta}\\left(k_{\\mu} k_{\\beta} h_{\\nu \\sigma}-k_{\\mu} h_{\\nu \\beta} k_{\\sigma}-k_{\\nu} k_{\\beta} h_{\\mu \\sigma}+k_{\\nu} h_{\\mu \\beta} k_{\\sigma}\\right) i h^{\\sigma}\\,_{\\alpha} k_{\\tau}$"
      ]
     },
     "metadata": {},
     "output_type": "display_data"
    }
   ],
   "source": [
    "distribute(contraction);"
   ]
  }
 ],
 "metadata": {
  "kernelspec": {
   "display_name": "Cadabra2",
   "language": "python",
   "name": "cadabra2"
  },
  "language_info": {
   "codemirror_mode": "cadabra",
   "file_extension": ".ipynb",
   "mimetype": "text/cadabra",
   "name": "cadabra2",
   "pygments_lexer": "cadabra"
  }
 },
 "nbformat": 4,
 "nbformat_minor": 5
}
